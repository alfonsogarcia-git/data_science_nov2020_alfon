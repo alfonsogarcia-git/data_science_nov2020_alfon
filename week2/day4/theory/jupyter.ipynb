version https://git-lfs.github.com/spec/v1
oid sha256:f7ccf383dc0ba5cbdf64017b8c23f3640e7c852ec098ab0364fa51f7d034e89f
size 1259

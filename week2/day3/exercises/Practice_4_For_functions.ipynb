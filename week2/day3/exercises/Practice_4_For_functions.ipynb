version https://git-lfs.github.com/spec/v1
oid sha256:3de85f98da3b2e2514fa91ccf95141adc5965d77eff673fdf82d3c5ffcfb3a48
size 49952

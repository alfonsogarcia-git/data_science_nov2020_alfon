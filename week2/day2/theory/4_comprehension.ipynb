version https://git-lfs.github.com/spec/v1
oid sha256:ce0b9f24319f4f54e2c7bea09b182d2d5184da80c829c14b69bf190506e94b1d
size 11398

version https://git-lfs.github.com/spec/v1
oid sha256:ab8f0cfb24fa847abd21965841bf3a79417f141a2ba55869e42b500d81949fd4
size 20549

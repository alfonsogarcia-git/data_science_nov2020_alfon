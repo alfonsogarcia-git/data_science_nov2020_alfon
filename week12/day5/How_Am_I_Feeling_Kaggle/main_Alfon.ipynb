{
 "metadata": {
  "language_info": {
   "codemirror_mode": {
    "name": "ipython",
    "version": 3
   },
   "file_extension": ".py",
   "mimetype": "text/x-python",
   "name": "python",
   "nbconvert_exporter": "python",
   "pygments_lexer": "ipython3",
   "version": "3.8.0-final"
  },
  "orig_nbformat": 2,
  "kernelspec": {
   "name": "python3",
   "display_name": "Python 3.8.0 64-bit",
   "metadata": {
    "interpreter": {
     "hash": "aee8b7b246df8f9039afb4144a1f6fd8d2ca17a180786b69acc140d282b71a49"
    }
   }
  }
 },
 "nbformat": 4,
 "nbformat_minor": 2,
 "cells": [
  {
   "cell_type": "code",
   "execution_count": 49,
   "metadata": {},
   "outputs": [],
   "source": [
    "import pandas as pd \n",
    "import matplotlib.pyplot as plt\n",
    "import cv2\n",
    "import numpy as np\n",
    "from sklearn.utils import shuffle\n",
    "from sklearn.preprocessing import LabelEncoder\n",
    "import tensorflow as tf\n",
    "from tensorflow.keras import layers"
   ]
  },
  {
   "cell_type": "code",
   "execution_count": 50,
   "metadata": {},
   "outputs": [
    {
     "output_type": "execute_result",
     "data": {
      "text/plain": [
       "   id_img    label\n",
       "0   18341  sadness\n",
       "1   13176  sadness\n",
       "2   23945    happy\n",
       "3   15968    happy\n",
       "4   18382    happy"
      ],
      "text/html": "<div>\n<style scoped>\n    .dataframe tbody tr th:only-of-type {\n        vertical-align: middle;\n    }\n\n    .dataframe tbody tr th {\n        vertical-align: top;\n    }\n\n    .dataframe thead th {\n        text-align: right;\n    }\n</style>\n<table border=\"1\" class=\"dataframe\">\n  <thead>\n    <tr style=\"text-align: right;\">\n      <th></th>\n      <th>id_img</th>\n      <th>label</th>\n    </tr>\n  </thead>\n  <tbody>\n    <tr>\n      <th>0</th>\n      <td>18341</td>\n      <td>sadness</td>\n    </tr>\n    <tr>\n      <th>1</th>\n      <td>13176</td>\n      <td>sadness</td>\n    </tr>\n    <tr>\n      <th>2</th>\n      <td>23945</td>\n      <td>happy</td>\n    </tr>\n    <tr>\n      <th>3</th>\n      <td>15968</td>\n      <td>happy</td>\n    </tr>\n    <tr>\n      <th>4</th>\n      <td>18382</td>\n      <td>happy</td>\n    </tr>\n  </tbody>\n</table>\n</div>"
     },
     "metadata": {},
     "execution_count": 50
    }
   ],
   "source": [
    "sample = pd.read_csv('sample_submission.csv')\n",
    "sample.head()"
   ]
  },
  {
   "cell_type": "code",
   "execution_count": 51,
   "metadata": {},
   "outputs": [
    {
     "output_type": "execute_result",
     "data": {
      "text/plain": [
       "        label  id_img               path\n",
       "6171  sadness   11346  sadness/11346.jpg\n",
       "6172  sadness    4441  sadness/04441.jpg\n",
       "6173  sadness   15236  sadness/15236.jpg\n",
       "6174  sadness   27361  sadness/27361.jpg\n",
       "6175  sadness   25239  sadness/25239.jpg"
      ],
      "text/html": "<div>\n<style scoped>\n    .dataframe tbody tr th:only-of-type {\n        vertical-align: middle;\n    }\n\n    .dataframe tbody tr th {\n        vertical-align: top;\n    }\n\n    .dataframe thead th {\n        text-align: right;\n    }\n</style>\n<table border=\"1\" class=\"dataframe\">\n  <thead>\n    <tr style=\"text-align: right;\">\n      <th></th>\n      <th>label</th>\n      <th>id_img</th>\n      <th>path</th>\n    </tr>\n  </thead>\n  <tbody>\n    <tr>\n      <th>6171</th>\n      <td>sadness</td>\n      <td>11346</td>\n      <td>sadness/11346.jpg</td>\n    </tr>\n    <tr>\n      <th>6172</th>\n      <td>sadness</td>\n      <td>4441</td>\n      <td>sadness/04441.jpg</td>\n    </tr>\n    <tr>\n      <th>6173</th>\n      <td>sadness</td>\n      <td>15236</td>\n      <td>sadness/15236.jpg</td>\n    </tr>\n    <tr>\n      <th>6174</th>\n      <td>sadness</td>\n      <td>27361</td>\n      <td>sadness/27361.jpg</td>\n    </tr>\n    <tr>\n      <th>6175</th>\n      <td>sadness</td>\n      <td>25239</td>\n      <td>sadness/25239.jpg</td>\n    </tr>\n  </tbody>\n</table>\n</div>"
     },
     "metadata": {},
     "execution_count": 51
    }
   ],
   "source": [
    "train = pd.read_csv('train_set.csv')\n",
    "train.tail()"
   ]
  },
  {
   "cell_type": "code",
   "execution_count": 52,
   "metadata": {},
   "outputs": [
    {
     "output_type": "execute_result",
     "data": {
      "text/plain": [
       "   id_img            path\n",
       "0   18341  test/18341.jpg\n",
       "1   13176  test/13176.jpg\n",
       "2   23945  test/23945.jpg\n",
       "3   15968  test/15968.jpg\n",
       "4   18382  test/18382.jpg"
      ],
      "text/html": "<div>\n<style scoped>\n    .dataframe tbody tr th:only-of-type {\n        vertical-align: middle;\n    }\n\n    .dataframe tbody tr th {\n        vertical-align: top;\n    }\n\n    .dataframe thead th {\n        text-align: right;\n    }\n</style>\n<table border=\"1\" class=\"dataframe\">\n  <thead>\n    <tr style=\"text-align: right;\">\n      <th></th>\n      <th>id_img</th>\n      <th>path</th>\n    </tr>\n  </thead>\n  <tbody>\n    <tr>\n      <th>0</th>\n      <td>18341</td>\n      <td>test/18341.jpg</td>\n    </tr>\n    <tr>\n      <th>1</th>\n      <td>13176</td>\n      <td>test/13176.jpg</td>\n    </tr>\n    <tr>\n      <th>2</th>\n      <td>23945</td>\n      <td>test/23945.jpg</td>\n    </tr>\n    <tr>\n      <th>3</th>\n      <td>15968</td>\n      <td>test/15968.jpg</td>\n    </tr>\n    <tr>\n      <th>4</th>\n      <td>18382</td>\n      <td>test/18382.jpg</td>\n    </tr>\n  </tbody>\n</table>\n</div>"
     },
     "metadata": {},
     "execution_count": 52
    }
   ],
   "source": [
    "test = pd.read_csv('test_set.csv')\n",
    "test.head()"
   ]
  },
  {
   "cell_type": "code",
   "execution_count": 53,
   "metadata": {},
   "outputs": [
    {
     "output_type": "execute_result",
     "data": {
      "text/plain": [
       "<matplotlib.image.AxesImage at 0x7fb5a4d853d0>"
      ]
     },
     "metadata": {},
     "execution_count": 53
    },
    {
     "output_type": "display_data",
     "data": {
      "text/plain": "<Figure size 432x288 with 1 Axes>",
      "image/svg+xml": "<?xml version=\"1.0\" encoding=\"utf-8\" standalone=\"no\"?>\n<!DOCTYPE svg PUBLIC \"-//W3C//DTD SVG 1.1//EN\"\n  \"http://www.w3.org/Graphics/SVG/1.1/DTD/svg11.dtd\">\n<!-- Created with matplotlib (https://matplotlib.org/) -->\n<svg height=\"250.052344pt\" version=\"1.1\" viewBox=\"0 0 251.565 250.052344\" width=\"251.565pt\" xmlns=\"http://www.w3.org/2000/svg\" xmlns:xlink=\"http://www.w3.org/1999/xlink\">\n <metadata>\n  <rdf:RDF xmlns:cc=\"http://creativecommons.org/ns#\" xmlns:dc=\"http://purl.org/dc/elements/1.1/\" xmlns:rdf=\"http://www.w3.org/1999/02/22-rdf-syntax-ns#\">\n   <cc:Work>\n    <dc:type rdf:resource=\"http://purl.org/dc/dcmitype/StillImage\"/>\n    <dc:date>2021-03-02T15:46:50.017348</dc:date>\n    <dc:format>image/svg+xml</dc:format>\n    <dc:creator>\n     <cc:Agent>\n      <dc:title>Matplotlib v3.3.3, https://matplotlib.org/</dc:title>\n     </cc:Agent>\n    </dc:creator>\n   </cc:Work>\n  </rdf:RDF>\n </metadata>\n <defs>\n  <style type=\"text/css\">*{stroke-linecap:butt;stroke-linejoin:round;}</style>\n </defs>\n <g id=\"figure_1\">\n  <g id=\"patch_1\">\n   <path d=\"M 0 250.052344 \nL 251.565 250.052344 \nL 251.565 0 \nL 0 0 \nz\n\" style=\"fill:none;\"/>\n  </g>\n  <g id=\"axes_1\">\n   <g id=\"patch_2\">\n    <path d=\"M 26.925 226.174219 \nL 244.365 226.174219 \nL 244.365 8.734219 \nL 26.925 8.734219 \nz\n\" style=\"fill:#ffffff;\"/>\n   </g>\n   <g clip-path=\"url(#p4976964df9)\">\n    <image height=\"218\" id=\"imagee6efc7fa16\" transform=\"scale(1 -1)translate(0 -218)\" width=\"218\" x=\"26.925\" xlink:href=\"data:image/png;base64,\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\" y=\"-8.174219\"/>\n   </g>\n   <g id=\"matplotlib.axis_1\">\n    <g id=\"xtick_1\">\n     <g id=\"line2d_1\">\n      <defs>\n       <path d=\"M 0 0 \nL 0 3.5 \n\" id=\"m768a2d2394\" style=\"stroke:#000000;stroke-width:0.8;\"/>\n      </defs>\n      <g>\n       <use style=\"stroke:#000000;stroke-width:0.8;\" x=\"29.19\" xlink:href=\"#m768a2d2394\" y=\"226.174219\"/>\n      </g>\n     </g>\n     <g id=\"text_1\">\n      <!-- 0 -->\n      <g transform=\"translate(26.00875 240.772656)scale(0.1 -0.1)\">\n       <defs>\n        <path d=\"M 31.78125 66.40625 \nQ 24.171875 66.40625 20.328125 58.90625 \nQ 16.5 51.421875 16.5 36.375 \nQ 16.5 21.390625 20.328125 13.890625 \nQ 24.171875 6.390625 31.78125 6.390625 \nQ 39.453125 6.390625 43.28125 13.890625 \nQ 47.125 21.390625 47.125 36.375 \nQ 47.125 51.421875 43.28125 58.90625 \nQ 39.453125 66.40625 31.78125 66.40625 \nz\nM 31.78125 74.21875 \nQ 44.046875 74.21875 50.515625 64.515625 \nQ 56.984375 54.828125 56.984375 36.375 \nQ 56.984375 17.96875 50.515625 8.265625 \nQ 44.046875 -1.421875 31.78125 -1.421875 \nQ 19.53125 -1.421875 13.0625 8.265625 \nQ 6.59375 17.96875 6.59375 36.375 \nQ 6.59375 54.828125 13.0625 64.515625 \nQ 19.53125 74.21875 31.78125 74.21875 \nz\n\" id=\"DejaVuSans-48\"/>\n       </defs>\n       <use xlink:href=\"#DejaVuSans-48\"/>\n      </g>\n     </g>\n    </g>\n    <g id=\"xtick_2\">\n     <g id=\"line2d_2\">\n      <g>\n       <use style=\"stroke:#000000;stroke-width:0.8;\" x=\"74.49\" xlink:href=\"#m768a2d2394\" y=\"226.174219\"/>\n      </g>\n     </g>\n     <g id=\"text_2\">\n      <!-- 10 -->\n      <g transform=\"translate(68.1275 240.772656)scale(0.1 -0.1)\">\n       <defs>\n        <path d=\"M 12.40625 8.296875 \nL 28.515625 8.296875 \nL 28.515625 63.921875 \nL 10.984375 60.40625 \nL 10.984375 69.390625 \nL 28.421875 72.90625 \nL 38.28125 72.90625 \nL 38.28125 8.296875 \nL 54.390625 8.296875 \nL 54.390625 0 \nL 12.40625 0 \nz\n\" id=\"DejaVuSans-49\"/>\n       </defs>\n       <use xlink:href=\"#DejaVuSans-49\"/>\n       <use x=\"63.623047\" xlink:href=\"#DejaVuSans-48\"/>\n      </g>\n     </g>\n    </g>\n    <g id=\"xtick_3\">\n     <g id=\"line2d_3\">\n      <g>\n       <use style=\"stroke:#000000;stroke-width:0.8;\" x=\"119.79\" xlink:href=\"#m768a2d2394\" y=\"226.174219\"/>\n      </g>\n     </g>\n     <g id=\"text_3\">\n      <!-- 20 -->\n      <g transform=\"translate(113.4275 240.772656)scale(0.1 -0.1)\">\n       <defs>\n        <path d=\"M 19.1875 8.296875 \nL 53.609375 8.296875 \nL 53.609375 0 \nL 7.328125 0 \nL 7.328125 8.296875 \nQ 12.9375 14.109375 22.625 23.890625 \nQ 32.328125 33.6875 34.8125 36.53125 \nQ 39.546875 41.84375 41.421875 45.53125 \nQ 43.3125 49.21875 43.3125 52.78125 \nQ 43.3125 58.59375 39.234375 62.25 \nQ 35.15625 65.921875 28.609375 65.921875 \nQ 23.96875 65.921875 18.8125 64.3125 \nQ 13.671875 62.703125 7.8125 59.421875 \nL 7.8125 69.390625 \nQ 13.765625 71.78125 18.9375 73 \nQ 24.125 74.21875 28.421875 74.21875 \nQ 39.75 74.21875 46.484375 68.546875 \nQ 53.21875 62.890625 53.21875 53.421875 \nQ 53.21875 48.921875 51.53125 44.890625 \nQ 49.859375 40.875 45.40625 35.40625 \nQ 44.1875 33.984375 37.640625 27.21875 \nQ 31.109375 20.453125 19.1875 8.296875 \nz\n\" id=\"DejaVuSans-50\"/>\n       </defs>\n       <use xlink:href=\"#DejaVuSans-50\"/>\n       <use x=\"63.623047\" xlink:href=\"#DejaVuSans-48\"/>\n      </g>\n     </g>\n    </g>\n    <g id=\"xtick_4\">\n     <g id=\"line2d_4\">\n      <g>\n       <use style=\"stroke:#000000;stroke-width:0.8;\" x=\"165.09\" xlink:href=\"#m768a2d2394\" y=\"226.174219\"/>\n      </g>\n     </g>\n     <g id=\"text_4\">\n      <!-- 30 -->\n      <g transform=\"translate(158.7275 240.772656)scale(0.1 -0.1)\">\n       <defs>\n        <path d=\"M 40.578125 39.3125 \nQ 47.65625 37.796875 51.625 33 \nQ 55.609375 28.21875 55.609375 21.1875 \nQ 55.609375 10.40625 48.1875 4.484375 \nQ 40.765625 -1.421875 27.09375 -1.421875 \nQ 22.515625 -1.421875 17.65625 -0.515625 \nQ 12.796875 0.390625 7.625 2.203125 \nL 7.625 11.71875 \nQ 11.71875 9.328125 16.59375 8.109375 \nQ 21.484375 6.890625 26.8125 6.890625 \nQ 36.078125 6.890625 40.9375 10.546875 \nQ 45.796875 14.203125 45.796875 21.1875 \nQ 45.796875 27.640625 41.28125 31.265625 \nQ 36.765625 34.90625 28.71875 34.90625 \nL 20.21875 34.90625 \nL 20.21875 43.015625 \nL 29.109375 43.015625 \nQ 36.375 43.015625 40.234375 45.921875 \nQ 44.09375 48.828125 44.09375 54.296875 \nQ 44.09375 59.90625 40.109375 62.90625 \nQ 36.140625 65.921875 28.71875 65.921875 \nQ 24.65625 65.921875 20.015625 65.03125 \nQ 15.375 64.15625 9.8125 62.3125 \nL 9.8125 71.09375 \nQ 15.4375 72.65625 20.34375 73.4375 \nQ 25.25 74.21875 29.59375 74.21875 \nQ 40.828125 74.21875 47.359375 69.109375 \nQ 53.90625 64.015625 53.90625 55.328125 \nQ 53.90625 49.265625 50.4375 45.09375 \nQ 46.96875 40.921875 40.578125 39.3125 \nz\n\" id=\"DejaVuSans-51\"/>\n       </defs>\n       <use xlink:href=\"#DejaVuSans-51\"/>\n       <use x=\"63.623047\" xlink:href=\"#DejaVuSans-48\"/>\n      </g>\n     </g>\n    </g>\n    <g id=\"xtick_5\">\n     <g id=\"line2d_5\">\n      <g>\n       <use style=\"stroke:#000000;stroke-width:0.8;\" x=\"210.39\" xlink:href=\"#m768a2d2394\" y=\"226.174219\"/>\n      </g>\n     </g>\n     <g id=\"text_5\">\n      <!-- 40 -->\n      <g transform=\"translate(204.0275 240.772656)scale(0.1 -0.1)\">\n       <defs>\n        <path d=\"M 37.796875 64.3125 \nL 12.890625 25.390625 \nL 37.796875 25.390625 \nz\nM 35.203125 72.90625 \nL 47.609375 72.90625 \nL 47.609375 25.390625 \nL 58.015625 25.390625 \nL 58.015625 17.1875 \nL 47.609375 17.1875 \nL 47.609375 0 \nL 37.796875 0 \nL 37.796875 17.1875 \nL 4.890625 17.1875 \nL 4.890625 26.703125 \nz\n\" id=\"DejaVuSans-52\"/>\n       </defs>\n       <use xlink:href=\"#DejaVuSans-52\"/>\n       <use x=\"63.623047\" xlink:href=\"#DejaVuSans-48\"/>\n      </g>\n     </g>\n    </g>\n   </g>\n   <g id=\"matplotlib.axis_2\">\n    <g id=\"ytick_1\">\n     <g id=\"line2d_6\">\n      <defs>\n       <path d=\"M 0 0 \nL -3.5 0 \n\" id=\"m5dd65327a6\" style=\"stroke:#000000;stroke-width:0.8;\"/>\n      </defs>\n      <g>\n       <use style=\"stroke:#000000;stroke-width:0.8;\" x=\"26.925\" xlink:href=\"#m5dd65327a6\" y=\"10.999219\"/>\n      </g>\n     </g>\n     <g id=\"text_6\">\n      <!-- 0 -->\n      <g transform=\"translate(13.5625 14.798437)scale(0.1 -0.1)\">\n       <use xlink:href=\"#DejaVuSans-48\"/>\n      </g>\n     </g>\n    </g>\n    <g id=\"ytick_2\">\n     <g id=\"line2d_7\">\n      <g>\n       <use style=\"stroke:#000000;stroke-width:0.8;\" x=\"26.925\" xlink:href=\"#m5dd65327a6\" y=\"56.299219\"/>\n      </g>\n     </g>\n     <g id=\"text_7\">\n      <!-- 10 -->\n      <g transform=\"translate(7.2 60.098437)scale(0.1 -0.1)\">\n       <use xlink:href=\"#DejaVuSans-49\"/>\n       <use x=\"63.623047\" xlink:href=\"#DejaVuSans-48\"/>\n      </g>\n     </g>\n    </g>\n    <g id=\"ytick_3\">\n     <g id=\"line2d_8\">\n      <g>\n       <use style=\"stroke:#000000;stroke-width:0.8;\" x=\"26.925\" xlink:href=\"#m5dd65327a6\" y=\"101.599219\"/>\n      </g>\n     </g>\n     <g id=\"text_8\">\n      <!-- 20 -->\n      <g transform=\"translate(7.2 105.398437)scale(0.1 -0.1)\">\n       <use xlink:href=\"#DejaVuSans-50\"/>\n       <use x=\"63.623047\" xlink:href=\"#DejaVuSans-48\"/>\n      </g>\n     </g>\n    </g>\n    <g id=\"ytick_4\">\n     <g id=\"line2d_9\">\n      <g>\n       <use style=\"stroke:#000000;stroke-width:0.8;\" x=\"26.925\" xlink:href=\"#m5dd65327a6\" y=\"146.899219\"/>\n      </g>\n     </g>\n     <g id=\"text_9\">\n      <!-- 30 -->\n      <g transform=\"translate(7.2 150.698437)scale(0.1 -0.1)\">\n       <use xlink:href=\"#DejaVuSans-51\"/>\n       <use x=\"63.623047\" xlink:href=\"#DejaVuSans-48\"/>\n      </g>\n     </g>\n    </g>\n    <g id=\"ytick_5\">\n     <g id=\"line2d_10\">\n      <g>\n       <use style=\"stroke:#000000;stroke-width:0.8;\" x=\"26.925\" xlink:href=\"#m5dd65327a6\" y=\"192.199219\"/>\n      </g>\n     </g>\n     <g id=\"text_10\">\n      <!-- 40 -->\n      <g transform=\"translate(7.2 195.998437)scale(0.1 -0.1)\">\n       <use xlink:href=\"#DejaVuSans-52\"/>\n       <use x=\"63.623047\" xlink:href=\"#DejaVuSans-48\"/>\n      </g>\n     </g>\n    </g>\n   </g>\n   <g id=\"patch_3\">\n    <path d=\"M 26.925 226.174219 \nL 26.925 8.734219 \n\" style=\"fill:none;stroke:#000000;stroke-linecap:square;stroke-linejoin:miter;stroke-width:0.8;\"/>\n   </g>\n   <g id=\"patch_4\">\n    <path d=\"M 244.365 226.174219 \nL 244.365 8.734219 \n\" style=\"fill:none;stroke:#000000;stroke-linecap:square;stroke-linejoin:miter;stroke-width:0.8;\"/>\n   </g>\n   <g id=\"patch_5\">\n    <path d=\"M 26.925 226.174219 \nL 244.365 226.174219 \n\" style=\"fill:none;stroke:#000000;stroke-linecap:square;stroke-linejoin:miter;stroke-width:0.8;\"/>\n   </g>\n   <g id=\"patch_6\">\n    <path d=\"M 26.925 8.734219 \nL 244.365 8.734219 \n\" style=\"fill:none;stroke:#000000;stroke-linecap:square;stroke-linejoin:miter;stroke-width:0.8;\"/>\n   </g>\n  </g>\n </g>\n <defs>\n  <clipPath id=\"p4976964df9\">\n   <rect height=\"217.44\" width=\"217.44\" x=\"26.925\" y=\"8.734219\"/>\n  </clipPath>\n </defs>\n</svg>\n",
      "image/png": "[encoded data removed]"
     },
     "metadata": {
      "needs_background": "light"
     }
    }
   ],
   "source": [
    "# example\n",
    "img = cv2.imread('train/happy/22373.jpg')\n",
    "plt.imshow(img)"
   ]
  },
  {
   "cell_type": "code",
   "execution_count": 65,
   "metadata": {},
   "outputs": [],
   "source": [
    "# Loading training data\n",
    "train_images = np.zeros((len(train['path']), 48, 48, 3), dtype='uint8')\n",
    "train_labels = np.array(train['label'])\n",
    "# Mapping the lables to numbers\n",
    "le = LabelEncoder()\n",
    "train_labels = le.fit_transform(train_labels)\n",
    "for i in range(len(train['path'])):\n",
    "    train_images[i] = cv2.imread('train/' + train['path'][i])"
   ]
  },
  {
   "cell_type": "code",
   "execution_count": 55,
   "metadata": {},
   "outputs": [
    {
     "output_type": "stream",
     "name": "stdout",
     "text": [
      "(6176, 48, 48, 3)\n(6176,)\n"
     ]
    }
   ],
   "source": [
    "print(train_images.shape)\n",
    "print(train_labels.shape)"
   ]
  },
  {
   "cell_type": "code",
   "execution_count": 56,
   "metadata": {},
   "outputs": [],
   "source": [
    "# Shuffle training data to switch order\n",
    "train_images, train_labels = shuffle(train_images, train_labels, random_state= 12)"
   ]
  },
  {
   "cell_type": "code",
   "execution_count": 57,
   "metadata": {},
   "outputs": [],
   "source": [
    "# Loading the test data\n",
    "test_images = np.zeros((len(test['path']), 48, 48, 3), dtype='uint8')\n",
    "for i in range(len(test['path'])):\n",
    "    test_images[i] = cv2.imread(test['path'][i])"
   ]
  },
  {
   "cell_type": "code",
   "execution_count": 58,
   "metadata": {},
   "outputs": [
    {
     "output_type": "stream",
     "name": "stdout",
     "text": [
      "(4117, 48, 48, 3)\n"
     ]
    }
   ],
   "source": [
    "print(test_images.shape)"
   ]
  },
  {
   "cell_type": "code",
   "execution_count": 59,
   "metadata": {},
   "outputs": [
    {
     "output_type": "stream",
     "name": "stdout",
     "text": [
      "Model: \"sequential_2\"\n_________________________________________________________________\nLayer (type)                 Output Shape              Param #   \n=================================================================\nconv2d_2 (Conv2D)            (None, 48, 48, 8)         224       \n_________________________________________________________________\nmax_pooling2d_2 (MaxPooling2 (None, 24, 24, 8)         0         \n_________________________________________________________________\ndropout_2 (Dropout)          (None, 24, 24, 8)         0         \n_________________________________________________________________\nflatten_2 (Flatten)          (None, 4608)              0         \n_________________________________________________________________\ndense_4 (Dense)              (None, 32)                147488    \n_________________________________________________________________\ndense_5 (Dense)              (None, 10)                330       \n=================================================================\nTotal params: 148,042\nTrainable params: 148,042\nNon-trainable params: 0\n_________________________________________________________________\n"
     ]
    }
   ],
   "source": [
    "# Building a model\n",
    "model = tf.keras.models.Sequential()\n",
    "model.add(layers.Conv2D(filters=8, \n",
    "                        kernel_size=(3, 3), \n",
    "                        input_shape=(48, 48, 3), \n",
    "                        padding='same'))\n",
    "model.add(layers.MaxPooling2D(pool_size=(2, 2), padding=\"same\"))\n",
    "model.add(layers.Dropout(0.25))\n",
    "model.add(layers.Flatten())\n",
    "model.add(layers.Dense(32, activation='relu'))\n",
    "model.add(layers.Dense(10, activation='softmax'))\n",
    "model.summary()"
   ]
  },
  {
   "cell_type": "code",
   "execution_count": 60,
   "metadata": {},
   "outputs": [],
   "source": [
    "# Compiling the model\n",
    "model.compile(optimizer='adam',\n",
    "              loss='sparse_categorical_crossentropy',\n",
    "              metrics=['accuracy'])"
   ]
  },
  {
   "cell_type": "code",
   "execution_count": 61,
   "metadata": {},
   "outputs": [
    {
     "output_type": "stream",
     "name": "stdout",
     "text": [
      "Epoch 1/20\n",
      "193/193 [==============================] - 5s 23ms/step - loss: 37.4373 - accuracy: 0.5116\n",
      "Epoch 2/20\n",
      "193/193 [==============================] - 4s 22ms/step - loss: 2.0049 - accuracy: 0.6249\n",
      "Epoch 3/20\n",
      "193/193 [==============================] - 5s 29ms/step - loss: 0.9740 - accuracy: 0.6776\n",
      "Epoch 4/20\n",
      "193/193 [==============================] - 5s 28ms/step - loss: 0.7133 - accuracy: 0.6815\n",
      "Epoch 5/20\n",
      "193/193 [==============================] - 5s 28ms/step - loss: 0.5945 - accuracy: 0.6893\n",
      "Epoch 6/20\n",
      "193/193 [==============================] - 5s 28ms/step - loss: 0.5747 - accuracy: 0.6984\n",
      "Epoch 7/20\n",
      "193/193 [==============================] - 5s 28ms/step - loss: 0.5378 - accuracy: 0.7243\n",
      "Epoch 8/20\n",
      "193/193 [==============================] - 6s 30ms/step - loss: 0.5005 - accuracy: 0.7450\n",
      "Epoch 9/20\n",
      "193/193 [==============================] - 6s 31ms/step - loss: 0.4954 - accuracy: 0.7532\n",
      "Epoch 10/20\n",
      "193/193 [==============================] - 5s 26ms/step - loss: 0.4868 - accuracy: 0.7596\n",
      "Epoch 11/20\n",
      "193/193 [==============================] - 5s 25ms/step - loss: 0.4674 - accuracy: 0.7799\n",
      "Epoch 12/20\n",
      "193/193 [==============================] - 5s 27ms/step - loss: 0.5219 - accuracy: 0.7335\n",
      "Epoch 13/20\n",
      "193/193 [==============================] - 5s 26ms/step - loss: 0.4420 - accuracy: 0.7876\n",
      "Epoch 14/20\n",
      "193/193 [==============================] - 7s 34ms/step - loss: 0.4521 - accuracy: 0.7856\n",
      "Epoch 15/20\n",
      "193/193 [==============================] - 6s 29ms/step - loss: 0.5009 - accuracy: 0.7617\n",
      "Epoch 16/20\n",
      "193/193 [==============================] - 6s 32ms/step - loss: 0.4171 - accuracy: 0.8018\n",
      "Epoch 17/20\n",
      "193/193 [==============================] - 6s 30ms/step - loss: 0.4287 - accuracy: 0.7902\n",
      "Epoch 18/20\n",
      "193/193 [==============================] - 6s 29ms/step - loss: 0.4232 - accuracy: 0.8024\n",
      "Epoch 19/20\n",
      "193/193 [==============================] - 6s 29ms/step - loss: 0.3988 - accuracy: 0.8065\n",
      "Epoch 20/20\n",
      "193/193 [==============================] - 6s 30ms/step - loss: 0.3894 - accuracy: 0.8148\n"
     ]
    },
    {
     "output_type": "execute_result",
     "data": {
      "text/plain": [
       "<tensorflow.python.keras.callbacks.History at 0x7fb5a51eb9a0>"
      ]
     },
     "metadata": {},
     "execution_count": 61
    }
   ],
   "source": [
    "model.fit(train_images, train_labels, epochs=20)"
   ]
  },
  {
   "cell_type": "code",
   "execution_count": 62,
   "metadata": {},
   "outputs": [],
   "source": [
    "predictions = model.predict_classes(test_images)"
   ]
  },
  {
   "cell_type": "code",
   "execution_count": 63,
   "metadata": {},
   "outputs": [
    {
     "output_type": "execute_result",
     "data": {
      "text/plain": [
       "(4117,)"
      ]
     },
     "metadata": {},
     "execution_count": 63
    }
   ],
   "source": [
    "predictions.shape"
   ]
  },
  {
   "cell_type": "code",
   "execution_count": 67,
   "metadata": {},
   "outputs": [],
   "source": [
    "predictions_strings = le.inverse_transform(predictions)"
   ]
  },
  {
   "cell_type": "code",
   "execution_count": 70,
   "metadata": {},
   "outputs": [
    {
     "output_type": "execute_result",
     "data": {
      "text/plain": [
       "      id_img    label\n",
       "0      18341  sadness\n",
       "1      13176  sadness\n",
       "2      23945  sadness\n",
       "3      15968    happy\n",
       "4      18382    happy\n",
       "...      ...      ...\n",
       "4112    8966    happy\n",
       "4113   12111  sadness\n",
       "4114   16629    happy\n",
       "4115   24322    happy\n",
       "4116   23412    happy\n",
       "\n",
       "[4117 rows x 2 columns]"
      ],
      "text/html": "<div>\n<style scoped>\n    .dataframe tbody tr th:only-of-type {\n        vertical-align: middle;\n    }\n\n    .dataframe tbody tr th {\n        vertical-align: top;\n    }\n\n    .dataframe thead th {\n        text-align: right;\n    }\n</style>\n<table border=\"1\" class=\"dataframe\">\n  <thead>\n    <tr style=\"text-align: right;\">\n      <th></th>\n      <th>id_img</th>\n      <th>label</th>\n    </tr>\n  </thead>\n  <tbody>\n    <tr>\n      <th>0</th>\n      <td>18341</td>\n      <td>sadness</td>\n    </tr>\n    <tr>\n      <th>1</th>\n      <td>13176</td>\n      <td>sadness</td>\n    </tr>\n    <tr>\n      <th>2</th>\n      <td>23945</td>\n      <td>sadness</td>\n    </tr>\n    <tr>\n      <th>3</th>\n      <td>15968</td>\n      <td>happy</td>\n    </tr>\n    <tr>\n      <th>4</th>\n      <td>18382</td>\n      <td>happy</td>\n    </tr>\n    <tr>\n      <th>...</th>\n      <td>...</td>\n      <td>...</td>\n    </tr>\n    <tr>\n      <th>4112</th>\n      <td>8966</td>\n      <td>happy</td>\n    </tr>\n    <tr>\n      <th>4113</th>\n      <td>12111</td>\n      <td>sadness</td>\n    </tr>\n    <tr>\n      <th>4114</th>\n      <td>16629</td>\n      <td>happy</td>\n    </tr>\n    <tr>\n      <th>4115</th>\n      <td>24322</td>\n      <td>happy</td>\n    </tr>\n    <tr>\n      <th>4116</th>\n      <td>23412</td>\n      <td>happy</td>\n    </tr>\n  </tbody>\n</table>\n<p>4117 rows × 2 columns</p>\n</div>"
     },
     "metadata": {},
     "execution_count": 70
    }
   ],
   "source": [
    "results_df = pd.DataFrame({'id_img': test['id_img'], 'label': predictions_strings})\n",
    "results_df"
   ]
  },
  {
   "cell_type": "code",
   "execution_count": 74,
   "metadata": {},
   "outputs": [],
   "source": [
    "results_df.to_csv('Results_Alfon.csv', index=False)"
   ]
  },
  {
   "cell_type": "code",
   "execution_count": 75,
   "metadata": {},
   "outputs": [
    {
     "output_type": "execute_result",
     "data": {
      "text/plain": [
       "      id_img    label\n",
       "0      18341  sadness\n",
       "1      13176  sadness\n",
       "2      23945  sadness\n",
       "3      15968    happy\n",
       "4      18382    happy\n",
       "...      ...      ...\n",
       "4112    8966    happy\n",
       "4113   12111  sadness\n",
       "4114   16629    happy\n",
       "4115   24322    happy\n",
       "4116   23412    happy\n",
       "\n",
       "[4117 rows x 2 columns]"
      ],
      "text/html": "<div>\n<style scoped>\n    .dataframe tbody tr th:only-of-type {\n        vertical-align: middle;\n    }\n\n    .dataframe tbody tr th {\n        vertical-align: top;\n    }\n\n    .dataframe thead th {\n        text-align: right;\n    }\n</style>\n<table border=\"1\" class=\"dataframe\">\n  <thead>\n    <tr style=\"text-align: right;\">\n      <th></th>\n      <th>id_img</th>\n      <th>label</th>\n    </tr>\n  </thead>\n  <tbody>\n    <tr>\n      <th>0</th>\n      <td>18341</td>\n      <td>sadness</td>\n    </tr>\n    <tr>\n      <th>1</th>\n      <td>13176</td>\n      <td>sadness</td>\n    </tr>\n    <tr>\n      <th>2</th>\n      <td>23945</td>\n      <td>sadness</td>\n    </tr>\n    <tr>\n      <th>3</th>\n      <td>15968</td>\n      <td>happy</td>\n    </tr>\n    <tr>\n      <th>4</th>\n      <td>18382</td>\n      <td>happy</td>\n    </tr>\n    <tr>\n      <th>...</th>\n      <td>...</td>\n      <td>...</td>\n    </tr>\n    <tr>\n      <th>4112</th>\n      <td>8966</td>\n      <td>happy</td>\n    </tr>\n    <tr>\n      <th>4113</th>\n      <td>12111</td>\n      <td>sadness</td>\n    </tr>\n    <tr>\n      <th>4114</th>\n      <td>16629</td>\n      <td>happy</td>\n    </tr>\n    <tr>\n      <th>4115</th>\n      <td>24322</td>\n      <td>happy</td>\n    </tr>\n    <tr>\n      <th>4116</th>\n      <td>23412</td>\n      <td>happy</td>\n    </tr>\n  </tbody>\n</table>\n<p>4117 rows × 2 columns</p>\n</div>"
     },
     "metadata": {},
     "execution_count": 75
    }
   ],
   "source": [
    "pd.read_csv('Results_Alfon.csv')"
   ]
  },
  {
   "cell_type": "code",
   "execution_count": null,
   "metadata": {},
   "outputs": [],
   "source": []
  }
 ]
}
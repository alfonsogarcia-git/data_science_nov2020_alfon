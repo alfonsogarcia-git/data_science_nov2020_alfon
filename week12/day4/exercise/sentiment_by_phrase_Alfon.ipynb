{
 "metadata": {
  "language_info": {
   "codemirror_mode": {
    "name": "ipython",
    "version": 3
   },
   "file_extension": ".py",
   "mimetype": "text/x-python",
   "name": "python",
   "nbconvert_exporter": "python",
   "pygments_lexer": "ipython3",
   "version": "3.8.0-final"
  },
  "orig_nbformat": 2,
  "kernelspec": {
   "name": "python3",
   "display_name": "Python 3",
   "language": "python"
  }
 },
 "nbformat": 4,
 "nbformat_minor": 2,
 "cells": [
  {
   "source": [
    "https://vgpena.github.io/classifying-tweets-with-keras-and-tensorflow/\n",
    "\n",
    "En el anterior enlace, tenéis un ejemplo sobre cómo, a partir de tweets con un label específico (un sentimiento, positivo o negativo): \n",
    "\n",
    "1. Genera un conjunto de entrenamiento. El conjunto de entrenamiento es formado a partir de tweets completos pasados a un array con un tamaño específico.\n",
    "2. Ese array (X_train de tamaño N) tiene un label que representa el sentimiento (y_train)\n",
    "3. Como todas las frases tienen un tamaño N, la entrada de la red neuronal será de tamaño N y la salida de la red será de tamaño 2 usando activación softmax(porque hay dos clases).\n",
    "\n",
    "Se pide: \n",
    "\n",
    "- Realizar un clasificador de reviews para el dataset de IMDB de la carpeta data_exercise/\n",
    "\n",
    "**Cuando usa la importación \"keras.x\", reemplázalo por \"tensorflow.keras.x\"**"
   ],
   "cell_type": "markdown",
   "metadata": {}
  },
  {
   "source": [
    "# Primero el tutorial"
   ],
   "cell_type": "markdown",
   "metadata": {}
  },
  {
   "source": [
    "Complex is better than complicated.\n",
    "\n",
    "Flat is better than nested.\n",
    "\n",
    "- Tokenized: \n",
    "\n",
    "[['complex', 'is', 'better', 'than', 'complicated', 'flat', 'is', 'better', 'than', 'nested']]\n",
    "\n",
    "- In a lookup dictionary: \n",
    "\n",
    "\n",
    "  {'complex': 0,\n",
    "  'is': 1,\n",
    "  'better': 2,\n",
    "  'than': 3,\n",
    "  'complicated': 4,\n",
    "  'flat': 5,\n",
    "  'nested': 6}\n",
    "\n",
    "- In one-hot encoding:\n",
    "\n",
    "[\n",
    "  [1, 0, 0, 0, 0, 0, 0], #complex\n",
    "\n",
    "  [0, 1, 0, 0, 0, 0, 0], #is\n",
    "\n",
    "  [0, 0, 1, 0, 0, 0, 0], #better\n",
    "\n",
    "  [0, 0, 0, 1, 0, 0, 0], #than\n",
    "  \n",
    "  [0, 0, 0, 0, 1, 0, 0], #complicated\n",
    "]"
   ],
   "cell_type": "markdown",
   "metadata": {}
  },
  {
   "cell_type": "code",
   "execution_count": 1,
   "metadata": {},
   "outputs": [],
   "source": [
    "import pandas as pd\n",
    "import numpy as np"
   ]
  },
  {
   "cell_type": "code",
   "execution_count": null,
   "metadata": {},
   "outputs": [],
   "source": [
    "df = pd.read_csv('Sentiment_Analysis')"
   ]
  },
  {
   "source": [
    "# Ahora el ejercicio"
   ],
   "cell_type": "markdown",
   "metadata": {}
  },
  {
   "cell_type": "code",
   "execution_count": 1,
   "metadata": {},
   "outputs": [
    {
     "output_type": "stream",
     "name": "stdout",
     "text": [
      "\n"
     ]
    }
   ],
   "source": [
    "# Your code\n",
    "\"\"\"\n",
    "De\n",
    "from keras.preprocessing.text import Tokenizer\n",
    "Usa\n",
    "from tensorflow.keras.preprocessing.text import Tokenizer\n",
    "\"\"\"\n",
    "print()"
   ]
  },
  {
   "cell_type": "code",
   "execution_count": null,
   "metadata": {},
   "outputs": [],
   "source": []
  }
 ]
}
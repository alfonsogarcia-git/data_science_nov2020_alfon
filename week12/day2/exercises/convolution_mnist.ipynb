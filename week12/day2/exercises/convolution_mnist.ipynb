{
 "metadata": {
  "language_info": {
   "codemirror_mode": {
    "name": "ipython",
    "version": 3
   },
   "file_extension": ".py",
   "mimetype": "text/x-python",
   "name": "python",
   "nbconvert_exporter": "python",
   "pygments_lexer": "ipython3",
   "version": "3.8.0-final"
  },
  "orig_nbformat": 2,
  "kernelspec": {
   "name": "python3",
   "display_name": "Python 3.8.0 64-bit",
   "metadata": {
    "interpreter": {
     "hash": "aee8b7b246df8f9039afb4144a1f6fd8d2ca17a180786b69acc140d282b71a49"
    }
   }
  }
 },
 "nbformat": 4,
 "nbformat_minor": 2,
 "cells": [
  {
   "source": [
    "A partir del dataset mnist (tf.keras.datasets.mnist.load_data()), realiza una clasificación usando:\n",
    "\n",
    "1. Una CNN con:\n",
    "    - 1 capa convolutiva con 8 neuronas\n",
    "    - 1 MaxPool quedando las dimensiones de la imagen a la mitad\n",
    "    - 1 dropout 0.25\n",
    "    - 1 Flatten\n",
    "    - 1 dense con 32 neuronas\n",
    "    - 1 dense con 10 (salida)\n",
    "\n",
    "2. Una CNN con:\n",
    "    - 1 capa convolutiva con 8 neuronas\n",
    "    - 1 MaxPool quedando las dimensiones de la imagen a la mitad\n",
    "    - 1 dropout 0.25\n",
    "    - 1 Flatten\n",
    "    - 1 dense con 16 neuronas\n",
    "    - 1 dense con 32 neuronas\n",
    "    - 1 dense con 10 (salida)\n",
    "\n",
    "¿ Cuál ha dado mejor resultado?\n",
    "\n",
    "Para compilar el modelo, usa:\n",
    "\n",
    "model.compile(optimizer='adam',\n",
    "              loss='sparse_categorical_crossentropy',\n",
    "              metrics=['accuracy'])"
   ],
   "cell_type": "markdown",
   "metadata": {}
  },
  {
   "cell_type": "code",
   "execution_count": 46,
   "metadata": {},
   "outputs": [],
   "source": [
    "# Importing the necessary libraries\n",
    "import tensorflow as tf\n",
    "import matplotlib.pyplot as plt\n",
    "from tensorflow.keras import layers\n",
    "import numpy as np"
   ]
  },
  {
   "cell_type": "code",
   "execution_count": 13,
   "metadata": {},
   "outputs": [],
   "source": [
    "# Loading the data\n",
    "training_set, test_set = tf.keras.datasets.mnist.load_data()"
   ]
  },
  {
   "cell_type": "code",
   "execution_count": 21,
   "metadata": {},
   "outputs": [],
   "source": [
    "# Spliting the data\n",
    "train_images = training_set[0].reshape(training_set[0].shape[0], training_set[0].shape[1], training_set[0].shape[2], 1)\n",
    "train_labels = training_set[1]\n",
    "test_images = test_set[0].reshape(test_set[0].shape[0], test_set[0].shape[1], test_set[0].shape[2], 1)\n",
    "test_labels = test_set[1]"
   ]
  },
  {
   "cell_type": "code",
   "execution_count": 22,
   "metadata": {},
   "outputs": [
    {
     "output_type": "stream",
     "name": "stdout",
     "text": [
      "(60000, 28, 28, 1)\n(60000,)\n(10000, 28, 28, 1)\n(10000,)\n"
     ]
    }
   ],
   "source": [
    "# Shape of the data\n",
    "print(train_images.shape)\n",
    "print(train_labels.shape)\n",
    "print(test_images.shape)\n",
    "print(test_labels.shape)"
   ]
  },
  {
   "cell_type": "code",
   "execution_count": 24,
   "metadata": {},
   "outputs": [
    {
     "output_type": "execute_result",
     "data": {
      "text/plain": [
       "Text(0.5, 1.0, 'Label: 0')"
      ]
     },
     "metadata": {},
     "execution_count": 24
    },
    {
     "output_type": "display_data",
     "data": {
      "text/plain": "<Figure size 432x288 with 1 Axes>",
      "image/svg+xml": "<?xml version=\"1.0\" encoding=\"utf-8\" standalone=\"no\"?>\n<!DOCTYPE svg PUBLIC \"-//W3C//DTD SVG 1.1//EN\"\n  \"http://www.w3.org/Graphics/SVG/1.1/DTD/svg11.dtd\">\n<!-- Created with matplotlib (https://matplotlib.org/) -->\n<svg height=\"263.63625pt\" version=\"1.1\" viewBox=\"0 0 251.565 263.63625\" width=\"251.565pt\" xmlns=\"http://www.w3.org/2000/svg\" xmlns:xlink=\"http://www.w3.org/1999/xlink\">\n <metadata>\n  <rdf:RDF xmlns:cc=\"http://creativecommons.org/ns#\" xmlns:dc=\"http://purl.org/dc/elements/1.1/\" xmlns:rdf=\"http://www.w3.org/1999/02/22-rdf-syntax-ns#\">\n   <cc:Work>\n    <dc:type rdf:resource=\"http://purl.org/dc/dcmitype/StillImage\"/>\n    <dc:date>2021-02-23T16:06:34.349297</dc:date>\n    <dc:format>image/svg+xml</dc:format>\n    <dc:creator>\n     <cc:Agent>\n      <dc:title>Matplotlib v3.3.3, https://matplotlib.org/</dc:title>\n     </cc:Agent>\n    </dc:creator>\n   </cc:Work>\n  </rdf:RDF>\n </metadata>\n <defs>\n  <style type=\"text/css\">*{stroke-linecap:butt;stroke-linejoin:round;}</style>\n </defs>\n <g id=\"figure_1\">\n  <g id=\"patch_1\">\n   <path d=\"M 0 263.63625 \nL 251.565 263.63625 \nL 251.565 0 \nL 0 0 \nz\n\" style=\"fill:none;\"/>\n  </g>\n  <g id=\"axes_1\">\n   <g id=\"patch_2\">\n    <path d=\"M 26.925 239.758125 \nL 244.365 239.758125 \nL 244.365 22.318125 \nL 26.925 22.318125 \nz\n\" style=\"fill:#ffffff;\"/>\n   </g>\n   <g clip-path=\"url(#p75510db26f)\">\n    <image height=\"218\" id=\"image2ce91df5fd\" transform=\"scale(1 -1)translate(0 -218)\" width=\"218\" x=\"26.925\" xlink:href=\"data:image/png;base64,\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\" y=\"-21.758125\"/>\n   </g>\n   <g id=\"matplotlib.axis_1\">\n    <g id=\"xtick_1\">\n     <g id=\"line2d_1\">\n      <defs>\n       <path d=\"M 0 0 \nL 0 3.5 \n\" id=\"m18241ebbd3\" style=\"stroke:#000000;stroke-width:0.8;\"/>\n      </defs>\n      <g>\n       <use style=\"stroke:#000000;stroke-width:0.8;\" x=\"30.807857\" xlink:href=\"#m18241ebbd3\" y=\"239.758125\"/>\n      </g>\n     </g>\n     <g id=\"text_1\">\n      <!-- 0 -->\n      <g transform=\"translate(27.626607 254.356563)scale(0.1 -0.1)\">\n       <defs>\n        <path d=\"M 31.78125 66.40625 \nQ 24.171875 66.40625 20.328125 58.90625 \nQ 16.5 51.421875 16.5 36.375 \nQ 16.5 21.390625 20.328125 13.890625 \nQ 24.171875 6.390625 31.78125 6.390625 \nQ 39.453125 6.390625 43.28125 13.890625 \nQ 47.125 21.390625 47.125 36.375 \nQ 47.125 51.421875 43.28125 58.90625 \nQ 39.453125 66.40625 31.78125 66.40625 \nz\nM 31.78125 74.21875 \nQ 44.046875 74.21875 50.515625 64.515625 \nQ 56.984375 54.828125 56.984375 36.375 \nQ 56.984375 17.96875 50.515625 8.265625 \nQ 44.046875 -1.421875 31.78125 -1.421875 \nQ 19.53125 -1.421875 13.0625 8.265625 \nQ 6.59375 17.96875 6.59375 36.375 \nQ 6.59375 54.828125 13.0625 64.515625 \nQ 19.53125 74.21875 31.78125 74.21875 \nz\n\" id=\"DejaVuSans-48\"/>\n       </defs>\n       <use xlink:href=\"#DejaVuSans-48\"/>\n      </g>\n     </g>\n    </g>\n    <g id=\"xtick_2\">\n     <g id=\"line2d_2\">\n      <g>\n       <use style=\"stroke:#000000;stroke-width:0.8;\" x=\"69.636429\" xlink:href=\"#m18241ebbd3\" y=\"239.758125\"/>\n      </g>\n     </g>\n     <g id=\"text_2\">\n      <!-- 5 -->\n      <g transform=\"translate(66.455179 254.356563)scale(0.1 -0.1)\">\n       <defs>\n        <path d=\"M 10.796875 72.90625 \nL 49.515625 72.90625 \nL 49.515625 64.59375 \nL 19.828125 64.59375 \nL 19.828125 46.734375 \nQ 21.96875 47.46875 24.109375 47.828125 \nQ 26.265625 48.1875 28.421875 48.1875 \nQ 40.625 48.1875 47.75 41.5 \nQ 54.890625 34.8125 54.890625 23.390625 \nQ 54.890625 11.625 47.5625 5.09375 \nQ 40.234375 -1.421875 26.90625 -1.421875 \nQ 22.3125 -1.421875 17.546875 -0.640625 \nQ 12.796875 0.140625 7.71875 1.703125 \nL 7.71875 11.625 \nQ 12.109375 9.234375 16.796875 8.0625 \nQ 21.484375 6.890625 26.703125 6.890625 \nQ 35.15625 6.890625 40.078125 11.328125 \nQ 45.015625 15.765625 45.015625 23.390625 \nQ 45.015625 31 40.078125 35.4375 \nQ 35.15625 39.890625 26.703125 39.890625 \nQ 22.75 39.890625 18.8125 39.015625 \nQ 14.890625 38.140625 10.796875 36.28125 \nz\n\" id=\"DejaVuSans-53\"/>\n       </defs>\n       <use xlink:href=\"#DejaVuSans-53\"/>\n      </g>\n     </g>\n    </g>\n    <g id=\"xtick_3\">\n     <g id=\"line2d_3\">\n      <g>\n       <use style=\"stroke:#000000;stroke-width:0.8;\" x=\"108.465\" xlink:href=\"#m18241ebbd3\" y=\"239.758125\"/>\n      </g>\n     </g>\n     <g id=\"text_3\">\n      <!-- 10 -->\n      <g transform=\"translate(102.1025 254.356563)scale(0.1 -0.1)\">\n       <defs>\n        <path d=\"M 12.40625 8.296875 \nL 28.515625 8.296875 \nL 28.515625 63.921875 \nL 10.984375 60.40625 \nL 10.984375 69.390625 \nL 28.421875 72.90625 \nL 38.28125 72.90625 \nL 38.28125 8.296875 \nL 54.390625 8.296875 \nL 54.390625 0 \nL 12.40625 0 \nz\n\" id=\"DejaVuSans-49\"/>\n       </defs>\n       <use xlink:href=\"#DejaVuSans-49\"/>\n       <use x=\"63.623047\" xlink:href=\"#DejaVuSans-48\"/>\n      </g>\n     </g>\n    </g>\n    <g id=\"xtick_4\">\n     <g id=\"line2d_4\">\n      <g>\n       <use style=\"stroke:#000000;stroke-width:0.8;\" x=\"147.293571\" xlink:href=\"#m18241ebbd3\" y=\"239.758125\"/>\n      </g>\n     </g>\n     <g id=\"text_4\">\n      <!-- 15 -->\n      <g transform=\"translate(140.931071 254.356563)scale(0.1 -0.1)\">\n       <use xlink:href=\"#DejaVuSans-49\"/>\n       <use x=\"63.623047\" xlink:href=\"#DejaVuSans-53\"/>\n      </g>\n     </g>\n    </g>\n    <g id=\"xtick_5\">\n     <g id=\"line2d_5\">\n      <g>\n       <use style=\"stroke:#000000;stroke-width:0.8;\" x=\"186.122143\" xlink:href=\"#m18241ebbd3\" y=\"239.758125\"/>\n      </g>\n     </g>\n     <g id=\"text_5\">\n      <!-- 20 -->\n      <g transform=\"translate(179.759643 254.356563)scale(0.1 -0.1)\">\n       <defs>\n        <path d=\"M 19.1875 8.296875 \nL 53.609375 8.296875 \nL 53.609375 0 \nL 7.328125 0 \nL 7.328125 8.296875 \nQ 12.9375 14.109375 22.625 23.890625 \nQ 32.328125 33.6875 34.8125 36.53125 \nQ 39.546875 41.84375 41.421875 45.53125 \nQ 43.3125 49.21875 43.3125 52.78125 \nQ 43.3125 58.59375 39.234375 62.25 \nQ 35.15625 65.921875 28.609375 65.921875 \nQ 23.96875 65.921875 18.8125 64.3125 \nQ 13.671875 62.703125 7.8125 59.421875 \nL 7.8125 69.390625 \nQ 13.765625 71.78125 18.9375 73 \nQ 24.125 74.21875 28.421875 74.21875 \nQ 39.75 74.21875 46.484375 68.546875 \nQ 53.21875 62.890625 53.21875 53.421875 \nQ 53.21875 48.921875 51.53125 44.890625 \nQ 49.859375 40.875 45.40625 35.40625 \nQ 44.1875 33.984375 37.640625 27.21875 \nQ 31.109375 20.453125 19.1875 8.296875 \nz\n\" id=\"DejaVuSans-50\"/>\n       </defs>\n       <use xlink:href=\"#DejaVuSans-50\"/>\n       <use x=\"63.623047\" xlink:href=\"#DejaVuSans-48\"/>\n      </g>\n     </g>\n    </g>\n    <g id=\"xtick_6\">\n     <g id=\"line2d_6\">\n      <g>\n       <use style=\"stroke:#000000;stroke-width:0.8;\" x=\"224.950714\" xlink:href=\"#m18241ebbd3\" y=\"239.758125\"/>\n      </g>\n     </g>\n     <g id=\"text_6\">\n      <!-- 25 -->\n      <g transform=\"translate(218.588214 254.356563)scale(0.1 -0.1)\">\n       <use xlink:href=\"#DejaVuSans-50\"/>\n       <use x=\"63.623047\" xlink:href=\"#DejaVuSans-53\"/>\n      </g>\n     </g>\n    </g>\n   </g>\n   <g id=\"matplotlib.axis_2\">\n    <g id=\"ytick_1\">\n     <g id=\"line2d_7\">\n      <defs>\n       <path d=\"M 0 0 \nL -3.5 0 \n\" id=\"ma35e80beac\" style=\"stroke:#000000;stroke-width:0.8;\"/>\n      </defs>\n      <g>\n       <use style=\"stroke:#000000;stroke-width:0.8;\" x=\"26.925\" xlink:href=\"#ma35e80beac\" y=\"26.200982\"/>\n      </g>\n     </g>\n     <g id=\"text_7\">\n      <!-- 0 -->\n      <g transform=\"translate(13.5625 30.000201)scale(0.1 -0.1)\">\n       <use xlink:href=\"#DejaVuSans-48\"/>\n      </g>\n     </g>\n    </g>\n    <g id=\"ytick_2\">\n     <g id=\"line2d_8\">\n      <g>\n       <use style=\"stroke:#000000;stroke-width:0.8;\" x=\"26.925\" xlink:href=\"#ma35e80beac\" y=\"65.029554\"/>\n      </g>\n     </g>\n     <g id=\"text_8\">\n      <!-- 5 -->\n      <g transform=\"translate(13.5625 68.828772)scale(0.1 -0.1)\">\n       <use xlink:href=\"#DejaVuSans-53\"/>\n      </g>\n     </g>\n    </g>\n    <g id=\"ytick_3\">\n     <g id=\"line2d_9\">\n      <g>\n       <use style=\"stroke:#000000;stroke-width:0.8;\" x=\"26.925\" xlink:href=\"#ma35e80beac\" y=\"103.858125\"/>\n      </g>\n     </g>\n     <g id=\"text_9\">\n      <!-- 10 -->\n      <g transform=\"translate(7.2 107.657344)scale(0.1 -0.1)\">\n       <use xlink:href=\"#DejaVuSans-49\"/>\n       <use x=\"63.623047\" xlink:href=\"#DejaVuSans-48\"/>\n      </g>\n     </g>\n    </g>\n    <g id=\"ytick_4\">\n     <g id=\"line2d_10\">\n      <g>\n       <use style=\"stroke:#000000;stroke-width:0.8;\" x=\"26.925\" xlink:href=\"#ma35e80beac\" y=\"142.686696\"/>\n      </g>\n     </g>\n     <g id=\"text_10\">\n      <!-- 15 -->\n      <g transform=\"translate(7.2 146.485915)scale(0.1 -0.1)\">\n       <use xlink:href=\"#DejaVuSans-49\"/>\n       <use x=\"63.623047\" xlink:href=\"#DejaVuSans-53\"/>\n      </g>\n     </g>\n    </g>\n    <g id=\"ytick_5\">\n     <g id=\"line2d_11\">\n      <g>\n       <use style=\"stroke:#000000;stroke-width:0.8;\" x=\"26.925\" xlink:href=\"#ma35e80beac\" y=\"181.515268\"/>\n      </g>\n     </g>\n     <g id=\"text_11\">\n      <!-- 20 -->\n      <g transform=\"translate(7.2 185.314487)scale(0.1 -0.1)\">\n       <use xlink:href=\"#DejaVuSans-50\"/>\n       <use x=\"63.623047\" xlink:href=\"#DejaVuSans-48\"/>\n      </g>\n     </g>\n    </g>\n    <g id=\"ytick_6\">\n     <g id=\"line2d_12\">\n      <g>\n       <use style=\"stroke:#000000;stroke-width:0.8;\" x=\"26.925\" xlink:href=\"#ma35e80beac\" y=\"220.343839\"/>\n      </g>\n     </g>\n     <g id=\"text_12\">\n      <!-- 25 -->\n      <g transform=\"translate(7.2 224.143058)scale(0.1 -0.1)\">\n       <use xlink:href=\"#DejaVuSans-50\"/>\n       <use x=\"63.623047\" xlink:href=\"#DejaVuSans-53\"/>\n      </g>\n     </g>\n    </g>\n   </g>\n   <g id=\"patch_3\">\n    <path d=\"M 26.925 239.758125 \nL 26.925 22.318125 \n\" style=\"fill:none;stroke:#000000;stroke-linecap:square;stroke-linejoin:miter;stroke-width:0.8;\"/>\n   </g>\n   <g id=\"patch_4\">\n    <path d=\"M 244.365 239.758125 \nL 244.365 22.318125 \n\" style=\"fill:none;stroke:#000000;stroke-linecap:square;stroke-linejoin:miter;stroke-width:0.8;\"/>\n   </g>\n   <g id=\"patch_5\">\n    <path d=\"M 26.925 239.758125 \nL 244.365 239.758125 \n\" style=\"fill:none;stroke:#000000;stroke-linecap:square;stroke-linejoin:miter;stroke-width:0.8;\"/>\n   </g>\n   <g id=\"patch_6\">\n    <path d=\"M 26.925 22.318125 \nL 244.365 22.318125 \n\" style=\"fill:none;stroke:#000000;stroke-linecap:square;stroke-linejoin:miter;stroke-width:0.8;\"/>\n   </g>\n   <g id=\"text_13\">\n    <!-- Label: 0 -->\n    <g transform=\"translate(111.711562 16.318125)scale(0.12 -0.12)\">\n     <defs>\n      <path d=\"M 9.8125 72.90625 \nL 19.671875 72.90625 \nL 19.671875 8.296875 \nL 55.171875 8.296875 \nL 55.171875 0 \nL 9.8125 0 \nz\n\" id=\"DejaVuSans-76\"/>\n      <path d=\"M 34.28125 27.484375 \nQ 23.390625 27.484375 19.1875 25 \nQ 14.984375 22.515625 14.984375 16.5 \nQ 14.984375 11.71875 18.140625 8.90625 \nQ 21.296875 6.109375 26.703125 6.109375 \nQ 34.1875 6.109375 38.703125 11.40625 \nQ 43.21875 16.703125 43.21875 25.484375 \nL 43.21875 27.484375 \nz\nM 52.203125 31.203125 \nL 52.203125 0 \nL 43.21875 0 \nL 43.21875 8.296875 \nQ 40.140625 3.328125 35.546875 0.953125 \nQ 30.953125 -1.421875 24.3125 -1.421875 \nQ 15.921875 -1.421875 10.953125 3.296875 \nQ 6 8.015625 6 15.921875 \nQ 6 25.140625 12.171875 29.828125 \nQ 18.359375 34.515625 30.609375 34.515625 \nL 43.21875 34.515625 \nL 43.21875 35.40625 \nQ 43.21875 41.609375 39.140625 45 \nQ 35.0625 48.390625 27.6875 48.390625 \nQ 23 48.390625 18.546875 47.265625 \nQ 14.109375 46.140625 10.015625 43.890625 \nL 10.015625 52.203125 \nQ 14.9375 54.109375 19.578125 55.046875 \nQ 24.21875 56 28.609375 56 \nQ 40.484375 56 46.34375 49.84375 \nQ 52.203125 43.703125 52.203125 31.203125 \nz\n\" id=\"DejaVuSans-97\"/>\n      <path d=\"M 48.6875 27.296875 \nQ 48.6875 37.203125 44.609375 42.84375 \nQ 40.53125 48.484375 33.40625 48.484375 \nQ 26.265625 48.484375 22.1875 42.84375 \nQ 18.109375 37.203125 18.109375 27.296875 \nQ 18.109375 17.390625 22.1875 11.75 \nQ 26.265625 6.109375 33.40625 6.109375 \nQ 40.53125 6.109375 44.609375 11.75 \nQ 48.6875 17.390625 48.6875 27.296875 \nz\nM 18.109375 46.390625 \nQ 20.953125 51.265625 25.265625 53.625 \nQ 29.59375 56 35.59375 56 \nQ 45.5625 56 51.78125 48.09375 \nQ 58.015625 40.1875 58.015625 27.296875 \nQ 58.015625 14.40625 51.78125 6.484375 \nQ 45.5625 -1.421875 35.59375 -1.421875 \nQ 29.59375 -1.421875 25.265625 0.953125 \nQ 20.953125 3.328125 18.109375 8.203125 \nL 18.109375 0 \nL 9.078125 0 \nL 9.078125 75.984375 \nL 18.109375 75.984375 \nz\n\" id=\"DejaVuSans-98\"/>\n      <path d=\"M 56.203125 29.59375 \nL 56.203125 25.203125 \nL 14.890625 25.203125 \nQ 15.484375 15.921875 20.484375 11.0625 \nQ 25.484375 6.203125 34.421875 6.203125 \nQ 39.59375 6.203125 44.453125 7.46875 \nQ 49.3125 8.734375 54.109375 11.28125 \nL 54.109375 2.78125 \nQ 49.265625 0.734375 44.1875 -0.34375 \nQ 39.109375 -1.421875 33.890625 -1.421875 \nQ 20.796875 -1.421875 13.15625 6.1875 \nQ 5.515625 13.8125 5.515625 26.8125 \nQ 5.515625 40.234375 12.765625 48.109375 \nQ 20.015625 56 32.328125 56 \nQ 43.359375 56 49.78125 48.890625 \nQ 56.203125 41.796875 56.203125 29.59375 \nz\nM 47.21875 32.234375 \nQ 47.125 39.59375 43.09375 43.984375 \nQ 39.0625 48.390625 32.421875 48.390625 \nQ 24.90625 48.390625 20.390625 44.140625 \nQ 15.875 39.890625 15.1875 32.171875 \nz\n\" id=\"DejaVuSans-101\"/>\n      <path d=\"M 9.421875 75.984375 \nL 18.40625 75.984375 \nL 18.40625 0 \nL 9.421875 0 \nz\n\" id=\"DejaVuSans-108\"/>\n      <path d=\"M 11.71875 12.40625 \nL 22.015625 12.40625 \nL 22.015625 0 \nL 11.71875 0 \nz\nM 11.71875 51.703125 \nL 22.015625 51.703125 \nL 22.015625 39.3125 \nL 11.71875 39.3125 \nz\n\" id=\"DejaVuSans-58\"/>\n      <path id=\"DejaVuSans-32\"/>\n     </defs>\n     <use xlink:href=\"#DejaVuSans-76\"/>\n     <use x=\"55.712891\" xlink:href=\"#DejaVuSans-97\"/>\n     <use x=\"116.992188\" xlink:href=\"#DejaVuSans-98\"/>\n     <use x=\"180.46875\" xlink:href=\"#DejaVuSans-101\"/>\n     <use x=\"241.992188\" xlink:href=\"#DejaVuSans-108\"/>\n     <use x=\"269.775391\" xlink:href=\"#DejaVuSans-58\"/>\n     <use x=\"303.466797\" xlink:href=\"#DejaVuSans-32\"/>\n     <use x=\"335.253906\" xlink:href=\"#DejaVuSans-48\"/>\n    </g>\n   </g>\n  </g>\n </g>\n <defs>\n  <clipPath id=\"p75510db26f\">\n   <rect height=\"217.44\" width=\"217.44\" x=\"26.925\" y=\"22.318125\"/>\n  </clipPath>\n </defs>\n</svg>\n",
      "image/png": "[encoded data removed]"
     },
     "metadata": {
      "needs_background": "light"
     }
    }
   ],
   "source": [
    "# Observing a sample\n",
    "plt.imshow(train_images[1])\n",
    "plt.title('Label: ' + str(train_labels[1]))"
   ]
  },
  {
   "source": [
    "# Model 1"
   ],
   "cell_type": "markdown",
   "metadata": {}
  },
  {
   "cell_type": "code",
   "execution_count": 39,
   "metadata": {},
   "outputs": [
    {
     "output_type": "stream",
     "name": "stdout",
     "text": [
      "Model: \"sequential_12\"\n_________________________________________________________________\nLayer (type)                 Output Shape              Param #   \n=================================================================\nconv2d_12 (Conv2D)           (None, 28, 28, 8)         80        \n_________________________________________________________________\nmax_pooling2d_8 (MaxPooling2 (None, 14, 14, 8)         0         \n_________________________________________________________________\ndropout_7 (Dropout)          (None, 14, 14, 8)         0         \n_________________________________________________________________\nflatten_6 (Flatten)          (None, 1568)              0         \n_________________________________________________________________\ndense_10 (Dense)             (None, 32)                50208     \n_________________________________________________________________\ndense_11 (Dense)             (None, 10)                330       \n=================================================================\nTotal params: 50,618\nTrainable params: 50,618\nNon-trainable params: 0\n_________________________________________________________________\n"
     ]
    }
   ],
   "source": [
    "# Creating a model and layers\n",
    "model = tf.keras.models.Sequential()\n",
    "model.add(layers.Conv2D(filters=8, \n",
    "                        kernel_size=(3, 3), \n",
    "                        input_shape=(28, 28, 1), \n",
    "                        padding='same'))\n",
    "model.add(layers.MaxPooling2D(pool_size=(2, 2), padding=\"same\"))\n",
    "model.add(layers.Dropout(0.25))\n",
    "model.add(layers.Flatten())\n",
    "model.add(layers.Dense(32, activation='relu'))\n",
    "model.add(layers.Dense(10, activation='softmax'))\n",
    "model.summary()"
   ]
  },
  {
   "cell_type": "code",
   "execution_count": 40,
   "metadata": {},
   "outputs": [],
   "source": [
    "# Compiling the model\n",
    "model.compile(optimizer='adam',\n",
    "              loss='sparse_categorical_crossentropy',\n",
    "              metrics=['accuracy'])"
   ]
  },
  {
   "cell_type": "code",
   "execution_count": 41,
   "metadata": {},
   "outputs": [
    {
     "output_type": "stream",
     "name": "stdout",
     "text": [
      "Epoch 1/25\n",
      "1875/1875 [==============================] - 17s 9ms/step - loss: 2.2678 - accuracy: 0.5848\n",
      "Epoch 2/25\n",
      "1875/1875 [==============================] - 18s 10ms/step - loss: 0.3366 - accuracy: 0.9110\n",
      "Epoch 3/25\n",
      "1875/1875 [==============================] - 17s 9ms/step - loss: 0.2075 - accuracy: 0.9397\n",
      "Epoch 4/25\n",
      "1875/1875 [==============================] - 16s 9ms/step - loss: 0.1549 - accuracy: 0.9547\n",
      "Epoch 5/25\n",
      "1875/1875 [==============================] - 16s 9ms/step - loss: 0.1362 - accuracy: 0.9591\n",
      "Epoch 6/25\n",
      "1875/1875 [==============================] - 16s 8ms/step - loss: 0.1303 - accuracy: 0.9618\n",
      "Epoch 7/25\n",
      "1875/1875 [==============================] - 16s 9ms/step - loss: 0.1187 - accuracy: 0.9637\n",
      "Epoch 8/25\n",
      "1875/1875 [==============================] - 16s 9ms/step - loss: 0.1200 - accuracy: 0.9640\n",
      "Epoch 9/25\n",
      "1875/1875 [==============================] - 16s 9ms/step - loss: 0.1083 - accuracy: 0.9675\n",
      "Epoch 10/25\n",
      "1875/1875 [==============================] - 16s 8ms/step - loss: 0.1062 - accuracy: 0.9683\n",
      "Epoch 11/25\n",
      "1875/1875 [==============================] - 16s 9ms/step - loss: 0.1042 - accuracy: 0.9674\n",
      "Epoch 12/25\n",
      "1875/1875 [==============================] - 17s 9ms/step - loss: 0.1009 - accuracy: 0.9707\n",
      "Epoch 13/25\n",
      "1875/1875 [==============================] - 17s 9ms/step - loss: 0.0978 - accuracy: 0.9696\n",
      "Epoch 14/25\n",
      "1875/1875 [==============================] - 15s 8ms/step - loss: 0.0997 - accuracy: 0.9698\n",
      "Epoch 15/25\n",
      "1875/1875 [==============================] - 17s 9ms/step - loss: 0.0952 - accuracy: 0.9721\n",
      "Epoch 16/25\n",
      "1875/1875 [==============================] - 19s 10ms/step - loss: 0.0982 - accuracy: 0.9711\n",
      "Epoch 17/25\n",
      "1875/1875 [==============================] - 20s 11ms/step - loss: 0.1000 - accuracy: 0.9711\n",
      "Epoch 18/25\n",
      "1875/1875 [==============================] - 17s 9ms/step - loss: 0.0946 - accuracy: 0.9724\n",
      "Epoch 19/25\n",
      "1875/1875 [==============================] - 16s 8ms/step - loss: 0.0976 - accuracy: 0.9715\n",
      "Epoch 20/25\n",
      "1875/1875 [==============================] - 15s 8ms/step - loss: 0.0935 - accuracy: 0.9719\n",
      "Epoch 21/25\n",
      "1875/1875 [==============================] - 15s 8ms/step - loss: 0.0919 - accuracy: 0.9731\n",
      "Epoch 22/25\n",
      "1875/1875 [==============================] - 16s 9ms/step - loss: 0.0875 - accuracy: 0.9743\n",
      "Epoch 23/25\n",
      "1875/1875 [==============================] - 16s 9ms/step - loss: 0.0949 - accuracy: 0.9718\n",
      "Epoch 24/25\n",
      "1875/1875 [==============================] - 19s 10ms/step - loss: 0.0917 - accuracy: 0.9742\n",
      "Epoch 25/25\n",
      "1875/1875 [==============================] - 18s 10ms/step - loss: 0.0939 - accuracy: 0.9734\n"
     ]
    },
    {
     "output_type": "execute_result",
     "data": {
      "text/plain": [
       "<tensorflow.python.keras.callbacks.History at 0x7fe5eee03280>"
      ]
     },
     "metadata": {},
     "execution_count": 41
    }
   ],
   "source": [
    "model.fit(train_images, train_labels, epochs=25)"
   ]
  },
  {
   "cell_type": "code",
   "execution_count": 42,
   "metadata": {},
   "outputs": [],
   "source": [
    "predictions1 = model.predict(test_images)"
   ]
  },
  {
   "cell_type": "code",
   "execution_count": 43,
   "metadata": {},
   "outputs": [
    {
     "output_type": "execute_result",
     "data": {
      "text/plain": [
       "(10000, 10)"
      ]
     },
     "metadata": {},
     "execution_count": 43
    }
   ],
   "source": [
    "predictions1.shape"
   ]
  },
  {
   "cell_type": "code",
   "execution_count": 44,
   "metadata": {},
   "outputs": [
    {
     "output_type": "stream",
     "name": "stdout",
     "text": [
      "313/313 [==============================] - 1s 4ms/step - loss: 0.1196 - accuracy: 0.9682\n",
      "test loss, test acc: [0.11956940591335297, 0.9682000279426575]\n"
     ]
    }
   ],
   "source": [
    "results1 = model.evaluate(test_images, test_labels)\n",
    "print(\"test loss, test acc:\", results1)"
   ]
  },
  {
   "source": [
    "Accuracy of model 1 is 96.82%"
   ],
   "cell_type": "markdown",
   "metadata": {}
  },
  {
   "source": [
    "# Model 2"
   ],
   "cell_type": "markdown",
   "metadata": {}
  },
  {
   "cell_type": "code",
   "execution_count": 31,
   "metadata": {},
   "outputs": [
    {
     "output_type": "stream",
     "name": "stdout",
     "text": [
      "Model: \"sequential_11\"\n_________________________________________________________________\nLayer (type)                 Output Shape              Param #   \n=================================================================\nconv2d_11 (Conv2D)           (None, 28, 28, 8)         80        \n_________________________________________________________________\nmax_pooling2d_7 (MaxPooling2 (None, 14, 14, 8)         0         \n_________________________________________________________________\ndropout_6 (Dropout)          (None, 14, 14, 8)         0         \n_________________________________________________________________\nflatten_5 (Flatten)          (None, 1568)              0         \n_________________________________________________________________\ndense_7 (Dense)              (None, 16)                25104     \n_________________________________________________________________\ndense_8 (Dense)              (None, 32)                544       \n_________________________________________________________________\ndense_9 (Dense)              (None, 10)                330       \n=================================================================\nTotal params: 26,058\nTrainable params: 26,058\nNon-trainable params: 0\n_________________________________________________________________\n"
     ]
    }
   ],
   "source": [
    "# Creating a model and layers\n",
    "model = tf.keras.models.Sequential()\n",
    "model.add(layers.Conv2D(filters=8, \n",
    "                        kernel_size=(3, 3), \n",
    "                        input_shape=(28, 28, 1), \n",
    "                        padding='same'))\n",
    "model.add(layers.MaxPooling2D(pool_size=(2, 2), padding=\"same\"))\n",
    "model.add(layers.Dropout(0.25))\n",
    "model.add(layers.Flatten())\n",
    "model.add(layers.Dense(16, activation='relu'))\n",
    "model.add(layers.Dense(32, activation='relu'))\n",
    "model.add(layers.Dense(10, activation='softmax'))\n",
    "model.summary()"
   ]
  },
  {
   "cell_type": "code",
   "execution_count": 32,
   "metadata": {},
   "outputs": [],
   "source": [
    "# Compiling the model\n",
    "model.compile(optimizer='adam',\n",
    "              loss='sparse_categorical_crossentropy',\n",
    "              metrics=['accuracy'])"
   ]
  },
  {
   "cell_type": "code",
   "execution_count": 33,
   "metadata": {},
   "outputs": [
    {
     "output_type": "stream",
     "name": "stdout",
     "text": [
      "Epoch 1/25\n",
      "1875/1875 [==============================] - 18s 9ms/step - loss: 2.6515 - accuracy: 0.3275\n",
      "Epoch 2/25\n",
      "1875/1875 [==============================] - 17s 9ms/step - loss: 0.6159 - accuracy: 0.8022\n",
      "Epoch 3/25\n",
      "1875/1875 [==============================] - 17s 9ms/step - loss: 0.3402 - accuracy: 0.9032\n",
      "Epoch 4/25\n",
      "1875/1875 [==============================] - 16s 9ms/step - loss: 0.2891 - accuracy: 0.9185\n",
      "Epoch 5/25\n",
      "1875/1875 [==============================] - 17s 9ms/step - loss: 0.2507 - accuracy: 0.9268\n",
      "Epoch 6/25\n",
      "1875/1875 [==============================] - 16s 9ms/step - loss: 0.2385 - accuracy: 0.9304\n",
      "Epoch 7/25\n",
      "1875/1875 [==============================] - 16s 9ms/step - loss: 0.2061 - accuracy: 0.9405\n",
      "Epoch 8/25\n",
      "1875/1875 [==============================] - 15s 8ms/step - loss: 0.1879 - accuracy: 0.9442\n",
      "Epoch 9/25\n",
      "1875/1875 [==============================] - 16s 8ms/step - loss: 0.1806 - accuracy: 0.9473\n",
      "Epoch 10/25\n",
      "1875/1875 [==============================] - 16s 9ms/step - loss: 0.1628 - accuracy: 0.9524\n",
      "Epoch 11/25\n",
      "1875/1875 [==============================] - 18s 9ms/step - loss: 0.1558 - accuracy: 0.9530\n",
      "Epoch 12/25\n",
      "1875/1875 [==============================] - 20s 10ms/step - loss: 0.1446 - accuracy: 0.9566\n",
      "Epoch 13/25\n",
      "1875/1875 [==============================] - 17s 9ms/step - loss: 0.1435 - accuracy: 0.9553\n",
      "Epoch 14/25\n",
      "1875/1875 [==============================] - 17s 9ms/step - loss: 0.1322 - accuracy: 0.9599\n",
      "Epoch 15/25\n",
      "1875/1875 [==============================] - 18s 9ms/step - loss: 0.1287 - accuracy: 0.9610\n",
      "Epoch 16/25\n",
      "1875/1875 [==============================] - 16s 9ms/step - loss: 0.1239 - accuracy: 0.9626\n",
      "Epoch 17/25\n",
      "1875/1875 [==============================] - 18s 9ms/step - loss: 0.1223 - accuracy: 0.9636\n",
      "Epoch 18/25\n",
      "1875/1875 [==============================] - 17s 9ms/step - loss: 0.1182 - accuracy: 0.9641\n",
      "Epoch 19/25\n",
      "1875/1875 [==============================] - 17s 9ms/step - loss: 0.1138 - accuracy: 0.9658\n",
      "Epoch 20/25\n",
      "1875/1875 [==============================] - 20s 11ms/step - loss: 0.1139 - accuracy: 0.9642\n",
      "Epoch 21/25\n",
      "1875/1875 [==============================] - 18s 9ms/step - loss: 0.1115 - accuracy: 0.9654\n",
      "Epoch 22/25\n",
      "1875/1875 [==============================] - 17s 9ms/step - loss: 0.1082 - accuracy: 0.9670\n",
      "Epoch 23/25\n",
      "1875/1875 [==============================] - 18s 10ms/step - loss: 0.1072 - accuracy: 0.9671\n",
      "Epoch 24/25\n",
      "1875/1875 [==============================] - 18s 10ms/step - loss: 0.0990 - accuracy: 0.9696\n",
      "Epoch 25/25\n",
      "1875/1875 [==============================] - 17s 9ms/step - loss: 0.1091 - accuracy: 0.9667\n"
     ]
    },
    {
     "output_type": "execute_result",
     "data": {
      "text/plain": [
       "<tensorflow.python.keras.callbacks.History at 0x7fe5f52c78e0>"
      ]
     },
     "metadata": {},
     "execution_count": 33
    }
   ],
   "source": [
    "model.fit(train_images, train_labels, epochs=25)"
   ]
  },
  {
   "cell_type": "code",
   "execution_count": 34,
   "metadata": {},
   "outputs": [],
   "source": [
    "predictions2 = model.predict(test_images)"
   ]
  },
  {
   "cell_type": "code",
   "execution_count": 35,
   "metadata": {},
   "outputs": [
    {
     "output_type": "execute_result",
     "data": {
      "text/plain": [
       "(10000, 10)"
      ]
     },
     "metadata": {},
     "execution_count": 35
    }
   ],
   "source": [
    "predictions2.shape"
   ]
  },
  {
   "cell_type": "code",
   "execution_count": 38,
   "metadata": {},
   "outputs": [
    {
     "output_type": "stream",
     "name": "stdout",
     "text": [
      "313/313 [==============================] - 1s 4ms/step - loss: 0.0916 - accuracy: 0.9729\n",
      "test loss, test acc: [0.09164940565824509, 0.9728999733924866]\n"
     ]
    }
   ],
   "source": [
    "results2 = model.evaluate(test_images, test_labels)\n",
    "print(\"test loss, test acc:\", results2)"
   ]
  },
  {
   "source": [
    "Accuracy of model 2 is 97.29%, which is better than the accuracy of model 1 (96.82%) so in this case our model has benefited from having an extra layer (the dense layer of 16 neurons)"
   ],
   "cell_type": "markdown",
   "metadata": {}
  }
 ]
}
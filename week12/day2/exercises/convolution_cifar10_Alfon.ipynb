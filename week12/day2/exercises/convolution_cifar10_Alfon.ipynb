{
 "metadata": {
  "language_info": {
   "codemirror_mode": {
    "name": "ipython",
    "version": 3
   },
   "file_extension": ".py",
   "mimetype": "text/x-python",
   "name": "python",
   "nbconvert_exporter": "python",
   "pygments_lexer": "ipython3",
   "version": "3.8.0-final"
  },
  "orig_nbformat": 2,
  "kernelspec": {
   "name": "python3",
   "display_name": "Python 3.8.0 64-bit",
   "metadata": {
    "interpreter": {
     "hash": "aee8b7b246df8f9039afb4144a1f6fd8d2ca17a180786b69acc140d282b71a49"
    }
   }
  }
 },
 "nbformat": 4,
 "nbformat_minor": 2,
 "cells": [
  {
   "source": [
    "### 1.\n",
    "\n",
    "A partir del dataset mnist (tf.keras.datasets.cifar10.load_data()), realiza una clasificación usando:\n",
    "\n",
    "** Las imágenes son a color, es decir, tienen 3 dimensiones (rgb). Para este problema, antes de empezar, transforma las imágenes a blanco y negro para que tengan 1 sola dimensión de profundidad **. \n",
    "\n",
    "1. Una CNN con:\n",
    "    - 1 capa convolutiva con 8 neuronas\n",
    "    - 1 MaxPool quedando las dimensiones de la imagen a la mitad\n",
    "    - 1 dropout 0.25\n",
    "    - 1 Flatten\n",
    "    - 1 dense con 32 neuronas\n",
    "    - 1 dense con 10 (salida)\n",
    "\n",
    "2. Una CNN con:\n",
    "    - 1 capa convolutiva con 8 neuronas\n",
    "    - 1 MaxPool quedando las dimensiones de la imagen a la mitad\n",
    "    - 1 dropout 0.25\n",
    "    - 1 Flatten\n",
    "    - 1 dense con 16 neuronas\n",
    "    - 1 dense con 32 neuronas\n",
    "    - 1 dense con 10 (salida)\n",
    "\n",
    "¿ Cuál ha dado mejor resultado?\n",
    "\n",
    "Para compilar el modelo, usa:\n",
    "\n",
    "model.compile(optimizer='adam',\n",
    "              loss='sparse_categorical_crossentropy',\n",
    "              metrics=['accuracy'])"
   ],
   "cell_type": "markdown",
   "metadata": {}
  },
  {
   "cell_type": "code",
   "execution_count": 1,
   "metadata": {},
   "outputs": [
    {
     "output_type": "stream",
     "name": "stderr",
     "text": [
      "WARNING:root:Limited tf.compat.v2.summary API due to missing TensorBoard installation.\n",
      "WARNING:root:Limited tf.compat.v2.summary API due to missing TensorBoard installation.\n",
      "WARNING:root:Limited tf.compat.v2.summary API due to missing TensorBoard installation.\n",
      "WARNING:root:Limited tf.summary API due to missing TensorBoard installation.\n"
     ]
    }
   ],
   "source": [
    "# Importing the necessary libraries\n",
    "import tensorflow as tf\n",
    "import matplotlib.pyplot as plt\n",
    "from tensorflow.keras import layers\n",
    "import numpy as np"
   ]
  },
  {
   "cell_type": "code",
   "execution_count": 2,
   "metadata": {},
   "outputs": [],
   "source": [
    "# Loading the data\n",
    "(train_images, train_labels),  (test_images, test_labels) = tf.keras.datasets.cifar10.load_data()"
   ]
  },
  {
   "cell_type": "code",
   "execution_count": 3,
   "metadata": {},
   "outputs": [],
   "source": [
    "# Obtaining the imges in grayscale\n",
    "train_images_gray = tf.image.rgb_to_grayscale(train_images)\n",
    "test_images_gray = tf.image.rgb_to_grayscale(test_images)"
   ]
  },
  {
   "cell_type": "code",
   "execution_count": 6,
   "metadata": {},
   "outputs": [],
   "source": [
    "# Normalize grayscale images\n",
    "train_images_gray_norm = train_images_gray / 255\n",
    "test_images_gray_norm = test_images_gray / 255"
   ]
  },
  {
   "cell_type": "code",
   "execution_count": 3,
   "metadata": {},
   "outputs": [],
   "source": [
    "# Normalize RGB images\n",
    "train_images_norm = train_images / 255\n",
    "test_images_norm = test_images / 255"
   ]
  },
  {
   "cell_type": "code",
   "execution_count": 7,
   "metadata": {},
   "outputs": [
    {
     "output_type": "stream",
     "name": "stdout",
     "text": [
      "(50000, 32, 32, 3)\n(50000, 1)\n(10000, 32, 32, 3)\n(10000, 1)\n"
     ]
    }
   ],
   "source": [
    "# Shape of the data\n",
    "print(train_images.shape)\n",
    "print(train_labels.shape)\n",
    "print(test_images.shape)\n",
    "print(test_labels.shape)"
   ]
  },
  {
   "cell_type": "code",
   "execution_count": 8,
   "metadata": {},
   "outputs": [
    {
     "output_type": "stream",
     "name": "stdout",
     "text": [
      "(50000, 32, 32, 1)\n(10000, 32, 32, 1)\n"
     ]
    }
   ],
   "source": [
    "# Shape of the grayscale images\n",
    "print(train_images_gray.shape)\n",
    "print(test_images_gray.shape)"
   ]
  },
  {
   "cell_type": "code",
   "execution_count": 7,
   "metadata": {},
   "outputs": [
    {
     "output_type": "stream",
     "name": "stdout",
     "text": [
      "(50000, 32, 32, 3)\n(10000, 32, 32, 3)\n"
     ]
    }
   ],
   "source": [
    "# Shape of the normalized RGB images\n",
    "print(train_images_norm.shape)\n",
    "print(test_images_norm.shape)"
   ]
  },
  {
   "cell_type": "code",
   "execution_count": 9,
   "metadata": {},
   "outputs": [
    {
     "output_type": "execute_result",
     "data": {
      "text/plain": [
       "Text(0.5, 1.0, 'Label: [9]')"
      ]
     },
     "metadata": {},
     "execution_count": 9
    },
    {
     "output_type": "display_data",
     "data": {
      "text/plain": "<Figure size 432x288 with 1 Axes>",
      "image/svg+xml": "<?xml version=\"1.0\" encoding=\"utf-8\" standalone=\"no\"?>\n<!DOCTYPE svg PUBLIC \"-//W3C//DTD SVG 1.1//EN\"\n  \"http://www.w3.org/Graphics/SVG/1.1/DTD/svg11.dtd\">\n<!-- Created with matplotlib (https://matplotlib.org/) -->\n<svg height=\"263.63625pt\" version=\"1.1\" viewBox=\"0 0 251.565 263.63625\" width=\"251.565pt\" xmlns=\"http://www.w3.org/2000/svg\" xmlns:xlink=\"http://www.w3.org/1999/xlink\">\n <metadata>\n  <rdf:RDF xmlns:cc=\"http://creativecommons.org/ns#\" xmlns:dc=\"http://purl.org/dc/elements/1.1/\" xmlns:rdf=\"http://www.w3.org/1999/02/22-rdf-syntax-ns#\">\n   <cc:Work>\n    <dc:type rdf:resource=\"http://purl.org/dc/dcmitype/StillImage\"/>\n    <dc:date>2021-02-24T12:49:20.095533</dc:date>\n    <dc:format>image/svg+xml</dc:format>\n    <dc:creator>\n     <cc:Agent>\n      <dc:title>Matplotlib v3.3.3, https://matplotlib.org/</dc:title>\n     </cc:Agent>\n    </dc:creator>\n   </cc:Work>\n  </rdf:RDF>\n </metadata>\n <defs>\n  <style type=\"text/css\">*{stroke-linecap:butt;stroke-linejoin:round;}</style>\n </defs>\n <g id=\"figure_1\">\n  <g id=\"patch_1\">\n   <path d=\"M 0 263.63625 \nL 251.565 263.63625 \nL 251.565 0 \nL 0 0 \nz\n\" style=\"fill:none;\"/>\n  </g>\n  <g id=\"axes_1\">\n   <g id=\"patch_2\">\n    <path d=\"M 26.925 239.758125 \nL 244.365 239.758125 \nL 244.365 22.318125 \nL 26.925 22.318125 \nz\n\" style=\"fill:#ffffff;\"/>\n   </g>\n   <g clip-path=\"url(#p3938701988)\">\n    <image height=\"218\" id=\"imaged1733e7f41\" transform=\"scale(1 -1)translate(0 -218)\" width=\"218\" x=\"26.925\" xlink:href=\"data:image/png;base64,\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\" y=\"-21.758125\"/>\n   </g>\n   <g id=\"matplotlib.axis_1\">\n    <g id=\"xtick_1\">\n     <g id=\"line2d_1\">\n      <defs>\n       <path d=\"M 0 0 \nL 0 3.5 \n\" id=\"me9230d2ae9\" style=\"stroke:#000000;stroke-width:0.8;\"/>\n      </defs>\n      <g>\n       <use style=\"stroke:#000000;stroke-width:0.8;\" x=\"30.3225\" xlink:href=\"#me9230d2ae9\" y=\"239.758125\"/>\n      </g>\n     </g>\n     <g id=\"text_1\">\n      <!-- 0 -->\n      <g transform=\"translate(27.14125 254.356563)scale(0.1 -0.1)\">\n       <defs>\n        <path d=\"M 31.78125 66.40625 \nQ 24.171875 66.40625 20.328125 58.90625 \nQ 16.5 51.421875 16.5 36.375 \nQ 16.5 21.390625 20.328125 13.890625 \nQ 24.171875 6.390625 31.78125 6.390625 \nQ 39.453125 6.390625 43.28125 13.890625 \nQ 47.125 21.390625 47.125 36.375 \nQ 47.125 51.421875 43.28125 58.90625 \nQ 39.453125 66.40625 31.78125 66.40625 \nz\nM 31.78125 74.21875 \nQ 44.046875 74.21875 50.515625 64.515625 \nQ 56.984375 54.828125 56.984375 36.375 \nQ 56.984375 17.96875 50.515625 8.265625 \nQ 44.046875 -1.421875 31.78125 -1.421875 \nQ 19.53125 -1.421875 13.0625 8.265625 \nQ 6.59375 17.96875 6.59375 36.375 \nQ 6.59375 54.828125 13.0625 64.515625 \nQ 19.53125 74.21875 31.78125 74.21875 \nz\n\" id=\"DejaVuSans-48\"/>\n       </defs>\n       <use xlink:href=\"#DejaVuSans-48\"/>\n      </g>\n     </g>\n    </g>\n    <g id=\"xtick_2\">\n     <g id=\"line2d_2\">\n      <g>\n       <use style=\"stroke:#000000;stroke-width:0.8;\" x=\"64.2975\" xlink:href=\"#me9230d2ae9\" y=\"239.758125\"/>\n      </g>\n     </g>\n     <g id=\"text_2\">\n      <!-- 5 -->\n      <g transform=\"translate(61.11625 254.356563)scale(0.1 -0.1)\">\n       <defs>\n        <path d=\"M 10.796875 72.90625 \nL 49.515625 72.90625 \nL 49.515625 64.59375 \nL 19.828125 64.59375 \nL 19.828125 46.734375 \nQ 21.96875 47.46875 24.109375 47.828125 \nQ 26.265625 48.1875 28.421875 48.1875 \nQ 40.625 48.1875 47.75 41.5 \nQ 54.890625 34.8125 54.890625 23.390625 \nQ 54.890625 11.625 47.5625 5.09375 \nQ 40.234375 -1.421875 26.90625 -1.421875 \nQ 22.3125 -1.421875 17.546875 -0.640625 \nQ 12.796875 0.140625 7.71875 1.703125 \nL 7.71875 11.625 \nQ 12.109375 9.234375 16.796875 8.0625 \nQ 21.484375 6.890625 26.703125 6.890625 \nQ 35.15625 6.890625 40.078125 11.328125 \nQ 45.015625 15.765625 45.015625 23.390625 \nQ 45.015625 31 40.078125 35.4375 \nQ 35.15625 39.890625 26.703125 39.890625 \nQ 22.75 39.890625 18.8125 39.015625 \nQ 14.890625 38.140625 10.796875 36.28125 \nz\n\" id=\"DejaVuSans-53\"/>\n       </defs>\n       <use xlink:href=\"#DejaVuSans-53\"/>\n      </g>\n     </g>\n    </g>\n    <g id=\"xtick_3\">\n     <g id=\"line2d_3\">\n      <g>\n       <use style=\"stroke:#000000;stroke-width:0.8;\" x=\"98.2725\" xlink:href=\"#me9230d2ae9\" y=\"239.758125\"/>\n      </g>\n     </g>\n     <g id=\"text_3\">\n      <!-- 10 -->\n      <g transform=\"translate(91.91 254.356563)scale(0.1 -0.1)\">\n       <defs>\n        <path d=\"M 12.40625 8.296875 \nL 28.515625 8.296875 \nL 28.515625 63.921875 \nL 10.984375 60.40625 \nL 10.984375 69.390625 \nL 28.421875 72.90625 \nL 38.28125 72.90625 \nL 38.28125 8.296875 \nL 54.390625 8.296875 \nL 54.390625 0 \nL 12.40625 0 \nz\n\" id=\"DejaVuSans-49\"/>\n       </defs>\n       <use xlink:href=\"#DejaVuSans-49\"/>\n       <use x=\"63.623047\" xlink:href=\"#DejaVuSans-48\"/>\n      </g>\n     </g>\n    </g>\n    <g id=\"xtick_4\">\n     <g id=\"line2d_4\">\n      <g>\n       <use style=\"stroke:#000000;stroke-width:0.8;\" x=\"132.2475\" xlink:href=\"#me9230d2ae9\" y=\"239.758125\"/>\n      </g>\n     </g>\n     <g id=\"text_4\">\n      <!-- 15 -->\n      <g transform=\"translate(125.885 254.356563)scale(0.1 -0.1)\">\n       <use xlink:href=\"#DejaVuSans-49\"/>\n       <use x=\"63.623047\" xlink:href=\"#DejaVuSans-53\"/>\n      </g>\n     </g>\n    </g>\n    <g id=\"xtick_5\">\n     <g id=\"line2d_5\">\n      <g>\n       <use style=\"stroke:#000000;stroke-width:0.8;\" x=\"166.2225\" xlink:href=\"#me9230d2ae9\" y=\"239.758125\"/>\n      </g>\n     </g>\n     <g id=\"text_5\">\n      <!-- 20 -->\n      <g transform=\"translate(159.86 254.356563)scale(0.1 -0.1)\">\n       <defs>\n        <path d=\"M 19.1875 8.296875 \nL 53.609375 8.296875 \nL 53.609375 0 \nL 7.328125 0 \nL 7.328125 8.296875 \nQ 12.9375 14.109375 22.625 23.890625 \nQ 32.328125 33.6875 34.8125 36.53125 \nQ 39.546875 41.84375 41.421875 45.53125 \nQ 43.3125 49.21875 43.3125 52.78125 \nQ 43.3125 58.59375 39.234375 62.25 \nQ 35.15625 65.921875 28.609375 65.921875 \nQ 23.96875 65.921875 18.8125 64.3125 \nQ 13.671875 62.703125 7.8125 59.421875 \nL 7.8125 69.390625 \nQ 13.765625 71.78125 18.9375 73 \nQ 24.125 74.21875 28.421875 74.21875 \nQ 39.75 74.21875 46.484375 68.546875 \nQ 53.21875 62.890625 53.21875 53.421875 \nQ 53.21875 48.921875 51.53125 44.890625 \nQ 49.859375 40.875 45.40625 35.40625 \nQ 44.1875 33.984375 37.640625 27.21875 \nQ 31.109375 20.453125 19.1875 8.296875 \nz\n\" id=\"DejaVuSans-50\"/>\n       </defs>\n       <use xlink:href=\"#DejaVuSans-50\"/>\n       <use x=\"63.623047\" xlink:href=\"#DejaVuSans-48\"/>\n      </g>\n     </g>\n    </g>\n    <g id=\"xtick_6\">\n     <g id=\"line2d_6\">\n      <g>\n       <use style=\"stroke:#000000;stroke-width:0.8;\" x=\"200.1975\" xlink:href=\"#me9230d2ae9\" y=\"239.758125\"/>\n      </g>\n     </g>\n     <g id=\"text_6\">\n      <!-- 25 -->\n      <g transform=\"translate(193.835 254.356563)scale(0.1 -0.1)\">\n       <use xlink:href=\"#DejaVuSans-50\"/>\n       <use x=\"63.623047\" xlink:href=\"#DejaVuSans-53\"/>\n      </g>\n     </g>\n    </g>\n    <g id=\"xtick_7\">\n     <g id=\"line2d_7\">\n      <g>\n       <use style=\"stroke:#000000;stroke-width:0.8;\" x=\"234.1725\" xlink:href=\"#me9230d2ae9\" y=\"239.758125\"/>\n      </g>\n     </g>\n     <g id=\"text_7\">\n      <!-- 30 -->\n      <g transform=\"translate(227.81 254.356563)scale(0.1 -0.1)\">\n       <defs>\n        <path d=\"M 40.578125 39.3125 \nQ 47.65625 37.796875 51.625 33 \nQ 55.609375 28.21875 55.609375 21.1875 \nQ 55.609375 10.40625 48.1875 4.484375 \nQ 40.765625 -1.421875 27.09375 -1.421875 \nQ 22.515625 -1.421875 17.65625 -0.515625 \nQ 12.796875 0.390625 7.625 2.203125 \nL 7.625 11.71875 \nQ 11.71875 9.328125 16.59375 8.109375 \nQ 21.484375 6.890625 26.8125 6.890625 \nQ 36.078125 6.890625 40.9375 10.546875 \nQ 45.796875 14.203125 45.796875 21.1875 \nQ 45.796875 27.640625 41.28125 31.265625 \nQ 36.765625 34.90625 28.71875 34.90625 \nL 20.21875 34.90625 \nL 20.21875 43.015625 \nL 29.109375 43.015625 \nQ 36.375 43.015625 40.234375 45.921875 \nQ 44.09375 48.828125 44.09375 54.296875 \nQ 44.09375 59.90625 40.109375 62.90625 \nQ 36.140625 65.921875 28.71875 65.921875 \nQ 24.65625 65.921875 20.015625 65.03125 \nQ 15.375 64.15625 9.8125 62.3125 \nL 9.8125 71.09375 \nQ 15.4375 72.65625 20.34375 73.4375 \nQ 25.25 74.21875 29.59375 74.21875 \nQ 40.828125 74.21875 47.359375 69.109375 \nQ 53.90625 64.015625 53.90625 55.328125 \nQ 53.90625 49.265625 50.4375 45.09375 \nQ 46.96875 40.921875 40.578125 39.3125 \nz\n\" id=\"DejaVuSans-51\"/>\n       </defs>\n       <use xlink:href=\"#DejaVuSans-51\"/>\n       <use x=\"63.623047\" xlink:href=\"#DejaVuSans-48\"/>\n      </g>\n     </g>\n    </g>\n   </g>\n   <g id=\"matplotlib.axis_2\">\n    <g id=\"ytick_1\">\n     <g id=\"line2d_8\">\n      <defs>\n       <path d=\"M 0 0 \nL -3.5 0 \n\" id=\"m97defaf7a6\" style=\"stroke:#000000;stroke-width:0.8;\"/>\n      </defs>\n      <g>\n       <use style=\"stroke:#000000;stroke-width:0.8;\" x=\"26.925\" xlink:href=\"#m97defaf7a6\" y=\"25.715625\"/>\n      </g>\n     </g>\n     <g id=\"text_8\">\n      <!-- 0 -->\n      <g transform=\"translate(13.5625 29.514844)scale(0.1 -0.1)\">\n       <use xlink:href=\"#DejaVuSans-48\"/>\n      </g>\n     </g>\n    </g>\n    <g id=\"ytick_2\">\n     <g id=\"line2d_9\">\n      <g>\n       <use style=\"stroke:#000000;stroke-width:0.8;\" x=\"26.925\" xlink:href=\"#m97defaf7a6\" y=\"59.690625\"/>\n      </g>\n     </g>\n     <g id=\"text_9\">\n      <!-- 5 -->\n      <g transform=\"translate(13.5625 63.489844)scale(0.1 -0.1)\">\n       <use xlink:href=\"#DejaVuSans-53\"/>\n      </g>\n     </g>\n    </g>\n    <g id=\"ytick_3\">\n     <g id=\"line2d_10\">\n      <g>\n       <use style=\"stroke:#000000;stroke-width:0.8;\" x=\"26.925\" xlink:href=\"#m97defaf7a6\" y=\"93.665625\"/>\n      </g>\n     </g>\n     <g id=\"text_10\">\n      <!-- 10 -->\n      <g transform=\"translate(7.2 97.464844)scale(0.1 -0.1)\">\n       <use xlink:href=\"#DejaVuSans-49\"/>\n       <use x=\"63.623047\" xlink:href=\"#DejaVuSans-48\"/>\n      </g>\n     </g>\n    </g>\n    <g id=\"ytick_4\">\n     <g id=\"line2d_11\">\n      <g>\n       <use style=\"stroke:#000000;stroke-width:0.8;\" x=\"26.925\" xlink:href=\"#m97defaf7a6\" y=\"127.640625\"/>\n      </g>\n     </g>\n     <g id=\"text_11\">\n      <!-- 15 -->\n      <g transform=\"translate(7.2 131.439844)scale(0.1 -0.1)\">\n       <use xlink:href=\"#DejaVuSans-49\"/>\n       <use x=\"63.623047\" xlink:href=\"#DejaVuSans-53\"/>\n      </g>\n     </g>\n    </g>\n    <g id=\"ytick_5\">\n     <g id=\"line2d_12\">\n      <g>\n       <use style=\"stroke:#000000;stroke-width:0.8;\" x=\"26.925\" xlink:href=\"#m97defaf7a6\" y=\"161.615625\"/>\n      </g>\n     </g>\n     <g id=\"text_12\">\n      <!-- 20 -->\n      <g transform=\"translate(7.2 165.414844)scale(0.1 -0.1)\">\n       <use xlink:href=\"#DejaVuSans-50\"/>\n       <use x=\"63.623047\" xlink:href=\"#DejaVuSans-48\"/>\n      </g>\n     </g>\n    </g>\n    <g id=\"ytick_6\">\n     <g id=\"line2d_13\">\n      <g>\n       <use style=\"stroke:#000000;stroke-width:0.8;\" x=\"26.925\" xlink:href=\"#m97defaf7a6\" y=\"195.590625\"/>\n      </g>\n     </g>\n     <g id=\"text_13\">\n      <!-- 25 -->\n      <g transform=\"translate(7.2 199.389844)scale(0.1 -0.1)\">\n       <use xlink:href=\"#DejaVuSans-50\"/>\n       <use x=\"63.623047\" xlink:href=\"#DejaVuSans-53\"/>\n      </g>\n     </g>\n    </g>\n    <g id=\"ytick_7\">\n     <g id=\"line2d_14\">\n      <g>\n       <use style=\"stroke:#000000;stroke-width:0.8;\" x=\"26.925\" xlink:href=\"#m97defaf7a6\" y=\"229.565625\"/>\n      </g>\n     </g>\n     <g id=\"text_14\">\n      <!-- 30 -->\n      <g transform=\"translate(7.2 233.364844)scale(0.1 -0.1)\">\n       <use xlink:href=\"#DejaVuSans-51\"/>\n       <use x=\"63.623047\" xlink:href=\"#DejaVuSans-48\"/>\n      </g>\n     </g>\n    </g>\n   </g>\n   <g id=\"patch_3\">\n    <path d=\"M 26.925 239.758125 \nL 26.925 22.318125 \n\" style=\"fill:none;stroke:#000000;stroke-linecap:square;stroke-linejoin:miter;stroke-width:0.8;\"/>\n   </g>\n   <g id=\"patch_4\">\n    <path d=\"M 244.365 239.758125 \nL 244.365 22.318125 \n\" style=\"fill:none;stroke:#000000;stroke-linecap:square;stroke-linejoin:miter;stroke-width:0.8;\"/>\n   </g>\n   <g id=\"patch_5\">\n    <path d=\"M 26.925 239.758125 \nL 244.365 239.758125 \n\" style=\"fill:none;stroke:#000000;stroke-linecap:square;stroke-linejoin:miter;stroke-width:0.8;\"/>\n   </g>\n   <g id=\"patch_6\">\n    <path d=\"M 26.925 22.318125 \nL 244.365 22.318125 \n\" style=\"fill:none;stroke:#000000;stroke-linecap:square;stroke-linejoin:miter;stroke-width:0.8;\"/>\n   </g>\n   <g id=\"text_15\">\n    <!-- Label: [9] -->\n    <g transform=\"translate(107.029687 16.318125)scale(0.12 -0.12)\">\n     <defs>\n      <path d=\"M 9.8125 72.90625 \nL 19.671875 72.90625 \nL 19.671875 8.296875 \nL 55.171875 8.296875 \nL 55.171875 0 \nL 9.8125 0 \nz\n\" id=\"DejaVuSans-76\"/>\n      <path d=\"M 34.28125 27.484375 \nQ 23.390625 27.484375 19.1875 25 \nQ 14.984375 22.515625 14.984375 16.5 \nQ 14.984375 11.71875 18.140625 8.90625 \nQ 21.296875 6.109375 26.703125 6.109375 \nQ 34.1875 6.109375 38.703125 11.40625 \nQ 43.21875 16.703125 43.21875 25.484375 \nL 43.21875 27.484375 \nz\nM 52.203125 31.203125 \nL 52.203125 0 \nL 43.21875 0 \nL 43.21875 8.296875 \nQ 40.140625 3.328125 35.546875 0.953125 \nQ 30.953125 -1.421875 24.3125 -1.421875 \nQ 15.921875 -1.421875 10.953125 3.296875 \nQ 6 8.015625 6 15.921875 \nQ 6 25.140625 12.171875 29.828125 \nQ 18.359375 34.515625 30.609375 34.515625 \nL 43.21875 34.515625 \nL 43.21875 35.40625 \nQ 43.21875 41.609375 39.140625 45 \nQ 35.0625 48.390625 27.6875 48.390625 \nQ 23 48.390625 18.546875 47.265625 \nQ 14.109375 46.140625 10.015625 43.890625 \nL 10.015625 52.203125 \nQ 14.9375 54.109375 19.578125 55.046875 \nQ 24.21875 56 28.609375 56 \nQ 40.484375 56 46.34375 49.84375 \nQ 52.203125 43.703125 52.203125 31.203125 \nz\n\" id=\"DejaVuSans-97\"/>\n      <path d=\"M 48.6875 27.296875 \nQ 48.6875 37.203125 44.609375 42.84375 \nQ 40.53125 48.484375 33.40625 48.484375 \nQ 26.265625 48.484375 22.1875 42.84375 \nQ 18.109375 37.203125 18.109375 27.296875 \nQ 18.109375 17.390625 22.1875 11.75 \nQ 26.265625 6.109375 33.40625 6.109375 \nQ 40.53125 6.109375 44.609375 11.75 \nQ 48.6875 17.390625 48.6875 27.296875 \nz\nM 18.109375 46.390625 \nQ 20.953125 51.265625 25.265625 53.625 \nQ 29.59375 56 35.59375 56 \nQ 45.5625 56 51.78125 48.09375 \nQ 58.015625 40.1875 58.015625 27.296875 \nQ 58.015625 14.40625 51.78125 6.484375 \nQ 45.5625 -1.421875 35.59375 -1.421875 \nQ 29.59375 -1.421875 25.265625 0.953125 \nQ 20.953125 3.328125 18.109375 8.203125 \nL 18.109375 0 \nL 9.078125 0 \nL 9.078125 75.984375 \nL 18.109375 75.984375 \nz\n\" id=\"DejaVuSans-98\"/>\n      <path d=\"M 56.203125 29.59375 \nL 56.203125 25.203125 \nL 14.890625 25.203125 \nQ 15.484375 15.921875 20.484375 11.0625 \nQ 25.484375 6.203125 34.421875 6.203125 \nQ 39.59375 6.203125 44.453125 7.46875 \nQ 49.3125 8.734375 54.109375 11.28125 \nL 54.109375 2.78125 \nQ 49.265625 0.734375 44.1875 -0.34375 \nQ 39.109375 -1.421875 33.890625 -1.421875 \nQ 20.796875 -1.421875 13.15625 6.1875 \nQ 5.515625 13.8125 5.515625 26.8125 \nQ 5.515625 40.234375 12.765625 48.109375 \nQ 20.015625 56 32.328125 56 \nQ 43.359375 56 49.78125 48.890625 \nQ 56.203125 41.796875 56.203125 29.59375 \nz\nM 47.21875 32.234375 \nQ 47.125 39.59375 43.09375 43.984375 \nQ 39.0625 48.390625 32.421875 48.390625 \nQ 24.90625 48.390625 20.390625 44.140625 \nQ 15.875 39.890625 15.1875 32.171875 \nz\n\" id=\"DejaVuSans-101\"/>\n      <path d=\"M 9.421875 75.984375 \nL 18.40625 75.984375 \nL 18.40625 0 \nL 9.421875 0 \nz\n\" id=\"DejaVuSans-108\"/>\n      <path d=\"M 11.71875 12.40625 \nL 22.015625 12.40625 \nL 22.015625 0 \nL 11.71875 0 \nz\nM 11.71875 51.703125 \nL 22.015625 51.703125 \nL 22.015625 39.3125 \nL 11.71875 39.3125 \nz\n\" id=\"DejaVuSans-58\"/>\n      <path id=\"DejaVuSans-32\"/>\n      <path d=\"M 8.59375 75.984375 \nL 29.296875 75.984375 \nL 29.296875 69 \nL 17.578125 69 \nL 17.578125 -6.203125 \nL 29.296875 -6.203125 \nL 29.296875 -13.1875 \nL 8.59375 -13.1875 \nz\n\" id=\"DejaVuSans-91\"/>\n      <path d=\"M 10.984375 1.515625 \nL 10.984375 10.5 \nQ 14.703125 8.734375 18.5 7.8125 \nQ 22.3125 6.890625 25.984375 6.890625 \nQ 35.75 6.890625 40.890625 13.453125 \nQ 46.046875 20.015625 46.78125 33.40625 \nQ 43.953125 29.203125 39.59375 26.953125 \nQ 35.25 24.703125 29.984375 24.703125 \nQ 19.046875 24.703125 12.671875 31.3125 \nQ 6.296875 37.9375 6.296875 49.421875 \nQ 6.296875 60.640625 12.9375 67.421875 \nQ 19.578125 74.21875 30.609375 74.21875 \nQ 43.265625 74.21875 49.921875 64.515625 \nQ 56.59375 54.828125 56.59375 36.375 \nQ 56.59375 19.140625 48.40625 8.859375 \nQ 40.234375 -1.421875 26.421875 -1.421875 \nQ 22.703125 -1.421875 18.890625 -0.6875 \nQ 15.09375 0.046875 10.984375 1.515625 \nz\nM 30.609375 32.421875 \nQ 37.25 32.421875 41.125 36.953125 \nQ 45.015625 41.5 45.015625 49.421875 \nQ 45.015625 57.28125 41.125 61.84375 \nQ 37.25 66.40625 30.609375 66.40625 \nQ 23.96875 66.40625 20.09375 61.84375 \nQ 16.21875 57.28125 16.21875 49.421875 \nQ 16.21875 41.5 20.09375 36.953125 \nQ 23.96875 32.421875 30.609375 32.421875 \nz\n\" id=\"DejaVuSans-57\"/>\n      <path d=\"M 30.421875 75.984375 \nL 30.421875 -13.1875 \nL 9.71875 -13.1875 \nL 9.71875 -6.203125 \nL 21.390625 -6.203125 \nL 21.390625 69 \nL 9.71875 69 \nL 9.71875 75.984375 \nz\n\" id=\"DejaVuSans-93\"/>\n     </defs>\n     <use xlink:href=\"#DejaVuSans-76\"/>\n     <use x=\"55.712891\" xlink:href=\"#DejaVuSans-97\"/>\n     <use x=\"116.992188\" xlink:href=\"#DejaVuSans-98\"/>\n     <use x=\"180.46875\" xlink:href=\"#DejaVuSans-101\"/>\n     <use x=\"241.992188\" xlink:href=\"#DejaVuSans-108\"/>\n     <use x=\"269.775391\" xlink:href=\"#DejaVuSans-58\"/>\n     <use x=\"303.466797\" xlink:href=\"#DejaVuSans-32\"/>\n     <use x=\"335.253906\" xlink:href=\"#DejaVuSans-91\"/>\n     <use x=\"374.267578\" xlink:href=\"#DejaVuSans-57\"/>\n     <use x=\"437.890625\" xlink:href=\"#DejaVuSans-93\"/>\n    </g>\n   </g>\n  </g>\n </g>\n <defs>\n  <clipPath id=\"p3938701988\">\n   <rect height=\"217.44\" width=\"217.44\" x=\"26.925\" y=\"22.318125\"/>\n  </clipPath>\n </defs>\n</svg>\n",
      "image/png": "[encoded data removed]"
     },
     "metadata": {
      "needs_background": "light"
     }
    }
   ],
   "source": [
    "# Observing a sample\n",
    "plt.imshow(train_images[1])\n",
    "plt.title('Label: ' + str(train_labels[1]))"
   ]
  },
  {
   "source": [
    "# Model 1"
   ],
   "cell_type": "markdown",
   "metadata": {}
  },
  {
   "cell_type": "code",
   "execution_count": 11,
   "metadata": {},
   "outputs": [
    {
     "output_type": "stream",
     "name": "stdout",
     "text": [
      "Model: \"sequential\"\n_________________________________________________________________\nLayer (type)                 Output Shape              Param #   \n=================================================================\nconv2d (Conv2D)              (None, 32, 32, 8)         80        \n_________________________________________________________________\nmax_pooling2d (MaxPooling2D) (None, 16, 16, 8)         0         \n_________________________________________________________________\ndropout (Dropout)            (None, 16, 16, 8)         0         \n_________________________________________________________________\nflatten (Flatten)            (None, 2048)              0         \n_________________________________________________________________\ndense (Dense)                (None, 32)                65568     \n_________________________________________________________________\ndense_1 (Dense)              (None, 10)                330       \n=================================================================\nTotal params: 65,978\nTrainable params: 65,978\nNon-trainable params: 0\n_________________________________________________________________\n"
     ]
    }
   ],
   "source": [
    "# Creating a model and layers\n",
    "model1 = tf.keras.models.Sequential()\n",
    "model1.add(layers.Conv2D(filters=8, \n",
    "                        kernel_size=(3, 3), \n",
    "                        input_shape=(32, 32, 1), \n",
    "                        padding='same'))\n",
    "model1.add(layers.MaxPooling2D(pool_size=(2, 2), padding=\"same\"))\n",
    "model1.add(layers.Dropout(0.25))\n",
    "model1.add(layers.Flatten())\n",
    "model1.add(layers.Dense(32, activation='relu'))\n",
    "model1.add(layers.Dense(10, activation='softmax'))\n",
    "model1.summary()"
   ]
  },
  {
   "source": [
    "model1.compile(optimizer='adam',\n",
    "              loss='sparse_categorical_crossentropy',\n",
    "              metrics=['accuracy'])"
   ],
   "cell_type": "code",
   "metadata": {},
   "execution_count": 12,
   "outputs": []
  },
  {
   "cell_type": "code",
   "execution_count": 13,
   "metadata": {},
   "outputs": [
    {
     "output_type": "stream",
     "name": "stdout",
     "text": [
      "Epoch 1/25\n",
      "1563/1563 [==============================] - 20s 11ms/step - loss: 5.7550 - accuracy: 0.1002\n",
      "Epoch 2/25\n",
      "1563/1563 [==============================] - 18s 11ms/step - loss: 2.3029 - accuracy: 0.0968\n",
      "Epoch 3/25\n",
      "1563/1563 [==============================] - 19s 12ms/step - loss: 2.3029 - accuracy: 0.0970\n",
      "Epoch 4/25\n",
      "1563/1563 [==============================] - 19s 12ms/step - loss: 2.3028 - accuracy: 0.0995\n",
      "Epoch 5/25\n",
      "1563/1563 [==============================] - 20s 13ms/step - loss: 2.3026 - accuracy: 0.1012\n",
      "Epoch 6/25\n",
      "1563/1563 [==============================] - 18s 11ms/step - loss: 2.3024 - accuracy: 0.0997\n",
      "Epoch 7/25\n",
      "1563/1563 [==============================] - 16s 11ms/step - loss: 2.3028 - accuracy: 0.0952\n",
      "Epoch 8/25\n",
      "1563/1563 [==============================] - 17s 11ms/step - loss: 2.3027 - accuracy: 0.0985\n",
      "Epoch 9/25\n",
      "1563/1563 [==============================] - 19s 12ms/step - loss: 2.3027 - accuracy: 0.0986\n",
      "Epoch 10/25\n",
      "1563/1563 [==============================] - 20s 13ms/step - loss: 2.3028 - accuracy: 0.1007\n",
      "Epoch 11/25\n",
      "1563/1563 [==============================] - 18s 11ms/step - loss: 2.3028 - accuracy: 0.0978\n",
      "Epoch 12/25\n",
      "1563/1563 [==============================] - 19s 12ms/step - loss: 2.3027 - accuracy: 0.1027\n",
      "Epoch 13/25\n",
      "1563/1563 [==============================] - 20s 13ms/step - loss: 2.3027 - accuracy: 0.1011\n",
      "Epoch 14/25\n",
      "1563/1563 [==============================] - 17s 11ms/step - loss: 2.3027 - accuracy: 0.1002\n",
      "Epoch 15/25\n",
      "1563/1563 [==============================] - 19s 12ms/step - loss: 2.3028 - accuracy: 0.0996\n",
      "Epoch 16/25\n",
      "1563/1563 [==============================] - 19s 12ms/step - loss: 2.3028 - accuracy: 0.0985\n",
      "Epoch 17/25\n",
      "1563/1563 [==============================] - 16s 10ms/step - loss: 2.3029 - accuracy: 0.0967\n",
      "Epoch 18/25\n",
      "1563/1563 [==============================] - 15s 10ms/step - loss: 2.3027 - accuracy: 0.1023\n",
      "Epoch 19/25\n",
      "1563/1563 [==============================] - 17s 11ms/step - loss: 2.3028 - accuracy: 0.0963\n",
      "Epoch 20/25\n",
      "1563/1563 [==============================] - 17s 11ms/step - loss: 2.3027 - accuracy: 0.0989\n",
      "Epoch 21/25\n",
      "1563/1563 [==============================] - 13s 8ms/step - loss: 2.3027 - accuracy: 0.1028\n",
      "Epoch 22/25\n",
      "1563/1563 [==============================] - 14s 9ms/step - loss: 2.3027 - accuracy: 0.0982\n",
      "Epoch 23/25\n",
      "1563/1563 [==============================] - 17s 11ms/step - loss: 2.3027 - accuracy: 0.1018\n",
      "Epoch 24/25\n",
      "1563/1563 [==============================] - 19s 12ms/step - loss: 2.3028 - accuracy: 0.0963\n",
      "Epoch 25/25\n",
      "1563/1563 [==============================] - 19s 12ms/step - loss: 2.3100 - accuracy: 0.0973\n"
     ]
    },
    {
     "output_type": "execute_result",
     "data": {
      "text/plain": [
       "<tensorflow.python.keras.callbacks.History at 0x7fd03da1cb20>"
      ]
     },
     "metadata": {},
     "execution_count": 13
    }
   ],
   "source": [
    "model1.fit(train_images_gray, train_labels, epochs=25)"
   ]
  },
  {
   "cell_type": "code",
   "execution_count": 14,
   "metadata": {},
   "outputs": [],
   "source": [
    "predictions1 = model1.predict(test_images_gray)"
   ]
  },
  {
   "cell_type": "code",
   "execution_count": 15,
   "metadata": {},
   "outputs": [
    {
     "output_type": "execute_result",
     "data": {
      "text/plain": [
       "(10000, 10)"
      ]
     },
     "metadata": {},
     "execution_count": 15
    }
   ],
   "source": [
    "predictions1.shape"
   ]
  },
  {
   "cell_type": "code",
   "execution_count": 16,
   "metadata": {},
   "outputs": [
    {
     "output_type": "stream",
     "name": "stdout",
     "text": [
      "313/313 [==============================] - 2s 5ms/step - loss: 2.3026 - accuracy: 0.1000\n",
      "test loss, test acc: [2.3026206493377686, 0.10000000149011612]\n"
     ]
    }
   ],
   "source": [
    "results1 = model1.evaluate(test_images_gray, test_labels)\n",
    "print(\"test loss, test acc:\", results1)"
   ]
  },
  {
   "source": [
    "# Model 2"
   ],
   "cell_type": "markdown",
   "metadata": {}
  },
  {
   "cell_type": "code",
   "execution_count": 20,
   "metadata": {},
   "outputs": [
    {
     "output_type": "stream",
     "name": "stdout",
     "text": [
      "Model: \"sequential_2\"\n_________________________________________________________________\nLayer (type)                 Output Shape              Param #   \n=================================================================\nconv2d_2 (Conv2D)            (None, 32, 32, 8)         80        \n_________________________________________________________________\nmax_pooling2d_2 (MaxPooling2 (None, 16, 16, 8)         0         \n_________________________________________________________________\ndropout_2 (Dropout)          (None, 16, 16, 8)         0         \n_________________________________________________________________\nflatten_2 (Flatten)          (None, 2048)              0         \n_________________________________________________________________\ndense_5 (Dense)              (None, 16)                32784     \n_________________________________________________________________\ndense_6 (Dense)              (None, 32)                544       \n_________________________________________________________________\ndense_7 (Dense)              (None, 10)                330       \n=================================================================\nTotal params: 33,738\nTrainable params: 33,738\nNon-trainable params: 0\n_________________________________________________________________\n"
     ]
    }
   ],
   "source": [
    "# Creating a model and layers\n",
    "model2 = tf.keras.models.Sequential()\n",
    "model2.add(layers.Conv2D(filters=8, \n",
    "                        kernel_size=(3, 3), \n",
    "                        input_shape=(32, 32, 1), \n",
    "                        padding='same'))\n",
    "model2.add(layers.MaxPooling2D(pool_size=(2, 2), padding=\"same\"))\n",
    "model2.add(layers.Dropout(0.25))\n",
    "model2.add(layers.Flatten())\n",
    "model2.add(layers.Dense(16, activation='relu'))\n",
    "model2.add(layers.Dense(32, activation='relu'))\n",
    "model2.add(layers.Dense(10, activation='softmax'))\n",
    "model2.summary()"
   ]
  },
  {
   "cell_type": "code",
   "execution_count": 21,
   "metadata": {},
   "outputs": [],
   "source": [
    "# Compiling the model\n",
    "model2.compile(optimizer='adam',\n",
    "              loss='sparse_categorical_crossentropy',\n",
    "              metrics=['accuracy'])"
   ]
  },
  {
   "cell_type": "code",
   "execution_count": 22,
   "metadata": {},
   "outputs": [
    {
     "output_type": "stream",
     "name": "stdout",
     "text": [
      "Epoch 1/25\n",
      "1563/1563 [==============================] - 18s 11ms/step - loss: 3.1748 - accuracy: 0.1024\n",
      "Epoch 2/25\n",
      "1563/1563 [==============================] - 16s 10ms/step - loss: 2.3028 - accuracy: 0.0998\n",
      "Epoch 3/25\n",
      "1563/1563 [==============================] - 16s 10ms/step - loss: 2.3027 - accuracy: 0.1000\n",
      "Epoch 4/25\n",
      "1563/1563 [==============================] - 17s 11ms/step - loss: 2.3028 - accuracy: 0.1007\n",
      "Epoch 5/25\n",
      "1563/1563 [==============================] - 18s 12ms/step - loss: 2.3042 - accuracy: 0.0996\n",
      "Epoch 6/25\n",
      "1563/1563 [==============================] - 16s 10ms/step - loss: 2.3029 - accuracy: 0.0955\n",
      "Epoch 7/25\n",
      "1563/1563 [==============================] - 15s 9ms/step - loss: 2.3028 - accuracy: 0.0979\n",
      "Epoch 8/25\n",
      "1563/1563 [==============================] - 17s 11ms/step - loss: 2.3027 - accuracy: 0.0975\n",
      "Epoch 9/25\n",
      "1563/1563 [==============================] - 17s 11ms/step - loss: 2.3027 - accuracy: 0.1006\n",
      "Epoch 10/25\n",
      "1563/1563 [==============================] - 17s 11ms/step - loss: 2.3028 - accuracy: 0.0992\n",
      "Epoch 11/25\n",
      "1563/1563 [==============================] - 17s 11ms/step - loss: 2.3028 - accuracy: 0.0982\n",
      "Epoch 12/25\n",
      "1563/1563 [==============================] - 17s 11ms/step - loss: 2.3027 - accuracy: 0.0962\n",
      "Epoch 13/25\n",
      "1563/1563 [==============================] - 17s 11ms/step - loss: 2.3027 - accuracy: 0.1018\n",
      "Epoch 14/25\n",
      "1563/1563 [==============================] - 17s 11ms/step - loss: 2.3027 - accuracy: 0.1004\n",
      "Epoch 15/25\n",
      "1563/1563 [==============================] - 18s 12ms/step - loss: 2.3027 - accuracy: 0.0997\n",
      "Epoch 16/25\n",
      "1563/1563 [==============================] - 16s 10ms/step - loss: 2.3027 - accuracy: 0.0974\n",
      "Epoch 17/25\n",
      "1563/1563 [==============================] - 16s 10ms/step - loss: 2.3027 - accuracy: 0.0978\n",
      "Epoch 18/25\n",
      "1563/1563 [==============================] - 17s 11ms/step - loss: 2.3028 - accuracy: 0.0966\n",
      "Epoch 19/25\n",
      "1563/1563 [==============================] - 17s 11ms/step - loss: 2.3027 - accuracy: 0.0986\n",
      "Epoch 20/25\n",
      "1563/1563 [==============================] - 18s 12ms/step - loss: 2.3027 - accuracy: 0.0966\n",
      "Epoch 21/25\n",
      "1563/1563 [==============================] - 20s 13ms/step - loss: 2.3028 - accuracy: 0.0997\n",
      "Epoch 22/25\n",
      "1563/1563 [==============================] - 18s 12ms/step - loss: 2.3028 - accuracy: 0.0958\n",
      "Epoch 23/25\n",
      "1563/1563 [==============================] - 22s 14ms/step - loss: 2.3028 - accuracy: 0.1012\n",
      "Epoch 24/25\n",
      "1563/1563 [==============================] - 20s 13ms/step - loss: 2.3028 - accuracy: 0.0985\n",
      "Epoch 25/25\n",
      "1563/1563 [==============================] - 20s 13ms/step - loss: 2.3027 - accuracy: 0.0984\n"
     ]
    },
    {
     "output_type": "execute_result",
     "data": {
      "text/plain": [
       "<tensorflow.python.keras.callbacks.History at 0x7fd02a94d370>"
      ]
     },
     "metadata": {},
     "execution_count": 22
    }
   ],
   "source": [
    "model2.fit(train_images_gray, train_labels, epochs=25)"
   ]
  },
  {
   "cell_type": "code",
   "execution_count": 23,
   "metadata": {},
   "outputs": [],
   "source": [
    "predictions2 = model2.predict(test_images_gray)"
   ]
  },
  {
   "cell_type": "code",
   "execution_count": 24,
   "metadata": {},
   "outputs": [
    {
     "output_type": "execute_result",
     "data": {
      "text/plain": [
       "(10000, 10)"
      ]
     },
     "metadata": {},
     "execution_count": 24
    }
   ],
   "source": [
    "predictions2.shape"
   ]
  },
  {
   "cell_type": "code",
   "execution_count": 25,
   "metadata": {},
   "outputs": [
    {
     "output_type": "stream",
     "name": "stdout",
     "text": [
      "313/313 [==============================] - 2s 7ms/step - loss: 2.3026 - accuracy: 0.1000\n",
      "test loss, test acc: [2.3026392459869385, 0.10000000149011612]\n"
     ]
    }
   ],
   "source": [
    "results2 = model2.evaluate(test_images_gray, test_labels)\n",
    "print(\"test loss, test acc:\", results2)"
   ]
  },
  {
   "source": [
    "### 2.\n",
    "\n",
    "**BONUS: Entrena la red neuronal 1 pero esta vez con las imágenes a color.**"
   ],
   "cell_type": "markdown",
   "metadata": {}
  },
  {
   "cell_type": "code",
   "execution_count": 26,
   "metadata": {},
   "outputs": [
    {
     "output_type": "stream",
     "name": "stdout",
     "text": [
      "Model: \"sequential_3\"\n_________________________________________________________________\nLayer (type)                 Output Shape              Param #   \n=================================================================\nconv2d_3 (Conv2D)            (None, 32, 32, 8)         224       \n_________________________________________________________________\nmax_pooling2d_3 (MaxPooling2 (None, 16, 16, 8)         0         \n_________________________________________________________________\ndropout_3 (Dropout)          (None, 16, 16, 8)         0         \n_________________________________________________________________\nflatten_3 (Flatten)          (None, 2048)              0         \n_________________________________________________________________\ndense_8 (Dense)              (None, 32)                65568     \n_________________________________________________________________\ndense_9 (Dense)              (None, 10)                330       \n=================================================================\nTotal params: 66,122\nTrainable params: 66,122\nNon-trainable params: 0\n_________________________________________________________________\n"
     ]
    }
   ],
   "source": [
    "# Creating a model and layers\n",
    "model3 = tf.keras.models.Sequential()\n",
    "model3.add(layers.Conv2D(filters=8, \n",
    "                        kernel_size=(3, 3), \n",
    "                        input_shape=(32, 32, 3), \n",
    "                        padding='same'))\n",
    "model3.add(layers.MaxPooling2D(pool_size=(2, 2), padding=\"same\"))\n",
    "model3.add(layers.Dropout(0.25))\n",
    "model3.add(layers.Flatten())\n",
    "model3.add(layers.Dense(32, activation='relu'))\n",
    "model3.add(layers.Dense(10, activation='softmax'))\n",
    "model3.summary()"
   ]
  },
  {
   "cell_type": "code",
   "execution_count": 27,
   "metadata": {},
   "outputs": [],
   "source": [
    "model3.compile(optimizer='adam',\n",
    "              loss='sparse_categorical_crossentropy',\n",
    "              metrics=['accuracy'])"
   ]
  },
  {
   "cell_type": "code",
   "execution_count": 28,
   "metadata": {},
   "outputs": [
    {
     "output_type": "stream",
     "name": "stdout",
     "text": [
      "Epoch 1/25\n",
      "1563/1563 [==============================] - 27s 17ms/step - loss: 3.9076 - accuracy: 0.1013\n",
      "Epoch 2/25\n",
      "1563/1563 [==============================] - 23s 15ms/step - loss: 2.3029 - accuracy: 0.1010\n",
      "Epoch 3/25\n",
      "1563/1563 [==============================] - 22s 14ms/step - loss: 2.3028 - accuracy: 0.0998\n",
      "Epoch 4/25\n",
      "1563/1563 [==============================] - 22s 14ms/step - loss: 2.3027 - accuracy: 0.0982\n",
      "Epoch 5/25\n",
      "1563/1563 [==============================] - 21s 14ms/step - loss: 2.3026 - accuracy: 0.1018\n",
      "Epoch 6/25\n",
      "1563/1563 [==============================] - 21s 13ms/step - loss: 2.3027 - accuracy: 0.1003\n",
      "Epoch 7/25\n",
      "1563/1563 [==============================] - 22s 14ms/step - loss: 2.3027 - accuracy: 0.0991\n",
      "Epoch 8/25\n",
      "1563/1563 [==============================] - 22s 14ms/step - loss: 2.3027 - accuracy: 0.0992\n",
      "Epoch 9/25\n",
      "1563/1563 [==============================] - 23s 15ms/step - loss: 2.3027 - accuracy: 0.1016\n",
      "Epoch 10/25\n",
      "1563/1563 [==============================] - 22s 14ms/step - loss: 2.3028 - accuracy: 0.0974\n",
      "Epoch 11/25\n",
      "1563/1563 [==============================] - 22s 14ms/step - loss: 2.3027 - accuracy: 0.0979\n",
      "Epoch 12/25\n",
      "1563/1563 [==============================] - 21s 14ms/step - loss: 2.3027 - accuracy: 0.1016\n",
      "Epoch 13/25\n",
      "1563/1563 [==============================] - 22s 14ms/step - loss: 2.3027 - accuracy: 0.0973\n",
      "Epoch 14/25\n",
      "1563/1563 [==============================] - 22s 14ms/step - loss: 2.3027 - accuracy: 0.0999\n",
      "Epoch 15/25\n",
      "1563/1563 [==============================] - 23s 15ms/step - loss: 2.3027 - accuracy: 0.0940\n",
      "Epoch 16/25\n",
      "1563/1563 [==============================] - 22s 14ms/step - loss: 2.3027 - accuracy: 0.1004\n",
      "Epoch 17/25\n",
      "1563/1563 [==============================] - 22s 14ms/step - loss: 2.3028 - accuracy: 0.0983\n",
      "Epoch 18/25\n",
      "1563/1563 [==============================] - 22s 14ms/step - loss: 2.3027 - accuracy: 0.1000\n",
      "Epoch 19/25\n",
      "1563/1563 [==============================] - 22s 14ms/step - loss: 2.3026 - accuracy: 0.1012\n",
      "Epoch 20/25\n",
      "1563/1563 [==============================] - 20s 13ms/step - loss: 2.3026 - accuracy: 0.0993\n",
      "Epoch 21/25\n",
      "1563/1563 [==============================] - 22s 14ms/step - loss: 2.3026 - accuracy: 0.0976\n",
      "Epoch 22/25\n",
      "1563/1563 [==============================] - 22s 14ms/step - loss: 2.3027 - accuracy: 0.0990\n",
      "Epoch 23/25\n",
      "1563/1563 [==============================] - 21s 13ms/step - loss: 2.3027 - accuracy: 0.1005\n",
      "Epoch 24/25\n",
      "1563/1563 [==============================] - 22s 14ms/step - loss: 2.3027 - accuracy: 0.0959\n",
      "Epoch 25/25\n",
      "1563/1563 [==============================] - 21s 14ms/step - loss: 2.3027 - accuracy: 0.0999\n"
     ]
    },
    {
     "output_type": "execute_result",
     "data": {
      "text/plain": [
       "<tensorflow.python.keras.callbacks.History at 0x7fd03d934bb0>"
      ]
     },
     "metadata": {},
     "execution_count": 28
    }
   ],
   "source": [
    "model3.fit(train_images, train_labels, epochs=25)"
   ]
  },
  {
   "cell_type": "code",
   "execution_count": 29,
   "metadata": {},
   "outputs": [],
   "source": [
    "predictions3 = model3.predict(test_images)"
   ]
  },
  {
   "cell_type": "code",
   "execution_count": 30,
   "metadata": {},
   "outputs": [
    {
     "output_type": "execute_result",
     "data": {
      "text/plain": [
       "(10000, 10)"
      ]
     },
     "metadata": {},
     "execution_count": 30
    }
   ],
   "source": [
    "predictions3.shape"
   ]
  },
  {
   "cell_type": "code",
   "execution_count": 31,
   "metadata": {},
   "outputs": [
    {
     "output_type": "stream",
     "name": "stdout",
     "text": [
      "313/313 [==============================] - 2s 5ms/step - loss: 2.3027 - accuracy: 0.1000\n",
      "test loss, test acc: [2.302672863006592, 0.10000000149011612]\n"
     ]
    }
   ],
   "source": [
    "results3 = model3.evaluate(test_images, test_labels)\n",
    "print(\"test loss, test acc:\", results3)"
   ]
  },
  {
   "source": [
    "Model 1 on the grayscale images had an accuracy of 10%. Model 2 on the grayscale images also had an accuracy of 10%. Model 1 on the RGB images also had an accuracy of 10%. This shows that neither model is trained properly for either the grayscale images or the RGB images. Perhaps the model needs a lot more epochs than 25 for each model fitting, but I don't have the time right now :)"
   ],
   "cell_type": "markdown",
   "metadata": {}
  },
  {
   "source": [
    "# Probar cositas para reducir error"
   ],
   "cell_type": "markdown",
   "metadata": {}
  },
  {
   "source": [
    "## Model 1 with grayscale images normalized"
   ],
   "cell_type": "markdown",
   "metadata": {}
  },
  {
   "cell_type": "code",
   "execution_count": 17,
   "metadata": {},
   "outputs": [
    {
     "output_type": "stream",
     "name": "stdout",
     "text": [
      "Model: \"sequential_1\"\n_________________________________________________________________\nLayer (type)                 Output Shape              Param #   \n=================================================================\nconv2d_1 (Conv2D)            (None, 32, 32, 8)         80        \n_________________________________________________________________\nmax_pooling2d_1 (MaxPooling2 (None, 16, 16, 8)         0         \n_________________________________________________________________\ndropout_1 (Dropout)          (None, 16, 16, 8)         0         \n_________________________________________________________________\nflatten_1 (Flatten)          (None, 2048)              0         \n_________________________________________________________________\ndense_2 (Dense)              (None, 32)                65568     \n_________________________________________________________________\ndense_3 (Dense)              (None, 10)                330       \n=================================================================\nTotal params: 65,978\nTrainable params: 65,978\nNon-trainable params: 0\n_________________________________________________________________\n"
     ]
    }
   ],
   "source": [
    "# Creating a model and layers\n",
    "model4 = tf.keras.models.Sequential()\n",
    "model4.add(layers.Conv2D(filters=8, \n",
    "                        kernel_size=(3, 3), \n",
    "                        input_shape=(32, 32, 1), \n",
    "                        padding='same'))\n",
    "model4.add(layers.MaxPooling2D(pool_size=(2, 2), padding=\"same\"))\n",
    "model4.add(layers.Dropout(0.25))\n",
    "model4.add(layers.Flatten())\n",
    "model4.add(layers.Dense(32, activation='relu'))\n",
    "model4.add(layers.Dense(10, activation='softmax'))\n",
    "model4.summary()"
   ]
  },
  {
   "cell_type": "code",
   "execution_count": 18,
   "metadata": {},
   "outputs": [],
   "source": [
    "model4.compile(optimizer='adam',\n",
    "              loss='sparse_categorical_crossentropy',\n",
    "              metrics=['accuracy'])"
   ]
  },
  {
   "cell_type": "code",
   "execution_count": 19,
   "metadata": {},
   "outputs": [
    {
     "output_type": "stream",
     "name": "stdout",
     "text": [
      "Epoch 1/100\n",
      "1563/1563 [==============================] - 17s 10ms/step - loss: 2.0591 - accuracy: 0.2465\n",
      "Epoch 2/100\n",
      "1563/1563 [==============================] - 16s 10ms/step - loss: 1.6575 - accuracy: 0.4168\n",
      "Epoch 3/100\n",
      "1563/1563 [==============================] - 16s 10ms/step - loss: 1.5323 - accuracy: 0.4616\n",
      "Epoch 4/100\n",
      "1563/1563 [==============================] - 16s 10ms/step - loss: 1.4641 - accuracy: 0.4842\n",
      "Epoch 5/100\n",
      "1563/1563 [==============================] - 17s 11ms/step - loss: 1.3981 - accuracy: 0.5121\n",
      "Epoch 6/100\n",
      "1563/1563 [==============================] - 19s 12ms/step - loss: 1.3562 - accuracy: 0.5279\n",
      "Epoch 7/100\n",
      "1563/1563 [==============================] - 16s 10ms/step - loss: 1.3217 - accuracy: 0.5371\n",
      "Epoch 8/100\n",
      "1563/1563 [==============================] - 15s 10ms/step - loss: 1.2825 - accuracy: 0.5533\n",
      "Epoch 9/100\n",
      "1563/1563 [==============================] - 15s 10ms/step - loss: 1.2727 - accuracy: 0.5539\n",
      "Epoch 10/100\n",
      "1563/1563 [==============================] - 15s 10ms/step - loss: 1.2328 - accuracy: 0.5723\n",
      "Epoch 11/100\n",
      "1563/1563 [==============================] - 15s 10ms/step - loss: 1.2258 - accuracy: 0.5716\n",
      "Epoch 12/100\n",
      "1563/1563 [==============================] - 15s 10ms/step - loss: 1.1952 - accuracy: 0.5853\n",
      "Epoch 13/100\n",
      "1563/1563 [==============================] - 15s 10ms/step - loss: 1.1928 - accuracy: 0.5849\n",
      "Epoch 14/100\n",
      "1563/1563 [==============================] - 16s 10ms/step - loss: 1.1766 - accuracy: 0.5881\n",
      "Epoch 15/100\n",
      "1563/1563 [==============================] - 16s 11ms/step - loss: 1.1560 - accuracy: 0.5972\n",
      "Epoch 16/100\n",
      "1563/1563 [==============================] - 20s 13ms/step - loss: 1.1403 - accuracy: 0.6036\n",
      "Epoch 17/100\n",
      "1563/1563 [==============================] - 16s 10ms/step - loss: 1.1421 - accuracy: 0.6017\n",
      "Epoch 18/100\n",
      "1563/1563 [==============================] - 15s 10ms/step - loss: 1.1277 - accuracy: 0.6062\n",
      "Epoch 19/100\n",
      "1563/1563 [==============================] - 15s 9ms/step - loss: 1.1210 - accuracy: 0.6084\n",
      "Epoch 20/100\n",
      "1563/1563 [==============================] - 15s 10ms/step - loss: 1.1290 - accuracy: 0.6046\n",
      "Epoch 21/100\n",
      "1563/1563 [==============================] - 15s 9ms/step - loss: 1.1068 - accuracy: 0.6105\n",
      "Epoch 22/100\n",
      "1563/1563 [==============================] - 15s 10ms/step - loss: 1.1016 - accuracy: 0.6138\n",
      "Epoch 23/100\n",
      "1563/1563 [==============================] - 15s 10ms/step - loss: 1.0933 - accuracy: 0.6190\n",
      "Epoch 24/100\n",
      "1563/1563 [==============================] - 15s 10ms/step - loss: 1.0862 - accuracy: 0.6201\n",
      "Epoch 25/100\n",
      "1563/1563 [==============================] - 15s 10ms/step - loss: 1.0771 - accuracy: 0.6211\n",
      "Epoch 26/100\n",
      "1563/1563 [==============================] - 15s 10ms/step - loss: 1.0659 - accuracy: 0.6269\n",
      "Epoch 27/100\n",
      "1563/1563 [==============================] - 15s 10ms/step - loss: 1.0681 - accuracy: 0.6268\n",
      "Epoch 28/100\n",
      "1563/1563 [==============================] - 15s 10ms/step - loss: 1.0584 - accuracy: 0.6294\n",
      "Epoch 29/100\n",
      "1563/1563 [==============================] - 16s 10ms/step - loss: 1.0473 - accuracy: 0.6295\n",
      "Epoch 30/100\n",
      "1563/1563 [==============================] - 15s 10ms/step - loss: 1.0499 - accuracy: 0.6331\n",
      "Epoch 31/100\n",
      "1563/1563 [==============================] - 16s 10ms/step - loss: 1.0471 - accuracy: 0.6335\n",
      "Epoch 32/100\n",
      "1563/1563 [==============================] - 17s 11ms/step - loss: 1.0390 - accuracy: 0.6362\n",
      "Epoch 33/100\n",
      "1563/1563 [==============================] - 17s 11ms/step - loss: 1.0325 - accuracy: 0.6361\n",
      "Epoch 34/100\n",
      "1563/1563 [==============================] - 19s 12ms/step - loss: 1.0228 - accuracy: 0.6426\n",
      "Epoch 35/100\n",
      "1563/1563 [==============================] - 16s 10ms/step - loss: 1.0265 - accuracy: 0.6387\n",
      "Epoch 36/100\n",
      "1563/1563 [==============================] - 16s 10ms/step - loss: 1.0108 - accuracy: 0.6473\n",
      "Epoch 37/100\n",
      "1563/1563 [==============================] - 16s 10ms/step - loss: 1.0211 - accuracy: 0.6400\n",
      "Epoch 38/100\n",
      "1563/1563 [==============================] - 16s 10ms/step - loss: 1.0079 - accuracy: 0.6451\n",
      "Epoch 39/100\n",
      "1563/1563 [==============================] - 16s 10ms/step - loss: 1.0177 - accuracy: 0.6425\n",
      "Epoch 40/100\n",
      "1563/1563 [==============================] - 16s 10ms/step - loss: 0.9983 - accuracy: 0.6493\n",
      "Epoch 41/100\n",
      "1563/1563 [==============================] - 16s 10ms/step - loss: 1.0034 - accuracy: 0.6463\n",
      "Epoch 42/100\n",
      "1563/1563 [==============================] - 16s 10ms/step - loss: 0.9971 - accuracy: 0.6477\n",
      "Epoch 43/100\n",
      "1563/1563 [==============================] - 16s 10ms/step - loss: 0.9855 - accuracy: 0.6537\n",
      "Epoch 44/100\n",
      "1563/1563 [==============================] - 16s 10ms/step - loss: 0.9940 - accuracy: 0.6528\n",
      "Epoch 45/100\n",
      "1563/1563 [==============================] - 16s 10ms/step - loss: 0.9868 - accuracy: 0.6549\n",
      "Epoch 46/100\n",
      "1563/1563 [==============================] - 19s 12ms/step - loss: 0.9822 - accuracy: 0.6548\n",
      "Epoch 47/100\n",
      "1563/1563 [==============================] - 17s 11ms/step - loss: 0.9846 - accuracy: 0.6532\n",
      "Epoch 48/100\n",
      "1563/1563 [==============================] - 16s 10ms/step - loss: 0.9832 - accuracy: 0.6520\n",
      "Epoch 49/100\n",
      "1563/1563 [==============================] - 16s 10ms/step - loss: 0.9784 - accuracy: 0.6542\n",
      "Epoch 50/100\n",
      "1563/1563 [==============================] - 16s 10ms/step - loss: 0.9700 - accuracy: 0.6607\n",
      "Epoch 51/100\n",
      "1563/1563 [==============================] - 17s 11ms/step - loss: 0.9738 - accuracy: 0.6576\n",
      "Epoch 52/100\n",
      "1563/1563 [==============================] - 16s 10ms/step - loss: 0.9738 - accuracy: 0.6588\n",
      "Epoch 53/100\n",
      "1563/1563 [==============================] - 16s 10ms/step - loss: 0.9643 - accuracy: 0.6584\n",
      "Epoch 54/100\n",
      "1563/1563 [==============================] - 16s 11ms/step - loss: 0.9607 - accuracy: 0.6630\n",
      "Epoch 55/100\n",
      "1563/1563 [==============================] - 17s 11ms/step - loss: 0.9623 - accuracy: 0.6640\n",
      "Epoch 56/100\n",
      "1563/1563 [==============================] - 16s 10ms/step - loss: 0.9665 - accuracy: 0.6611\n",
      "Epoch 57/100\n",
      "1563/1563 [==============================] - 16s 11ms/step - loss: 0.9640 - accuracy: 0.6597\n",
      "Epoch 58/100\n",
      "1563/1563 [==============================] - 19s 12ms/step - loss: 0.9578 - accuracy: 0.6632\n",
      "Epoch 59/100\n",
      "1563/1563 [==============================] - 20s 13ms/step - loss: 0.9570 - accuracy: 0.6647\n",
      "Epoch 60/100\n",
      "1563/1563 [==============================] - 18s 12ms/step - loss: 0.9515 - accuracy: 0.6647\n",
      "Epoch 61/100\n",
      "1563/1563 [==============================] - 18s 12ms/step - loss: 0.9442 - accuracy: 0.6684\n",
      "Epoch 62/100\n",
      "1563/1563 [==============================] - 18s 12ms/step - loss: 0.9421 - accuracy: 0.6666\n",
      "Epoch 63/100\n",
      "1563/1563 [==============================] - 18s 11ms/step - loss: 0.9415 - accuracy: 0.6688\n",
      "Epoch 64/100\n",
      "1563/1563 [==============================] - 20s 13ms/step - loss: 0.9374 - accuracy: 0.6675\n",
      "Epoch 65/100\n",
      "1563/1563 [==============================] - 20s 13ms/step - loss: 0.9418 - accuracy: 0.6673\n",
      "Epoch 66/100\n",
      "1563/1563 [==============================] - 20s 13ms/step - loss: 0.9421 - accuracy: 0.6644\n",
      "Epoch 67/100\n",
      "1563/1563 [==============================] - 20s 13ms/step - loss: 0.9456 - accuracy: 0.6665\n",
      "Epoch 68/100\n",
      "1563/1563 [==============================] - 20s 13ms/step - loss: 0.9357 - accuracy: 0.6726\n",
      "Epoch 69/100\n",
      "1563/1563 [==============================] - 21s 13ms/step - loss: 0.9369 - accuracy: 0.6698\n",
      "Epoch 70/100\n",
      "1563/1563 [==============================] - 20s 13ms/step - loss: 0.9253 - accuracy: 0.6772\n",
      "Epoch 71/100\n",
      "1563/1563 [==============================] - 19s 12ms/step - loss: 0.9279 - accuracy: 0.6729\n",
      "Epoch 72/100\n",
      "1563/1563 [==============================] - 20s 13ms/step - loss: 0.9326 - accuracy: 0.6746\n",
      "Epoch 73/100\n",
      "1563/1563 [==============================] - 22s 14ms/step - loss: 0.9322 - accuracy: 0.6688\n",
      "Epoch 74/100\n",
      "1563/1563 [==============================] - 20s 13ms/step - loss: 0.9201 - accuracy: 0.6773\n",
      "Epoch 75/100\n",
      "1563/1563 [==============================] - 20s 13ms/step - loss: 0.9230 - accuracy: 0.6732\n",
      "Epoch 76/100\n",
      "1563/1563 [==============================] - 20s 13ms/step - loss: 0.9385 - accuracy: 0.6695\n",
      "Epoch 77/100\n",
      "1563/1563 [==============================] - 22s 14ms/step - loss: 0.9175 - accuracy: 0.6775\n",
      "Epoch 78/100\n",
      "1563/1563 [==============================] - 19s 12ms/step - loss: 0.9227 - accuracy: 0.6741\n",
      "Epoch 79/100\n",
      "1563/1563 [==============================] - 23s 15ms/step - loss: 0.9173 - accuracy: 0.6782\n",
      "Epoch 80/100\n",
      "1563/1563 [==============================] - 24s 15ms/step - loss: 0.9198 - accuracy: 0.6764\n",
      "Epoch 81/100\n",
      "1563/1563 [==============================] - 23s 15ms/step - loss: 0.9122 - accuracy: 0.6776\n",
      "Epoch 82/100\n",
      "1563/1563 [==============================] - 22s 14ms/step - loss: 0.9242 - accuracy: 0.6753\n",
      "Epoch 83/100\n",
      "1563/1563 [==============================] - 22s 14ms/step - loss: 0.9088 - accuracy: 0.6764\n",
      "Epoch 84/100\n",
      "1563/1563 [==============================] - 20s 13ms/step - loss: 0.9143 - accuracy: 0.6750\n",
      "Epoch 85/100\n",
      "1563/1563 [==============================] - 21s 14ms/step - loss: 0.9056 - accuracy: 0.6791\n",
      "Epoch 86/100\n",
      "1563/1563 [==============================] - 22s 14ms/step - loss: 0.9153 - accuracy: 0.6754\n",
      "Epoch 87/100\n",
      "1563/1563 [==============================] - 18s 12ms/step - loss: 0.9096 - accuracy: 0.6766\n",
      "Epoch 88/100\n",
      "1563/1563 [==============================] - 19s 12ms/step - loss: 0.9151 - accuracy: 0.6755\n",
      "Epoch 89/100\n",
      "1563/1563 [==============================] - 18s 12ms/step - loss: 0.9149 - accuracy: 0.6740\n",
      "Epoch 90/100\n",
      "1563/1563 [==============================] - 19s 12ms/step - loss: 0.9083 - accuracy: 0.6786\n",
      "Epoch 91/100\n",
      "1563/1563 [==============================] - 19s 12ms/step - loss: 0.9092 - accuracy: 0.6782\n",
      "Epoch 92/100\n",
      "1563/1563 [==============================] - 19s 12ms/step - loss: 0.9053 - accuracy: 0.6772\n",
      "Epoch 93/100\n",
      "1563/1563 [==============================] - 20s 12ms/step - loss: 0.9108 - accuracy: 0.6757\n",
      "Epoch 94/100\n",
      "1563/1563 [==============================] - 19s 12ms/step - loss: 0.9082 - accuracy: 0.6823\n",
      "Epoch 95/100\n",
      "1563/1563 [==============================] - 19s 12ms/step - loss: 0.9067 - accuracy: 0.6811\n",
      "Epoch 96/100\n",
      "1563/1563 [==============================] - 20s 13ms/step - loss: 0.9008 - accuracy: 0.6795\n",
      "Epoch 97/100\n",
      "1563/1563 [==============================] - 19s 12ms/step - loss: 0.9005 - accuracy: 0.6796\n",
      "Epoch 98/100\n",
      "1563/1563 [==============================] - 20s 13ms/step - loss: 0.8933 - accuracy: 0.6854\n",
      "Epoch 99/100\n",
      "1563/1563 [==============================] - 20s 13ms/step - loss: 0.9043 - accuracy: 0.6801\n",
      "Epoch 100/100\n",
      "1563/1563 [==============================] - 21s 13ms/step - loss: 0.9009 - accuracy: 0.6842\n"
     ]
    },
    {
     "output_type": "execute_result",
     "data": {
      "text/plain": [
       "<tensorflow.python.keras.callbacks.History at 0x7f8bd978fa90>"
      ]
     },
     "metadata": {},
     "execution_count": 19
    }
   ],
   "source": [
    "model4.fit(train_images_gray_norm, train_labels, epochs=100)"
   ]
  },
  {
   "cell_type": "code",
   "execution_count": 20,
   "metadata": {},
   "outputs": [],
   "source": [
    "predictions4 = model4.predict(test_images_gray_norm)"
   ]
  },
  {
   "cell_type": "code",
   "execution_count": 21,
   "metadata": {},
   "outputs": [
    {
     "output_type": "execute_result",
     "data": {
      "text/plain": [
       "(10000, 10)"
      ]
     },
     "metadata": {},
     "execution_count": 21
    }
   ],
   "source": [
    "predictions4.shape"
   ]
  },
  {
   "cell_type": "code",
   "execution_count": 22,
   "metadata": {},
   "outputs": [
    {
     "output_type": "stream",
     "name": "stdout",
     "text": [
      "313/313 [==============================] - 2s 5ms/step - loss: 1.2597 - accuracy: 0.5866\n",
      "test loss, test acc: [1.2596651315689087, 0.5866000056266785]\n"
     ]
    }
   ],
   "source": [
    "results4 = model4.evaluate(test_images_gray_norm, test_labels)\n",
    "print(\"test loss, test acc:\", results4)"
   ]
  },
  {
   "source": [
    "## Model 1 with color images normalized"
   ],
   "cell_type": "markdown",
   "metadata": {}
  },
  {
   "cell_type": "code",
   "execution_count": 9,
   "metadata": {},
   "outputs": [
    {
     "output_type": "stream",
     "name": "stdout",
     "text": [
      "Model: \"sequential_1\"\n_________________________________________________________________\nLayer (type)                 Output Shape              Param #   \n=================================================================\nconv2d_1 (Conv2D)            (None, 32, 32, 8)         224       \n_________________________________________________________________\nmax_pooling2d_1 (MaxPooling2 (None, 16, 16, 8)         0         \n_________________________________________________________________\ndropout_1 (Dropout)          (None, 16, 16, 8)         0         \n_________________________________________________________________\nflatten_1 (Flatten)          (None, 2048)              0         \n_________________________________________________________________\ndense_2 (Dense)              (None, 32)                65568     \n_________________________________________________________________\ndense_3 (Dense)              (None, 10)                330       \n=================================================================\nTotal params: 66,122\nTrainable params: 66,122\nNon-trainable params: 0\n_________________________________________________________________\n"
     ]
    }
   ],
   "source": [
    "# Creating a model and layers\n",
    "model5 = tf.keras.models.Sequential()\n",
    "model5.add(layers.Conv2D(filters=8, \n",
    "                        kernel_size=(3, 3), \n",
    "                        input_shape=(32, 32, 3), \n",
    "                        padding='same'))\n",
    "model5.add(layers.MaxPooling2D(pool_size=(2, 2), padding=\"same\"))\n",
    "model5.add(layers.Dropout(0.25))\n",
    "model5.add(layers.Flatten())\n",
    "model5.add(layers.Dense(32, activation='relu'))\n",
    "model5.add(layers.Dense(10, activation='softmax'))\n",
    "model5.summary()"
   ]
  },
  {
   "cell_type": "code",
   "execution_count": 10,
   "metadata": {},
   "outputs": [],
   "source": [
    "model5.compile(optimizer='adam',\n",
    "              loss='sparse_categorical_crossentropy',\n",
    "              metrics=['accuracy'])"
   ]
  },
  {
   "cell_type": "code",
   "execution_count": 11,
   "metadata": {},
   "outputs": [
    {
     "output_type": "stream",
     "name": "stdout",
     "text": [
      "Epoch 1/10\n",
      "1563/1563 [==============================] - 27s 14ms/step - loss: 1.8068 - accuracy: 0.3575\n",
      "Epoch 2/10\n",
      "1563/1563 [==============================] - 23s 14ms/step - loss: 1.4036 - accuracy: 0.5097\n",
      "Epoch 3/10\n",
      "1563/1563 [==============================] - 23s 15ms/step - loss: 1.2892 - accuracy: 0.5478\n",
      "Epoch 4/10\n",
      "1563/1563 [==============================] - 22s 14ms/step - loss: 1.2110 - accuracy: 0.5769\n",
      "Epoch 5/10\n",
      "1563/1563 [==============================] - 22s 14ms/step - loss: 1.1682 - accuracy: 0.5908\n",
      "Epoch 6/10\n",
      "1563/1563 [==============================] - 22s 14ms/step - loss: 1.1305 - accuracy: 0.6029\n",
      "Epoch 7/10\n",
      "1563/1563 [==============================] - 22s 14ms/step - loss: 1.1047 - accuracy: 0.6147\n",
      "Epoch 8/10\n",
      "1563/1563 [==============================] - 21s 14ms/step - loss: 1.0739 - accuracy: 0.6250\n",
      "Epoch 9/10\n",
      "1563/1563 [==============================] - 21s 13ms/step - loss: 1.0366 - accuracy: 0.6358\n",
      "Epoch 10/10\n",
      "1563/1563 [==============================] - 21s 13ms/step - loss: 1.0293 - accuracy: 0.6383\n"
     ]
    },
    {
     "output_type": "execute_result",
     "data": {
      "text/plain": [
       "<tensorflow.python.keras.callbacks.History at 0x7fdc98b5ee50>"
      ]
     },
     "metadata": {},
     "execution_count": 11
    }
   ],
   "source": [
    "model5.fit(train_images_norm, train_labels, epochs=10)"
   ]
  },
  {
   "cell_type": "code",
   "execution_count": 12,
   "metadata": {},
   "outputs": [],
   "source": [
    "predictions5 = model5.predict(test_images_norm)"
   ]
  },
  {
   "cell_type": "code",
   "execution_count": 13,
   "metadata": {},
   "outputs": [
    {
     "output_type": "execute_result",
     "data": {
      "text/plain": [
       "(10000, 10)"
      ]
     },
     "metadata": {},
     "execution_count": 13
    }
   ],
   "source": [
    "predictions5.shape"
   ]
  },
  {
   "cell_type": "code",
   "execution_count": 14,
   "metadata": {},
   "outputs": [
    {
     "output_type": "stream",
     "name": "stdout",
     "text": [
      "313/313 [==============================] - 2s 5ms/step - loss: 1.1507 - accuracy: 0.6049\n",
      "test loss, test acc: [1.1507055759429932, 0.6049000024795532]\n"
     ]
    }
   ],
   "source": [
    "results5 = model5.evaluate(test_images_norm, test_labels)\n",
    "print(\"test loss, test acc:\", results5)"
   ]
  },
  {
   "source": [
    "Normalizando las imagenes en grises hemos mejorado mucho el accuracy del modelo, 58.66%, normalizando las imganes en RGB el modelo tiene un accuracy de 60.49%, lo que nos hace ver la importancia de normalizar nuestras imagenes para entrenar los modelos."
   ],
   "cell_type": "markdown",
   "metadata": {}
  }
 ]
}
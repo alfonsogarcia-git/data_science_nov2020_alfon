{
 "metadata": {
  "language_info": {
   "codemirror_mode": {
    "name": "ipython",
    "version": 3
   },
   "file_extension": ".py",
   "mimetype": "text/x-python",
   "name": "python",
   "nbconvert_exporter": "python",
   "pygments_lexer": "ipython3",
   "version": "3.9.0-final"
  },
  "orig_nbformat": 2,
  "kernelspec": {
   "name": "python3",
   "display_name": "Python 3",
   "language": "python"
  }
 },
 "nbformat": 4,
 "nbformat_minor": 2,
 "cells": [
  {
   "cell_type": "code",
   "execution_count": 2,
   "metadata": {},
   "outputs": [],
   "source": [
    "import sqlite3\n",
    "import pandas as pd"
   ]
  },
  {
   "cell_type": "code",
   "execution_count": 3,
   "metadata": {},
   "outputs": [],
   "source": [
    "# Crear un conector a la base de datos chinook\n",
    "db_name = 'chinook.db'\n",
    "conn = sqlite3.connect(db_name)"
   ]
  },
  {
   "cell_type": "code",
   "execution_count": 4,
   "metadata": {},
   "outputs": [],
   "source": [
    "cursor = conn.cursor()"
   ]
  },
  {
   "cell_type": "code",
   "execution_count": 5,
   "metadata": {},
   "outputs": [],
   "source": [
    "query_st = '''\n",
    "SELECT *\n",
    "FROM albums\n",
    "'''"
   ]
  },
  {
   "cell_type": "code",
   "execution_count": 6,
   "metadata": {},
   "outputs": [],
   "source": [
    "query = cursor.execute(query_st)"
   ]
  },
  {
   "cell_type": "code",
   "execution_count": 7,
   "metadata": {},
   "outputs": [
    {
     "output_type": "execute_result",
     "data": {
      "text/plain": [
       "[(1, 'For Those About To Rock We Salute You', 1),\n",
       " (2, 'Balls to the Wall', 2),\n",
       " (3, 'Restless and Wild', 2),\n",
       " (4, 'Let There Be Rock', 1),\n",
       " (5, 'Big Ones', 3),\n",
       " (6, 'Jagged Little Pill', 4),\n",
       " (7, 'Facelift', 5),\n",
       " (8, 'Warner 25 Anos', 6),\n",
       " (9, 'Plays Metallica By Four Cellos', 7),\n",
       " (10, 'Audioslave', 8),\n",
       " (11, 'Out Of Exile', 8),\n",
       " (12, 'BackBeat Soundtrack', 9),\n",
       " (13, 'The Best Of Billy Cobham', 10),\n",
       " (14, 'Alcohol Fueled Brewtality Live! [Disc 1]', 11),\n",
       " (15, 'Alcohol Fueled Brewtality Live! [Disc 2]', 11),\n",
       " (16, 'Black Sabbath', 12),\n",
       " (17, 'Black Sabbath Vol. 4 (Remaster)', 12),\n",
       " (18, 'Body Count', 13),\n",
       " (19, 'Chemical Wedding', 14),\n",
       " (20, 'The Best Of Buddy Guy - The Millenium Collection', 15),\n",
       " (21, 'Prenda Minha', 16),\n",
       " (22, 'Sozinho Remix Ao Vivo', 16),\n",
       " (23, 'Minha Historia', 17),\n",
       " (24, 'Afrociberdelia', 18),\n",
       " (25, 'Da Lama Ao Caos', 18),\n",
       " (26, 'Acústico MTV [Live]', 19),\n",
       " (27, 'Cidade Negra - Hits', 19),\n",
       " (28, 'Na Pista', 20),\n",
       " (29, 'Axé Bahia 2001', 21),\n",
       " (30, 'BBC Sessions [Disc 1] [Live]', 22),\n",
       " (31, 'Bongo Fury', 23),\n",
       " (32, 'Carnaval 2001', 21),\n",
       " (33, 'Chill: Brazil (Disc 1)', 24),\n",
       " (34, 'Chill: Brazil (Disc 2)', 6),\n",
       " (35, 'Garage Inc. (Disc 1)', 50),\n",
       " (36, 'Greatest Hits II', 51),\n",
       " (37, 'Greatest Kiss', 52),\n",
       " (38, 'Heart of the Night', 53),\n",
       " (39, 'International Superhits', 54),\n",
       " (40, 'Into The Light', 55),\n",
       " (41, 'Meus Momentos', 56),\n",
       " (42, 'Minha História', 57),\n",
       " (43, 'MK III The Final Concerts [Disc 1]', 58),\n",
       " (44, 'Physical Graffiti [Disc 1]', 22),\n",
       " (45, 'Sambas De Enredo 2001', 21),\n",
       " (46, 'Supernatural', 59),\n",
       " (47, 'The Best of Ed Motta', 37),\n",
       " (48, 'The Essential Miles Davis [Disc 1]', 68),\n",
       " (49, 'The Essential Miles Davis [Disc 2]', 68),\n",
       " (50, 'The Final Concerts (Disc 2)', 58),\n",
       " (51, \"Up An' Atom\", 69),\n",
       " (52, 'Vinícius De Moraes - Sem Limite', 70),\n",
       " (53, 'Vozes do MPB', 21),\n",
       " (54, 'Chronicle, Vol. 1', 76),\n",
       " (55, 'Chronicle, Vol. 2', 76),\n",
       " (56, 'Cássia Eller - Coleção Sem Limite [Disc 2]', 77),\n",
       " (57, 'Cássia Eller - Sem Limite [Disc 1]', 77),\n",
       " (58, 'Come Taste The Band', 58),\n",
       " (59, 'Deep Purple In Rock', 58),\n",
       " (60, 'Fireball', 58),\n",
       " (61, \"Knocking at Your Back Door: The Best Of Deep Purple in the 80's\", 58),\n",
       " (62, 'Machine Head', 58),\n",
       " (63, 'Purpendicular', 58),\n",
       " (64, 'Slaves And Masters', 58),\n",
       " (65, 'Stormbringer', 58),\n",
       " (66, 'The Battle Rages On', 58),\n",
       " (67, \"Vault: Def Leppard's Greatest Hits\", 78),\n",
       " (68, 'Outbreak', 79),\n",
       " (69, 'Djavan Ao Vivo - Vol. 02', 80),\n",
       " (70, 'Djavan Ao Vivo - Vol. 1', 80),\n",
       " (71, 'Elis Regina-Minha História', 41),\n",
       " (72, 'The Cream Of Clapton', 81),\n",
       " (73, 'Unplugged', 81),\n",
       " (74, 'Album Of The Year', 82),\n",
       " (75, 'Angel Dust', 82),\n",
       " (76, 'King For A Day Fool For A Lifetime', 82),\n",
       " (77, 'The Real Thing', 82),\n",
       " (78, 'Deixa Entrar', 83),\n",
       " (79, 'In Your Honor [Disc 1]', 84),\n",
       " (80, 'In Your Honor [Disc 2]', 84),\n",
       " (81, 'One By One', 84),\n",
       " (82, 'The Colour And The Shape', 84),\n",
       " (83, 'My Way: The Best Of Frank Sinatra [Disc 1]', 85),\n",
       " (84, 'Roda De Funk', 86),\n",
       " (85, 'As Canções de Eu Tu Eles', 27),\n",
       " (86, 'Quanta Gente Veio Ver (Live)', 27),\n",
       " (87, 'Quanta Gente Veio ver--Bônus De Carnaval', 27),\n",
       " (88, 'Faceless', 87),\n",
       " (89, 'American Idiot', 54),\n",
       " (90, 'Appetite for Destruction', 88),\n",
       " (91, 'Use Your Illusion I', 88),\n",
       " (92, 'Use Your Illusion II', 88),\n",
       " (93, 'Blue Moods', 89),\n",
       " (94, 'A Matter of Life and Death', 90),\n",
       " (95, 'A Real Dead One', 90),\n",
       " (96, 'A Real Live One', 90),\n",
       " (97, 'Brave New World', 90),\n",
       " (98, 'Dance Of Death', 90),\n",
       " (99, 'Fear Of The Dark', 90),\n",
       " (100, 'Iron Maiden', 90),\n",
       " (101, 'Killers', 90),\n",
       " (102, 'Live After Death', 90),\n",
       " (103, 'Live At Donington 1992 (Disc 1)', 90),\n",
       " (104, 'Live At Donington 1992 (Disc 2)', 90),\n",
       " (105, 'No Prayer For The Dying', 90),\n",
       " (106, 'Piece Of Mind', 90),\n",
       " (107, 'Powerslave', 90),\n",
       " (108, 'Rock In Rio [CD1]', 90),\n",
       " (109, 'Rock In Rio [CD2]', 90),\n",
       " (110, 'Seventh Son of a Seventh Son', 90),\n",
       " (111, 'Somewhere in Time', 90),\n",
       " (112, 'The Number of The Beast', 90),\n",
       " (113, 'The X Factor', 90),\n",
       " (114, 'Virtual XI', 90),\n",
       " (115, 'Sex Machine', 91),\n",
       " (116, 'Emergency On Planet Earth', 92),\n",
       " (117, 'Synkronized', 92),\n",
       " (118, 'The Return Of The Space Cowboy', 92),\n",
       " (119, 'Get Born', 93),\n",
       " (120, 'Are You Experienced?', 94),\n",
       " (121, 'Surfing with the Alien (Remastered)', 95),\n",
       " (122, 'Jorge Ben Jor 25 Anos', 46),\n",
       " (123, 'Jota Quest-1995', 96),\n",
       " (124, 'Cafezinho', 97),\n",
       " (125, 'Living After Midnight', 98),\n",
       " (126, 'Unplugged [Live]', 52),\n",
       " (127, 'BBC Sessions [Disc 2] [Live]', 22),\n",
       " (128, 'Coda', 22),\n",
       " (129, 'Houses Of The Holy', 22),\n",
       " (130, 'In Through The Out Door', 22),\n",
       " (131, 'IV', 22),\n",
       " (132, 'Led Zeppelin I', 22),\n",
       " (133, 'Led Zeppelin II', 22),\n",
       " (134, 'Led Zeppelin III', 22),\n",
       " (135, 'Physical Graffiti [Disc 2]', 22),\n",
       " (136, 'Presence', 22),\n",
       " (137, 'The Song Remains The Same (Disc 1)', 22),\n",
       " (138, 'The Song Remains The Same (Disc 2)', 22),\n",
       " (139, 'A TempestadeTempestade Ou O Livro Dos Dias', 99),\n",
       " (140, 'Mais Do Mesmo', 99),\n",
       " (141, 'Greatest Hits', 100),\n",
       " (142, 'Lulu Santos - RCA 100 Anos De Música - Álbum 01', 101),\n",
       " (143, 'Lulu Santos - RCA 100 Anos De Música - Álbum 02', 101),\n",
       " (144, 'Misplaced Childhood', 102),\n",
       " (145, 'Barulhinho Bom', 103),\n",
       " (146, 'Seek And Shall Find: More Of The Best (1963-1981)', 104),\n",
       " (147, 'The Best Of Men At Work', 105),\n",
       " (148, 'Black Album', 50),\n",
       " (149, 'Garage Inc. (Disc 2)', 50),\n",
       " (150, \"Kill 'Em All\", 50),\n",
       " (151, 'Load', 50),\n",
       " (152, 'Master Of Puppets', 50),\n",
       " (153, 'ReLoad', 50),\n",
       " (154, 'Ride The Lightning', 50),\n",
       " (155, 'St. Anger', 50),\n",
       " (156, '...And Justice For All', 50),\n",
       " (157, 'Miles Ahead', 68),\n",
       " (158, 'Milton Nascimento Ao Vivo', 42),\n",
       " (159, 'Minas', 42),\n",
       " (160, 'Ace Of Spades', 106),\n",
       " (161, 'Demorou...', 108),\n",
       " (162, 'Motley Crue Greatest Hits', 109),\n",
       " (163, 'From The Muddy Banks Of The Wishkah [Live]', 110),\n",
       " (164, 'Nevermind', 110),\n",
       " (165, 'Compositores', 111),\n",
       " (166, 'Olodum', 112),\n",
       " (167, 'Acústico MTV', 113),\n",
       " (168, 'Arquivo II', 113),\n",
       " (169, 'Arquivo Os Paralamas Do Sucesso', 113),\n",
       " (170, 'Bark at the Moon (Remastered)', 114),\n",
       " (171, 'Blizzard of Ozz', 114),\n",
       " (172, 'Diary of a Madman (Remastered)', 114),\n",
       " (173, 'No More Tears (Remastered)', 114),\n",
       " (174, 'Tribute', 114),\n",
       " (175, 'Walking Into Clarksdale', 115),\n",
       " (176, 'Original Soundtracks 1', 116),\n",
       " (177, 'The Beast Live', 117),\n",
       " (178, 'Live On Two Legs [Live]', 118),\n",
       " (179, 'Pearl Jam', 118),\n",
       " (180, 'Riot Act', 118),\n",
       " (181, 'Ten', 118),\n",
       " (182, 'Vs.', 118),\n",
       " (183, 'Dark Side Of The Moon', 120),\n",
       " (184, 'Os Cães Ladram Mas A Caravana Não Pára', 121),\n",
       " (185, 'Greatest Hits I', 51),\n",
       " (186, 'News Of The World', 51),\n",
       " (187, 'Out Of Time', 122),\n",
       " (188, 'Green', 124),\n",
       " (189, 'New Adventures In Hi-Fi', 124),\n",
       " (190, 'The Best Of R.E.M.: The IRS Years', 124),\n",
       " (191, 'Cesta Básica', 125),\n",
       " (192, 'Raul Seixas', 126),\n",
       " (193, 'Blood Sugar Sex Magik', 127),\n",
       " (194, 'By The Way', 127),\n",
       " (195, 'Californication', 127),\n",
       " (196, 'Retrospective I (1974-1980)', 128),\n",
       " (197, 'Santana - As Years Go By', 59),\n",
       " (198, 'Santana Live', 59),\n",
       " (199, 'Maquinarama', 130),\n",
       " (200, 'O Samba Poconé', 130),\n",
       " (201, 'Judas 0: B-Sides and Rarities', 131),\n",
       " (202, 'Rotten Apples: Greatest Hits', 131),\n",
       " (203, 'A-Sides', 132),\n",
       " (204, 'Morning Dance', 53),\n",
       " (205, 'In Step', 133),\n",
       " (206, 'Core', 134),\n",
       " (207, 'Mezmerize', 135),\n",
       " (208, '[1997] Black Light Syndrome', 136),\n",
       " (209, 'Live [Disc 1]', 137),\n",
       " (210, 'Live [Disc 2]', 137),\n",
       " (211, 'The Singles', 138),\n",
       " (212, 'Beyond Good And Evil', 139),\n",
       " (213,\n",
       "  'Pure Cult: The Best Of The Cult (For Rockers, Ravers, Lovers & Sinners) [UK]',\n",
       "  139),\n",
       " (214, 'The Doors', 140),\n",
       " (215, 'The Police Greatest Hits', 141),\n",
       " (216, 'Hot Rocks, 1964-1971 (Disc 1)', 142),\n",
       " (217, 'No Security', 142),\n",
       " (218, 'Voodoo Lounge', 142),\n",
       " (219, 'Tangents', 143),\n",
       " (220, 'Transmission', 143),\n",
       " (221, 'My Generation - The Very Best Of The Who', 144),\n",
       " (222, 'Serie Sem Limite (Disc 1)', 145),\n",
       " (223, 'Serie Sem Limite (Disc 2)', 145),\n",
       " (224, 'Acústico', 146),\n",
       " (225, 'Volume Dois', 146),\n",
       " (226, 'Battlestar Galactica: The Story So Far', 147),\n",
       " (227, 'Battlestar Galactica, Season 3', 147),\n",
       " (228, 'Heroes, Season 1', 148),\n",
       " (229, 'Lost, Season 3', 149),\n",
       " (230, 'Lost, Season 1', 149),\n",
       " (231, 'Lost, Season 2', 149),\n",
       " (232, 'Achtung Baby', 150),\n",
       " (233, \"All That You Can't Leave Behind\", 150),\n",
       " (234, 'B-Sides 1980-1990', 150),\n",
       " (235, 'How To Dismantle An Atomic Bomb', 150),\n",
       " (236, 'Pop', 150),\n",
       " (237, 'Rattle And Hum', 150),\n",
       " (238, 'The Best Of 1980-1990', 150),\n",
       " (239, 'War', 150),\n",
       " (240, 'Zooropa', 150),\n",
       " (241, 'UB40 The Best Of - Volume Two [UK]', 151),\n",
       " (242, 'Diver Down', 152),\n",
       " (243, 'The Best Of Van Halen, Vol. I', 152),\n",
       " (244, 'Van Halen', 152),\n",
       " (245, 'Van Halen III', 152),\n",
       " (246, 'Contraband', 153),\n",
       " (247, 'Vinicius De Moraes', 72),\n",
       " (248, 'Ao Vivo [IMPORT]', 155),\n",
       " (249, 'The Office, Season 1', 156),\n",
       " (250, 'The Office, Season 2', 156),\n",
       " (251, 'The Office, Season 3', 156),\n",
       " (252, 'Un-Led-Ed', 157),\n",
       " (253, 'Battlestar Galactica (Classic), Season 1', 158),\n",
       " (254, 'Aquaman', 159),\n",
       " (255,\n",
       "  'Instant Karma: The Amnesty International Campaign to Save Darfur',\n",
       "  150),\n",
       " (256, 'Speak of the Devil', 114),\n",
       " (257,\n",
       "  '20th Century Masters - The Millennium Collection: The Best of Scorpions',\n",
       "  179),\n",
       " (258, 'House of Pain', 180),\n",
       " (259,\n",
       "  'Radio Brasil (O Som da Jovem Vanguarda) - Seleccao de Henrique Amaro',\n",
       "  36),\n",
       " (260, 'Cake: B-Sides and Rarities', 196),\n",
       " (261, 'LOST, Season 4', 149),\n",
       " (262, 'Quiet Songs', 197),\n",
       " (263, 'Muso Ko', 198),\n",
       " (264, 'Realize', 199),\n",
       " (265, 'Every Kind of Light', 200),\n",
       " (266, 'Duos II', 201),\n",
       " (267, 'Worlds', 202),\n",
       " (268, 'The Best of Beethoven', 203),\n",
       " (269, 'Temple of the Dog', 204),\n",
       " (270, 'Carry On', 205),\n",
       " (271, 'Revelations', 8),\n",
       " (272, 'Adorate Deum: Gregorian Chant from the Proper of the Mass', 206),\n",
       " (273, 'Allegri: Miserere', 207),\n",
       " (274, 'Pachelbel: Canon & Gigue', 208),\n",
       " (275, 'Vivaldi: The Four Seasons', 209),\n",
       " (276, 'Bach: Violin Concertos', 210),\n",
       " (277, 'Bach: Goldberg Variations', 211),\n",
       " (278, 'Bach: The Cello Suites', 212),\n",
       " (279, 'Handel: The Messiah (Highlights)', 213),\n",
       " (280, 'The World of Classical Favourites', 214),\n",
       " (281, 'Sir Neville Marriner: A Celebration', 215),\n",
       " (282, 'Mozart: Wind Concertos', 216),\n",
       " (283, 'Haydn: Symphonies 99 - 104', 217),\n",
       " (284, 'Beethoven: Symhonies Nos. 5 & 6', 218),\n",
       " (285, 'A Soprano Inspired', 219),\n",
       " (286, 'Great Opera Choruses', 220),\n",
       " (287, 'Wagner: Favourite Overtures', 221),\n",
       " (288, 'Fauré: Requiem, Ravel: Pavane & Others', 222),\n",
       " (289, 'Tchaikovsky: The Nutcracker', 223),\n",
       " (290, 'The Last Night of the Proms', 224),\n",
       " (291, 'Puccini: Madama Butterfly - Highlights', 225),\n",
       " (292, 'Holst: The Planets, Op. 32 & Vaughan Williams: Fantasies', 226),\n",
       " (293, \"Pavarotti's Opera Made Easy\", 227),\n",
       " (294,\n",
       "  \"Great Performances - Barber's Adagio and Other Romantic Favorites for Strings\",\n",
       "  228),\n",
       " (295, 'Carmina Burana', 229),\n",
       " (296, 'A Copland Celebration, Vol. I', 230),\n",
       " (297, 'Bach: Toccata & Fugue in D Minor', 231),\n",
       " (298, 'Prokofiev: Symphony No.1', 232),\n",
       " (299, 'Scheherazade', 233),\n",
       " (300, 'Bach: The Brandenburg Concertos', 234),\n",
       " (301, 'Chopin: Piano Concertos Nos. 1 & 2', 235),\n",
       " (302, 'Mascagni: Cavalleria Rusticana', 236),\n",
       " (303, 'Sibelius: Finlandia', 237),\n",
       " (304, 'Beethoven Piano Sonatas: Moonlight & Pastorale', 238),\n",
       " (305, 'Great Recordings of the Century - Mahler: Das Lied von der Erde', 240),\n",
       " (306, 'Elgar: Cello Concerto & Vaughan Williams: Fantasias', 241),\n",
       " (307, 'Adams, John: The Chairman Dances', 242),\n",
       " (308,\n",
       "  \"Tchaikovsky: 1812 Festival Overture, Op.49, Capriccio Italien & Beethoven: Wellington's Victory\",\n",
       "  243),\n",
       " (309, 'Palestrina: Missa Papae Marcelli & Allegri: Miserere', 244),\n",
       " (310, 'Prokofiev: Romeo & Juliet', 245),\n",
       " (311, 'Strauss: Waltzes', 226),\n",
       " (312, 'Berlioz: Symphonie Fantastique', 245),\n",
       " (313, 'Bizet: Carmen Highlights', 246),\n",
       " (314, 'English Renaissance', 247),\n",
       " (315, 'Handel: Music for the Royal Fireworks (Original Version 1749)', 208),\n",
       " (316, 'Grieg: Peer Gynt Suites & Sibelius: Pelléas et Mélisande', 248),\n",
       " (317, 'Mozart Gala: Famous Arias', 249),\n",
       " (318, 'SCRIABIN: Vers la flamme', 250),\n",
       " (319, 'Armada: Music from the Courts of England and Spain', 251),\n",
       " (320, 'Mozart: Symphonies Nos. 40 & 41', 248),\n",
       " (321, 'Back to Black', 252),\n",
       " (322, 'Frank', 252),\n",
       " (323, 'Carried to Dust (Bonus Track Version)', 253),\n",
       " (324, \"Beethoven: Symphony No. 6 'Pastoral' Etc.\", 254),\n",
       " (325, 'Bartok: Violin & Viola Concertos', 255),\n",
       " (326, \"Mendelssohn: A Midsummer Night's Dream\", 256),\n",
       " (327, 'Bach: Orchestral Suites Nos. 1 - 4', 257),\n",
       " (328, 'Charpentier: Divertissements, Airs & Concerts', 258),\n",
       " (329, 'South American Getaway', 259),\n",
       " (330, 'Górecki: Symphony No. 3', 260),\n",
       " (331, 'Purcell: The Fairy Queen', 261),\n",
       " (332, 'The Ultimate Relexation Album', 262),\n",
       " (333, 'Purcell: Music for the Queen Mary', 263),\n",
       " (334, 'Weill: The Seven Deadly Sins', 264),\n",
       " (335,\n",
       "  'J.S. Bach: Chaconne, Suite in E Minor, Partita in E Major & Prelude, Fugue and Allegro',\n",
       "  265),\n",
       " (336, 'Prokofiev: Symphony No.5 & Stravinksy: Le Sacre Du Printemps', 248),\n",
       " (337, 'Szymanowski: Piano Works, Vol. 1', 266),\n",
       " (338, 'Nielsen: The Six Symphonies', 267),\n",
       " (339, \"Great Recordings of the Century: Paganini's 24 Caprices\", 268),\n",
       " (340, \"Liszt - 12 Études D'Execution Transcendante\", 269),\n",
       " (341,\n",
       "  'Great Recordings of the Century - Shubert: Schwanengesang, 4 Lieder',\n",
       "  270),\n",
       " (342, 'Locatelli: Concertos for Violin, Strings and Continuo, Vol. 3', 271),\n",
       " (343, 'Respighi:Pines of Rome', 226),\n",
       " (344, \"Schubert: The Late String Quartets & String Quintet (3 CD's)\", 272),\n",
       " (345, \"Monteverdi: L'Orfeo\", 273),\n",
       " (346, 'Mozart: Chamber Music', 274),\n",
       " (347, 'Koyaanisqatsi (Soundtrack from the Motion Picture)', 275)]"
      ]
     },
     "metadata": {},
     "execution_count": 7
    }
   ],
   "source": [
    "query.fetchall()"
   ]
  },
  {
   "cell_type": "code",
   "execution_count": 8,
   "metadata": {},
   "outputs": [],
   "source": [
    "query2 = cursor.execute('SELECT name FROM sqlite_master WHERE type = \\'table\\';')"
   ]
  },
  {
   "cell_type": "code",
   "execution_count": 9,
   "metadata": {},
   "outputs": [
    {
     "output_type": "execute_result",
     "data": {
      "text/plain": [
       "[('albums',),\n",
       " ('sqlite_sequence',),\n",
       " ('artists',),\n",
       " ('customers',),\n",
       " ('employees',),\n",
       " ('genres',),\n",
       " ('invoices',),\n",
       " ('invoice_items',),\n",
       " ('media_types',),\n",
       " ('playlists',),\n",
       " ('playlist_track',),\n",
       " ('tracks',),\n",
       " ('sqlite_stat1',),\n",
       " ('films',),\n",
       " ('new_table',),\n",
       " ('nueva_tabla',)]"
      ]
     },
     "metadata": {},
     "execution_count": 9
    }
   ],
   "source": [
    "query2.fetchall()"
   ]
  },
  {
   "cell_type": "code",
   "execution_count": 10,
   "metadata": {},
   "outputs": [
    {
     "output_type": "execute_result",
     "data": {
      "text/plain": [
       "     AlbumId                                              Title  ArtistId\n",
       "0          1              For Those About To Rock We Salute You         1\n",
       "1          2                                  Balls to the Wall         2\n",
       "2          3                                  Restless and Wild         2\n",
       "3          4                                  Let There Be Rock         1\n",
       "4          5                                           Big Ones         3\n",
       "..       ...                                                ...       ...\n",
       "342      343                             Respighi:Pines of Rome       226\n",
       "343      344  Schubert: The Late String Quartets & String Qu...       272\n",
       "344      345                                Monteverdi: L'Orfeo       273\n",
       "345      346                              Mozart: Chamber Music       274\n",
       "346      347  Koyaanisqatsi (Soundtrack from the Motion Pict...       275\n",
       "\n",
       "[347 rows x 3 columns]"
      ],
      "text/html": "<div>\n<style scoped>\n    .dataframe tbody tr th:only-of-type {\n        vertical-align: middle;\n    }\n\n    .dataframe tbody tr th {\n        vertical-align: top;\n    }\n\n    .dataframe thead th {\n        text-align: right;\n    }\n</style>\n<table border=\"1\" class=\"dataframe\">\n  <thead>\n    <tr style=\"text-align: right;\">\n      <th></th>\n      <th>AlbumId</th>\n      <th>Title</th>\n      <th>ArtistId</th>\n    </tr>\n  </thead>\n  <tbody>\n    <tr>\n      <th>0</th>\n      <td>1</td>\n      <td>For Those About To Rock We Salute You</td>\n      <td>1</td>\n    </tr>\n    <tr>\n      <th>1</th>\n      <td>2</td>\n      <td>Balls to the Wall</td>\n      <td>2</td>\n    </tr>\n    <tr>\n      <th>2</th>\n      <td>3</td>\n      <td>Restless and Wild</td>\n      <td>2</td>\n    </tr>\n    <tr>\n      <th>3</th>\n      <td>4</td>\n      <td>Let There Be Rock</td>\n      <td>1</td>\n    </tr>\n    <tr>\n      <th>4</th>\n      <td>5</td>\n      <td>Big Ones</td>\n      <td>3</td>\n    </tr>\n    <tr>\n      <th>...</th>\n      <td>...</td>\n      <td>...</td>\n      <td>...</td>\n    </tr>\n    <tr>\n      <th>342</th>\n      <td>343</td>\n      <td>Respighi:Pines of Rome</td>\n      <td>226</td>\n    </tr>\n    <tr>\n      <th>343</th>\n      <td>344</td>\n      <td>Schubert: The Late String Quartets &amp; String Qu...</td>\n      <td>272</td>\n    </tr>\n    <tr>\n      <th>344</th>\n      <td>345</td>\n      <td>Monteverdi: L'Orfeo</td>\n      <td>273</td>\n    </tr>\n    <tr>\n      <th>345</th>\n      <td>346</td>\n      <td>Mozart: Chamber Music</td>\n      <td>274</td>\n    </tr>\n    <tr>\n      <th>346</th>\n      <td>347</td>\n      <td>Koyaanisqatsi (Soundtrack from the Motion Pict...</td>\n      <td>275</td>\n    </tr>\n  </tbody>\n</table>\n<p>347 rows × 3 columns</p>\n</div>"
     },
     "metadata": {},
     "execution_count": 10
    }
   ],
   "source": [
    "pd.read_sql_query(query_st, conn)"
   ]
  },
  {
   "cell_type": "code",
   "execution_count": 11,
   "metadata": {},
   "outputs": [
    {
     "output_type": "execute_result",
     "data": {
      "text/plain": [
       "     CustomerId FirstName    LastName  \\\n",
       "0             1      Luís   Gonçalves   \n",
       "1             1      Luís   Gonçalves   \n",
       "2             1      Luís   Gonçalves   \n",
       "3             1      Luís   Gonçalves   \n",
       "4             1      Luís   Gonçalves   \n",
       "..          ...       ...         ...   \n",
       "407          59      Puja  Srivastava   \n",
       "408          59      Puja  Srivastava   \n",
       "409          59      Puja  Srivastava   \n",
       "410          59      Puja  Srivastava   \n",
       "411          59      Puja  Srivastava   \n",
       "\n",
       "                                              Company  \\\n",
       "0    Embraer - Empresa Brasileira de Aeronáutica S.A.   \n",
       "1    Embraer - Empresa Brasileira de Aeronáutica S.A.   \n",
       "2    Embraer - Empresa Brasileira de Aeronáutica S.A.   \n",
       "3    Embraer - Empresa Brasileira de Aeronáutica S.A.   \n",
       "4    Embraer - Empresa Brasileira de Aeronáutica S.A.   \n",
       "..                                                ...   \n",
       "407                                              None   \n",
       "408                                              None   \n",
       "409                                              None   \n",
       "410                                              None   \n",
       "411                                              None   \n",
       "\n",
       "                             Address                 City State Country  \\\n",
       "0    Av. Brigadeiro Faria Lima, 2170  São José dos Campos    SP  Brazil   \n",
       "1    Av. Brigadeiro Faria Lima, 2170  São José dos Campos    SP  Brazil   \n",
       "2    Av. Brigadeiro Faria Lima, 2170  São José dos Campos    SP  Brazil   \n",
       "3    Av. Brigadeiro Faria Lima, 2170  São José dos Campos    SP  Brazil   \n",
       "4    Av. Brigadeiro Faria Lima, 2170  São José dos Campos    SP  Brazil   \n",
       "..                               ...                  ...   ...     ...   \n",
       "407                3,Raj Bhavan Road            Bangalore  None   India   \n",
       "408                3,Raj Bhavan Road            Bangalore  None   India   \n",
       "409                3,Raj Bhavan Road            Bangalore  None   India   \n",
       "410                3,Raj Bhavan Road            Bangalore  None   India   \n",
       "411                3,Raj Bhavan Road            Bangalore  None   India   \n",
       "\n",
       "    PostalCode               Phone  ... SupportRepId InvoiceId  CustomerId  \\\n",
       "0    12227-000  +55 (12) 3923-5555  ...            3        98           1   \n",
       "1    12227-000  +55 (12) 3923-5555  ...            3       121           1   \n",
       "2    12227-000  +55 (12) 3923-5555  ...            3       143           1   \n",
       "3    12227-000  +55 (12) 3923-5555  ...            3       195           1   \n",
       "4    12227-000  +55 (12) 3923-5555  ...            3       316           1   \n",
       "..         ...                 ...  ...          ...       ...         ...   \n",
       "407     560001    +91 080 22289999  ...            3        45          59   \n",
       "408     560001    +91 080 22289999  ...            3        97          59   \n",
       "409     560001    +91 080 22289999  ...            3       218          59   \n",
       "410     560001    +91 080 22289999  ...            3       229          59   \n",
       "411     560001    +91 080 22289999  ...            3       284          59   \n",
       "\n",
       "             InvoiceDate                   BillingAddress  \\\n",
       "0    2010-03-11 00:00:00  Av. Brigadeiro Faria Lima, 2170   \n",
       "1    2010-06-13 00:00:00  Av. Brigadeiro Faria Lima, 2170   \n",
       "2    2010-09-15 00:00:00  Av. Brigadeiro Faria Lima, 2170   \n",
       "3    2011-05-06 00:00:00  Av. Brigadeiro Faria Lima, 2170   \n",
       "4    2012-10-27 00:00:00  Av. Brigadeiro Faria Lima, 2170   \n",
       "..                   ...                              ...   \n",
       "407  2009-07-08 00:00:00                3,Raj Bhavan Road   \n",
       "408  2010-02-26 00:00:00                3,Raj Bhavan Road   \n",
       "409  2011-08-20 00:00:00                3,Raj Bhavan Road   \n",
       "410  2011-09-30 00:00:00                3,Raj Bhavan Road   \n",
       "411  2012-05-30 00:00:00                3,Raj Bhavan Road   \n",
       "\n",
       "             BillingCity BillingState BillingCountry BillingPostalCode  Total  \n",
       "0    São José dos Campos           SP         Brazil         12227-000   3.98  \n",
       "1    São José dos Campos           SP         Brazil         12227-000   3.96  \n",
       "2    São José dos Campos           SP         Brazil         12227-000   5.94  \n",
       "3    São José dos Campos           SP         Brazil         12227-000   0.99  \n",
       "4    São José dos Campos           SP         Brazil         12227-000   1.98  \n",
       "..                   ...          ...            ...               ...    ...  \n",
       "407            Bangalore         None          India            560001   5.94  \n",
       "408            Bangalore         None          India            560001   1.99  \n",
       "409            Bangalore         None          India            560001   1.98  \n",
       "410            Bangalore         None          India            560001  13.86  \n",
       "411            Bangalore         None          India            560001   8.91  \n",
       "\n",
       "[412 rows x 22 columns]"
      ],
      "text/html": "<div>\n<style scoped>\n    .dataframe tbody tr th:only-of-type {\n        vertical-align: middle;\n    }\n\n    .dataframe tbody tr th {\n        vertical-align: top;\n    }\n\n    .dataframe thead th {\n        text-align: right;\n    }\n</style>\n<table border=\"1\" class=\"dataframe\">\n  <thead>\n    <tr style=\"text-align: right;\">\n      <th></th>\n      <th>CustomerId</th>\n      <th>FirstName</th>\n      <th>LastName</th>\n      <th>Company</th>\n      <th>Address</th>\n      <th>City</th>\n      <th>State</th>\n      <th>Country</th>\n      <th>PostalCode</th>\n      <th>Phone</th>\n      <th>...</th>\n      <th>SupportRepId</th>\n      <th>InvoiceId</th>\n      <th>CustomerId</th>\n      <th>InvoiceDate</th>\n      <th>BillingAddress</th>\n      <th>BillingCity</th>\n      <th>BillingState</th>\n      <th>BillingCountry</th>\n      <th>BillingPostalCode</th>\n      <th>Total</th>\n    </tr>\n  </thead>\n  <tbody>\n    <tr>\n      <th>0</th>\n      <td>1</td>\n      <td>Luís</td>\n      <td>Gonçalves</td>\n      <td>Embraer - Empresa Brasileira de Aeronáutica S.A.</td>\n      <td>Av. Brigadeiro Faria Lima, 2170</td>\n      <td>São José dos Campos</td>\n      <td>SP</td>\n      <td>Brazil</td>\n      <td>12227-000</td>\n      <td>+55 (12) 3923-5555</td>\n      <td>...</td>\n      <td>3</td>\n      <td>98</td>\n      <td>1</td>\n      <td>2010-03-11 00:00:00</td>\n      <td>Av. Brigadeiro Faria Lima, 2170</td>\n      <td>São José dos Campos</td>\n      <td>SP</td>\n      <td>Brazil</td>\n      <td>12227-000</td>\n      <td>3.98</td>\n    </tr>\n    <tr>\n      <th>1</th>\n      <td>1</td>\n      <td>Luís</td>\n      <td>Gonçalves</td>\n      <td>Embraer - Empresa Brasileira de Aeronáutica S.A.</td>\n      <td>Av. Brigadeiro Faria Lima, 2170</td>\n      <td>São José dos Campos</td>\n      <td>SP</td>\n      <td>Brazil</td>\n      <td>12227-000</td>\n      <td>+55 (12) 3923-5555</td>\n      <td>...</td>\n      <td>3</td>\n      <td>121</td>\n      <td>1</td>\n      <td>2010-06-13 00:00:00</td>\n      <td>Av. Brigadeiro Faria Lima, 2170</td>\n      <td>São José dos Campos</td>\n      <td>SP</td>\n      <td>Brazil</td>\n      <td>12227-000</td>\n      <td>3.96</td>\n    </tr>\n    <tr>\n      <th>2</th>\n      <td>1</td>\n      <td>Luís</td>\n      <td>Gonçalves</td>\n      <td>Embraer - Empresa Brasileira de Aeronáutica S.A.</td>\n      <td>Av. Brigadeiro Faria Lima, 2170</td>\n      <td>São José dos Campos</td>\n      <td>SP</td>\n      <td>Brazil</td>\n      <td>12227-000</td>\n      <td>+55 (12) 3923-5555</td>\n      <td>...</td>\n      <td>3</td>\n      <td>143</td>\n      <td>1</td>\n      <td>2010-09-15 00:00:00</td>\n      <td>Av. Brigadeiro Faria Lima, 2170</td>\n      <td>São José dos Campos</td>\n      <td>SP</td>\n      <td>Brazil</td>\n      <td>12227-000</td>\n      <td>5.94</td>\n    </tr>\n    <tr>\n      <th>3</th>\n      <td>1</td>\n      <td>Luís</td>\n      <td>Gonçalves</td>\n      <td>Embraer - Empresa Brasileira de Aeronáutica S.A.</td>\n      <td>Av. Brigadeiro Faria Lima, 2170</td>\n      <td>São José dos Campos</td>\n      <td>SP</td>\n      <td>Brazil</td>\n      <td>12227-000</td>\n      <td>+55 (12) 3923-5555</td>\n      <td>...</td>\n      <td>3</td>\n      <td>195</td>\n      <td>1</td>\n      <td>2011-05-06 00:00:00</td>\n      <td>Av. Brigadeiro Faria Lima, 2170</td>\n      <td>São José dos Campos</td>\n      <td>SP</td>\n      <td>Brazil</td>\n      <td>12227-000</td>\n      <td>0.99</td>\n    </tr>\n    <tr>\n      <th>4</th>\n      <td>1</td>\n      <td>Luís</td>\n      <td>Gonçalves</td>\n      <td>Embraer - Empresa Brasileira de Aeronáutica S.A.</td>\n      <td>Av. Brigadeiro Faria Lima, 2170</td>\n      <td>São José dos Campos</td>\n      <td>SP</td>\n      <td>Brazil</td>\n      <td>12227-000</td>\n      <td>+55 (12) 3923-5555</td>\n      <td>...</td>\n      <td>3</td>\n      <td>316</td>\n      <td>1</td>\n      <td>2012-10-27 00:00:00</td>\n      <td>Av. Brigadeiro Faria Lima, 2170</td>\n      <td>São José dos Campos</td>\n      <td>SP</td>\n      <td>Brazil</td>\n      <td>12227-000</td>\n      <td>1.98</td>\n    </tr>\n    <tr>\n      <th>...</th>\n      <td>...</td>\n      <td>...</td>\n      <td>...</td>\n      <td>...</td>\n      <td>...</td>\n      <td>...</td>\n      <td>...</td>\n      <td>...</td>\n      <td>...</td>\n      <td>...</td>\n      <td>...</td>\n      <td>...</td>\n      <td>...</td>\n      <td>...</td>\n      <td>...</td>\n      <td>...</td>\n      <td>...</td>\n      <td>...</td>\n      <td>...</td>\n      <td>...</td>\n      <td>...</td>\n    </tr>\n    <tr>\n      <th>407</th>\n      <td>59</td>\n      <td>Puja</td>\n      <td>Srivastava</td>\n      <td>None</td>\n      <td>3,Raj Bhavan Road</td>\n      <td>Bangalore</td>\n      <td>None</td>\n      <td>India</td>\n      <td>560001</td>\n      <td>+91 080 22289999</td>\n      <td>...</td>\n      <td>3</td>\n      <td>45</td>\n      <td>59</td>\n      <td>2009-07-08 00:00:00</td>\n      <td>3,Raj Bhavan Road</td>\n      <td>Bangalore</td>\n      <td>None</td>\n      <td>India</td>\n      <td>560001</td>\n      <td>5.94</td>\n    </tr>\n    <tr>\n      <th>408</th>\n      <td>59</td>\n      <td>Puja</td>\n      <td>Srivastava</td>\n      <td>None</td>\n      <td>3,Raj Bhavan Road</td>\n      <td>Bangalore</td>\n      <td>None</td>\n      <td>India</td>\n      <td>560001</td>\n      <td>+91 080 22289999</td>\n      <td>...</td>\n      <td>3</td>\n      <td>97</td>\n      <td>59</td>\n      <td>2010-02-26 00:00:00</td>\n      <td>3,Raj Bhavan Road</td>\n      <td>Bangalore</td>\n      <td>None</td>\n      <td>India</td>\n      <td>560001</td>\n      <td>1.99</td>\n    </tr>\n    <tr>\n      <th>409</th>\n      <td>59</td>\n      <td>Puja</td>\n      <td>Srivastava</td>\n      <td>None</td>\n      <td>3,Raj Bhavan Road</td>\n      <td>Bangalore</td>\n      <td>None</td>\n      <td>India</td>\n      <td>560001</td>\n      <td>+91 080 22289999</td>\n      <td>...</td>\n      <td>3</td>\n      <td>218</td>\n      <td>59</td>\n      <td>2011-08-20 00:00:00</td>\n      <td>3,Raj Bhavan Road</td>\n      <td>Bangalore</td>\n      <td>None</td>\n      <td>India</td>\n      <td>560001</td>\n      <td>1.98</td>\n    </tr>\n    <tr>\n      <th>410</th>\n      <td>59</td>\n      <td>Puja</td>\n      <td>Srivastava</td>\n      <td>None</td>\n      <td>3,Raj Bhavan Road</td>\n      <td>Bangalore</td>\n      <td>None</td>\n      <td>India</td>\n      <td>560001</td>\n      <td>+91 080 22289999</td>\n      <td>...</td>\n      <td>3</td>\n      <td>229</td>\n      <td>59</td>\n      <td>2011-09-30 00:00:00</td>\n      <td>3,Raj Bhavan Road</td>\n      <td>Bangalore</td>\n      <td>None</td>\n      <td>India</td>\n      <td>560001</td>\n      <td>13.86</td>\n    </tr>\n    <tr>\n      <th>411</th>\n      <td>59</td>\n      <td>Puja</td>\n      <td>Srivastava</td>\n      <td>None</td>\n      <td>3,Raj Bhavan Road</td>\n      <td>Bangalore</td>\n      <td>None</td>\n      <td>India</td>\n      <td>560001</td>\n      <td>+91 080 22289999</td>\n      <td>...</td>\n      <td>3</td>\n      <td>284</td>\n      <td>59</td>\n      <td>2012-05-30 00:00:00</td>\n      <td>3,Raj Bhavan Road</td>\n      <td>Bangalore</td>\n      <td>None</td>\n      <td>India</td>\n      <td>560001</td>\n      <td>8.91</td>\n    </tr>\n  </tbody>\n</table>\n<p>412 rows × 22 columns</p>\n</div>"
     },
     "metadata": {},
     "execution_count": 11
    }
   ],
   "source": [
    "query = '''\n",
    "SELECT *\n",
    "FROM customers, invoices\n",
    "WHERE customers.CustomerId = invoices.CustomerId\n",
    "'''\n",
    "pd.read_sql_query(query, conn)"
   ]
  },
  {
   "cell_type": "code",
   "execution_count": 12,
   "metadata": {},
   "outputs": [
    {
     "output_type": "execute_result",
     "data": {
      "text/plain": [
       "       LastName\n",
       "0     Gonçalves\n",
       "1     Gonçalves\n",
       "2     Gonçalves\n",
       "3     Gonçalves\n",
       "4     Gonçalves\n",
       "..          ...\n",
       "407  Srivastava\n",
       "408  Srivastava\n",
       "409  Srivastava\n",
       "410  Srivastava\n",
       "411  Srivastava\n",
       "\n",
       "[412 rows x 1 columns]"
      ],
      "text/html": "<div>\n<style scoped>\n    .dataframe tbody tr th:only-of-type {\n        vertical-align: middle;\n    }\n\n    .dataframe tbody tr th {\n        vertical-align: top;\n    }\n\n    .dataframe thead th {\n        text-align: right;\n    }\n</style>\n<table border=\"1\" class=\"dataframe\">\n  <thead>\n    <tr style=\"text-align: right;\">\n      <th></th>\n      <th>LastName</th>\n    </tr>\n  </thead>\n  <tbody>\n    <tr>\n      <th>0</th>\n      <td>Gonçalves</td>\n    </tr>\n    <tr>\n      <th>1</th>\n      <td>Gonçalves</td>\n    </tr>\n    <tr>\n      <th>2</th>\n      <td>Gonçalves</td>\n    </tr>\n    <tr>\n      <th>3</th>\n      <td>Gonçalves</td>\n    </tr>\n    <tr>\n      <th>4</th>\n      <td>Gonçalves</td>\n    </tr>\n    <tr>\n      <th>...</th>\n      <td>...</td>\n    </tr>\n    <tr>\n      <th>407</th>\n      <td>Srivastava</td>\n    </tr>\n    <tr>\n      <th>408</th>\n      <td>Srivastava</td>\n    </tr>\n    <tr>\n      <th>409</th>\n      <td>Srivastava</td>\n    </tr>\n    <tr>\n      <th>410</th>\n      <td>Srivastava</td>\n    </tr>\n    <tr>\n      <th>411</th>\n      <td>Srivastava</td>\n    </tr>\n  </tbody>\n</table>\n<p>412 rows × 1 columns</p>\n</div>"
     },
     "metadata": {},
     "execution_count": 12
    }
   ],
   "source": [
    "# lo mismo pero de otra forma, usando aliases esta vez\n",
    "query = '''\n",
    "SELECT c.LastName\n",
    "FROM customers c\n",
    "JOIN invoices i ON c.CustomerId = i.CustomerId\n",
    "'''\n",
    "pd.read_sql_query(query, conn)"
   ]
  },
  {
   "source": [
    "# Ejercicios pdf (Segunda Parte)"
   ],
   "cell_type": "markdown",
   "metadata": {}
  },
  {
   "source": [
    "## Ex1"
   ],
   "cell_type": "markdown",
   "metadata": {}
  },
  {
   "cell_type": "code",
   "execution_count": 13,
   "metadata": {},
   "outputs": [
    {
     "output_type": "execute_result",
     "data": {
      "text/plain": [
       "        Client Name  InvoiceId          InvoiceDate BillingCountry\n",
       "0    Luís Gonçalves         98  2010-03-11 00:00:00         Brazil\n",
       "1    Luís Gonçalves        121  2010-06-13 00:00:00         Brazil\n",
       "2    Luís Gonçalves        143  2010-09-15 00:00:00         Brazil\n",
       "3    Luís Gonçalves        195  2011-05-06 00:00:00         Brazil\n",
       "4    Luís Gonçalves        316  2012-10-27 00:00:00         Brazil\n",
       "5    Luís Gonçalves        327  2012-12-07 00:00:00         Brazil\n",
       "6    Luís Gonçalves        382  2013-08-07 00:00:00         Brazil\n",
       "7   Eduardo Martins         25  2009-04-09 00:00:00         Brazil\n",
       "8   Eduardo Martins        154  2010-11-14 00:00:00         Brazil\n",
       "9   Eduardo Martins        177  2011-02-16 00:00:00         Brazil\n",
       "10  Eduardo Martins        199  2011-05-21 00:00:00         Brazil\n",
       "11  Eduardo Martins        251  2012-01-09 00:00:00         Brazil\n",
       "12  Eduardo Martins        372  2013-07-02 00:00:00         Brazil\n",
       "13  Eduardo Martins        383  2013-08-12 00:00:00         Brazil\n",
       "14  Alexandre Rocha         57  2009-09-06 00:00:00         Brazil\n",
       "15  Alexandre Rocha         68  2009-10-17 00:00:00         Brazil\n",
       "16  Alexandre Rocha        123  2010-06-17 00:00:00         Brazil\n",
       "17  Alexandre Rocha        252  2012-01-22 00:00:00         Brazil\n",
       "18  Alexandre Rocha        275  2012-04-25 00:00:00         Brazil\n",
       "19  Alexandre Rocha        297  2012-07-28 00:00:00         Brazil\n",
       "20  Alexandre Rocha        349  2013-03-18 00:00:00         Brazil\n",
       "21  Roberto Almeida         34  2009-05-23 00:00:00         Brazil\n",
       "22  Roberto Almeida        155  2010-11-14 00:00:00         Brazil\n",
       "23  Roberto Almeida        166  2010-12-25 00:00:00         Brazil\n",
       "24  Roberto Almeida        221  2011-08-25 00:00:00         Brazil\n",
       "25  Roberto Almeida        350  2013-03-31 00:00:00         Brazil\n",
       "26  Roberto Almeida        373  2013-07-03 00:00:00         Brazil\n",
       "27  Roberto Almeida        395  2013-10-05 00:00:00         Brazil\n",
       "28   Fernanda Ramos         35  2009-06-05 00:00:00         Brazil\n",
       "29   Fernanda Ramos         58  2009-09-07 00:00:00         Brazil\n",
       "30   Fernanda Ramos         80  2009-12-10 00:00:00         Brazil\n",
       "31   Fernanda Ramos        132  2010-07-31 00:00:00         Brazil\n",
       "32   Fernanda Ramos        253  2012-01-22 00:00:00         Brazil\n",
       "33   Fernanda Ramos        264  2012-03-03 00:00:00         Brazil\n",
       "34   Fernanda Ramos        319  2012-11-01 00:00:00         Brazil"
      ],
      "text/html": "<div>\n<style scoped>\n    .dataframe tbody tr th:only-of-type {\n        vertical-align: middle;\n    }\n\n    .dataframe tbody tr th {\n        vertical-align: top;\n    }\n\n    .dataframe thead th {\n        text-align: right;\n    }\n</style>\n<table border=\"1\" class=\"dataframe\">\n  <thead>\n    <tr style=\"text-align: right;\">\n      <th></th>\n      <th>Client Name</th>\n      <th>InvoiceId</th>\n      <th>InvoiceDate</th>\n      <th>BillingCountry</th>\n    </tr>\n  </thead>\n  <tbody>\n    <tr>\n      <th>0</th>\n      <td>Luís Gonçalves</td>\n      <td>98</td>\n      <td>2010-03-11 00:00:00</td>\n      <td>Brazil</td>\n    </tr>\n    <tr>\n      <th>1</th>\n      <td>Luís Gonçalves</td>\n      <td>121</td>\n      <td>2010-06-13 00:00:00</td>\n      <td>Brazil</td>\n    </tr>\n    <tr>\n      <th>2</th>\n      <td>Luís Gonçalves</td>\n      <td>143</td>\n      <td>2010-09-15 00:00:00</td>\n      <td>Brazil</td>\n    </tr>\n    <tr>\n      <th>3</th>\n      <td>Luís Gonçalves</td>\n      <td>195</td>\n      <td>2011-05-06 00:00:00</td>\n      <td>Brazil</td>\n    </tr>\n    <tr>\n      <th>4</th>\n      <td>Luís Gonçalves</td>\n      <td>316</td>\n      <td>2012-10-27 00:00:00</td>\n      <td>Brazil</td>\n    </tr>\n    <tr>\n      <th>5</th>\n      <td>Luís Gonçalves</td>\n      <td>327</td>\n      <td>2012-12-07 00:00:00</td>\n      <td>Brazil</td>\n    </tr>\n    <tr>\n      <th>6</th>\n      <td>Luís Gonçalves</td>\n      <td>382</td>\n      <td>2013-08-07 00:00:00</td>\n      <td>Brazil</td>\n    </tr>\n    <tr>\n      <th>7</th>\n      <td>Eduardo Martins</td>\n      <td>25</td>\n      <td>2009-04-09 00:00:00</td>\n      <td>Brazil</td>\n    </tr>\n    <tr>\n      <th>8</th>\n      <td>Eduardo Martins</td>\n      <td>154</td>\n      <td>2010-11-14 00:00:00</td>\n      <td>Brazil</td>\n    </tr>\n    <tr>\n      <th>9</th>\n      <td>Eduardo Martins</td>\n      <td>177</td>\n      <td>2011-02-16 00:00:00</td>\n      <td>Brazil</td>\n    </tr>\n    <tr>\n      <th>10</th>\n      <td>Eduardo Martins</td>\n      <td>199</td>\n      <td>2011-05-21 00:00:00</td>\n      <td>Brazil</td>\n    </tr>\n    <tr>\n      <th>11</th>\n      <td>Eduardo Martins</td>\n      <td>251</td>\n      <td>2012-01-09 00:00:00</td>\n      <td>Brazil</td>\n    </tr>\n    <tr>\n      <th>12</th>\n      <td>Eduardo Martins</td>\n      <td>372</td>\n      <td>2013-07-02 00:00:00</td>\n      <td>Brazil</td>\n    </tr>\n    <tr>\n      <th>13</th>\n      <td>Eduardo Martins</td>\n      <td>383</td>\n      <td>2013-08-12 00:00:00</td>\n      <td>Brazil</td>\n    </tr>\n    <tr>\n      <th>14</th>\n      <td>Alexandre Rocha</td>\n      <td>57</td>\n      <td>2009-09-06 00:00:00</td>\n      <td>Brazil</td>\n    </tr>\n    <tr>\n      <th>15</th>\n      <td>Alexandre Rocha</td>\n      <td>68</td>\n      <td>2009-10-17 00:00:00</td>\n      <td>Brazil</td>\n    </tr>\n    <tr>\n      <th>16</th>\n      <td>Alexandre Rocha</td>\n      <td>123</td>\n      <td>2010-06-17 00:00:00</td>\n      <td>Brazil</td>\n    </tr>\n    <tr>\n      <th>17</th>\n      <td>Alexandre Rocha</td>\n      <td>252</td>\n      <td>2012-01-22 00:00:00</td>\n      <td>Brazil</td>\n    </tr>\n    <tr>\n      <th>18</th>\n      <td>Alexandre Rocha</td>\n      <td>275</td>\n      <td>2012-04-25 00:00:00</td>\n      <td>Brazil</td>\n    </tr>\n    <tr>\n      <th>19</th>\n      <td>Alexandre Rocha</td>\n      <td>297</td>\n      <td>2012-07-28 00:00:00</td>\n      <td>Brazil</td>\n    </tr>\n    <tr>\n      <th>20</th>\n      <td>Alexandre Rocha</td>\n      <td>349</td>\n      <td>2013-03-18 00:00:00</td>\n      <td>Brazil</td>\n    </tr>\n    <tr>\n      <th>21</th>\n      <td>Roberto Almeida</td>\n      <td>34</td>\n      <td>2009-05-23 00:00:00</td>\n      <td>Brazil</td>\n    </tr>\n    <tr>\n      <th>22</th>\n      <td>Roberto Almeida</td>\n      <td>155</td>\n      <td>2010-11-14 00:00:00</td>\n      <td>Brazil</td>\n    </tr>\n    <tr>\n      <th>23</th>\n      <td>Roberto Almeida</td>\n      <td>166</td>\n      <td>2010-12-25 00:00:00</td>\n      <td>Brazil</td>\n    </tr>\n    <tr>\n      <th>24</th>\n      <td>Roberto Almeida</td>\n      <td>221</td>\n      <td>2011-08-25 00:00:00</td>\n      <td>Brazil</td>\n    </tr>\n    <tr>\n      <th>25</th>\n      <td>Roberto Almeida</td>\n      <td>350</td>\n      <td>2013-03-31 00:00:00</td>\n      <td>Brazil</td>\n    </tr>\n    <tr>\n      <th>26</th>\n      <td>Roberto Almeida</td>\n      <td>373</td>\n      <td>2013-07-03 00:00:00</td>\n      <td>Brazil</td>\n    </tr>\n    <tr>\n      <th>27</th>\n      <td>Roberto Almeida</td>\n      <td>395</td>\n      <td>2013-10-05 00:00:00</td>\n      <td>Brazil</td>\n    </tr>\n    <tr>\n      <th>28</th>\n      <td>Fernanda Ramos</td>\n      <td>35</td>\n      <td>2009-06-05 00:00:00</td>\n      <td>Brazil</td>\n    </tr>\n    <tr>\n      <th>29</th>\n      <td>Fernanda Ramos</td>\n      <td>58</td>\n      <td>2009-09-07 00:00:00</td>\n      <td>Brazil</td>\n    </tr>\n    <tr>\n      <th>30</th>\n      <td>Fernanda Ramos</td>\n      <td>80</td>\n      <td>2009-12-10 00:00:00</td>\n      <td>Brazil</td>\n    </tr>\n    <tr>\n      <th>31</th>\n      <td>Fernanda Ramos</td>\n      <td>132</td>\n      <td>2010-07-31 00:00:00</td>\n      <td>Brazil</td>\n    </tr>\n    <tr>\n      <th>32</th>\n      <td>Fernanda Ramos</td>\n      <td>253</td>\n      <td>2012-01-22 00:00:00</td>\n      <td>Brazil</td>\n    </tr>\n    <tr>\n      <th>33</th>\n      <td>Fernanda Ramos</td>\n      <td>264</td>\n      <td>2012-03-03 00:00:00</td>\n      <td>Brazil</td>\n    </tr>\n    <tr>\n      <th>34</th>\n      <td>Fernanda Ramos</td>\n      <td>319</td>\n      <td>2012-11-01 00:00:00</td>\n      <td>Brazil</td>\n    </tr>\n  </tbody>\n</table>\n</div>"
     },
     "metadata": {},
     "execution_count": 13
    }
   ],
   "source": [
    "query = '''\n",
    "SELECT c.FirstName || ' ' || c.LastName as 'Client Name', i.InvoiceId, i.InvoiceDate, i.BillingCountry\n",
    "FROM customers c\n",
    "JOIN invoices i ON c.CustomerId = i.CustomerId\n",
    "WHERE c.Country = 'Brazil'\n",
    "'''\n",
    "pd.read_sql_query(query, conn)"
   ]
  },
  {
   "source": [
    "## Ex2"
   ],
   "cell_type": "markdown",
   "metadata": {}
  },
  {
   "cell_type": "code",
   "execution_count": 14,
   "metadata": {},
   "outputs": [
    {
     "output_type": "execute_result",
     "data": {
      "text/plain": [
       "        Client Name Client Country  InvoiceId  Total\n",
       "0    Luís Gonçalves         Brazil         98   3.98\n",
       "1    Luís Gonçalves         Brazil        121   3.96\n",
       "2    Luís Gonçalves         Brazil        143   5.94\n",
       "3    Luís Gonçalves         Brazil        195   0.99\n",
       "4    Luís Gonçalves         Brazil        316   1.98\n",
       "5    Luís Gonçalves         Brazil        327  13.86\n",
       "6    Luís Gonçalves         Brazil        382   8.91\n",
       "7   Eduardo Martins         Brazil         25   8.91\n",
       "8   Eduardo Martins         Brazil        154   1.98\n",
       "9   Eduardo Martins         Brazil        177   3.96\n",
       "10  Eduardo Martins         Brazil        199   5.94\n",
       "11  Eduardo Martins         Brazil        251   0.99\n",
       "12  Eduardo Martins         Brazil        372   1.98\n",
       "13  Eduardo Martins         Brazil        383  13.86\n",
       "14  Alexandre Rocha         Brazil         57   1.98\n",
       "15  Alexandre Rocha         Brazil         68  13.86\n",
       "16  Alexandre Rocha         Brazil        123   8.91\n",
       "17  Alexandre Rocha         Brazil        252   1.98\n",
       "18  Alexandre Rocha         Brazil        275   3.96\n",
       "19  Alexandre Rocha         Brazil        297   5.94\n",
       "20  Alexandre Rocha         Brazil        349   0.99\n",
       "21  Roberto Almeida         Brazil         34   0.99\n",
       "22  Roberto Almeida         Brazil        155   1.98\n",
       "23  Roberto Almeida         Brazil        166  13.86\n",
       "24  Roberto Almeida         Brazil        221   8.91\n",
       "25  Roberto Almeida         Brazil        350   1.98\n",
       "26  Roberto Almeida         Brazil        373   3.96\n",
       "27  Roberto Almeida         Brazil        395   5.94\n",
       "28   Fernanda Ramos         Brazil         35   1.98\n",
       "29   Fernanda Ramos         Brazil         58   3.96\n",
       "30   Fernanda Ramos         Brazil         80   5.94\n",
       "31   Fernanda Ramos         Brazil        132   0.99\n",
       "32   Fernanda Ramos         Brazil        253   1.98\n",
       "33   Fernanda Ramos         Brazil        264  13.86\n",
       "34   Fernanda Ramos         Brazil        319   8.91"
      ],
      "text/html": "<div>\n<style scoped>\n    .dataframe tbody tr th:only-of-type {\n        vertical-align: middle;\n    }\n\n    .dataframe tbody tr th {\n        vertical-align: top;\n    }\n\n    .dataframe thead th {\n        text-align: right;\n    }\n</style>\n<table border=\"1\" class=\"dataframe\">\n  <thead>\n    <tr style=\"text-align: right;\">\n      <th></th>\n      <th>Client Name</th>\n      <th>Client Country</th>\n      <th>InvoiceId</th>\n      <th>Total</th>\n    </tr>\n  </thead>\n  <tbody>\n    <tr>\n      <th>0</th>\n      <td>Luís Gonçalves</td>\n      <td>Brazil</td>\n      <td>98</td>\n      <td>3.98</td>\n    </tr>\n    <tr>\n      <th>1</th>\n      <td>Luís Gonçalves</td>\n      <td>Brazil</td>\n      <td>121</td>\n      <td>3.96</td>\n    </tr>\n    <tr>\n      <th>2</th>\n      <td>Luís Gonçalves</td>\n      <td>Brazil</td>\n      <td>143</td>\n      <td>5.94</td>\n    </tr>\n    <tr>\n      <th>3</th>\n      <td>Luís Gonçalves</td>\n      <td>Brazil</td>\n      <td>195</td>\n      <td>0.99</td>\n    </tr>\n    <tr>\n      <th>4</th>\n      <td>Luís Gonçalves</td>\n      <td>Brazil</td>\n      <td>316</td>\n      <td>1.98</td>\n    </tr>\n    <tr>\n      <th>5</th>\n      <td>Luís Gonçalves</td>\n      <td>Brazil</td>\n      <td>327</td>\n      <td>13.86</td>\n    </tr>\n    <tr>\n      <th>6</th>\n      <td>Luís Gonçalves</td>\n      <td>Brazil</td>\n      <td>382</td>\n      <td>8.91</td>\n    </tr>\n    <tr>\n      <th>7</th>\n      <td>Eduardo Martins</td>\n      <td>Brazil</td>\n      <td>25</td>\n      <td>8.91</td>\n    </tr>\n    <tr>\n      <th>8</th>\n      <td>Eduardo Martins</td>\n      <td>Brazil</td>\n      <td>154</td>\n      <td>1.98</td>\n    </tr>\n    <tr>\n      <th>9</th>\n      <td>Eduardo Martins</td>\n      <td>Brazil</td>\n      <td>177</td>\n      <td>3.96</td>\n    </tr>\n    <tr>\n      <th>10</th>\n      <td>Eduardo Martins</td>\n      <td>Brazil</td>\n      <td>199</td>\n      <td>5.94</td>\n    </tr>\n    <tr>\n      <th>11</th>\n      <td>Eduardo Martins</td>\n      <td>Brazil</td>\n      <td>251</td>\n      <td>0.99</td>\n    </tr>\n    <tr>\n      <th>12</th>\n      <td>Eduardo Martins</td>\n      <td>Brazil</td>\n      <td>372</td>\n      <td>1.98</td>\n    </tr>\n    <tr>\n      <th>13</th>\n      <td>Eduardo Martins</td>\n      <td>Brazil</td>\n      <td>383</td>\n      <td>13.86</td>\n    </tr>\n    <tr>\n      <th>14</th>\n      <td>Alexandre Rocha</td>\n      <td>Brazil</td>\n      <td>57</td>\n      <td>1.98</td>\n    </tr>\n    <tr>\n      <th>15</th>\n      <td>Alexandre Rocha</td>\n      <td>Brazil</td>\n      <td>68</td>\n      <td>13.86</td>\n    </tr>\n    <tr>\n      <th>16</th>\n      <td>Alexandre Rocha</td>\n      <td>Brazil</td>\n      <td>123</td>\n      <td>8.91</td>\n    </tr>\n    <tr>\n      <th>17</th>\n      <td>Alexandre Rocha</td>\n      <td>Brazil</td>\n      <td>252</td>\n      <td>1.98</td>\n    </tr>\n    <tr>\n      <th>18</th>\n      <td>Alexandre Rocha</td>\n      <td>Brazil</td>\n      <td>275</td>\n      <td>3.96</td>\n    </tr>\n    <tr>\n      <th>19</th>\n      <td>Alexandre Rocha</td>\n      <td>Brazil</td>\n      <td>297</td>\n      <td>5.94</td>\n    </tr>\n    <tr>\n      <th>20</th>\n      <td>Alexandre Rocha</td>\n      <td>Brazil</td>\n      <td>349</td>\n      <td>0.99</td>\n    </tr>\n    <tr>\n      <th>21</th>\n      <td>Roberto Almeida</td>\n      <td>Brazil</td>\n      <td>34</td>\n      <td>0.99</td>\n    </tr>\n    <tr>\n      <th>22</th>\n      <td>Roberto Almeida</td>\n      <td>Brazil</td>\n      <td>155</td>\n      <td>1.98</td>\n    </tr>\n    <tr>\n      <th>23</th>\n      <td>Roberto Almeida</td>\n      <td>Brazil</td>\n      <td>166</td>\n      <td>13.86</td>\n    </tr>\n    <tr>\n      <th>24</th>\n      <td>Roberto Almeida</td>\n      <td>Brazil</td>\n      <td>221</td>\n      <td>8.91</td>\n    </tr>\n    <tr>\n      <th>25</th>\n      <td>Roberto Almeida</td>\n      <td>Brazil</td>\n      <td>350</td>\n      <td>1.98</td>\n    </tr>\n    <tr>\n      <th>26</th>\n      <td>Roberto Almeida</td>\n      <td>Brazil</td>\n      <td>373</td>\n      <td>3.96</td>\n    </tr>\n    <tr>\n      <th>27</th>\n      <td>Roberto Almeida</td>\n      <td>Brazil</td>\n      <td>395</td>\n      <td>5.94</td>\n    </tr>\n    <tr>\n      <th>28</th>\n      <td>Fernanda Ramos</td>\n      <td>Brazil</td>\n      <td>35</td>\n      <td>1.98</td>\n    </tr>\n    <tr>\n      <th>29</th>\n      <td>Fernanda Ramos</td>\n      <td>Brazil</td>\n      <td>58</td>\n      <td>3.96</td>\n    </tr>\n    <tr>\n      <th>30</th>\n      <td>Fernanda Ramos</td>\n      <td>Brazil</td>\n      <td>80</td>\n      <td>5.94</td>\n    </tr>\n    <tr>\n      <th>31</th>\n      <td>Fernanda Ramos</td>\n      <td>Brazil</td>\n      <td>132</td>\n      <td>0.99</td>\n    </tr>\n    <tr>\n      <th>32</th>\n      <td>Fernanda Ramos</td>\n      <td>Brazil</td>\n      <td>253</td>\n      <td>1.98</td>\n    </tr>\n    <tr>\n      <th>33</th>\n      <td>Fernanda Ramos</td>\n      <td>Brazil</td>\n      <td>264</td>\n      <td>13.86</td>\n    </tr>\n    <tr>\n      <th>34</th>\n      <td>Fernanda Ramos</td>\n      <td>Brazil</td>\n      <td>319</td>\n      <td>8.91</td>\n    </tr>\n  </tbody>\n</table>\n</div>"
     },
     "metadata": {},
     "execution_count": 14
    }
   ],
   "source": [
    "query = '''\n",
    "SELECT c.FirstName || ' ' || c.LastName as 'Client Name', c.Country as 'Client Country', i.InvoiceId, i.Total\n",
    "FROM customers c\n",
    "JOIN invoices i ON c.CustomerId = i.CustomerId\n",
    "WHERE c.Country = 'Brazil'\n",
    "'''\n",
    "pd.read_sql_query(query, conn)"
   ]
  },
  {
   "source": [
    "## Ex3"
   ],
   "cell_type": "markdown",
   "metadata": {}
  },
  {
   "cell_type": "code",
   "execution_count": 15,
   "metadata": {},
   "outputs": [
    {
     "output_type": "execute_result",
     "data": {
      "text/plain": [
       "    Nombre Empleado  InvoiceId  CustomerId          InvoiceDate  \\\n",
       "0      Jane Peacock         98           1  2010-03-11 00:00:00   \n",
       "1      Jane Peacock        121           1  2010-06-13 00:00:00   \n",
       "2      Jane Peacock        143           1  2010-09-15 00:00:00   \n",
       "3      Jane Peacock        195           1  2011-05-06 00:00:00   \n",
       "4      Jane Peacock        316           1  2012-10-27 00:00:00   \n",
       "..              ...        ...         ...                  ...   \n",
       "407   Steve Johnson         88          57  2010-01-13 00:00:00   \n",
       "408   Steve Johnson        217          57  2011-08-20 00:00:00   \n",
       "409   Steve Johnson        240          57  2011-11-22 00:00:00   \n",
       "410   Steve Johnson        262          57  2012-02-24 00:00:00   \n",
       "411   Steve Johnson        314          57  2012-10-14 00:00:00   \n",
       "\n",
       "                      BillingAddress          BillingCity BillingState  \\\n",
       "0    Av. Brigadeiro Faria Lima, 2170  São José dos Campos           SP   \n",
       "1    Av. Brigadeiro Faria Lima, 2170  São José dos Campos           SP   \n",
       "2    Av. Brigadeiro Faria Lima, 2170  São José dos Campos           SP   \n",
       "3    Av. Brigadeiro Faria Lima, 2170  São José dos Campos           SP   \n",
       "4    Av. Brigadeiro Faria Lima, 2170  São José dos Campos           SP   \n",
       "..                               ...                  ...          ...   \n",
       "407                  Calle Lira, 198             Santiago         None   \n",
       "408                  Calle Lira, 198             Santiago         None   \n",
       "409                  Calle Lira, 198             Santiago         None   \n",
       "410                  Calle Lira, 198             Santiago         None   \n",
       "411                  Calle Lira, 198             Santiago         None   \n",
       "\n",
       "    BillingCountry BillingPostalCode  Total  \n",
       "0           Brazil         12227-000   3.98  \n",
       "1           Brazil         12227-000   3.96  \n",
       "2           Brazil         12227-000   5.94  \n",
       "3           Brazil         12227-000   0.99  \n",
       "4           Brazil         12227-000   1.98  \n",
       "..             ...               ...    ...  \n",
       "407          Chile              None  17.91  \n",
       "408          Chile              None   1.98  \n",
       "409          Chile              None   3.96  \n",
       "410          Chile              None   5.94  \n",
       "411          Chile              None   0.99  \n",
       "\n",
       "[412 rows x 10 columns]"
      ],
      "text/html": "<div>\n<style scoped>\n    .dataframe tbody tr th:only-of-type {\n        vertical-align: middle;\n    }\n\n    .dataframe tbody tr th {\n        vertical-align: top;\n    }\n\n    .dataframe thead th {\n        text-align: right;\n    }\n</style>\n<table border=\"1\" class=\"dataframe\">\n  <thead>\n    <tr style=\"text-align: right;\">\n      <th></th>\n      <th>Nombre Empleado</th>\n      <th>InvoiceId</th>\n      <th>CustomerId</th>\n      <th>InvoiceDate</th>\n      <th>BillingAddress</th>\n      <th>BillingCity</th>\n      <th>BillingState</th>\n      <th>BillingCountry</th>\n      <th>BillingPostalCode</th>\n      <th>Total</th>\n    </tr>\n  </thead>\n  <tbody>\n    <tr>\n      <th>0</th>\n      <td>Jane Peacock</td>\n      <td>98</td>\n      <td>1</td>\n      <td>2010-03-11 00:00:00</td>\n      <td>Av. Brigadeiro Faria Lima, 2170</td>\n      <td>São José dos Campos</td>\n      <td>SP</td>\n      <td>Brazil</td>\n      <td>12227-000</td>\n      <td>3.98</td>\n    </tr>\n    <tr>\n      <th>1</th>\n      <td>Jane Peacock</td>\n      <td>121</td>\n      <td>1</td>\n      <td>2010-06-13 00:00:00</td>\n      <td>Av. Brigadeiro Faria Lima, 2170</td>\n      <td>São José dos Campos</td>\n      <td>SP</td>\n      <td>Brazil</td>\n      <td>12227-000</td>\n      <td>3.96</td>\n    </tr>\n    <tr>\n      <th>2</th>\n      <td>Jane Peacock</td>\n      <td>143</td>\n      <td>1</td>\n      <td>2010-09-15 00:00:00</td>\n      <td>Av. Brigadeiro Faria Lima, 2170</td>\n      <td>São José dos Campos</td>\n      <td>SP</td>\n      <td>Brazil</td>\n      <td>12227-000</td>\n      <td>5.94</td>\n    </tr>\n    <tr>\n      <th>3</th>\n      <td>Jane Peacock</td>\n      <td>195</td>\n      <td>1</td>\n      <td>2011-05-06 00:00:00</td>\n      <td>Av. Brigadeiro Faria Lima, 2170</td>\n      <td>São José dos Campos</td>\n      <td>SP</td>\n      <td>Brazil</td>\n      <td>12227-000</td>\n      <td>0.99</td>\n    </tr>\n    <tr>\n      <th>4</th>\n      <td>Jane Peacock</td>\n      <td>316</td>\n      <td>1</td>\n      <td>2012-10-27 00:00:00</td>\n      <td>Av. Brigadeiro Faria Lima, 2170</td>\n      <td>São José dos Campos</td>\n      <td>SP</td>\n      <td>Brazil</td>\n      <td>12227-000</td>\n      <td>1.98</td>\n    </tr>\n    <tr>\n      <th>...</th>\n      <td>...</td>\n      <td>...</td>\n      <td>...</td>\n      <td>...</td>\n      <td>...</td>\n      <td>...</td>\n      <td>...</td>\n      <td>...</td>\n      <td>...</td>\n      <td>...</td>\n    </tr>\n    <tr>\n      <th>407</th>\n      <td>Steve Johnson</td>\n      <td>88</td>\n      <td>57</td>\n      <td>2010-01-13 00:00:00</td>\n      <td>Calle Lira, 198</td>\n      <td>Santiago</td>\n      <td>None</td>\n      <td>Chile</td>\n      <td>None</td>\n      <td>17.91</td>\n    </tr>\n    <tr>\n      <th>408</th>\n      <td>Steve Johnson</td>\n      <td>217</td>\n      <td>57</td>\n      <td>2011-08-20 00:00:00</td>\n      <td>Calle Lira, 198</td>\n      <td>Santiago</td>\n      <td>None</td>\n      <td>Chile</td>\n      <td>None</td>\n      <td>1.98</td>\n    </tr>\n    <tr>\n      <th>409</th>\n      <td>Steve Johnson</td>\n      <td>240</td>\n      <td>57</td>\n      <td>2011-11-22 00:00:00</td>\n      <td>Calle Lira, 198</td>\n      <td>Santiago</td>\n      <td>None</td>\n      <td>Chile</td>\n      <td>None</td>\n      <td>3.96</td>\n    </tr>\n    <tr>\n      <th>410</th>\n      <td>Steve Johnson</td>\n      <td>262</td>\n      <td>57</td>\n      <td>2012-02-24 00:00:00</td>\n      <td>Calle Lira, 198</td>\n      <td>Santiago</td>\n      <td>None</td>\n      <td>Chile</td>\n      <td>None</td>\n      <td>5.94</td>\n    </tr>\n    <tr>\n      <th>411</th>\n      <td>Steve Johnson</td>\n      <td>314</td>\n      <td>57</td>\n      <td>2012-10-14 00:00:00</td>\n      <td>Calle Lira, 198</td>\n      <td>Santiago</td>\n      <td>None</td>\n      <td>Chile</td>\n      <td>None</td>\n      <td>0.99</td>\n    </tr>\n  </tbody>\n</table>\n<p>412 rows × 10 columns</p>\n</div>"
     },
     "metadata": {},
     "execution_count": 15
    }
   ],
   "source": [
    "query = '''\n",
    "SELECT e.FirstName || ' ' || e.LastName as 'Nombre Empleado', i.*\n",
    "FROM employees e\n",
    "JOIN customers c ON e.EmployeeId = c.SupportRepId\n",
    "JOIN invoices i ON c.CustomerId = i.CustomerId\n",
    "'''\n",
    "pd.read_sql_query(query, conn)"
   ]
  },
  {
   "source": [
    "## Ex4"
   ],
   "cell_type": "markdown",
   "metadata": {}
  },
  {
   "cell_type": "code",
   "execution_count": 16,
   "metadata": {},
   "outputs": [
    {
     "output_type": "execute_result",
     "data": {
      "text/plain": [
       "        Client Name Country     Agent Name  Total\n",
       "0    Luís Gonçalves  Brazil   Jane Peacock   3.98\n",
       "1    Luís Gonçalves  Brazil   Jane Peacock   3.96\n",
       "2    Luís Gonçalves  Brazil   Jane Peacock   5.94\n",
       "3    Luís Gonçalves  Brazil   Jane Peacock   0.99\n",
       "4    Luís Gonçalves  Brazil   Jane Peacock   1.98\n",
       "..              ...     ...            ...    ...\n",
       "407      Luis Rojas   Chile  Steve Johnson  17.91\n",
       "408      Luis Rojas   Chile  Steve Johnson   1.98\n",
       "409      Luis Rojas   Chile  Steve Johnson   3.96\n",
       "410      Luis Rojas   Chile  Steve Johnson   5.94\n",
       "411      Luis Rojas   Chile  Steve Johnson   0.99\n",
       "\n",
       "[412 rows x 4 columns]"
      ],
      "text/html": "<div>\n<style scoped>\n    .dataframe tbody tr th:only-of-type {\n        vertical-align: middle;\n    }\n\n    .dataframe tbody tr th {\n        vertical-align: top;\n    }\n\n    .dataframe thead th {\n        text-align: right;\n    }\n</style>\n<table border=\"1\" class=\"dataframe\">\n  <thead>\n    <tr style=\"text-align: right;\">\n      <th></th>\n      <th>Client Name</th>\n      <th>Country</th>\n      <th>Agent Name</th>\n      <th>Total</th>\n    </tr>\n  </thead>\n  <tbody>\n    <tr>\n      <th>0</th>\n      <td>Luís Gonçalves</td>\n      <td>Brazil</td>\n      <td>Jane Peacock</td>\n      <td>3.98</td>\n    </tr>\n    <tr>\n      <th>1</th>\n      <td>Luís Gonçalves</td>\n      <td>Brazil</td>\n      <td>Jane Peacock</td>\n      <td>3.96</td>\n    </tr>\n    <tr>\n      <th>2</th>\n      <td>Luís Gonçalves</td>\n      <td>Brazil</td>\n      <td>Jane Peacock</td>\n      <td>5.94</td>\n    </tr>\n    <tr>\n      <th>3</th>\n      <td>Luís Gonçalves</td>\n      <td>Brazil</td>\n      <td>Jane Peacock</td>\n      <td>0.99</td>\n    </tr>\n    <tr>\n      <th>4</th>\n      <td>Luís Gonçalves</td>\n      <td>Brazil</td>\n      <td>Jane Peacock</td>\n      <td>1.98</td>\n    </tr>\n    <tr>\n      <th>...</th>\n      <td>...</td>\n      <td>...</td>\n      <td>...</td>\n      <td>...</td>\n    </tr>\n    <tr>\n      <th>407</th>\n      <td>Luis Rojas</td>\n      <td>Chile</td>\n      <td>Steve Johnson</td>\n      <td>17.91</td>\n    </tr>\n    <tr>\n      <th>408</th>\n      <td>Luis Rojas</td>\n      <td>Chile</td>\n      <td>Steve Johnson</td>\n      <td>1.98</td>\n    </tr>\n    <tr>\n      <th>409</th>\n      <td>Luis Rojas</td>\n      <td>Chile</td>\n      <td>Steve Johnson</td>\n      <td>3.96</td>\n    </tr>\n    <tr>\n      <th>410</th>\n      <td>Luis Rojas</td>\n      <td>Chile</td>\n      <td>Steve Johnson</td>\n      <td>5.94</td>\n    </tr>\n    <tr>\n      <th>411</th>\n      <td>Luis Rojas</td>\n      <td>Chile</td>\n      <td>Steve Johnson</td>\n      <td>0.99</td>\n    </tr>\n  </tbody>\n</table>\n<p>412 rows × 4 columns</p>\n</div>"
     },
     "metadata": {},
     "execution_count": 16
    }
   ],
   "source": [
    "query = '''\n",
    "SELECT c.FirstName || ' ' || c.LastName as 'Client Name', c.Country, e.FirstName || ' ' || e.LastName as 'Agent Name', i.Total\n",
    "FROM customers c\n",
    "JOIN employees e ON e.EmployeeId = c.SupportRepId\n",
    "JOIN invoices i ON c.CustomerId = i.CustomerId\n",
    "WHERE e.Title = 'Sales Support Agent'\n",
    "'''\n",
    "pd.read_sql_query(query, conn)"
   ]
  },
  {
   "source": [
    "## Ex5"
   ],
   "cell_type": "markdown",
   "metadata": {}
  },
  {
   "cell_type": "code",
   "execution_count": 17,
   "metadata": {},
   "outputs": [
    {
     "output_type": "execute_result",
     "data": {
      "text/plain": [
       "      InvoiceLineId                                          Song Name\n",
       "0               579            For Those About To Rock (We Salute You)\n",
       "1                 1                                  Balls to the Wall\n",
       "2              1154                                  Balls to the Wall\n",
       "3              1728                                    Fast As a Shark\n",
       "4                 2                                  Restless and Wild\n",
       "...             ...                                                ...\n",
       "2235           1726  Symphony No. 2, Op. 16 -  \"The Four Temperamen...\n",
       "2236            577    Étude 1, In C Major - Preludio (Presto) - Liszt\n",
       "2237           1153  Pini Di Roma (Pinien Von Rom) \\ I Pini Della V...\n",
       "2238            578  String Quartet No. 12 in C Minor, D. 703 \"Quar...\n",
       "2239           1727  String Quartet No. 12 in C Minor, D. 703 \"Quar...\n",
       "\n",
       "[2240 rows x 2 columns]"
      ],
      "text/html": "<div>\n<style scoped>\n    .dataframe tbody tr th:only-of-type {\n        vertical-align: middle;\n    }\n\n    .dataframe tbody tr th {\n        vertical-align: top;\n    }\n\n    .dataframe thead th {\n        text-align: right;\n    }\n</style>\n<table border=\"1\" class=\"dataframe\">\n  <thead>\n    <tr style=\"text-align: right;\">\n      <th></th>\n      <th>InvoiceLineId</th>\n      <th>Song Name</th>\n    </tr>\n  </thead>\n  <tbody>\n    <tr>\n      <th>0</th>\n      <td>579</td>\n      <td>For Those About To Rock (We Salute You)</td>\n    </tr>\n    <tr>\n      <th>1</th>\n      <td>1</td>\n      <td>Balls to the Wall</td>\n    </tr>\n    <tr>\n      <th>2</th>\n      <td>1154</td>\n      <td>Balls to the Wall</td>\n    </tr>\n    <tr>\n      <th>3</th>\n      <td>1728</td>\n      <td>Fast As a Shark</td>\n    </tr>\n    <tr>\n      <th>4</th>\n      <td>2</td>\n      <td>Restless and Wild</td>\n    </tr>\n    <tr>\n      <th>...</th>\n      <td>...</td>\n      <td>...</td>\n    </tr>\n    <tr>\n      <th>2235</th>\n      <td>1726</td>\n      <td>Symphony No. 2, Op. 16 -  \"The Four Temperamen...</td>\n    </tr>\n    <tr>\n      <th>2236</th>\n      <td>577</td>\n      <td>Étude 1, In C Major - Preludio (Presto) - Liszt</td>\n    </tr>\n    <tr>\n      <th>2237</th>\n      <td>1153</td>\n      <td>Pini Di Roma (Pinien Von Rom) \\ I Pini Della V...</td>\n    </tr>\n    <tr>\n      <th>2238</th>\n      <td>578</td>\n      <td>String Quartet No. 12 in C Minor, D. 703 \"Quar...</td>\n    </tr>\n    <tr>\n      <th>2239</th>\n      <td>1727</td>\n      <td>String Quartet No. 12 in C Minor, D. 703 \"Quar...</td>\n    </tr>\n  </tbody>\n</table>\n<p>2240 rows × 2 columns</p>\n</div>"
     },
     "metadata": {},
     "execution_count": 17
    }
   ],
   "source": [
    "query = '''\n",
    "SELECT ii.InvoiceLineId, t.Name as 'Song Name'\n",
    "FROM invoice_items ii\n",
    "JOIN tracks t ON ii.TrackId = t.TrackId\n",
    "'''\n",
    "pd.read_sql_query(query, conn)"
   ]
  },
  {
   "source": [
    "## Ex6"
   ],
   "cell_type": "markdown",
   "metadata": {}
  },
  {
   "cell_type": "code",
   "execution_count": 18,
   "metadata": {},
   "outputs": [
    {
     "output_type": "execute_result",
     "data": {
      "text/plain": [
       "                                              Song Name  \\\n",
       "0               For Those About To Rock (We Salute You)   \n",
       "1                                     Balls to the Wall   \n",
       "2                                       Fast As a Shark   \n",
       "3                                     Restless and Wild   \n",
       "4                                  Princess of the Dawn   \n",
       "...                                                 ...   \n",
       "3498  Pini Di Roma (Pinien Von Rom) \\ I Pini Della V...   \n",
       "3499  String Quartet No. 12 in C Minor, D. 703 \"Quar...   \n",
       "3500               L'orfeo, Act 3, Sinfonia (Orchestra)   \n",
       "3501  Quintet for Horn, Violin, 2 Violas, and Cello ...   \n",
       "3502  Die Zauberflöte, K.620: \"Der Hölle Rache Kocht...   \n",
       "\n",
       "                        Format  \\\n",
       "0              MPEG audio file   \n",
       "1     Protected AAC audio file   \n",
       "2     Protected AAC audio file   \n",
       "3     Protected AAC audio file   \n",
       "4     Protected AAC audio file   \n",
       "...                        ...   \n",
       "3498  Protected AAC audio file   \n",
       "3499  Protected AAC audio file   \n",
       "3500  Protected AAC audio file   \n",
       "3501  Protected AAC audio file   \n",
       "3502  Protected AAC audio file   \n",
       "\n",
       "                                             Album Name      Genre  \n",
       "0                 For Those About To Rock We Salute You       Rock  \n",
       "1                                     Balls to the Wall       Rock  \n",
       "2                                     Restless and Wild       Rock  \n",
       "3                                     Restless and Wild       Rock  \n",
       "4                                     Restless and Wild       Rock  \n",
       "...                                                 ...        ...  \n",
       "3498                             Respighi:Pines of Rome  Classical  \n",
       "3499  Schubert: The Late String Quartets & String Qu...  Classical  \n",
       "3500                                Monteverdi: L'Orfeo  Classical  \n",
       "3501                              Mozart: Chamber Music  Classical  \n",
       "3502                          Mozart Gala: Famous Arias      Opera  \n",
       "\n",
       "[3503 rows x 4 columns]"
      ],
      "text/html": "<div>\n<style scoped>\n    .dataframe tbody tr th:only-of-type {\n        vertical-align: middle;\n    }\n\n    .dataframe tbody tr th {\n        vertical-align: top;\n    }\n\n    .dataframe thead th {\n        text-align: right;\n    }\n</style>\n<table border=\"1\" class=\"dataframe\">\n  <thead>\n    <tr style=\"text-align: right;\">\n      <th></th>\n      <th>Song Name</th>\n      <th>Format</th>\n      <th>Album Name</th>\n      <th>Genre</th>\n    </tr>\n  </thead>\n  <tbody>\n    <tr>\n      <th>0</th>\n      <td>For Those About To Rock (We Salute You)</td>\n      <td>MPEG audio file</td>\n      <td>For Those About To Rock We Salute You</td>\n      <td>Rock</td>\n    </tr>\n    <tr>\n      <th>1</th>\n      <td>Balls to the Wall</td>\n      <td>Protected AAC audio file</td>\n      <td>Balls to the Wall</td>\n      <td>Rock</td>\n    </tr>\n    <tr>\n      <th>2</th>\n      <td>Fast As a Shark</td>\n      <td>Protected AAC audio file</td>\n      <td>Restless and Wild</td>\n      <td>Rock</td>\n    </tr>\n    <tr>\n      <th>3</th>\n      <td>Restless and Wild</td>\n      <td>Protected AAC audio file</td>\n      <td>Restless and Wild</td>\n      <td>Rock</td>\n    </tr>\n    <tr>\n      <th>4</th>\n      <td>Princess of the Dawn</td>\n      <td>Protected AAC audio file</td>\n      <td>Restless and Wild</td>\n      <td>Rock</td>\n    </tr>\n    <tr>\n      <th>...</th>\n      <td>...</td>\n      <td>...</td>\n      <td>...</td>\n      <td>...</td>\n    </tr>\n    <tr>\n      <th>3498</th>\n      <td>Pini Di Roma (Pinien Von Rom) \\ I Pini Della V...</td>\n      <td>Protected AAC audio file</td>\n      <td>Respighi:Pines of Rome</td>\n      <td>Classical</td>\n    </tr>\n    <tr>\n      <th>3499</th>\n      <td>String Quartet No. 12 in C Minor, D. 703 \"Quar...</td>\n      <td>Protected AAC audio file</td>\n      <td>Schubert: The Late String Quartets &amp; String Qu...</td>\n      <td>Classical</td>\n    </tr>\n    <tr>\n      <th>3500</th>\n      <td>L'orfeo, Act 3, Sinfonia (Orchestra)</td>\n      <td>Protected AAC audio file</td>\n      <td>Monteverdi: L'Orfeo</td>\n      <td>Classical</td>\n    </tr>\n    <tr>\n      <th>3501</th>\n      <td>Quintet for Horn, Violin, 2 Violas, and Cello ...</td>\n      <td>Protected AAC audio file</td>\n      <td>Mozart: Chamber Music</td>\n      <td>Classical</td>\n    </tr>\n    <tr>\n      <th>3502</th>\n      <td>Die Zauberflöte, K.620: \"Der Hölle Rache Kocht...</td>\n      <td>Protected AAC audio file</td>\n      <td>Mozart Gala: Famous Arias</td>\n      <td>Opera</td>\n    </tr>\n  </tbody>\n</table>\n<p>3503 rows × 4 columns</p>\n</div>"
     },
     "metadata": {},
     "execution_count": 18
    }
   ],
   "source": [
    "query = '''\n",
    "SELECT t.Name as 'Song Name', m.Name as 'Format', a.Title as 'Album Name', g.Name as 'Genre'\n",
    "FROM tracks t\n",
    "JOIN genres g ON t.GenreId = g.GenreId\n",
    "JOIN albums a ON t.AlbumId = a.AlbumId\n",
    "JOIN media_types m on t.MediaTypeId = m.MediaTypeId\n",
    "'''\n",
    "pd.read_sql_query(query, conn)"
   ]
  },
  {
   "source": [
    "## Ex7"
   ],
   "cell_type": "markdown",
   "metadata": {}
  },
  {
   "cell_type": "code",
   "execution_count": 19,
   "metadata": {},
   "outputs": [
    {
     "output_type": "execute_result",
     "data": {
      "text/plain": [
       "                 Playlist Name  Number of Songs in Playlist\n",
       "0                        Music                         3290\n",
       "1                       Movies                            1\n",
       "2                     TV Shows                          213\n",
       "3                   Audiobooks                            1\n",
       "4                   90’s Music                         1477\n",
       "5                   Audiobooks                            1\n",
       "6                       Movies                            1\n",
       "7                        Music                         3290\n",
       "8                 Music Videos                            1\n",
       "9                     TV Shows                          213\n",
       "10             Brazilian Music                           39\n",
       "11                   Classical                           75\n",
       "12   Classical 101 - Deep Cuts                           25\n",
       "13  Classical 101 - Next Steps                           25\n",
       "14  Classical 101 - The Basics                           25\n",
       "15                      Grunge                           15\n",
       "16         Heavy Metal Classic                           26\n",
       "17                 On-The-Go 1                            1"
      ],
      "text/html": "<div>\n<style scoped>\n    .dataframe tbody tr th:only-of-type {\n        vertical-align: middle;\n    }\n\n    .dataframe tbody tr th {\n        vertical-align: top;\n    }\n\n    .dataframe thead th {\n        text-align: right;\n    }\n</style>\n<table border=\"1\" class=\"dataframe\">\n  <thead>\n    <tr style=\"text-align: right;\">\n      <th></th>\n      <th>Playlist Name</th>\n      <th>Number of Songs in Playlist</th>\n    </tr>\n  </thead>\n  <tbody>\n    <tr>\n      <th>0</th>\n      <td>Music</td>\n      <td>3290</td>\n    </tr>\n    <tr>\n      <th>1</th>\n      <td>Movies</td>\n      <td>1</td>\n    </tr>\n    <tr>\n      <th>2</th>\n      <td>TV Shows</td>\n      <td>213</td>\n    </tr>\n    <tr>\n      <th>3</th>\n      <td>Audiobooks</td>\n      <td>1</td>\n    </tr>\n    <tr>\n      <th>4</th>\n      <td>90’s Music</td>\n      <td>1477</td>\n    </tr>\n    <tr>\n      <th>5</th>\n      <td>Audiobooks</td>\n      <td>1</td>\n    </tr>\n    <tr>\n      <th>6</th>\n      <td>Movies</td>\n      <td>1</td>\n    </tr>\n    <tr>\n      <th>7</th>\n      <td>Music</td>\n      <td>3290</td>\n    </tr>\n    <tr>\n      <th>8</th>\n      <td>Music Videos</td>\n      <td>1</td>\n    </tr>\n    <tr>\n      <th>9</th>\n      <td>TV Shows</td>\n      <td>213</td>\n    </tr>\n    <tr>\n      <th>10</th>\n      <td>Brazilian Music</td>\n      <td>39</td>\n    </tr>\n    <tr>\n      <th>11</th>\n      <td>Classical</td>\n      <td>75</td>\n    </tr>\n    <tr>\n      <th>12</th>\n      <td>Classical 101 - Deep Cuts</td>\n      <td>25</td>\n    </tr>\n    <tr>\n      <th>13</th>\n      <td>Classical 101 - Next Steps</td>\n      <td>25</td>\n    </tr>\n    <tr>\n      <th>14</th>\n      <td>Classical 101 - The Basics</td>\n      <td>25</td>\n    </tr>\n    <tr>\n      <th>15</th>\n      <td>Grunge</td>\n      <td>15</td>\n    </tr>\n    <tr>\n      <th>16</th>\n      <td>Heavy Metal Classic</td>\n      <td>26</td>\n    </tr>\n    <tr>\n      <th>17</th>\n      <td>On-The-Go 1</td>\n      <td>1</td>\n    </tr>\n  </tbody>\n</table>\n</div>"
     },
     "metadata": {},
     "execution_count": 19
    }
   ],
   "source": [
    "query = '''\n",
    "SELECT p.Name as 'Playlist Name', COUNT(*) as 'Number of Songs in Playlist'\n",
    "FROM playlists p\n",
    "LEFT JOIN playlist_track pt ON p.PlaylistId = pt.PlaylistId \n",
    "GROUP BY p.PlaylistID\n",
    "'''\n",
    "pd.read_sql_query(query, conn)"
   ]
  },
  {
   "source": [
    "## Ex8"
   ],
   "cell_type": "markdown",
   "metadata": {}
  },
  {
   "cell_type": "code",
   "execution_count": 20,
   "metadata": {},
   "outputs": [
    {
     "output_type": "execute_result",
     "data": {
      "text/plain": [
       "   Employee Name  Total Sold\n",
       "0   Jane Peacock      833.04\n",
       "1  Margaret Park      775.40\n",
       "2  Steve Johnson      720.16"
      ],
      "text/html": "<div>\n<style scoped>\n    .dataframe tbody tr th:only-of-type {\n        vertical-align: middle;\n    }\n\n    .dataframe tbody tr th {\n        vertical-align: top;\n    }\n\n    .dataframe thead th {\n        text-align: right;\n    }\n</style>\n<table border=\"1\" class=\"dataframe\">\n  <thead>\n    <tr style=\"text-align: right;\">\n      <th></th>\n      <th>Employee Name</th>\n      <th>Total Sold</th>\n    </tr>\n  </thead>\n  <tbody>\n    <tr>\n      <th>0</th>\n      <td>Jane Peacock</td>\n      <td>833.04</td>\n    </tr>\n    <tr>\n      <th>1</th>\n      <td>Margaret Park</td>\n      <td>775.40</td>\n    </tr>\n    <tr>\n      <th>2</th>\n      <td>Steve Johnson</td>\n      <td>720.16</td>\n    </tr>\n  </tbody>\n</table>\n</div>"
     },
     "metadata": {},
     "execution_count": 20
    }
   ],
   "source": [
    "query = '''\n",
    "SELECT e.FirstName || ' ' || e.LastName as 'Employee Name', SUM(i.Total) as 'Total Sold'\n",
    "FROM employees e\n",
    "JOIN customers c ON e.EmployeeId = c.SupportRepId\n",
    "JOIN invoices i ON c.CustomerId = i.CustomerId\n",
    "GROUP BY e.EmployeeId\n",
    "'''\n",
    "pd.read_sql_query(query, conn)"
   ]
  },
  {
   "source": [
    "## Ex9"
   ],
   "cell_type": "markdown",
   "metadata": {}
  },
  {
   "cell_type": "code",
   "execution_count": 21,
   "metadata": {},
   "outputs": [
    {
     "output_type": "execute_result",
     "data": {
      "text/plain": [
       "   Employee Name  Total Sold (2009)\n",
       "0  Steve Johnson             164.34\n",
       "1  Margaret Park             161.37\n",
       "2   Jane Peacock             123.75"
      ],
      "text/html": "<div>\n<style scoped>\n    .dataframe tbody tr th:only-of-type {\n        vertical-align: middle;\n    }\n\n    .dataframe tbody tr th {\n        vertical-align: top;\n    }\n\n    .dataframe thead th {\n        text-align: right;\n    }\n</style>\n<table border=\"1\" class=\"dataframe\">\n  <thead>\n    <tr style=\"text-align: right;\">\n      <th></th>\n      <th>Employee Name</th>\n      <th>Total Sold (2009)</th>\n    </tr>\n  </thead>\n  <tbody>\n    <tr>\n      <th>0</th>\n      <td>Steve Johnson</td>\n      <td>164.34</td>\n    </tr>\n    <tr>\n      <th>1</th>\n      <td>Margaret Park</td>\n      <td>161.37</td>\n    </tr>\n    <tr>\n      <th>2</th>\n      <td>Jane Peacock</td>\n      <td>123.75</td>\n    </tr>\n  </tbody>\n</table>\n</div>"
     },
     "metadata": {},
     "execution_count": 21
    }
   ],
   "source": [
    "query = '''\n",
    "SELECT e.FirstName || ' ' || e.LastName as 'Employee Name', SUM(i.Total) as 'Total Sold (2009)'\n",
    "FROM employees e\n",
    "JOIN customers c ON e.EmployeeId = c.SupportRepId\n",
    "JOIN invoices i ON c.CustomerId = i.CustomerId\n",
    "WHERE i.InvoiceDate LIKE '2009%'\n",
    "GROUP BY e.EmployeeId\n",
    "ORDER BY SUM(i.Total) DESC\n",
    "'''\n",
    "pd.read_sql_query(query, conn)"
   ]
  },
  {
   "source": [
    "## Ex10"
   ],
   "cell_type": "markdown",
   "metadata": {}
  },
  {
   "cell_type": "code",
   "execution_count": 22,
   "metadata": {},
   "outputs": [
    {
     "output_type": "execute_result",
     "data": {
      "text/plain": [
       "          Name   Sales\n",
       "0  Iron Maiden  138.60\n",
       "1           U2  105.93\n",
       "2    Metallica   90.09"
      ],
      "text/html": "<div>\n<style scoped>\n    .dataframe tbody tr th:only-of-type {\n        vertical-align: middle;\n    }\n\n    .dataframe tbody tr th {\n        vertical-align: top;\n    }\n\n    .dataframe thead th {\n        text-align: right;\n    }\n</style>\n<table border=\"1\" class=\"dataframe\">\n  <thead>\n    <tr style=\"text-align: right;\">\n      <th></th>\n      <th>Name</th>\n      <th>Sales</th>\n    </tr>\n  </thead>\n  <tbody>\n    <tr>\n      <th>0</th>\n      <td>Iron Maiden</td>\n      <td>138.60</td>\n    </tr>\n    <tr>\n      <th>1</th>\n      <td>U2</td>\n      <td>105.93</td>\n    </tr>\n    <tr>\n      <th>2</th>\n      <td>Metallica</td>\n      <td>90.09</td>\n    </tr>\n  </tbody>\n</table>\n</div>"
     },
     "metadata": {},
     "execution_count": 22
    }
   ],
   "source": [
    "query = '''\n",
    "SELECT ar.Name, SUM(ii.UnitPrice) as 'Sales'\n",
    "FROM artists ar\n",
    "JOIN albums al ON ar.ArtistId = al.ArtistId \n",
    "JOIN tracks t ON al.AlbumId = t.AlbumId\n",
    "JOIN invoice_items ii ON t.TrackId = ii.TrackId\n",
    "GROUP BY ar.ArtistId\n",
    "ORDER BY COUNT(*) DESC\n",
    "LIMIT 3;\n",
    "'''\n",
    "pd.read_sql_query(query, conn)"
   ]
  },
  {
   "source": [
    "## Cerrar conexion con base de datos"
   ],
   "cell_type": "markdown",
   "metadata": {}
  },
  {
   "cell_type": "code",
   "execution_count": 23,
   "metadata": {},
   "outputs": [],
   "source": [
    "conn.close()"
   ]
  },
  {
   "source": [
    "# Murder Mystery"
   ],
   "cell_type": "markdown",
   "metadata": {}
  },
  {
   "cell_type": "code",
   "execution_count": 24,
   "metadata": {},
   "outputs": [],
   "source": [
    "# Cargar la base de datos\n",
    "conn = sqlite3.connect('sql_murder_mystery.db')"
   ]
  },
  {
   "cell_type": "code",
   "execution_count": 25,
   "metadata": {},
   "outputs": [
    {
     "output_type": "execute_result",
     "data": {
      "text/plain": [
       "       date    type                                        description  \\\n",
       "0  20180115  murder  Security footage shows that there were 2 witne...   \n",
       "\n",
       "       city  \n",
       "0  SQL City  "
      ],
      "text/html": "<div>\n<style scoped>\n    .dataframe tbody tr th:only-of-type {\n        vertical-align: middle;\n    }\n\n    .dataframe tbody tr th {\n        vertical-align: top;\n    }\n\n    .dataframe thead th {\n        text-align: right;\n    }\n</style>\n<table border=\"1\" class=\"dataframe\">\n  <thead>\n    <tr style=\"text-align: right;\">\n      <th></th>\n      <th>date</th>\n      <th>type</th>\n      <th>description</th>\n      <th>city</th>\n    </tr>\n  </thead>\n  <tbody>\n    <tr>\n      <th>0</th>\n      <td>20180115</td>\n      <td>murder</td>\n      <td>Security footage shows that there were 2 witne...</td>\n      <td>SQL City</td>\n    </tr>\n  </tbody>\n</table>\n</div>"
     },
     "metadata": {},
     "execution_count": 25
    }
   ],
   "source": [
    "query = '''\n",
    "SELECT *\n",
    "FROM crime_scene_report\n",
    "WHERE date = '20180115' and type = 'murder' and city = 'SQL City'\n",
    "'''\n",
    "pd.read_sql_query(query, conn)"
   ]
  },
  {
   "cell_type": "code",
   "execution_count": 26,
   "metadata": {},
   "outputs": [
    {
     "output_type": "stream",
     "name": "stdout",
     "text": [
      "Description:\n Security footage shows that there were 2 witnesses. The first witness lives at the last house on \"Northwestern Dr\". The second witness, named Annabel, lives somewhere on \"Franklin Ave\".\n"
     ]
    }
   ],
   "source": [
    "cursor = conn.cursor()\n",
    "mi_query = cursor.execute(query)\n",
    "print('Description:\\n', mi_query.fetchall()[0][2])"
   ]
  },
  {
   "cell_type": "code",
   "execution_count": 27,
   "metadata": {},
   "outputs": [
    {
     "output_type": "execute_result",
     "data": {
      "text/plain": [
       "      id            name  license_id  address_number address_street_name  \\\n",
       "0  14887  Morty Schapiro      118009            4919     Northwestern Dr   \n",
       "\n",
       "         ssn  \n",
       "0  111564949  "
      ],
      "text/html": "<div>\n<style scoped>\n    .dataframe tbody tr th:only-of-type {\n        vertical-align: middle;\n    }\n\n    .dataframe tbody tr th {\n        vertical-align: top;\n    }\n\n    .dataframe thead th {\n        text-align: right;\n    }\n</style>\n<table border=\"1\" class=\"dataframe\">\n  <thead>\n    <tr style=\"text-align: right;\">\n      <th></th>\n      <th>id</th>\n      <th>name</th>\n      <th>license_id</th>\n      <th>address_number</th>\n      <th>address_street_name</th>\n      <th>ssn</th>\n    </tr>\n  </thead>\n  <tbody>\n    <tr>\n      <th>0</th>\n      <td>14887</td>\n      <td>Morty Schapiro</td>\n      <td>118009</td>\n      <td>4919</td>\n      <td>Northwestern Dr</td>\n      <td>111564949</td>\n    </tr>\n  </tbody>\n</table>\n</div>"
     },
     "metadata": {},
     "execution_count": 27
    }
   ],
   "source": [
    "# A investigar segun esas pistas\n",
    "# Sospechoso numero 1\n",
    "query = '''\n",
    "SELECT *\n",
    "FROM person\n",
    "WHERE address_street_name = 'Northwestern Dr'\n",
    "ORDER BY address_number DESC\n",
    "LIMIT 1\n",
    "'''\n",
    "pd.read_sql_query(query, conn)"
   ]
  },
  {
   "cell_type": "code",
   "execution_count": 28,
   "metadata": {},
   "outputs": [
    {
     "output_type": "execute_result",
     "data": {
      "text/plain": [
       "      id            name  license_id  address_number address_street_name  \\\n",
       "0  16371  Annabel Miller      490173             103        Franklin Ave   \n",
       "\n",
       "         ssn  \n",
       "0  318771143  "
      ],
      "text/html": "<div>\n<style scoped>\n    .dataframe tbody tr th:only-of-type {\n        vertical-align: middle;\n    }\n\n    .dataframe tbody tr th {\n        vertical-align: top;\n    }\n\n    .dataframe thead th {\n        text-align: right;\n    }\n</style>\n<table border=\"1\" class=\"dataframe\">\n  <thead>\n    <tr style=\"text-align: right;\">\n      <th></th>\n      <th>id</th>\n      <th>name</th>\n      <th>license_id</th>\n      <th>address_number</th>\n      <th>address_street_name</th>\n      <th>ssn</th>\n    </tr>\n  </thead>\n  <tbody>\n    <tr>\n      <th>0</th>\n      <td>16371</td>\n      <td>Annabel Miller</td>\n      <td>490173</td>\n      <td>103</td>\n      <td>Franklin Ave</td>\n      <td>318771143</td>\n    </tr>\n  </tbody>\n</table>\n</div>"
     },
     "metadata": {},
     "execution_count": 28
    }
   ],
   "source": [
    "# Sospechosa numero 2\n",
    "query = '''\n",
    "SELECT *\n",
    "FROM person\n",
    "WHERE name LIKE 'Annabel%' and address_street_name = 'Franklin Ave'\n",
    "'''\n",
    "pd.read_sql_query(query, conn)"
   ]
  },
  {
   "cell_type": "code",
   "execution_count": 29,
   "metadata": {},
   "outputs": [
    {
     "output_type": "execute_result",
     "data": {
      "text/plain": [
       "      id            name                                         transcript\n",
       "0  14887  Morty Schapiro  I heard a gunshot and then saw a man run out. ...\n",
       "1  16371  Annabel Miller  I saw the murder happen, and I recognized the ..."
      ],
      "text/html": "<div>\n<style scoped>\n    .dataframe tbody tr th:only-of-type {\n        vertical-align: middle;\n    }\n\n    .dataframe tbody tr th {\n        vertical-align: top;\n    }\n\n    .dataframe thead th {\n        text-align: right;\n    }\n</style>\n<table border=\"1\" class=\"dataframe\">\n  <thead>\n    <tr style=\"text-align: right;\">\n      <th></th>\n      <th>id</th>\n      <th>name</th>\n      <th>transcript</th>\n    </tr>\n  </thead>\n  <tbody>\n    <tr>\n      <th>0</th>\n      <td>14887</td>\n      <td>Morty Schapiro</td>\n      <td>I heard a gunshot and then saw a man run out. ...</td>\n    </tr>\n    <tr>\n      <th>1</th>\n      <td>16371</td>\n      <td>Annabel Miller</td>\n      <td>I saw the murder happen, and I recognized the ...</td>\n    </tr>\n  </tbody>\n</table>\n</div>"
     },
     "metadata": {},
     "execution_count": 29
    }
   ],
   "source": [
    "# Ya sabemos los 2 testigos vamos a unirlos con sus interviews\n",
    "query = '''\n",
    "SELECT p.id, p.name, i.transcript\n",
    "FROM person p\n",
    "JOIN interview i ON p.id = i.person_id\n",
    "WHERE p.name = 'Morty Schapiro' or p.name = 'Annabel Miller'\n",
    "'''\n",
    "pd.read_sql_query(query, conn)"
   ]
  },
  {
   "cell_type": "code",
   "execution_count": 30,
   "metadata": {},
   "outputs": [
    {
     "output_type": "stream",
     "name": "stdout",
     "text": [
      "Transcript Morty:\n I heard a gunshot and then saw a man run out. He had a \"Get Fit Now Gym\" bag. The membership number on the bag started with \"48Z\". Only gold members have those bags. The man got into a car with a plate that included \"H42W\".\n"
     ]
    }
   ],
   "source": [
    "mi_query = cursor.execute(query)\n",
    "print('Transcript Morty:\\n', mi_query.fetchall()[0][2])"
   ]
  },
  {
   "cell_type": "code",
   "execution_count": 31,
   "metadata": {},
   "outputs": [
    {
     "output_type": "stream",
     "name": "stdout",
     "text": [
      "Transcript Annabel:\n I saw the murder happen, and I recognized the killer from my gym when I was working out last week on January the 9th.\n"
     ]
    }
   ],
   "source": [
    "mi_query = cursor.execute(query)\n",
    "print('Transcript Annabel:\\n', mi_query.fetchall()[1][2])"
   ]
  },
  {
   "cell_type": "code",
   "execution_count": 32,
   "metadata": {},
   "outputs": [
    {
     "output_type": "execute_result",
     "data": {
      "text/plain": [
       "            name membership_id membership_status  check_in_date plate_number\n",
       "0  Jeremy Bowers         48Z55              gold       20180109       0H42W2"
      ],
      "text/html": "<div>\n<style scoped>\n    .dataframe tbody tr th:only-of-type {\n        vertical-align: middle;\n    }\n\n    .dataframe tbody tr th {\n        vertical-align: top;\n    }\n\n    .dataframe thead th {\n        text-align: right;\n    }\n</style>\n<table border=\"1\" class=\"dataframe\">\n  <thead>\n    <tr style=\"text-align: right;\">\n      <th></th>\n      <th>name</th>\n      <th>membership_id</th>\n      <th>membership_status</th>\n      <th>check_in_date</th>\n      <th>plate_number</th>\n    </tr>\n  </thead>\n  <tbody>\n    <tr>\n      <th>0</th>\n      <td>Jeremy Bowers</td>\n      <td>48Z55</td>\n      <td>gold</td>\n      <td>20180109</td>\n      <td>0H42W2</td>\n    </tr>\n  </tbody>\n</table>\n</div>"
     },
     "metadata": {},
     "execution_count": 32
    }
   ],
   "source": [
    "# A ver la info sobre el gimnasio\n",
    "query = '''\n",
    "SELECT gm.name, gc.membership_id ,gm.membership_status, gc.check_in_date, d.plate_number\n",
    "FROM get_fit_now_member gm\n",
    "JOIN get_fit_now_check_in gc ON gm.id = gc.membership_id\n",
    "JOIN person p ON gm.person_id = p.id\n",
    "JOIN drivers_license d ON p.license_id = d.id\n",
    "WHERE gm.membership_status = 'gold' and  gc.check_in_date = '20180109' and gc.membership_id LIKE '48Z%' and d.plate_number LIKE '%H42W%'\n",
    "'''\n",
    "pd.read_sql_query(query, conn)"
   ]
  },
  {
   "cell_type": "code",
   "execution_count": 33,
   "metadata": {},
   "outputs": [
    {
     "output_type": "execute_result",
     "data": {
      "text/plain": [
       "      id           name                                         transcript\n",
       "0  67318  Jeremy Bowers  I was hired by a woman with a lot of money. I ..."
      ],
      "text/html": "<div>\n<style scoped>\n    .dataframe tbody tr th:only-of-type {\n        vertical-align: middle;\n    }\n\n    .dataframe tbody tr th {\n        vertical-align: top;\n    }\n\n    .dataframe thead th {\n        text-align: right;\n    }\n</style>\n<table border=\"1\" class=\"dataframe\">\n  <thead>\n    <tr style=\"text-align: right;\">\n      <th></th>\n      <th>id</th>\n      <th>name</th>\n      <th>transcript</th>\n    </tr>\n  </thead>\n  <tbody>\n    <tr>\n      <th>0</th>\n      <td>67318</td>\n      <td>Jeremy Bowers</td>\n      <td>I was hired by a woman with a lot of money. I ...</td>\n    </tr>\n  </tbody>\n</table>\n</div>"
     },
     "metadata": {},
     "execution_count": 33
    }
   ],
   "source": [
    "# Tenemos al asesino, a ver su testimonio\n",
    "query = '''\n",
    "SELECT p.id, p.name, i.transcript\n",
    "FROM person p\n",
    "JOIN interview i ON p.id = i.person_id\n",
    "WHERE p.name = 'Jeremy Bowers'\n",
    "'''\n",
    "pd.read_sql_query(query, conn)"
   ]
  },
  {
   "cell_type": "code",
   "execution_count": 34,
   "metadata": {},
   "outputs": [
    {
     "output_type": "stream",
     "name": "stdout",
     "text": [
      "Transcript Jeremy:\n I was hired by a woman with a lot of money. I don't know her name but I know she's around 5'5\" (65\") or 5'7\" (67\"). She has red hair and she drives a Tesla Model S. I know that she attended the SQL Symphony Concert 3 times in December 2017.\n\n"
     ]
    }
   ],
   "source": [
    "mi_query = cursor.execute(query)\n",
    "print('Transcript Jeremy:\\n', mi_query.fetchall()[0][2])"
   ]
  },
  {
   "cell_type": "code",
   "execution_count": 35,
   "metadata": {},
   "outputs": [
    {
     "output_type": "execute_result",
     "data": {
      "text/plain": [
       "    person_id  Times Attended in December\n",
       "0       99716                           3\n",
       "1       24556                           3\n",
       "2       28582                           2\n",
       "3       92343                           1\n",
       "4       81526                           1\n",
       "5       79312                           1\n",
       "6       69699                           1\n",
       "7       69325                           1\n",
       "8       67318                           1\n",
       "9       62596                           1\n",
       "10      58898                           1\n",
       "11      43366                           1\n",
       "12      24397                           1\n",
       "13      19292                           1\n",
       "14      19260                           1\n",
       "15      11173                           1"
      ],
      "text/html": "<div>\n<style scoped>\n    .dataframe tbody tr th:only-of-type {\n        vertical-align: middle;\n    }\n\n    .dataframe tbody tr th {\n        vertical-align: top;\n    }\n\n    .dataframe thead th {\n        text-align: right;\n    }\n</style>\n<table border=\"1\" class=\"dataframe\">\n  <thead>\n    <tr style=\"text-align: right;\">\n      <th></th>\n      <th>person_id</th>\n      <th>Times Attended in December</th>\n    </tr>\n  </thead>\n  <tbody>\n    <tr>\n      <th>0</th>\n      <td>99716</td>\n      <td>3</td>\n    </tr>\n    <tr>\n      <th>1</th>\n      <td>24556</td>\n      <td>3</td>\n    </tr>\n    <tr>\n      <th>2</th>\n      <td>28582</td>\n      <td>2</td>\n    </tr>\n    <tr>\n      <th>3</th>\n      <td>92343</td>\n      <td>1</td>\n    </tr>\n    <tr>\n      <th>4</th>\n      <td>81526</td>\n      <td>1</td>\n    </tr>\n    <tr>\n      <th>5</th>\n      <td>79312</td>\n      <td>1</td>\n    </tr>\n    <tr>\n      <th>6</th>\n      <td>69699</td>\n      <td>1</td>\n    </tr>\n    <tr>\n      <th>7</th>\n      <td>69325</td>\n      <td>1</td>\n    </tr>\n    <tr>\n      <th>8</th>\n      <td>67318</td>\n      <td>1</td>\n    </tr>\n    <tr>\n      <th>9</th>\n      <td>62596</td>\n      <td>1</td>\n    </tr>\n    <tr>\n      <th>10</th>\n      <td>58898</td>\n      <td>1</td>\n    </tr>\n    <tr>\n      <th>11</th>\n      <td>43366</td>\n      <td>1</td>\n    </tr>\n    <tr>\n      <th>12</th>\n      <td>24397</td>\n      <td>1</td>\n    </tr>\n    <tr>\n      <th>13</th>\n      <td>19292</td>\n      <td>1</td>\n    </tr>\n    <tr>\n      <th>14</th>\n      <td>19260</td>\n      <td>1</td>\n    </tr>\n    <tr>\n      <th>15</th>\n      <td>11173</td>\n      <td>1</td>\n    </tr>\n  </tbody>\n</table>\n</div>"
     },
     "metadata": {},
     "execution_count": 35
    }
   ],
   "source": [
    "# A ver a la mujer rica esta\n",
    "query = '''\n",
    "SELECT person_id, COUNT(event_name) as 'Times Attended in December'\n",
    "FROM facebook_event_checkin\n",
    "WHERE date LIKE '201712%' and event_name = 'SQL Symphony Concert'\n",
    "GROUP BY person_id\n",
    "ORDER BY COUNT(event_name) DESC\n",
    "'''\n",
    "pd.read_sql_query(query, conn)"
   ]
  },
  {
   "cell_type": "code",
   "execution_count": 36,
   "metadata": {},
   "outputs": [
    {
     "output_type": "execute_result",
     "data": {
      "text/plain": [
       "      id              name  license_id  address_number address_street_name  \\\n",
       "0  24556       Bryan Pardo      101191             703          Machine Ln   \n",
       "1  99716  Miranda Priestly      202298            1883          Golden Ave   \n",
       "\n",
       "         ssn  \n",
       "0  816663882  \n",
       "1  987756388  "
      ],
      "text/html": "<div>\n<style scoped>\n    .dataframe tbody tr th:only-of-type {\n        vertical-align: middle;\n    }\n\n    .dataframe tbody tr th {\n        vertical-align: top;\n    }\n\n    .dataframe thead th {\n        text-align: right;\n    }\n</style>\n<table border=\"1\" class=\"dataframe\">\n  <thead>\n    <tr style=\"text-align: right;\">\n      <th></th>\n      <th>id</th>\n      <th>name</th>\n      <th>license_id</th>\n      <th>address_number</th>\n      <th>address_street_name</th>\n      <th>ssn</th>\n    </tr>\n  </thead>\n  <tbody>\n    <tr>\n      <th>0</th>\n      <td>24556</td>\n      <td>Bryan Pardo</td>\n      <td>101191</td>\n      <td>703</td>\n      <td>Machine Ln</td>\n      <td>816663882</td>\n    </tr>\n    <tr>\n      <th>1</th>\n      <td>99716</td>\n      <td>Miranda Priestly</td>\n      <td>202298</td>\n      <td>1883</td>\n      <td>Golden Ave</td>\n      <td>987756388</td>\n    </tr>\n  </tbody>\n</table>\n</div>"
     },
     "metadata": {},
     "execution_count": 36
    }
   ],
   "source": [
    "# Con esos 2 person_ids podemos jugar\n",
    "query = '''\n",
    "SELECT *\n",
    "FROM person\n",
    "WHERE id = 99716 OR id = 24556\n",
    "'''\n",
    "pd.read_sql_query(query, conn)"
   ]
  },
  {
   "cell_type": "code",
   "execution_count": 37,
   "metadata": {},
   "outputs": [
    {
     "output_type": "execute_result",
     "data": {
      "text/plain": [
       "               name  license_id  height hair_color  gender car_make car_model\n",
       "0  Miranda Priestly      202298      66        red  female    Tesla   Model S"
      ],
      "text/html": "<div>\n<style scoped>\n    .dataframe tbody tr th:only-of-type {\n        vertical-align: middle;\n    }\n\n    .dataframe tbody tr th {\n        vertical-align: top;\n    }\n\n    .dataframe thead th {\n        text-align: right;\n    }\n</style>\n<table border=\"1\" class=\"dataframe\">\n  <thead>\n    <tr style=\"text-align: right;\">\n      <th></th>\n      <th>name</th>\n      <th>license_id</th>\n      <th>height</th>\n      <th>hair_color</th>\n      <th>gender</th>\n      <th>car_make</th>\n      <th>car_model</th>\n    </tr>\n  </thead>\n  <tbody>\n    <tr>\n      <th>0</th>\n      <td>Miranda Priestly</td>\n      <td>202298</td>\n      <td>66</td>\n      <td>red</td>\n      <td>female</td>\n      <td>Tesla</td>\n      <td>Model S</td>\n    </tr>\n  </tbody>\n</table>\n</div>"
     },
     "metadata": {},
     "execution_count": 37
    }
   ],
   "source": [
    "# Solo Miranda es mujer, nos deberia valer, pero lo confirmamos con el coche\n",
    "query = '''\n",
    "SELECT p.name, p.license_id, d.height, d.hair_color, d.gender, d.car_make, d.car_model\n",
    "FROM person p\n",
    "JOIN drivers_license d ON p.license_id = d.id\n",
    "WHERE p.id = 99716 OR p.id = 24556\n",
    "'''\n",
    "pd.read_sql_query(query, conn)"
   ]
  },
  {
   "cell_type": "code",
   "execution_count": 38,
   "metadata": {},
   "outputs": [],
   "source": [
    "conn.close()"
   ]
  },
  {
   "source": [
    "# Ale ya tenemos al asesino y a la que le contrato!!"
   ],
   "cell_type": "markdown",
   "metadata": {}
  }
 ]
}
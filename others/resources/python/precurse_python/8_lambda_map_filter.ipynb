version https://git-lfs.github.com/spec/v1
oid sha256:915266d7c6b362bba5eb7fa5a9a64880647dd181175aeeb7772423ece21363fd
size 10081

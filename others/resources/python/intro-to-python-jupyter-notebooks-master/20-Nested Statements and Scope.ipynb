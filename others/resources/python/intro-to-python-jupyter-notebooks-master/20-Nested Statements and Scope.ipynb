version https://git-lfs.github.com/spec/v1
oid sha256:0346cc871aa043fe02e8c26267e3fcb8f2e083c2dc02206379d253a085586c5a
size 10372

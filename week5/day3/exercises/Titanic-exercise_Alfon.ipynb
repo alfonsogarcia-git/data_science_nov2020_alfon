{
 "cells": [
  {
   "cell_type": "markdown",
   "metadata": {},
   "source": [
    "   #                                                  Titanic Exercise \n",
    "   #### Practise Pandas"
   ]
  },
  {
   "cell_type": "markdown",
   "metadata": {},
   "source": [
    "![titanic](https://userscontent2.emaze.com/images/a5f68f37-6349-4065-a1fc-921cbe7401b2/958230111417e36d6b3c67ffd7bc3494.jpeg)"
   ]
  },
  {
   "cell_type": "markdown",
   "metadata": {},
   "source": [
    "First of all, import the needed libraries. "
   ]
  },
  {
   "cell_type": "code",
   "execution_count": 400,
   "metadata": {},
   "outputs": [],
   "source": [
    "import numpy as np\n",
    "import pandas as pd\n",
    "import matplotlib.pyplot as plt\n",
    "import random as rnd\n",
    "import seaborn as sns\n",
    "# you will have to import at least two other libraries along the exercise"
   ]
  },
  {
   "cell_type": "markdown",
   "metadata": {},
   "source": [
    "1. Read in filename and call the variable `titanic`\n",
    "    - Explore the `titanic` dataset using `info`, `dtypes` & `describe`\n",
    " "
   ]
  },
  {
   "cell_type": "code",
   "execution_count": 401,
   "metadata": {},
   "outputs": [],
   "source": [
    "filename = \"titanic.csv\""
   ]
  },
  {
   "cell_type": "code",
   "execution_count": 402,
   "metadata": {},
   "outputs": [],
   "source": [
    "#your code\n",
    "titanic = pd.read_csv(filename)"
   ]
  },
  {
   "cell_type": "code",
   "execution_count": 403,
   "metadata": {},
   "outputs": [
    {
     "output_type": "execute_result",
     "data": {
      "text/plain": [
       "   pclass  survived                                             name     sex  \\\n",
       "0       1         1                    Allen, Miss. Elisabeth Walton  female   \n",
       "1       1         1                   Allison, Master. Hudson Trevor    male   \n",
       "2       1         0                     Allison, Miss. Helen Loraine  female   \n",
       "3       1         0             Allison, Mr. Hudson Joshua Creighton    male   \n",
       "4       1         0  Allison, Mrs. Hudson J C (Bessie Waldo Daniels)  female   \n",
       "\n",
       "     age  sibsp  parch  ticket      fare    cabin embarked boat   body  \\\n",
       "0  29.00      0      0   24160  211.3375       B5        S    2    NaN   \n",
       "1   0.92      1      2  113781  151.5500  C22 C26        S   11    NaN   \n",
       "2   2.00      1      2  113781  151.5500  C22 C26        S  NaN    NaN   \n",
       "3  30.00      1      2  113781  151.5500  C22 C26        S  NaN  135.0   \n",
       "4  25.00      1      2  113781  151.5500  C22 C26        S  NaN    NaN   \n",
       "\n",
       "                         home.dest  \n",
       "0                     St Louis, MO  \n",
       "1  Montreal, PQ / Chesterville, ON  \n",
       "2  Montreal, PQ / Chesterville, ON  \n",
       "3  Montreal, PQ / Chesterville, ON  \n",
       "4  Montreal, PQ / Chesterville, ON  "
      ],
      "text/html": "<div>\n<style scoped>\n    .dataframe tbody tr th:only-of-type {\n        vertical-align: middle;\n    }\n\n    .dataframe tbody tr th {\n        vertical-align: top;\n    }\n\n    .dataframe thead th {\n        text-align: right;\n    }\n</style>\n<table border=\"1\" class=\"dataframe\">\n  <thead>\n    <tr style=\"text-align: right;\">\n      <th></th>\n      <th>pclass</th>\n      <th>survived</th>\n      <th>name</th>\n      <th>sex</th>\n      <th>age</th>\n      <th>sibsp</th>\n      <th>parch</th>\n      <th>ticket</th>\n      <th>fare</th>\n      <th>cabin</th>\n      <th>embarked</th>\n      <th>boat</th>\n      <th>body</th>\n      <th>home.dest</th>\n    </tr>\n  </thead>\n  <tbody>\n    <tr>\n      <th>0</th>\n      <td>1</td>\n      <td>1</td>\n      <td>Allen, Miss. Elisabeth Walton</td>\n      <td>female</td>\n      <td>29.00</td>\n      <td>0</td>\n      <td>0</td>\n      <td>24160</td>\n      <td>211.3375</td>\n      <td>B5</td>\n      <td>S</td>\n      <td>2</td>\n      <td>NaN</td>\n      <td>St Louis, MO</td>\n    </tr>\n    <tr>\n      <th>1</th>\n      <td>1</td>\n      <td>1</td>\n      <td>Allison, Master. Hudson Trevor</td>\n      <td>male</td>\n      <td>0.92</td>\n      <td>1</td>\n      <td>2</td>\n      <td>113781</td>\n      <td>151.5500</td>\n      <td>C22 C26</td>\n      <td>S</td>\n      <td>11</td>\n      <td>NaN</td>\n      <td>Montreal, PQ / Chesterville, ON</td>\n    </tr>\n    <tr>\n      <th>2</th>\n      <td>1</td>\n      <td>0</td>\n      <td>Allison, Miss. Helen Loraine</td>\n      <td>female</td>\n      <td>2.00</td>\n      <td>1</td>\n      <td>2</td>\n      <td>113781</td>\n      <td>151.5500</td>\n      <td>C22 C26</td>\n      <td>S</td>\n      <td>NaN</td>\n      <td>NaN</td>\n      <td>Montreal, PQ / Chesterville, ON</td>\n    </tr>\n    <tr>\n      <th>3</th>\n      <td>1</td>\n      <td>0</td>\n      <td>Allison, Mr. Hudson Joshua Creighton</td>\n      <td>male</td>\n      <td>30.00</td>\n      <td>1</td>\n      <td>2</td>\n      <td>113781</td>\n      <td>151.5500</td>\n      <td>C22 C26</td>\n      <td>S</td>\n      <td>NaN</td>\n      <td>135.0</td>\n      <td>Montreal, PQ / Chesterville, ON</td>\n    </tr>\n    <tr>\n      <th>4</th>\n      <td>1</td>\n      <td>0</td>\n      <td>Allison, Mrs. Hudson J C (Bessie Waldo Daniels)</td>\n      <td>female</td>\n      <td>25.00</td>\n      <td>1</td>\n      <td>2</td>\n      <td>113781</td>\n      <td>151.5500</td>\n      <td>C22 C26</td>\n      <td>S</td>\n      <td>NaN</td>\n      <td>NaN</td>\n      <td>Montreal, PQ / Chesterville, ON</td>\n    </tr>\n  </tbody>\n</table>\n</div>"
     },
     "metadata": {},
     "execution_count": 403
    }
   ],
   "source": [
    "# Visualization\n",
    "titanic.head()"
   ]
  },
  {
   "cell_type": "code",
   "execution_count": 404,
   "metadata": {},
   "outputs": [
    {
     "output_type": "stream",
     "name": "stdout",
     "text": [
      "<class 'pandas.core.frame.DataFrame'>\nRangeIndex: 1309 entries, 0 to 1308\nData columns (total 14 columns):\n #   Column     Non-Null Count  Dtype  \n---  ------     --------------  -----  \n 0   pclass     1309 non-null   int64  \n 1   survived   1309 non-null   int64  \n 2   name       1309 non-null   object \n 3   sex        1309 non-null   object \n 4   age        1046 non-null   float64\n 5   sibsp      1309 non-null   int64  \n 6   parch      1309 non-null   int64  \n 7   ticket     1309 non-null   object \n 8   fare       1308 non-null   float64\n 9   cabin      295 non-null    object \n 10  embarked   1307 non-null   object \n 11  boat       486 non-null    object \n 12  body       121 non-null    float64\n 13  home.dest  745 non-null    object \ndtypes: float64(3), int64(4), object(7)\nmemory usage: 143.3+ KB\n"
     ]
    }
   ],
   "source": [
    "# General info\n",
    "titanic.info()"
   ]
  },
  {
   "cell_type": "code",
   "execution_count": 405,
   "metadata": {},
   "outputs": [
    {
     "output_type": "execute_result",
     "data": {
      "text/plain": [
       "pclass         int64\n",
       "survived       int64\n",
       "name          object\n",
       "sex           object\n",
       "age          float64\n",
       "sibsp          int64\n",
       "parch          int64\n",
       "ticket        object\n",
       "fare         float64\n",
       "cabin         object\n",
       "embarked      object\n",
       "boat          object\n",
       "body         float64\n",
       "home.dest     object\n",
       "dtype: object"
      ]
     },
     "metadata": {},
     "execution_count": 405
    }
   ],
   "source": [
    "# Data types\n",
    "titanic.dtypes"
   ]
  },
  {
   "cell_type": "code",
   "execution_count": 406,
   "metadata": {},
   "outputs": [
    {
     "output_type": "execute_result",
     "data": {
      "text/plain": [
       "            pclass     survived          age        sibsp        parch  \\\n",
       "count  1309.000000  1309.000000  1046.000000  1309.000000  1309.000000   \n",
       "mean      2.294882     0.381971    29.881138     0.498854     0.385027   \n",
       "std       0.837836     0.486055    14.413493     1.041658     0.865560   \n",
       "min       1.000000     0.000000     0.170000     0.000000     0.000000   \n",
       "25%       2.000000     0.000000    21.000000     0.000000     0.000000   \n",
       "50%       3.000000     0.000000    28.000000     0.000000     0.000000   \n",
       "75%       3.000000     1.000000    39.000000     1.000000     0.000000   \n",
       "max       3.000000     1.000000    80.000000     8.000000     9.000000   \n",
       "\n",
       "              fare        body  \n",
       "count  1308.000000  121.000000  \n",
       "mean     33.295479  160.809917  \n",
       "std      51.758668   97.696922  \n",
       "min       0.000000    1.000000  \n",
       "25%       7.895800   72.000000  \n",
       "50%      14.454200  155.000000  \n",
       "75%      31.275000  256.000000  \n",
       "max     512.329200  328.000000  "
      ],
      "text/html": "<div>\n<style scoped>\n    .dataframe tbody tr th:only-of-type {\n        vertical-align: middle;\n    }\n\n    .dataframe tbody tr th {\n        vertical-align: top;\n    }\n\n    .dataframe thead th {\n        text-align: right;\n    }\n</style>\n<table border=\"1\" class=\"dataframe\">\n  <thead>\n    <tr style=\"text-align: right;\">\n      <th></th>\n      <th>pclass</th>\n      <th>survived</th>\n      <th>age</th>\n      <th>sibsp</th>\n      <th>parch</th>\n      <th>fare</th>\n      <th>body</th>\n    </tr>\n  </thead>\n  <tbody>\n    <tr>\n      <th>count</th>\n      <td>1309.000000</td>\n      <td>1309.000000</td>\n      <td>1046.000000</td>\n      <td>1309.000000</td>\n      <td>1309.000000</td>\n      <td>1308.000000</td>\n      <td>121.000000</td>\n    </tr>\n    <tr>\n      <th>mean</th>\n      <td>2.294882</td>\n      <td>0.381971</td>\n      <td>29.881138</td>\n      <td>0.498854</td>\n      <td>0.385027</td>\n      <td>33.295479</td>\n      <td>160.809917</td>\n    </tr>\n    <tr>\n      <th>std</th>\n      <td>0.837836</td>\n      <td>0.486055</td>\n      <td>14.413493</td>\n      <td>1.041658</td>\n      <td>0.865560</td>\n      <td>51.758668</td>\n      <td>97.696922</td>\n    </tr>\n    <tr>\n      <th>min</th>\n      <td>1.000000</td>\n      <td>0.000000</td>\n      <td>0.170000</td>\n      <td>0.000000</td>\n      <td>0.000000</td>\n      <td>0.000000</td>\n      <td>1.000000</td>\n    </tr>\n    <tr>\n      <th>25%</th>\n      <td>2.000000</td>\n      <td>0.000000</td>\n      <td>21.000000</td>\n      <td>0.000000</td>\n      <td>0.000000</td>\n      <td>7.895800</td>\n      <td>72.000000</td>\n    </tr>\n    <tr>\n      <th>50%</th>\n      <td>3.000000</td>\n      <td>0.000000</td>\n      <td>28.000000</td>\n      <td>0.000000</td>\n      <td>0.000000</td>\n      <td>14.454200</td>\n      <td>155.000000</td>\n    </tr>\n    <tr>\n      <th>75%</th>\n      <td>3.000000</td>\n      <td>1.000000</td>\n      <td>39.000000</td>\n      <td>1.000000</td>\n      <td>0.000000</td>\n      <td>31.275000</td>\n      <td>256.000000</td>\n    </tr>\n    <tr>\n      <th>max</th>\n      <td>3.000000</td>\n      <td>1.000000</td>\n      <td>80.000000</td>\n      <td>8.000000</td>\n      <td>9.000000</td>\n      <td>512.329200</td>\n      <td>328.000000</td>\n    </tr>\n  </tbody>\n</table>\n</div>"
     },
     "metadata": {},
     "execution_count": 406
    }
   ],
   "source": [
    "# General statistics\n",
    "titanic.describe()"
   ]
  },
  {
   "cell_type": "code",
   "execution_count": 407,
   "metadata": {},
   "outputs": [
    {
     "output_type": "execute_result",
     "data": {
      "text/plain": [
       "(1309, 14)"
      ]
     },
     "metadata": {},
     "execution_count": 407
    }
   ],
   "source": [
    "# Shape of the dataframe\n",
    "titanic.shape"
   ]
  },
  {
   "cell_type": "code",
   "execution_count": 5,
   "metadata": {},
   "outputs": [
    {
     "data": {
      "text/html": [
       "<div>\n",
       "<style scoped>\n",
       "    .dataframe tbody tr th:only-of-type {\n",
       "        vertical-align: middle;\n",
       "    }\n",
       "\n",
       "    .dataframe tbody tr th {\n",
       "        vertical-align: top;\n",
       "    }\n",
       "\n",
       "    .dataframe thead th {\n",
       "        text-align: right;\n",
       "    }\n",
       "</style>\n",
       "<table border=\"1\" class=\"dataframe\">\n",
       "  <thead>\n",
       "    <tr style=\"text-align: right;\">\n",
       "      <th></th>\n",
       "      <th>pclass</th>\n",
       "      <th>survived</th>\n",
       "      <th>name</th>\n",
       "      <th>sex</th>\n",
       "      <th>age</th>\n",
       "      <th>sibsp</th>\n",
       "      <th>parch</th>\n",
       "      <th>ticket</th>\n",
       "      <th>fare</th>\n",
       "      <th>cabin</th>\n",
       "      <th>embarked</th>\n",
       "      <th>boat</th>\n",
       "      <th>body</th>\n",
       "      <th>home.dest</th>\n",
       "    </tr>\n",
       "  </thead>\n",
       "  <tbody>\n",
       "    <tr>\n",
       "      <th>0</th>\n",
       "      <td>1</td>\n",
       "      <td>1</td>\n",
       "      <td>Allen, Miss. Elisabeth Walton</td>\n",
       "      <td>female</td>\n",
       "      <td>29.00</td>\n",
       "      <td>0</td>\n",
       "      <td>0</td>\n",
       "      <td>24160</td>\n",
       "      <td>211.3375</td>\n",
       "      <td>B5</td>\n",
       "      <td>S</td>\n",
       "      <td>2</td>\n",
       "      <td>NaN</td>\n",
       "      <td>St Louis, MO</td>\n",
       "    </tr>\n",
       "    <tr>\n",
       "      <th>1</th>\n",
       "      <td>1</td>\n",
       "      <td>1</td>\n",
       "      <td>Allison, Master. Hudson Trevor</td>\n",
       "      <td>male</td>\n",
       "      <td>0.92</td>\n",
       "      <td>1</td>\n",
       "      <td>2</td>\n",
       "      <td>113781</td>\n",
       "      <td>151.5500</td>\n",
       "      <td>C22 C26</td>\n",
       "      <td>S</td>\n",
       "      <td>11</td>\n",
       "      <td>NaN</td>\n",
       "      <td>Montreal, PQ / Chesterville, ON</td>\n",
       "    </tr>\n",
       "    <tr>\n",
       "      <th>2</th>\n",
       "      <td>1</td>\n",
       "      <td>0</td>\n",
       "      <td>Allison, Miss. Helen Loraine</td>\n",
       "      <td>female</td>\n",
       "      <td>2.00</td>\n",
       "      <td>1</td>\n",
       "      <td>2</td>\n",
       "      <td>113781</td>\n",
       "      <td>151.5500</td>\n",
       "      <td>C22 C26</td>\n",
       "      <td>S</td>\n",
       "      <td>NaN</td>\n",
       "      <td>NaN</td>\n",
       "      <td>Montreal, PQ / Chesterville, ON</td>\n",
       "    </tr>\n",
       "    <tr>\n",
       "      <th>3</th>\n",
       "      <td>1</td>\n",
       "      <td>0</td>\n",
       "      <td>Allison, Mr. Hudson Joshua Creighton</td>\n",
       "      <td>male</td>\n",
       "      <td>30.00</td>\n",
       "      <td>1</td>\n",
       "      <td>2</td>\n",
       "      <td>113781</td>\n",
       "      <td>151.5500</td>\n",
       "      <td>C22 C26</td>\n",
       "      <td>S</td>\n",
       "      <td>NaN</td>\n",
       "      <td>135.0</td>\n",
       "      <td>Montreal, PQ / Chesterville, ON</td>\n",
       "    </tr>\n",
       "    <tr>\n",
       "      <th>4</th>\n",
       "      <td>1</td>\n",
       "      <td>0</td>\n",
       "      <td>Allison, Mrs. Hudson J C (Bessie Waldo Daniels)</td>\n",
       "      <td>female</td>\n",
       "      <td>25.00</td>\n",
       "      <td>1</td>\n",
       "      <td>2</td>\n",
       "      <td>113781</td>\n",
       "      <td>151.5500</td>\n",
       "      <td>C22 C26</td>\n",
       "      <td>S</td>\n",
       "      <td>NaN</td>\n",
       "      <td>NaN</td>\n",
       "      <td>Montreal, PQ / Chesterville, ON</td>\n",
       "    </tr>\n",
       "  </tbody>\n",
       "</table>\n",
       "</div>"
      ],
      "text/plain": [
       "   pclass  survived                                             name     sex  \\\n",
       "0       1         1                    Allen, Miss. Elisabeth Walton  female   \n",
       "1       1         1                   Allison, Master. Hudson Trevor    male   \n",
       "2       1         0                     Allison, Miss. Helen Loraine  female   \n",
       "3       1         0             Allison, Mr. Hudson Joshua Creighton    male   \n",
       "4       1         0  Allison, Mrs. Hudson J C (Bessie Waldo Daniels)  female   \n",
       "\n",
       "     age  sibsp  parch  ticket      fare    cabin embarked boat   body  \\\n",
       "0  29.00      0      0   24160  211.3375       B5        S    2    NaN   \n",
       "1   0.92      1      2  113781  151.5500  C22 C26        S   11    NaN   \n",
       "2   2.00      1      2  113781  151.5500  C22 C26        S  NaN    NaN   \n",
       "3  30.00      1      2  113781  151.5500  C22 C26        S  NaN  135.0   \n",
       "4  25.00      1      2  113781  151.5500  C22 C26        S  NaN    NaN   \n",
       "\n",
       "                         home.dest  \n",
       "0                     St Louis, MO  \n",
       "1  Montreal, PQ / Chesterville, ON  \n",
       "2  Montreal, PQ / Chesterville, ON  \n",
       "3  Montreal, PQ / Chesterville, ON  \n",
       "4  Montreal, PQ / Chesterville, ON  "
      ]
     },
     "execution_count": 5,
     "metadata": {},
     "output_type": "execute_result"
    }
   ],
   "source": []
  },
  {
   "cell_type": "code",
   "execution_count": 6,
   "metadata": {},
   "outputs": [
    {
     "name": "stdout",
     "output_type": "stream",
     "text": [
      "<class 'pandas.core.frame.DataFrame'>\n",
      "RangeIndex: 1309 entries, 0 to 1308\n",
      "Data columns (total 14 columns):\n",
      " #   Column     Non-Null Count  Dtype  \n",
      "---  ------     --------------  -----  \n",
      " 0   pclass     1309 non-null   int64  \n",
      " 1   survived   1309 non-null   int64  \n",
      " 2   name       1309 non-null   object \n",
      " 3   sex        1309 non-null   object \n",
      " 4   age        1046 non-null   float64\n",
      " 5   sibsp      1309 non-null   int64  \n",
      " 6   parch      1309 non-null   int64  \n",
      " 7   ticket     1309 non-null   object \n",
      " 8   fare       1308 non-null   float64\n",
      " 9   cabin      295 non-null    object \n",
      " 10  embarked   1307 non-null   object \n",
      " 11  boat       486 non-null    object \n",
      " 12  body       121 non-null    float64\n",
      " 13  home.dest  745 non-null    object \n",
      "dtypes: float64(3), int64(4), object(7)\n",
      "memory usage: 107.4+ KB\n"
     ]
    }
   ],
   "source": []
  },
  {
   "cell_type": "code",
   "execution_count": 8,
   "metadata": {},
   "outputs": [
    {
     "data": {
      "text/plain": [
       "pclass         int64\n",
       "survived       int64\n",
       "name          object\n",
       "sex           object\n",
       "age          float64\n",
       "sibsp          int64\n",
       "parch          int64\n",
       "ticket        object\n",
       "fare         float64\n",
       "cabin         object\n",
       "embarked      object\n",
       "boat          object\n",
       "body         float64\n",
       "home.dest     object\n",
       "dtype: object"
      ]
     },
     "execution_count": 8,
     "metadata": {},
     "output_type": "execute_result"
    }
   ],
   "source": []
  },
  {
   "cell_type": "code",
   "execution_count": 9,
   "metadata": {},
   "outputs": [
    {
     "data": {
      "text/plain": [
       "(1309, 14)"
      ]
     },
     "execution_count": 9,
     "metadata": {},
     "output_type": "execute_result"
    }
   ],
   "source": []
  },
  {
   "cell_type": "markdown",
   "metadata": {},
   "source": [
    "2. Create a separate dataframe with the columns `['name', 'sex', 'age']`, call it `people`\n",
    "\n",
    "It can be done two ways, do it both!"
   ]
  },
  {
   "cell_type": "code",
   "execution_count": 408,
   "metadata": {},
   "outputs": [
    {
     "output_type": "execute_result",
     "data": {
      "text/plain": [
       "                                                 name     sex    age\n",
       "0                       Allen, Miss. Elisabeth Walton  female  29.00\n",
       "1                      Allison, Master. Hudson Trevor    male   0.92\n",
       "2                        Allison, Miss. Helen Loraine  female   2.00\n",
       "3                Allison, Mr. Hudson Joshua Creighton    male  30.00\n",
       "4     Allison, Mrs. Hudson J C (Bessie Waldo Daniels)  female  25.00\n",
       "...                                               ...     ...    ...\n",
       "1304                             Zabour, Miss. Hileni  female  14.50\n",
       "1305                            Zabour, Miss. Thamine  female    NaN\n",
       "1306                        Zakarian, Mr. Mapriededer    male  26.50\n",
       "1307                              Zakarian, Mr. Ortin    male  27.00\n",
       "1308                               Zimmerman, Mr. Leo    male  29.00\n",
       "\n",
       "[1309 rows x 3 columns]"
      ],
      "text/html": "<div>\n<style scoped>\n    .dataframe tbody tr th:only-of-type {\n        vertical-align: middle;\n    }\n\n    .dataframe tbody tr th {\n        vertical-align: top;\n    }\n\n    .dataframe thead th {\n        text-align: right;\n    }\n</style>\n<table border=\"1\" class=\"dataframe\">\n  <thead>\n    <tr style=\"text-align: right;\">\n      <th></th>\n      <th>name</th>\n      <th>sex</th>\n      <th>age</th>\n    </tr>\n  </thead>\n  <tbody>\n    <tr>\n      <th>0</th>\n      <td>Allen, Miss. Elisabeth Walton</td>\n      <td>female</td>\n      <td>29.00</td>\n    </tr>\n    <tr>\n      <th>1</th>\n      <td>Allison, Master. Hudson Trevor</td>\n      <td>male</td>\n      <td>0.92</td>\n    </tr>\n    <tr>\n      <th>2</th>\n      <td>Allison, Miss. Helen Loraine</td>\n      <td>female</td>\n      <td>2.00</td>\n    </tr>\n    <tr>\n      <th>3</th>\n      <td>Allison, Mr. Hudson Joshua Creighton</td>\n      <td>male</td>\n      <td>30.00</td>\n    </tr>\n    <tr>\n      <th>4</th>\n      <td>Allison, Mrs. Hudson J C (Bessie Waldo Daniels)</td>\n      <td>female</td>\n      <td>25.00</td>\n    </tr>\n    <tr>\n      <th>...</th>\n      <td>...</td>\n      <td>...</td>\n      <td>...</td>\n    </tr>\n    <tr>\n      <th>1304</th>\n      <td>Zabour, Miss. Hileni</td>\n      <td>female</td>\n      <td>14.50</td>\n    </tr>\n    <tr>\n      <th>1305</th>\n      <td>Zabour, Miss. Thamine</td>\n      <td>female</td>\n      <td>NaN</td>\n    </tr>\n    <tr>\n      <th>1306</th>\n      <td>Zakarian, Mr. Mapriededer</td>\n      <td>male</td>\n      <td>26.50</td>\n    </tr>\n    <tr>\n      <th>1307</th>\n      <td>Zakarian, Mr. Ortin</td>\n      <td>male</td>\n      <td>27.00</td>\n    </tr>\n    <tr>\n      <th>1308</th>\n      <td>Zimmerman, Mr. Leo</td>\n      <td>male</td>\n      <td>29.00</td>\n    </tr>\n  </tbody>\n</table>\n<p>1309 rows × 3 columns</p>\n</div>"
     },
     "metadata": {},
     "execution_count": 408
    }
   ],
   "source": [
    "#your code\n",
    "# Metodo 1\n",
    "people = titanic[['name', 'sex', 'age']]\n",
    "people"
   ]
  },
  {
   "cell_type": "code",
   "execution_count": 409,
   "metadata": {},
   "outputs": [
    {
     "output_type": "execute_result",
     "data": {
      "text/plain": [
       "                                                 name     sex    age\n",
       "0                       Allen, Miss. Elisabeth Walton  female  29.00\n",
       "1                      Allison, Master. Hudson Trevor    male   0.92\n",
       "2                        Allison, Miss. Helen Loraine  female   2.00\n",
       "3                Allison, Mr. Hudson Joshua Creighton    male  30.00\n",
       "4     Allison, Mrs. Hudson J C (Bessie Waldo Daniels)  female  25.00\n",
       "...                                               ...     ...    ...\n",
       "1304                             Zabour, Miss. Hileni  female  14.50\n",
       "1305                            Zabour, Miss. Thamine  female    NaN\n",
       "1306                        Zakarian, Mr. Mapriededer    male  26.50\n",
       "1307                              Zakarian, Mr. Ortin    male  27.00\n",
       "1308                               Zimmerman, Mr. Leo    male  29.00\n",
       "\n",
       "[1309 rows x 3 columns]"
      ],
      "text/html": "<div>\n<style scoped>\n    .dataframe tbody tr th:only-of-type {\n        vertical-align: middle;\n    }\n\n    .dataframe tbody tr th {\n        vertical-align: top;\n    }\n\n    .dataframe thead th {\n        text-align: right;\n    }\n</style>\n<table border=\"1\" class=\"dataframe\">\n  <thead>\n    <tr style=\"text-align: right;\">\n      <th></th>\n      <th>name</th>\n      <th>sex</th>\n      <th>age</th>\n    </tr>\n  </thead>\n  <tbody>\n    <tr>\n      <th>0</th>\n      <td>Allen, Miss. Elisabeth Walton</td>\n      <td>female</td>\n      <td>29.00</td>\n    </tr>\n    <tr>\n      <th>1</th>\n      <td>Allison, Master. Hudson Trevor</td>\n      <td>male</td>\n      <td>0.92</td>\n    </tr>\n    <tr>\n      <th>2</th>\n      <td>Allison, Miss. Helen Loraine</td>\n      <td>female</td>\n      <td>2.00</td>\n    </tr>\n    <tr>\n      <th>3</th>\n      <td>Allison, Mr. Hudson Joshua Creighton</td>\n      <td>male</td>\n      <td>30.00</td>\n    </tr>\n    <tr>\n      <th>4</th>\n      <td>Allison, Mrs. Hudson J C (Bessie Waldo Daniels)</td>\n      <td>female</td>\n      <td>25.00</td>\n    </tr>\n    <tr>\n      <th>...</th>\n      <td>...</td>\n      <td>...</td>\n      <td>...</td>\n    </tr>\n    <tr>\n      <th>1304</th>\n      <td>Zabour, Miss. Hileni</td>\n      <td>female</td>\n      <td>14.50</td>\n    </tr>\n    <tr>\n      <th>1305</th>\n      <td>Zabour, Miss. Thamine</td>\n      <td>female</td>\n      <td>NaN</td>\n    </tr>\n    <tr>\n      <th>1306</th>\n      <td>Zakarian, Mr. Mapriededer</td>\n      <td>male</td>\n      <td>26.50</td>\n    </tr>\n    <tr>\n      <th>1307</th>\n      <td>Zakarian, Mr. Ortin</td>\n      <td>male</td>\n      <td>27.00</td>\n    </tr>\n    <tr>\n      <th>1308</th>\n      <td>Zimmerman, Mr. Leo</td>\n      <td>male</td>\n      <td>29.00</td>\n    </tr>\n  </tbody>\n</table>\n<p>1309 rows × 3 columns</p>\n</div>"
     },
     "metadata": {},
     "execution_count": 409
    }
   ],
   "source": [
    "# Metodo 2\n",
    "people = titanic.loc[:, 'name': 'age']\n",
    "people"
   ]
  },
  {
   "cell_type": "code",
   "execution_count": 11,
   "metadata": {},
   "outputs": [
    {
     "data": {
      "text/html": [
       "<div>\n",
       "<style scoped>\n",
       "    .dataframe tbody tr th:only-of-type {\n",
       "        vertical-align: middle;\n",
       "    }\n",
       "\n",
       "    .dataframe tbody tr th {\n",
       "        vertical-align: top;\n",
       "    }\n",
       "\n",
       "    .dataframe thead th {\n",
       "        text-align: right;\n",
       "    }\n",
       "</style>\n",
       "<table border=\"1\" class=\"dataframe\">\n",
       "  <thead>\n",
       "    <tr style=\"text-align: right;\">\n",
       "      <th></th>\n",
       "      <th>name</th>\n",
       "      <th>sex</th>\n",
       "      <th>age</th>\n",
       "    </tr>\n",
       "  </thead>\n",
       "  <tbody>\n",
       "    <tr>\n",
       "      <th>0</th>\n",
       "      <td>Allen, Miss. Elisabeth Walton</td>\n",
       "      <td>female</td>\n",
       "      <td>29.00</td>\n",
       "    </tr>\n",
       "    <tr>\n",
       "      <th>1</th>\n",
       "      <td>Allison, Master. Hudson Trevor</td>\n",
       "      <td>male</td>\n",
       "      <td>0.92</td>\n",
       "    </tr>\n",
       "    <tr>\n",
       "      <th>2</th>\n",
       "      <td>Allison, Miss. Helen Loraine</td>\n",
       "      <td>female</td>\n",
       "      <td>2.00</td>\n",
       "    </tr>\n",
       "    <tr>\n",
       "      <th>3</th>\n",
       "      <td>Allison, Mr. Hudson Joshua Creighton</td>\n",
       "      <td>male</td>\n",
       "      <td>30.00</td>\n",
       "    </tr>\n",
       "    <tr>\n",
       "      <th>4</th>\n",
       "      <td>Allison, Mrs. Hudson J C (Bessie Waldo Daniels)</td>\n",
       "      <td>female</td>\n",
       "      <td>25.00</td>\n",
       "    </tr>\n",
       "    <tr>\n",
       "      <th>...</th>\n",
       "      <td>...</td>\n",
       "      <td>...</td>\n",
       "      <td>...</td>\n",
       "    </tr>\n",
       "    <tr>\n",
       "      <th>1304</th>\n",
       "      <td>Zabour, Miss. Hileni</td>\n",
       "      <td>female</td>\n",
       "      <td>14.50</td>\n",
       "    </tr>\n",
       "    <tr>\n",
       "      <th>1305</th>\n",
       "      <td>Zabour, Miss. Thamine</td>\n",
       "      <td>female</td>\n",
       "      <td>NaN</td>\n",
       "    </tr>\n",
       "    <tr>\n",
       "      <th>1306</th>\n",
       "      <td>Zakarian, Mr. Mapriededer</td>\n",
       "      <td>male</td>\n",
       "      <td>26.50</td>\n",
       "    </tr>\n",
       "    <tr>\n",
       "      <th>1307</th>\n",
       "      <td>Zakarian, Mr. Ortin</td>\n",
       "      <td>male</td>\n",
       "      <td>27.00</td>\n",
       "    </tr>\n",
       "    <tr>\n",
       "      <th>1308</th>\n",
       "      <td>Zimmerman, Mr. Leo</td>\n",
       "      <td>male</td>\n",
       "      <td>29.00</td>\n",
       "    </tr>\n",
       "  </tbody>\n",
       "</table>\n",
       "<p>1309 rows × 3 columns</p>\n",
       "</div>"
      ],
      "text/plain": [
       "                                                 name     sex    age\n",
       "0                       Allen, Miss. Elisabeth Walton  female  29.00\n",
       "1                      Allison, Master. Hudson Trevor    male   0.92\n",
       "2                        Allison, Miss. Helen Loraine  female   2.00\n",
       "3                Allison, Mr. Hudson Joshua Creighton    male  30.00\n",
       "4     Allison, Mrs. Hudson J C (Bessie Waldo Daniels)  female  25.00\n",
       "...                                               ...     ...    ...\n",
       "1304                             Zabour, Miss. Hileni  female  14.50\n",
       "1305                            Zabour, Miss. Thamine  female    NaN\n",
       "1306                        Zakarian, Mr. Mapriededer    male  26.50\n",
       "1307                              Zakarian, Mr. Ortin    male  27.00\n",
       "1308                               Zimmerman, Mr. Leo    male  29.00\n",
       "\n",
       "[1309 rows x 3 columns]"
      ]
     },
     "execution_count": 11,
     "metadata": {},
     "output_type": "execute_result"
    }
   ],
   "source": []
  },
  {
   "cell_type": "markdown",
   "metadata": {},
   "source": [
    "3. Print the output of `people` showing the first three rows and the last four rows, using `append`,`tail` and `head`"
   ]
  },
  {
   "cell_type": "code",
   "execution_count": 410,
   "metadata": {},
   "outputs": [
    {
     "output_type": "execute_result",
     "data": {
      "text/plain": [
       "                             name     sex    age\n",
       "0   Allen, Miss. Elisabeth Walton  female  29.00\n",
       "1  Allison, Master. Hudson Trevor    male   0.92\n",
       "2    Allison, Miss. Helen Loraine  female   2.00"
      ],
      "text/html": "<div>\n<style scoped>\n    .dataframe tbody tr th:only-of-type {\n        vertical-align: middle;\n    }\n\n    .dataframe tbody tr th {\n        vertical-align: top;\n    }\n\n    .dataframe thead th {\n        text-align: right;\n    }\n</style>\n<table border=\"1\" class=\"dataframe\">\n  <thead>\n    <tr style=\"text-align: right;\">\n      <th></th>\n      <th>name</th>\n      <th>sex</th>\n      <th>age</th>\n    </tr>\n  </thead>\n  <tbody>\n    <tr>\n      <th>0</th>\n      <td>Allen, Miss. Elisabeth Walton</td>\n      <td>female</td>\n      <td>29.00</td>\n    </tr>\n    <tr>\n      <th>1</th>\n      <td>Allison, Master. Hudson Trevor</td>\n      <td>male</td>\n      <td>0.92</td>\n    </tr>\n    <tr>\n      <th>2</th>\n      <td>Allison, Miss. Helen Loraine</td>\n      <td>female</td>\n      <td>2.00</td>\n    </tr>\n  </tbody>\n</table>\n</div>"
     },
     "metadata": {},
     "execution_count": 410
    }
   ],
   "source": [
    "# your code\n",
    "# Primeros 3 usando head\n",
    "people.head(3)"
   ]
  },
  {
   "cell_type": "code",
   "execution_count": 411,
   "metadata": {},
   "outputs": [
    {
     "output_type": "execute_result",
     "data": {
      "text/plain": [
       "                           name     sex   age\n",
       "1305      Zabour, Miss. Thamine  female   NaN\n",
       "1306  Zakarian, Mr. Mapriededer    male  26.5\n",
       "1307        Zakarian, Mr. Ortin    male  27.0\n",
       "1308         Zimmerman, Mr. Leo    male  29.0"
      ],
      "text/html": "<div>\n<style scoped>\n    .dataframe tbody tr th:only-of-type {\n        vertical-align: middle;\n    }\n\n    .dataframe tbody tr th {\n        vertical-align: top;\n    }\n\n    .dataframe thead th {\n        text-align: right;\n    }\n</style>\n<table border=\"1\" class=\"dataframe\">\n  <thead>\n    <tr style=\"text-align: right;\">\n      <th></th>\n      <th>name</th>\n      <th>sex</th>\n      <th>age</th>\n    </tr>\n  </thead>\n  <tbody>\n    <tr>\n      <th>1305</th>\n      <td>Zabour, Miss. Thamine</td>\n      <td>female</td>\n      <td>NaN</td>\n    </tr>\n    <tr>\n      <th>1306</th>\n      <td>Zakarian, Mr. Mapriededer</td>\n      <td>male</td>\n      <td>26.5</td>\n    </tr>\n    <tr>\n      <th>1307</th>\n      <td>Zakarian, Mr. Ortin</td>\n      <td>male</td>\n      <td>27.0</td>\n    </tr>\n    <tr>\n      <th>1308</th>\n      <td>Zimmerman, Mr. Leo</td>\n      <td>male</td>\n      <td>29.0</td>\n    </tr>\n  </tbody>\n</table>\n</div>"
     },
     "metadata": {},
     "execution_count": 411
    }
   ],
   "source": [
    "# ultimos 4 usando tail\n",
    "people.tail(4)"
   ]
  },
  {
   "cell_type": "code",
   "execution_count": 412,
   "metadata": {},
   "outputs": [
    {
     "output_type": "execute_result",
     "data": {
      "text/plain": [
       "                                name     sex    age\n",
       "0      Allen, Miss. Elisabeth Walton  female  29.00\n",
       "1     Allison, Master. Hudson Trevor    male   0.92\n",
       "2       Allison, Miss. Helen Loraine  female   2.00\n",
       "1305           Zabour, Miss. Thamine  female    NaN\n",
       "1306       Zakarian, Mr. Mapriededer    male  26.50\n",
       "1307             Zakarian, Mr. Ortin    male  27.00\n",
       "1308              Zimmerman, Mr. Leo    male  29.00"
      ],
      "text/html": "<div>\n<style scoped>\n    .dataframe tbody tr th:only-of-type {\n        vertical-align: middle;\n    }\n\n    .dataframe tbody tr th {\n        vertical-align: top;\n    }\n\n    .dataframe thead th {\n        text-align: right;\n    }\n</style>\n<table border=\"1\" class=\"dataframe\">\n  <thead>\n    <tr style=\"text-align: right;\">\n      <th></th>\n      <th>name</th>\n      <th>sex</th>\n      <th>age</th>\n    </tr>\n  </thead>\n  <tbody>\n    <tr>\n      <th>0</th>\n      <td>Allen, Miss. Elisabeth Walton</td>\n      <td>female</td>\n      <td>29.00</td>\n    </tr>\n    <tr>\n      <th>1</th>\n      <td>Allison, Master. Hudson Trevor</td>\n      <td>male</td>\n      <td>0.92</td>\n    </tr>\n    <tr>\n      <th>2</th>\n      <td>Allison, Miss. Helen Loraine</td>\n      <td>female</td>\n      <td>2.00</td>\n    </tr>\n    <tr>\n      <th>1305</th>\n      <td>Zabour, Miss. Thamine</td>\n      <td>female</td>\n      <td>NaN</td>\n    </tr>\n    <tr>\n      <th>1306</th>\n      <td>Zakarian, Mr. Mapriededer</td>\n      <td>male</td>\n      <td>26.50</td>\n    </tr>\n    <tr>\n      <th>1307</th>\n      <td>Zakarian, Mr. Ortin</td>\n      <td>male</td>\n      <td>27.00</td>\n    </tr>\n    <tr>\n      <th>1308</th>\n      <td>Zimmerman, Mr. Leo</td>\n      <td>male</td>\n      <td>29.00</td>\n    </tr>\n  </tbody>\n</table>\n</div>"
     },
     "metadata": {},
     "execution_count": 412
    }
   ],
   "source": [
    "# ahora todo junto\n",
    "people.head(3).append(people.tail(4))"
   ]
  },
  {
   "cell_type": "code",
   "execution_count": 12,
   "metadata": {},
   "outputs": [
    {
     "data": {
      "text/html": [
       "<div>\n",
       "<style scoped>\n",
       "    .dataframe tbody tr th:only-of-type {\n",
       "        vertical-align: middle;\n",
       "    }\n",
       "\n",
       "    .dataframe tbody tr th {\n",
       "        vertical-align: top;\n",
       "    }\n",
       "\n",
       "    .dataframe thead th {\n",
       "        text-align: right;\n",
       "    }\n",
       "</style>\n",
       "<table border=\"1\" class=\"dataframe\">\n",
       "  <thead>\n",
       "    <tr style=\"text-align: right;\">\n",
       "      <th></th>\n",
       "      <th>pclass</th>\n",
       "      <th>survived</th>\n",
       "      <th>name</th>\n",
       "      <th>sex</th>\n",
       "      <th>age</th>\n",
       "      <th>sibsp</th>\n",
       "      <th>parch</th>\n",
       "      <th>ticket</th>\n",
       "      <th>fare</th>\n",
       "      <th>cabin</th>\n",
       "      <th>embarked</th>\n",
       "      <th>boat</th>\n",
       "      <th>body</th>\n",
       "      <th>home.dest</th>\n",
       "    </tr>\n",
       "  </thead>\n",
       "  <tbody>\n",
       "    <tr>\n",
       "      <th>0</th>\n",
       "      <td>1</td>\n",
       "      <td>1</td>\n",
       "      <td>Allen, Miss. Elisabeth Walton</td>\n",
       "      <td>female</td>\n",
       "      <td>29.00</td>\n",
       "      <td>0</td>\n",
       "      <td>0</td>\n",
       "      <td>24160</td>\n",
       "      <td>211.3375</td>\n",
       "      <td>B5</td>\n",
       "      <td>S</td>\n",
       "      <td>2</td>\n",
       "      <td>NaN</td>\n",
       "      <td>St Louis, MO</td>\n",
       "    </tr>\n",
       "    <tr>\n",
       "      <th>1</th>\n",
       "      <td>1</td>\n",
       "      <td>1</td>\n",
       "      <td>Allison, Master. Hudson Trevor</td>\n",
       "      <td>male</td>\n",
       "      <td>0.92</td>\n",
       "      <td>1</td>\n",
       "      <td>2</td>\n",
       "      <td>113781</td>\n",
       "      <td>151.5500</td>\n",
       "      <td>C22 C26</td>\n",
       "      <td>S</td>\n",
       "      <td>11</td>\n",
       "      <td>NaN</td>\n",
       "      <td>Montreal, PQ / Chesterville, ON</td>\n",
       "    </tr>\n",
       "    <tr>\n",
       "      <th>2</th>\n",
       "      <td>1</td>\n",
       "      <td>0</td>\n",
       "      <td>Allison, Miss. Helen Loraine</td>\n",
       "      <td>female</td>\n",
       "      <td>2.00</td>\n",
       "      <td>1</td>\n",
       "      <td>2</td>\n",
       "      <td>113781</td>\n",
       "      <td>151.5500</td>\n",
       "      <td>C22 C26</td>\n",
       "      <td>S</td>\n",
       "      <td>NaN</td>\n",
       "      <td>NaN</td>\n",
       "      <td>Montreal, PQ / Chesterville, ON</td>\n",
       "    </tr>\n",
       "    <tr>\n",
       "      <th>1305</th>\n",
       "      <td>3</td>\n",
       "      <td>0</td>\n",
       "      <td>Zabour, Miss. Thamine</td>\n",
       "      <td>female</td>\n",
       "      <td>NaN</td>\n",
       "      <td>1</td>\n",
       "      <td>0</td>\n",
       "      <td>2665</td>\n",
       "      <td>14.4542</td>\n",
       "      <td>NaN</td>\n",
       "      <td>C</td>\n",
       "      <td>NaN</td>\n",
       "      <td>NaN</td>\n",
       "      <td>NaN</td>\n",
       "    </tr>\n",
       "    <tr>\n",
       "      <th>1306</th>\n",
       "      <td>3</td>\n",
       "      <td>0</td>\n",
       "      <td>Zakarian, Mr. Mapriededer</td>\n",
       "      <td>male</td>\n",
       "      <td>26.50</td>\n",
       "      <td>0</td>\n",
       "      <td>0</td>\n",
       "      <td>2656</td>\n",
       "      <td>7.2250</td>\n",
       "      <td>NaN</td>\n",
       "      <td>C</td>\n",
       "      <td>NaN</td>\n",
       "      <td>304.0</td>\n",
       "      <td>NaN</td>\n",
       "    </tr>\n",
       "    <tr>\n",
       "      <th>1307</th>\n",
       "      <td>3</td>\n",
       "      <td>0</td>\n",
       "      <td>Zakarian, Mr. Ortin</td>\n",
       "      <td>male</td>\n",
       "      <td>27.00</td>\n",
       "      <td>0</td>\n",
       "      <td>0</td>\n",
       "      <td>2670</td>\n",
       "      <td>7.2250</td>\n",
       "      <td>NaN</td>\n",
       "      <td>C</td>\n",
       "      <td>NaN</td>\n",
       "      <td>NaN</td>\n",
       "      <td>NaN</td>\n",
       "    </tr>\n",
       "    <tr>\n",
       "      <th>1308</th>\n",
       "      <td>3</td>\n",
       "      <td>0</td>\n",
       "      <td>Zimmerman, Mr. Leo</td>\n",
       "      <td>male</td>\n",
       "      <td>29.00</td>\n",
       "      <td>0</td>\n",
       "      <td>0</td>\n",
       "      <td>315082</td>\n",
       "      <td>7.8750</td>\n",
       "      <td>NaN</td>\n",
       "      <td>S</td>\n",
       "      <td>NaN</td>\n",
       "      <td>NaN</td>\n",
       "      <td>NaN</td>\n",
       "    </tr>\n",
       "  </tbody>\n",
       "</table>\n",
       "</div>"
      ],
      "text/plain": [
       "      pclass  survived                            name     sex    age  sibsp  \\\n",
       "0          1         1   Allen, Miss. Elisabeth Walton  female  29.00      0   \n",
       "1          1         1  Allison, Master. Hudson Trevor    male   0.92      1   \n",
       "2          1         0    Allison, Miss. Helen Loraine  female   2.00      1   \n",
       "1305       3         0           Zabour, Miss. Thamine  female    NaN      1   \n",
       "1306       3         0       Zakarian, Mr. Mapriededer    male  26.50      0   \n",
       "1307       3         0             Zakarian, Mr. Ortin    male  27.00      0   \n",
       "1308       3         0              Zimmerman, Mr. Leo    male  29.00      0   \n",
       "\n",
       "      parch  ticket      fare    cabin embarked boat   body  \\\n",
       "0         0   24160  211.3375       B5        S    2    NaN   \n",
       "1         2  113781  151.5500  C22 C26        S   11    NaN   \n",
       "2         2  113781  151.5500  C22 C26        S  NaN    NaN   \n",
       "1305      0    2665   14.4542      NaN        C  NaN    NaN   \n",
       "1306      0    2656    7.2250      NaN        C  NaN  304.0   \n",
       "1307      0    2670    7.2250      NaN        C  NaN    NaN   \n",
       "1308      0  315082    7.8750      NaN        S  NaN    NaN   \n",
       "\n",
       "                            home.dest  \n",
       "0                        St Louis, MO  \n",
       "1     Montreal, PQ / Chesterville, ON  \n",
       "2     Montreal, PQ / Chesterville, ON  \n",
       "1305                              NaN  \n",
       "1306                              NaN  \n",
       "1307                              NaN  \n",
       "1308                              NaN  "
      ]
     },
     "execution_count": 12,
     "metadata": {},
     "output_type": "execute_result"
    }
   ],
   "source": []
  },
  {
   "cell_type": "markdown",
   "metadata": {},
   "source": [
    "4. Slice the row from 3 to 9, call it `s_titanic`"
   ]
  },
  {
   "cell_type": "code",
   "execution_count": 413,
   "metadata": {},
   "outputs": [
    {
     "output_type": "execute_result",
     "data": {
      "text/plain": [
       "   pclass  survived                                             name     sex  \\\n",
       "3       1         0             Allison, Mr. Hudson Joshua Creighton    male   \n",
       "4       1         0  Allison, Mrs. Hudson J C (Bessie Waldo Daniels)  female   \n",
       "5       1         1                              Anderson, Mr. Harry    male   \n",
       "6       1         1                Andrews, Miss. Kornelia Theodosia  female   \n",
       "7       1         0                           Andrews, Mr. Thomas Jr    male   \n",
       "8       1         1    Appleton, Mrs. Edward Dale (Charlotte Lamson)  female   \n",
       "9       1         0                          Artagaveytia, Mr. Ramon    male   \n",
       "\n",
       "    age  sibsp  parch    ticket      fare    cabin embarked boat   body  \\\n",
       "3  30.0      1      2    113781  151.5500  C22 C26        S  NaN  135.0   \n",
       "4  25.0      1      2    113781  151.5500  C22 C26        S  NaN    NaN   \n",
       "5  48.0      0      0     19952   26.5500      E12        S    3    NaN   \n",
       "6  63.0      1      0     13502   77.9583       D7        S   10    NaN   \n",
       "7  39.0      0      0    112050    0.0000      A36        S  NaN    NaN   \n",
       "8  53.0      2      0     11769   51.4792     C101        S    D    NaN   \n",
       "9  71.0      0      0  PC 17609   49.5042      NaN        C  NaN   22.0   \n",
       "\n",
       "                         home.dest  \n",
       "3  Montreal, PQ / Chesterville, ON  \n",
       "4  Montreal, PQ / Chesterville, ON  \n",
       "5                     New York, NY  \n",
       "6                       Hudson, NY  \n",
       "7                      Belfast, NI  \n",
       "8              Bayside, Queens, NY  \n",
       "9              Montevideo, Uruguay  "
      ],
      "text/html": "<div>\n<style scoped>\n    .dataframe tbody tr th:only-of-type {\n        vertical-align: middle;\n    }\n\n    .dataframe tbody tr th {\n        vertical-align: top;\n    }\n\n    .dataframe thead th {\n        text-align: right;\n    }\n</style>\n<table border=\"1\" class=\"dataframe\">\n  <thead>\n    <tr style=\"text-align: right;\">\n      <th></th>\n      <th>pclass</th>\n      <th>survived</th>\n      <th>name</th>\n      <th>sex</th>\n      <th>age</th>\n      <th>sibsp</th>\n      <th>parch</th>\n      <th>ticket</th>\n      <th>fare</th>\n      <th>cabin</th>\n      <th>embarked</th>\n      <th>boat</th>\n      <th>body</th>\n      <th>home.dest</th>\n    </tr>\n  </thead>\n  <tbody>\n    <tr>\n      <th>3</th>\n      <td>1</td>\n      <td>0</td>\n      <td>Allison, Mr. Hudson Joshua Creighton</td>\n      <td>male</td>\n      <td>30.0</td>\n      <td>1</td>\n      <td>2</td>\n      <td>113781</td>\n      <td>151.5500</td>\n      <td>C22 C26</td>\n      <td>S</td>\n      <td>NaN</td>\n      <td>135.0</td>\n      <td>Montreal, PQ / Chesterville, ON</td>\n    </tr>\n    <tr>\n      <th>4</th>\n      <td>1</td>\n      <td>0</td>\n      <td>Allison, Mrs. Hudson J C (Bessie Waldo Daniels)</td>\n      <td>female</td>\n      <td>25.0</td>\n      <td>1</td>\n      <td>2</td>\n      <td>113781</td>\n      <td>151.5500</td>\n      <td>C22 C26</td>\n      <td>S</td>\n      <td>NaN</td>\n      <td>NaN</td>\n      <td>Montreal, PQ / Chesterville, ON</td>\n    </tr>\n    <tr>\n      <th>5</th>\n      <td>1</td>\n      <td>1</td>\n      <td>Anderson, Mr. Harry</td>\n      <td>male</td>\n      <td>48.0</td>\n      <td>0</td>\n      <td>0</td>\n      <td>19952</td>\n      <td>26.5500</td>\n      <td>E12</td>\n      <td>S</td>\n      <td>3</td>\n      <td>NaN</td>\n      <td>New York, NY</td>\n    </tr>\n    <tr>\n      <th>6</th>\n      <td>1</td>\n      <td>1</td>\n      <td>Andrews, Miss. Kornelia Theodosia</td>\n      <td>female</td>\n      <td>63.0</td>\n      <td>1</td>\n      <td>0</td>\n      <td>13502</td>\n      <td>77.9583</td>\n      <td>D7</td>\n      <td>S</td>\n      <td>10</td>\n      <td>NaN</td>\n      <td>Hudson, NY</td>\n    </tr>\n    <tr>\n      <th>7</th>\n      <td>1</td>\n      <td>0</td>\n      <td>Andrews, Mr. Thomas Jr</td>\n      <td>male</td>\n      <td>39.0</td>\n      <td>0</td>\n      <td>0</td>\n      <td>112050</td>\n      <td>0.0000</td>\n      <td>A36</td>\n      <td>S</td>\n      <td>NaN</td>\n      <td>NaN</td>\n      <td>Belfast, NI</td>\n    </tr>\n    <tr>\n      <th>8</th>\n      <td>1</td>\n      <td>1</td>\n      <td>Appleton, Mrs. Edward Dale (Charlotte Lamson)</td>\n      <td>female</td>\n      <td>53.0</td>\n      <td>2</td>\n      <td>0</td>\n      <td>11769</td>\n      <td>51.4792</td>\n      <td>C101</td>\n      <td>S</td>\n      <td>D</td>\n      <td>NaN</td>\n      <td>Bayside, Queens, NY</td>\n    </tr>\n    <tr>\n      <th>9</th>\n      <td>1</td>\n      <td>0</td>\n      <td>Artagaveytia, Mr. Ramon</td>\n      <td>male</td>\n      <td>71.0</td>\n      <td>0</td>\n      <td>0</td>\n      <td>PC 17609</td>\n      <td>49.5042</td>\n      <td>NaN</td>\n      <td>C</td>\n      <td>NaN</td>\n      <td>22.0</td>\n      <td>Montevideo, Uruguay</td>\n    </tr>\n  </tbody>\n</table>\n</div>"
     },
     "metadata": {},
     "execution_count": 413
    }
   ],
   "source": [
    "#your code\n",
    "s_titanic = titanic.iloc[3:10]\n",
    "s_titanic"
   ]
  },
  {
   "cell_type": "markdown",
   "metadata": {},
   "source": [
    "5. Slice the row from 40 to 63 in reverse order, call it `s_titanic_rev`"
   ]
  },
  {
   "cell_type": "code",
   "execution_count": 414,
   "metadata": {},
   "outputs": [
    {
     "output_type": "error",
     "ename": "IndexingError",
     "evalue": "Unalignable boolean Series provided as indexer (index of the boolean Series and of the indexed object do not match).",
     "traceback": [
      "\u001b[0;31m---------------------------------------------------------------------------\u001b[0m",
      "\u001b[0;31mIndexingError\u001b[0m                             Traceback (most recent call last)",
      "\u001b[0;32m<ipython-input-414-e0e3ccc9afc1>\u001b[0m in \u001b[0;36m<module>\u001b[0;34m\u001b[0m\n\u001b[0;32m----> 1\u001b[0;31m \u001b[0mtitanic\u001b[0m\u001b[0;34m.\u001b[0m\u001b[0mloc\u001b[0m\u001b[0;34m[\u001b[0m\u001b[0mtitanic\u001b[0m\u001b[0;34m[\u001b[0m\u001b[0mtitanic\u001b[0m\u001b[0;34m[\u001b[0m\u001b[0;34m'survived'\u001b[0m\u001b[0;34m]\u001b[0m \u001b[0;34m==\u001b[0m \u001b[0;36m0\u001b[0m\u001b[0;34m]\u001b[0m\u001b[0;34m[\u001b[0m\u001b[0;34m'age'\u001b[0m\u001b[0;34m]\u001b[0m \u001b[0;34m==\u001b[0m \u001b[0mtitanic\u001b[0m\u001b[0;34m[\u001b[0m\u001b[0mtitanic\u001b[0m\u001b[0;34m[\u001b[0m\u001b[0;34m'survived'\u001b[0m\u001b[0;34m]\u001b[0m \u001b[0;34m==\u001b[0m \u001b[0;36m0\u001b[0m\u001b[0;34m]\u001b[0m\u001b[0;34m[\u001b[0m\u001b[0;34m'age'\u001b[0m\u001b[0;34m]\u001b[0m\u001b[0;34m.\u001b[0m\u001b[0mmax\u001b[0m\u001b[0;34m(\u001b[0m\u001b[0;34m)\u001b[0m\u001b[0;34m]\u001b[0m\u001b[0;34m\u001b[0m\u001b[0;34m\u001b[0m\u001b[0m\n\u001b[0m",
      "\u001b[0;32m/Library/Frameworks/Python.framework/Versions/3.9/lib/python3.9/site-packages/pandas/core/indexing.py\u001b[0m in \u001b[0;36m__getitem__\u001b[0;34m(self, key)\u001b[0m\n\u001b[1;32m    877\u001b[0m \u001b[0;34m\u001b[0m\u001b[0m\n\u001b[1;32m    878\u001b[0m             \u001b[0mmaybe_callable\u001b[0m \u001b[0;34m=\u001b[0m \u001b[0mcom\u001b[0m\u001b[0;34m.\u001b[0m\u001b[0mapply_if_callable\u001b[0m\u001b[0;34m(\u001b[0m\u001b[0mkey\u001b[0m\u001b[0;34m,\u001b[0m \u001b[0mself\u001b[0m\u001b[0;34m.\u001b[0m\u001b[0mobj\u001b[0m\u001b[0;34m)\u001b[0m\u001b[0;34m\u001b[0m\u001b[0;34m\u001b[0m\u001b[0m\n\u001b[0;32m--> 879\u001b[0;31m             \u001b[0;32mreturn\u001b[0m \u001b[0mself\u001b[0m\u001b[0;34m.\u001b[0m\u001b[0m_getitem_axis\u001b[0m\u001b[0;34m(\u001b[0m\u001b[0mmaybe_callable\u001b[0m\u001b[0;34m,\u001b[0m \u001b[0maxis\u001b[0m\u001b[0;34m=\u001b[0m\u001b[0maxis\u001b[0m\u001b[0;34m)\u001b[0m\u001b[0;34m\u001b[0m\u001b[0;34m\u001b[0m\u001b[0m\n\u001b[0m\u001b[1;32m    880\u001b[0m \u001b[0;34m\u001b[0m\u001b[0m\n\u001b[1;32m    881\u001b[0m     \u001b[0;32mdef\u001b[0m \u001b[0m_is_scalar_access\u001b[0m\u001b[0;34m(\u001b[0m\u001b[0mself\u001b[0m\u001b[0;34m,\u001b[0m \u001b[0mkey\u001b[0m\u001b[0;34m:\u001b[0m \u001b[0mTuple\u001b[0m\u001b[0;34m)\u001b[0m\u001b[0;34m:\u001b[0m\u001b[0;34m\u001b[0m\u001b[0;34m\u001b[0m\u001b[0m\n",
      "\u001b[0;32m/Library/Frameworks/Python.framework/Versions/3.9/lib/python3.9/site-packages/pandas/core/indexing.py\u001b[0m in \u001b[0;36m_getitem_axis\u001b[0;34m(self, key, axis)\u001b[0m\n\u001b[1;32m   1088\u001b[0m             \u001b[0;32mreturn\u001b[0m \u001b[0mself\u001b[0m\u001b[0;34m.\u001b[0m\u001b[0m_get_slice_axis\u001b[0m\u001b[0;34m(\u001b[0m\u001b[0mkey\u001b[0m\u001b[0;34m,\u001b[0m \u001b[0maxis\u001b[0m\u001b[0;34m=\u001b[0m\u001b[0maxis\u001b[0m\u001b[0;34m)\u001b[0m\u001b[0;34m\u001b[0m\u001b[0;34m\u001b[0m\u001b[0m\n\u001b[1;32m   1089\u001b[0m         \u001b[0;32melif\u001b[0m \u001b[0mcom\u001b[0m\u001b[0;34m.\u001b[0m\u001b[0mis_bool_indexer\u001b[0m\u001b[0;34m(\u001b[0m\u001b[0mkey\u001b[0m\u001b[0;34m)\u001b[0m\u001b[0;34m:\u001b[0m\u001b[0;34m\u001b[0m\u001b[0;34m\u001b[0m\u001b[0m\n\u001b[0;32m-> 1090\u001b[0;31m             \u001b[0;32mreturn\u001b[0m \u001b[0mself\u001b[0m\u001b[0;34m.\u001b[0m\u001b[0m_getbool_axis\u001b[0m\u001b[0;34m(\u001b[0m\u001b[0mkey\u001b[0m\u001b[0;34m,\u001b[0m \u001b[0maxis\u001b[0m\u001b[0;34m=\u001b[0m\u001b[0maxis\u001b[0m\u001b[0;34m)\u001b[0m\u001b[0;34m\u001b[0m\u001b[0;34m\u001b[0m\u001b[0m\n\u001b[0m\u001b[1;32m   1091\u001b[0m         \u001b[0;32melif\u001b[0m \u001b[0mis_list_like_indexer\u001b[0m\u001b[0;34m(\u001b[0m\u001b[0mkey\u001b[0m\u001b[0;34m)\u001b[0m\u001b[0;34m:\u001b[0m\u001b[0;34m\u001b[0m\u001b[0;34m\u001b[0m\u001b[0m\n\u001b[1;32m   1092\u001b[0m \u001b[0;34m\u001b[0m\u001b[0m\n",
      "\u001b[0;32m/Library/Frameworks/Python.framework/Versions/3.9/lib/python3.9/site-packages/pandas/core/indexing.py\u001b[0m in \u001b[0;36m_getbool_axis\u001b[0;34m(self, key, axis)\u001b[0m\n\u001b[1;32m    894\u001b[0m         \u001b[0;31m# caller is responsible for ensuring non-None axis\u001b[0m\u001b[0;34m\u001b[0m\u001b[0;34m\u001b[0m\u001b[0;34m\u001b[0m\u001b[0m\n\u001b[1;32m    895\u001b[0m         \u001b[0mlabels\u001b[0m \u001b[0;34m=\u001b[0m \u001b[0mself\u001b[0m\u001b[0;34m.\u001b[0m\u001b[0mobj\u001b[0m\u001b[0;34m.\u001b[0m\u001b[0m_get_axis\u001b[0m\u001b[0;34m(\u001b[0m\u001b[0maxis\u001b[0m\u001b[0;34m)\u001b[0m\u001b[0;34m\u001b[0m\u001b[0;34m\u001b[0m\u001b[0m\n\u001b[0;32m--> 896\u001b[0;31m         \u001b[0mkey\u001b[0m \u001b[0;34m=\u001b[0m \u001b[0mcheck_bool_indexer\u001b[0m\u001b[0;34m(\u001b[0m\u001b[0mlabels\u001b[0m\u001b[0;34m,\u001b[0m \u001b[0mkey\u001b[0m\u001b[0;34m)\u001b[0m\u001b[0;34m\u001b[0m\u001b[0;34m\u001b[0m\u001b[0m\n\u001b[0m\u001b[1;32m    897\u001b[0m         \u001b[0minds\u001b[0m \u001b[0;34m=\u001b[0m \u001b[0mkey\u001b[0m\u001b[0;34m.\u001b[0m\u001b[0mnonzero\u001b[0m\u001b[0;34m(\u001b[0m\u001b[0;34m)\u001b[0m\u001b[0;34m[\u001b[0m\u001b[0;36m0\u001b[0m\u001b[0;34m]\u001b[0m\u001b[0;34m\u001b[0m\u001b[0;34m\u001b[0m\u001b[0m\n\u001b[1;32m    898\u001b[0m         \u001b[0;32mreturn\u001b[0m \u001b[0mself\u001b[0m\u001b[0;34m.\u001b[0m\u001b[0mobj\u001b[0m\u001b[0;34m.\u001b[0m\u001b[0m_take_with_is_copy\u001b[0m\u001b[0;34m(\u001b[0m\u001b[0minds\u001b[0m\u001b[0;34m,\u001b[0m \u001b[0maxis\u001b[0m\u001b[0;34m=\u001b[0m\u001b[0maxis\u001b[0m\u001b[0;34m)\u001b[0m\u001b[0;34m\u001b[0m\u001b[0;34m\u001b[0m\u001b[0m\n",
      "\u001b[0;32m/Library/Frameworks/Python.framework/Versions/3.9/lib/python3.9/site-packages/pandas/core/indexing.py\u001b[0m in \u001b[0;36mcheck_bool_indexer\u001b[0;34m(index, key)\u001b[0m\n\u001b[1;32m   2180\u001b[0m         \u001b[0mmask\u001b[0m \u001b[0;34m=\u001b[0m \u001b[0misna\u001b[0m\u001b[0;34m(\u001b[0m\u001b[0mresult\u001b[0m\u001b[0;34m.\u001b[0m\u001b[0m_values\u001b[0m\u001b[0;34m)\u001b[0m\u001b[0;34m\u001b[0m\u001b[0;34m\u001b[0m\u001b[0m\n\u001b[1;32m   2181\u001b[0m         \u001b[0;32mif\u001b[0m \u001b[0mmask\u001b[0m\u001b[0;34m.\u001b[0m\u001b[0many\u001b[0m\u001b[0;34m(\u001b[0m\u001b[0;34m)\u001b[0m\u001b[0;34m:\u001b[0m\u001b[0;34m\u001b[0m\u001b[0;34m\u001b[0m\u001b[0m\n\u001b[0;32m-> 2182\u001b[0;31m             raise IndexingError(\n\u001b[0m\u001b[1;32m   2183\u001b[0m                 \u001b[0;34m\"Unalignable boolean Series provided as \"\u001b[0m\u001b[0;34m\u001b[0m\u001b[0;34m\u001b[0m\u001b[0m\n\u001b[1;32m   2184\u001b[0m                 \u001b[0;34m\"indexer (index of the boolean Series and of \"\u001b[0m\u001b[0;34m\u001b[0m\u001b[0;34m\u001b[0m\u001b[0m\n",
      "\u001b[0;31mIndexingError\u001b[0m: Unalignable boolean Series provided as indexer (index of the boolean Series and of the indexed object do not match)."
     ]
    }
   ],
   "source": [
    "titanic.loc[titanic[titanic['survived'] == 0]['age'] == titanic[titanic['survived'] == 0]['age'].max()]"
   ]
  },
  {
   "cell_type": "code",
   "execution_count": 398,
   "metadata": {},
   "outputs": [
    {
     "output_type": "execute_result",
     "data": {
      "text/plain": [
       "2       False\n",
       "3       False\n",
       "4       False\n",
       "7       False\n",
       "9       False\n",
       "        ...  \n",
       "1304    False\n",
       "1305    False\n",
       "1306    False\n",
       "1307    False\n",
       "1308    False\n",
       "Name: age, Length: 809, dtype: bool"
      ]
     },
     "metadata": {},
     "execution_count": 398
    }
   ],
   "source": [
    "titanic[titanic['survived'] == 0]['age'] == titanic[titanic['survived'] == 0]['age'].max()"
   ]
  },
  {
   "cell_type": "code",
   "execution_count": 353,
   "metadata": {},
   "outputs": [
    {
     "output_type": "execute_result",
     "data": {
      "text/plain": [
       "    pclass  survived                                               name  \\\n",
       "63       1         1  Chaffee, Mrs. Herbert Fuller (Carrie Constance...   \n",
       "62       1         0                        Chaffee, Mr. Herbert Fuller   \n",
       "61       1         1  Cavendish, Mrs. Tyrell William (Julia Florence...   \n",
       "60       1         0                      Cavendish, Mr. Tyrell William   \n",
       "59       1         1  Cassebeer, Mrs. Henry Arthur Jr (Eleanor Genev...   \n",
       "58       1         0                             Case, Mr. Howard Brown   \n",
       "57       1         1          Carter, Mrs. William Ernest (Lucile Polk)   \n",
       "56       1         1                         Carter, Mr. William Ernest   \n",
       "55       1         1                          Carter, Miss. Lucile Polk   \n",
       "54       1         1                Carter, Master. William Thornton II   \n",
       "53       1         0                             Carrau, Mr. Jose Pedro   \n",
       "52       1         0                            Carrau, Mr. Francisco M   \n",
       "51       1         0                           Carlsson, Mr. Frans Olof   \n",
       "50       1         1  Cardeza, Mrs. James Warburton Martinez (Charlo...   \n",
       "49       1         1                 Cardeza, Mr. Thomas Drake Martinez   \n",
       "48       1         1   Candee, Mrs. Edward (Helen Churchill Hungerford)   \n",
       "47       1         1                  Calderhead, Mr. Edward Pennington   \n",
       "46       1         0                              Cairns, Mr. Alexander   \n",
       "45       1         0                  Butt, Major. Archibald Willingham   \n",
       "44       1         1                    Burns, Miss. Elizabeth Margaret   \n",
       "43       1         1    Bucknell, Mrs. William Robert (Emma Eliza Ward)   \n",
       "42       1         1     Brown, Mrs. John Murray (Caroline Lane Lamson)   \n",
       "41       1         1          Brown, Mrs. James Joseph (Margaret Tobin)   \n",
       "40       1         0                          Brewe, Dr. Arthur Jackson   \n",
       "\n",
       "       sex   age  sibsp  parch       ticket      fare        cabin embarked  \\\n",
       "63  female  47.0      1      0  W.E.P. 5734   61.1750          E31        S   \n",
       "62    male  46.0      1      0  W.E.P. 5734   61.1750          E31        S   \n",
       "61  female  76.0      1      0        19877   78.8500          C46        S   \n",
       "60    male  36.0      1      0        19877   78.8500          C46        S   \n",
       "59  female   NaN      0      0        17770   27.7208          NaN        C   \n",
       "58    male  49.0      0      0        19924   26.0000          NaN        S   \n",
       "57  female  36.0      1      2       113760  120.0000      B96 B98        S   \n",
       "56    male  36.0      1      2       113760  120.0000      B96 B98        S   \n",
       "55  female  14.0      1      2       113760  120.0000      B96 B98        S   \n",
       "54    male  11.0      1      2       113760  120.0000      B96 B98        S   \n",
       "53    male  17.0      0      0       113059   47.1000          NaN        S   \n",
       "52    male  28.0      0      0       113059   47.1000          NaN        S   \n",
       "51    male  33.0      0      0          695    5.0000  B51 B53 B55        S   \n",
       "50  female  58.0      0      1     PC 17755  512.3292  B51 B53 B55        C   \n",
       "49    male  36.0      0      1     PC 17755  512.3292  B51 B53 B55        C   \n",
       "48  female  53.0      0      0     PC 17606   27.4458          NaN        C   \n",
       "47    male  42.0      0      0     PC 17476   26.2875          E24        S   \n",
       "46    male   NaN      0      0       113798   31.0000          NaN        S   \n",
       "45    male  45.0      0      0       113050   26.5500          B38        S   \n",
       "44  female  41.0      0      0        16966  134.5000          E40        C   \n",
       "43  female  60.0      0      0        11813   76.2917          D15        C   \n",
       "42  female  59.0      2      0        11769   51.4792         C101        S   \n",
       "41  female  44.0      0      0     PC 17610   27.7208           B4        C   \n",
       "40    male   NaN      0      0       112379   39.6000          NaN        C   \n",
       "\n",
       "   boat   body                                       home.dest  \n",
       "63    4    NaN                                      Amenia, ND  \n",
       "62  NaN    NaN                                      Amenia, ND  \n",
       "61    6    NaN                         Little Onn Hall, Staffs  \n",
       "60  NaN  172.0                         Little Onn Hall, Staffs  \n",
       "59    5    NaN                                    New York, NY  \n",
       "58  NaN    NaN                Ascot, Berkshire / Rochester, NY  \n",
       "57    4    NaN                                   Bryn Mawr, PA  \n",
       "56    C    NaN                                   Bryn Mawr, PA  \n",
       "55    4    NaN                                   Bryn Mawr, PA  \n",
       "54    4    NaN                                   Bryn Mawr, PA  \n",
       "53  NaN    NaN                             Montevideo, Uruguay  \n",
       "52  NaN    NaN                             Montevideo, Uruguay  \n",
       "51  NaN    NaN                                    New York, NY  \n",
       "50    3    NaN                    Germantown, Philadelphia, PA  \n",
       "49    3    NaN  Austria-Hungary / Germantown, Philadelphia, PA  \n",
       "48    6    NaN                                  Washington, DC  \n",
       "47    5    NaN                                    New York, NY  \n",
       "46  NaN    NaN                                             NaN  \n",
       "45  NaN    NaN                                  Washington, DC  \n",
       "44    3    NaN                                             NaN  \n",
       "43    8    NaN                                Philadelphia, PA  \n",
       "42    D    NaN                                     Belmont, MA  \n",
       "41    6    NaN                                      Denver, CO  \n",
       "40  NaN    NaN                                Philadelphia, PA  "
      ],
      "text/html": "<div>\n<style scoped>\n    .dataframe tbody tr th:only-of-type {\n        vertical-align: middle;\n    }\n\n    .dataframe tbody tr th {\n        vertical-align: top;\n    }\n\n    .dataframe thead th {\n        text-align: right;\n    }\n</style>\n<table border=\"1\" class=\"dataframe\">\n  <thead>\n    <tr style=\"text-align: right;\">\n      <th></th>\n      <th>pclass</th>\n      <th>survived</th>\n      <th>name</th>\n      <th>sex</th>\n      <th>age</th>\n      <th>sibsp</th>\n      <th>parch</th>\n      <th>ticket</th>\n      <th>fare</th>\n      <th>cabin</th>\n      <th>embarked</th>\n      <th>boat</th>\n      <th>body</th>\n      <th>home.dest</th>\n    </tr>\n  </thead>\n  <tbody>\n    <tr>\n      <th>63</th>\n      <td>1</td>\n      <td>1</td>\n      <td>Chaffee, Mrs. Herbert Fuller (Carrie Constance...</td>\n      <td>female</td>\n      <td>47.0</td>\n      <td>1</td>\n      <td>0</td>\n      <td>W.E.P. 5734</td>\n      <td>61.1750</td>\n      <td>E31</td>\n      <td>S</td>\n      <td>4</td>\n      <td>NaN</td>\n      <td>Amenia, ND</td>\n    </tr>\n    <tr>\n      <th>62</th>\n      <td>1</td>\n      <td>0</td>\n      <td>Chaffee, Mr. Herbert Fuller</td>\n      <td>male</td>\n      <td>46.0</td>\n      <td>1</td>\n      <td>0</td>\n      <td>W.E.P. 5734</td>\n      <td>61.1750</td>\n      <td>E31</td>\n      <td>S</td>\n      <td>NaN</td>\n      <td>NaN</td>\n      <td>Amenia, ND</td>\n    </tr>\n    <tr>\n      <th>61</th>\n      <td>1</td>\n      <td>1</td>\n      <td>Cavendish, Mrs. Tyrell William (Julia Florence...</td>\n      <td>female</td>\n      <td>76.0</td>\n      <td>1</td>\n      <td>0</td>\n      <td>19877</td>\n      <td>78.8500</td>\n      <td>C46</td>\n      <td>S</td>\n      <td>6</td>\n      <td>NaN</td>\n      <td>Little Onn Hall, Staffs</td>\n    </tr>\n    <tr>\n      <th>60</th>\n      <td>1</td>\n      <td>0</td>\n      <td>Cavendish, Mr. Tyrell William</td>\n      <td>male</td>\n      <td>36.0</td>\n      <td>1</td>\n      <td>0</td>\n      <td>19877</td>\n      <td>78.8500</td>\n      <td>C46</td>\n      <td>S</td>\n      <td>NaN</td>\n      <td>172.0</td>\n      <td>Little Onn Hall, Staffs</td>\n    </tr>\n    <tr>\n      <th>59</th>\n      <td>1</td>\n      <td>1</td>\n      <td>Cassebeer, Mrs. Henry Arthur Jr (Eleanor Genev...</td>\n      <td>female</td>\n      <td>NaN</td>\n      <td>0</td>\n      <td>0</td>\n      <td>17770</td>\n      <td>27.7208</td>\n      <td>NaN</td>\n      <td>C</td>\n      <td>5</td>\n      <td>NaN</td>\n      <td>New York, NY</td>\n    </tr>\n    <tr>\n      <th>58</th>\n      <td>1</td>\n      <td>0</td>\n      <td>Case, Mr. Howard Brown</td>\n      <td>male</td>\n      <td>49.0</td>\n      <td>0</td>\n      <td>0</td>\n      <td>19924</td>\n      <td>26.0000</td>\n      <td>NaN</td>\n      <td>S</td>\n      <td>NaN</td>\n      <td>NaN</td>\n      <td>Ascot, Berkshire / Rochester, NY</td>\n    </tr>\n    <tr>\n      <th>57</th>\n      <td>1</td>\n      <td>1</td>\n      <td>Carter, Mrs. William Ernest (Lucile Polk)</td>\n      <td>female</td>\n      <td>36.0</td>\n      <td>1</td>\n      <td>2</td>\n      <td>113760</td>\n      <td>120.0000</td>\n      <td>B96 B98</td>\n      <td>S</td>\n      <td>4</td>\n      <td>NaN</td>\n      <td>Bryn Mawr, PA</td>\n    </tr>\n    <tr>\n      <th>56</th>\n      <td>1</td>\n      <td>1</td>\n      <td>Carter, Mr. William Ernest</td>\n      <td>male</td>\n      <td>36.0</td>\n      <td>1</td>\n      <td>2</td>\n      <td>113760</td>\n      <td>120.0000</td>\n      <td>B96 B98</td>\n      <td>S</td>\n      <td>C</td>\n      <td>NaN</td>\n      <td>Bryn Mawr, PA</td>\n    </tr>\n    <tr>\n      <th>55</th>\n      <td>1</td>\n      <td>1</td>\n      <td>Carter, Miss. Lucile Polk</td>\n      <td>female</td>\n      <td>14.0</td>\n      <td>1</td>\n      <td>2</td>\n      <td>113760</td>\n      <td>120.0000</td>\n      <td>B96 B98</td>\n      <td>S</td>\n      <td>4</td>\n      <td>NaN</td>\n      <td>Bryn Mawr, PA</td>\n    </tr>\n    <tr>\n      <th>54</th>\n      <td>1</td>\n      <td>1</td>\n      <td>Carter, Master. William Thornton II</td>\n      <td>male</td>\n      <td>11.0</td>\n      <td>1</td>\n      <td>2</td>\n      <td>113760</td>\n      <td>120.0000</td>\n      <td>B96 B98</td>\n      <td>S</td>\n      <td>4</td>\n      <td>NaN</td>\n      <td>Bryn Mawr, PA</td>\n    </tr>\n    <tr>\n      <th>53</th>\n      <td>1</td>\n      <td>0</td>\n      <td>Carrau, Mr. Jose Pedro</td>\n      <td>male</td>\n      <td>17.0</td>\n      <td>0</td>\n      <td>0</td>\n      <td>113059</td>\n      <td>47.1000</td>\n      <td>NaN</td>\n      <td>S</td>\n      <td>NaN</td>\n      <td>NaN</td>\n      <td>Montevideo, Uruguay</td>\n    </tr>\n    <tr>\n      <th>52</th>\n      <td>1</td>\n      <td>0</td>\n      <td>Carrau, Mr. Francisco M</td>\n      <td>male</td>\n      <td>28.0</td>\n      <td>0</td>\n      <td>0</td>\n      <td>113059</td>\n      <td>47.1000</td>\n      <td>NaN</td>\n      <td>S</td>\n      <td>NaN</td>\n      <td>NaN</td>\n      <td>Montevideo, Uruguay</td>\n    </tr>\n    <tr>\n      <th>51</th>\n      <td>1</td>\n      <td>0</td>\n      <td>Carlsson, Mr. Frans Olof</td>\n      <td>male</td>\n      <td>33.0</td>\n      <td>0</td>\n      <td>0</td>\n      <td>695</td>\n      <td>5.0000</td>\n      <td>B51 B53 B55</td>\n      <td>S</td>\n      <td>NaN</td>\n      <td>NaN</td>\n      <td>New York, NY</td>\n    </tr>\n    <tr>\n      <th>50</th>\n      <td>1</td>\n      <td>1</td>\n      <td>Cardeza, Mrs. James Warburton Martinez (Charlo...</td>\n      <td>female</td>\n      <td>58.0</td>\n      <td>0</td>\n      <td>1</td>\n      <td>PC 17755</td>\n      <td>512.3292</td>\n      <td>B51 B53 B55</td>\n      <td>C</td>\n      <td>3</td>\n      <td>NaN</td>\n      <td>Germantown, Philadelphia, PA</td>\n    </tr>\n    <tr>\n      <th>49</th>\n      <td>1</td>\n      <td>1</td>\n      <td>Cardeza, Mr. Thomas Drake Martinez</td>\n      <td>male</td>\n      <td>36.0</td>\n      <td>0</td>\n      <td>1</td>\n      <td>PC 17755</td>\n      <td>512.3292</td>\n      <td>B51 B53 B55</td>\n      <td>C</td>\n      <td>3</td>\n      <td>NaN</td>\n      <td>Austria-Hungary / Germantown, Philadelphia, PA</td>\n    </tr>\n    <tr>\n      <th>48</th>\n      <td>1</td>\n      <td>1</td>\n      <td>Candee, Mrs. Edward (Helen Churchill Hungerford)</td>\n      <td>female</td>\n      <td>53.0</td>\n      <td>0</td>\n      <td>0</td>\n      <td>PC 17606</td>\n      <td>27.4458</td>\n      <td>NaN</td>\n      <td>C</td>\n      <td>6</td>\n      <td>NaN</td>\n      <td>Washington, DC</td>\n    </tr>\n    <tr>\n      <th>47</th>\n      <td>1</td>\n      <td>1</td>\n      <td>Calderhead, Mr. Edward Pennington</td>\n      <td>male</td>\n      <td>42.0</td>\n      <td>0</td>\n      <td>0</td>\n      <td>PC 17476</td>\n      <td>26.2875</td>\n      <td>E24</td>\n      <td>S</td>\n      <td>5</td>\n      <td>NaN</td>\n      <td>New York, NY</td>\n    </tr>\n    <tr>\n      <th>46</th>\n      <td>1</td>\n      <td>0</td>\n      <td>Cairns, Mr. Alexander</td>\n      <td>male</td>\n      <td>NaN</td>\n      <td>0</td>\n      <td>0</td>\n      <td>113798</td>\n      <td>31.0000</td>\n      <td>NaN</td>\n      <td>S</td>\n      <td>NaN</td>\n      <td>NaN</td>\n      <td>NaN</td>\n    </tr>\n    <tr>\n      <th>45</th>\n      <td>1</td>\n      <td>0</td>\n      <td>Butt, Major. Archibald Willingham</td>\n      <td>male</td>\n      <td>45.0</td>\n      <td>0</td>\n      <td>0</td>\n      <td>113050</td>\n      <td>26.5500</td>\n      <td>B38</td>\n      <td>S</td>\n      <td>NaN</td>\n      <td>NaN</td>\n      <td>Washington, DC</td>\n    </tr>\n    <tr>\n      <th>44</th>\n      <td>1</td>\n      <td>1</td>\n      <td>Burns, Miss. Elizabeth Margaret</td>\n      <td>female</td>\n      <td>41.0</td>\n      <td>0</td>\n      <td>0</td>\n      <td>16966</td>\n      <td>134.5000</td>\n      <td>E40</td>\n      <td>C</td>\n      <td>3</td>\n      <td>NaN</td>\n      <td>NaN</td>\n    </tr>\n    <tr>\n      <th>43</th>\n      <td>1</td>\n      <td>1</td>\n      <td>Bucknell, Mrs. William Robert (Emma Eliza Ward)</td>\n      <td>female</td>\n      <td>60.0</td>\n      <td>0</td>\n      <td>0</td>\n      <td>11813</td>\n      <td>76.2917</td>\n      <td>D15</td>\n      <td>C</td>\n      <td>8</td>\n      <td>NaN</td>\n      <td>Philadelphia, PA</td>\n    </tr>\n    <tr>\n      <th>42</th>\n      <td>1</td>\n      <td>1</td>\n      <td>Brown, Mrs. John Murray (Caroline Lane Lamson)</td>\n      <td>female</td>\n      <td>59.0</td>\n      <td>2</td>\n      <td>0</td>\n      <td>11769</td>\n      <td>51.4792</td>\n      <td>C101</td>\n      <td>S</td>\n      <td>D</td>\n      <td>NaN</td>\n      <td>Belmont, MA</td>\n    </tr>\n    <tr>\n      <th>41</th>\n      <td>1</td>\n      <td>1</td>\n      <td>Brown, Mrs. James Joseph (Margaret Tobin)</td>\n      <td>female</td>\n      <td>44.0</td>\n      <td>0</td>\n      <td>0</td>\n      <td>PC 17610</td>\n      <td>27.7208</td>\n      <td>B4</td>\n      <td>C</td>\n      <td>6</td>\n      <td>NaN</td>\n      <td>Denver, CO</td>\n    </tr>\n    <tr>\n      <th>40</th>\n      <td>1</td>\n      <td>0</td>\n      <td>Brewe, Dr. Arthur Jackson</td>\n      <td>male</td>\n      <td>NaN</td>\n      <td>0</td>\n      <td>0</td>\n      <td>112379</td>\n      <td>39.6000</td>\n      <td>NaN</td>\n      <td>C</td>\n      <td>NaN</td>\n      <td>NaN</td>\n      <td>Philadelphia, PA</td>\n    </tr>\n  </tbody>\n</table>\n</div>"
     },
     "metadata": {},
     "execution_count": 353
    }
   ],
   "source": [
    "#your code\n",
    "s_titanic_rev = titanic.iloc[63:39:-1]\n",
    "s_titanic_rev"
   ]
  },
  {
   "cell_type": "markdown",
   "metadata": {},
   "source": [
    "6. Slice the columns from the starting column to `'parch'`, call it `left_columns`"
   ]
  },
  {
   "cell_type": "code",
   "execution_count": 354,
   "metadata": {},
   "outputs": [
    {
     "output_type": "execute_result",
     "data": {
      "text/plain": [
       "      pclass  survived                                             name  \\\n",
       "0          1         1                    Allen, Miss. Elisabeth Walton   \n",
       "1          1         1                   Allison, Master. Hudson Trevor   \n",
       "2          1         0                     Allison, Miss. Helen Loraine   \n",
       "3          1         0             Allison, Mr. Hudson Joshua Creighton   \n",
       "4          1         0  Allison, Mrs. Hudson J C (Bessie Waldo Daniels)   \n",
       "...      ...       ...                                              ...   \n",
       "1304       3         0                             Zabour, Miss. Hileni   \n",
       "1305       3         0                            Zabour, Miss. Thamine   \n",
       "1306       3         0                        Zakarian, Mr. Mapriededer   \n",
       "1307       3         0                              Zakarian, Mr. Ortin   \n",
       "1308       3         0                               Zimmerman, Mr. Leo   \n",
       "\n",
       "         sex    age  sibsp  parch  \n",
       "0     female  29.00      0      0  \n",
       "1       male   0.92      1      2  \n",
       "2     female   2.00      1      2  \n",
       "3       male  30.00      1      2  \n",
       "4     female  25.00      1      2  \n",
       "...      ...    ...    ...    ...  \n",
       "1304  female  14.50      1      0  \n",
       "1305  female    NaN      1      0  \n",
       "1306    male  26.50      0      0  \n",
       "1307    male  27.00      0      0  \n",
       "1308    male  29.00      0      0  \n",
       "\n",
       "[1309 rows x 7 columns]"
      ],
      "text/html": "<div>\n<style scoped>\n    .dataframe tbody tr th:only-of-type {\n        vertical-align: middle;\n    }\n\n    .dataframe tbody tr th {\n        vertical-align: top;\n    }\n\n    .dataframe thead th {\n        text-align: right;\n    }\n</style>\n<table border=\"1\" class=\"dataframe\">\n  <thead>\n    <tr style=\"text-align: right;\">\n      <th></th>\n      <th>pclass</th>\n      <th>survived</th>\n      <th>name</th>\n      <th>sex</th>\n      <th>age</th>\n      <th>sibsp</th>\n      <th>parch</th>\n    </tr>\n  </thead>\n  <tbody>\n    <tr>\n      <th>0</th>\n      <td>1</td>\n      <td>1</td>\n      <td>Allen, Miss. Elisabeth Walton</td>\n      <td>female</td>\n      <td>29.00</td>\n      <td>0</td>\n      <td>0</td>\n    </tr>\n    <tr>\n      <th>1</th>\n      <td>1</td>\n      <td>1</td>\n      <td>Allison, Master. Hudson Trevor</td>\n      <td>male</td>\n      <td>0.92</td>\n      <td>1</td>\n      <td>2</td>\n    </tr>\n    <tr>\n      <th>2</th>\n      <td>1</td>\n      <td>0</td>\n      <td>Allison, Miss. Helen Loraine</td>\n      <td>female</td>\n      <td>2.00</td>\n      <td>1</td>\n      <td>2</td>\n    </tr>\n    <tr>\n      <th>3</th>\n      <td>1</td>\n      <td>0</td>\n      <td>Allison, Mr. Hudson Joshua Creighton</td>\n      <td>male</td>\n      <td>30.00</td>\n      <td>1</td>\n      <td>2</td>\n    </tr>\n    <tr>\n      <th>4</th>\n      <td>1</td>\n      <td>0</td>\n      <td>Allison, Mrs. Hudson J C (Bessie Waldo Daniels)</td>\n      <td>female</td>\n      <td>25.00</td>\n      <td>1</td>\n      <td>2</td>\n    </tr>\n    <tr>\n      <th>...</th>\n      <td>...</td>\n      <td>...</td>\n      <td>...</td>\n      <td>...</td>\n      <td>...</td>\n      <td>...</td>\n      <td>...</td>\n    </tr>\n    <tr>\n      <th>1304</th>\n      <td>3</td>\n      <td>0</td>\n      <td>Zabour, Miss. Hileni</td>\n      <td>female</td>\n      <td>14.50</td>\n      <td>1</td>\n      <td>0</td>\n    </tr>\n    <tr>\n      <th>1305</th>\n      <td>3</td>\n      <td>0</td>\n      <td>Zabour, Miss. Thamine</td>\n      <td>female</td>\n      <td>NaN</td>\n      <td>1</td>\n      <td>0</td>\n    </tr>\n    <tr>\n      <th>1306</th>\n      <td>3</td>\n      <td>0</td>\n      <td>Zakarian, Mr. Mapriededer</td>\n      <td>male</td>\n      <td>26.50</td>\n      <td>0</td>\n      <td>0</td>\n    </tr>\n    <tr>\n      <th>1307</th>\n      <td>3</td>\n      <td>0</td>\n      <td>Zakarian, Mr. Ortin</td>\n      <td>male</td>\n      <td>27.00</td>\n      <td>0</td>\n      <td>0</td>\n    </tr>\n    <tr>\n      <th>1308</th>\n      <td>3</td>\n      <td>0</td>\n      <td>Zimmerman, Mr. Leo</td>\n      <td>male</td>\n      <td>29.00</td>\n      <td>0</td>\n      <td>0</td>\n    </tr>\n  </tbody>\n</table>\n<p>1309 rows × 7 columns</p>\n</div>"
     },
     "metadata": {},
     "execution_count": 354
    }
   ],
   "source": [
    "left_columns = titanic.loc[:, :'parch']\n",
    "left_columns"
   ]
  },
  {
   "cell_type": "markdown",
   "metadata": {},
   "source": [
    "7. Slice the columns from `'name'` to `'age'`, call it `middle_columns`"
   ]
  },
  {
   "cell_type": "code",
   "execution_count": 355,
   "metadata": {},
   "outputs": [
    {
     "output_type": "execute_result",
     "data": {
      "text/plain": [
       "                                                 name     sex    age\n",
       "0                       Allen, Miss. Elisabeth Walton  female  29.00\n",
       "1                      Allison, Master. Hudson Trevor    male   0.92\n",
       "2                        Allison, Miss. Helen Loraine  female   2.00\n",
       "3                Allison, Mr. Hudson Joshua Creighton    male  30.00\n",
       "4     Allison, Mrs. Hudson J C (Bessie Waldo Daniels)  female  25.00\n",
       "...                                               ...     ...    ...\n",
       "1304                             Zabour, Miss. Hileni  female  14.50\n",
       "1305                            Zabour, Miss. Thamine  female    NaN\n",
       "1306                        Zakarian, Mr. Mapriededer    male  26.50\n",
       "1307                              Zakarian, Mr. Ortin    male  27.00\n",
       "1308                               Zimmerman, Mr. Leo    male  29.00\n",
       "\n",
       "[1309 rows x 3 columns]"
      ],
      "text/html": "<div>\n<style scoped>\n    .dataframe tbody tr th:only-of-type {\n        vertical-align: middle;\n    }\n\n    .dataframe tbody tr th {\n        vertical-align: top;\n    }\n\n    .dataframe thead th {\n        text-align: right;\n    }\n</style>\n<table border=\"1\" class=\"dataframe\">\n  <thead>\n    <tr style=\"text-align: right;\">\n      <th></th>\n      <th>name</th>\n      <th>sex</th>\n      <th>age</th>\n    </tr>\n  </thead>\n  <tbody>\n    <tr>\n      <th>0</th>\n      <td>Allen, Miss. Elisabeth Walton</td>\n      <td>female</td>\n      <td>29.00</td>\n    </tr>\n    <tr>\n      <th>1</th>\n      <td>Allison, Master. Hudson Trevor</td>\n      <td>male</td>\n      <td>0.92</td>\n    </tr>\n    <tr>\n      <th>2</th>\n      <td>Allison, Miss. Helen Loraine</td>\n      <td>female</td>\n      <td>2.00</td>\n    </tr>\n    <tr>\n      <th>3</th>\n      <td>Allison, Mr. Hudson Joshua Creighton</td>\n      <td>male</td>\n      <td>30.00</td>\n    </tr>\n    <tr>\n      <th>4</th>\n      <td>Allison, Mrs. Hudson J C (Bessie Waldo Daniels)</td>\n      <td>female</td>\n      <td>25.00</td>\n    </tr>\n    <tr>\n      <th>...</th>\n      <td>...</td>\n      <td>...</td>\n      <td>...</td>\n    </tr>\n    <tr>\n      <th>1304</th>\n      <td>Zabour, Miss. Hileni</td>\n      <td>female</td>\n      <td>14.50</td>\n    </tr>\n    <tr>\n      <th>1305</th>\n      <td>Zabour, Miss. Thamine</td>\n      <td>female</td>\n      <td>NaN</td>\n    </tr>\n    <tr>\n      <th>1306</th>\n      <td>Zakarian, Mr. Mapriededer</td>\n      <td>male</td>\n      <td>26.50</td>\n    </tr>\n    <tr>\n      <th>1307</th>\n      <td>Zakarian, Mr. Ortin</td>\n      <td>male</td>\n      <td>27.00</td>\n    </tr>\n    <tr>\n      <th>1308</th>\n      <td>Zimmerman, Mr. Leo</td>\n      <td>male</td>\n      <td>29.00</td>\n    </tr>\n  </tbody>\n</table>\n<p>1309 rows × 3 columns</p>\n</div>"
     },
     "metadata": {},
     "execution_count": 355
    }
   ],
   "source": [
    "#your code\n",
    "middle_columns = titanic.loc[:, 'name':'age']\n",
    "middle_columns"
   ]
  },
  {
   "cell_type": "code",
   "execution_count": 356,
   "metadata": {},
   "outputs": [],
   "source": [
    "#your code"
   ]
  },
  {
   "cell_type": "markdown",
   "metadata": {},
   "source": [
    "8. Slice the columns from `'ticket'` to the end, call it `right_columns`"
   ]
  },
  {
   "cell_type": "code",
   "execution_count": 357,
   "metadata": {},
   "outputs": [
    {
     "output_type": "execute_result",
     "data": {
      "text/plain": [
       "      ticket      fare    cabin embarked boat   body  \\\n",
       "0      24160  211.3375       B5        S    2    NaN   \n",
       "1     113781  151.5500  C22 C26        S   11    NaN   \n",
       "2     113781  151.5500  C22 C26        S  NaN    NaN   \n",
       "3     113781  151.5500  C22 C26        S  NaN  135.0   \n",
       "4     113781  151.5500  C22 C26        S  NaN    NaN   \n",
       "...      ...       ...      ...      ...  ...    ...   \n",
       "1304    2665   14.4542      NaN        C  NaN  328.0   \n",
       "1305    2665   14.4542      NaN        C  NaN    NaN   \n",
       "1306    2656    7.2250      NaN        C  NaN  304.0   \n",
       "1307    2670    7.2250      NaN        C  NaN    NaN   \n",
       "1308  315082    7.8750      NaN        S  NaN    NaN   \n",
       "\n",
       "                            home.dest  \n",
       "0                        St Louis, MO  \n",
       "1     Montreal, PQ / Chesterville, ON  \n",
       "2     Montreal, PQ / Chesterville, ON  \n",
       "3     Montreal, PQ / Chesterville, ON  \n",
       "4     Montreal, PQ / Chesterville, ON  \n",
       "...                               ...  \n",
       "1304                              NaN  \n",
       "1305                              NaN  \n",
       "1306                              NaN  \n",
       "1307                              NaN  \n",
       "1308                              NaN  \n",
       "\n",
       "[1309 rows x 7 columns]"
      ],
      "text/html": "<div>\n<style scoped>\n    .dataframe tbody tr th:only-of-type {\n        vertical-align: middle;\n    }\n\n    .dataframe tbody tr th {\n        vertical-align: top;\n    }\n\n    .dataframe thead th {\n        text-align: right;\n    }\n</style>\n<table border=\"1\" class=\"dataframe\">\n  <thead>\n    <tr style=\"text-align: right;\">\n      <th></th>\n      <th>ticket</th>\n      <th>fare</th>\n      <th>cabin</th>\n      <th>embarked</th>\n      <th>boat</th>\n      <th>body</th>\n      <th>home.dest</th>\n    </tr>\n  </thead>\n  <tbody>\n    <tr>\n      <th>0</th>\n      <td>24160</td>\n      <td>211.3375</td>\n      <td>B5</td>\n      <td>S</td>\n      <td>2</td>\n      <td>NaN</td>\n      <td>St Louis, MO</td>\n    </tr>\n    <tr>\n      <th>1</th>\n      <td>113781</td>\n      <td>151.5500</td>\n      <td>C22 C26</td>\n      <td>S</td>\n      <td>11</td>\n      <td>NaN</td>\n      <td>Montreal, PQ / Chesterville, ON</td>\n    </tr>\n    <tr>\n      <th>2</th>\n      <td>113781</td>\n      <td>151.5500</td>\n      <td>C22 C26</td>\n      <td>S</td>\n      <td>NaN</td>\n      <td>NaN</td>\n      <td>Montreal, PQ / Chesterville, ON</td>\n    </tr>\n    <tr>\n      <th>3</th>\n      <td>113781</td>\n      <td>151.5500</td>\n      <td>C22 C26</td>\n      <td>S</td>\n      <td>NaN</td>\n      <td>135.0</td>\n      <td>Montreal, PQ / Chesterville, ON</td>\n    </tr>\n    <tr>\n      <th>4</th>\n      <td>113781</td>\n      <td>151.5500</td>\n      <td>C22 C26</td>\n      <td>S</td>\n      <td>NaN</td>\n      <td>NaN</td>\n      <td>Montreal, PQ / Chesterville, ON</td>\n    </tr>\n    <tr>\n      <th>...</th>\n      <td>...</td>\n      <td>...</td>\n      <td>...</td>\n      <td>...</td>\n      <td>...</td>\n      <td>...</td>\n      <td>...</td>\n    </tr>\n    <tr>\n      <th>1304</th>\n      <td>2665</td>\n      <td>14.4542</td>\n      <td>NaN</td>\n      <td>C</td>\n      <td>NaN</td>\n      <td>328.0</td>\n      <td>NaN</td>\n    </tr>\n    <tr>\n      <th>1305</th>\n      <td>2665</td>\n      <td>14.4542</td>\n      <td>NaN</td>\n      <td>C</td>\n      <td>NaN</td>\n      <td>NaN</td>\n      <td>NaN</td>\n    </tr>\n    <tr>\n      <th>1306</th>\n      <td>2656</td>\n      <td>7.2250</td>\n      <td>NaN</td>\n      <td>C</td>\n      <td>NaN</td>\n      <td>304.0</td>\n      <td>NaN</td>\n    </tr>\n    <tr>\n      <th>1307</th>\n      <td>2670</td>\n      <td>7.2250</td>\n      <td>NaN</td>\n      <td>C</td>\n      <td>NaN</td>\n      <td>NaN</td>\n      <td>NaN</td>\n    </tr>\n    <tr>\n      <th>1308</th>\n      <td>315082</td>\n      <td>7.8750</td>\n      <td>NaN</td>\n      <td>S</td>\n      <td>NaN</td>\n      <td>NaN</td>\n      <td>NaN</td>\n    </tr>\n  </tbody>\n</table>\n<p>1309 rows × 7 columns</p>\n</div>"
     },
     "metadata": {},
     "execution_count": 357
    }
   ],
   "source": [
    "#your code\n",
    "right_columns = titanic.loc[:, 'ticket':]\n",
    "right_columns"
   ]
  },
  {
   "cell_type": "markdown",
   "metadata": {},
   "source": [
    "9. What is the name of the oldest person who died in the Titanic? Was he or she travelling alone or had any family travelling with them?  \n",
    "\n"
   ]
  },
  {
   "cell_type": "code",
   "execution_count": 358,
   "metadata": {},
   "outputs": [
    {
     "output_type": "execute_result",
     "data": {
      "text/plain": [
       "      pclass  survived                 name   sex   age  sibsp  parch  ticket  \\\n",
       "1235       3         0  Svensson, Mr. Johan  male  74.0      0      0  347060   \n",
       "\n",
       "       fare cabin embarked boat  body home.dest  \n",
       "1235  7.775   NaN        S  NaN   NaN       NaN  "
      ],
      "text/html": "<div>\n<style scoped>\n    .dataframe tbody tr th:only-of-type {\n        vertical-align: middle;\n    }\n\n    .dataframe tbody tr th {\n        vertical-align: top;\n    }\n\n    .dataframe thead th {\n        text-align: right;\n    }\n</style>\n<table border=\"1\" class=\"dataframe\">\n  <thead>\n    <tr style=\"text-align: right;\">\n      <th></th>\n      <th>pclass</th>\n      <th>survived</th>\n      <th>name</th>\n      <th>sex</th>\n      <th>age</th>\n      <th>sibsp</th>\n      <th>parch</th>\n      <th>ticket</th>\n      <th>fare</th>\n      <th>cabin</th>\n      <th>embarked</th>\n      <th>boat</th>\n      <th>body</th>\n      <th>home.dest</th>\n    </tr>\n  </thead>\n  <tbody>\n    <tr>\n      <th>1235</th>\n      <td>3</td>\n      <td>0</td>\n      <td>Svensson, Mr. Johan</td>\n      <td>male</td>\n      <td>74.0</td>\n      <td>0</td>\n      <td>0</td>\n      <td>347060</td>\n      <td>7.775</td>\n      <td>NaN</td>\n      <td>S</td>\n      <td>NaN</td>\n      <td>NaN</td>\n      <td>NaN</td>\n    </tr>\n  </tbody>\n</table>\n</div>"
     },
     "metadata": {},
     "execution_count": 358
    }
   ],
   "source": [
    "#your code\n",
    "titanic[titanic['survived'] == 0].sort_values('age', ascending=False).head(1)"
   ]
  },
  {
   "cell_type": "markdown",
   "metadata": {},
   "source": [
    "In order to give an answer to the second question you should find out which columns give you that info. Usually part of your job as a Data Scientist will be get to know the dataset which you are working with. In this case the columns which give you that info are the following: \n",
    "        - 'sibsp' Number of Siblings/Spouses Aboard\n",
    "        - 'parch' Number of Parents/Children Aboard"
   ]
  },
  {
   "cell_type": "markdown",
   "metadata": {},
   "source": [
    "10. Create the list of 5 random numbers of rows from 0 to the lenght of the dataframe, call it `rows`\n",
    "\n",
    "ex. `rows = [3,7,99,52,48]` use `random` library\n",
    "\n"
   ]
  },
  {
   "cell_type": "code",
   "execution_count": 359,
   "metadata": {},
   "outputs": [
    {
     "output_type": "execute_result",
     "data": {
      "text/plain": [
       "[502, 195, 217, 675, 1020]"
      ]
     },
     "metadata": {},
     "execution_count": 359
    }
   ],
   "source": [
    "#your code\n",
    "# Con numpy mas facil pero okay uso random\n",
    "rows = [rnd.randrange(0, len(titanic), 1) for i in range(5)]\n",
    "rows"
   ]
  },
  {
   "cell_type": "markdown",
   "metadata": {},
   "source": [
    "This list of numbers are random, could be different.\n"
   ]
  },
  {
   "cell_type": "markdown",
   "metadata": {},
   "source": [
    "11. Create the list of three column labels, call it `cols`\n"
   ]
  },
  {
   "cell_type": "code",
   "execution_count": 360,
   "metadata": {},
   "outputs": [
    {
     "output_type": "execute_result",
     "data": {
      "text/plain": [
       "['num1', 'num2', 'num3']"
      ]
     },
     "metadata": {},
     "execution_count": 360
    }
   ],
   "source": [
    "#your code\n",
    "cols = ['num1', 'num2', 'num3']\n",
    "cols"
   ]
  },
  {
   "cell_type": "markdown",
   "metadata": {},
   "source": [
    "12. Use both lists `rows` and `cols` to create a new dataframe"
   ]
  },
  {
   "cell_type": "code",
   "execution_count": 361,
   "metadata": {},
   "outputs": [
    {
     "output_type": "execute_result",
     "data": {
      "text/plain": [
       "    col\n",
       "0   502\n",
       "1   195\n",
       "2   217\n",
       "3   675\n",
       "4  1020"
      ],
      "text/html": "<div>\n<style scoped>\n    .dataframe tbody tr th:only-of-type {\n        vertical-align: middle;\n    }\n\n    .dataframe tbody tr th {\n        vertical-align: top;\n    }\n\n    .dataframe thead th {\n        text-align: right;\n    }\n</style>\n<table border=\"1\" class=\"dataframe\">\n  <thead>\n    <tr style=\"text-align: right;\">\n      <th></th>\n      <th>col</th>\n    </tr>\n  </thead>\n  <tbody>\n    <tr>\n      <th>0</th>\n      <td>502</td>\n    </tr>\n    <tr>\n      <th>1</th>\n      <td>195</td>\n    </tr>\n    <tr>\n      <th>2</th>\n      <td>217</td>\n    </tr>\n    <tr>\n      <th>3</th>\n      <td>675</td>\n    </tr>\n    <tr>\n      <th>4</th>\n      <td>1020</td>\n    </tr>\n  </tbody>\n</table>\n</div>"
     },
     "metadata": {},
     "execution_count": 361
    }
   ],
   "source": [
    "#your code\n",
    "# las dimensiones no cuadran, seguro que no he entendido bien algo\n",
    "new_df = pd.DataFrame(data=rows, columns=['col'])\n",
    "new_df"
   ]
  },
  {
   "cell_type": "markdown",
   "metadata": {},
   "source": [
    "13. Create a boolean array with the condition of being a woman or a man, using the `sex` column, where **female** is True. Call it `array_fe`"
   ]
  },
  {
   "cell_type": "markdown",
   "metadata": {},
   "source": [
    "Bonus: Rename the column `\"sex\"` to `\"gender\"`"
   ]
  },
  {
   "cell_type": "code",
   "execution_count": 362,
   "metadata": {},
   "outputs": [
    {
     "output_type": "execute_result",
     "data": {
      "text/plain": [
       "0        True\n",
       "1       False\n",
       "2        True\n",
       "3       False\n",
       "4        True\n",
       "        ...  \n",
       "1304     True\n",
       "1305     True\n",
       "1306    False\n",
       "1307    False\n",
       "1308    False\n",
       "Name: gender, Length: 1309, dtype: bool"
      ]
     },
     "metadata": {},
     "execution_count": 362
    }
   ],
   "source": [
    "#your code\n",
    "titanic = titanic.rename(columns={\"sex\": \"gender\"})\n",
    "array_fe = titanic['gender'] == 'female'\n",
    "array_fe"
   ]
  },
  {
   "cell_type": "markdown",
   "metadata": {},
   "source": [
    "14. Filter the `titanic` dataframe with the boolean array, call it `woman_titanic`"
   ]
  },
  {
   "cell_type": "code",
   "execution_count": 363,
   "metadata": {},
   "outputs": [
    {
     "output_type": "execute_result",
     "data": {
      "text/plain": [
       "      pclass  survived                                             name  \\\n",
       "0          1         1                    Allen, Miss. Elisabeth Walton   \n",
       "2          1         0                     Allison, Miss. Helen Loraine   \n",
       "4          1         0  Allison, Mrs. Hudson J C (Bessie Waldo Daniels)   \n",
       "6          1         1                Andrews, Miss. Kornelia Theodosia   \n",
       "8          1         1    Appleton, Mrs. Edward Dale (Charlotte Lamson)   \n",
       "...      ...       ...                                              ...   \n",
       "1286       3         1  Whabee, Mrs. George Joseph (Shawneene Abi-Saab)   \n",
       "1290       3         1                 Wilkes, Mrs. James (Ellen Needs)   \n",
       "1300       3         1          Yasbeck, Mrs. Antoni (Selini Alexander)   \n",
       "1304       3         0                             Zabour, Miss. Hileni   \n",
       "1305       3         0                            Zabour, Miss. Thamine   \n",
       "\n",
       "      gender   age  sibsp  parch  ticket      fare    cabin embarked boat  \\\n",
       "0     female  29.0      0      0   24160  211.3375       B5        S    2   \n",
       "2     female   2.0      1      2  113781  151.5500  C22 C26        S  NaN   \n",
       "4     female  25.0      1      2  113781  151.5500  C22 C26        S  NaN   \n",
       "6     female  63.0      1      0   13502   77.9583       D7        S   10   \n",
       "8     female  53.0      2      0   11769   51.4792     C101        S    D   \n",
       "...      ...   ...    ...    ...     ...       ...      ...      ...  ...   \n",
       "1286  female  38.0      0      0    2688    7.2292      NaN        C    C   \n",
       "1290  female  47.0      1      0  363272    7.0000      NaN        S  NaN   \n",
       "1300  female  15.0      1      0    2659   14.4542      NaN        C  NaN   \n",
       "1304  female  14.5      1      0    2665   14.4542      NaN        C  NaN   \n",
       "1305  female   NaN      1      0    2665   14.4542      NaN        C  NaN   \n",
       "\n",
       "       body                        home.dest  \n",
       "0       NaN                     St Louis, MO  \n",
       "2       NaN  Montreal, PQ / Chesterville, ON  \n",
       "4       NaN  Montreal, PQ / Chesterville, ON  \n",
       "6       NaN                       Hudson, NY  \n",
       "8       NaN              Bayside, Queens, NY  \n",
       "...     ...                              ...  \n",
       "1286    NaN                              NaN  \n",
       "1290    NaN                              NaN  \n",
       "1300    NaN                              NaN  \n",
       "1304  328.0                              NaN  \n",
       "1305    NaN                              NaN  \n",
       "\n",
       "[466 rows x 14 columns]"
      ],
      "text/html": "<div>\n<style scoped>\n    .dataframe tbody tr th:only-of-type {\n        vertical-align: middle;\n    }\n\n    .dataframe tbody tr th {\n        vertical-align: top;\n    }\n\n    .dataframe thead th {\n        text-align: right;\n    }\n</style>\n<table border=\"1\" class=\"dataframe\">\n  <thead>\n    <tr style=\"text-align: right;\">\n      <th></th>\n      <th>pclass</th>\n      <th>survived</th>\n      <th>name</th>\n      <th>gender</th>\n      <th>age</th>\n      <th>sibsp</th>\n      <th>parch</th>\n      <th>ticket</th>\n      <th>fare</th>\n      <th>cabin</th>\n      <th>embarked</th>\n      <th>boat</th>\n      <th>body</th>\n      <th>home.dest</th>\n    </tr>\n  </thead>\n  <tbody>\n    <tr>\n      <th>0</th>\n      <td>1</td>\n      <td>1</td>\n      <td>Allen, Miss. Elisabeth Walton</td>\n      <td>female</td>\n      <td>29.0</td>\n      <td>0</td>\n      <td>0</td>\n      <td>24160</td>\n      <td>211.3375</td>\n      <td>B5</td>\n      <td>S</td>\n      <td>2</td>\n      <td>NaN</td>\n      <td>St Louis, MO</td>\n    </tr>\n    <tr>\n      <th>2</th>\n      <td>1</td>\n      <td>0</td>\n      <td>Allison, Miss. Helen Loraine</td>\n      <td>female</td>\n      <td>2.0</td>\n      <td>1</td>\n      <td>2</td>\n      <td>113781</td>\n      <td>151.5500</td>\n      <td>C22 C26</td>\n      <td>S</td>\n      <td>NaN</td>\n      <td>NaN</td>\n      <td>Montreal, PQ / Chesterville, ON</td>\n    </tr>\n    <tr>\n      <th>4</th>\n      <td>1</td>\n      <td>0</td>\n      <td>Allison, Mrs. Hudson J C (Bessie Waldo Daniels)</td>\n      <td>female</td>\n      <td>25.0</td>\n      <td>1</td>\n      <td>2</td>\n      <td>113781</td>\n      <td>151.5500</td>\n      <td>C22 C26</td>\n      <td>S</td>\n      <td>NaN</td>\n      <td>NaN</td>\n      <td>Montreal, PQ / Chesterville, ON</td>\n    </tr>\n    <tr>\n      <th>6</th>\n      <td>1</td>\n      <td>1</td>\n      <td>Andrews, Miss. Kornelia Theodosia</td>\n      <td>female</td>\n      <td>63.0</td>\n      <td>1</td>\n      <td>0</td>\n      <td>13502</td>\n      <td>77.9583</td>\n      <td>D7</td>\n      <td>S</td>\n      <td>10</td>\n      <td>NaN</td>\n      <td>Hudson, NY</td>\n    </tr>\n    <tr>\n      <th>8</th>\n      <td>1</td>\n      <td>1</td>\n      <td>Appleton, Mrs. Edward Dale (Charlotte Lamson)</td>\n      <td>female</td>\n      <td>53.0</td>\n      <td>2</td>\n      <td>0</td>\n      <td>11769</td>\n      <td>51.4792</td>\n      <td>C101</td>\n      <td>S</td>\n      <td>D</td>\n      <td>NaN</td>\n      <td>Bayside, Queens, NY</td>\n    </tr>\n    <tr>\n      <th>...</th>\n      <td>...</td>\n      <td>...</td>\n      <td>...</td>\n      <td>...</td>\n      <td>...</td>\n      <td>...</td>\n      <td>...</td>\n      <td>...</td>\n      <td>...</td>\n      <td>...</td>\n      <td>...</td>\n      <td>...</td>\n      <td>...</td>\n      <td>...</td>\n    </tr>\n    <tr>\n      <th>1286</th>\n      <td>3</td>\n      <td>1</td>\n      <td>Whabee, Mrs. George Joseph (Shawneene Abi-Saab)</td>\n      <td>female</td>\n      <td>38.0</td>\n      <td>0</td>\n      <td>0</td>\n      <td>2688</td>\n      <td>7.2292</td>\n      <td>NaN</td>\n      <td>C</td>\n      <td>C</td>\n      <td>NaN</td>\n      <td>NaN</td>\n    </tr>\n    <tr>\n      <th>1290</th>\n      <td>3</td>\n      <td>1</td>\n      <td>Wilkes, Mrs. James (Ellen Needs)</td>\n      <td>female</td>\n      <td>47.0</td>\n      <td>1</td>\n      <td>0</td>\n      <td>363272</td>\n      <td>7.0000</td>\n      <td>NaN</td>\n      <td>S</td>\n      <td>NaN</td>\n      <td>NaN</td>\n      <td>NaN</td>\n    </tr>\n    <tr>\n      <th>1300</th>\n      <td>3</td>\n      <td>1</td>\n      <td>Yasbeck, Mrs. Antoni (Selini Alexander)</td>\n      <td>female</td>\n      <td>15.0</td>\n      <td>1</td>\n      <td>0</td>\n      <td>2659</td>\n      <td>14.4542</td>\n      <td>NaN</td>\n      <td>C</td>\n      <td>NaN</td>\n      <td>NaN</td>\n      <td>NaN</td>\n    </tr>\n    <tr>\n      <th>1304</th>\n      <td>3</td>\n      <td>0</td>\n      <td>Zabour, Miss. Hileni</td>\n      <td>female</td>\n      <td>14.5</td>\n      <td>1</td>\n      <td>0</td>\n      <td>2665</td>\n      <td>14.4542</td>\n      <td>NaN</td>\n      <td>C</td>\n      <td>NaN</td>\n      <td>328.0</td>\n      <td>NaN</td>\n    </tr>\n    <tr>\n      <th>1305</th>\n      <td>3</td>\n      <td>0</td>\n      <td>Zabour, Miss. Thamine</td>\n      <td>female</td>\n      <td>NaN</td>\n      <td>1</td>\n      <td>0</td>\n      <td>2665</td>\n      <td>14.4542</td>\n      <td>NaN</td>\n      <td>C</td>\n      <td>NaN</td>\n      <td>NaN</td>\n      <td>NaN</td>\n    </tr>\n  </tbody>\n</table>\n<p>466 rows × 14 columns</p>\n</div>"
     },
     "metadata": {},
     "execution_count": 363
    }
   ],
   "source": [
    "#your code\n",
    "woman_titanic = titanic[array_fe]\n",
    "woman_titanic"
   ]
  },
  {
   "cell_type": "markdown",
   "metadata": {},
   "source": [
    "15. How many woman were younger than 18? Call the variable `minor_wo`"
   ]
  },
  {
   "cell_type": "code",
   "execution_count": 364,
   "metadata": {},
   "outputs": [
    {
     "output_type": "execute_result",
     "data": {
      "text/plain": [
       "      pclass  survived                                       name  gender  \\\n",
       "2          1         0               Allison, Miss. Helen Loraine  female   \n",
       "55         1         1                  Carter, Miss. Lucile Polk  female   \n",
       "92         1         1  Dick, Mrs. Albert Adrian (Vera Gillespie)  female   \n",
       "159        1         1               Hippach, Miss. Jean Gertrude  female   \n",
       "187        1         1                  Lines, Miss. Mary Conover  female   \n",
       "...      ...       ...                                        ...     ...   \n",
       "1257       3         1                 Touma, Miss. Maria Youssef  female   \n",
       "1265       3         0                  Van Impe, Miss. Catharina  female   \n",
       "1279       3         0       Vestrom, Miss. Hulda Amanda Adolfina  female   \n",
       "1300       3         1    Yasbeck, Mrs. Antoni (Selini Alexander)  female   \n",
       "1304       3         0                       Zabour, Miss. Hileni  female   \n",
       "\n",
       "       age  sibsp  parch    ticket      fare    cabin embarked boat   body  \\\n",
       "2      2.0      1      2    113781  151.5500  C22 C26        S  NaN    NaN   \n",
       "55    14.0      1      2    113760  120.0000  B96 B98        S    4    NaN   \n",
       "92    17.0      1      0     17474   57.0000      B20        S    3    NaN   \n",
       "159   16.0      0      1    111361   57.9792      B18        C    4    NaN   \n",
       "187   16.0      0      1  PC 17592   39.4000      D28        S    9    NaN   \n",
       "...    ...    ...    ...       ...       ...      ...      ...  ...    ...   \n",
       "1257   9.0      1      1      2650   15.2458      NaN        C    C    NaN   \n",
       "1265  10.0      0      2    345773   24.1500      NaN        S  NaN    NaN   \n",
       "1279  14.0      0      0    350406    7.8542      NaN        S  NaN    NaN   \n",
       "1300  15.0      1      0      2659   14.4542      NaN        C  NaN    NaN   \n",
       "1304  14.5      1      0      2665   14.4542      NaN        C  NaN  328.0   \n",
       "\n",
       "                            home.dest  \n",
       "2     Montreal, PQ / Chesterville, ON  \n",
       "55                      Bryn Mawr, PA  \n",
       "92                        Calgary, AB  \n",
       "159                       Chicago, IL  \n",
       "187                     Paris, France  \n",
       "...                               ...  \n",
       "1257                              NaN  \n",
       "1265                              NaN  \n",
       "1279                              NaN  \n",
       "1300                              NaN  \n",
       "1304                              NaN  \n",
       "\n",
       "[72 rows x 14 columns]"
      ],
      "text/html": "<div>\n<style scoped>\n    .dataframe tbody tr th:only-of-type {\n        vertical-align: middle;\n    }\n\n    .dataframe tbody tr th {\n        vertical-align: top;\n    }\n\n    .dataframe thead th {\n        text-align: right;\n    }\n</style>\n<table border=\"1\" class=\"dataframe\">\n  <thead>\n    <tr style=\"text-align: right;\">\n      <th></th>\n      <th>pclass</th>\n      <th>survived</th>\n      <th>name</th>\n      <th>gender</th>\n      <th>age</th>\n      <th>sibsp</th>\n      <th>parch</th>\n      <th>ticket</th>\n      <th>fare</th>\n      <th>cabin</th>\n      <th>embarked</th>\n      <th>boat</th>\n      <th>body</th>\n      <th>home.dest</th>\n    </tr>\n  </thead>\n  <tbody>\n    <tr>\n      <th>2</th>\n      <td>1</td>\n      <td>0</td>\n      <td>Allison, Miss. Helen Loraine</td>\n      <td>female</td>\n      <td>2.0</td>\n      <td>1</td>\n      <td>2</td>\n      <td>113781</td>\n      <td>151.5500</td>\n      <td>C22 C26</td>\n      <td>S</td>\n      <td>NaN</td>\n      <td>NaN</td>\n      <td>Montreal, PQ / Chesterville, ON</td>\n    </tr>\n    <tr>\n      <th>55</th>\n      <td>1</td>\n      <td>1</td>\n      <td>Carter, Miss. Lucile Polk</td>\n      <td>female</td>\n      <td>14.0</td>\n      <td>1</td>\n      <td>2</td>\n      <td>113760</td>\n      <td>120.0000</td>\n      <td>B96 B98</td>\n      <td>S</td>\n      <td>4</td>\n      <td>NaN</td>\n      <td>Bryn Mawr, PA</td>\n    </tr>\n    <tr>\n      <th>92</th>\n      <td>1</td>\n      <td>1</td>\n      <td>Dick, Mrs. Albert Adrian (Vera Gillespie)</td>\n      <td>female</td>\n      <td>17.0</td>\n      <td>1</td>\n      <td>0</td>\n      <td>17474</td>\n      <td>57.0000</td>\n      <td>B20</td>\n      <td>S</td>\n      <td>3</td>\n      <td>NaN</td>\n      <td>Calgary, AB</td>\n    </tr>\n    <tr>\n      <th>159</th>\n      <td>1</td>\n      <td>1</td>\n      <td>Hippach, Miss. Jean Gertrude</td>\n      <td>female</td>\n      <td>16.0</td>\n      <td>0</td>\n      <td>1</td>\n      <td>111361</td>\n      <td>57.9792</td>\n      <td>B18</td>\n      <td>C</td>\n      <td>4</td>\n      <td>NaN</td>\n      <td>Chicago, IL</td>\n    </tr>\n    <tr>\n      <th>187</th>\n      <td>1</td>\n      <td>1</td>\n      <td>Lines, Miss. Mary Conover</td>\n      <td>female</td>\n      <td>16.0</td>\n      <td>0</td>\n      <td>1</td>\n      <td>PC 17592</td>\n      <td>39.4000</td>\n      <td>D28</td>\n      <td>S</td>\n      <td>9</td>\n      <td>NaN</td>\n      <td>Paris, France</td>\n    </tr>\n    <tr>\n      <th>...</th>\n      <td>...</td>\n      <td>...</td>\n      <td>...</td>\n      <td>...</td>\n      <td>...</td>\n      <td>...</td>\n      <td>...</td>\n      <td>...</td>\n      <td>...</td>\n      <td>...</td>\n      <td>...</td>\n      <td>...</td>\n      <td>...</td>\n      <td>...</td>\n    </tr>\n    <tr>\n      <th>1257</th>\n      <td>3</td>\n      <td>1</td>\n      <td>Touma, Miss. Maria Youssef</td>\n      <td>female</td>\n      <td>9.0</td>\n      <td>1</td>\n      <td>1</td>\n      <td>2650</td>\n      <td>15.2458</td>\n      <td>NaN</td>\n      <td>C</td>\n      <td>C</td>\n      <td>NaN</td>\n      <td>NaN</td>\n    </tr>\n    <tr>\n      <th>1265</th>\n      <td>3</td>\n      <td>0</td>\n      <td>Van Impe, Miss. Catharina</td>\n      <td>female</td>\n      <td>10.0</td>\n      <td>0</td>\n      <td>2</td>\n      <td>345773</td>\n      <td>24.1500</td>\n      <td>NaN</td>\n      <td>S</td>\n      <td>NaN</td>\n      <td>NaN</td>\n      <td>NaN</td>\n    </tr>\n    <tr>\n      <th>1279</th>\n      <td>3</td>\n      <td>0</td>\n      <td>Vestrom, Miss. Hulda Amanda Adolfina</td>\n      <td>female</td>\n      <td>14.0</td>\n      <td>0</td>\n      <td>0</td>\n      <td>350406</td>\n      <td>7.8542</td>\n      <td>NaN</td>\n      <td>S</td>\n      <td>NaN</td>\n      <td>NaN</td>\n      <td>NaN</td>\n    </tr>\n    <tr>\n      <th>1300</th>\n      <td>3</td>\n      <td>1</td>\n      <td>Yasbeck, Mrs. Antoni (Selini Alexander)</td>\n      <td>female</td>\n      <td>15.0</td>\n      <td>1</td>\n      <td>0</td>\n      <td>2659</td>\n      <td>14.4542</td>\n      <td>NaN</td>\n      <td>C</td>\n      <td>NaN</td>\n      <td>NaN</td>\n      <td>NaN</td>\n    </tr>\n    <tr>\n      <th>1304</th>\n      <td>3</td>\n      <td>0</td>\n      <td>Zabour, Miss. Hileni</td>\n      <td>female</td>\n      <td>14.5</td>\n      <td>1</td>\n      <td>0</td>\n      <td>2665</td>\n      <td>14.4542</td>\n      <td>NaN</td>\n      <td>C</td>\n      <td>NaN</td>\n      <td>328.0</td>\n      <td>NaN</td>\n    </tr>\n  </tbody>\n</table>\n<p>72 rows × 14 columns</p>\n</div>"
     },
     "metadata": {},
     "execution_count": 364
    }
   ],
   "source": [
    "#your code\n",
    "minor_wo = woman_titanic[woman_titanic['age'] < 18]\n",
    "minor_wo"
   ]
  },
  {
   "cell_type": "code",
   "execution_count": 365,
   "metadata": {},
   "outputs": [
    {
     "output_type": "execute_result",
     "data": {
      "text/plain": [
       "72"
      ]
     },
     "metadata": {},
     "execution_count": 365
    }
   ],
   "source": [
    "# Saco el total con length\n",
    "len(minor_wo)"
   ]
  },
  {
   "cell_type": "markdown",
   "metadata": {},
   "source": [
    "16. How many woman that were less than 18 actually died? Call the variable `dead_wo`"
   ]
  },
  {
   "cell_type": "code",
   "execution_count": 366,
   "metadata": {},
   "outputs": [
    {
     "output_type": "execute_result",
     "data": {
      "text/plain": [
       "      pclass  survived                                  name  gender   age  \\\n",
       "2          1         0          Allison, Miss. Helen Loraine  female   2.0   \n",
       "623        3         0    Andersson, Miss. Ebba Iris Alfrida  female   6.0   \n",
       "624        3         0     Andersson, Miss. Ellis Anna Maria  female   2.0   \n",
       "627        3         0  Andersson, Miss. Ingeborg Constanzia  female   9.0   \n",
       "628        3         0     Andersson, Miss. Sigrid Elisabeth  female  11.0   \n",
       "650        3         0                 Attalah, Miss. Malake  female  17.0   \n",
       "679        3         0               Boulos, Miss. Nourelain  female   9.0   \n",
       "807        3         0      Ford, Miss. Robina Maggie \"Ruby\"  female   9.0   \n",
       "828        3         0           Goodwin, Miss. Jessie Allis  female  10.0   \n",
       "829        3         0            Goodwin, Miss. Lillian Amy  female  16.0   \n",
       "841        3         0                  Hagardon, Miss. Kate  female  17.0   \n",
       "937        3         0          Klasen, Miss. Gertrud Emilia  female   1.0   \n",
       "1098       3         0            Palsson, Miss. Stina Viola  female   3.0   \n",
       "1099       3         0         Palsson, Miss. Torborg Danira  female   8.0   \n",
       "1112       3         0             Peacock, Miss. Treasteall  female   3.0   \n",
       "1156       3         0           Rosblom, Miss. Salli Helena  female   2.0   \n",
       "1208       3         0                    Skoog, Miss. Mabel  female   9.0   \n",
       "1209       3         0         Skoog, Miss. Margit Elizabeth  female   2.0   \n",
       "1230       3         0            Strom, Miss. Telma Matilda  female   2.0   \n",
       "1265       3         0             Van Impe, Miss. Catharina  female  10.0   \n",
       "1279       3         0  Vestrom, Miss. Hulda Amanda Adolfina  female  14.0   \n",
       "1304       3         0                  Zabour, Miss. Hileni  female  14.5   \n",
       "\n",
       "      sibsp  parch              ticket      fare    cabin embarked boat  \\\n",
       "2         1      2              113781  151.5500  C22 C26        S  NaN   \n",
       "623       4      2              347082   31.2750      NaN        S  NaN   \n",
       "624       4      2              347082   31.2750      NaN        S  NaN   \n",
       "627       4      2              347082   31.2750      NaN        S  NaN   \n",
       "628       4      2              347082   31.2750      NaN        S  NaN   \n",
       "650       0      0                2627   14.4583      NaN        C  NaN   \n",
       "679       1      1                2678   15.2458      NaN        C  NaN   \n",
       "807       2      2          W./C. 6608   34.3750      NaN        S  NaN   \n",
       "828       5      2             CA 2144   46.9000      NaN        S  NaN   \n",
       "829       5      2             CA 2144   46.9000      NaN        S  NaN   \n",
       "841       0      0         AQ/3. 30631    7.7333      NaN        Q  NaN   \n",
       "937       1      1              350405   12.1833      NaN        S  NaN   \n",
       "1098      3      1              349909   21.0750      NaN        S  NaN   \n",
       "1099      3      1              349909   21.0750      NaN        S  NaN   \n",
       "1112      1      1  SOTON/O.Q. 3101315   13.7750      NaN        S  NaN   \n",
       "1156      1      1              370129   20.2125      NaN        S  NaN   \n",
       "1208      3      2              347088   27.9000      NaN        S  NaN   \n",
       "1209      3      2              347088   27.9000      NaN        S  NaN   \n",
       "1230      0      1              347054   10.4625       G6        S  NaN   \n",
       "1265      0      2              345773   24.1500      NaN        S  NaN   \n",
       "1279      0      0              350406    7.8542      NaN        S  NaN   \n",
       "1304      1      0                2665   14.4542      NaN        C  NaN   \n",
       "\n",
       "       body                                  home.dest  \n",
       "2       NaN            Montreal, PQ / Chesterville, ON  \n",
       "623     NaN                        Sweden Winnipeg, MN  \n",
       "624     NaN                        Sweden Winnipeg, MN  \n",
       "627     NaN                        Sweden Winnipeg, MN  \n",
       "628     NaN                        Sweden Winnipeg, MN  \n",
       "650     NaN                                        NaN  \n",
       "679     NaN                             Syria Kent, ON  \n",
       "807     NaN  Rotherfield, Sussex, England Essex Co, MA  \n",
       "828     NaN       Wiltshire, England Niagara Falls, NY  \n",
       "829     NaN       Wiltshire, England Niagara Falls, NY  \n",
       "841     NaN                                        NaN  \n",
       "937     NaN                                        NaN  \n",
       "1098    NaN                                        NaN  \n",
       "1099    NaN                                        NaN  \n",
       "1112    NaN                                        NaN  \n",
       "1156    NaN                                        NaN  \n",
       "1208    NaN                                        NaN  \n",
       "1209    NaN                                        NaN  \n",
       "1230    NaN                                        NaN  \n",
       "1265    NaN                                        NaN  \n",
       "1279    NaN                                        NaN  \n",
       "1304  328.0                                        NaN  "
      ],
      "text/html": "<div>\n<style scoped>\n    .dataframe tbody tr th:only-of-type {\n        vertical-align: middle;\n    }\n\n    .dataframe tbody tr th {\n        vertical-align: top;\n    }\n\n    .dataframe thead th {\n        text-align: right;\n    }\n</style>\n<table border=\"1\" class=\"dataframe\">\n  <thead>\n    <tr style=\"text-align: right;\">\n      <th></th>\n      <th>pclass</th>\n      <th>survived</th>\n      <th>name</th>\n      <th>gender</th>\n      <th>age</th>\n      <th>sibsp</th>\n      <th>parch</th>\n      <th>ticket</th>\n      <th>fare</th>\n      <th>cabin</th>\n      <th>embarked</th>\n      <th>boat</th>\n      <th>body</th>\n      <th>home.dest</th>\n    </tr>\n  </thead>\n  <tbody>\n    <tr>\n      <th>2</th>\n      <td>1</td>\n      <td>0</td>\n      <td>Allison, Miss. Helen Loraine</td>\n      <td>female</td>\n      <td>2.0</td>\n      <td>1</td>\n      <td>2</td>\n      <td>113781</td>\n      <td>151.5500</td>\n      <td>C22 C26</td>\n      <td>S</td>\n      <td>NaN</td>\n      <td>NaN</td>\n      <td>Montreal, PQ / Chesterville, ON</td>\n    </tr>\n    <tr>\n      <th>623</th>\n      <td>3</td>\n      <td>0</td>\n      <td>Andersson, Miss. Ebba Iris Alfrida</td>\n      <td>female</td>\n      <td>6.0</td>\n      <td>4</td>\n      <td>2</td>\n      <td>347082</td>\n      <td>31.2750</td>\n      <td>NaN</td>\n      <td>S</td>\n      <td>NaN</td>\n      <td>NaN</td>\n      <td>Sweden Winnipeg, MN</td>\n    </tr>\n    <tr>\n      <th>624</th>\n      <td>3</td>\n      <td>0</td>\n      <td>Andersson, Miss. Ellis Anna Maria</td>\n      <td>female</td>\n      <td>2.0</td>\n      <td>4</td>\n      <td>2</td>\n      <td>347082</td>\n      <td>31.2750</td>\n      <td>NaN</td>\n      <td>S</td>\n      <td>NaN</td>\n      <td>NaN</td>\n      <td>Sweden Winnipeg, MN</td>\n    </tr>\n    <tr>\n      <th>627</th>\n      <td>3</td>\n      <td>0</td>\n      <td>Andersson, Miss. Ingeborg Constanzia</td>\n      <td>female</td>\n      <td>9.0</td>\n      <td>4</td>\n      <td>2</td>\n      <td>347082</td>\n      <td>31.2750</td>\n      <td>NaN</td>\n      <td>S</td>\n      <td>NaN</td>\n      <td>NaN</td>\n      <td>Sweden Winnipeg, MN</td>\n    </tr>\n    <tr>\n      <th>628</th>\n      <td>3</td>\n      <td>0</td>\n      <td>Andersson, Miss. Sigrid Elisabeth</td>\n      <td>female</td>\n      <td>11.0</td>\n      <td>4</td>\n      <td>2</td>\n      <td>347082</td>\n      <td>31.2750</td>\n      <td>NaN</td>\n      <td>S</td>\n      <td>NaN</td>\n      <td>NaN</td>\n      <td>Sweden Winnipeg, MN</td>\n    </tr>\n    <tr>\n      <th>650</th>\n      <td>3</td>\n      <td>0</td>\n      <td>Attalah, Miss. Malake</td>\n      <td>female</td>\n      <td>17.0</td>\n      <td>0</td>\n      <td>0</td>\n      <td>2627</td>\n      <td>14.4583</td>\n      <td>NaN</td>\n      <td>C</td>\n      <td>NaN</td>\n      <td>NaN</td>\n      <td>NaN</td>\n    </tr>\n    <tr>\n      <th>679</th>\n      <td>3</td>\n      <td>0</td>\n      <td>Boulos, Miss. Nourelain</td>\n      <td>female</td>\n      <td>9.0</td>\n      <td>1</td>\n      <td>1</td>\n      <td>2678</td>\n      <td>15.2458</td>\n      <td>NaN</td>\n      <td>C</td>\n      <td>NaN</td>\n      <td>NaN</td>\n      <td>Syria Kent, ON</td>\n    </tr>\n    <tr>\n      <th>807</th>\n      <td>3</td>\n      <td>0</td>\n      <td>Ford, Miss. Robina Maggie \"Ruby\"</td>\n      <td>female</td>\n      <td>9.0</td>\n      <td>2</td>\n      <td>2</td>\n      <td>W./C. 6608</td>\n      <td>34.3750</td>\n      <td>NaN</td>\n      <td>S</td>\n      <td>NaN</td>\n      <td>NaN</td>\n      <td>Rotherfield, Sussex, England Essex Co, MA</td>\n    </tr>\n    <tr>\n      <th>828</th>\n      <td>3</td>\n      <td>0</td>\n      <td>Goodwin, Miss. Jessie Allis</td>\n      <td>female</td>\n      <td>10.0</td>\n      <td>5</td>\n      <td>2</td>\n      <td>CA 2144</td>\n      <td>46.9000</td>\n      <td>NaN</td>\n      <td>S</td>\n      <td>NaN</td>\n      <td>NaN</td>\n      <td>Wiltshire, England Niagara Falls, NY</td>\n    </tr>\n    <tr>\n      <th>829</th>\n      <td>3</td>\n      <td>0</td>\n      <td>Goodwin, Miss. Lillian Amy</td>\n      <td>female</td>\n      <td>16.0</td>\n      <td>5</td>\n      <td>2</td>\n      <td>CA 2144</td>\n      <td>46.9000</td>\n      <td>NaN</td>\n      <td>S</td>\n      <td>NaN</td>\n      <td>NaN</td>\n      <td>Wiltshire, England Niagara Falls, NY</td>\n    </tr>\n    <tr>\n      <th>841</th>\n      <td>3</td>\n      <td>0</td>\n      <td>Hagardon, Miss. Kate</td>\n      <td>female</td>\n      <td>17.0</td>\n      <td>0</td>\n      <td>0</td>\n      <td>AQ/3. 30631</td>\n      <td>7.7333</td>\n      <td>NaN</td>\n      <td>Q</td>\n      <td>NaN</td>\n      <td>NaN</td>\n      <td>NaN</td>\n    </tr>\n    <tr>\n      <th>937</th>\n      <td>3</td>\n      <td>0</td>\n      <td>Klasen, Miss. Gertrud Emilia</td>\n      <td>female</td>\n      <td>1.0</td>\n      <td>1</td>\n      <td>1</td>\n      <td>350405</td>\n      <td>12.1833</td>\n      <td>NaN</td>\n      <td>S</td>\n      <td>NaN</td>\n      <td>NaN</td>\n      <td>NaN</td>\n    </tr>\n    <tr>\n      <th>1098</th>\n      <td>3</td>\n      <td>0</td>\n      <td>Palsson, Miss. Stina Viola</td>\n      <td>female</td>\n      <td>3.0</td>\n      <td>3</td>\n      <td>1</td>\n      <td>349909</td>\n      <td>21.0750</td>\n      <td>NaN</td>\n      <td>S</td>\n      <td>NaN</td>\n      <td>NaN</td>\n      <td>NaN</td>\n    </tr>\n    <tr>\n      <th>1099</th>\n      <td>3</td>\n      <td>0</td>\n      <td>Palsson, Miss. Torborg Danira</td>\n      <td>female</td>\n      <td>8.0</td>\n      <td>3</td>\n      <td>1</td>\n      <td>349909</td>\n      <td>21.0750</td>\n      <td>NaN</td>\n      <td>S</td>\n      <td>NaN</td>\n      <td>NaN</td>\n      <td>NaN</td>\n    </tr>\n    <tr>\n      <th>1112</th>\n      <td>3</td>\n      <td>0</td>\n      <td>Peacock, Miss. Treasteall</td>\n      <td>female</td>\n      <td>3.0</td>\n      <td>1</td>\n      <td>1</td>\n      <td>SOTON/O.Q. 3101315</td>\n      <td>13.7750</td>\n      <td>NaN</td>\n      <td>S</td>\n      <td>NaN</td>\n      <td>NaN</td>\n      <td>NaN</td>\n    </tr>\n    <tr>\n      <th>1156</th>\n      <td>3</td>\n      <td>0</td>\n      <td>Rosblom, Miss. Salli Helena</td>\n      <td>female</td>\n      <td>2.0</td>\n      <td>1</td>\n      <td>1</td>\n      <td>370129</td>\n      <td>20.2125</td>\n      <td>NaN</td>\n      <td>S</td>\n      <td>NaN</td>\n      <td>NaN</td>\n      <td>NaN</td>\n    </tr>\n    <tr>\n      <th>1208</th>\n      <td>3</td>\n      <td>0</td>\n      <td>Skoog, Miss. Mabel</td>\n      <td>female</td>\n      <td>9.0</td>\n      <td>3</td>\n      <td>2</td>\n      <td>347088</td>\n      <td>27.9000</td>\n      <td>NaN</td>\n      <td>S</td>\n      <td>NaN</td>\n      <td>NaN</td>\n      <td>NaN</td>\n    </tr>\n    <tr>\n      <th>1209</th>\n      <td>3</td>\n      <td>0</td>\n      <td>Skoog, Miss. Margit Elizabeth</td>\n      <td>female</td>\n      <td>2.0</td>\n      <td>3</td>\n      <td>2</td>\n      <td>347088</td>\n      <td>27.9000</td>\n      <td>NaN</td>\n      <td>S</td>\n      <td>NaN</td>\n      <td>NaN</td>\n      <td>NaN</td>\n    </tr>\n    <tr>\n      <th>1230</th>\n      <td>3</td>\n      <td>0</td>\n      <td>Strom, Miss. Telma Matilda</td>\n      <td>female</td>\n      <td>2.0</td>\n      <td>0</td>\n      <td>1</td>\n      <td>347054</td>\n      <td>10.4625</td>\n      <td>G6</td>\n      <td>S</td>\n      <td>NaN</td>\n      <td>NaN</td>\n      <td>NaN</td>\n    </tr>\n    <tr>\n      <th>1265</th>\n      <td>3</td>\n      <td>0</td>\n      <td>Van Impe, Miss. Catharina</td>\n      <td>female</td>\n      <td>10.0</td>\n      <td>0</td>\n      <td>2</td>\n      <td>345773</td>\n      <td>24.1500</td>\n      <td>NaN</td>\n      <td>S</td>\n      <td>NaN</td>\n      <td>NaN</td>\n      <td>NaN</td>\n    </tr>\n    <tr>\n      <th>1279</th>\n      <td>3</td>\n      <td>0</td>\n      <td>Vestrom, Miss. Hulda Amanda Adolfina</td>\n      <td>female</td>\n      <td>14.0</td>\n      <td>0</td>\n      <td>0</td>\n      <td>350406</td>\n      <td>7.8542</td>\n      <td>NaN</td>\n      <td>S</td>\n      <td>NaN</td>\n      <td>NaN</td>\n      <td>NaN</td>\n    </tr>\n    <tr>\n      <th>1304</th>\n      <td>3</td>\n      <td>0</td>\n      <td>Zabour, Miss. Hileni</td>\n      <td>female</td>\n      <td>14.5</td>\n      <td>1</td>\n      <td>0</td>\n      <td>2665</td>\n      <td>14.4542</td>\n      <td>NaN</td>\n      <td>C</td>\n      <td>NaN</td>\n      <td>328.0</td>\n      <td>NaN</td>\n    </tr>\n  </tbody>\n</table>\n</div>"
     },
     "metadata": {},
     "execution_count": 366
    }
   ],
   "source": [
    "#your code\n",
    "dead_wo = minor_wo[minor_wo['survived'] == 0]\n",
    "dead_wo"
   ]
  },
  {
   "cell_type": "code",
   "execution_count": 367,
   "metadata": {},
   "outputs": [
    {
     "output_type": "execute_result",
     "data": {
      "text/plain": [
       "22"
      ]
     },
     "metadata": {},
     "execution_count": 367
    }
   ],
   "source": [
    "# lo mismo, la cantidad total la saco con length\n",
    "len(dead_wo)"
   ]
  },
  {
   "cell_type": "markdown",
   "metadata": {},
   "source": [
    "17. Drop rows with *Nan* in `titanic` with `how='any'` and print the shape\n",
    "\n"
   ]
  },
  {
   "cell_type": "code",
   "execution_count": 368,
   "metadata": {},
   "outputs": [
    {
     "output_type": "execute_result",
     "data": {
      "text/plain": [
       "Empty DataFrame\n",
       "Columns: [pclass, survived, name, gender, age, sibsp, parch, ticket, fare, cabin, embarked, boat, body, home.dest]\n",
       "Index: []"
      ],
      "text/html": "<div>\n<style scoped>\n    .dataframe tbody tr th:only-of-type {\n        vertical-align: middle;\n    }\n\n    .dataframe tbody tr th {\n        vertical-align: top;\n    }\n\n    .dataframe thead th {\n        text-align: right;\n    }\n</style>\n<table border=\"1\" class=\"dataframe\">\n  <thead>\n    <tr style=\"text-align: right;\">\n      <th></th>\n      <th>pclass</th>\n      <th>survived</th>\n      <th>name</th>\n      <th>gender</th>\n      <th>age</th>\n      <th>sibsp</th>\n      <th>parch</th>\n      <th>ticket</th>\n      <th>fare</th>\n      <th>cabin</th>\n      <th>embarked</th>\n      <th>boat</th>\n      <th>body</th>\n      <th>home.dest</th>\n    </tr>\n  </thead>\n  <tbody>\n  </tbody>\n</table>\n</div>"
     },
     "metadata": {},
     "execution_count": 368
    }
   ],
   "source": [
    "#your code\n",
    "titanic.dropna(how='any')"
   ]
  },
  {
   "cell_type": "markdown",
   "metadata": {},
   "source": [
    "18. Drop rows with *Nan* in `titanic` with `how='all'` and print the shape\n"
   ]
  },
  {
   "cell_type": "code",
   "execution_count": 369,
   "metadata": {},
   "outputs": [
    {
     "output_type": "execute_result",
     "data": {
      "text/plain": [
       "      pclass  survived                                             name  \\\n",
       "0          1         1                    Allen, Miss. Elisabeth Walton   \n",
       "1          1         1                   Allison, Master. Hudson Trevor   \n",
       "2          1         0                     Allison, Miss. Helen Loraine   \n",
       "3          1         0             Allison, Mr. Hudson Joshua Creighton   \n",
       "4          1         0  Allison, Mrs. Hudson J C (Bessie Waldo Daniels)   \n",
       "...      ...       ...                                              ...   \n",
       "1304       3         0                             Zabour, Miss. Hileni   \n",
       "1305       3         0                            Zabour, Miss. Thamine   \n",
       "1306       3         0                        Zakarian, Mr. Mapriededer   \n",
       "1307       3         0                              Zakarian, Mr. Ortin   \n",
       "1308       3         0                               Zimmerman, Mr. Leo   \n",
       "\n",
       "      gender    age  sibsp  parch  ticket      fare    cabin embarked boat  \\\n",
       "0     female  29.00      0      0   24160  211.3375       B5        S    2   \n",
       "1       male   0.92      1      2  113781  151.5500  C22 C26        S   11   \n",
       "2     female   2.00      1      2  113781  151.5500  C22 C26        S  NaN   \n",
       "3       male  30.00      1      2  113781  151.5500  C22 C26        S  NaN   \n",
       "4     female  25.00      1      2  113781  151.5500  C22 C26        S  NaN   \n",
       "...      ...    ...    ...    ...     ...       ...      ...      ...  ...   \n",
       "1304  female  14.50      1      0    2665   14.4542      NaN        C  NaN   \n",
       "1305  female    NaN      1      0    2665   14.4542      NaN        C  NaN   \n",
       "1306    male  26.50      0      0    2656    7.2250      NaN        C  NaN   \n",
       "1307    male  27.00      0      0    2670    7.2250      NaN        C  NaN   \n",
       "1308    male  29.00      0      0  315082    7.8750      NaN        S  NaN   \n",
       "\n",
       "       body                        home.dest  \n",
       "0       NaN                     St Louis, MO  \n",
       "1       NaN  Montreal, PQ / Chesterville, ON  \n",
       "2       NaN  Montreal, PQ / Chesterville, ON  \n",
       "3     135.0  Montreal, PQ / Chesterville, ON  \n",
       "4       NaN  Montreal, PQ / Chesterville, ON  \n",
       "...     ...                              ...  \n",
       "1304  328.0                              NaN  \n",
       "1305    NaN                              NaN  \n",
       "1306  304.0                              NaN  \n",
       "1307    NaN                              NaN  \n",
       "1308    NaN                              NaN  \n",
       "\n",
       "[1309 rows x 14 columns]"
      ],
      "text/html": "<div>\n<style scoped>\n    .dataframe tbody tr th:only-of-type {\n        vertical-align: middle;\n    }\n\n    .dataframe tbody tr th {\n        vertical-align: top;\n    }\n\n    .dataframe thead th {\n        text-align: right;\n    }\n</style>\n<table border=\"1\" class=\"dataframe\">\n  <thead>\n    <tr style=\"text-align: right;\">\n      <th></th>\n      <th>pclass</th>\n      <th>survived</th>\n      <th>name</th>\n      <th>gender</th>\n      <th>age</th>\n      <th>sibsp</th>\n      <th>parch</th>\n      <th>ticket</th>\n      <th>fare</th>\n      <th>cabin</th>\n      <th>embarked</th>\n      <th>boat</th>\n      <th>body</th>\n      <th>home.dest</th>\n    </tr>\n  </thead>\n  <tbody>\n    <tr>\n      <th>0</th>\n      <td>1</td>\n      <td>1</td>\n      <td>Allen, Miss. Elisabeth Walton</td>\n      <td>female</td>\n      <td>29.00</td>\n      <td>0</td>\n      <td>0</td>\n      <td>24160</td>\n      <td>211.3375</td>\n      <td>B5</td>\n      <td>S</td>\n      <td>2</td>\n      <td>NaN</td>\n      <td>St Louis, MO</td>\n    </tr>\n    <tr>\n      <th>1</th>\n      <td>1</td>\n      <td>1</td>\n      <td>Allison, Master. Hudson Trevor</td>\n      <td>male</td>\n      <td>0.92</td>\n      <td>1</td>\n      <td>2</td>\n      <td>113781</td>\n      <td>151.5500</td>\n      <td>C22 C26</td>\n      <td>S</td>\n      <td>11</td>\n      <td>NaN</td>\n      <td>Montreal, PQ / Chesterville, ON</td>\n    </tr>\n    <tr>\n      <th>2</th>\n      <td>1</td>\n      <td>0</td>\n      <td>Allison, Miss. Helen Loraine</td>\n      <td>female</td>\n      <td>2.00</td>\n      <td>1</td>\n      <td>2</td>\n      <td>113781</td>\n      <td>151.5500</td>\n      <td>C22 C26</td>\n      <td>S</td>\n      <td>NaN</td>\n      <td>NaN</td>\n      <td>Montreal, PQ / Chesterville, ON</td>\n    </tr>\n    <tr>\n      <th>3</th>\n      <td>1</td>\n      <td>0</td>\n      <td>Allison, Mr. Hudson Joshua Creighton</td>\n      <td>male</td>\n      <td>30.00</td>\n      <td>1</td>\n      <td>2</td>\n      <td>113781</td>\n      <td>151.5500</td>\n      <td>C22 C26</td>\n      <td>S</td>\n      <td>NaN</td>\n      <td>135.0</td>\n      <td>Montreal, PQ / Chesterville, ON</td>\n    </tr>\n    <tr>\n      <th>4</th>\n      <td>1</td>\n      <td>0</td>\n      <td>Allison, Mrs. Hudson J C (Bessie Waldo Daniels)</td>\n      <td>female</td>\n      <td>25.00</td>\n      <td>1</td>\n      <td>2</td>\n      <td>113781</td>\n      <td>151.5500</td>\n      <td>C22 C26</td>\n      <td>S</td>\n      <td>NaN</td>\n      <td>NaN</td>\n      <td>Montreal, PQ / Chesterville, ON</td>\n    </tr>\n    <tr>\n      <th>...</th>\n      <td>...</td>\n      <td>...</td>\n      <td>...</td>\n      <td>...</td>\n      <td>...</td>\n      <td>...</td>\n      <td>...</td>\n      <td>...</td>\n      <td>...</td>\n      <td>...</td>\n      <td>...</td>\n      <td>...</td>\n      <td>...</td>\n      <td>...</td>\n    </tr>\n    <tr>\n      <th>1304</th>\n      <td>3</td>\n      <td>0</td>\n      <td>Zabour, Miss. Hileni</td>\n      <td>female</td>\n      <td>14.50</td>\n      <td>1</td>\n      <td>0</td>\n      <td>2665</td>\n      <td>14.4542</td>\n      <td>NaN</td>\n      <td>C</td>\n      <td>NaN</td>\n      <td>328.0</td>\n      <td>NaN</td>\n    </tr>\n    <tr>\n      <th>1305</th>\n      <td>3</td>\n      <td>0</td>\n      <td>Zabour, Miss. Thamine</td>\n      <td>female</td>\n      <td>NaN</td>\n      <td>1</td>\n      <td>0</td>\n      <td>2665</td>\n      <td>14.4542</td>\n      <td>NaN</td>\n      <td>C</td>\n      <td>NaN</td>\n      <td>NaN</td>\n      <td>NaN</td>\n    </tr>\n    <tr>\n      <th>1306</th>\n      <td>3</td>\n      <td>0</td>\n      <td>Zakarian, Mr. Mapriededer</td>\n      <td>male</td>\n      <td>26.50</td>\n      <td>0</td>\n      <td>0</td>\n      <td>2656</td>\n      <td>7.2250</td>\n      <td>NaN</td>\n      <td>C</td>\n      <td>NaN</td>\n      <td>304.0</td>\n      <td>NaN</td>\n    </tr>\n    <tr>\n      <th>1307</th>\n      <td>3</td>\n      <td>0</td>\n      <td>Zakarian, Mr. Ortin</td>\n      <td>male</td>\n      <td>27.00</td>\n      <td>0</td>\n      <td>0</td>\n      <td>2670</td>\n      <td>7.2250</td>\n      <td>NaN</td>\n      <td>C</td>\n      <td>NaN</td>\n      <td>NaN</td>\n      <td>NaN</td>\n    </tr>\n    <tr>\n      <th>1308</th>\n      <td>3</td>\n      <td>0</td>\n      <td>Zimmerman, Mr. Leo</td>\n      <td>male</td>\n      <td>29.00</td>\n      <td>0</td>\n      <td>0</td>\n      <td>315082</td>\n      <td>7.8750</td>\n      <td>NaN</td>\n      <td>S</td>\n      <td>NaN</td>\n      <td>NaN</td>\n      <td>NaN</td>\n    </tr>\n  </tbody>\n</table>\n<p>1309 rows × 14 columns</p>\n</div>"
     },
     "metadata": {},
     "execution_count": 369
    }
   ],
   "source": [
    "#your code\n",
    "titanic.dropna(how='all')"
   ]
  },
  {
   "cell_type": "markdown",
   "metadata": {},
   "source": [
    "Check in [here](https://pandas.pydata.org/pandas-docs/stable/reference/api/pandas.DataFrame.dropna.html) why the shapes are different."
   ]
  },
  {
   "cell_type": "markdown",
   "metadata": {},
   "source": [
    "19. Drop columns in `titanic` with more than 1000 missing values and print the columns remaining"
   ]
  },
  {
   "cell_type": "code",
   "execution_count": 370,
   "metadata": {},
   "outputs": [
    {
     "output_type": "execute_result",
     "data": {
      "text/plain": [
       "      pclass  survived                                             name  \\\n",
       "0          1         1                    Allen, Miss. Elisabeth Walton   \n",
       "1          1         1                   Allison, Master. Hudson Trevor   \n",
       "2          1         0                     Allison, Miss. Helen Loraine   \n",
       "3          1         0             Allison, Mr. Hudson Joshua Creighton   \n",
       "4          1         0  Allison, Mrs. Hudson J C (Bessie Waldo Daniels)   \n",
       "...      ...       ...                                              ...   \n",
       "1304       3         0                             Zabour, Miss. Hileni   \n",
       "1305       3         0                            Zabour, Miss. Thamine   \n",
       "1306       3         0                        Zakarian, Mr. Mapriededer   \n",
       "1307       3         0                              Zakarian, Mr. Ortin   \n",
       "1308       3         0                               Zimmerman, Mr. Leo   \n",
       "\n",
       "      gender    age  sibsp  parch  ticket      fare embarked boat  \\\n",
       "0     female  29.00      0      0   24160  211.3375        S    2   \n",
       "1       male   0.92      1      2  113781  151.5500        S   11   \n",
       "2     female   2.00      1      2  113781  151.5500        S  NaN   \n",
       "3       male  30.00      1      2  113781  151.5500        S  NaN   \n",
       "4     female  25.00      1      2  113781  151.5500        S  NaN   \n",
       "...      ...    ...    ...    ...     ...       ...      ...  ...   \n",
       "1304  female  14.50      1      0    2665   14.4542        C  NaN   \n",
       "1305  female    NaN      1      0    2665   14.4542        C  NaN   \n",
       "1306    male  26.50      0      0    2656    7.2250        C  NaN   \n",
       "1307    male  27.00      0      0    2670    7.2250        C  NaN   \n",
       "1308    male  29.00      0      0  315082    7.8750        S  NaN   \n",
       "\n",
       "                            home.dest  \n",
       "0                        St Louis, MO  \n",
       "1     Montreal, PQ / Chesterville, ON  \n",
       "2     Montreal, PQ / Chesterville, ON  \n",
       "3     Montreal, PQ / Chesterville, ON  \n",
       "4     Montreal, PQ / Chesterville, ON  \n",
       "...                               ...  \n",
       "1304                              NaN  \n",
       "1305                              NaN  \n",
       "1306                              NaN  \n",
       "1307                              NaN  \n",
       "1308                              NaN  \n",
       "\n",
       "[1309 rows x 12 columns]"
      ],
      "text/html": "<div>\n<style scoped>\n    .dataframe tbody tr th:only-of-type {\n        vertical-align: middle;\n    }\n\n    .dataframe tbody tr th {\n        vertical-align: top;\n    }\n\n    .dataframe thead th {\n        text-align: right;\n    }\n</style>\n<table border=\"1\" class=\"dataframe\">\n  <thead>\n    <tr style=\"text-align: right;\">\n      <th></th>\n      <th>pclass</th>\n      <th>survived</th>\n      <th>name</th>\n      <th>gender</th>\n      <th>age</th>\n      <th>sibsp</th>\n      <th>parch</th>\n      <th>ticket</th>\n      <th>fare</th>\n      <th>embarked</th>\n      <th>boat</th>\n      <th>home.dest</th>\n    </tr>\n  </thead>\n  <tbody>\n    <tr>\n      <th>0</th>\n      <td>1</td>\n      <td>1</td>\n      <td>Allen, Miss. Elisabeth Walton</td>\n      <td>female</td>\n      <td>29.00</td>\n      <td>0</td>\n      <td>0</td>\n      <td>24160</td>\n      <td>211.3375</td>\n      <td>S</td>\n      <td>2</td>\n      <td>St Louis, MO</td>\n    </tr>\n    <tr>\n      <th>1</th>\n      <td>1</td>\n      <td>1</td>\n      <td>Allison, Master. Hudson Trevor</td>\n      <td>male</td>\n      <td>0.92</td>\n      <td>1</td>\n      <td>2</td>\n      <td>113781</td>\n      <td>151.5500</td>\n      <td>S</td>\n      <td>11</td>\n      <td>Montreal, PQ / Chesterville, ON</td>\n    </tr>\n    <tr>\n      <th>2</th>\n      <td>1</td>\n      <td>0</td>\n      <td>Allison, Miss. Helen Loraine</td>\n      <td>female</td>\n      <td>2.00</td>\n      <td>1</td>\n      <td>2</td>\n      <td>113781</td>\n      <td>151.5500</td>\n      <td>S</td>\n      <td>NaN</td>\n      <td>Montreal, PQ / Chesterville, ON</td>\n    </tr>\n    <tr>\n      <th>3</th>\n      <td>1</td>\n      <td>0</td>\n      <td>Allison, Mr. Hudson Joshua Creighton</td>\n      <td>male</td>\n      <td>30.00</td>\n      <td>1</td>\n      <td>2</td>\n      <td>113781</td>\n      <td>151.5500</td>\n      <td>S</td>\n      <td>NaN</td>\n      <td>Montreal, PQ / Chesterville, ON</td>\n    </tr>\n    <tr>\n      <th>4</th>\n      <td>1</td>\n      <td>0</td>\n      <td>Allison, Mrs. Hudson J C (Bessie Waldo Daniels)</td>\n      <td>female</td>\n      <td>25.00</td>\n      <td>1</td>\n      <td>2</td>\n      <td>113781</td>\n      <td>151.5500</td>\n      <td>S</td>\n      <td>NaN</td>\n      <td>Montreal, PQ / Chesterville, ON</td>\n    </tr>\n    <tr>\n      <th>...</th>\n      <td>...</td>\n      <td>...</td>\n      <td>...</td>\n      <td>...</td>\n      <td>...</td>\n      <td>...</td>\n      <td>...</td>\n      <td>...</td>\n      <td>...</td>\n      <td>...</td>\n      <td>...</td>\n      <td>...</td>\n    </tr>\n    <tr>\n      <th>1304</th>\n      <td>3</td>\n      <td>0</td>\n      <td>Zabour, Miss. Hileni</td>\n      <td>female</td>\n      <td>14.50</td>\n      <td>1</td>\n      <td>0</td>\n      <td>2665</td>\n      <td>14.4542</td>\n      <td>C</td>\n      <td>NaN</td>\n      <td>NaN</td>\n    </tr>\n    <tr>\n      <th>1305</th>\n      <td>3</td>\n      <td>0</td>\n      <td>Zabour, Miss. Thamine</td>\n      <td>female</td>\n      <td>NaN</td>\n      <td>1</td>\n      <td>0</td>\n      <td>2665</td>\n      <td>14.4542</td>\n      <td>C</td>\n      <td>NaN</td>\n      <td>NaN</td>\n    </tr>\n    <tr>\n      <th>1306</th>\n      <td>3</td>\n      <td>0</td>\n      <td>Zakarian, Mr. Mapriededer</td>\n      <td>male</td>\n      <td>26.50</td>\n      <td>0</td>\n      <td>0</td>\n      <td>2656</td>\n      <td>7.2250</td>\n      <td>C</td>\n      <td>NaN</td>\n      <td>NaN</td>\n    </tr>\n    <tr>\n      <th>1307</th>\n      <td>3</td>\n      <td>0</td>\n      <td>Zakarian, Mr. Ortin</td>\n      <td>male</td>\n      <td>27.00</td>\n      <td>0</td>\n      <td>0</td>\n      <td>2670</td>\n      <td>7.2250</td>\n      <td>C</td>\n      <td>NaN</td>\n      <td>NaN</td>\n    </tr>\n    <tr>\n      <th>1308</th>\n      <td>3</td>\n      <td>0</td>\n      <td>Zimmerman, Mr. Leo</td>\n      <td>male</td>\n      <td>29.00</td>\n      <td>0</td>\n      <td>0</td>\n      <td>315082</td>\n      <td>7.8750</td>\n      <td>S</td>\n      <td>NaN</td>\n      <td>NaN</td>\n    </tr>\n  </tbody>\n</table>\n<p>1309 rows × 12 columns</p>\n</div>"
     },
     "metadata": {},
     "execution_count": 370
    }
   ],
   "source": [
    "#your code\n",
    "titanic = titanic.dropna(thresh=len(titanic) - 1000, axis=1)\n",
    "titanic"
   ]
  },
  {
   "cell_type": "markdown",
   "metadata": {},
   "source": [
    "20. Calculate the ratio of missing values at the `boat` column. "
   ]
  },
  {
   "cell_type": "code",
   "execution_count": 371,
   "metadata": {},
   "outputs": [
    {
     "output_type": "execute_result",
     "data": {
      "text/plain": [
       "0.6287242169595111"
      ]
     },
     "metadata": {},
     "execution_count": 371
    }
   ],
   "source": [
    "#your code\n",
    "len(titanic[titanic['boat'].isnull()]) / len(titanic)"
   ]
  },
  {
   "cell_type": "markdown",
   "metadata": {},
   "source": [
    "21.  Group `titanic` by `'pclass'` and aggregate by the columns `age` & `fare`, by `max` and `median` --> `by_class`\n"
   ]
  },
  {
   "cell_type": "code",
   "execution_count": 372,
   "metadata": {},
   "outputs": [
    {
     "output_type": "execute_result",
     "data": {
      "text/plain": [
       "         age     fare\n",
       "pclass               \n",
       "1       39.0  60.0000\n",
       "2       29.0  15.0458\n",
       "3       24.0   8.0500"
      ],
      "text/html": "<div>\n<style scoped>\n    .dataframe tbody tr th:only-of-type {\n        vertical-align: middle;\n    }\n\n    .dataframe tbody tr th {\n        vertical-align: top;\n    }\n\n    .dataframe thead th {\n        text-align: right;\n    }\n</style>\n<table border=\"1\" class=\"dataframe\">\n  <thead>\n    <tr style=\"text-align: right;\">\n      <th></th>\n      <th>age</th>\n      <th>fare</th>\n    </tr>\n    <tr>\n      <th>pclass</th>\n      <th></th>\n      <th></th>\n    </tr>\n  </thead>\n  <tbody>\n    <tr>\n      <th>1</th>\n      <td>39.0</td>\n      <td>60.0000</td>\n    </tr>\n    <tr>\n      <th>2</th>\n      <td>29.0</td>\n      <td>15.0458</td>\n    </tr>\n    <tr>\n      <th>3</th>\n      <td>24.0</td>\n      <td>8.0500</td>\n    </tr>\n  </tbody>\n</table>\n</div>"
     },
     "metadata": {},
     "execution_count": 372
    }
   ],
   "source": [
    "#your code\n",
    "# By median, by max no entiendo bien lo que quieres que haga\n",
    "by_class = titanic.groupby('pclass').median()[['age', 'fare']]\n",
    "by_class"
   ]
  },
  {
   "cell_type": "markdown",
   "metadata": {},
   "source": [
    "22. Print the maximum age in each class from `by_class`"
   ]
  },
  {
   "cell_type": "code",
   "execution_count": 373,
   "metadata": {},
   "outputs": [
    {
     "output_type": "stream",
     "name": "stdout",
     "text": [
      "class 1: 80.0\nclass 2: 70.0\nclass 3: 74.0\n"
     ]
    }
   ],
   "source": [
    "#your code\n",
    "# no puedo usar by_class porque lo he agrupado con medianas\n",
    "print('class 1:', titanic[titanic['pclass'] == 1]['age'].max())\n",
    "print('class 2:', titanic[titanic['pclass'] == 2]['age'].max())\n",
    "print('class 3:', titanic[titanic['pclass'] == 3]['age'].max())"
   ]
  },
  {
   "cell_type": "markdown",
   "metadata": {},
   "source": [
    "23. Print the median fare in each class from `by_class`"
   ]
  },
  {
   "cell_type": "code",
   "execution_count": 374,
   "metadata": {},
   "outputs": [
    {
     "output_type": "execute_result",
     "data": {
      "text/plain": [
       "pclass\n",
       "1    60.0000\n",
       "2    15.0458\n",
       "3     8.0500\n",
       "Name: fare, dtype: float64"
      ]
     },
     "metadata": {},
     "execution_count": 374
    }
   ],
   "source": [
    "#your code\n",
    "by_class['fare']"
   ]
  },
  {
   "cell_type": "markdown",
   "metadata": {},
   "source": [
    "24. Using [`.pivot_table()`](https://pandas.pydata.org/pandas-docs/stable/reference/api/pandas.pivot_table.html) to count how many women or men survived by class, call it `counted`.\n",
    "\n",
    "Don't panic and read the documentation!\n",
    "\n",
    "\n"
   ]
  },
  {
   "cell_type": "code",
   "execution_count": 416,
   "metadata": {},
   "outputs": [
    {
     "output_type": "execute_result",
     "data": {
      "text/plain": [
       "sex     female  male\n",
       "pclass              \n",
       "1          139    61\n",
       "2           94    25\n",
       "3          106    75"
      ],
      "text/html": "<div>\n<style scoped>\n    .dataframe tbody tr th:only-of-type {\n        vertical-align: middle;\n    }\n\n    .dataframe tbody tr th {\n        vertical-align: top;\n    }\n\n    .dataframe thead th {\n        text-align: right;\n    }\n</style>\n<table border=\"1\" class=\"dataframe\">\n  <thead>\n    <tr style=\"text-align: right;\">\n      <th>sex</th>\n      <th>female</th>\n      <th>male</th>\n    </tr>\n    <tr>\n      <th>pclass</th>\n      <th></th>\n      <th></th>\n    </tr>\n  </thead>\n  <tbody>\n    <tr>\n      <th>1</th>\n      <td>139</td>\n      <td>61</td>\n    </tr>\n    <tr>\n      <th>2</th>\n      <td>94</td>\n      <td>25</td>\n    </tr>\n    <tr>\n      <th>3</th>\n      <td>106</td>\n      <td>75</td>\n    </tr>\n  </tbody>\n</table>\n</div>"
     },
     "metadata": {},
     "execution_count": 416
    }
   ],
   "source": [
    "# your code\n",
    "counted = pd.pivot_table(titanic, values='survived', columns='sex', index='pclass', aggfunc=np.sum)\n",
    "counted"
   ]
  },
  {
   "cell_type": "markdown",
   "metadata": {},
   "source": [
    "25. Add a new column with the sum of survived men and women, call it `counted['total']` \n"
   ]
  },
  {
   "cell_type": "code",
   "execution_count": 260,
   "metadata": {},
   "outputs": [],
   "source": [
    "#your code\n",
    "counted['total']"
   ]
  },
  {
   "cell_type": "markdown",
   "metadata": {},
   "source": [
    "26. Sort `counted` by the `'total'` column. In which class the people survived the more?"
   ]
  },
  {
   "cell_type": "code",
   "execution_count": 261,
   "metadata": {},
   "outputs": [],
   "source": [
    "#your code"
   ]
  },
  {
   "cell_type": "markdown",
   "metadata": {},
   "source": [
    "27. Please, show only the rows using a mask with the following conditions: \n",
    "    - They are woman\n",
    "    - From third class\n",
    "    - Younger than 30\n",
    "    - They survived\n",
    "    \n",
    "    ¿How many rows fulfill the condition?"
   ]
  },
  {
   "cell_type": "code",
   "execution_count": 311,
   "metadata": {},
   "outputs": [
    {
     "output_type": "execute_result",
     "data": {
      "text/plain": [
       "      pclass  survived                                               name  \\\n",
       "604        3         1                        Abelseth, Miss. Karen Marie   \n",
       "607        3         1          Abrahim, Mrs. Joseph (Sophie Halaut Easu)   \n",
       "612        3         1                         Aks, Mrs. Sam (Leah Rosen)   \n",
       "621        3         1    Andersen-Jensen, Miss. Carla Christine Nielsine   \n",
       "625        3         1                    Andersson, Miss. Erna Alexandra   \n",
       "643        3         1                     Asplund, Miss. Lillian Gertrud   \n",
       "653        3         1                               Ayoub, Miss. Banoura   \n",
       "657        3         1                             Baclini, Miss. Eugenie   \n",
       "658        3         1                      Baclini, Miss. Helene Barbara   \n",
       "659        3         1                     Baclini, Miss. Marie Catherine   \n",
       "660        3         1              Baclini, Mrs. Solomon (Latifa Qurban)   \n",
       "661        3         1                         Badman, Miss. Emily Louisa   \n",
       "686        3         1                       Bradley, Miss. Bridget Delia   \n",
       "709        3         1                          Carr, Miss. Helen \"Ellen\"   \n",
       "725        3         1                               Connolly, Miss. Kate   \n",
       "738        3         1                           Cribb, Miss. Laura Alice   \n",
       "763        3         1            Dean, Miss. Elizabeth Gladys \"Millvina\"   \n",
       "771        3         1                      Devaney, Miss. Margaret Delia   \n",
       "780        3         1                              Drapkin, Miss. Jennie   \n",
       "785        3         1  Dyker, Mrs. Adolf Fredrik (Anna Elisabeth Judi...   \n",
       "794        3         1                      Emanuel, Miss. Virginia Ethel   \n",
       "818        3         1                   Gilnagh, Miss. Katherine \"Katie\"   \n",
       "845        3         1  Hakkarainen, Mrs. Pekka Pietari (Elin Matilda ...   \n",
       "860        3         1                             Heikkinen, Miss. Laina   \n",
       "862        3         1                       Hellstrom, Miss. Hilda Maria   \n",
       "866        3         1                           Hirvonen, Miss. Hildur E   \n",
       "867        3         1       Hirvonen, Mrs. Alexander (Helga E Lindqvist)   \n",
       "870        3         1                             Honkanen, Miss. Eliina   \n",
       "895        3         1                       Johnson, Miss. Eleanor Ileen   \n",
       "899        3         1  Johnson, Mrs. Oscar W (Elisabeth Vilhelmina Berg)   \n",
       "916        3         1                                 Karun, Miss. Manca   \n",
       "934        3         1                Kink-Heilmann, Miss. Luise Gretchen   \n",
       "936        3         1         Kink-Heilmann, Mrs. Anton (Luise Heilmann)   \n",
       "947        3         1                    Landergren, Miss. Aurora Adelia   \n",
       "980        3         1                           Lundin, Miss. Olga Elida   \n",
       "1007       3         1                        McGowan, Miss. Anna \"Annie\"   \n",
       "1026       3         1                                 Moor, Mrs. (Beila)   \n",
       "1040       3         1                          Mulvihill, Miss. Bertha E   \n",
       "1047       3         1                   Najib, Miss. Adele Kiamie \"Jane\"   \n",
       "1048       3         1                        Nakid, Miss. Maria (\"Mary\")   \n",
       "1050       3         1              Nakid, Mrs. Said (Waika \"Mary\" Mowad)   \n",
       "1057       3         1                        Nicola-Yarred, Miss. Jamila   \n",
       "1060       3         1                        Nilsson, Miss. Berta Olivia   \n",
       "1061       3         1                    Nilsson, Miss. Helmina Josefina   \n",
       "1067       3         1                           Nysten, Miss. Anna Sofia   \n",
       "1079       3         1                                 Ohman, Miss. Velin   \n",
       "1182       3         1                   Salkjelsvik, Miss. Anna Kristine   \n",
       "1187       3         1                    Sandstrom, Miss. Beatrice Irene   \n",
       "1188       3         1  Sandstrom, Mrs. Hjalmar (Agnes Charlotta Bengt...   \n",
       "1189       3         1                    Sandstrom, Miss. Marguerite Rut   \n",
       "1205       3         1                          Sjoblom, Miss. Anna Sofia   \n",
       "1223       3         1                    Stanley, Miss. Amy Zillah Elsie   \n",
       "1244       3         1          Thomas, Mrs. Alexander (Thamine \"Thelma\")   \n",
       "1257       3         1                         Touma, Miss. Maria Youssef   \n",
       "1258       3         1            Touma, Mrs. Darwis (Hanne Youssef Razi)   \n",
       "1260       3         1                            Turja, Miss. Anna Sofia   \n",
       "1300       3         1            Yasbeck, Mrs. Antoni (Selini Alexander)   \n",
       "\n",
       "      gender    age  sibsp  parch            ticket     fare embarked boat  \\\n",
       "604   female  16.00      0      0            348125   7.6500        S   16   \n",
       "607   female  18.00      0      0              2657   7.2292        C    C   \n",
       "612   female  18.00      0      1            392091   9.3500        S   13   \n",
       "621   female  19.00      1      0            350046   7.8542        S   16   \n",
       "625   female  17.00      4      2           3101281   7.9250        S    D   \n",
       "643   female   5.00      4      2            347077  31.3875        S   15   \n",
       "653   female  13.00      0      0              2687   7.2292        C    C   \n",
       "657   female   0.75      2      1              2666  19.2583        C    C   \n",
       "658   female   0.75      2      1              2666  19.2583        C    C   \n",
       "659   female   5.00      2      1              2666  19.2583        C    C   \n",
       "660   female  24.00      0      3              2666  19.2583        C    C   \n",
       "661   female  18.00      0      0         A/4 31416   8.0500        S    C   \n",
       "686   female  22.00      0      0            334914   7.7250        Q   13   \n",
       "709   female  16.00      0      0            367231   7.7500        Q   16   \n",
       "725   female  22.00      0      0            370373   7.7500        Q   13   \n",
       "738   female  17.00      0      1            371362  16.1000        S   12   \n",
       "763   female   0.17      1      2         C.A. 2315  20.5750        S   10   \n",
       "771   female  19.00      0      0            330958   7.8792        Q    C   \n",
       "780   female  23.00      0      0   SOTON/OQ 392083   8.0500        S  NaN   \n",
       "785   female  22.00      1      0            347072  13.9000        S   16   \n",
       "794   female   5.00      0      0            364516  12.4750        S   13   \n",
       "818   female  16.00      0      0             35851   7.7333        Q   16   \n",
       "845   female  24.00      1      0  STON/O2. 3101279  15.8500        S   15   \n",
       "860   female  26.00      0      0  STON/O2. 3101282   7.9250        S  NaN   \n",
       "862   female  22.00      0      0              7548   8.9625        S    C   \n",
       "866   female   2.00      0      1           3101298  12.2875        S   15   \n",
       "867   female  22.00      1      1           3101298  12.2875        S   15   \n",
       "870   female  27.00      0      0  STON/O2. 3101283   7.9250        S  NaN   \n",
       "895   female   1.00      1      1            347742  11.1333        S   15   \n",
       "899   female  27.00      0      2            347742  11.1333        S   15   \n",
       "916   female   4.00      0      1            349256  13.4167        C   15   \n",
       "934   female   4.00      0      2            315153  22.0250        S    2   \n",
       "936   female  26.00      1      1            315153  22.0250        S    2   \n",
       "947   female  22.00      0      0            C 7077   7.2500        S   13   \n",
       "980   female  23.00      0      0            347469   7.8542        S   10   \n",
       "1007  female  15.00      0      0            330923   8.0292        Q  NaN   \n",
       "1026  female  27.00      0      1            392096  12.4750        S   14   \n",
       "1040  female  24.00      0      0            382653   7.7500        Q   15   \n",
       "1047  female  15.00      0      0              2667   7.2250        C    C   \n",
       "1048  female   1.00      0      2              2653  15.7417        C    C   \n",
       "1050  female  19.00      1      1              2653  15.7417        C    C   \n",
       "1057  female  14.00      1      0              2651  11.2417        C    C   \n",
       "1060  female  18.00      0      0            347066   7.7750        S    D   \n",
       "1061  female  26.00      0      0            347470   7.8542        S   13   \n",
       "1067  female  22.00      0      0            347081   7.7500        S   13   \n",
       "1079  female  22.00      0      0            347085   7.7750        S    C   \n",
       "1182  female  21.00      0      0            343120   7.6500        S    C   \n",
       "1187  female   1.00      1      1           PP 9549  16.7000        S   13   \n",
       "1188  female  24.00      0      2           PP 9549  16.7000        S   13   \n",
       "1189  female   4.00      1      1           PP 9549  16.7000        S   13   \n",
       "1205  female  18.00      0      0           3101265   7.4958        S   16   \n",
       "1223  female  23.00      0      0          CA. 2314   7.5500        S    C   \n",
       "1244  female  16.00      1      1              2625   8.5167        C   14   \n",
       "1257  female   9.00      1      1              2650  15.2458        C    C   \n",
       "1258  female  29.00      0      2              2650  15.2458        C    C   \n",
       "1260  female  18.00      0      0              4138   9.8417        S   15   \n",
       "1300  female  15.00      1      0              2659  14.4542        C  NaN   \n",
       "\n",
       "                                              home.dest  \n",
       "604                              Norway Los Angeles, CA  \n",
       "607                                      Greensburg, PA  \n",
       "612                         London, England Norfolk, VA  \n",
       "621                                                 NaN  \n",
       "625                Ruotsinphyhtaa, Finland New York, NY  \n",
       "643                                Sweden Worcester, MA  \n",
       "653                                Syria Youngstown, OH  \n",
       "657                                  Syria New York, NY  \n",
       "658                                  Syria New York, NY  \n",
       "659                                  Syria New York, NY  \n",
       "660                                  Syria New York, NY  \n",
       "661                               London Skanteales, NY  \n",
       "686   Kingwilliamstown, Co Cork, Ireland Glens Falls...  \n",
       "709                   Co Longford, Ireland New York, NY  \n",
       "725                                             Ireland  \n",
       "738                     Bournemouth, England Newark, NJ  \n",
       "763                          Devon, England Wichita, KS  \n",
       "771          Kilmacowen, Co Sligo, Ireland New York, NY  \n",
       "780                                 London New York, NY  \n",
       "785                                      West Haven, CT  \n",
       "794                                        New York, NY  \n",
       "818                   Co Longford, Ireland New York, NY  \n",
       "845                                                 NaN  \n",
       "860                                                 NaN  \n",
       "862                                                 NaN  \n",
       "866                                                 NaN  \n",
       "867                                                 NaN  \n",
       "870                                                 NaN  \n",
       "895                                                 NaN  \n",
       "899                                                 NaN  \n",
       "916                                                 NaN  \n",
       "934                                                 NaN  \n",
       "936                                                 NaN  \n",
       "947                                                 NaN  \n",
       "980                                                 NaN  \n",
       "1007                                                NaN  \n",
       "1026                                                NaN  \n",
       "1040                                                NaN  \n",
       "1047                                                NaN  \n",
       "1048                                                NaN  \n",
       "1050                                                NaN  \n",
       "1057                                                NaN  \n",
       "1060                                                NaN  \n",
       "1061                                                NaN  \n",
       "1067                                                NaN  \n",
       "1079                                                NaN  \n",
       "1182                                                NaN  \n",
       "1187                                                NaN  \n",
       "1188                                                NaN  \n",
       "1189                                                NaN  \n",
       "1205                                                NaN  \n",
       "1223                                                NaN  \n",
       "1244                                                NaN  \n",
       "1257                                                NaN  \n",
       "1258                                                NaN  \n",
       "1260                                                NaN  \n",
       "1300                                                NaN  "
      ],
      "text/html": "<div>\n<style scoped>\n    .dataframe tbody tr th:only-of-type {\n        vertical-align: middle;\n    }\n\n    .dataframe tbody tr th {\n        vertical-align: top;\n    }\n\n    .dataframe thead th {\n        text-align: right;\n    }\n</style>\n<table border=\"1\" class=\"dataframe\">\n  <thead>\n    <tr style=\"text-align: right;\">\n      <th></th>\n      <th>pclass</th>\n      <th>survived</th>\n      <th>name</th>\n      <th>gender</th>\n      <th>age</th>\n      <th>sibsp</th>\n      <th>parch</th>\n      <th>ticket</th>\n      <th>fare</th>\n      <th>embarked</th>\n      <th>boat</th>\n      <th>home.dest</th>\n    </tr>\n  </thead>\n  <tbody>\n    <tr>\n      <th>604</th>\n      <td>3</td>\n      <td>1</td>\n      <td>Abelseth, Miss. Karen Marie</td>\n      <td>female</td>\n      <td>16.00</td>\n      <td>0</td>\n      <td>0</td>\n      <td>348125</td>\n      <td>7.6500</td>\n      <td>S</td>\n      <td>16</td>\n      <td>Norway Los Angeles, CA</td>\n    </tr>\n    <tr>\n      <th>607</th>\n      <td>3</td>\n      <td>1</td>\n      <td>Abrahim, Mrs. Joseph (Sophie Halaut Easu)</td>\n      <td>female</td>\n      <td>18.00</td>\n      <td>0</td>\n      <td>0</td>\n      <td>2657</td>\n      <td>7.2292</td>\n      <td>C</td>\n      <td>C</td>\n      <td>Greensburg, PA</td>\n    </tr>\n    <tr>\n      <th>612</th>\n      <td>3</td>\n      <td>1</td>\n      <td>Aks, Mrs. Sam (Leah Rosen)</td>\n      <td>female</td>\n      <td>18.00</td>\n      <td>0</td>\n      <td>1</td>\n      <td>392091</td>\n      <td>9.3500</td>\n      <td>S</td>\n      <td>13</td>\n      <td>London, England Norfolk, VA</td>\n    </tr>\n    <tr>\n      <th>621</th>\n      <td>3</td>\n      <td>1</td>\n      <td>Andersen-Jensen, Miss. Carla Christine Nielsine</td>\n      <td>female</td>\n      <td>19.00</td>\n      <td>1</td>\n      <td>0</td>\n      <td>350046</td>\n      <td>7.8542</td>\n      <td>S</td>\n      <td>16</td>\n      <td>NaN</td>\n    </tr>\n    <tr>\n      <th>625</th>\n      <td>3</td>\n      <td>1</td>\n      <td>Andersson, Miss. Erna Alexandra</td>\n      <td>female</td>\n      <td>17.00</td>\n      <td>4</td>\n      <td>2</td>\n      <td>3101281</td>\n      <td>7.9250</td>\n      <td>S</td>\n      <td>D</td>\n      <td>Ruotsinphyhtaa, Finland New York, NY</td>\n    </tr>\n    <tr>\n      <th>643</th>\n      <td>3</td>\n      <td>1</td>\n      <td>Asplund, Miss. Lillian Gertrud</td>\n      <td>female</td>\n      <td>5.00</td>\n      <td>4</td>\n      <td>2</td>\n      <td>347077</td>\n      <td>31.3875</td>\n      <td>S</td>\n      <td>15</td>\n      <td>Sweden Worcester, MA</td>\n    </tr>\n    <tr>\n      <th>653</th>\n      <td>3</td>\n      <td>1</td>\n      <td>Ayoub, Miss. Banoura</td>\n      <td>female</td>\n      <td>13.00</td>\n      <td>0</td>\n      <td>0</td>\n      <td>2687</td>\n      <td>7.2292</td>\n      <td>C</td>\n      <td>C</td>\n      <td>Syria Youngstown, OH</td>\n    </tr>\n    <tr>\n      <th>657</th>\n      <td>3</td>\n      <td>1</td>\n      <td>Baclini, Miss. Eugenie</td>\n      <td>female</td>\n      <td>0.75</td>\n      <td>2</td>\n      <td>1</td>\n      <td>2666</td>\n      <td>19.2583</td>\n      <td>C</td>\n      <td>C</td>\n      <td>Syria New York, NY</td>\n    </tr>\n    <tr>\n      <th>658</th>\n      <td>3</td>\n      <td>1</td>\n      <td>Baclini, Miss. Helene Barbara</td>\n      <td>female</td>\n      <td>0.75</td>\n      <td>2</td>\n      <td>1</td>\n      <td>2666</td>\n      <td>19.2583</td>\n      <td>C</td>\n      <td>C</td>\n      <td>Syria New York, NY</td>\n    </tr>\n    <tr>\n      <th>659</th>\n      <td>3</td>\n      <td>1</td>\n      <td>Baclini, Miss. Marie Catherine</td>\n      <td>female</td>\n      <td>5.00</td>\n      <td>2</td>\n      <td>1</td>\n      <td>2666</td>\n      <td>19.2583</td>\n      <td>C</td>\n      <td>C</td>\n      <td>Syria New York, NY</td>\n    </tr>\n    <tr>\n      <th>660</th>\n      <td>3</td>\n      <td>1</td>\n      <td>Baclini, Mrs. Solomon (Latifa Qurban)</td>\n      <td>female</td>\n      <td>24.00</td>\n      <td>0</td>\n      <td>3</td>\n      <td>2666</td>\n      <td>19.2583</td>\n      <td>C</td>\n      <td>C</td>\n      <td>Syria New York, NY</td>\n    </tr>\n    <tr>\n      <th>661</th>\n      <td>3</td>\n      <td>1</td>\n      <td>Badman, Miss. Emily Louisa</td>\n      <td>female</td>\n      <td>18.00</td>\n      <td>0</td>\n      <td>0</td>\n      <td>A/4 31416</td>\n      <td>8.0500</td>\n      <td>S</td>\n      <td>C</td>\n      <td>London Skanteales, NY</td>\n    </tr>\n    <tr>\n      <th>686</th>\n      <td>3</td>\n      <td>1</td>\n      <td>Bradley, Miss. Bridget Delia</td>\n      <td>female</td>\n      <td>22.00</td>\n      <td>0</td>\n      <td>0</td>\n      <td>334914</td>\n      <td>7.7250</td>\n      <td>Q</td>\n      <td>13</td>\n      <td>Kingwilliamstown, Co Cork, Ireland Glens Falls...</td>\n    </tr>\n    <tr>\n      <th>709</th>\n      <td>3</td>\n      <td>1</td>\n      <td>Carr, Miss. Helen \"Ellen\"</td>\n      <td>female</td>\n      <td>16.00</td>\n      <td>0</td>\n      <td>0</td>\n      <td>367231</td>\n      <td>7.7500</td>\n      <td>Q</td>\n      <td>16</td>\n      <td>Co Longford, Ireland New York, NY</td>\n    </tr>\n    <tr>\n      <th>725</th>\n      <td>3</td>\n      <td>1</td>\n      <td>Connolly, Miss. Kate</td>\n      <td>female</td>\n      <td>22.00</td>\n      <td>0</td>\n      <td>0</td>\n      <td>370373</td>\n      <td>7.7500</td>\n      <td>Q</td>\n      <td>13</td>\n      <td>Ireland</td>\n    </tr>\n    <tr>\n      <th>738</th>\n      <td>3</td>\n      <td>1</td>\n      <td>Cribb, Miss. Laura Alice</td>\n      <td>female</td>\n      <td>17.00</td>\n      <td>0</td>\n      <td>1</td>\n      <td>371362</td>\n      <td>16.1000</td>\n      <td>S</td>\n      <td>12</td>\n      <td>Bournemouth, England Newark, NJ</td>\n    </tr>\n    <tr>\n      <th>763</th>\n      <td>3</td>\n      <td>1</td>\n      <td>Dean, Miss. Elizabeth Gladys \"Millvina\"</td>\n      <td>female</td>\n      <td>0.17</td>\n      <td>1</td>\n      <td>2</td>\n      <td>C.A. 2315</td>\n      <td>20.5750</td>\n      <td>S</td>\n      <td>10</td>\n      <td>Devon, England Wichita, KS</td>\n    </tr>\n    <tr>\n      <th>771</th>\n      <td>3</td>\n      <td>1</td>\n      <td>Devaney, Miss. Margaret Delia</td>\n      <td>female</td>\n      <td>19.00</td>\n      <td>0</td>\n      <td>0</td>\n      <td>330958</td>\n      <td>7.8792</td>\n      <td>Q</td>\n      <td>C</td>\n      <td>Kilmacowen, Co Sligo, Ireland New York, NY</td>\n    </tr>\n    <tr>\n      <th>780</th>\n      <td>3</td>\n      <td>1</td>\n      <td>Drapkin, Miss. Jennie</td>\n      <td>female</td>\n      <td>23.00</td>\n      <td>0</td>\n      <td>0</td>\n      <td>SOTON/OQ 392083</td>\n      <td>8.0500</td>\n      <td>S</td>\n      <td>NaN</td>\n      <td>London New York, NY</td>\n    </tr>\n    <tr>\n      <th>785</th>\n      <td>3</td>\n      <td>1</td>\n      <td>Dyker, Mrs. Adolf Fredrik (Anna Elisabeth Judi...</td>\n      <td>female</td>\n      <td>22.00</td>\n      <td>1</td>\n      <td>0</td>\n      <td>347072</td>\n      <td>13.9000</td>\n      <td>S</td>\n      <td>16</td>\n      <td>West Haven, CT</td>\n    </tr>\n    <tr>\n      <th>794</th>\n      <td>3</td>\n      <td>1</td>\n      <td>Emanuel, Miss. Virginia Ethel</td>\n      <td>female</td>\n      <td>5.00</td>\n      <td>0</td>\n      <td>0</td>\n      <td>364516</td>\n      <td>12.4750</td>\n      <td>S</td>\n      <td>13</td>\n      <td>New York, NY</td>\n    </tr>\n    <tr>\n      <th>818</th>\n      <td>3</td>\n      <td>1</td>\n      <td>Gilnagh, Miss. Katherine \"Katie\"</td>\n      <td>female</td>\n      <td>16.00</td>\n      <td>0</td>\n      <td>0</td>\n      <td>35851</td>\n      <td>7.7333</td>\n      <td>Q</td>\n      <td>16</td>\n      <td>Co Longford, Ireland New York, NY</td>\n    </tr>\n    <tr>\n      <th>845</th>\n      <td>3</td>\n      <td>1</td>\n      <td>Hakkarainen, Mrs. Pekka Pietari (Elin Matilda ...</td>\n      <td>female</td>\n      <td>24.00</td>\n      <td>1</td>\n      <td>0</td>\n      <td>STON/O2. 3101279</td>\n      <td>15.8500</td>\n      <td>S</td>\n      <td>15</td>\n      <td>NaN</td>\n    </tr>\n    <tr>\n      <th>860</th>\n      <td>3</td>\n      <td>1</td>\n      <td>Heikkinen, Miss. Laina</td>\n      <td>female</td>\n      <td>26.00</td>\n      <td>0</td>\n      <td>0</td>\n      <td>STON/O2. 3101282</td>\n      <td>7.9250</td>\n      <td>S</td>\n      <td>NaN</td>\n      <td>NaN</td>\n    </tr>\n    <tr>\n      <th>862</th>\n      <td>3</td>\n      <td>1</td>\n      <td>Hellstrom, Miss. Hilda Maria</td>\n      <td>female</td>\n      <td>22.00</td>\n      <td>0</td>\n      <td>0</td>\n      <td>7548</td>\n      <td>8.9625</td>\n      <td>S</td>\n      <td>C</td>\n      <td>NaN</td>\n    </tr>\n    <tr>\n      <th>866</th>\n      <td>3</td>\n      <td>1</td>\n      <td>Hirvonen, Miss. Hildur E</td>\n      <td>female</td>\n      <td>2.00</td>\n      <td>0</td>\n      <td>1</td>\n      <td>3101298</td>\n      <td>12.2875</td>\n      <td>S</td>\n      <td>15</td>\n      <td>NaN</td>\n    </tr>\n    <tr>\n      <th>867</th>\n      <td>3</td>\n      <td>1</td>\n      <td>Hirvonen, Mrs. Alexander (Helga E Lindqvist)</td>\n      <td>female</td>\n      <td>22.00</td>\n      <td>1</td>\n      <td>1</td>\n      <td>3101298</td>\n      <td>12.2875</td>\n      <td>S</td>\n      <td>15</td>\n      <td>NaN</td>\n    </tr>\n    <tr>\n      <th>870</th>\n      <td>3</td>\n      <td>1</td>\n      <td>Honkanen, Miss. Eliina</td>\n      <td>female</td>\n      <td>27.00</td>\n      <td>0</td>\n      <td>0</td>\n      <td>STON/O2. 3101283</td>\n      <td>7.9250</td>\n      <td>S</td>\n      <td>NaN</td>\n      <td>NaN</td>\n    </tr>\n    <tr>\n      <th>895</th>\n      <td>3</td>\n      <td>1</td>\n      <td>Johnson, Miss. Eleanor Ileen</td>\n      <td>female</td>\n      <td>1.00</td>\n      <td>1</td>\n      <td>1</td>\n      <td>347742</td>\n      <td>11.1333</td>\n      <td>S</td>\n      <td>15</td>\n      <td>NaN</td>\n    </tr>\n    <tr>\n      <th>899</th>\n      <td>3</td>\n      <td>1</td>\n      <td>Johnson, Mrs. Oscar W (Elisabeth Vilhelmina Berg)</td>\n      <td>female</td>\n      <td>27.00</td>\n      <td>0</td>\n      <td>2</td>\n      <td>347742</td>\n      <td>11.1333</td>\n      <td>S</td>\n      <td>15</td>\n      <td>NaN</td>\n    </tr>\n    <tr>\n      <th>916</th>\n      <td>3</td>\n      <td>1</td>\n      <td>Karun, Miss. Manca</td>\n      <td>female</td>\n      <td>4.00</td>\n      <td>0</td>\n      <td>1</td>\n      <td>349256</td>\n      <td>13.4167</td>\n      <td>C</td>\n      <td>15</td>\n      <td>NaN</td>\n    </tr>\n    <tr>\n      <th>934</th>\n      <td>3</td>\n      <td>1</td>\n      <td>Kink-Heilmann, Miss. Luise Gretchen</td>\n      <td>female</td>\n      <td>4.00</td>\n      <td>0</td>\n      <td>2</td>\n      <td>315153</td>\n      <td>22.0250</td>\n      <td>S</td>\n      <td>2</td>\n      <td>NaN</td>\n    </tr>\n    <tr>\n      <th>936</th>\n      <td>3</td>\n      <td>1</td>\n      <td>Kink-Heilmann, Mrs. Anton (Luise Heilmann)</td>\n      <td>female</td>\n      <td>26.00</td>\n      <td>1</td>\n      <td>1</td>\n      <td>315153</td>\n      <td>22.0250</td>\n      <td>S</td>\n      <td>2</td>\n      <td>NaN</td>\n    </tr>\n    <tr>\n      <th>947</th>\n      <td>3</td>\n      <td>1</td>\n      <td>Landergren, Miss. Aurora Adelia</td>\n      <td>female</td>\n      <td>22.00</td>\n      <td>0</td>\n      <td>0</td>\n      <td>C 7077</td>\n      <td>7.2500</td>\n      <td>S</td>\n      <td>13</td>\n      <td>NaN</td>\n    </tr>\n    <tr>\n      <th>980</th>\n      <td>3</td>\n      <td>1</td>\n      <td>Lundin, Miss. Olga Elida</td>\n      <td>female</td>\n      <td>23.00</td>\n      <td>0</td>\n      <td>0</td>\n      <td>347469</td>\n      <td>7.8542</td>\n      <td>S</td>\n      <td>10</td>\n      <td>NaN</td>\n    </tr>\n    <tr>\n      <th>1007</th>\n      <td>3</td>\n      <td>1</td>\n      <td>McGowan, Miss. Anna \"Annie\"</td>\n      <td>female</td>\n      <td>15.00</td>\n      <td>0</td>\n      <td>0</td>\n      <td>330923</td>\n      <td>8.0292</td>\n      <td>Q</td>\n      <td>NaN</td>\n      <td>NaN</td>\n    </tr>\n    <tr>\n      <th>1026</th>\n      <td>3</td>\n      <td>1</td>\n      <td>Moor, Mrs. (Beila)</td>\n      <td>female</td>\n      <td>27.00</td>\n      <td>0</td>\n      <td>1</td>\n      <td>392096</td>\n      <td>12.4750</td>\n      <td>S</td>\n      <td>14</td>\n      <td>NaN</td>\n    </tr>\n    <tr>\n      <th>1040</th>\n      <td>3</td>\n      <td>1</td>\n      <td>Mulvihill, Miss. Bertha E</td>\n      <td>female</td>\n      <td>24.00</td>\n      <td>0</td>\n      <td>0</td>\n      <td>382653</td>\n      <td>7.7500</td>\n      <td>Q</td>\n      <td>15</td>\n      <td>NaN</td>\n    </tr>\n    <tr>\n      <th>1047</th>\n      <td>3</td>\n      <td>1</td>\n      <td>Najib, Miss. Adele Kiamie \"Jane\"</td>\n      <td>female</td>\n      <td>15.00</td>\n      <td>0</td>\n      <td>0</td>\n      <td>2667</td>\n      <td>7.2250</td>\n      <td>C</td>\n      <td>C</td>\n      <td>NaN</td>\n    </tr>\n    <tr>\n      <th>1048</th>\n      <td>3</td>\n      <td>1</td>\n      <td>Nakid, Miss. Maria (\"Mary\")</td>\n      <td>female</td>\n      <td>1.00</td>\n      <td>0</td>\n      <td>2</td>\n      <td>2653</td>\n      <td>15.7417</td>\n      <td>C</td>\n      <td>C</td>\n      <td>NaN</td>\n    </tr>\n    <tr>\n      <th>1050</th>\n      <td>3</td>\n      <td>1</td>\n      <td>Nakid, Mrs. Said (Waika \"Mary\" Mowad)</td>\n      <td>female</td>\n      <td>19.00</td>\n      <td>1</td>\n      <td>1</td>\n      <td>2653</td>\n      <td>15.7417</td>\n      <td>C</td>\n      <td>C</td>\n      <td>NaN</td>\n    </tr>\n    <tr>\n      <th>1057</th>\n      <td>3</td>\n      <td>1</td>\n      <td>Nicola-Yarred, Miss. Jamila</td>\n      <td>female</td>\n      <td>14.00</td>\n      <td>1</td>\n      <td>0</td>\n      <td>2651</td>\n      <td>11.2417</td>\n      <td>C</td>\n      <td>C</td>\n      <td>NaN</td>\n    </tr>\n    <tr>\n      <th>1060</th>\n      <td>3</td>\n      <td>1</td>\n      <td>Nilsson, Miss. Berta Olivia</td>\n      <td>female</td>\n      <td>18.00</td>\n      <td>0</td>\n      <td>0</td>\n      <td>347066</td>\n      <td>7.7750</td>\n      <td>S</td>\n      <td>D</td>\n      <td>NaN</td>\n    </tr>\n    <tr>\n      <th>1061</th>\n      <td>3</td>\n      <td>1</td>\n      <td>Nilsson, Miss. Helmina Josefina</td>\n      <td>female</td>\n      <td>26.00</td>\n      <td>0</td>\n      <td>0</td>\n      <td>347470</td>\n      <td>7.8542</td>\n      <td>S</td>\n      <td>13</td>\n      <td>NaN</td>\n    </tr>\n    <tr>\n      <th>1067</th>\n      <td>3</td>\n      <td>1</td>\n      <td>Nysten, Miss. Anna Sofia</td>\n      <td>female</td>\n      <td>22.00</td>\n      <td>0</td>\n      <td>0</td>\n      <td>347081</td>\n      <td>7.7500</td>\n      <td>S</td>\n      <td>13</td>\n      <td>NaN</td>\n    </tr>\n    <tr>\n      <th>1079</th>\n      <td>3</td>\n      <td>1</td>\n      <td>Ohman, Miss. Velin</td>\n      <td>female</td>\n      <td>22.00</td>\n      <td>0</td>\n      <td>0</td>\n      <td>347085</td>\n      <td>7.7750</td>\n      <td>S</td>\n      <td>C</td>\n      <td>NaN</td>\n    </tr>\n    <tr>\n      <th>1182</th>\n      <td>3</td>\n      <td>1</td>\n      <td>Salkjelsvik, Miss. Anna Kristine</td>\n      <td>female</td>\n      <td>21.00</td>\n      <td>0</td>\n      <td>0</td>\n      <td>343120</td>\n      <td>7.6500</td>\n      <td>S</td>\n      <td>C</td>\n      <td>NaN</td>\n    </tr>\n    <tr>\n      <th>1187</th>\n      <td>3</td>\n      <td>1</td>\n      <td>Sandstrom, Miss. Beatrice Irene</td>\n      <td>female</td>\n      <td>1.00</td>\n      <td>1</td>\n      <td>1</td>\n      <td>PP 9549</td>\n      <td>16.7000</td>\n      <td>S</td>\n      <td>13</td>\n      <td>NaN</td>\n    </tr>\n    <tr>\n      <th>1188</th>\n      <td>3</td>\n      <td>1</td>\n      <td>Sandstrom, Mrs. Hjalmar (Agnes Charlotta Bengt...</td>\n      <td>female</td>\n      <td>24.00</td>\n      <td>0</td>\n      <td>2</td>\n      <td>PP 9549</td>\n      <td>16.7000</td>\n      <td>S</td>\n      <td>13</td>\n      <td>NaN</td>\n    </tr>\n    <tr>\n      <th>1189</th>\n      <td>3</td>\n      <td>1</td>\n      <td>Sandstrom, Miss. Marguerite Rut</td>\n      <td>female</td>\n      <td>4.00</td>\n      <td>1</td>\n      <td>1</td>\n      <td>PP 9549</td>\n      <td>16.7000</td>\n      <td>S</td>\n      <td>13</td>\n      <td>NaN</td>\n    </tr>\n    <tr>\n      <th>1205</th>\n      <td>3</td>\n      <td>1</td>\n      <td>Sjoblom, Miss. Anna Sofia</td>\n      <td>female</td>\n      <td>18.00</td>\n      <td>0</td>\n      <td>0</td>\n      <td>3101265</td>\n      <td>7.4958</td>\n      <td>S</td>\n      <td>16</td>\n      <td>NaN</td>\n    </tr>\n    <tr>\n      <th>1223</th>\n      <td>3</td>\n      <td>1</td>\n      <td>Stanley, Miss. Amy Zillah Elsie</td>\n      <td>female</td>\n      <td>23.00</td>\n      <td>0</td>\n      <td>0</td>\n      <td>CA. 2314</td>\n      <td>7.5500</td>\n      <td>S</td>\n      <td>C</td>\n      <td>NaN</td>\n    </tr>\n    <tr>\n      <th>1244</th>\n      <td>3</td>\n      <td>1</td>\n      <td>Thomas, Mrs. Alexander (Thamine \"Thelma\")</td>\n      <td>female</td>\n      <td>16.00</td>\n      <td>1</td>\n      <td>1</td>\n      <td>2625</td>\n      <td>8.5167</td>\n      <td>C</td>\n      <td>14</td>\n      <td>NaN</td>\n    </tr>\n    <tr>\n      <th>1257</th>\n      <td>3</td>\n      <td>1</td>\n      <td>Touma, Miss. Maria Youssef</td>\n      <td>female</td>\n      <td>9.00</td>\n      <td>1</td>\n      <td>1</td>\n      <td>2650</td>\n      <td>15.2458</td>\n      <td>C</td>\n      <td>C</td>\n      <td>NaN</td>\n    </tr>\n    <tr>\n      <th>1258</th>\n      <td>3</td>\n      <td>1</td>\n      <td>Touma, Mrs. Darwis (Hanne Youssef Razi)</td>\n      <td>female</td>\n      <td>29.00</td>\n      <td>0</td>\n      <td>2</td>\n      <td>2650</td>\n      <td>15.2458</td>\n      <td>C</td>\n      <td>C</td>\n      <td>NaN</td>\n    </tr>\n    <tr>\n      <th>1260</th>\n      <td>3</td>\n      <td>1</td>\n      <td>Turja, Miss. Anna Sofia</td>\n      <td>female</td>\n      <td>18.00</td>\n      <td>0</td>\n      <td>0</td>\n      <td>4138</td>\n      <td>9.8417</td>\n      <td>S</td>\n      <td>15</td>\n      <td>NaN</td>\n    </tr>\n    <tr>\n      <th>1300</th>\n      <td>3</td>\n      <td>1</td>\n      <td>Yasbeck, Mrs. Antoni (Selini Alexander)</td>\n      <td>female</td>\n      <td>15.00</td>\n      <td>1</td>\n      <td>0</td>\n      <td>2659</td>\n      <td>14.4542</td>\n      <td>C</td>\n      <td>NaN</td>\n      <td>NaN</td>\n    </tr>\n  </tbody>\n</table>\n</div>"
     },
     "metadata": {},
     "execution_count": 311
    }
   ],
   "source": [
    "#your code\n",
    "titanic[(titanic['gender'] == 'female') & (titanic['pclass'] == 3) & (titanic['age'] < 30) & (titanic['survived'] == 1)]"
   ]
  },
  {
   "cell_type": "markdown",
   "metadata": {},
   "source": [
    "28. Now, show only the rows using `.loc` with the following conditions: \n",
    "    - They are man\n",
    "    - From first class\n",
    "    - Older than 50\n",
    "    - They died\n",
    "    \n",
    "    ¿How many rows fulfill the condition?"
   ]
  },
  {
   "cell_type": "code",
   "execution_count": 310,
   "metadata": {},
   "outputs": [
    {
     "output_type": "execute_result",
     "data": {
      "text/plain": [
       "     pclass  survived                            name gender   age  sibsp  \\\n",
       "9         1         0         Artagaveytia, Mr. Ramon   male  71.0      0   \n",
       "81        1         0    Crosby, Capt. Edward Gifford   male  70.0      1   \n",
       "115       1         0               Fortune, Mr. Mark   male  64.0      1   \n",
       "135       1         0       Goldschmidt, Mr. George B   male  71.0      0   \n",
       "154       1         0      Hays, Mr. Charles Melville   male  55.0      1   \n",
       "158       1         0     Hipkins, Mr. William Edward   male  55.0      0   \n",
       "174       1         0         Kent, Mr. Edward Austin   male  58.0      0   \n",
       "201       1         0         McCarthy, Mr. Timothy J   male  54.0      0   \n",
       "205       1         0       Millet, Mr. Francis Davis   male  65.0      0   \n",
       "210       1         0      Molson, Mr. Harry Markland   male  55.0      0   \n",
       "215       1         0      Newell, Mr. Arthur Webster   male  58.0      0   \n",
       "217       1         0    Nicholson, Mr. Arthur Ernest   male  64.0      0   \n",
       "221       1         0  Ostby, Mr. Engelhart Cornelius   male  65.0      0   \n",
       "246       1         0          Rothschild, Mr. Martin   male  55.0      1   \n",
       "252       1         0      Ryerson, Mr. Arthur Larned   male  61.0      1   \n",
       "266       1         0      Smart, Mr. John Montgomery   male  56.0      0   \n",
       "267       1         0         Smith, Mr. James Clinch   male  56.0      0   \n",
       "276       1         0   Spencer, Mr. William Augustus   male  57.0      1   \n",
       "279       1         0       Stead, Mr. William Thomas   male  62.0      0   \n",
       "285       1         0              Straus, Mr. Isidor   male  67.0      1   \n",
       "287       1         0           Sutton, Mr. Frederick   male  61.0      0   \n",
       "290       1         0               Taussig, Mr. Emil   male  52.0      1   \n",
       "300       1         0       Van der hoef, Mr. Wyckoff   male  61.0      0   \n",
       "303       1         0        Warren, Mr. Frank Manley   male  64.0      1   \n",
       "305       1         0                 Weir, Col. John   male  60.0      0   \n",
       "306       1         0     White, Mr. Percival Wayland   male  54.0      0   \n",
       "310       1         0        Wick, Mr. George Dennick   male  57.0      1   \n",
       "316       1         0     Williams, Mr. Charles Duane   male  51.0      0   \n",
       "321       1         0              Wright, Mr. George   male  62.0      0   \n",
       "\n",
       "     parch     ticket      fare embarked boat  \\\n",
       "9        0   PC 17609   49.5042        C  NaN   \n",
       "81       1  WE/P 5735   71.0000        S  NaN   \n",
       "115      4      19950  263.0000        S  NaN   \n",
       "135      0   PC 17754   34.6542        C  NaN   \n",
       "154      1      12749   93.5000        S  NaN   \n",
       "158      0        680   50.0000        S  NaN   \n",
       "174      0      11771   29.7000        C  NaN   \n",
       "201      0      17463   51.8625        S  NaN   \n",
       "205      0      13509   26.5500        S  NaN   \n",
       "210      0     113787   30.5000        S  NaN   \n",
       "215      2      35273  113.2750        C  NaN   \n",
       "217      0        693   26.0000        S  NaN   \n",
       "221      1     113509   61.9792        C  NaN   \n",
       "246      0   PC 17603   59.4000        C  NaN   \n",
       "252      3   PC 17608  262.3750        C  NaN   \n",
       "266      0     113792   26.5500        S  NaN   \n",
       "267      0      17764   30.6958        C  NaN   \n",
       "276      0   PC 17569  146.5208        C  NaN   \n",
       "279      0     113514   26.5500        S  NaN   \n",
       "285      0   PC 17483  221.7792        S  NaN   \n",
       "287      0      36963   32.3208        S  NaN   \n",
       "290      1     110413   79.6500        S  NaN   \n",
       "300      0     111240   33.5000        S  NaN   \n",
       "303      0     110813   75.2500        C  NaN   \n",
       "305      0     113800   26.5500        S  NaN   \n",
       "306      1      35281   77.2875        S  NaN   \n",
       "310      1      36928  164.8667        S  NaN   \n",
       "316      1   PC 17597   61.3792        C  NaN   \n",
       "321      0     113807   26.5500        S  NaN   \n",
       "\n",
       "                                          home.dest  \n",
       "9                               Montevideo, Uruguay  \n",
       "81                                    Milwaukee, WI  \n",
       "115                                    Winnipeg, MB  \n",
       "135                                    New York, NY  \n",
       "154                                    Montreal, PQ  \n",
       "158                             London / Birmingham  \n",
       "174                                     Buffalo, NY  \n",
       "201                                  Dorchester, MA  \n",
       "205                            East Bridgewater, MA  \n",
       "210                                    Montreal, PQ  \n",
       "215                                   Lexington, MA  \n",
       "217                          Isle of Wight, England  \n",
       "221                                  Providence, RI  \n",
       "246                                    New York, NY  \n",
       "252                 Haverford, PA / Cooperstown, NY  \n",
       "266                                    New York, NY  \n",
       "267                       St James, Long Island, NY  \n",
       "276                                   Paris, France  \n",
       "279  Wimbledon Park, London / Hayling Island, Hants  \n",
       "285                                    New York, NY  \n",
       "287                                 Haddenfield, NJ  \n",
       "290                                    New York, NY  \n",
       "300                                    Brooklyn, NY  \n",
       "303                                    Portland, OR  \n",
       "305                    England Salt Lake City, Utah  \n",
       "306                                   Brunswick, ME  \n",
       "310                                  Youngstown, OH  \n",
       "316                Geneva, Switzerland / Radnor, PA  \n",
       "321                                     Halifax, NS  "
      ],
      "text/html": "<div>\n<style scoped>\n    .dataframe tbody tr th:only-of-type {\n        vertical-align: middle;\n    }\n\n    .dataframe tbody tr th {\n        vertical-align: top;\n    }\n\n    .dataframe thead th {\n        text-align: right;\n    }\n</style>\n<table border=\"1\" class=\"dataframe\">\n  <thead>\n    <tr style=\"text-align: right;\">\n      <th></th>\n      <th>pclass</th>\n      <th>survived</th>\n      <th>name</th>\n      <th>gender</th>\n      <th>age</th>\n      <th>sibsp</th>\n      <th>parch</th>\n      <th>ticket</th>\n      <th>fare</th>\n      <th>embarked</th>\n      <th>boat</th>\n      <th>home.dest</th>\n    </tr>\n  </thead>\n  <tbody>\n    <tr>\n      <th>9</th>\n      <td>1</td>\n      <td>0</td>\n      <td>Artagaveytia, Mr. Ramon</td>\n      <td>male</td>\n      <td>71.0</td>\n      <td>0</td>\n      <td>0</td>\n      <td>PC 17609</td>\n      <td>49.5042</td>\n      <td>C</td>\n      <td>NaN</td>\n      <td>Montevideo, Uruguay</td>\n    </tr>\n    <tr>\n      <th>81</th>\n      <td>1</td>\n      <td>0</td>\n      <td>Crosby, Capt. Edward Gifford</td>\n      <td>male</td>\n      <td>70.0</td>\n      <td>1</td>\n      <td>1</td>\n      <td>WE/P 5735</td>\n      <td>71.0000</td>\n      <td>S</td>\n      <td>NaN</td>\n      <td>Milwaukee, WI</td>\n    </tr>\n    <tr>\n      <th>115</th>\n      <td>1</td>\n      <td>0</td>\n      <td>Fortune, Mr. Mark</td>\n      <td>male</td>\n      <td>64.0</td>\n      <td>1</td>\n      <td>4</td>\n      <td>19950</td>\n      <td>263.0000</td>\n      <td>S</td>\n      <td>NaN</td>\n      <td>Winnipeg, MB</td>\n    </tr>\n    <tr>\n      <th>135</th>\n      <td>1</td>\n      <td>0</td>\n      <td>Goldschmidt, Mr. George B</td>\n      <td>male</td>\n      <td>71.0</td>\n      <td>0</td>\n      <td>0</td>\n      <td>PC 17754</td>\n      <td>34.6542</td>\n      <td>C</td>\n      <td>NaN</td>\n      <td>New York, NY</td>\n    </tr>\n    <tr>\n      <th>154</th>\n      <td>1</td>\n      <td>0</td>\n      <td>Hays, Mr. Charles Melville</td>\n      <td>male</td>\n      <td>55.0</td>\n      <td>1</td>\n      <td>1</td>\n      <td>12749</td>\n      <td>93.5000</td>\n      <td>S</td>\n      <td>NaN</td>\n      <td>Montreal, PQ</td>\n    </tr>\n    <tr>\n      <th>158</th>\n      <td>1</td>\n      <td>0</td>\n      <td>Hipkins, Mr. William Edward</td>\n      <td>male</td>\n      <td>55.0</td>\n      <td>0</td>\n      <td>0</td>\n      <td>680</td>\n      <td>50.0000</td>\n      <td>S</td>\n      <td>NaN</td>\n      <td>London / Birmingham</td>\n    </tr>\n    <tr>\n      <th>174</th>\n      <td>1</td>\n      <td>0</td>\n      <td>Kent, Mr. Edward Austin</td>\n      <td>male</td>\n      <td>58.0</td>\n      <td>0</td>\n      <td>0</td>\n      <td>11771</td>\n      <td>29.7000</td>\n      <td>C</td>\n      <td>NaN</td>\n      <td>Buffalo, NY</td>\n    </tr>\n    <tr>\n      <th>201</th>\n      <td>1</td>\n      <td>0</td>\n      <td>McCarthy, Mr. Timothy J</td>\n      <td>male</td>\n      <td>54.0</td>\n      <td>0</td>\n      <td>0</td>\n      <td>17463</td>\n      <td>51.8625</td>\n      <td>S</td>\n      <td>NaN</td>\n      <td>Dorchester, MA</td>\n    </tr>\n    <tr>\n      <th>205</th>\n      <td>1</td>\n      <td>0</td>\n      <td>Millet, Mr. Francis Davis</td>\n      <td>male</td>\n      <td>65.0</td>\n      <td>0</td>\n      <td>0</td>\n      <td>13509</td>\n      <td>26.5500</td>\n      <td>S</td>\n      <td>NaN</td>\n      <td>East Bridgewater, MA</td>\n    </tr>\n    <tr>\n      <th>210</th>\n      <td>1</td>\n      <td>0</td>\n      <td>Molson, Mr. Harry Markland</td>\n      <td>male</td>\n      <td>55.0</td>\n      <td>0</td>\n      <td>0</td>\n      <td>113787</td>\n      <td>30.5000</td>\n      <td>S</td>\n      <td>NaN</td>\n      <td>Montreal, PQ</td>\n    </tr>\n    <tr>\n      <th>215</th>\n      <td>1</td>\n      <td>0</td>\n      <td>Newell, Mr. Arthur Webster</td>\n      <td>male</td>\n      <td>58.0</td>\n      <td>0</td>\n      <td>2</td>\n      <td>35273</td>\n      <td>113.2750</td>\n      <td>C</td>\n      <td>NaN</td>\n      <td>Lexington, MA</td>\n    </tr>\n    <tr>\n      <th>217</th>\n      <td>1</td>\n      <td>0</td>\n      <td>Nicholson, Mr. Arthur Ernest</td>\n      <td>male</td>\n      <td>64.0</td>\n      <td>0</td>\n      <td>0</td>\n      <td>693</td>\n      <td>26.0000</td>\n      <td>S</td>\n      <td>NaN</td>\n      <td>Isle of Wight, England</td>\n    </tr>\n    <tr>\n      <th>221</th>\n      <td>1</td>\n      <td>0</td>\n      <td>Ostby, Mr. Engelhart Cornelius</td>\n      <td>male</td>\n      <td>65.0</td>\n      <td>0</td>\n      <td>1</td>\n      <td>113509</td>\n      <td>61.9792</td>\n      <td>C</td>\n      <td>NaN</td>\n      <td>Providence, RI</td>\n    </tr>\n    <tr>\n      <th>246</th>\n      <td>1</td>\n      <td>0</td>\n      <td>Rothschild, Mr. Martin</td>\n      <td>male</td>\n      <td>55.0</td>\n      <td>1</td>\n      <td>0</td>\n      <td>PC 17603</td>\n      <td>59.4000</td>\n      <td>C</td>\n      <td>NaN</td>\n      <td>New York, NY</td>\n    </tr>\n    <tr>\n      <th>252</th>\n      <td>1</td>\n      <td>0</td>\n      <td>Ryerson, Mr. Arthur Larned</td>\n      <td>male</td>\n      <td>61.0</td>\n      <td>1</td>\n      <td>3</td>\n      <td>PC 17608</td>\n      <td>262.3750</td>\n      <td>C</td>\n      <td>NaN</td>\n      <td>Haverford, PA / Cooperstown, NY</td>\n    </tr>\n    <tr>\n      <th>266</th>\n      <td>1</td>\n      <td>0</td>\n      <td>Smart, Mr. John Montgomery</td>\n      <td>male</td>\n      <td>56.0</td>\n      <td>0</td>\n      <td>0</td>\n      <td>113792</td>\n      <td>26.5500</td>\n      <td>S</td>\n      <td>NaN</td>\n      <td>New York, NY</td>\n    </tr>\n    <tr>\n      <th>267</th>\n      <td>1</td>\n      <td>0</td>\n      <td>Smith, Mr. James Clinch</td>\n      <td>male</td>\n      <td>56.0</td>\n      <td>0</td>\n      <td>0</td>\n      <td>17764</td>\n      <td>30.6958</td>\n      <td>C</td>\n      <td>NaN</td>\n      <td>St James, Long Island, NY</td>\n    </tr>\n    <tr>\n      <th>276</th>\n      <td>1</td>\n      <td>0</td>\n      <td>Spencer, Mr. William Augustus</td>\n      <td>male</td>\n      <td>57.0</td>\n      <td>1</td>\n      <td>0</td>\n      <td>PC 17569</td>\n      <td>146.5208</td>\n      <td>C</td>\n      <td>NaN</td>\n      <td>Paris, France</td>\n    </tr>\n    <tr>\n      <th>279</th>\n      <td>1</td>\n      <td>0</td>\n      <td>Stead, Mr. William Thomas</td>\n      <td>male</td>\n      <td>62.0</td>\n      <td>0</td>\n      <td>0</td>\n      <td>113514</td>\n      <td>26.5500</td>\n      <td>S</td>\n      <td>NaN</td>\n      <td>Wimbledon Park, London / Hayling Island, Hants</td>\n    </tr>\n    <tr>\n      <th>285</th>\n      <td>1</td>\n      <td>0</td>\n      <td>Straus, Mr. Isidor</td>\n      <td>male</td>\n      <td>67.0</td>\n      <td>1</td>\n      <td>0</td>\n      <td>PC 17483</td>\n      <td>221.7792</td>\n      <td>S</td>\n      <td>NaN</td>\n      <td>New York, NY</td>\n    </tr>\n    <tr>\n      <th>287</th>\n      <td>1</td>\n      <td>0</td>\n      <td>Sutton, Mr. Frederick</td>\n      <td>male</td>\n      <td>61.0</td>\n      <td>0</td>\n      <td>0</td>\n      <td>36963</td>\n      <td>32.3208</td>\n      <td>S</td>\n      <td>NaN</td>\n      <td>Haddenfield, NJ</td>\n    </tr>\n    <tr>\n      <th>290</th>\n      <td>1</td>\n      <td>0</td>\n      <td>Taussig, Mr. Emil</td>\n      <td>male</td>\n      <td>52.0</td>\n      <td>1</td>\n      <td>1</td>\n      <td>110413</td>\n      <td>79.6500</td>\n      <td>S</td>\n      <td>NaN</td>\n      <td>New York, NY</td>\n    </tr>\n    <tr>\n      <th>300</th>\n      <td>1</td>\n      <td>0</td>\n      <td>Van der hoef, Mr. Wyckoff</td>\n      <td>male</td>\n      <td>61.0</td>\n      <td>0</td>\n      <td>0</td>\n      <td>111240</td>\n      <td>33.5000</td>\n      <td>S</td>\n      <td>NaN</td>\n      <td>Brooklyn, NY</td>\n    </tr>\n    <tr>\n      <th>303</th>\n      <td>1</td>\n      <td>0</td>\n      <td>Warren, Mr. Frank Manley</td>\n      <td>male</td>\n      <td>64.0</td>\n      <td>1</td>\n      <td>0</td>\n      <td>110813</td>\n      <td>75.2500</td>\n      <td>C</td>\n      <td>NaN</td>\n      <td>Portland, OR</td>\n    </tr>\n    <tr>\n      <th>305</th>\n      <td>1</td>\n      <td>0</td>\n      <td>Weir, Col. John</td>\n      <td>male</td>\n      <td>60.0</td>\n      <td>0</td>\n      <td>0</td>\n      <td>113800</td>\n      <td>26.5500</td>\n      <td>S</td>\n      <td>NaN</td>\n      <td>England Salt Lake City, Utah</td>\n    </tr>\n    <tr>\n      <th>306</th>\n      <td>1</td>\n      <td>0</td>\n      <td>White, Mr. Percival Wayland</td>\n      <td>male</td>\n      <td>54.0</td>\n      <td>0</td>\n      <td>1</td>\n      <td>35281</td>\n      <td>77.2875</td>\n      <td>S</td>\n      <td>NaN</td>\n      <td>Brunswick, ME</td>\n    </tr>\n    <tr>\n      <th>310</th>\n      <td>1</td>\n      <td>0</td>\n      <td>Wick, Mr. George Dennick</td>\n      <td>male</td>\n      <td>57.0</td>\n      <td>1</td>\n      <td>1</td>\n      <td>36928</td>\n      <td>164.8667</td>\n      <td>S</td>\n      <td>NaN</td>\n      <td>Youngstown, OH</td>\n    </tr>\n    <tr>\n      <th>316</th>\n      <td>1</td>\n      <td>0</td>\n      <td>Williams, Mr. Charles Duane</td>\n      <td>male</td>\n      <td>51.0</td>\n      <td>0</td>\n      <td>1</td>\n      <td>PC 17597</td>\n      <td>61.3792</td>\n      <td>C</td>\n      <td>NaN</td>\n      <td>Geneva, Switzerland / Radnor, PA</td>\n    </tr>\n    <tr>\n      <th>321</th>\n      <td>1</td>\n      <td>0</td>\n      <td>Wright, Mr. George</td>\n      <td>male</td>\n      <td>62.0</td>\n      <td>0</td>\n      <td>0</td>\n      <td>113807</td>\n      <td>26.5500</td>\n      <td>S</td>\n      <td>NaN</td>\n      <td>Halifax, NS</td>\n    </tr>\n  </tbody>\n</table>\n</div>"
     },
     "metadata": {},
     "execution_count": 310
    }
   ],
   "source": [
    "#your code\n",
    "titanic.loc[(titanic['gender'] == 'male') & (titanic['pclass'] == 1) & (titanic['age'] > 50) & (titanic['survived'] == 0)]"
   ]
  },
  {
   "cell_type": "markdown",
   "metadata": {},
   "source": [
    "29. Print the uniques values at the column `'name'`"
   ]
  },
  {
   "cell_type": "code",
   "execution_count": 318,
   "metadata": {},
   "outputs": [
    {
     "output_type": "execute_result",
     "data": {
      "text/plain": [
       "      pclass  survived                                             name  \\\n",
       "0          1         1                    Allen, Miss. Elisabeth Walton   \n",
       "1          1         1                   Allison, Master. Hudson Trevor   \n",
       "2          1         0                     Allison, Miss. Helen Loraine   \n",
       "3          1         0             Allison, Mr. Hudson Joshua Creighton   \n",
       "4          1         0  Allison, Mrs. Hudson J C (Bessie Waldo Daniels)   \n",
       "...      ...       ...                                              ...   \n",
       "1304       3         0                             Zabour, Miss. Hileni   \n",
       "1305       3         0                            Zabour, Miss. Thamine   \n",
       "1306       3         0                        Zakarian, Mr. Mapriededer   \n",
       "1307       3         0                              Zakarian, Mr. Ortin   \n",
       "1308       3         0                               Zimmerman, Mr. Leo   \n",
       "\n",
       "      gender    age  sibsp  parch  ticket      fare embarked boat  \\\n",
       "0     female  29.00      0      0   24160  211.3375        S    2   \n",
       "1       male   0.92      1      2  113781  151.5500        S   11   \n",
       "2     female   2.00      1      2  113781  151.5500        S  NaN   \n",
       "3       male  30.00      1      2  113781  151.5500        S  NaN   \n",
       "4     female  25.00      1      2  113781  151.5500        S  NaN   \n",
       "...      ...    ...    ...    ...     ...       ...      ...  ...   \n",
       "1304  female  14.50      1      0    2665   14.4542        C  NaN   \n",
       "1305  female    NaN      1      0    2665   14.4542        C  NaN   \n",
       "1306    male  26.50      0      0    2656    7.2250        C  NaN   \n",
       "1307    male  27.00      0      0    2670    7.2250        C  NaN   \n",
       "1308    male  29.00      0      0  315082    7.8750        S  NaN   \n",
       "\n",
       "                            home.dest  \n",
       "0                        St Louis, MO  \n",
       "1     Montreal, PQ / Chesterville, ON  \n",
       "2     Montreal, PQ / Chesterville, ON  \n",
       "3     Montreal, PQ / Chesterville, ON  \n",
       "4     Montreal, PQ / Chesterville, ON  \n",
       "...                               ...  \n",
       "1304                              NaN  \n",
       "1305                              NaN  \n",
       "1306                              NaN  \n",
       "1307                              NaN  \n",
       "1308                              NaN  \n",
       "\n",
       "[1307 rows x 12 columns]"
      ],
      "text/html": "<div>\n<style scoped>\n    .dataframe tbody tr th:only-of-type {\n        vertical-align: middle;\n    }\n\n    .dataframe tbody tr th {\n        vertical-align: top;\n    }\n\n    .dataframe thead th {\n        text-align: right;\n    }\n</style>\n<table border=\"1\" class=\"dataframe\">\n  <thead>\n    <tr style=\"text-align: right;\">\n      <th></th>\n      <th>pclass</th>\n      <th>survived</th>\n      <th>name</th>\n      <th>gender</th>\n      <th>age</th>\n      <th>sibsp</th>\n      <th>parch</th>\n      <th>ticket</th>\n      <th>fare</th>\n      <th>embarked</th>\n      <th>boat</th>\n      <th>home.dest</th>\n    </tr>\n  </thead>\n  <tbody>\n    <tr>\n      <th>0</th>\n      <td>1</td>\n      <td>1</td>\n      <td>Allen, Miss. Elisabeth Walton</td>\n      <td>female</td>\n      <td>29.00</td>\n      <td>0</td>\n      <td>0</td>\n      <td>24160</td>\n      <td>211.3375</td>\n      <td>S</td>\n      <td>2</td>\n      <td>St Louis, MO</td>\n    </tr>\n    <tr>\n      <th>1</th>\n      <td>1</td>\n      <td>1</td>\n      <td>Allison, Master. Hudson Trevor</td>\n      <td>male</td>\n      <td>0.92</td>\n      <td>1</td>\n      <td>2</td>\n      <td>113781</td>\n      <td>151.5500</td>\n      <td>S</td>\n      <td>11</td>\n      <td>Montreal, PQ / Chesterville, ON</td>\n    </tr>\n    <tr>\n      <th>2</th>\n      <td>1</td>\n      <td>0</td>\n      <td>Allison, Miss. Helen Loraine</td>\n      <td>female</td>\n      <td>2.00</td>\n      <td>1</td>\n      <td>2</td>\n      <td>113781</td>\n      <td>151.5500</td>\n      <td>S</td>\n      <td>NaN</td>\n      <td>Montreal, PQ / Chesterville, ON</td>\n    </tr>\n    <tr>\n      <th>3</th>\n      <td>1</td>\n      <td>0</td>\n      <td>Allison, Mr. Hudson Joshua Creighton</td>\n      <td>male</td>\n      <td>30.00</td>\n      <td>1</td>\n      <td>2</td>\n      <td>113781</td>\n      <td>151.5500</td>\n      <td>S</td>\n      <td>NaN</td>\n      <td>Montreal, PQ / Chesterville, ON</td>\n    </tr>\n    <tr>\n      <th>4</th>\n      <td>1</td>\n      <td>0</td>\n      <td>Allison, Mrs. Hudson J C (Bessie Waldo Daniels)</td>\n      <td>female</td>\n      <td>25.00</td>\n      <td>1</td>\n      <td>2</td>\n      <td>113781</td>\n      <td>151.5500</td>\n      <td>S</td>\n      <td>NaN</td>\n      <td>Montreal, PQ / Chesterville, ON</td>\n    </tr>\n    <tr>\n      <th>...</th>\n      <td>...</td>\n      <td>...</td>\n      <td>...</td>\n      <td>...</td>\n      <td>...</td>\n      <td>...</td>\n      <td>...</td>\n      <td>...</td>\n      <td>...</td>\n      <td>...</td>\n      <td>...</td>\n      <td>...</td>\n    </tr>\n    <tr>\n      <th>1304</th>\n      <td>3</td>\n      <td>0</td>\n      <td>Zabour, Miss. Hileni</td>\n      <td>female</td>\n      <td>14.50</td>\n      <td>1</td>\n      <td>0</td>\n      <td>2665</td>\n      <td>14.4542</td>\n      <td>C</td>\n      <td>NaN</td>\n      <td>NaN</td>\n    </tr>\n    <tr>\n      <th>1305</th>\n      <td>3</td>\n      <td>0</td>\n      <td>Zabour, Miss. Thamine</td>\n      <td>female</td>\n      <td>NaN</td>\n      <td>1</td>\n      <td>0</td>\n      <td>2665</td>\n      <td>14.4542</td>\n      <td>C</td>\n      <td>NaN</td>\n      <td>NaN</td>\n    </tr>\n    <tr>\n      <th>1306</th>\n      <td>3</td>\n      <td>0</td>\n      <td>Zakarian, Mr. Mapriededer</td>\n      <td>male</td>\n      <td>26.50</td>\n      <td>0</td>\n      <td>0</td>\n      <td>2656</td>\n      <td>7.2250</td>\n      <td>C</td>\n      <td>NaN</td>\n      <td>NaN</td>\n    </tr>\n    <tr>\n      <th>1307</th>\n      <td>3</td>\n      <td>0</td>\n      <td>Zakarian, Mr. Ortin</td>\n      <td>male</td>\n      <td>27.00</td>\n      <td>0</td>\n      <td>0</td>\n      <td>2670</td>\n      <td>7.2250</td>\n      <td>C</td>\n      <td>NaN</td>\n      <td>NaN</td>\n    </tr>\n    <tr>\n      <th>1308</th>\n      <td>3</td>\n      <td>0</td>\n      <td>Zimmerman, Mr. Leo</td>\n      <td>male</td>\n      <td>29.00</td>\n      <td>0</td>\n      <td>0</td>\n      <td>315082</td>\n      <td>7.8750</td>\n      <td>S</td>\n      <td>NaN</td>\n      <td>NaN</td>\n    </tr>\n  </tbody>\n</table>\n<p>1307 rows × 12 columns</p>\n</div>"
     },
     "metadata": {},
     "execution_count": 318
    }
   ],
   "source": [
    "#your code\n",
    "titanic[~(titanic['name'].duplicated())]"
   ]
  },
  {
   "cell_type": "code",
   "execution_count": 417,
   "metadata": {},
   "outputs": [
    {
     "output_type": "execute_result",
     "data": {
      "text/plain": [
       "1307"
      ]
     },
     "metadata": {},
     "execution_count": 417
    }
   ],
   "source": [
    "titanic['name'].nunique()"
   ]
  },
  {
   "cell_type": "markdown",
   "metadata": {},
   "source": [
    "30. Find if was there any `name` repeated at the Titanic?\n",
    "\n",
    "Hint: There were two people with the same name, who?"
   ]
  },
  {
   "cell_type": "code",
   "execution_count": 319,
   "metadata": {},
   "outputs": [
    {
     "output_type": "execute_result",
     "data": {
      "text/plain": [
       "     pclass  survived                  name  gender   age  sibsp  parch  \\\n",
       "726       3         0  Connolly, Miss. Kate  female  30.0      0      0   \n",
       "925       3         0      Kelly, Mr. James    male  44.0      0      0   \n",
       "\n",
       "     ticket    fare embarked boat home.dest  \n",
       "726  330972  7.6292        Q  NaN   Ireland  \n",
       "925  363592  8.0500        S  NaN       NaN  "
      ],
      "text/html": "<div>\n<style scoped>\n    .dataframe tbody tr th:only-of-type {\n        vertical-align: middle;\n    }\n\n    .dataframe tbody tr th {\n        vertical-align: top;\n    }\n\n    .dataframe thead th {\n        text-align: right;\n    }\n</style>\n<table border=\"1\" class=\"dataframe\">\n  <thead>\n    <tr style=\"text-align: right;\">\n      <th></th>\n      <th>pclass</th>\n      <th>survived</th>\n      <th>name</th>\n      <th>gender</th>\n      <th>age</th>\n      <th>sibsp</th>\n      <th>parch</th>\n      <th>ticket</th>\n      <th>fare</th>\n      <th>embarked</th>\n      <th>boat</th>\n      <th>home.dest</th>\n    </tr>\n  </thead>\n  <tbody>\n    <tr>\n      <th>726</th>\n      <td>3</td>\n      <td>0</td>\n      <td>Connolly, Miss. Kate</td>\n      <td>female</td>\n      <td>30.0</td>\n      <td>0</td>\n      <td>0</td>\n      <td>330972</td>\n      <td>7.6292</td>\n      <td>Q</td>\n      <td>NaN</td>\n      <td>Ireland</td>\n    </tr>\n    <tr>\n      <th>925</th>\n      <td>3</td>\n      <td>0</td>\n      <td>Kelly, Mr. James</td>\n      <td>male</td>\n      <td>44.0</td>\n      <td>0</td>\n      <td>0</td>\n      <td>363592</td>\n      <td>8.0500</td>\n      <td>S</td>\n      <td>NaN</td>\n      <td>NaN</td>\n    </tr>\n  </tbody>\n</table>\n</div>"
     },
     "metadata": {},
     "execution_count": 319
    }
   ],
   "source": [
    "#your code\n",
    "# WTF que estoy haciendo mal\n",
    "titanic[(titanic['name'].duplicated())]"
   ]
  },
  {
   "cell_type": "markdown",
   "metadata": {},
   "source": [
    "31. Using `matplotlib` find the appropriate visualization to show the distribution of the column `'age'`"
   ]
  },
  {
   "cell_type": "code",
   "execution_count": 322,
   "metadata": {},
   "outputs": [
    {
     "output_type": "execute_result",
     "data": {
      "text/plain": [
       "Text(0.5, 1.0, 'Ages')"
      ]
     },
     "metadata": {},
     "execution_count": 322
    },
    {
     "output_type": "display_data",
     "data": {
      "text/plain": "<Figure size 432x288 with 1 Axes>",
      "image/svg+xml": "<?xml version=\"1.0\" encoding=\"utf-8\" standalone=\"no\"?>\n<!DOCTYPE svg PUBLIC \"-//W3C//DTD SVG 1.1//EN\"\n  \"http://www.w3.org/Graphics/SVG/1.1/DTD/svg11.dtd\">\n<!-- Created with matplotlib (https://matplotlib.org/) -->\n<svg height=\"263.63625pt\" version=\"1.1\" viewBox=\"0 0 375.2875 263.63625\" width=\"375.2875pt\" xmlns=\"http://www.w3.org/2000/svg\" xmlns:xlink=\"http://www.w3.org/1999/xlink\">\n <metadata>\n  <rdf:RDF xmlns:cc=\"http://creativecommons.org/ns#\" xmlns:dc=\"http://purl.org/dc/elements/1.1/\" xmlns:rdf=\"http://www.w3.org/1999/02/22-rdf-syntax-ns#\">\n   <cc:Work>\n    <dc:type rdf:resource=\"http://purl.org/dc/dcmitype/StillImage\"/>\n    <dc:date>2020-12-21T01:29:22.762897</dc:date>\n    <dc:format>image/svg+xml</dc:format>\n    <dc:creator>\n     <cc:Agent>\n      <dc:title>Matplotlib v3.3.3, https://matplotlib.org/</dc:title>\n     </cc:Agent>\n    </dc:creator>\n   </cc:Work>\n  </rdf:RDF>\n </metadata>\n <defs>\n  <style type=\"text/css\">*{stroke-linecap:butt;stroke-linejoin:round;}</style>\n </defs>\n <g id=\"figure_1\">\n  <g id=\"patch_1\">\n   <path d=\"M 0 263.63625 \nL 375.2875 263.63625 \nL 375.2875 0 \nL 0 0 \nz\n\" style=\"fill:none;\"/>\n  </g>\n  <g id=\"axes_1\">\n   <g id=\"patch_2\">\n    <path d=\"M 33.2875 239.758125 \nL 368.0875 239.758125 \nL 368.0875 22.318125 \nL 33.2875 22.318125 \nz\n\" style=\"fill:#ffffff;\"/>\n   </g>\n   <g id=\"patch_3\">\n    <path clip-path=\"url(#p4a2dc23866)\" d=\"M 48.505682 239.758125 \nL 78.942045 239.758125 \nL 78.942045 185.341441 \nL 48.505682 185.341441 \nz\n\" style=\"fill:#1f77b4;\"/>\n   </g>\n   <g id=\"patch_4\">\n    <path clip-path=\"url(#p4a2dc23866)\" d=\"M 78.942045 239.758125 \nL 109.378409 239.758125 \nL 109.378409 192.899314 \nL 78.942045 192.899314 \nz\n\" style=\"fill:#1f77b4;\"/>\n   </g>\n   <g id=\"patch_5\">\n    <path clip-path=\"url(#p4a2dc23866)\" d=\"M 109.378409 239.758125 \nL 139.814773 239.758125 \nL 139.814773 32.672411 \nL 109.378409 32.672411 \nz\n\" style=\"fill:#1f77b4;\"/>\n   </g>\n   <g id=\"patch_6\">\n    <path clip-path=\"url(#p4a2dc23866)\" d=\"M 139.814773 239.758125 \nL 170.251136 239.758125 \nL 170.251136 50.811305 \nL 139.814773 50.811305 \nz\n\" style=\"fill:#1f77b4;\"/>\n   </g>\n   <g id=\"patch_7\">\n    <path clip-path=\"url(#p4a2dc23866)\" d=\"M 170.251136 239.758125 \nL 200.6875 239.758125 \nL 200.6875 118.076373 \nL 170.251136 118.076373 \nz\n\" style=\"fill:#1f77b4;\"/>\n   </g>\n   <g id=\"patch_8\">\n    <path clip-path=\"url(#p4a2dc23866)\" d=\"M 200.6875 239.758125 \nL 231.123864 239.758125 \nL 231.123864 158.133099 \nL 200.6875 158.133099 \nz\n\" style=\"fill:#1f77b4;\"/>\n   </g>\n   <g id=\"patch_9\">\n    <path clip-path=\"url(#p4a2dc23866)\" d=\"M 231.123864 239.758125 \nL 261.560227 239.758125 \nL 261.560227 190.631952 \nL 231.123864 190.631952 \nz\n\" style=\"fill:#1f77b4;\"/>\n   </g>\n   <g id=\"patch_10\">\n    <path clip-path=\"url(#p4a2dc23866)\" d=\"M 261.560227 239.758125 \nL 291.996591 239.758125 \nL 291.996591 208.770847 \nL 261.560227 208.770847 \nz\n\" style=\"fill:#1f77b4;\"/>\n   </g>\n   <g id=\"patch_11\">\n    <path clip-path=\"url(#p4a2dc23866)\" d=\"M 291.996591 239.758125 \nL 322.432955 239.758125 \nL 322.432955 232.200252 \nL 291.996591 232.200252 \nz\n\" style=\"fill:#1f77b4;\"/>\n   </g>\n   <g id=\"patch_12\">\n    <path clip-path=\"url(#p4a2dc23866)\" d=\"M 322.432955 239.758125 \nL 352.869318 239.758125 \nL 352.869318 237.490763 \nL 322.432955 237.490763 \nz\n\" style=\"fill:#1f77b4;\"/>\n   </g>\n   <g id=\"matplotlib.axis_1\">\n    <g id=\"xtick_1\">\n     <g id=\"line2d_1\">\n      <defs>\n       <path d=\"M 0 0 \nL 0 3.5 \n\" id=\"mb7630458fd\" style=\"stroke:#000000;stroke-width:0.8;\"/>\n      </defs>\n      <g>\n       <use style=\"stroke:#000000;stroke-width:0.8;\" x=\"47.857532\" xlink:href=\"#mb7630458fd\" y=\"239.758125\"/>\n      </g>\n     </g>\n     <g id=\"text_1\">\n      <!-- 0 -->\n      <g transform=\"translate(44.676282 254.356563)scale(0.1 -0.1)\">\n       <defs>\n        <path d=\"M 31.78125 66.40625 \nQ 24.171875 66.40625 20.328125 58.90625 \nQ 16.5 51.421875 16.5 36.375 \nQ 16.5 21.390625 20.328125 13.890625 \nQ 24.171875 6.390625 31.78125 6.390625 \nQ 39.453125 6.390625 43.28125 13.890625 \nQ 47.125 21.390625 47.125 36.375 \nQ 47.125 51.421875 43.28125 58.90625 \nQ 39.453125 66.40625 31.78125 66.40625 \nz\nM 31.78125 74.21875 \nQ 44.046875 74.21875 50.515625 64.515625 \nQ 56.984375 54.828125 56.984375 36.375 \nQ 56.984375 17.96875 50.515625 8.265625 \nQ 44.046875 -1.421875 31.78125 -1.421875 \nQ 19.53125 -1.421875 13.0625 8.265625 \nQ 6.59375 17.96875 6.59375 36.375 \nQ 6.59375 54.828125 13.0625 64.515625 \nQ 19.53125 74.21875 31.78125 74.21875 \nz\n\" id=\"DejaVuSans-48\"/>\n       </defs>\n       <use xlink:href=\"#DejaVuSans-48\"/>\n      </g>\n     </g>\n    </g>\n    <g id=\"xtick_2\">\n     <g id=\"line2d_2\">\n      <g>\n       <use style=\"stroke:#000000;stroke-width:0.8;\" x=\"85.984005\" xlink:href=\"#mb7630458fd\" y=\"239.758125\"/>\n      </g>\n     </g>\n     <g id=\"text_2\">\n      <!-- 10 -->\n      <g transform=\"translate(79.621505 254.356563)scale(0.1 -0.1)\">\n       <defs>\n        <path d=\"M 12.40625 8.296875 \nL 28.515625 8.296875 \nL 28.515625 63.921875 \nL 10.984375 60.40625 \nL 10.984375 69.390625 \nL 28.421875 72.90625 \nL 38.28125 72.90625 \nL 38.28125 8.296875 \nL 54.390625 8.296875 \nL 54.390625 0 \nL 12.40625 0 \nz\n\" id=\"DejaVuSans-49\"/>\n       </defs>\n       <use xlink:href=\"#DejaVuSans-49\"/>\n       <use x=\"63.623047\" xlink:href=\"#DejaVuSans-48\"/>\n      </g>\n     </g>\n    </g>\n    <g id=\"xtick_3\">\n     <g id=\"line2d_3\">\n      <g>\n       <use style=\"stroke:#000000;stroke-width:0.8;\" x=\"124.110478\" xlink:href=\"#mb7630458fd\" y=\"239.758125\"/>\n      </g>\n     </g>\n     <g id=\"text_3\">\n      <!-- 20 -->\n      <g transform=\"translate(117.747978 254.356563)scale(0.1 -0.1)\">\n       <defs>\n        <path d=\"M 19.1875 8.296875 \nL 53.609375 8.296875 \nL 53.609375 0 \nL 7.328125 0 \nL 7.328125 8.296875 \nQ 12.9375 14.109375 22.625 23.890625 \nQ 32.328125 33.6875 34.8125 36.53125 \nQ 39.546875 41.84375 41.421875 45.53125 \nQ 43.3125 49.21875 43.3125 52.78125 \nQ 43.3125 58.59375 39.234375 62.25 \nQ 35.15625 65.921875 28.609375 65.921875 \nQ 23.96875 65.921875 18.8125 64.3125 \nQ 13.671875 62.703125 7.8125 59.421875 \nL 7.8125 69.390625 \nQ 13.765625 71.78125 18.9375 73 \nQ 24.125 74.21875 28.421875 74.21875 \nQ 39.75 74.21875 46.484375 68.546875 \nQ 53.21875 62.890625 53.21875 53.421875 \nQ 53.21875 48.921875 51.53125 44.890625 \nQ 49.859375 40.875 45.40625 35.40625 \nQ 44.1875 33.984375 37.640625 27.21875 \nQ 31.109375 20.453125 19.1875 8.296875 \nz\n\" id=\"DejaVuSans-50\"/>\n       </defs>\n       <use xlink:href=\"#DejaVuSans-50\"/>\n       <use x=\"63.623047\" xlink:href=\"#DejaVuSans-48\"/>\n      </g>\n     </g>\n    </g>\n    <g id=\"xtick_4\">\n     <g id=\"line2d_4\">\n      <g>\n       <use style=\"stroke:#000000;stroke-width:0.8;\" x=\"162.236952\" xlink:href=\"#mb7630458fd\" y=\"239.758125\"/>\n      </g>\n     </g>\n     <g id=\"text_4\">\n      <!-- 30 -->\n      <g transform=\"translate(155.874452 254.356563)scale(0.1 -0.1)\">\n       <defs>\n        <path d=\"M 40.578125 39.3125 \nQ 47.65625 37.796875 51.625 33 \nQ 55.609375 28.21875 55.609375 21.1875 \nQ 55.609375 10.40625 48.1875 4.484375 \nQ 40.765625 -1.421875 27.09375 -1.421875 \nQ 22.515625 -1.421875 17.65625 -0.515625 \nQ 12.796875 0.390625 7.625 2.203125 \nL 7.625 11.71875 \nQ 11.71875 9.328125 16.59375 8.109375 \nQ 21.484375 6.890625 26.8125 6.890625 \nQ 36.078125 6.890625 40.9375 10.546875 \nQ 45.796875 14.203125 45.796875 21.1875 \nQ 45.796875 27.640625 41.28125 31.265625 \nQ 36.765625 34.90625 28.71875 34.90625 \nL 20.21875 34.90625 \nL 20.21875 43.015625 \nL 29.109375 43.015625 \nQ 36.375 43.015625 40.234375 45.921875 \nQ 44.09375 48.828125 44.09375 54.296875 \nQ 44.09375 59.90625 40.109375 62.90625 \nQ 36.140625 65.921875 28.71875 65.921875 \nQ 24.65625 65.921875 20.015625 65.03125 \nQ 15.375 64.15625 9.8125 62.3125 \nL 9.8125 71.09375 \nQ 15.4375 72.65625 20.34375 73.4375 \nQ 25.25 74.21875 29.59375 74.21875 \nQ 40.828125 74.21875 47.359375 69.109375 \nQ 53.90625 64.015625 53.90625 55.328125 \nQ 53.90625 49.265625 50.4375 45.09375 \nQ 46.96875 40.921875 40.578125 39.3125 \nz\n\" id=\"DejaVuSans-51\"/>\n       </defs>\n       <use xlink:href=\"#DejaVuSans-51\"/>\n       <use x=\"63.623047\" xlink:href=\"#DejaVuSans-48\"/>\n      </g>\n     </g>\n    </g>\n    <g id=\"xtick_5\">\n     <g id=\"line2d_5\">\n      <g>\n       <use style=\"stroke:#000000;stroke-width:0.8;\" x=\"200.363425\" xlink:href=\"#mb7630458fd\" y=\"239.758125\"/>\n      </g>\n     </g>\n     <g id=\"text_5\">\n      <!-- 40 -->\n      <g transform=\"translate(194.000925 254.356563)scale(0.1 -0.1)\">\n       <defs>\n        <path d=\"M 37.796875 64.3125 \nL 12.890625 25.390625 \nL 37.796875 25.390625 \nz\nM 35.203125 72.90625 \nL 47.609375 72.90625 \nL 47.609375 25.390625 \nL 58.015625 25.390625 \nL 58.015625 17.1875 \nL 47.609375 17.1875 \nL 47.609375 0 \nL 37.796875 0 \nL 37.796875 17.1875 \nL 4.890625 17.1875 \nL 4.890625 26.703125 \nz\n\" id=\"DejaVuSans-52\"/>\n       </defs>\n       <use xlink:href=\"#DejaVuSans-52\"/>\n       <use x=\"63.623047\" xlink:href=\"#DejaVuSans-48\"/>\n      </g>\n     </g>\n    </g>\n    <g id=\"xtick_6\">\n     <g id=\"line2d_6\">\n      <g>\n       <use style=\"stroke:#000000;stroke-width:0.8;\" x=\"238.489898\" xlink:href=\"#mb7630458fd\" y=\"239.758125\"/>\n      </g>\n     </g>\n     <g id=\"text_6\">\n      <!-- 50 -->\n      <g transform=\"translate(232.127398 254.356563)scale(0.1 -0.1)\">\n       <defs>\n        <path d=\"M 10.796875 72.90625 \nL 49.515625 72.90625 \nL 49.515625 64.59375 \nL 19.828125 64.59375 \nL 19.828125 46.734375 \nQ 21.96875 47.46875 24.109375 47.828125 \nQ 26.265625 48.1875 28.421875 48.1875 \nQ 40.625 48.1875 47.75 41.5 \nQ 54.890625 34.8125 54.890625 23.390625 \nQ 54.890625 11.625 47.5625 5.09375 \nQ 40.234375 -1.421875 26.90625 -1.421875 \nQ 22.3125 -1.421875 17.546875 -0.640625 \nQ 12.796875 0.140625 7.71875 1.703125 \nL 7.71875 11.625 \nQ 12.109375 9.234375 16.796875 8.0625 \nQ 21.484375 6.890625 26.703125 6.890625 \nQ 35.15625 6.890625 40.078125 11.328125 \nQ 45.015625 15.765625 45.015625 23.390625 \nQ 45.015625 31 40.078125 35.4375 \nQ 35.15625 39.890625 26.703125 39.890625 \nQ 22.75 39.890625 18.8125 39.015625 \nQ 14.890625 38.140625 10.796875 36.28125 \nz\n\" id=\"DejaVuSans-53\"/>\n       </defs>\n       <use xlink:href=\"#DejaVuSans-53\"/>\n       <use x=\"63.623047\" xlink:href=\"#DejaVuSans-48\"/>\n      </g>\n     </g>\n    </g>\n    <g id=\"xtick_7\">\n     <g id=\"line2d_7\">\n      <g>\n       <use style=\"stroke:#000000;stroke-width:0.8;\" x=\"276.616372\" xlink:href=\"#mb7630458fd\" y=\"239.758125\"/>\n      </g>\n     </g>\n     <g id=\"text_7\">\n      <!-- 60 -->\n      <g transform=\"translate(270.253872 254.356563)scale(0.1 -0.1)\">\n       <defs>\n        <path d=\"M 33.015625 40.375 \nQ 26.375 40.375 22.484375 35.828125 \nQ 18.609375 31.296875 18.609375 23.390625 \nQ 18.609375 15.53125 22.484375 10.953125 \nQ 26.375 6.390625 33.015625 6.390625 \nQ 39.65625 6.390625 43.53125 10.953125 \nQ 47.40625 15.53125 47.40625 23.390625 \nQ 47.40625 31.296875 43.53125 35.828125 \nQ 39.65625 40.375 33.015625 40.375 \nz\nM 52.59375 71.296875 \nL 52.59375 62.3125 \nQ 48.875 64.0625 45.09375 64.984375 \nQ 41.3125 65.921875 37.59375 65.921875 \nQ 27.828125 65.921875 22.671875 59.328125 \nQ 17.53125 52.734375 16.796875 39.40625 \nQ 19.671875 43.65625 24.015625 45.921875 \nQ 28.375 48.1875 33.59375 48.1875 \nQ 44.578125 48.1875 50.953125 41.515625 \nQ 57.328125 34.859375 57.328125 23.390625 \nQ 57.328125 12.15625 50.6875 5.359375 \nQ 44.046875 -1.421875 33.015625 -1.421875 \nQ 20.359375 -1.421875 13.671875 8.265625 \nQ 6.984375 17.96875 6.984375 36.375 \nQ 6.984375 53.65625 15.1875 63.9375 \nQ 23.390625 74.21875 37.203125 74.21875 \nQ 40.921875 74.21875 44.703125 73.484375 \nQ 48.484375 72.75 52.59375 71.296875 \nz\n\" id=\"DejaVuSans-54\"/>\n       </defs>\n       <use xlink:href=\"#DejaVuSans-54\"/>\n       <use x=\"63.623047\" xlink:href=\"#DejaVuSans-48\"/>\n      </g>\n     </g>\n    </g>\n    <g id=\"xtick_8\">\n     <g id=\"line2d_8\">\n      <g>\n       <use style=\"stroke:#000000;stroke-width:0.8;\" x=\"314.742845\" xlink:href=\"#mb7630458fd\" y=\"239.758125\"/>\n      </g>\n     </g>\n     <g id=\"text_8\">\n      <!-- 70 -->\n      <g transform=\"translate(308.380345 254.356563)scale(0.1 -0.1)\">\n       <defs>\n        <path d=\"M 8.203125 72.90625 \nL 55.078125 72.90625 \nL 55.078125 68.703125 \nL 28.609375 0 \nL 18.3125 0 \nL 43.21875 64.59375 \nL 8.203125 64.59375 \nz\n\" id=\"DejaVuSans-55\"/>\n       </defs>\n       <use xlink:href=\"#DejaVuSans-55\"/>\n       <use x=\"63.623047\" xlink:href=\"#DejaVuSans-48\"/>\n      </g>\n     </g>\n    </g>\n    <g id=\"xtick_9\">\n     <g id=\"line2d_9\">\n      <g>\n       <use style=\"stroke:#000000;stroke-width:0.8;\" x=\"352.869318\" xlink:href=\"#mb7630458fd\" y=\"239.758125\"/>\n      </g>\n     </g>\n     <g id=\"text_9\">\n      <!-- 80 -->\n      <g transform=\"translate(346.506818 254.356563)scale(0.1 -0.1)\">\n       <defs>\n        <path d=\"M 31.78125 34.625 \nQ 24.75 34.625 20.71875 30.859375 \nQ 16.703125 27.09375 16.703125 20.515625 \nQ 16.703125 13.921875 20.71875 10.15625 \nQ 24.75 6.390625 31.78125 6.390625 \nQ 38.8125 6.390625 42.859375 10.171875 \nQ 46.921875 13.96875 46.921875 20.515625 \nQ 46.921875 27.09375 42.890625 30.859375 \nQ 38.875 34.625 31.78125 34.625 \nz\nM 21.921875 38.8125 \nQ 15.578125 40.375 12.03125 44.71875 \nQ 8.5 49.078125 8.5 55.328125 \nQ 8.5 64.0625 14.71875 69.140625 \nQ 20.953125 74.21875 31.78125 74.21875 \nQ 42.671875 74.21875 48.875 69.140625 \nQ 55.078125 64.0625 55.078125 55.328125 \nQ 55.078125 49.078125 51.53125 44.71875 \nQ 48 40.375 41.703125 38.8125 \nQ 48.828125 37.15625 52.796875 32.3125 \nQ 56.78125 27.484375 56.78125 20.515625 \nQ 56.78125 9.90625 50.3125 4.234375 \nQ 43.84375 -1.421875 31.78125 -1.421875 \nQ 19.734375 -1.421875 13.25 4.234375 \nQ 6.78125 9.90625 6.78125 20.515625 \nQ 6.78125 27.484375 10.78125 32.3125 \nQ 14.796875 37.15625 21.921875 38.8125 \nz\nM 18.3125 54.390625 \nQ 18.3125 48.734375 21.84375 45.5625 \nQ 25.390625 42.390625 31.78125 42.390625 \nQ 38.140625 42.390625 41.71875 45.5625 \nQ 45.3125 48.734375 45.3125 54.390625 \nQ 45.3125 60.0625 41.71875 63.234375 \nQ 38.140625 66.40625 31.78125 66.40625 \nQ 25.390625 66.40625 21.84375 63.234375 \nQ 18.3125 60.0625 18.3125 54.390625 \nz\n\" id=\"DejaVuSans-56\"/>\n       </defs>\n       <use xlink:href=\"#DejaVuSans-56\"/>\n       <use x=\"63.623047\" xlink:href=\"#DejaVuSans-48\"/>\n      </g>\n     </g>\n    </g>\n   </g>\n   <g id=\"matplotlib.axis_2\">\n    <g id=\"ytick_1\">\n     <g id=\"line2d_10\">\n      <defs>\n       <path d=\"M 0 0 \nL -3.5 0 \n\" id=\"m4ffd5b1ea0\" style=\"stroke:#000000;stroke-width:0.8;\"/>\n      </defs>\n      <g>\n       <use style=\"stroke:#000000;stroke-width:0.8;\" x=\"33.2875\" xlink:href=\"#m4ffd5b1ea0\" y=\"239.758125\"/>\n      </g>\n     </g>\n     <g id=\"text_10\">\n      <!-- 0 -->\n      <g transform=\"translate(19.925 243.557344)scale(0.1 -0.1)\">\n       <use xlink:href=\"#DejaVuSans-48\"/>\n      </g>\n     </g>\n    </g>\n    <g id=\"ytick_2\">\n     <g id=\"line2d_11\">\n      <g>\n       <use style=\"stroke:#000000;stroke-width:0.8;\" x=\"33.2875\" xlink:href=\"#m4ffd5b1ea0\" y=\"201.968761\"/>\n      </g>\n     </g>\n     <g id=\"text_11\">\n      <!-- 50 -->\n      <g transform=\"translate(13.5625 205.76798)scale(0.1 -0.1)\">\n       <use xlink:href=\"#DejaVuSans-53\"/>\n       <use x=\"63.623047\" xlink:href=\"#DejaVuSans-48\"/>\n      </g>\n     </g>\n    </g>\n    <g id=\"ytick_3\">\n     <g id=\"line2d_12\">\n      <g>\n       <use style=\"stroke:#000000;stroke-width:0.8;\" x=\"33.2875\" xlink:href=\"#m4ffd5b1ea0\" y=\"164.179397\"/>\n      </g>\n     </g>\n     <g id=\"text_12\">\n      <!-- 100 -->\n      <g transform=\"translate(7.2 167.978616)scale(0.1 -0.1)\">\n       <use xlink:href=\"#DejaVuSans-49\"/>\n       <use x=\"63.623047\" xlink:href=\"#DejaVuSans-48\"/>\n       <use x=\"127.246094\" xlink:href=\"#DejaVuSans-48\"/>\n      </g>\n     </g>\n    </g>\n    <g id=\"ytick_4\">\n     <g id=\"line2d_13\">\n      <g>\n       <use style=\"stroke:#000000;stroke-width:0.8;\" x=\"33.2875\" xlink:href=\"#m4ffd5b1ea0\" y=\"126.390033\"/>\n      </g>\n     </g>\n     <g id=\"text_13\">\n      <!-- 150 -->\n      <g transform=\"translate(7.2 130.189252)scale(0.1 -0.1)\">\n       <use xlink:href=\"#DejaVuSans-49\"/>\n       <use x=\"63.623047\" xlink:href=\"#DejaVuSans-53\"/>\n       <use x=\"127.246094\" xlink:href=\"#DejaVuSans-48\"/>\n      </g>\n     </g>\n    </g>\n    <g id=\"ytick_5\">\n     <g id=\"line2d_14\">\n      <g>\n       <use style=\"stroke:#000000;stroke-width:0.8;\" x=\"33.2875\" xlink:href=\"#m4ffd5b1ea0\" y=\"88.600669\"/>\n      </g>\n     </g>\n     <g id=\"text_14\">\n      <!-- 200 -->\n      <g transform=\"translate(7.2 92.399888)scale(0.1 -0.1)\">\n       <use xlink:href=\"#DejaVuSans-50\"/>\n       <use x=\"63.623047\" xlink:href=\"#DejaVuSans-48\"/>\n       <use x=\"127.246094\" xlink:href=\"#DejaVuSans-48\"/>\n      </g>\n     </g>\n    </g>\n    <g id=\"ytick_6\">\n     <g id=\"line2d_15\">\n      <g>\n       <use style=\"stroke:#000000;stroke-width:0.8;\" x=\"33.2875\" xlink:href=\"#m4ffd5b1ea0\" y=\"50.811305\"/>\n      </g>\n     </g>\n     <g id=\"text_15\">\n      <!-- 250 -->\n      <g transform=\"translate(7.2 54.610524)scale(0.1 -0.1)\">\n       <use xlink:href=\"#DejaVuSans-50\"/>\n       <use x=\"63.623047\" xlink:href=\"#DejaVuSans-53\"/>\n       <use x=\"127.246094\" xlink:href=\"#DejaVuSans-48\"/>\n      </g>\n     </g>\n    </g>\n   </g>\n   <g id=\"patch_13\">\n    <path d=\"M 33.2875 239.758125 \nL 33.2875 22.318125 \n\" style=\"fill:none;stroke:#000000;stroke-linecap:square;stroke-linejoin:miter;stroke-width:0.8;\"/>\n   </g>\n   <g id=\"patch_14\">\n    <path d=\"M 368.0875 239.758125 \nL 368.0875 22.318125 \n\" style=\"fill:none;stroke:#000000;stroke-linecap:square;stroke-linejoin:miter;stroke-width:0.8;\"/>\n   </g>\n   <g id=\"patch_15\">\n    <path d=\"M 33.2875 239.758125 \nL 368.0875 239.758125 \n\" style=\"fill:none;stroke:#000000;stroke-linecap:square;stroke-linejoin:miter;stroke-width:0.8;\"/>\n   </g>\n   <g id=\"patch_16\">\n    <path d=\"M 33.2875 22.318125 \nL 368.0875 22.318125 \n\" style=\"fill:none;stroke:#000000;stroke-linecap:square;stroke-linejoin:miter;stroke-width:0.8;\"/>\n   </g>\n   <g id=\"text_16\">\n    <!-- Ages -->\n    <g transform=\"translate(185.956562 16.318125)scale(0.12 -0.12)\">\n     <defs>\n      <path d=\"M 34.1875 63.1875 \nL 20.796875 26.90625 \nL 47.609375 26.90625 \nz\nM 28.609375 72.90625 \nL 39.796875 72.90625 \nL 67.578125 0 \nL 57.328125 0 \nL 50.6875 18.703125 \nL 17.828125 18.703125 \nL 11.1875 0 \nL 0.78125 0 \nz\n\" id=\"DejaVuSans-65\"/>\n      <path d=\"M 45.40625 27.984375 \nQ 45.40625 37.75 41.375 43.109375 \nQ 37.359375 48.484375 30.078125 48.484375 \nQ 22.859375 48.484375 18.828125 43.109375 \nQ 14.796875 37.75 14.796875 27.984375 \nQ 14.796875 18.265625 18.828125 12.890625 \nQ 22.859375 7.515625 30.078125 7.515625 \nQ 37.359375 7.515625 41.375 12.890625 \nQ 45.40625 18.265625 45.40625 27.984375 \nz\nM 54.390625 6.78125 \nQ 54.390625 -7.171875 48.1875 -13.984375 \nQ 42 -20.796875 29.203125 -20.796875 \nQ 24.46875 -20.796875 20.265625 -20.09375 \nQ 16.0625 -19.390625 12.109375 -17.921875 \nL 12.109375 -9.1875 \nQ 16.0625 -11.328125 19.921875 -12.34375 \nQ 23.78125 -13.375 27.78125 -13.375 \nQ 36.625 -13.375 41.015625 -8.765625 \nQ 45.40625 -4.15625 45.40625 5.171875 \nL 45.40625 9.625 \nQ 42.625 4.78125 38.28125 2.390625 \nQ 33.9375 0 27.875 0 \nQ 17.828125 0 11.671875 7.65625 \nQ 5.515625 15.328125 5.515625 27.984375 \nQ 5.515625 40.671875 11.671875 48.328125 \nQ 17.828125 56 27.875 56 \nQ 33.9375 56 38.28125 53.609375 \nQ 42.625 51.21875 45.40625 46.390625 \nL 45.40625 54.6875 \nL 54.390625 54.6875 \nz\n\" id=\"DejaVuSans-103\"/>\n      <path d=\"M 56.203125 29.59375 \nL 56.203125 25.203125 \nL 14.890625 25.203125 \nQ 15.484375 15.921875 20.484375 11.0625 \nQ 25.484375 6.203125 34.421875 6.203125 \nQ 39.59375 6.203125 44.453125 7.46875 \nQ 49.3125 8.734375 54.109375 11.28125 \nL 54.109375 2.78125 \nQ 49.265625 0.734375 44.1875 -0.34375 \nQ 39.109375 -1.421875 33.890625 -1.421875 \nQ 20.796875 -1.421875 13.15625 6.1875 \nQ 5.515625 13.8125 5.515625 26.8125 \nQ 5.515625 40.234375 12.765625 48.109375 \nQ 20.015625 56 32.328125 56 \nQ 43.359375 56 49.78125 48.890625 \nQ 56.203125 41.796875 56.203125 29.59375 \nz\nM 47.21875 32.234375 \nQ 47.125 39.59375 43.09375 43.984375 \nQ 39.0625 48.390625 32.421875 48.390625 \nQ 24.90625 48.390625 20.390625 44.140625 \nQ 15.875 39.890625 15.1875 32.171875 \nz\n\" id=\"DejaVuSans-101\"/>\n      <path d=\"M 44.28125 53.078125 \nL 44.28125 44.578125 \nQ 40.484375 46.53125 36.375 47.5 \nQ 32.28125 48.484375 27.875 48.484375 \nQ 21.1875 48.484375 17.84375 46.4375 \nQ 14.5 44.390625 14.5 40.28125 \nQ 14.5 37.15625 16.890625 35.375 \nQ 19.28125 33.59375 26.515625 31.984375 \nL 29.59375 31.296875 \nQ 39.15625 29.25 43.1875 25.515625 \nQ 47.21875 21.78125 47.21875 15.09375 \nQ 47.21875 7.46875 41.1875 3.015625 \nQ 35.15625 -1.421875 24.609375 -1.421875 \nQ 20.21875 -1.421875 15.453125 -0.5625 \nQ 10.6875 0.296875 5.421875 2 \nL 5.421875 11.28125 \nQ 10.40625 8.6875 15.234375 7.390625 \nQ 20.0625 6.109375 24.8125 6.109375 \nQ 31.15625 6.109375 34.5625 8.28125 \nQ 37.984375 10.453125 37.984375 14.40625 \nQ 37.984375 18.0625 35.515625 20.015625 \nQ 33.0625 21.96875 24.703125 23.78125 \nL 21.578125 24.515625 \nQ 13.234375 26.265625 9.515625 29.90625 \nQ 5.8125 33.546875 5.8125 39.890625 \nQ 5.8125 47.609375 11.28125 51.796875 \nQ 16.75 56 26.8125 56 \nQ 31.78125 56 36.171875 55.265625 \nQ 40.578125 54.546875 44.28125 53.078125 \nz\n\" id=\"DejaVuSans-115\"/>\n     </defs>\n     <use xlink:href=\"#DejaVuSans-65\"/>\n     <use x=\"68.408203\" xlink:href=\"#DejaVuSans-103\"/>\n     <use x=\"131.884766\" xlink:href=\"#DejaVuSans-101\"/>\n     <use x=\"193.408203\" xlink:href=\"#DejaVuSans-115\"/>\n    </g>\n   </g>\n  </g>\n </g>\n <defs>\n  <clipPath id=\"p4a2dc23866\">\n   <rect height=\"217.44\" width=\"334.8\" x=\"33.2875\" y=\"22.318125\"/>\n  </clipPath>\n </defs>\n</svg>\n",
      "image/png": "[encoded data removed]"
     },
     "metadata": {
      "needs_background": "light"
     }
    }
   ],
   "source": [
    "#your code\n",
    "plt.hist(titanic['age'])\n",
    "plt.title('Ages')"
   ]
  },
  {
   "cell_type": "markdown",
   "metadata": {},
   "source": [
    "32. Using `matplotlib` find the appropriate plot to visualize the column `'gender'`"
   ]
  },
  {
   "cell_type": "code",
   "execution_count": 329,
   "metadata": {},
   "outputs": [
    {
     "output_type": "execute_result",
     "data": {
      "text/plain": [
       "Text(0.5, 1.0, 'gender')"
      ]
     },
     "metadata": {},
     "execution_count": 329
    },
    {
     "output_type": "display_data",
     "data": {
      "text/plain": "<Figure size 432x288 with 1 Axes>",
      "image/svg+xml": "<?xml version=\"1.0\" encoding=\"utf-8\" standalone=\"no\"?>\n<!DOCTYPE svg PUBLIC \"-//W3C//DTD SVG 1.1//EN\"\n  \"http://www.w3.org/Graphics/SVG/1.1/DTD/svg11.dtd\">\n<!-- Created with matplotlib (https://matplotlib.org/) -->\n<svg height=\"263.63625pt\" version=\"1.1\" viewBox=\"0 0 375.2875 263.63625\" width=\"375.2875pt\" xmlns=\"http://www.w3.org/2000/svg\" xmlns:xlink=\"http://www.w3.org/1999/xlink\">\n <metadata>\n  <rdf:RDF xmlns:cc=\"http://creativecommons.org/ns#\" xmlns:dc=\"http://purl.org/dc/elements/1.1/\" xmlns:rdf=\"http://www.w3.org/1999/02/22-rdf-syntax-ns#\">\n   <cc:Work>\n    <dc:type rdf:resource=\"http://purl.org/dc/dcmitype/StillImage\"/>\n    <dc:date>2020-12-21T01:31:36.117054</dc:date>\n    <dc:format>image/svg+xml</dc:format>\n    <dc:creator>\n     <cc:Agent>\n      <dc:title>Matplotlib v3.3.3, https://matplotlib.org/</dc:title>\n     </cc:Agent>\n    </dc:creator>\n   </cc:Work>\n  </rdf:RDF>\n </metadata>\n <defs>\n  <style type=\"text/css\">*{stroke-linecap:butt;stroke-linejoin:round;}</style>\n </defs>\n <g id=\"figure_1\">\n  <g id=\"patch_1\">\n   <path d=\"M 0 263.63625 \nL 375.2875 263.63625 \nL 375.2875 0 \nL 0 0 \nz\n\" style=\"fill:none;\"/>\n  </g>\n  <g id=\"axes_1\">\n   <g id=\"patch_2\">\n    <path d=\"M 33.2875 239.758125 \nL 368.0875 239.758125 \nL 368.0875 22.318125 \nL 33.2875 22.318125 \nz\n\" style=\"fill:#ffffff;\"/>\n   </g>\n   <g id=\"patch_3\">\n    <path clip-path=\"url(#p50f9d83e07)\" d=\"M 48.505682 239.758125 \nL 78.942045 239.758125 \nL 78.942045 125.283697 \nL 48.505682 125.283697 \nz\n\" style=\"fill:#1f77b4;\"/>\n   </g>\n   <g id=\"patch_4\">\n    <path clip-path=\"url(#p50f9d83e07)\" d=\"M 78.942045 239.758125 \nL 109.378409 239.758125 \nL 109.378409 239.758125 \nL 78.942045 239.758125 \nz\n\" style=\"fill:#1f77b4;\"/>\n   </g>\n   <g id=\"patch_5\">\n    <path clip-path=\"url(#p50f9d83e07)\" d=\"M 109.378409 239.758125 \nL 139.814773 239.758125 \nL 139.814773 239.758125 \nL 109.378409 239.758125 \nz\n\" style=\"fill:#1f77b4;\"/>\n   </g>\n   <g id=\"patch_6\">\n    <path clip-path=\"url(#p50f9d83e07)\" d=\"M 139.814773 239.758125 \nL 170.251136 239.758125 \nL 170.251136 239.758125 \nL 139.814773 239.758125 \nz\n\" style=\"fill:#1f77b4;\"/>\n   </g>\n   <g id=\"patch_7\">\n    <path clip-path=\"url(#p50f9d83e07)\" d=\"M 170.251136 239.758125 \nL 200.6875 239.758125 \nL 200.6875 239.758125 \nL 170.251136 239.758125 \nz\n\" style=\"fill:#1f77b4;\"/>\n   </g>\n   <g id=\"patch_8\">\n    <path clip-path=\"url(#p50f9d83e07)\" d=\"M 200.6875 239.758125 \nL 231.123864 239.758125 \nL 231.123864 239.758125 \nL 200.6875 239.758125 \nz\n\" style=\"fill:#1f77b4;\"/>\n   </g>\n   <g id=\"patch_9\">\n    <path clip-path=\"url(#p50f9d83e07)\" d=\"M 231.123864 239.758125 \nL 261.560227 239.758125 \nL 261.560227 239.758125 \nL 231.123864 239.758125 \nz\n\" style=\"fill:#1f77b4;\"/>\n   </g>\n   <g id=\"patch_10\">\n    <path clip-path=\"url(#p50f9d83e07)\" d=\"M 261.560227 239.758125 \nL 291.996591 239.758125 \nL 291.996591 239.758125 \nL 261.560227 239.758125 \nz\n\" style=\"fill:#1f77b4;\"/>\n   </g>\n   <g id=\"patch_11\">\n    <path clip-path=\"url(#p50f9d83e07)\" d=\"M 291.996591 239.758125 \nL 322.432955 239.758125 \nL 322.432955 239.758125 \nL 291.996591 239.758125 \nz\n\" style=\"fill:#1f77b4;\"/>\n   </g>\n   <g id=\"patch_12\">\n    <path clip-path=\"url(#p50f9d83e07)\" d=\"M 322.432955 239.758125 \nL 352.869318 239.758125 \nL 352.869318 32.672411 \nL 322.432955 32.672411 \nz\n\" style=\"fill:#1f77b4;\"/>\n   </g>\n   <g id=\"matplotlib.axis_1\">\n    <g id=\"xtick_1\">\n     <g id=\"line2d_1\">\n      <defs>\n       <path d=\"M 0 0 \nL 0 3.5 \n\" id=\"m921f16ae38\" style=\"stroke:#000000;stroke-width:0.8;\"/>\n      </defs>\n      <g>\n       <use style=\"stroke:#000000;stroke-width:0.8;\" x=\"48.505682\" xlink:href=\"#m921f16ae38\" y=\"239.758125\"/>\n      </g>\n     </g>\n     <g id=\"text_1\">\n      <!-- female -->\n      <g transform=\"translate(31.268963 254.356563)scale(0.1 -0.1)\">\n       <defs>\n        <path d=\"M 37.109375 75.984375 \nL 37.109375 68.5 \nL 28.515625 68.5 \nQ 23.6875 68.5 21.796875 66.546875 \nQ 19.921875 64.59375 19.921875 59.515625 \nL 19.921875 54.6875 \nL 34.71875 54.6875 \nL 34.71875 47.703125 \nL 19.921875 47.703125 \nL 19.921875 0 \nL 10.890625 0 \nL 10.890625 47.703125 \nL 2.296875 47.703125 \nL 2.296875 54.6875 \nL 10.890625 54.6875 \nL 10.890625 58.5 \nQ 10.890625 67.625 15.140625 71.796875 \nQ 19.390625 75.984375 28.609375 75.984375 \nz\n\" id=\"DejaVuSans-102\"/>\n        <path d=\"M 56.203125 29.59375 \nL 56.203125 25.203125 \nL 14.890625 25.203125 \nQ 15.484375 15.921875 20.484375 11.0625 \nQ 25.484375 6.203125 34.421875 6.203125 \nQ 39.59375 6.203125 44.453125 7.46875 \nQ 49.3125 8.734375 54.109375 11.28125 \nL 54.109375 2.78125 \nQ 49.265625 0.734375 44.1875 -0.34375 \nQ 39.109375 -1.421875 33.890625 -1.421875 \nQ 20.796875 -1.421875 13.15625 6.1875 \nQ 5.515625 13.8125 5.515625 26.8125 \nQ 5.515625 40.234375 12.765625 48.109375 \nQ 20.015625 56 32.328125 56 \nQ 43.359375 56 49.78125 48.890625 \nQ 56.203125 41.796875 56.203125 29.59375 \nz\nM 47.21875 32.234375 \nQ 47.125 39.59375 43.09375 43.984375 \nQ 39.0625 48.390625 32.421875 48.390625 \nQ 24.90625 48.390625 20.390625 44.140625 \nQ 15.875 39.890625 15.1875 32.171875 \nz\n\" id=\"DejaVuSans-101\"/>\n        <path d=\"M 52 44.1875 \nQ 55.375 50.25 60.0625 53.125 \nQ 64.75 56 71.09375 56 \nQ 79.640625 56 84.28125 50.015625 \nQ 88.921875 44.046875 88.921875 33.015625 \nL 88.921875 0 \nL 79.890625 0 \nL 79.890625 32.71875 \nQ 79.890625 40.578125 77.09375 44.375 \nQ 74.3125 48.1875 68.609375 48.1875 \nQ 61.625 48.1875 57.5625 43.546875 \nQ 53.515625 38.921875 53.515625 30.90625 \nL 53.515625 0 \nL 44.484375 0 \nL 44.484375 32.71875 \nQ 44.484375 40.625 41.703125 44.40625 \nQ 38.921875 48.1875 33.109375 48.1875 \nQ 26.21875 48.1875 22.15625 43.53125 \nQ 18.109375 38.875 18.109375 30.90625 \nL 18.109375 0 \nL 9.078125 0 \nL 9.078125 54.6875 \nL 18.109375 54.6875 \nL 18.109375 46.1875 \nQ 21.1875 51.21875 25.484375 53.609375 \nQ 29.78125 56 35.6875 56 \nQ 41.65625 56 45.828125 52.96875 \nQ 50 49.953125 52 44.1875 \nz\n\" id=\"DejaVuSans-109\"/>\n        <path d=\"M 34.28125 27.484375 \nQ 23.390625 27.484375 19.1875 25 \nQ 14.984375 22.515625 14.984375 16.5 \nQ 14.984375 11.71875 18.140625 8.90625 \nQ 21.296875 6.109375 26.703125 6.109375 \nQ 34.1875 6.109375 38.703125 11.40625 \nQ 43.21875 16.703125 43.21875 25.484375 \nL 43.21875 27.484375 \nz\nM 52.203125 31.203125 \nL 52.203125 0 \nL 43.21875 0 \nL 43.21875 8.296875 \nQ 40.140625 3.328125 35.546875 0.953125 \nQ 30.953125 -1.421875 24.3125 -1.421875 \nQ 15.921875 -1.421875 10.953125 3.296875 \nQ 6 8.015625 6 15.921875 \nQ 6 25.140625 12.171875 29.828125 \nQ 18.359375 34.515625 30.609375 34.515625 \nL 43.21875 34.515625 \nL 43.21875 35.40625 \nQ 43.21875 41.609375 39.140625 45 \nQ 35.0625 48.390625 27.6875 48.390625 \nQ 23 48.390625 18.546875 47.265625 \nQ 14.109375 46.140625 10.015625 43.890625 \nL 10.015625 52.203125 \nQ 14.9375 54.109375 19.578125 55.046875 \nQ 24.21875 56 28.609375 56 \nQ 40.484375 56 46.34375 49.84375 \nQ 52.203125 43.703125 52.203125 31.203125 \nz\n\" id=\"DejaVuSans-97\"/>\n        <path d=\"M 9.421875 75.984375 \nL 18.40625 75.984375 \nL 18.40625 0 \nL 9.421875 0 \nz\n\" id=\"DejaVuSans-108\"/>\n       </defs>\n       <use xlink:href=\"#DejaVuSans-102\"/>\n       <use x=\"35.205078\" xlink:href=\"#DejaVuSans-101\"/>\n       <use x=\"96.728516\" xlink:href=\"#DejaVuSans-109\"/>\n       <use x=\"194.140625\" xlink:href=\"#DejaVuSans-97\"/>\n       <use x=\"255.419922\" xlink:href=\"#DejaVuSans-108\"/>\n       <use x=\"283.203125\" xlink:href=\"#DejaVuSans-101\"/>\n      </g>\n     </g>\n    </g>\n    <g id=\"xtick_2\">\n     <g id=\"line2d_2\">\n      <g>\n       <use style=\"stroke:#000000;stroke-width:0.8;\" x=\"352.869318\" xlink:href=\"#m921f16ae38\" y=\"239.758125\"/>\n      </g>\n     </g>\n     <g id=\"text_2\">\n      <!-- male -->\n      <g transform=\"translate(340.469318 254.356563)scale(0.1 -0.1)\">\n       <use xlink:href=\"#DejaVuSans-109\"/>\n       <use x=\"97.412109\" xlink:href=\"#DejaVuSans-97\"/>\n       <use x=\"158.691406\" xlink:href=\"#DejaVuSans-108\"/>\n       <use x=\"186.474609\" xlink:href=\"#DejaVuSans-101\"/>\n      </g>\n     </g>\n    </g>\n   </g>\n   <g id=\"matplotlib.axis_2\">\n    <g id=\"ytick_1\">\n     <g id=\"line2d_3\">\n      <defs>\n       <path d=\"M 0 0 \nL -3.5 0 \n\" id=\"me9a5a1c87c\" style=\"stroke:#000000;stroke-width:0.8;\"/>\n      </defs>\n      <g>\n       <use style=\"stroke:#000000;stroke-width:0.8;\" x=\"33.2875\" xlink:href=\"#me9a5a1c87c\" y=\"239.758125\"/>\n      </g>\n     </g>\n     <g id=\"text_3\">\n      <!-- 0 -->\n      <g transform=\"translate(19.925 243.557344)scale(0.1 -0.1)\">\n       <defs>\n        <path d=\"M 31.78125 66.40625 \nQ 24.171875 66.40625 20.328125 58.90625 \nQ 16.5 51.421875 16.5 36.375 \nQ 16.5 21.390625 20.328125 13.890625 \nQ 24.171875 6.390625 31.78125 6.390625 \nQ 39.453125 6.390625 43.28125 13.890625 \nQ 47.125 21.390625 47.125 36.375 \nQ 47.125 51.421875 43.28125 58.90625 \nQ 39.453125 66.40625 31.78125 66.40625 \nz\nM 31.78125 74.21875 \nQ 44.046875 74.21875 50.515625 64.515625 \nQ 56.984375 54.828125 56.984375 36.375 \nQ 56.984375 17.96875 50.515625 8.265625 \nQ 44.046875 -1.421875 31.78125 -1.421875 \nQ 19.53125 -1.421875 13.0625 8.265625 \nQ 6.59375 17.96875 6.59375 36.375 \nQ 6.59375 54.828125 13.0625 64.515625 \nQ 19.53125 74.21875 31.78125 74.21875 \nz\n\" id=\"DejaVuSans-48\"/>\n       </defs>\n       <use xlink:href=\"#DejaVuSans-48\"/>\n      </g>\n     </g>\n    </g>\n    <g id=\"ytick_2\">\n     <g id=\"line2d_4\">\n      <g>\n       <use style=\"stroke:#000000;stroke-width:0.8;\" x=\"33.2875\" xlink:href=\"#me9a5a1c87c\" y=\"215.192797\"/>\n      </g>\n     </g>\n     <g id=\"text_4\">\n      <!-- 100 -->\n      <g transform=\"translate(7.2 218.992016)scale(0.1 -0.1)\">\n       <defs>\n        <path d=\"M 12.40625 8.296875 \nL 28.515625 8.296875 \nL 28.515625 63.921875 \nL 10.984375 60.40625 \nL 10.984375 69.390625 \nL 28.421875 72.90625 \nL 38.28125 72.90625 \nL 38.28125 8.296875 \nL 54.390625 8.296875 \nL 54.390625 0 \nL 12.40625 0 \nz\n\" id=\"DejaVuSans-49\"/>\n       </defs>\n       <use xlink:href=\"#DejaVuSans-49\"/>\n       <use x=\"63.623047\" xlink:href=\"#DejaVuSans-48\"/>\n       <use x=\"127.246094\" xlink:href=\"#DejaVuSans-48\"/>\n      </g>\n     </g>\n    </g>\n    <g id=\"ytick_3\">\n     <g id=\"line2d_5\">\n      <g>\n       <use style=\"stroke:#000000;stroke-width:0.8;\" x=\"33.2875\" xlink:href=\"#me9a5a1c87c\" y=\"190.627469\"/>\n      </g>\n     </g>\n     <g id=\"text_5\">\n      <!-- 200 -->\n      <g transform=\"translate(7.2 194.426688)scale(0.1 -0.1)\">\n       <defs>\n        <path d=\"M 19.1875 8.296875 \nL 53.609375 8.296875 \nL 53.609375 0 \nL 7.328125 0 \nL 7.328125 8.296875 \nQ 12.9375 14.109375 22.625 23.890625 \nQ 32.328125 33.6875 34.8125 36.53125 \nQ 39.546875 41.84375 41.421875 45.53125 \nQ 43.3125 49.21875 43.3125 52.78125 \nQ 43.3125 58.59375 39.234375 62.25 \nQ 35.15625 65.921875 28.609375 65.921875 \nQ 23.96875 65.921875 18.8125 64.3125 \nQ 13.671875 62.703125 7.8125 59.421875 \nL 7.8125 69.390625 \nQ 13.765625 71.78125 18.9375 73 \nQ 24.125 74.21875 28.421875 74.21875 \nQ 39.75 74.21875 46.484375 68.546875 \nQ 53.21875 62.890625 53.21875 53.421875 \nQ 53.21875 48.921875 51.53125 44.890625 \nQ 49.859375 40.875 45.40625 35.40625 \nQ 44.1875 33.984375 37.640625 27.21875 \nQ 31.109375 20.453125 19.1875 8.296875 \nz\n\" id=\"DejaVuSans-50\"/>\n       </defs>\n       <use xlink:href=\"#DejaVuSans-50\"/>\n       <use x=\"63.623047\" xlink:href=\"#DejaVuSans-48\"/>\n       <use x=\"127.246094\" xlink:href=\"#DejaVuSans-48\"/>\n      </g>\n     </g>\n    </g>\n    <g id=\"ytick_4\">\n     <g id=\"line2d_6\">\n      <g>\n       <use style=\"stroke:#000000;stroke-width:0.8;\" x=\"33.2875\" xlink:href=\"#me9a5a1c87c\" y=\"166.062141\"/>\n      </g>\n     </g>\n     <g id=\"text_6\">\n      <!-- 300 -->\n      <g transform=\"translate(7.2 169.86136)scale(0.1 -0.1)\">\n       <defs>\n        <path d=\"M 40.578125 39.3125 \nQ 47.65625 37.796875 51.625 33 \nQ 55.609375 28.21875 55.609375 21.1875 \nQ 55.609375 10.40625 48.1875 4.484375 \nQ 40.765625 -1.421875 27.09375 -1.421875 \nQ 22.515625 -1.421875 17.65625 -0.515625 \nQ 12.796875 0.390625 7.625 2.203125 \nL 7.625 11.71875 \nQ 11.71875 9.328125 16.59375 8.109375 \nQ 21.484375 6.890625 26.8125 6.890625 \nQ 36.078125 6.890625 40.9375 10.546875 \nQ 45.796875 14.203125 45.796875 21.1875 \nQ 45.796875 27.640625 41.28125 31.265625 \nQ 36.765625 34.90625 28.71875 34.90625 \nL 20.21875 34.90625 \nL 20.21875 43.015625 \nL 29.109375 43.015625 \nQ 36.375 43.015625 40.234375 45.921875 \nQ 44.09375 48.828125 44.09375 54.296875 \nQ 44.09375 59.90625 40.109375 62.90625 \nQ 36.140625 65.921875 28.71875 65.921875 \nQ 24.65625 65.921875 20.015625 65.03125 \nQ 15.375 64.15625 9.8125 62.3125 \nL 9.8125 71.09375 \nQ 15.4375 72.65625 20.34375 73.4375 \nQ 25.25 74.21875 29.59375 74.21875 \nQ 40.828125 74.21875 47.359375 69.109375 \nQ 53.90625 64.015625 53.90625 55.328125 \nQ 53.90625 49.265625 50.4375 45.09375 \nQ 46.96875 40.921875 40.578125 39.3125 \nz\n\" id=\"DejaVuSans-51\"/>\n       </defs>\n       <use xlink:href=\"#DejaVuSans-51\"/>\n       <use x=\"63.623047\" xlink:href=\"#DejaVuSans-48\"/>\n       <use x=\"127.246094\" xlink:href=\"#DejaVuSans-48\"/>\n      </g>\n     </g>\n    </g>\n    <g id=\"ytick_5\">\n     <g id=\"line2d_7\">\n      <g>\n       <use style=\"stroke:#000000;stroke-width:0.8;\" x=\"33.2875\" xlink:href=\"#me9a5a1c87c\" y=\"141.496813\"/>\n      </g>\n     </g>\n     <g id=\"text_7\">\n      <!-- 400 -->\n      <g transform=\"translate(7.2 145.296032)scale(0.1 -0.1)\">\n       <defs>\n        <path d=\"M 37.796875 64.3125 \nL 12.890625 25.390625 \nL 37.796875 25.390625 \nz\nM 35.203125 72.90625 \nL 47.609375 72.90625 \nL 47.609375 25.390625 \nL 58.015625 25.390625 \nL 58.015625 17.1875 \nL 47.609375 17.1875 \nL 47.609375 0 \nL 37.796875 0 \nL 37.796875 17.1875 \nL 4.890625 17.1875 \nL 4.890625 26.703125 \nz\n\" id=\"DejaVuSans-52\"/>\n       </defs>\n       <use xlink:href=\"#DejaVuSans-52\"/>\n       <use x=\"63.623047\" xlink:href=\"#DejaVuSans-48\"/>\n       <use x=\"127.246094\" xlink:href=\"#DejaVuSans-48\"/>\n      </g>\n     </g>\n    </g>\n    <g id=\"ytick_6\">\n     <g id=\"line2d_8\">\n      <g>\n       <use style=\"stroke:#000000;stroke-width:0.8;\" x=\"33.2875\" xlink:href=\"#me9a5a1c87c\" y=\"116.931485\"/>\n      </g>\n     </g>\n     <g id=\"text_8\">\n      <!-- 500 -->\n      <g transform=\"translate(7.2 120.730704)scale(0.1 -0.1)\">\n       <defs>\n        <path d=\"M 10.796875 72.90625 \nL 49.515625 72.90625 \nL 49.515625 64.59375 \nL 19.828125 64.59375 \nL 19.828125 46.734375 \nQ 21.96875 47.46875 24.109375 47.828125 \nQ 26.265625 48.1875 28.421875 48.1875 \nQ 40.625 48.1875 47.75 41.5 \nQ 54.890625 34.8125 54.890625 23.390625 \nQ 54.890625 11.625 47.5625 5.09375 \nQ 40.234375 -1.421875 26.90625 -1.421875 \nQ 22.3125 -1.421875 17.546875 -0.640625 \nQ 12.796875 0.140625 7.71875 1.703125 \nL 7.71875 11.625 \nQ 12.109375 9.234375 16.796875 8.0625 \nQ 21.484375 6.890625 26.703125 6.890625 \nQ 35.15625 6.890625 40.078125 11.328125 \nQ 45.015625 15.765625 45.015625 23.390625 \nQ 45.015625 31 40.078125 35.4375 \nQ 35.15625 39.890625 26.703125 39.890625 \nQ 22.75 39.890625 18.8125 39.015625 \nQ 14.890625 38.140625 10.796875 36.28125 \nz\n\" id=\"DejaVuSans-53\"/>\n       </defs>\n       <use xlink:href=\"#DejaVuSans-53\"/>\n       <use x=\"63.623047\" xlink:href=\"#DejaVuSans-48\"/>\n       <use x=\"127.246094\" xlink:href=\"#DejaVuSans-48\"/>\n      </g>\n     </g>\n    </g>\n    <g id=\"ytick_7\">\n     <g id=\"line2d_9\">\n      <g>\n       <use style=\"stroke:#000000;stroke-width:0.8;\" x=\"33.2875\" xlink:href=\"#me9a5a1c87c\" y=\"92.366158\"/>\n      </g>\n     </g>\n     <g id=\"text_9\">\n      <!-- 600 -->\n      <g transform=\"translate(7.2 96.165376)scale(0.1 -0.1)\">\n       <defs>\n        <path d=\"M 33.015625 40.375 \nQ 26.375 40.375 22.484375 35.828125 \nQ 18.609375 31.296875 18.609375 23.390625 \nQ 18.609375 15.53125 22.484375 10.953125 \nQ 26.375 6.390625 33.015625 6.390625 \nQ 39.65625 6.390625 43.53125 10.953125 \nQ 47.40625 15.53125 47.40625 23.390625 \nQ 47.40625 31.296875 43.53125 35.828125 \nQ 39.65625 40.375 33.015625 40.375 \nz\nM 52.59375 71.296875 \nL 52.59375 62.3125 \nQ 48.875 64.0625 45.09375 64.984375 \nQ 41.3125 65.921875 37.59375 65.921875 \nQ 27.828125 65.921875 22.671875 59.328125 \nQ 17.53125 52.734375 16.796875 39.40625 \nQ 19.671875 43.65625 24.015625 45.921875 \nQ 28.375 48.1875 33.59375 48.1875 \nQ 44.578125 48.1875 50.953125 41.515625 \nQ 57.328125 34.859375 57.328125 23.390625 \nQ 57.328125 12.15625 50.6875 5.359375 \nQ 44.046875 -1.421875 33.015625 -1.421875 \nQ 20.359375 -1.421875 13.671875 8.265625 \nQ 6.984375 17.96875 6.984375 36.375 \nQ 6.984375 53.65625 15.1875 63.9375 \nQ 23.390625 74.21875 37.203125 74.21875 \nQ 40.921875 74.21875 44.703125 73.484375 \nQ 48.484375 72.75 52.59375 71.296875 \nz\n\" id=\"DejaVuSans-54\"/>\n       </defs>\n       <use xlink:href=\"#DejaVuSans-54\"/>\n       <use x=\"63.623047\" xlink:href=\"#DejaVuSans-48\"/>\n       <use x=\"127.246094\" xlink:href=\"#DejaVuSans-48\"/>\n      </g>\n     </g>\n    </g>\n    <g id=\"ytick_8\">\n     <g id=\"line2d_10\">\n      <g>\n       <use style=\"stroke:#000000;stroke-width:0.8;\" x=\"33.2875\" xlink:href=\"#me9a5a1c87c\" y=\"67.80083\"/>\n      </g>\n     </g>\n     <g id=\"text_10\">\n      <!-- 700 -->\n      <g transform=\"translate(7.2 71.600048)scale(0.1 -0.1)\">\n       <defs>\n        <path d=\"M 8.203125 72.90625 \nL 55.078125 72.90625 \nL 55.078125 68.703125 \nL 28.609375 0 \nL 18.3125 0 \nL 43.21875 64.59375 \nL 8.203125 64.59375 \nz\n\" id=\"DejaVuSans-55\"/>\n       </defs>\n       <use xlink:href=\"#DejaVuSans-55\"/>\n       <use x=\"63.623047\" xlink:href=\"#DejaVuSans-48\"/>\n       <use x=\"127.246094\" xlink:href=\"#DejaVuSans-48\"/>\n      </g>\n     </g>\n    </g>\n    <g id=\"ytick_9\">\n     <g id=\"line2d_11\">\n      <g>\n       <use style=\"stroke:#000000;stroke-width:0.8;\" x=\"33.2875\" xlink:href=\"#me9a5a1c87c\" y=\"43.235502\"/>\n      </g>\n     </g>\n     <g id=\"text_11\">\n      <!-- 800 -->\n      <g transform=\"translate(7.2 47.03472)scale(0.1 -0.1)\">\n       <defs>\n        <path d=\"M 31.78125 34.625 \nQ 24.75 34.625 20.71875 30.859375 \nQ 16.703125 27.09375 16.703125 20.515625 \nQ 16.703125 13.921875 20.71875 10.15625 \nQ 24.75 6.390625 31.78125 6.390625 \nQ 38.8125 6.390625 42.859375 10.171875 \nQ 46.921875 13.96875 46.921875 20.515625 \nQ 46.921875 27.09375 42.890625 30.859375 \nQ 38.875 34.625 31.78125 34.625 \nz\nM 21.921875 38.8125 \nQ 15.578125 40.375 12.03125 44.71875 \nQ 8.5 49.078125 8.5 55.328125 \nQ 8.5 64.0625 14.71875 69.140625 \nQ 20.953125 74.21875 31.78125 74.21875 \nQ 42.671875 74.21875 48.875 69.140625 \nQ 55.078125 64.0625 55.078125 55.328125 \nQ 55.078125 49.078125 51.53125 44.71875 \nQ 48 40.375 41.703125 38.8125 \nQ 48.828125 37.15625 52.796875 32.3125 \nQ 56.78125 27.484375 56.78125 20.515625 \nQ 56.78125 9.90625 50.3125 4.234375 \nQ 43.84375 -1.421875 31.78125 -1.421875 \nQ 19.734375 -1.421875 13.25 4.234375 \nQ 6.78125 9.90625 6.78125 20.515625 \nQ 6.78125 27.484375 10.78125 32.3125 \nQ 14.796875 37.15625 21.921875 38.8125 \nz\nM 18.3125 54.390625 \nQ 18.3125 48.734375 21.84375 45.5625 \nQ 25.390625 42.390625 31.78125 42.390625 \nQ 38.140625 42.390625 41.71875 45.5625 \nQ 45.3125 48.734375 45.3125 54.390625 \nQ 45.3125 60.0625 41.71875 63.234375 \nQ 38.140625 66.40625 31.78125 66.40625 \nQ 25.390625 66.40625 21.84375 63.234375 \nQ 18.3125 60.0625 18.3125 54.390625 \nz\n\" id=\"DejaVuSans-56\"/>\n       </defs>\n       <use xlink:href=\"#DejaVuSans-56\"/>\n       <use x=\"63.623047\" xlink:href=\"#DejaVuSans-48\"/>\n       <use x=\"127.246094\" xlink:href=\"#DejaVuSans-48\"/>\n      </g>\n     </g>\n    </g>\n   </g>\n   <g id=\"patch_13\">\n    <path d=\"M 33.2875 239.758125 \nL 33.2875 22.318125 \n\" style=\"fill:none;stroke:#000000;stroke-linecap:square;stroke-linejoin:miter;stroke-width:0.8;\"/>\n   </g>\n   <g id=\"patch_14\">\n    <path d=\"M 368.0875 239.758125 \nL 368.0875 22.318125 \n\" style=\"fill:none;stroke:#000000;stroke-linecap:square;stroke-linejoin:miter;stroke-width:0.8;\"/>\n   </g>\n   <g id=\"patch_15\">\n    <path d=\"M 33.2875 239.758125 \nL 368.0875 239.758125 \n\" style=\"fill:none;stroke:#000000;stroke-linecap:square;stroke-linejoin:miter;stroke-width:0.8;\"/>\n   </g>\n   <g id=\"patch_16\">\n    <path d=\"M 33.2875 22.318125 \nL 368.0875 22.318125 \n\" style=\"fill:none;stroke:#000000;stroke-linecap:square;stroke-linejoin:miter;stroke-width:0.8;\"/>\n   </g>\n   <g id=\"text_12\">\n    <!-- gender -->\n    <g transform=\"translate(179.416562 16.318125)scale(0.12 -0.12)\">\n     <defs>\n      <path d=\"M 45.40625 27.984375 \nQ 45.40625 37.75 41.375 43.109375 \nQ 37.359375 48.484375 30.078125 48.484375 \nQ 22.859375 48.484375 18.828125 43.109375 \nQ 14.796875 37.75 14.796875 27.984375 \nQ 14.796875 18.265625 18.828125 12.890625 \nQ 22.859375 7.515625 30.078125 7.515625 \nQ 37.359375 7.515625 41.375 12.890625 \nQ 45.40625 18.265625 45.40625 27.984375 \nz\nM 54.390625 6.78125 \nQ 54.390625 -7.171875 48.1875 -13.984375 \nQ 42 -20.796875 29.203125 -20.796875 \nQ 24.46875 -20.796875 20.265625 -20.09375 \nQ 16.0625 -19.390625 12.109375 -17.921875 \nL 12.109375 -9.1875 \nQ 16.0625 -11.328125 19.921875 -12.34375 \nQ 23.78125 -13.375 27.78125 -13.375 \nQ 36.625 -13.375 41.015625 -8.765625 \nQ 45.40625 -4.15625 45.40625 5.171875 \nL 45.40625 9.625 \nQ 42.625 4.78125 38.28125 2.390625 \nQ 33.9375 0 27.875 0 \nQ 17.828125 0 11.671875 7.65625 \nQ 5.515625 15.328125 5.515625 27.984375 \nQ 5.515625 40.671875 11.671875 48.328125 \nQ 17.828125 56 27.875 56 \nQ 33.9375 56 38.28125 53.609375 \nQ 42.625 51.21875 45.40625 46.390625 \nL 45.40625 54.6875 \nL 54.390625 54.6875 \nz\n\" id=\"DejaVuSans-103\"/>\n      <path d=\"M 54.890625 33.015625 \nL 54.890625 0 \nL 45.90625 0 \nL 45.90625 32.71875 \nQ 45.90625 40.484375 42.875 44.328125 \nQ 39.84375 48.1875 33.796875 48.1875 \nQ 26.515625 48.1875 22.3125 43.546875 \nQ 18.109375 38.921875 18.109375 30.90625 \nL 18.109375 0 \nL 9.078125 0 \nL 9.078125 54.6875 \nL 18.109375 54.6875 \nL 18.109375 46.1875 \nQ 21.34375 51.125 25.703125 53.5625 \nQ 30.078125 56 35.796875 56 \nQ 45.21875 56 50.046875 50.171875 \nQ 54.890625 44.34375 54.890625 33.015625 \nz\n\" id=\"DejaVuSans-110\"/>\n      <path d=\"M 45.40625 46.390625 \nL 45.40625 75.984375 \nL 54.390625 75.984375 \nL 54.390625 0 \nL 45.40625 0 \nL 45.40625 8.203125 \nQ 42.578125 3.328125 38.25 0.953125 \nQ 33.9375 -1.421875 27.875 -1.421875 \nQ 17.96875 -1.421875 11.734375 6.484375 \nQ 5.515625 14.40625 5.515625 27.296875 \nQ 5.515625 40.1875 11.734375 48.09375 \nQ 17.96875 56 27.875 56 \nQ 33.9375 56 38.25 53.625 \nQ 42.578125 51.265625 45.40625 46.390625 \nz\nM 14.796875 27.296875 \nQ 14.796875 17.390625 18.875 11.75 \nQ 22.953125 6.109375 30.078125 6.109375 \nQ 37.203125 6.109375 41.296875 11.75 \nQ 45.40625 17.390625 45.40625 27.296875 \nQ 45.40625 37.203125 41.296875 42.84375 \nQ 37.203125 48.484375 30.078125 48.484375 \nQ 22.953125 48.484375 18.875 42.84375 \nQ 14.796875 37.203125 14.796875 27.296875 \nz\n\" id=\"DejaVuSans-100\"/>\n      <path d=\"M 41.109375 46.296875 \nQ 39.59375 47.171875 37.8125 47.578125 \nQ 36.03125 48 33.890625 48 \nQ 26.265625 48 22.1875 43.046875 \nQ 18.109375 38.09375 18.109375 28.8125 \nL 18.109375 0 \nL 9.078125 0 \nL 9.078125 54.6875 \nL 18.109375 54.6875 \nL 18.109375 46.1875 \nQ 20.953125 51.171875 25.484375 53.578125 \nQ 30.03125 56 36.53125 56 \nQ 37.453125 56 38.578125 55.875 \nQ 39.703125 55.765625 41.0625 55.515625 \nz\n\" id=\"DejaVuSans-114\"/>\n     </defs>\n     <use xlink:href=\"#DejaVuSans-103\"/>\n     <use x=\"63.476562\" xlink:href=\"#DejaVuSans-101\"/>\n     <use x=\"125\" xlink:href=\"#DejaVuSans-110\"/>\n     <use x=\"188.378906\" xlink:href=\"#DejaVuSans-100\"/>\n     <use x=\"251.855469\" xlink:href=\"#DejaVuSans-101\"/>\n     <use x=\"313.378906\" xlink:href=\"#DejaVuSans-114\"/>\n    </g>\n   </g>\n  </g>\n </g>\n <defs>\n  <clipPath id=\"p50f9d83e07\">\n   <rect height=\"217.44\" width=\"334.8\" x=\"33.2875\" y=\"22.318125\"/>\n  </clipPath>\n </defs>\n</svg>\n",
      "image/png": "[encoded data removed]"
     },
     "metadata": {
      "needs_background": "light"
     }
    }
   ],
   "source": [
    "#your code\n",
    "plt.hist(titanic['gender'])\n",
    "plt.title('gender')"
   ]
  },
  {
   "cell_type": "markdown",
   "metadata": {},
   "source": [
    "32b. What if you also plot the column `'gender'` using the function [`countplot`](https://seaborn.pydata.org/generated/seaborn.countplot.html) from the library [`seaborn`](https://seaborn.pydata.org/)?\n",
    "\n",
    "Remember you have never used `seaborn` before, therefore you should install it before importing it."
   ]
  },
  {
   "cell_type": "code",
   "execution_count": 332,
   "metadata": {},
   "outputs": [
    {
     "output_type": "execute_result",
     "data": {
      "text/plain": [
       "<AxesSubplot:xlabel='gender', ylabel='count'>"
      ]
     },
     "metadata": {},
     "execution_count": 332
    },
    {
     "output_type": "display_data",
     "data": {
      "text/plain": "<Figure size 432x288 with 1 Axes>",
      "image/svg+xml": "<?xml version=\"1.0\" encoding=\"utf-8\" standalone=\"no\"?>\n<!DOCTYPE svg PUBLIC \"-//W3C//DTD SVG 1.1//EN\"\n  \"http://www.w3.org/Graphics/SVG/1.1/DTD/svg11.dtd\">\n<!-- Created with matplotlib (https://matplotlib.org/) -->\n<svg height=\"262.19625pt\" version=\"1.1\" viewBox=\"0 0 388.965625 262.19625\" width=\"388.965625pt\" xmlns=\"http://www.w3.org/2000/svg\" xmlns:xlink=\"http://www.w3.org/1999/xlink\">\n <metadata>\n  <rdf:RDF xmlns:cc=\"http://creativecommons.org/ns#\" xmlns:dc=\"http://purl.org/dc/elements/1.1/\" xmlns:rdf=\"http://www.w3.org/1999/02/22-rdf-syntax-ns#\">\n   <cc:Work>\n    <dc:type rdf:resource=\"http://purl.org/dc/dcmitype/StillImage\"/>\n    <dc:date>2020-12-21T01:32:32.706000</dc:date>\n    <dc:format>image/svg+xml</dc:format>\n    <dc:creator>\n     <cc:Agent>\n      <dc:title>Matplotlib v3.3.3, https://matplotlib.org/</dc:title>\n     </cc:Agent>\n    </dc:creator>\n   </cc:Work>\n  </rdf:RDF>\n </metadata>\n <defs>\n  <style type=\"text/css\">*{stroke-linecap:butt;stroke-linejoin:round;}</style>\n </defs>\n <g id=\"figure_1\">\n  <g id=\"patch_1\">\n   <path d=\"M -0 262.19625 \nL 388.965625 262.19625 \nL 388.965625 0 \nL -0 0 \nz\n\" style=\"fill:none;\"/>\n  </g>\n  <g id=\"axes_1\">\n   <g id=\"patch_2\">\n    <path d=\"M 46.965625 224.64 \nL 381.765625 224.64 \nL 381.765625 7.2 \nL 46.965625 7.2 \nz\n\" style=\"fill:#ffffff;\"/>\n   </g>\n   <g id=\"patch_3\">\n    <path clip-path=\"url(#p2c3f5ca1ac)\" d=\"M 63.705625 224.64 \nL 197.625625 224.64 \nL 197.625625 110.165572 \nL 63.705625 110.165572 \nz\n\" style=\"fill:#3274a1;\"/>\n   </g>\n   <g id=\"patch_4\">\n    <path clip-path=\"url(#p2c3f5ca1ac)\" d=\"M 231.105625 224.64 \nL 365.025625 224.64 \nL 365.025625 17.554286 \nL 231.105625 17.554286 \nz\n\" style=\"fill:#e1812c;\"/>\n   </g>\n   <g id=\"matplotlib.axis_1\">\n    <g id=\"xtick_1\">\n     <g id=\"line2d_1\">\n      <defs>\n       <path d=\"M 0 0 \nL 0 3.5 \n\" id=\"m20c9800327\" style=\"stroke:#000000;stroke-width:0.8;\"/>\n      </defs>\n      <g>\n       <use style=\"stroke:#000000;stroke-width:0.8;\" x=\"130.665625\" xlink:href=\"#m20c9800327\" y=\"224.64\"/>\n      </g>\n     </g>\n     <g id=\"text_1\">\n      <!-- female -->\n      <g transform=\"translate(113.428906 239.238437)scale(0.1 -0.1)\">\n       <defs>\n        <path d=\"M 37.109375 75.984375 \nL 37.109375 68.5 \nL 28.515625 68.5 \nQ 23.6875 68.5 21.796875 66.546875 \nQ 19.921875 64.59375 19.921875 59.515625 \nL 19.921875 54.6875 \nL 34.71875 54.6875 \nL 34.71875 47.703125 \nL 19.921875 47.703125 \nL 19.921875 0 \nL 10.890625 0 \nL 10.890625 47.703125 \nL 2.296875 47.703125 \nL 2.296875 54.6875 \nL 10.890625 54.6875 \nL 10.890625 58.5 \nQ 10.890625 67.625 15.140625 71.796875 \nQ 19.390625 75.984375 28.609375 75.984375 \nz\n\" id=\"DejaVuSans-102\"/>\n        <path d=\"M 56.203125 29.59375 \nL 56.203125 25.203125 \nL 14.890625 25.203125 \nQ 15.484375 15.921875 20.484375 11.0625 \nQ 25.484375 6.203125 34.421875 6.203125 \nQ 39.59375 6.203125 44.453125 7.46875 \nQ 49.3125 8.734375 54.109375 11.28125 \nL 54.109375 2.78125 \nQ 49.265625 0.734375 44.1875 -0.34375 \nQ 39.109375 -1.421875 33.890625 -1.421875 \nQ 20.796875 -1.421875 13.15625 6.1875 \nQ 5.515625 13.8125 5.515625 26.8125 \nQ 5.515625 40.234375 12.765625 48.109375 \nQ 20.015625 56 32.328125 56 \nQ 43.359375 56 49.78125 48.890625 \nQ 56.203125 41.796875 56.203125 29.59375 \nz\nM 47.21875 32.234375 \nQ 47.125 39.59375 43.09375 43.984375 \nQ 39.0625 48.390625 32.421875 48.390625 \nQ 24.90625 48.390625 20.390625 44.140625 \nQ 15.875 39.890625 15.1875 32.171875 \nz\n\" id=\"DejaVuSans-101\"/>\n        <path d=\"M 52 44.1875 \nQ 55.375 50.25 60.0625 53.125 \nQ 64.75 56 71.09375 56 \nQ 79.640625 56 84.28125 50.015625 \nQ 88.921875 44.046875 88.921875 33.015625 \nL 88.921875 0 \nL 79.890625 0 \nL 79.890625 32.71875 \nQ 79.890625 40.578125 77.09375 44.375 \nQ 74.3125 48.1875 68.609375 48.1875 \nQ 61.625 48.1875 57.5625 43.546875 \nQ 53.515625 38.921875 53.515625 30.90625 \nL 53.515625 0 \nL 44.484375 0 \nL 44.484375 32.71875 \nQ 44.484375 40.625 41.703125 44.40625 \nQ 38.921875 48.1875 33.109375 48.1875 \nQ 26.21875 48.1875 22.15625 43.53125 \nQ 18.109375 38.875 18.109375 30.90625 \nL 18.109375 0 \nL 9.078125 0 \nL 9.078125 54.6875 \nL 18.109375 54.6875 \nL 18.109375 46.1875 \nQ 21.1875 51.21875 25.484375 53.609375 \nQ 29.78125 56 35.6875 56 \nQ 41.65625 56 45.828125 52.96875 \nQ 50 49.953125 52 44.1875 \nz\n\" id=\"DejaVuSans-109\"/>\n        <path d=\"M 34.28125 27.484375 \nQ 23.390625 27.484375 19.1875 25 \nQ 14.984375 22.515625 14.984375 16.5 \nQ 14.984375 11.71875 18.140625 8.90625 \nQ 21.296875 6.109375 26.703125 6.109375 \nQ 34.1875 6.109375 38.703125 11.40625 \nQ 43.21875 16.703125 43.21875 25.484375 \nL 43.21875 27.484375 \nz\nM 52.203125 31.203125 \nL 52.203125 0 \nL 43.21875 0 \nL 43.21875 8.296875 \nQ 40.140625 3.328125 35.546875 0.953125 \nQ 30.953125 -1.421875 24.3125 -1.421875 \nQ 15.921875 -1.421875 10.953125 3.296875 \nQ 6 8.015625 6 15.921875 \nQ 6 25.140625 12.171875 29.828125 \nQ 18.359375 34.515625 30.609375 34.515625 \nL 43.21875 34.515625 \nL 43.21875 35.40625 \nQ 43.21875 41.609375 39.140625 45 \nQ 35.0625 48.390625 27.6875 48.390625 \nQ 23 48.390625 18.546875 47.265625 \nQ 14.109375 46.140625 10.015625 43.890625 \nL 10.015625 52.203125 \nQ 14.9375 54.109375 19.578125 55.046875 \nQ 24.21875 56 28.609375 56 \nQ 40.484375 56 46.34375 49.84375 \nQ 52.203125 43.703125 52.203125 31.203125 \nz\n\" id=\"DejaVuSans-97\"/>\n        <path d=\"M 9.421875 75.984375 \nL 18.40625 75.984375 \nL 18.40625 0 \nL 9.421875 0 \nz\n\" id=\"DejaVuSans-108\"/>\n       </defs>\n       <use xlink:href=\"#DejaVuSans-102\"/>\n       <use x=\"35.205078\" xlink:href=\"#DejaVuSans-101\"/>\n       <use x=\"96.728516\" xlink:href=\"#DejaVuSans-109\"/>\n       <use x=\"194.140625\" xlink:href=\"#DejaVuSans-97\"/>\n       <use x=\"255.419922\" xlink:href=\"#DejaVuSans-108\"/>\n       <use x=\"283.203125\" xlink:href=\"#DejaVuSans-101\"/>\n      </g>\n     </g>\n    </g>\n    <g id=\"xtick_2\">\n     <g id=\"line2d_2\">\n      <g>\n       <use style=\"stroke:#000000;stroke-width:0.8;\" x=\"298.065625\" xlink:href=\"#m20c9800327\" y=\"224.64\"/>\n      </g>\n     </g>\n     <g id=\"text_2\">\n      <!-- male -->\n      <g transform=\"translate(285.665625 239.238437)scale(0.1 -0.1)\">\n       <use xlink:href=\"#DejaVuSans-109\"/>\n       <use x=\"97.412109\" xlink:href=\"#DejaVuSans-97\"/>\n       <use x=\"158.691406\" xlink:href=\"#DejaVuSans-108\"/>\n       <use x=\"186.474609\" xlink:href=\"#DejaVuSans-101\"/>\n      </g>\n     </g>\n    </g>\n    <g id=\"text_3\">\n     <!-- gender -->\n     <g transform=\"translate(196.639844 252.916562)scale(0.1 -0.1)\">\n      <defs>\n       <path d=\"M 45.40625 27.984375 \nQ 45.40625 37.75 41.375 43.109375 \nQ 37.359375 48.484375 30.078125 48.484375 \nQ 22.859375 48.484375 18.828125 43.109375 \nQ 14.796875 37.75 14.796875 27.984375 \nQ 14.796875 18.265625 18.828125 12.890625 \nQ 22.859375 7.515625 30.078125 7.515625 \nQ 37.359375 7.515625 41.375 12.890625 \nQ 45.40625 18.265625 45.40625 27.984375 \nz\nM 54.390625 6.78125 \nQ 54.390625 -7.171875 48.1875 -13.984375 \nQ 42 -20.796875 29.203125 -20.796875 \nQ 24.46875 -20.796875 20.265625 -20.09375 \nQ 16.0625 -19.390625 12.109375 -17.921875 \nL 12.109375 -9.1875 \nQ 16.0625 -11.328125 19.921875 -12.34375 \nQ 23.78125 -13.375 27.78125 -13.375 \nQ 36.625 -13.375 41.015625 -8.765625 \nQ 45.40625 -4.15625 45.40625 5.171875 \nL 45.40625 9.625 \nQ 42.625 4.78125 38.28125 2.390625 \nQ 33.9375 0 27.875 0 \nQ 17.828125 0 11.671875 7.65625 \nQ 5.515625 15.328125 5.515625 27.984375 \nQ 5.515625 40.671875 11.671875 48.328125 \nQ 17.828125 56 27.875 56 \nQ 33.9375 56 38.28125 53.609375 \nQ 42.625 51.21875 45.40625 46.390625 \nL 45.40625 54.6875 \nL 54.390625 54.6875 \nz\n\" id=\"DejaVuSans-103\"/>\n       <path d=\"M 54.890625 33.015625 \nL 54.890625 0 \nL 45.90625 0 \nL 45.90625 32.71875 \nQ 45.90625 40.484375 42.875 44.328125 \nQ 39.84375 48.1875 33.796875 48.1875 \nQ 26.515625 48.1875 22.3125 43.546875 \nQ 18.109375 38.921875 18.109375 30.90625 \nL 18.109375 0 \nL 9.078125 0 \nL 9.078125 54.6875 \nL 18.109375 54.6875 \nL 18.109375 46.1875 \nQ 21.34375 51.125 25.703125 53.5625 \nQ 30.078125 56 35.796875 56 \nQ 45.21875 56 50.046875 50.171875 \nQ 54.890625 44.34375 54.890625 33.015625 \nz\n\" id=\"DejaVuSans-110\"/>\n       <path d=\"M 45.40625 46.390625 \nL 45.40625 75.984375 \nL 54.390625 75.984375 \nL 54.390625 0 \nL 45.40625 0 \nL 45.40625 8.203125 \nQ 42.578125 3.328125 38.25 0.953125 \nQ 33.9375 -1.421875 27.875 -1.421875 \nQ 17.96875 -1.421875 11.734375 6.484375 \nQ 5.515625 14.40625 5.515625 27.296875 \nQ 5.515625 40.1875 11.734375 48.09375 \nQ 17.96875 56 27.875 56 \nQ 33.9375 56 38.25 53.625 \nQ 42.578125 51.265625 45.40625 46.390625 \nz\nM 14.796875 27.296875 \nQ 14.796875 17.390625 18.875 11.75 \nQ 22.953125 6.109375 30.078125 6.109375 \nQ 37.203125 6.109375 41.296875 11.75 \nQ 45.40625 17.390625 45.40625 27.296875 \nQ 45.40625 37.203125 41.296875 42.84375 \nQ 37.203125 48.484375 30.078125 48.484375 \nQ 22.953125 48.484375 18.875 42.84375 \nQ 14.796875 37.203125 14.796875 27.296875 \nz\n\" id=\"DejaVuSans-100\"/>\n       <path d=\"M 41.109375 46.296875 \nQ 39.59375 47.171875 37.8125 47.578125 \nQ 36.03125 48 33.890625 48 \nQ 26.265625 48 22.1875 43.046875 \nQ 18.109375 38.09375 18.109375 28.8125 \nL 18.109375 0 \nL 9.078125 0 \nL 9.078125 54.6875 \nL 18.109375 54.6875 \nL 18.109375 46.1875 \nQ 20.953125 51.171875 25.484375 53.578125 \nQ 30.03125 56 36.53125 56 \nQ 37.453125 56 38.578125 55.875 \nQ 39.703125 55.765625 41.0625 55.515625 \nz\n\" id=\"DejaVuSans-114\"/>\n      </defs>\n      <use xlink:href=\"#DejaVuSans-103\"/>\n      <use x=\"63.476562\" xlink:href=\"#DejaVuSans-101\"/>\n      <use x=\"125\" xlink:href=\"#DejaVuSans-110\"/>\n      <use x=\"188.378906\" xlink:href=\"#DejaVuSans-100\"/>\n      <use x=\"251.855469\" xlink:href=\"#DejaVuSans-101\"/>\n      <use x=\"313.378906\" xlink:href=\"#DejaVuSans-114\"/>\n     </g>\n    </g>\n   </g>\n   <g id=\"matplotlib.axis_2\">\n    <g id=\"ytick_1\">\n     <g id=\"line2d_3\">\n      <defs>\n       <path d=\"M 0 0 \nL -3.5 0 \n\" id=\"mdaed956496\" style=\"stroke:#000000;stroke-width:0.8;\"/>\n      </defs>\n      <g>\n       <use style=\"stroke:#000000;stroke-width:0.8;\" x=\"46.965625\" xlink:href=\"#mdaed956496\" y=\"224.64\"/>\n      </g>\n     </g>\n     <g id=\"text_4\">\n      <!-- 0 -->\n      <g transform=\"translate(33.603125 228.439219)scale(0.1 -0.1)\">\n       <defs>\n        <path d=\"M 31.78125 66.40625 \nQ 24.171875 66.40625 20.328125 58.90625 \nQ 16.5 51.421875 16.5 36.375 \nQ 16.5 21.390625 20.328125 13.890625 \nQ 24.171875 6.390625 31.78125 6.390625 \nQ 39.453125 6.390625 43.28125 13.890625 \nQ 47.125 21.390625 47.125 36.375 \nQ 47.125 51.421875 43.28125 58.90625 \nQ 39.453125 66.40625 31.78125 66.40625 \nz\nM 31.78125 74.21875 \nQ 44.046875 74.21875 50.515625 64.515625 \nQ 56.984375 54.828125 56.984375 36.375 \nQ 56.984375 17.96875 50.515625 8.265625 \nQ 44.046875 -1.421875 31.78125 -1.421875 \nQ 19.53125 -1.421875 13.0625 8.265625 \nQ 6.59375 17.96875 6.59375 36.375 \nQ 6.59375 54.828125 13.0625 64.515625 \nQ 19.53125 74.21875 31.78125 74.21875 \nz\n\" id=\"DejaVuSans-48\"/>\n       </defs>\n       <use xlink:href=\"#DejaVuSans-48\"/>\n      </g>\n     </g>\n    </g>\n    <g id=\"ytick_2\">\n     <g id=\"line2d_4\">\n      <g>\n       <use style=\"stroke:#000000;stroke-width:0.8;\" x=\"46.965625\" xlink:href=\"#mdaed956496\" y=\"200.074672\"/>\n      </g>\n     </g>\n     <g id=\"text_5\">\n      <!-- 100 -->\n      <g transform=\"translate(20.878125 203.873891)scale(0.1 -0.1)\">\n       <defs>\n        <path d=\"M 12.40625 8.296875 \nL 28.515625 8.296875 \nL 28.515625 63.921875 \nL 10.984375 60.40625 \nL 10.984375 69.390625 \nL 28.421875 72.90625 \nL 38.28125 72.90625 \nL 38.28125 8.296875 \nL 54.390625 8.296875 \nL 54.390625 0 \nL 12.40625 0 \nz\n\" id=\"DejaVuSans-49\"/>\n       </defs>\n       <use xlink:href=\"#DejaVuSans-49\"/>\n       <use x=\"63.623047\" xlink:href=\"#DejaVuSans-48\"/>\n       <use x=\"127.246094\" xlink:href=\"#DejaVuSans-48\"/>\n      </g>\n     </g>\n    </g>\n    <g id=\"ytick_3\">\n     <g id=\"line2d_5\">\n      <g>\n       <use style=\"stroke:#000000;stroke-width:0.8;\" x=\"46.965625\" xlink:href=\"#mdaed956496\" y=\"175.509344\"/>\n      </g>\n     </g>\n     <g id=\"text_6\">\n      <!-- 200 -->\n      <g transform=\"translate(20.878125 179.308563)scale(0.1 -0.1)\">\n       <defs>\n        <path d=\"M 19.1875 8.296875 \nL 53.609375 8.296875 \nL 53.609375 0 \nL 7.328125 0 \nL 7.328125 8.296875 \nQ 12.9375 14.109375 22.625 23.890625 \nQ 32.328125 33.6875 34.8125 36.53125 \nQ 39.546875 41.84375 41.421875 45.53125 \nQ 43.3125 49.21875 43.3125 52.78125 \nQ 43.3125 58.59375 39.234375 62.25 \nQ 35.15625 65.921875 28.609375 65.921875 \nQ 23.96875 65.921875 18.8125 64.3125 \nQ 13.671875 62.703125 7.8125 59.421875 \nL 7.8125 69.390625 \nQ 13.765625 71.78125 18.9375 73 \nQ 24.125 74.21875 28.421875 74.21875 \nQ 39.75 74.21875 46.484375 68.546875 \nQ 53.21875 62.890625 53.21875 53.421875 \nQ 53.21875 48.921875 51.53125 44.890625 \nQ 49.859375 40.875 45.40625 35.40625 \nQ 44.1875 33.984375 37.640625 27.21875 \nQ 31.109375 20.453125 19.1875 8.296875 \nz\n\" id=\"DejaVuSans-50\"/>\n       </defs>\n       <use xlink:href=\"#DejaVuSans-50\"/>\n       <use x=\"63.623047\" xlink:href=\"#DejaVuSans-48\"/>\n       <use x=\"127.246094\" xlink:href=\"#DejaVuSans-48\"/>\n      </g>\n     </g>\n    </g>\n    <g id=\"ytick_4\">\n     <g id=\"line2d_6\">\n      <g>\n       <use style=\"stroke:#000000;stroke-width:0.8;\" x=\"46.965625\" xlink:href=\"#mdaed956496\" y=\"150.944016\"/>\n      </g>\n     </g>\n     <g id=\"text_7\">\n      <!-- 300 -->\n      <g transform=\"translate(20.878125 154.743235)scale(0.1 -0.1)\">\n       <defs>\n        <path d=\"M 40.578125 39.3125 \nQ 47.65625 37.796875 51.625 33 \nQ 55.609375 28.21875 55.609375 21.1875 \nQ 55.609375 10.40625 48.1875 4.484375 \nQ 40.765625 -1.421875 27.09375 -1.421875 \nQ 22.515625 -1.421875 17.65625 -0.515625 \nQ 12.796875 0.390625 7.625 2.203125 \nL 7.625 11.71875 \nQ 11.71875 9.328125 16.59375 8.109375 \nQ 21.484375 6.890625 26.8125 6.890625 \nQ 36.078125 6.890625 40.9375 10.546875 \nQ 45.796875 14.203125 45.796875 21.1875 \nQ 45.796875 27.640625 41.28125 31.265625 \nQ 36.765625 34.90625 28.71875 34.90625 \nL 20.21875 34.90625 \nL 20.21875 43.015625 \nL 29.109375 43.015625 \nQ 36.375 43.015625 40.234375 45.921875 \nQ 44.09375 48.828125 44.09375 54.296875 \nQ 44.09375 59.90625 40.109375 62.90625 \nQ 36.140625 65.921875 28.71875 65.921875 \nQ 24.65625 65.921875 20.015625 65.03125 \nQ 15.375 64.15625 9.8125 62.3125 \nL 9.8125 71.09375 \nQ 15.4375 72.65625 20.34375 73.4375 \nQ 25.25 74.21875 29.59375 74.21875 \nQ 40.828125 74.21875 47.359375 69.109375 \nQ 53.90625 64.015625 53.90625 55.328125 \nQ 53.90625 49.265625 50.4375 45.09375 \nQ 46.96875 40.921875 40.578125 39.3125 \nz\n\" id=\"DejaVuSans-51\"/>\n       </defs>\n       <use xlink:href=\"#DejaVuSans-51\"/>\n       <use x=\"63.623047\" xlink:href=\"#DejaVuSans-48\"/>\n       <use x=\"127.246094\" xlink:href=\"#DejaVuSans-48\"/>\n      </g>\n     </g>\n    </g>\n    <g id=\"ytick_5\">\n     <g id=\"line2d_7\">\n      <g>\n       <use style=\"stroke:#000000;stroke-width:0.8;\" x=\"46.965625\" xlink:href=\"#mdaed956496\" y=\"126.378688\"/>\n      </g>\n     </g>\n     <g id=\"text_8\">\n      <!-- 400 -->\n      <g transform=\"translate(20.878125 130.177907)scale(0.1 -0.1)\">\n       <defs>\n        <path d=\"M 37.796875 64.3125 \nL 12.890625 25.390625 \nL 37.796875 25.390625 \nz\nM 35.203125 72.90625 \nL 47.609375 72.90625 \nL 47.609375 25.390625 \nL 58.015625 25.390625 \nL 58.015625 17.1875 \nL 47.609375 17.1875 \nL 47.609375 0 \nL 37.796875 0 \nL 37.796875 17.1875 \nL 4.890625 17.1875 \nL 4.890625 26.703125 \nz\n\" id=\"DejaVuSans-52\"/>\n       </defs>\n       <use xlink:href=\"#DejaVuSans-52\"/>\n       <use x=\"63.623047\" xlink:href=\"#DejaVuSans-48\"/>\n       <use x=\"127.246094\" xlink:href=\"#DejaVuSans-48\"/>\n      </g>\n     </g>\n    </g>\n    <g id=\"ytick_6\">\n     <g id=\"line2d_8\">\n      <g>\n       <use style=\"stroke:#000000;stroke-width:0.8;\" x=\"46.965625\" xlink:href=\"#mdaed956496\" y=\"101.81336\"/>\n      </g>\n     </g>\n     <g id=\"text_9\">\n      <!-- 500 -->\n      <g transform=\"translate(20.878125 105.612579)scale(0.1 -0.1)\">\n       <defs>\n        <path d=\"M 10.796875 72.90625 \nL 49.515625 72.90625 \nL 49.515625 64.59375 \nL 19.828125 64.59375 \nL 19.828125 46.734375 \nQ 21.96875 47.46875 24.109375 47.828125 \nQ 26.265625 48.1875 28.421875 48.1875 \nQ 40.625 48.1875 47.75 41.5 \nQ 54.890625 34.8125 54.890625 23.390625 \nQ 54.890625 11.625 47.5625 5.09375 \nQ 40.234375 -1.421875 26.90625 -1.421875 \nQ 22.3125 -1.421875 17.546875 -0.640625 \nQ 12.796875 0.140625 7.71875 1.703125 \nL 7.71875 11.625 \nQ 12.109375 9.234375 16.796875 8.0625 \nQ 21.484375 6.890625 26.703125 6.890625 \nQ 35.15625 6.890625 40.078125 11.328125 \nQ 45.015625 15.765625 45.015625 23.390625 \nQ 45.015625 31 40.078125 35.4375 \nQ 35.15625 39.890625 26.703125 39.890625 \nQ 22.75 39.890625 18.8125 39.015625 \nQ 14.890625 38.140625 10.796875 36.28125 \nz\n\" id=\"DejaVuSans-53\"/>\n       </defs>\n       <use xlink:href=\"#DejaVuSans-53\"/>\n       <use x=\"63.623047\" xlink:href=\"#DejaVuSans-48\"/>\n       <use x=\"127.246094\" xlink:href=\"#DejaVuSans-48\"/>\n      </g>\n     </g>\n    </g>\n    <g id=\"ytick_7\">\n     <g id=\"line2d_9\">\n      <g>\n       <use style=\"stroke:#000000;stroke-width:0.8;\" x=\"46.965625\" xlink:href=\"#mdaed956496\" y=\"77.248033\"/>\n      </g>\n     </g>\n     <g id=\"text_10\">\n      <!-- 600 -->\n      <g transform=\"translate(20.878125 81.047251)scale(0.1 -0.1)\">\n       <defs>\n        <path d=\"M 33.015625 40.375 \nQ 26.375 40.375 22.484375 35.828125 \nQ 18.609375 31.296875 18.609375 23.390625 \nQ 18.609375 15.53125 22.484375 10.953125 \nQ 26.375 6.390625 33.015625 6.390625 \nQ 39.65625 6.390625 43.53125 10.953125 \nQ 47.40625 15.53125 47.40625 23.390625 \nQ 47.40625 31.296875 43.53125 35.828125 \nQ 39.65625 40.375 33.015625 40.375 \nz\nM 52.59375 71.296875 \nL 52.59375 62.3125 \nQ 48.875 64.0625 45.09375 64.984375 \nQ 41.3125 65.921875 37.59375 65.921875 \nQ 27.828125 65.921875 22.671875 59.328125 \nQ 17.53125 52.734375 16.796875 39.40625 \nQ 19.671875 43.65625 24.015625 45.921875 \nQ 28.375 48.1875 33.59375 48.1875 \nQ 44.578125 48.1875 50.953125 41.515625 \nQ 57.328125 34.859375 57.328125 23.390625 \nQ 57.328125 12.15625 50.6875 5.359375 \nQ 44.046875 -1.421875 33.015625 -1.421875 \nQ 20.359375 -1.421875 13.671875 8.265625 \nQ 6.984375 17.96875 6.984375 36.375 \nQ 6.984375 53.65625 15.1875 63.9375 \nQ 23.390625 74.21875 37.203125 74.21875 \nQ 40.921875 74.21875 44.703125 73.484375 \nQ 48.484375 72.75 52.59375 71.296875 \nz\n\" id=\"DejaVuSans-54\"/>\n       </defs>\n       <use xlink:href=\"#DejaVuSans-54\"/>\n       <use x=\"63.623047\" xlink:href=\"#DejaVuSans-48\"/>\n       <use x=\"127.246094\" xlink:href=\"#DejaVuSans-48\"/>\n      </g>\n     </g>\n    </g>\n    <g id=\"ytick_8\">\n     <g id=\"line2d_10\">\n      <g>\n       <use style=\"stroke:#000000;stroke-width:0.8;\" x=\"46.965625\" xlink:href=\"#mdaed956496\" y=\"52.682705\"/>\n      </g>\n     </g>\n     <g id=\"text_11\">\n      <!-- 700 -->\n      <g transform=\"translate(20.878125 56.481923)scale(0.1 -0.1)\">\n       <defs>\n        <path d=\"M 8.203125 72.90625 \nL 55.078125 72.90625 \nL 55.078125 68.703125 \nL 28.609375 0 \nL 18.3125 0 \nL 43.21875 64.59375 \nL 8.203125 64.59375 \nz\n\" id=\"DejaVuSans-55\"/>\n       </defs>\n       <use xlink:href=\"#DejaVuSans-55\"/>\n       <use x=\"63.623047\" xlink:href=\"#DejaVuSans-48\"/>\n       <use x=\"127.246094\" xlink:href=\"#DejaVuSans-48\"/>\n      </g>\n     </g>\n    </g>\n    <g id=\"ytick_9\">\n     <g id=\"line2d_11\">\n      <g>\n       <use style=\"stroke:#000000;stroke-width:0.8;\" x=\"46.965625\" xlink:href=\"#mdaed956496\" y=\"28.117377\"/>\n      </g>\n     </g>\n     <g id=\"text_12\">\n      <!-- 800 -->\n      <g transform=\"translate(20.878125 31.916595)scale(0.1 -0.1)\">\n       <defs>\n        <path d=\"M 31.78125 34.625 \nQ 24.75 34.625 20.71875 30.859375 \nQ 16.703125 27.09375 16.703125 20.515625 \nQ 16.703125 13.921875 20.71875 10.15625 \nQ 24.75 6.390625 31.78125 6.390625 \nQ 38.8125 6.390625 42.859375 10.171875 \nQ 46.921875 13.96875 46.921875 20.515625 \nQ 46.921875 27.09375 42.890625 30.859375 \nQ 38.875 34.625 31.78125 34.625 \nz\nM 21.921875 38.8125 \nQ 15.578125 40.375 12.03125 44.71875 \nQ 8.5 49.078125 8.5 55.328125 \nQ 8.5 64.0625 14.71875 69.140625 \nQ 20.953125 74.21875 31.78125 74.21875 \nQ 42.671875 74.21875 48.875 69.140625 \nQ 55.078125 64.0625 55.078125 55.328125 \nQ 55.078125 49.078125 51.53125 44.71875 \nQ 48 40.375 41.703125 38.8125 \nQ 48.828125 37.15625 52.796875 32.3125 \nQ 56.78125 27.484375 56.78125 20.515625 \nQ 56.78125 9.90625 50.3125 4.234375 \nQ 43.84375 -1.421875 31.78125 -1.421875 \nQ 19.734375 -1.421875 13.25 4.234375 \nQ 6.78125 9.90625 6.78125 20.515625 \nQ 6.78125 27.484375 10.78125 32.3125 \nQ 14.796875 37.15625 21.921875 38.8125 \nz\nM 18.3125 54.390625 \nQ 18.3125 48.734375 21.84375 45.5625 \nQ 25.390625 42.390625 31.78125 42.390625 \nQ 38.140625 42.390625 41.71875 45.5625 \nQ 45.3125 48.734375 45.3125 54.390625 \nQ 45.3125 60.0625 41.71875 63.234375 \nQ 38.140625 66.40625 31.78125 66.40625 \nQ 25.390625 66.40625 21.84375 63.234375 \nQ 18.3125 60.0625 18.3125 54.390625 \nz\n\" id=\"DejaVuSans-56\"/>\n       </defs>\n       <use xlink:href=\"#DejaVuSans-56\"/>\n       <use x=\"63.623047\" xlink:href=\"#DejaVuSans-48\"/>\n       <use x=\"127.246094\" xlink:href=\"#DejaVuSans-48\"/>\n      </g>\n     </g>\n    </g>\n    <g id=\"text_13\">\n     <!-- count -->\n     <g transform=\"translate(14.798438 130.02625)rotate(-90)scale(0.1 -0.1)\">\n      <defs>\n       <path d=\"M 48.78125 52.59375 \nL 48.78125 44.1875 \nQ 44.96875 46.296875 41.140625 47.34375 \nQ 37.3125 48.390625 33.40625 48.390625 \nQ 24.65625 48.390625 19.8125 42.84375 \nQ 14.984375 37.3125 14.984375 27.296875 \nQ 14.984375 17.28125 19.8125 11.734375 \nQ 24.65625 6.203125 33.40625 6.203125 \nQ 37.3125 6.203125 41.140625 7.25 \nQ 44.96875 8.296875 48.78125 10.40625 \nL 48.78125 2.09375 \nQ 45.015625 0.34375 40.984375 -0.53125 \nQ 36.96875 -1.421875 32.421875 -1.421875 \nQ 20.0625 -1.421875 12.78125 6.34375 \nQ 5.515625 14.109375 5.515625 27.296875 \nQ 5.515625 40.671875 12.859375 48.328125 \nQ 20.21875 56 33.015625 56 \nQ 37.15625 56 41.109375 55.140625 \nQ 45.0625 54.296875 48.78125 52.59375 \nz\n\" id=\"DejaVuSans-99\"/>\n       <path d=\"M 30.609375 48.390625 \nQ 23.390625 48.390625 19.1875 42.75 \nQ 14.984375 37.109375 14.984375 27.296875 \nQ 14.984375 17.484375 19.15625 11.84375 \nQ 23.34375 6.203125 30.609375 6.203125 \nQ 37.796875 6.203125 41.984375 11.859375 \nQ 46.1875 17.53125 46.1875 27.296875 \nQ 46.1875 37.015625 41.984375 42.703125 \nQ 37.796875 48.390625 30.609375 48.390625 \nz\nM 30.609375 56 \nQ 42.328125 56 49.015625 48.375 \nQ 55.71875 40.765625 55.71875 27.296875 \nQ 55.71875 13.875 49.015625 6.21875 \nQ 42.328125 -1.421875 30.609375 -1.421875 \nQ 18.84375 -1.421875 12.171875 6.21875 \nQ 5.515625 13.875 5.515625 27.296875 \nQ 5.515625 40.765625 12.171875 48.375 \nQ 18.84375 56 30.609375 56 \nz\n\" id=\"DejaVuSans-111\"/>\n       <path d=\"M 8.5 21.578125 \nL 8.5 54.6875 \nL 17.484375 54.6875 \nL 17.484375 21.921875 \nQ 17.484375 14.15625 20.5 10.265625 \nQ 23.53125 6.390625 29.59375 6.390625 \nQ 36.859375 6.390625 41.078125 11.03125 \nQ 45.3125 15.671875 45.3125 23.6875 \nL 45.3125 54.6875 \nL 54.296875 54.6875 \nL 54.296875 0 \nL 45.3125 0 \nL 45.3125 8.40625 \nQ 42.046875 3.421875 37.71875 1 \nQ 33.40625 -1.421875 27.6875 -1.421875 \nQ 18.265625 -1.421875 13.375 4.4375 \nQ 8.5 10.296875 8.5 21.578125 \nz\nM 31.109375 56 \nz\n\" id=\"DejaVuSans-117\"/>\n       <path d=\"M 18.3125 70.21875 \nL 18.3125 54.6875 \nL 36.8125 54.6875 \nL 36.8125 47.703125 \nL 18.3125 47.703125 \nL 18.3125 18.015625 \nQ 18.3125 11.328125 20.140625 9.421875 \nQ 21.96875 7.515625 27.59375 7.515625 \nL 36.8125 7.515625 \nL 36.8125 0 \nL 27.59375 0 \nQ 17.1875 0 13.234375 3.875 \nQ 9.28125 7.765625 9.28125 18.015625 \nL 9.28125 47.703125 \nL 2.6875 47.703125 \nL 2.6875 54.6875 \nL 9.28125 54.6875 \nL 9.28125 70.21875 \nz\n\" id=\"DejaVuSans-116\"/>\n      </defs>\n      <use xlink:href=\"#DejaVuSans-99\"/>\n      <use x=\"54.980469\" xlink:href=\"#DejaVuSans-111\"/>\n      <use x=\"116.162109\" xlink:href=\"#DejaVuSans-117\"/>\n      <use x=\"179.541016\" xlink:href=\"#DejaVuSans-110\"/>\n      <use x=\"242.919922\" xlink:href=\"#DejaVuSans-116\"/>\n     </g>\n    </g>\n   </g>\n   <g id=\"patch_5\">\n    <path d=\"M 46.965625 224.64 \nL 46.965625 7.2 \n\" style=\"fill:none;stroke:#000000;stroke-linecap:square;stroke-linejoin:miter;stroke-width:0.8;\"/>\n   </g>\n   <g id=\"patch_6\">\n    <path d=\"M 381.765625 224.64 \nL 381.765625 7.2 \n\" style=\"fill:none;stroke:#000000;stroke-linecap:square;stroke-linejoin:miter;stroke-width:0.8;\"/>\n   </g>\n   <g id=\"patch_7\">\n    <path d=\"M 46.965625 224.64 \nL 381.765625 224.64 \n\" style=\"fill:none;stroke:#000000;stroke-linecap:square;stroke-linejoin:miter;stroke-width:0.8;\"/>\n   </g>\n   <g id=\"patch_8\">\n    <path d=\"M 46.965625 7.2 \nL 381.765625 7.2 \n\" style=\"fill:none;stroke:#000000;stroke-linecap:square;stroke-linejoin:miter;stroke-width:0.8;\"/>\n   </g>\n  </g>\n </g>\n <defs>\n  <clipPath id=\"p2c3f5ca1ac\">\n   <rect height=\"217.44\" width=\"334.8\" x=\"46.965625\" y=\"7.2\"/>\n  </clipPath>\n </defs>\n</svg>\n",
      "image/png": "[encoded data removed]"
     },
     "metadata": {
      "needs_background": "light"
     }
    }
   ],
   "source": [
    "#your code\n",
    "sns.countplot(titanic['gender'])"
   ]
  },
  {
   "cell_type": "markdown",
   "metadata": {},
   "source": [
    "33. Using the function [`catplot`](https://seaborn.pydata.org/generated/seaborn.catplot.html) from the library `seaborn`, find out if the hypothesis _\"Women are more likely to survive shipwrecks\"_ is true or not.\n",
    "\n",
    "You should get something like this:"
   ]
  },
  {
   "cell_type": "markdown",
   "metadata": {},
   "source": [
    "![catplot](catplotgen.png)"
   ]
  },
  {
   "cell_type": "code",
   "execution_count": 424,
   "metadata": {},
   "outputs": [
    {
     "output_type": "execute_result",
     "data": {
      "text/plain": [
       "<seaborn.axisgrid.FacetGrid at 0x7fb41acaf7c0>"
      ]
     },
     "metadata": {},
     "execution_count": 424
    },
    {
     "output_type": "display_data",
     "data": {
      "text/plain": "<Figure size 360x360 with 1 Axes>",
      "image/svg+xml": "<?xml version=\"1.0\" encoding=\"utf-8\" standalone=\"no\"?>\n<!DOCTYPE svg PUBLIC \"-//W3C//DTD SVG 1.1//EN\"\n  \"http://www.w3.org/Graphics/SVG/1.1/DTD/svg11.dtd\">\n<!-- Created with matplotlib (https://matplotlib.org/) -->\n<svg height=\"365.953197pt\" version=\"1.1\" viewBox=\"0 0 366.50625 365.953197\" width=\"366.50625pt\" xmlns=\"http://www.w3.org/2000/svg\" xmlns:xlink=\"http://www.w3.org/1999/xlink\">\n <metadata>\n  <rdf:RDF xmlns:cc=\"http://creativecommons.org/ns#\" xmlns:dc=\"http://purl.org/dc/elements/1.1/\" xmlns:rdf=\"http://www.w3.org/1999/02/22-rdf-syntax-ns#\">\n   <cc:Work>\n    <dc:type rdf:resource=\"http://purl.org/dc/dcmitype/StillImage\"/>\n    <dc:date>2020-12-21T12:34:38.072666</dc:date>\n    <dc:format>image/svg+xml</dc:format>\n    <dc:creator>\n     <cc:Agent>\n      <dc:title>Matplotlib v3.3.3, https://matplotlib.org/</dc:title>\n     </cc:Agent>\n    </dc:creator>\n   </cc:Work>\n  </rdf:RDF>\n </metadata>\n <defs>\n  <style type=\"text/css\">*{stroke-linecap:butt;stroke-linejoin:round;}</style>\n </defs>\n <g id=\"figure_1\">\n  <g id=\"patch_1\">\n   <path d=\"M 0 365.953197 \nL 366.50625 365.953197 \nL 366.50625 0 \nL 0 0 \nz\n\" style=\"fill:none;\"/>\n  </g>\n  <g id=\"axes_1\">\n   <g id=\"patch_2\">\n    <path d=\"M 43.78125 328.396947 \nL 359.30625 328.396947 \nL 359.30625 10.14783 \nL 43.78125 10.14783 \nz\n\" style=\"fill:#ffffff;\"/>\n   </g>\n   <g id=\"patch_3\">\n    <path clip-path=\"url(#pa062460378)\" d=\"M 59.5575 328.396947 \nL 185.7675 328.396947 \nL 185.7675 39.776159 \nL 59.5575 39.776159 \nz\n\" style=\"fill:#3274a1;\"/>\n   </g>\n   <g id=\"patch_4\">\n    <path clip-path=\"url(#pa062460378)\" d=\"M 217.32 328.396947 \nL 343.53 328.396947 \nL 343.53 252.624358 \nL 217.32 252.624358 \nz\n\" style=\"fill:#e1812c;\"/>\n   </g>\n   <g id=\"matplotlib.axis_1\">\n    <g id=\"xtick_1\">\n     <g id=\"line2d_1\">\n      <defs>\n       <path d=\"M 0 0 \nL 0 3.5 \n\" id=\"m633a4b43b0\" style=\"stroke:#000000;stroke-width:0.8;\"/>\n      </defs>\n      <g>\n       <use style=\"stroke:#000000;stroke-width:0.8;\" x=\"122.6625\" xlink:href=\"#m633a4b43b0\" y=\"328.396947\"/>\n      </g>\n     </g>\n     <g id=\"text_1\">\n      <!-- female -->\n      <g transform=\"translate(105.425781 342.995385)scale(0.1 -0.1)\">\n       <defs>\n        <path d=\"M 37.109375 75.984375 \nL 37.109375 68.5 \nL 28.515625 68.5 \nQ 23.6875 68.5 21.796875 66.546875 \nQ 19.921875 64.59375 19.921875 59.515625 \nL 19.921875 54.6875 \nL 34.71875 54.6875 \nL 34.71875 47.703125 \nL 19.921875 47.703125 \nL 19.921875 0 \nL 10.890625 0 \nL 10.890625 47.703125 \nL 2.296875 47.703125 \nL 2.296875 54.6875 \nL 10.890625 54.6875 \nL 10.890625 58.5 \nQ 10.890625 67.625 15.140625 71.796875 \nQ 19.390625 75.984375 28.609375 75.984375 \nz\n\" id=\"DejaVuSans-102\"/>\n        <path d=\"M 56.203125 29.59375 \nL 56.203125 25.203125 \nL 14.890625 25.203125 \nQ 15.484375 15.921875 20.484375 11.0625 \nQ 25.484375 6.203125 34.421875 6.203125 \nQ 39.59375 6.203125 44.453125 7.46875 \nQ 49.3125 8.734375 54.109375 11.28125 \nL 54.109375 2.78125 \nQ 49.265625 0.734375 44.1875 -0.34375 \nQ 39.109375 -1.421875 33.890625 -1.421875 \nQ 20.796875 -1.421875 13.15625 6.1875 \nQ 5.515625 13.8125 5.515625 26.8125 \nQ 5.515625 40.234375 12.765625 48.109375 \nQ 20.015625 56 32.328125 56 \nQ 43.359375 56 49.78125 48.890625 \nQ 56.203125 41.796875 56.203125 29.59375 \nz\nM 47.21875 32.234375 \nQ 47.125 39.59375 43.09375 43.984375 \nQ 39.0625 48.390625 32.421875 48.390625 \nQ 24.90625 48.390625 20.390625 44.140625 \nQ 15.875 39.890625 15.1875 32.171875 \nz\n\" id=\"DejaVuSans-101\"/>\n        <path d=\"M 52 44.1875 \nQ 55.375 50.25 60.0625 53.125 \nQ 64.75 56 71.09375 56 \nQ 79.640625 56 84.28125 50.015625 \nQ 88.921875 44.046875 88.921875 33.015625 \nL 88.921875 0 \nL 79.890625 0 \nL 79.890625 32.71875 \nQ 79.890625 40.578125 77.09375 44.375 \nQ 74.3125 48.1875 68.609375 48.1875 \nQ 61.625 48.1875 57.5625 43.546875 \nQ 53.515625 38.921875 53.515625 30.90625 \nL 53.515625 0 \nL 44.484375 0 \nL 44.484375 32.71875 \nQ 44.484375 40.625 41.703125 44.40625 \nQ 38.921875 48.1875 33.109375 48.1875 \nQ 26.21875 48.1875 22.15625 43.53125 \nQ 18.109375 38.875 18.109375 30.90625 \nL 18.109375 0 \nL 9.078125 0 \nL 9.078125 54.6875 \nL 18.109375 54.6875 \nL 18.109375 46.1875 \nQ 21.1875 51.21875 25.484375 53.609375 \nQ 29.78125 56 35.6875 56 \nQ 41.65625 56 45.828125 52.96875 \nQ 50 49.953125 52 44.1875 \nz\n\" id=\"DejaVuSans-109\"/>\n        <path d=\"M 34.28125 27.484375 \nQ 23.390625 27.484375 19.1875 25 \nQ 14.984375 22.515625 14.984375 16.5 \nQ 14.984375 11.71875 18.140625 8.90625 \nQ 21.296875 6.109375 26.703125 6.109375 \nQ 34.1875 6.109375 38.703125 11.40625 \nQ 43.21875 16.703125 43.21875 25.484375 \nL 43.21875 27.484375 \nz\nM 52.203125 31.203125 \nL 52.203125 0 \nL 43.21875 0 \nL 43.21875 8.296875 \nQ 40.140625 3.328125 35.546875 0.953125 \nQ 30.953125 -1.421875 24.3125 -1.421875 \nQ 15.921875 -1.421875 10.953125 3.296875 \nQ 6 8.015625 6 15.921875 \nQ 6 25.140625 12.171875 29.828125 \nQ 18.359375 34.515625 30.609375 34.515625 \nL 43.21875 34.515625 \nL 43.21875 35.40625 \nQ 43.21875 41.609375 39.140625 45 \nQ 35.0625 48.390625 27.6875 48.390625 \nQ 23 48.390625 18.546875 47.265625 \nQ 14.109375 46.140625 10.015625 43.890625 \nL 10.015625 52.203125 \nQ 14.9375 54.109375 19.578125 55.046875 \nQ 24.21875 56 28.609375 56 \nQ 40.484375 56 46.34375 49.84375 \nQ 52.203125 43.703125 52.203125 31.203125 \nz\n\" id=\"DejaVuSans-97\"/>\n        <path d=\"M 9.421875 75.984375 \nL 18.40625 75.984375 \nL 18.40625 0 \nL 9.421875 0 \nz\n\" id=\"DejaVuSans-108\"/>\n       </defs>\n       <use xlink:href=\"#DejaVuSans-102\"/>\n       <use x=\"35.205078\" xlink:href=\"#DejaVuSans-101\"/>\n       <use x=\"96.728516\" xlink:href=\"#DejaVuSans-109\"/>\n       <use x=\"194.140625\" xlink:href=\"#DejaVuSans-97\"/>\n       <use x=\"255.419922\" xlink:href=\"#DejaVuSans-108\"/>\n       <use x=\"283.203125\" xlink:href=\"#DejaVuSans-101\"/>\n      </g>\n     </g>\n    </g>\n    <g id=\"xtick_2\">\n     <g id=\"line2d_2\">\n      <g>\n       <use style=\"stroke:#000000;stroke-width:0.8;\" x=\"280.425\" xlink:href=\"#m633a4b43b0\" y=\"328.396947\"/>\n      </g>\n     </g>\n     <g id=\"text_2\">\n      <!-- male -->\n      <g transform=\"translate(268.025 342.995385)scale(0.1 -0.1)\">\n       <use xlink:href=\"#DejaVuSans-109\"/>\n       <use x=\"97.412109\" xlink:href=\"#DejaVuSans-97\"/>\n       <use x=\"158.691406\" xlink:href=\"#DejaVuSans-108\"/>\n       <use x=\"186.474609\" xlink:href=\"#DejaVuSans-101\"/>\n      </g>\n     </g>\n    </g>\n    <g id=\"text_3\">\n     <!-- sex -->\n     <g transform=\"translate(192.990625 356.67351)scale(0.1 -0.1)\">\n      <defs>\n       <path d=\"M 44.28125 53.078125 \nL 44.28125 44.578125 \nQ 40.484375 46.53125 36.375 47.5 \nQ 32.28125 48.484375 27.875 48.484375 \nQ 21.1875 48.484375 17.84375 46.4375 \nQ 14.5 44.390625 14.5 40.28125 \nQ 14.5 37.15625 16.890625 35.375 \nQ 19.28125 33.59375 26.515625 31.984375 \nL 29.59375 31.296875 \nQ 39.15625 29.25 43.1875 25.515625 \nQ 47.21875 21.78125 47.21875 15.09375 \nQ 47.21875 7.46875 41.1875 3.015625 \nQ 35.15625 -1.421875 24.609375 -1.421875 \nQ 20.21875 -1.421875 15.453125 -0.5625 \nQ 10.6875 0.296875 5.421875 2 \nL 5.421875 11.28125 \nQ 10.40625 8.6875 15.234375 7.390625 \nQ 20.0625 6.109375 24.8125 6.109375 \nQ 31.15625 6.109375 34.5625 8.28125 \nQ 37.984375 10.453125 37.984375 14.40625 \nQ 37.984375 18.0625 35.515625 20.015625 \nQ 33.0625 21.96875 24.703125 23.78125 \nL 21.578125 24.515625 \nQ 13.234375 26.265625 9.515625 29.90625 \nQ 5.8125 33.546875 5.8125 39.890625 \nQ 5.8125 47.609375 11.28125 51.796875 \nQ 16.75 56 26.8125 56 \nQ 31.78125 56 36.171875 55.265625 \nQ 40.578125 54.546875 44.28125 53.078125 \nz\n\" id=\"DejaVuSans-115\"/>\n       <path d=\"M 54.890625 54.6875 \nL 35.109375 28.078125 \nL 55.90625 0 \nL 45.3125 0 \nL 29.390625 21.484375 \nL 13.484375 0 \nL 2.875 0 \nL 24.125 28.609375 \nL 4.6875 54.6875 \nL 15.28125 54.6875 \nL 29.78125 35.203125 \nL 44.28125 54.6875 \nz\n\" id=\"DejaVuSans-120\"/>\n      </defs>\n      <use xlink:href=\"#DejaVuSans-115\"/>\n      <use x=\"52.099609\" xlink:href=\"#DejaVuSans-101\"/>\n      <use x=\"111.873047\" xlink:href=\"#DejaVuSans-120\"/>\n     </g>\n    </g>\n   </g>\n   <g id=\"matplotlib.axis_2\">\n    <g id=\"ytick_1\">\n     <g id=\"line2d_3\">\n      <defs>\n       <path d=\"M 0 0 \nL -3.5 0 \n\" id=\"m797ec8ecda\" style=\"stroke:#000000;stroke-width:0.8;\"/>\n      </defs>\n      <g>\n       <use style=\"stroke:#000000;stroke-width:0.8;\" x=\"43.78125\" xlink:href=\"#m797ec8ecda\" y=\"328.396947\"/>\n      </g>\n     </g>\n     <g id=\"text_4\">\n      <!-- 0.0 -->\n      <g transform=\"translate(20.878125 332.196166)scale(0.1 -0.1)\">\n       <defs>\n        <path d=\"M 31.78125 66.40625 \nQ 24.171875 66.40625 20.328125 58.90625 \nQ 16.5 51.421875 16.5 36.375 \nQ 16.5 21.390625 20.328125 13.890625 \nQ 24.171875 6.390625 31.78125 6.390625 \nQ 39.453125 6.390625 43.28125 13.890625 \nQ 47.125 21.390625 47.125 36.375 \nQ 47.125 51.421875 43.28125 58.90625 \nQ 39.453125 66.40625 31.78125 66.40625 \nz\nM 31.78125 74.21875 \nQ 44.046875 74.21875 50.515625 64.515625 \nQ 56.984375 54.828125 56.984375 36.375 \nQ 56.984375 17.96875 50.515625 8.265625 \nQ 44.046875 -1.421875 31.78125 -1.421875 \nQ 19.53125 -1.421875 13.0625 8.265625 \nQ 6.59375 17.96875 6.59375 36.375 \nQ 6.59375 54.828125 13.0625 64.515625 \nQ 19.53125 74.21875 31.78125 74.21875 \nz\n\" id=\"DejaVuSans-48\"/>\n        <path d=\"M 10.6875 12.40625 \nL 21 12.40625 \nL 21 0 \nL 10.6875 0 \nz\n\" id=\"DejaVuSans-46\"/>\n       </defs>\n       <use xlink:href=\"#DejaVuSans-48\"/>\n       <use x=\"63.623047\" xlink:href=\"#DejaVuSans-46\"/>\n       <use x=\"95.410156\" xlink:href=\"#DejaVuSans-48\"/>\n      </g>\n     </g>\n    </g>\n    <g id=\"ytick_2\">\n     <g id=\"line2d_4\">\n      <g>\n       <use style=\"stroke:#000000;stroke-width:0.8;\" x=\"43.78125\" xlink:href=\"#m797ec8ecda\" y=\"288.722231\"/>\n      </g>\n     </g>\n     <g id=\"text_5\">\n      <!-- 0.1 -->\n      <g transform=\"translate(20.878125 292.52145)scale(0.1 -0.1)\">\n       <defs>\n        <path d=\"M 12.40625 8.296875 \nL 28.515625 8.296875 \nL 28.515625 63.921875 \nL 10.984375 60.40625 \nL 10.984375 69.390625 \nL 28.421875 72.90625 \nL 38.28125 72.90625 \nL 38.28125 8.296875 \nL 54.390625 8.296875 \nL 54.390625 0 \nL 12.40625 0 \nz\n\" id=\"DejaVuSans-49\"/>\n       </defs>\n       <use xlink:href=\"#DejaVuSans-48\"/>\n       <use x=\"63.623047\" xlink:href=\"#DejaVuSans-46\"/>\n       <use x=\"95.410156\" xlink:href=\"#DejaVuSans-49\"/>\n      </g>\n     </g>\n    </g>\n    <g id=\"ytick_3\">\n     <g id=\"line2d_5\">\n      <g>\n       <use style=\"stroke:#000000;stroke-width:0.8;\" x=\"43.78125\" xlink:href=\"#m797ec8ecda\" y=\"249.047515\"/>\n      </g>\n     </g>\n     <g id=\"text_6\">\n      <!-- 0.2 -->\n      <g transform=\"translate(20.878125 252.846734)scale(0.1 -0.1)\">\n       <defs>\n        <path d=\"M 19.1875 8.296875 \nL 53.609375 8.296875 \nL 53.609375 0 \nL 7.328125 0 \nL 7.328125 8.296875 \nQ 12.9375 14.109375 22.625 23.890625 \nQ 32.328125 33.6875 34.8125 36.53125 \nQ 39.546875 41.84375 41.421875 45.53125 \nQ 43.3125 49.21875 43.3125 52.78125 \nQ 43.3125 58.59375 39.234375 62.25 \nQ 35.15625 65.921875 28.609375 65.921875 \nQ 23.96875 65.921875 18.8125 64.3125 \nQ 13.671875 62.703125 7.8125 59.421875 \nL 7.8125 69.390625 \nQ 13.765625 71.78125 18.9375 73 \nQ 24.125 74.21875 28.421875 74.21875 \nQ 39.75 74.21875 46.484375 68.546875 \nQ 53.21875 62.890625 53.21875 53.421875 \nQ 53.21875 48.921875 51.53125 44.890625 \nQ 49.859375 40.875 45.40625 35.40625 \nQ 44.1875 33.984375 37.640625 27.21875 \nQ 31.109375 20.453125 19.1875 8.296875 \nz\n\" id=\"DejaVuSans-50\"/>\n       </defs>\n       <use xlink:href=\"#DejaVuSans-48\"/>\n       <use x=\"63.623047\" xlink:href=\"#DejaVuSans-46\"/>\n       <use x=\"95.410156\" xlink:href=\"#DejaVuSans-50\"/>\n      </g>\n     </g>\n    </g>\n    <g id=\"ytick_4\">\n     <g id=\"line2d_6\">\n      <g>\n       <use style=\"stroke:#000000;stroke-width:0.8;\" x=\"43.78125\" xlink:href=\"#m797ec8ecda\" y=\"209.372799\"/>\n      </g>\n     </g>\n     <g id=\"text_7\">\n      <!-- 0.3 -->\n      <g transform=\"translate(20.878125 213.172018)scale(0.1 -0.1)\">\n       <defs>\n        <path d=\"M 40.578125 39.3125 \nQ 47.65625 37.796875 51.625 33 \nQ 55.609375 28.21875 55.609375 21.1875 \nQ 55.609375 10.40625 48.1875 4.484375 \nQ 40.765625 -1.421875 27.09375 -1.421875 \nQ 22.515625 -1.421875 17.65625 -0.515625 \nQ 12.796875 0.390625 7.625 2.203125 \nL 7.625 11.71875 \nQ 11.71875 9.328125 16.59375 8.109375 \nQ 21.484375 6.890625 26.8125 6.890625 \nQ 36.078125 6.890625 40.9375 10.546875 \nQ 45.796875 14.203125 45.796875 21.1875 \nQ 45.796875 27.640625 41.28125 31.265625 \nQ 36.765625 34.90625 28.71875 34.90625 \nL 20.21875 34.90625 \nL 20.21875 43.015625 \nL 29.109375 43.015625 \nQ 36.375 43.015625 40.234375 45.921875 \nQ 44.09375 48.828125 44.09375 54.296875 \nQ 44.09375 59.90625 40.109375 62.90625 \nQ 36.140625 65.921875 28.71875 65.921875 \nQ 24.65625 65.921875 20.015625 65.03125 \nQ 15.375 64.15625 9.8125 62.3125 \nL 9.8125 71.09375 \nQ 15.4375 72.65625 20.34375 73.4375 \nQ 25.25 74.21875 29.59375 74.21875 \nQ 40.828125 74.21875 47.359375 69.109375 \nQ 53.90625 64.015625 53.90625 55.328125 \nQ 53.90625 49.265625 50.4375 45.09375 \nQ 46.96875 40.921875 40.578125 39.3125 \nz\n\" id=\"DejaVuSans-51\"/>\n       </defs>\n       <use xlink:href=\"#DejaVuSans-48\"/>\n       <use x=\"63.623047\" xlink:href=\"#DejaVuSans-46\"/>\n       <use x=\"95.410156\" xlink:href=\"#DejaVuSans-51\"/>\n      </g>\n     </g>\n    </g>\n    <g id=\"ytick_5\">\n     <g id=\"line2d_7\">\n      <g>\n       <use style=\"stroke:#000000;stroke-width:0.8;\" x=\"43.78125\" xlink:href=\"#m797ec8ecda\" y=\"169.698083\"/>\n      </g>\n     </g>\n     <g id=\"text_8\">\n      <!-- 0.4 -->\n      <g transform=\"translate(20.878125 173.497302)scale(0.1 -0.1)\">\n       <defs>\n        <path d=\"M 37.796875 64.3125 \nL 12.890625 25.390625 \nL 37.796875 25.390625 \nz\nM 35.203125 72.90625 \nL 47.609375 72.90625 \nL 47.609375 25.390625 \nL 58.015625 25.390625 \nL 58.015625 17.1875 \nL 47.609375 17.1875 \nL 47.609375 0 \nL 37.796875 0 \nL 37.796875 17.1875 \nL 4.890625 17.1875 \nL 4.890625 26.703125 \nz\n\" id=\"DejaVuSans-52\"/>\n       </defs>\n       <use xlink:href=\"#DejaVuSans-48\"/>\n       <use x=\"63.623047\" xlink:href=\"#DejaVuSans-46\"/>\n       <use x=\"95.410156\" xlink:href=\"#DejaVuSans-52\"/>\n      </g>\n     </g>\n    </g>\n    <g id=\"ytick_6\">\n     <g id=\"line2d_8\">\n      <g>\n       <use style=\"stroke:#000000;stroke-width:0.8;\" x=\"43.78125\" xlink:href=\"#m797ec8ecda\" y=\"130.023367\"/>\n      </g>\n     </g>\n     <g id=\"text_9\">\n      <!-- 0.5 -->\n      <g transform=\"translate(20.878125 133.822586)scale(0.1 -0.1)\">\n       <defs>\n        <path d=\"M 10.796875 72.90625 \nL 49.515625 72.90625 \nL 49.515625 64.59375 \nL 19.828125 64.59375 \nL 19.828125 46.734375 \nQ 21.96875 47.46875 24.109375 47.828125 \nQ 26.265625 48.1875 28.421875 48.1875 \nQ 40.625 48.1875 47.75 41.5 \nQ 54.890625 34.8125 54.890625 23.390625 \nQ 54.890625 11.625 47.5625 5.09375 \nQ 40.234375 -1.421875 26.90625 -1.421875 \nQ 22.3125 -1.421875 17.546875 -0.640625 \nQ 12.796875 0.140625 7.71875 1.703125 \nL 7.71875 11.625 \nQ 12.109375 9.234375 16.796875 8.0625 \nQ 21.484375 6.890625 26.703125 6.890625 \nQ 35.15625 6.890625 40.078125 11.328125 \nQ 45.015625 15.765625 45.015625 23.390625 \nQ 45.015625 31 40.078125 35.4375 \nQ 35.15625 39.890625 26.703125 39.890625 \nQ 22.75 39.890625 18.8125 39.015625 \nQ 14.890625 38.140625 10.796875 36.28125 \nz\n\" id=\"DejaVuSans-53\"/>\n       </defs>\n       <use xlink:href=\"#DejaVuSans-48\"/>\n       <use x=\"63.623047\" xlink:href=\"#DejaVuSans-46\"/>\n       <use x=\"95.410156\" xlink:href=\"#DejaVuSans-53\"/>\n      </g>\n     </g>\n    </g>\n    <g id=\"ytick_7\">\n     <g id=\"line2d_9\">\n      <g>\n       <use style=\"stroke:#000000;stroke-width:0.8;\" x=\"43.78125\" xlink:href=\"#m797ec8ecda\" y=\"90.348651\"/>\n      </g>\n     </g>\n     <g id=\"text_10\">\n      <!-- 0.6 -->\n      <g transform=\"translate(20.878125 94.14787)scale(0.1 -0.1)\">\n       <defs>\n        <path d=\"M 33.015625 40.375 \nQ 26.375 40.375 22.484375 35.828125 \nQ 18.609375 31.296875 18.609375 23.390625 \nQ 18.609375 15.53125 22.484375 10.953125 \nQ 26.375 6.390625 33.015625 6.390625 \nQ 39.65625 6.390625 43.53125 10.953125 \nQ 47.40625 15.53125 47.40625 23.390625 \nQ 47.40625 31.296875 43.53125 35.828125 \nQ 39.65625 40.375 33.015625 40.375 \nz\nM 52.59375 71.296875 \nL 52.59375 62.3125 \nQ 48.875 64.0625 45.09375 64.984375 \nQ 41.3125 65.921875 37.59375 65.921875 \nQ 27.828125 65.921875 22.671875 59.328125 \nQ 17.53125 52.734375 16.796875 39.40625 \nQ 19.671875 43.65625 24.015625 45.921875 \nQ 28.375 48.1875 33.59375 48.1875 \nQ 44.578125 48.1875 50.953125 41.515625 \nQ 57.328125 34.859375 57.328125 23.390625 \nQ 57.328125 12.15625 50.6875 5.359375 \nQ 44.046875 -1.421875 33.015625 -1.421875 \nQ 20.359375 -1.421875 13.671875 8.265625 \nQ 6.984375 17.96875 6.984375 36.375 \nQ 6.984375 53.65625 15.1875 63.9375 \nQ 23.390625 74.21875 37.203125 74.21875 \nQ 40.921875 74.21875 44.703125 73.484375 \nQ 48.484375 72.75 52.59375 71.296875 \nz\n\" id=\"DejaVuSans-54\"/>\n       </defs>\n       <use xlink:href=\"#DejaVuSans-48\"/>\n       <use x=\"63.623047\" xlink:href=\"#DejaVuSans-46\"/>\n       <use x=\"95.410156\" xlink:href=\"#DejaVuSans-54\"/>\n      </g>\n     </g>\n    </g>\n    <g id=\"ytick_8\">\n     <g id=\"line2d_10\">\n      <g>\n       <use style=\"stroke:#000000;stroke-width:0.8;\" x=\"43.78125\" xlink:href=\"#m797ec8ecda\" y=\"50.673935\"/>\n      </g>\n     </g>\n     <g id=\"text_11\">\n      <!-- 0.7 -->\n      <g transform=\"translate(20.878125 54.473154)scale(0.1 -0.1)\">\n       <defs>\n        <path d=\"M 8.203125 72.90625 \nL 55.078125 72.90625 \nL 55.078125 68.703125 \nL 28.609375 0 \nL 18.3125 0 \nL 43.21875 64.59375 \nL 8.203125 64.59375 \nz\n\" id=\"DejaVuSans-55\"/>\n       </defs>\n       <use xlink:href=\"#DejaVuSans-48\"/>\n       <use x=\"63.623047\" xlink:href=\"#DejaVuSans-46\"/>\n       <use x=\"95.410156\" xlink:href=\"#DejaVuSans-55\"/>\n      </g>\n     </g>\n    </g>\n    <g id=\"ytick_9\">\n     <g id=\"line2d_11\">\n      <g>\n       <use style=\"stroke:#000000;stroke-width:0.8;\" x=\"43.78125\" xlink:href=\"#m797ec8ecda\" y=\"10.999219\"/>\n      </g>\n     </g>\n     <g id=\"text_12\">\n      <!-- 0.8 -->\n      <g transform=\"translate(20.878125 14.798438)scale(0.1 -0.1)\">\n       <defs>\n        <path d=\"M 31.78125 34.625 \nQ 24.75 34.625 20.71875 30.859375 \nQ 16.703125 27.09375 16.703125 20.515625 \nQ 16.703125 13.921875 20.71875 10.15625 \nQ 24.75 6.390625 31.78125 6.390625 \nQ 38.8125 6.390625 42.859375 10.171875 \nQ 46.921875 13.96875 46.921875 20.515625 \nQ 46.921875 27.09375 42.890625 30.859375 \nQ 38.875 34.625 31.78125 34.625 \nz\nM 21.921875 38.8125 \nQ 15.578125 40.375 12.03125 44.71875 \nQ 8.5 49.078125 8.5 55.328125 \nQ 8.5 64.0625 14.71875 69.140625 \nQ 20.953125 74.21875 31.78125 74.21875 \nQ 42.671875 74.21875 48.875 69.140625 \nQ 55.078125 64.0625 55.078125 55.328125 \nQ 55.078125 49.078125 51.53125 44.71875 \nQ 48 40.375 41.703125 38.8125 \nQ 48.828125 37.15625 52.796875 32.3125 \nQ 56.78125 27.484375 56.78125 20.515625 \nQ 56.78125 9.90625 50.3125 4.234375 \nQ 43.84375 -1.421875 31.78125 -1.421875 \nQ 19.734375 -1.421875 13.25 4.234375 \nQ 6.78125 9.90625 6.78125 20.515625 \nQ 6.78125 27.484375 10.78125 32.3125 \nQ 14.796875 37.15625 21.921875 38.8125 \nz\nM 18.3125 54.390625 \nQ 18.3125 48.734375 21.84375 45.5625 \nQ 25.390625 42.390625 31.78125 42.390625 \nQ 38.140625 42.390625 41.71875 45.5625 \nQ 45.3125 48.734375 45.3125 54.390625 \nQ 45.3125 60.0625 41.71875 63.234375 \nQ 38.140625 66.40625 31.78125 66.40625 \nQ 25.390625 66.40625 21.84375 63.234375 \nQ 18.3125 60.0625 18.3125 54.390625 \nz\n\" id=\"DejaVuSans-56\"/>\n       </defs>\n       <use xlink:href=\"#DejaVuSans-48\"/>\n       <use x=\"63.623047\" xlink:href=\"#DejaVuSans-46\"/>\n       <use x=\"95.410156\" xlink:href=\"#DejaVuSans-56\"/>\n      </g>\n     </g>\n    </g>\n    <g id=\"text_13\">\n     <!-- survived -->\n     <g transform=\"translate(14.798437 190.659889)rotate(-90)scale(0.1 -0.1)\">\n      <defs>\n       <path d=\"M 8.5 21.578125 \nL 8.5 54.6875 \nL 17.484375 54.6875 \nL 17.484375 21.921875 \nQ 17.484375 14.15625 20.5 10.265625 \nQ 23.53125 6.390625 29.59375 6.390625 \nQ 36.859375 6.390625 41.078125 11.03125 \nQ 45.3125 15.671875 45.3125 23.6875 \nL 45.3125 54.6875 \nL 54.296875 54.6875 \nL 54.296875 0 \nL 45.3125 0 \nL 45.3125 8.40625 \nQ 42.046875 3.421875 37.71875 1 \nQ 33.40625 -1.421875 27.6875 -1.421875 \nQ 18.265625 -1.421875 13.375 4.4375 \nQ 8.5 10.296875 8.5 21.578125 \nz\nM 31.109375 56 \nz\n\" id=\"DejaVuSans-117\"/>\n       <path d=\"M 41.109375 46.296875 \nQ 39.59375 47.171875 37.8125 47.578125 \nQ 36.03125 48 33.890625 48 \nQ 26.265625 48 22.1875 43.046875 \nQ 18.109375 38.09375 18.109375 28.8125 \nL 18.109375 0 \nL 9.078125 0 \nL 9.078125 54.6875 \nL 18.109375 54.6875 \nL 18.109375 46.1875 \nQ 20.953125 51.171875 25.484375 53.578125 \nQ 30.03125 56 36.53125 56 \nQ 37.453125 56 38.578125 55.875 \nQ 39.703125 55.765625 41.0625 55.515625 \nz\n\" id=\"DejaVuSans-114\"/>\n       <path d=\"M 2.984375 54.6875 \nL 12.5 54.6875 \nL 29.59375 8.796875 \nL 46.6875 54.6875 \nL 56.203125 54.6875 \nL 35.6875 0 \nL 23.484375 0 \nz\n\" id=\"DejaVuSans-118\"/>\n       <path d=\"M 9.421875 54.6875 \nL 18.40625 54.6875 \nL 18.40625 0 \nL 9.421875 0 \nz\nM 9.421875 75.984375 \nL 18.40625 75.984375 \nL 18.40625 64.59375 \nL 9.421875 64.59375 \nz\n\" id=\"DejaVuSans-105\"/>\n       <path d=\"M 45.40625 46.390625 \nL 45.40625 75.984375 \nL 54.390625 75.984375 \nL 54.390625 0 \nL 45.40625 0 \nL 45.40625 8.203125 \nQ 42.578125 3.328125 38.25 0.953125 \nQ 33.9375 -1.421875 27.875 -1.421875 \nQ 17.96875 -1.421875 11.734375 6.484375 \nQ 5.515625 14.40625 5.515625 27.296875 \nQ 5.515625 40.1875 11.734375 48.09375 \nQ 17.96875 56 27.875 56 \nQ 33.9375 56 38.25 53.625 \nQ 42.578125 51.265625 45.40625 46.390625 \nz\nM 14.796875 27.296875 \nQ 14.796875 17.390625 18.875 11.75 \nQ 22.953125 6.109375 30.078125 6.109375 \nQ 37.203125 6.109375 41.296875 11.75 \nQ 45.40625 17.390625 45.40625 27.296875 \nQ 45.40625 37.203125 41.296875 42.84375 \nQ 37.203125 48.484375 30.078125 48.484375 \nQ 22.953125 48.484375 18.875 42.84375 \nQ 14.796875 37.203125 14.796875 27.296875 \nz\n\" id=\"DejaVuSans-100\"/>\n      </defs>\n      <use xlink:href=\"#DejaVuSans-115\"/>\n      <use x=\"52.099609\" xlink:href=\"#DejaVuSans-117\"/>\n      <use x=\"115.478516\" xlink:href=\"#DejaVuSans-114\"/>\n      <use x=\"156.591797\" xlink:href=\"#DejaVuSans-118\"/>\n      <use x=\"215.771484\" xlink:href=\"#DejaVuSans-105\"/>\n      <use x=\"243.554688\" xlink:href=\"#DejaVuSans-118\"/>\n      <use x=\"302.734375\" xlink:href=\"#DejaVuSans-101\"/>\n      <use x=\"364.257812\" xlink:href=\"#DejaVuSans-100\"/>\n     </g>\n    </g>\n   </g>\n   <g id=\"line2d_12\">\n    <path clip-path=\"url(#pa062460378)\" d=\"M 122.6625 54.249768 \nL 122.6625 25.30255 \n\" style=\"fill:none;stroke:#424242;stroke-linecap:square;stroke-width:2.7;\"/>\n   </g>\n   <g id=\"line2d_13\">\n    <path clip-path=\"url(#pa062460378)\" d=\"M 280.425 262.507739 \nL 280.425 241.329065 \n\" style=\"fill:none;stroke:#424242;stroke-linecap:square;stroke-width:2.7;\"/>\n   </g>\n   <g id=\"patch_5\">\n    <path d=\"M 43.78125 328.396947 \nL 43.78125 10.14783 \n\" style=\"fill:none;stroke:#000000;stroke-linecap:square;stroke-linejoin:miter;stroke-width:0.8;\"/>\n   </g>\n   <g id=\"patch_6\">\n    <path d=\"M 43.78125 328.396947 \nL 359.30625 328.396947 \n\" style=\"fill:none;stroke:#000000;stroke-linecap:square;stroke-linejoin:miter;stroke-width:0.8;\"/>\n   </g>\n  </g>\n </g>\n <defs>\n  <clipPath id=\"pa062460378\">\n   <rect height=\"318.249117\" width=\"315.525\" x=\"43.78125\" y=\"10.14783\"/>\n  </clipPath>\n </defs>\n</svg>\n",
      "image/png": "[encoded data removed]"
     },
     "metadata": {
      "needs_background": "light"
     }
    }
   ],
   "source": [
    "#your code\n",
    "sns.catplot(x='sex', y='survived', kind='bar', data=titanic)"
   ]
  },
  {
   "cell_type": "markdown",
   "metadata": {},
   "source": [
    "34. Using [`kdeplot`](\"https://seaborn.pydata.org/generated/seaborn.kdeplot.html\") from `seaborn` represent those who not survived distributed by age.\n",
    "\n",
    "Hint: First you should \"filter\" the `titanic` dataset where the column \"survived\" is 0, indexing the column `\"age\"` only.\n",
    "\n",
    "Arguments you should pass to the function: \n",
    "\n",
    "    - color = \"red\"\n",
    "    - label = \"Not Survived\"\n",
    "    - shade = True\n",
    "    \n",
    "You should get something like this: "
   ]
  },
  {
   "cell_type": "markdown",
   "metadata": {},
   "source": [
    "![kdeplot](kdeplotsur.png)"
   ]
  },
  {
   "cell_type": "code",
   "execution_count": 430,
   "metadata": {},
   "outputs": [
    {
     "output_type": "execute_result",
     "data": {
      "text/plain": [
       "<AxesSubplot:xlabel='age', ylabel='Density'>"
      ]
     },
     "metadata": {},
     "execution_count": 430
    },
    {
     "output_type": "display_data",
     "data": {
      "text/plain": "<Figure size 432x288 with 1 Axes>",
      "image/svg+xml": "<?xml version=\"1.0\" encoding=\"utf-8\" standalone=\"no\"?>\n<!DOCTYPE svg PUBLIC \"-//W3C//DTD SVG 1.1//EN\"\n  \"http://www.w3.org/Graphics/SVG/1.1/DTD/svg11.dtd\">\n<!-- Created with matplotlib (https://matplotlib.org/) -->\n<svg height=\"262.19625pt\" version=\"1.1\" viewBox=\"0 0 398.50625 262.19625\" width=\"398.50625pt\" xmlns=\"http://www.w3.org/2000/svg\" xmlns:xlink=\"http://www.w3.org/1999/xlink\">\n <metadata>\n  <rdf:RDF xmlns:cc=\"http://creativecommons.org/ns#\" xmlns:dc=\"http://purl.org/dc/elements/1.1/\" xmlns:rdf=\"http://www.w3.org/1999/02/22-rdf-syntax-ns#\">\n   <cc:Work>\n    <dc:type rdf:resource=\"http://purl.org/dc/dcmitype/StillImage\"/>\n    <dc:date>2020-12-21T12:44:46.037999</dc:date>\n    <dc:format>image/svg+xml</dc:format>\n    <dc:creator>\n     <cc:Agent>\n      <dc:title>Matplotlib v3.3.3, https://matplotlib.org/</dc:title>\n     </cc:Agent>\n    </dc:creator>\n   </cc:Work>\n  </rdf:RDF>\n </metadata>\n <defs>\n  <style type=\"text/css\">*{stroke-linecap:butt;stroke-linejoin:round;}</style>\n </defs>\n <g id=\"figure_1\">\n  <g id=\"patch_1\">\n   <path d=\"M 0 262.19625 \nL 398.50625 262.19625 \nL 398.50625 0 \nL 0 0 \nz\n\" style=\"fill:none;\"/>\n  </g>\n  <g id=\"axes_1\">\n   <g id=\"patch_2\">\n    <path d=\"M 56.50625 224.64 \nL 391.30625 224.64 \nL 391.30625 7.2 \nL 56.50625 7.2 \nz\n\" style=\"fill:#ffffff;\"/>\n   </g>\n   <g id=\"PolyCollection_1\">\n    <defs>\n     <path d=\"M 77.620342 -37.62159 \nL 77.620342 -37.55625 \nL 79.006873 -37.55625 \nL 80.393403 -37.55625 \nL 81.779933 -37.55625 \nL 83.166464 -37.55625 \nL 84.552994 -37.55625 \nL 85.939524 -37.55625 \nL 87.326055 -37.55625 \nL 88.712585 -37.55625 \nL 90.099115 -37.55625 \nL 91.485646 -37.55625 \nL 92.872176 -37.55625 \nL 94.258706 -37.55625 \nL 95.645237 -37.55625 \nL 97.031767 -37.55625 \nL 98.418297 -37.55625 \nL 99.804828 -37.55625 \nL 101.191358 -37.55625 \nL 102.577888 -37.55625 \nL 103.964419 -37.55625 \nL 105.350949 -37.55625 \nL 106.737479 -37.55625 \nL 108.12401 -37.55625 \nL 109.51054 -37.55625 \nL 110.89707 -37.55625 \nL 112.283601 -37.55625 \nL 113.670131 -37.55625 \nL 115.056661 -37.55625 \nL 116.443192 -37.55625 \nL 117.829722 -37.55625 \nL 119.216252 -37.55625 \nL 120.602783 -37.55625 \nL 121.989313 -37.55625 \nL 123.375843 -37.55625 \nL 124.762374 -37.55625 \nL 126.148904 -37.55625 \nL 127.535434 -37.55625 \nL 128.921965 -37.55625 \nL 130.308495 -37.55625 \nL 131.695025 -37.55625 \nL 133.081556 -37.55625 \nL 134.468086 -37.55625 \nL 135.854616 -37.55625 \nL 137.241147 -37.55625 \nL 138.627677 -37.55625 \nL 140.014207 -37.55625 \nL 141.400738 -37.55625 \nL 142.787268 -37.55625 \nL 144.173798 -37.55625 \nL 145.560329 -37.55625 \nL 146.946859 -37.55625 \nL 148.333389 -37.55625 \nL 149.71992 -37.55625 \nL 151.10645 -37.55625 \nL 152.49298 -37.55625 \nL 153.879511 -37.55625 \nL 155.266041 -37.55625 \nL 156.652571 -37.55625 \nL 158.039102 -37.55625 \nL 159.425632 -37.55625 \nL 160.812162 -37.55625 \nL 162.198693 -37.55625 \nL 163.585223 -37.55625 \nL 164.971753 -37.55625 \nL 166.358284 -37.55625 \nL 167.744814 -37.55625 \nL 169.131344 -37.55625 \nL 170.517875 -37.55625 \nL 171.904405 -37.55625 \nL 173.290935 -37.55625 \nL 174.677466 -37.55625 \nL 176.063996 -37.55625 \nL 177.450527 -37.55625 \nL 178.837057 -37.55625 \nL 180.223587 -37.55625 \nL 181.610118 -37.55625 \nL 182.996648 -37.55625 \nL 184.383178 -37.55625 \nL 185.769709 -37.55625 \nL 187.156239 -37.55625 \nL 188.542769 -37.55625 \nL 189.9293 -37.55625 \nL 191.31583 -37.55625 \nL 192.70236 -37.55625 \nL 194.088891 -37.55625 \nL 195.475421 -37.55625 \nL 196.861951 -37.55625 \nL 198.248482 -37.55625 \nL 199.635012 -37.55625 \nL 201.021542 -37.55625 \nL 202.408073 -37.55625 \nL 203.794603 -37.55625 \nL 205.181133 -37.55625 \nL 206.567664 -37.55625 \nL 207.954194 -37.55625 \nL 209.340724 -37.55625 \nL 210.727255 -37.55625 \nL 212.113785 -37.55625 \nL 213.500315 -37.55625 \nL 214.886846 -37.55625 \nL 216.273376 -37.55625 \nL 217.659906 -37.55625 \nL 219.046437 -37.55625 \nL 220.432967 -37.55625 \nL 221.819497 -37.55625 \nL 223.206028 -37.55625 \nL 224.592558 -37.55625 \nL 225.979088 -37.55625 \nL 227.365619 -37.55625 \nL 228.752149 -37.55625 \nL 230.138679 -37.55625 \nL 231.52521 -37.55625 \nL 232.91174 -37.55625 \nL 234.29827 -37.55625 \nL 235.684801 -37.55625 \nL 237.071331 -37.55625 \nL 238.457861 -37.55625 \nL 239.844392 -37.55625 \nL 241.230922 -37.55625 \nL 242.617452 -37.55625 \nL 244.003983 -37.55625 \nL 245.390513 -37.55625 \nL 246.777043 -37.55625 \nL 248.163574 -37.55625 \nL 249.550104 -37.55625 \nL 250.936634 -37.55625 \nL 252.323165 -37.55625 \nL 253.709695 -37.55625 \nL 255.096225 -37.55625 \nL 256.482756 -37.55625 \nL 257.869286 -37.55625 \nL 259.255816 -37.55625 \nL 260.642347 -37.55625 \nL 262.028877 -37.55625 \nL 263.415407 -37.55625 \nL 264.801938 -37.55625 \nL 266.188468 -37.55625 \nL 267.574998 -37.55625 \nL 268.961529 -37.55625 \nL 270.348059 -37.55625 \nL 271.734589 -37.55625 \nL 273.12112 -37.55625 \nL 274.50765 -37.55625 \nL 275.89418 -37.55625 \nL 277.280711 -37.55625 \nL 278.667241 -37.55625 \nL 280.053771 -37.55625 \nL 281.440302 -37.55625 \nL 282.826832 -37.55625 \nL 284.213362 -37.55625 \nL 285.599893 -37.55625 \nL 286.986423 -37.55625 \nL 288.372953 -37.55625 \nL 289.759484 -37.55625 \nL 291.146014 -37.55625 \nL 292.532544 -37.55625 \nL 293.919075 -37.55625 \nL 295.305605 -37.55625 \nL 296.692135 -37.55625 \nL 298.078666 -37.55625 \nL 299.465196 -37.55625 \nL 300.851726 -37.55625 \nL 302.238257 -37.55625 \nL 303.624787 -37.55625 \nL 305.011317 -37.55625 \nL 306.397848 -37.55625 \nL 307.784378 -37.55625 \nL 309.170908 -37.55625 \nL 310.557439 -37.55625 \nL 311.943969 -37.55625 \nL 313.330499 -37.55625 \nL 314.71703 -37.55625 \nL 316.10356 -37.55625 \nL 317.49009 -37.55625 \nL 318.876621 -37.55625 \nL 320.263151 -37.55625 \nL 321.649681 -37.55625 \nL 323.036212 -37.55625 \nL 324.422742 -37.55625 \nL 325.809272 -37.55625 \nL 327.195803 -37.55625 \nL 328.582333 -37.55625 \nL 329.968863 -37.55625 \nL 331.355394 -37.55625 \nL 332.741924 -37.55625 \nL 334.128454 -37.55625 \nL 335.514985 -37.55625 \nL 336.901515 -37.55625 \nL 338.288045 -37.55625 \nL 339.674576 -37.55625 \nL 341.061106 -37.55625 \nL 342.447636 -37.55625 \nL 343.834167 -37.55625 \nL 345.220697 -37.55625 \nL 346.607227 -37.55625 \nL 347.993758 -37.55625 \nL 349.380288 -37.55625 \nL 350.766818 -37.55625 \nL 352.153349 -37.55625 \nL 353.539879 -37.55625 \nL 353.539879 -37.57024 \nL 353.539879 -37.57024 \nL 352.153349 -37.576976 \nL 350.766818 -37.58653 \nL 349.380288 -37.599886 \nL 347.993758 -37.618284 \nL 346.607227 -37.643262 \nL 345.220697 -37.676687 \nL 343.834167 -37.720777 \nL 342.447636 -37.778115 \nL 341.061106 -37.851626 \nL 339.674576 -37.944549 \nL 338.288045 -38.060363 \nL 336.901515 -38.202687 \nL 335.514985 -38.375145 \nL 334.128454 -38.581194 \nL 332.741924 -38.823938 \nL 331.355394 -39.105919 \nL 329.968863 -39.428919 \nL 328.582333 -39.793782 \nL 327.195803 -40.200285 \nL 325.809272 -40.647084 \nL 324.422742 -41.131745 \nL 323.036212 -41.650895 \nL 321.649681 -42.200471 \nL 320.263151 -42.776088 \nL 318.876621 -43.373477 \nL 317.49009 -43.988974 \nL 316.10356 -44.620001 \nL 314.71703 -45.265479 \nL 313.330499 -45.926121 \nL 311.943969 -46.604541 \nL 310.557439 -47.305163 \nL 309.170908 -48.033884 \nL 307.784378 -48.797535 \nL 306.397848 -49.603157 \nL 305.011317 -50.457171 \nL 303.624787 -51.364514 \nL 302.238257 -52.327849 \nL 300.851726 -53.346917 \nL 299.465196 -54.418131 \nL 298.078666 -55.534451 \nL 296.692135 -56.68556 \nL 295.305605 -57.858352 \nL 293.919075 -59.037668 \nL 292.532544 -60.207229 \nL 291.146014 -61.350681 \nL 289.759484 -62.45265 \nL 288.372953 -63.499732 \nL 286.986423 -64.481329 \nL 285.599893 -65.390285 \nL 284.213362 -66.223275 \nL 282.826832 -66.980961 \nL 281.440302 -67.667912 \nL 280.053771 -68.292341 \nL 278.667241 -68.865696 \nL 277.280711 -69.402165 \nL 275.89418 -69.918132 \nL 274.50765 -70.431623 \nL 273.12112 -70.961756 \nL 271.734589 -71.528201 \nL 270.348059 -72.15064 \nL 268.961529 -72.848207 \nL 267.574998 -73.63891 \nL 266.188468 -74.539021 \nL 264.801938 -75.562448 \nL 263.415407 -76.720146 \nL 262.028877 -78.01958 \nL 260.642347 -79.46433 \nL 259.255816 -81.053884 \nL 257.869286 -82.783663 \nL 256.482756 -84.645318 \nL 255.096225 -86.627287 \nL 253.709695 -88.715586 \nL 252.323165 -90.894768 \nL 250.936634 -93.148956 \nL 249.550104 -95.462857 \nL 248.163574 -97.822643 \nL 246.777043 -100.216602 \nL 245.390513 -102.635496 \nL 244.003983 -105.072596 \nL 242.617452 -107.523375 \nL 241.230922 -109.984946 \nL 239.844392 -112.455297 \nL 238.457861 -114.932464 \nL 237.071331 -117.413763 \nL 235.684801 -119.895208 \nL 234.29827 -122.371229 \nL 232.91174 -124.834767 \nL 231.52521 -127.277751 \nL 230.138679 -129.691953 \nL 228.752149 -132.070118 \nL 227.365619 -134.407263 \nL 225.979088 -136.70198 \nL 224.592558 -138.9576 \nL 223.206028 -141.183058 \nL 221.819497 -143.393353 \nL 220.432967 -145.609519 \nL 219.046437 -147.858082 \nL 217.659906 -150.170014 \nL 216.273376 -152.579252 \nL 214.886846 -155.12086 \nL 213.500315 -157.828963 \nL 212.113785 -160.734566 \nL 210.727255 -163.863413 \nL 209.340724 -167.234 \nL 207.954194 -170.855898 \nL 206.567664 -174.728494 \nL 205.181133 -178.840261 \nL 203.794603 -183.168639 \nL 202.408073 -187.680553 \nL 201.021542 -192.333574 \nL 199.635012 -197.077647 \nL 198.248482 -201.857264 \nL 196.861951 -206.613907 \nL 195.475421 -211.288548 \nL 194.088891 -215.823972 \nL 192.70236 -220.166712 \nL 191.31583 -224.268402 \nL 189.9293 -228.086446 \nL 188.542769 -231.583942 \nL 187.156239 -234.728916 \nL 185.769709 -237.492997 \nL 184.383178 -239.849708 \nL 182.996648 -241.772629 \nL 181.610118 -243.233678 \nL 180.223587 -244.201755 \nL 178.837057 -244.641964 \nL 177.450527 -244.515571 \nL 176.063996 -243.780775 \nL 174.677466 -242.394324 \nL 173.290935 -240.313896 \nL 171.904405 -237.501109 \nL 170.517875 -233.924987 \nL 169.131344 -229.565591 \nL 167.744814 -224.417575 \nL 166.358284 -218.493322 \nL 164.971753 -211.825393 \nL 163.585223 -204.467999 \nL 162.198693 -196.497284 \nL 160.812162 -188.010285 \nL 159.425632 -179.122507 \nL 158.039102 -169.964215 \nL 156.652571 -160.675595 \nL 155.266041 -151.401102 \nL 153.879511 -142.283359 \nL 152.49298 -133.45706 \nL 151.10645 -125.0433 \nL 149.71992 -117.144779 \nL 148.333389 -109.842208 \nL 146.946859 -103.192164 \nL 145.560329 -97.226491 \nL 144.173798 -91.953218 \nL 142.787268 -87.358816 \nL 141.400738 -83.411502 \nL 140.014207 -80.06523 \nL 138.627677 -77.263964 \nL 137.241147 -74.945834 \nL 135.854616 -73.046846 \nL 134.468086 -71.503877 \nL 133.081556 -70.256814 \nL 131.695025 -69.249822 \nL 130.308495 -68.431797 \nL 128.921965 -67.75621 \nL 127.535434 -67.18054 \nL 126.148904 -66.665574 \nL 124.762374 -66.174805 \nL 123.375843 -65.674106 \nL 121.989313 -65.13181 \nL 120.602783 -64.519212 \nL 119.216252 -63.811434 \nL 117.829722 -62.988527 \nL 116.443192 -62.036618 \nL 115.056661 -60.948908 \nL 113.670131 -59.726339 \nL 112.283601 -58.377764 \nL 110.89707 -56.919568 \nL 109.51054 -55.37471 \nL 108.12401 -53.771261 \nL 106.737479 -52.140576 \nL 105.350949 -50.515264 \nL 103.964419 -48.927147 \nL 102.577888 -47.405404 \nL 101.191358 -45.975037 \nL 99.804828 -44.655781 \nL 98.418297 -43.461501 \nL 97.031767 -42.40007 \nL 95.645237 -41.473695 \nL 94.258706 -40.679577 \nL 92.872176 -40.010814 \nL 91.485646 -39.457434 \nL 90.099115 -39.007435 \nL 88.712585 -38.647773 \nL 87.326055 -38.365197 \nL 85.939524 -38.146934 \nL 84.552994 -37.981175 \nL 83.166464 -37.857389 \nL 81.779933 -37.766482 \nL 80.393403 -37.700824 \nL 79.006873 -37.654181 \nL 77.620342 -37.62159 \nz\n\" id=\"mb69cb311f8\" style=\"stroke:#ff0000;\"/>\n    </defs>\n    <g clip-path=\"url(#p13b2899709)\">\n     <use style=\"fill:#ff0000;fill-opacity:0.25;stroke:#ff0000;\" x=\"0\" xlink:href=\"#mb69cb311f8\" y=\"262.19625\"/>\n    </g>\n   </g>\n   <g id=\"PolyCollection_2\">\n    <defs>\n     <path d=\"M 71.724432 -37.741127 \nL 71.724432 -37.55625 \nL 73.253897 -37.55625 \nL 74.783363 -37.55625 \nL 76.312828 -37.55625 \nL 77.842294 -37.55625 \nL 79.371759 -37.55625 \nL 80.901225 -37.55625 \nL 82.43069 -37.55625 \nL 83.960156 -37.55625 \nL 85.489621 -37.55625 \nL 87.019087 -37.55625 \nL 88.548552 -37.55625 \nL 90.078018 -37.55625 \nL 91.607483 -37.55625 \nL 93.136949 -37.55625 \nL 94.666414 -37.55625 \nL 96.19588 -37.55625 \nL 97.725345 -37.55625 \nL 99.254811 -37.55625 \nL 100.784276 -37.55625 \nL 102.313742 -37.55625 \nL 103.843208 -37.55625 \nL 105.372673 -37.55625 \nL 106.902139 -37.55625 \nL 108.431604 -37.55625 \nL 109.96107 -37.55625 \nL 111.490535 -37.55625 \nL 113.020001 -37.55625 \nL 114.549466 -37.55625 \nL 116.078932 -37.55625 \nL 117.608397 -37.55625 \nL 119.137863 -37.55625 \nL 120.667328 -37.55625 \nL 122.196794 -37.55625 \nL 123.726259 -37.55625 \nL 125.255725 -37.55625 \nL 126.78519 -37.55625 \nL 128.314656 -37.55625 \nL 129.844121 -37.55625 \nL 131.373587 -37.55625 \nL 132.903052 -37.55625 \nL 134.432518 -37.55625 \nL 135.961983 -37.55625 \nL 137.491449 -37.55625 \nL 139.020914 -37.55625 \nL 140.55038 -37.55625 \nL 142.079845 -37.55625 \nL 143.609311 -37.55625 \nL 145.138776 -37.55625 \nL 146.668242 -37.55625 \nL 148.197707 -37.55625 \nL 149.727173 -37.55625 \nL 151.256638 -37.55625 \nL 152.786104 -37.55625 \nL 154.315569 -37.55625 \nL 155.845035 -37.55625 \nL 157.3745 -37.55625 \nL 158.903966 -37.55625 \nL 160.433431 -37.55625 \nL 161.962897 -37.55625 \nL 163.492362 -37.55625 \nL 165.021828 -37.55625 \nL 166.551293 -37.55625 \nL 168.080759 -37.55625 \nL 169.610224 -37.55625 \nL 171.13969 -37.55625 \nL 172.669155 -37.55625 \nL 174.198621 -37.55625 \nL 175.728086 -37.55625 \nL 177.257552 -37.55625 \nL 178.787017 -37.55625 \nL 180.316483 -37.55625 \nL 181.845948 -37.55625 \nL 183.375414 -37.55625 \nL 184.90488 -37.55625 \nL 186.434345 -37.55625 \nL 187.963811 -37.55625 \nL 189.493276 -37.55625 \nL 191.022742 -37.55625 \nL 192.552207 -37.55625 \nL 194.081673 -37.55625 \nL 195.611138 -37.55625 \nL 197.140604 -37.55625 \nL 198.670069 -37.55625 \nL 200.199535 -37.55625 \nL 201.729 -37.55625 \nL 203.258466 -37.55625 \nL 204.787931 -37.55625 \nL 206.317397 -37.55625 \nL 207.846862 -37.55625 \nL 209.376328 -37.55625 \nL 210.905793 -37.55625 \nL 212.435259 -37.55625 \nL 213.964724 -37.55625 \nL 215.49419 -37.55625 \nL 217.023655 -37.55625 \nL 218.553121 -37.55625 \nL 220.082586 -37.55625 \nL 221.612052 -37.55625 \nL 223.141517 -37.55625 \nL 224.670983 -37.55625 \nL 226.200448 -37.55625 \nL 227.729914 -37.55625 \nL 229.259379 -37.55625 \nL 230.788845 -37.55625 \nL 232.31831 -37.55625 \nL 233.847776 -37.55625 \nL 235.377241 -37.55625 \nL 236.906707 -37.55625 \nL 238.436172 -37.55625 \nL 239.965638 -37.55625 \nL 241.495103 -37.55625 \nL 243.024569 -37.55625 \nL 244.554034 -37.55625 \nL 246.0835 -37.55625 \nL 247.612965 -37.55625 \nL 249.142431 -37.55625 \nL 250.671896 -37.55625 \nL 252.201362 -37.55625 \nL 253.730827 -37.55625 \nL 255.260293 -37.55625 \nL 256.789758 -37.55625 \nL 258.319224 -37.55625 \nL 259.848689 -37.55625 \nL 261.378155 -37.55625 \nL 262.90762 -37.55625 \nL 264.437086 -37.55625 \nL 265.966552 -37.55625 \nL 267.496017 -37.55625 \nL 269.025483 -37.55625 \nL 270.554948 -37.55625 \nL 272.084414 -37.55625 \nL 273.613879 -37.55625 \nL 275.143345 -37.55625 \nL 276.67281 -37.55625 \nL 278.202276 -37.55625 \nL 279.731741 -37.55625 \nL 281.261207 -37.55625 \nL 282.790672 -37.55625 \nL 284.320138 -37.55625 \nL 285.849603 -37.55625 \nL 287.379069 -37.55625 \nL 288.908534 -37.55625 \nL 290.438 -37.55625 \nL 291.967465 -37.55625 \nL 293.496931 -37.55625 \nL 295.026396 -37.55625 \nL 296.555862 -37.55625 \nL 298.085327 -37.55625 \nL 299.614793 -37.55625 \nL 301.144258 -37.55625 \nL 302.673724 -37.55625 \nL 304.203189 -37.55625 \nL 305.732655 -37.55625 \nL 307.26212 -37.55625 \nL 308.791586 -37.55625 \nL 310.321051 -37.55625 \nL 311.850517 -37.55625 \nL 313.379982 -37.55625 \nL 314.909448 -37.55625 \nL 316.438913 -37.55625 \nL 317.968379 -37.55625 \nL 319.497844 -37.55625 \nL 321.02731 -37.55625 \nL 322.556775 -37.55625 \nL 324.086241 -37.55625 \nL 325.615706 -37.55625 \nL 327.145172 -37.55625 \nL 328.674637 -37.55625 \nL 330.204103 -37.55625 \nL 331.733568 -37.55625 \nL 333.263034 -37.55625 \nL 334.792499 -37.55625 \nL 336.321965 -37.55625 \nL 337.85143 -37.55625 \nL 339.380896 -37.55625 \nL 340.910361 -37.55625 \nL 342.439827 -37.55625 \nL 343.969292 -37.55625 \nL 345.498758 -37.55625 \nL 347.028224 -37.55625 \nL 348.557689 -37.55625 \nL 350.087155 -37.55625 \nL 351.61662 -37.55625 \nL 353.146086 -37.55625 \nL 354.675551 -37.55625 \nL 356.205017 -37.55625 \nL 357.734482 -37.55625 \nL 359.263948 -37.55625 \nL 360.793413 -37.55625 \nL 362.322879 -37.55625 \nL 363.852344 -37.55625 \nL 365.38181 -37.55625 \nL 366.911275 -37.55625 \nL 368.440741 -37.55625 \nL 369.970206 -37.55625 \nL 371.499672 -37.55625 \nL 373.029137 -37.55625 \nL 374.558603 -37.55625 \nL 376.088068 -37.55625 \nL 376.088068 -37.570953 \nL 376.088068 -37.570953 \nL 374.558603 -37.577252 \nL 373.029137 -37.58584 \nL 371.499672 -37.597372 \nL 369.970206 -37.612622 \nL 368.440741 -37.632484 \nL 366.911275 -37.657959 \nL 365.38181 -37.690133 \nL 363.852344 -37.730142 \nL 362.322879 -37.779125 \nL 360.793413 -37.838157 \nL 359.263948 -37.908181 \nL 357.734482 -37.989917 \nL 356.205017 -38.083784 \nL 354.675551 -38.189808 \nL 353.146086 -38.30755 \nL 351.61662 -38.436047 \nL 350.087155 -38.573779 \nL 348.557689 -38.718662 \nL 347.028224 -38.868079 \nL 345.498758 -39.018948 \nL 343.969292 -39.167828 \nL 342.439827 -39.311051 \nL 340.910361 -39.444895 \nL 339.380896 -39.565769 \nL 337.85143 -39.670411 \nL 336.321965 -39.756094 \nL 334.792499 -39.820825 \nL 333.263034 -39.863526 \nL 331.733568 -39.884196 \nL 330.204103 -39.88404 \nL 328.674637 -39.865573 \nL 327.145172 -39.832672 \nL 325.615706 -39.790601 \nL 324.086241 -39.745979 \nL 322.556775 -39.706713 \nL 321.02731 -39.681874 \nL 319.497844 -39.681531 \nL 317.968379 -39.71653 \nL 316.438913 -39.798225 \nL 314.909448 -39.93816 \nL 313.379982 -40.147716 \nL 311.850517 -40.437717 \nL 310.321051 -40.818027 \nL 308.791586 -41.297139 \nL 307.26212 -41.881792 \nL 305.732655 -42.576639 \nL 304.203189 -43.383988 \nL 302.673724 -44.303656 \nL 301.144258 -45.332936 \nL 299.614793 -46.466723 \nL 298.085327 -47.697774 \nL 296.555862 -49.017116 \nL 295.026396 -50.414572 \nL 293.496931 -51.879372 \nL 291.967465 -53.400808 \nL 290.438 -54.968886 \nL 288.908534 -56.574911 \nL 287.379069 -58.211966 \nL 285.849603 -59.875241 \nL 284.320138 -61.562174 \nL 282.790672 -63.272408 \nL 281.261207 -65.007546 \nL 279.731741 -66.770746 \nL 278.202276 -68.566177 \nL 276.67281 -70.39838 \nL 275.143345 -72.271598 \nL 273.613879 -74.189109 \nL 272.084414 -76.152625 \nL 270.554948 -78.161782 \nL 269.025483 -80.213763 \nL 267.496017 -82.303057 \nL 265.966552 -84.421385 \nL 264.437086 -86.557778 \nL 262.90762 -88.698803 \nL 261.378155 -90.828947 \nL 259.848689 -92.931133 \nL 258.319224 -94.987369 \nL 256.789758 -96.979514 \nL 255.260293 -98.890143 \nL 253.730827 -100.703487 \nL 252.201362 -102.40643 \nL 250.671896 -103.989492 \nL 249.142431 -105.44778 \nL 247.612965 -106.78182 \nL 246.0835 -107.998221 \nL 244.554034 -109.110098 \nL 243.024569 -110.137203 \nL 241.495103 -111.105707 \nL 239.965638 -112.047618 \nL 238.436172 -112.999824 \nL 236.906707 -114.002778 \nL 235.377241 -115.098889 \nL 233.847776 -116.330694 \nL 232.31831 -117.738892 \nL 230.788845 -119.360388 \nL 229.259379 -121.226442 \nL 227.729914 -123.361065 \nL 226.200448 -125.779747 \nL 224.670983 -128.488633 \nL 223.141517 -131.484175 \nL 221.612052 -134.753302 \nL 220.082586 -138.27407 \nL 218.553121 -142.016772 \nL 217.023655 -145.945391 \nL 215.49419 -150.019319 \nL 213.964724 -154.195217 \nL 212.435259 -158.428885 \nL 210.905793 -162.677048 \nL 209.376328 -166.898934 \nL 207.846862 -171.057573 \nL 206.317397 -175.120742 \nL 204.787931 -179.06153 \nL 203.258466 -182.858475 \nL 201.729 -186.495295 \nL 200.199535 -189.960227 \nL 198.670069 -193.245005 \nL 197.140604 -196.343553 \nL 195.611138 -199.25048 \nL 194.081673 -201.959474 \nL 192.552207 -204.461735 \nL 191.022742 -206.744569 \nL 189.493276 -208.7903 \nL 187.963811 -210.575604 \nL 186.434345 -212.071374 \nL 184.90488 -213.243173 \nL 183.375414 -214.052268 \nL 181.845948 -214.457215 \nL 180.316483 -214.415876 \nL 178.787017 -213.887728 \nL 177.257552 -212.836294 \nL 175.728086 -211.231514 \nL 174.198621 -209.051874 \nL 172.669155 -206.286167 \nL 171.13969 -202.934772 \nL 169.610224 -199.01041 \nL 168.080759 -194.538362 \nL 166.551293 -189.5562 \nL 165.021828 -184.113078 \nL 163.492362 -178.268674 \nL 161.962897 -172.091858 \nL 160.433431 -165.659153 \nL 158.903966 -159.05305 \nL 157.3745 -152.360209 \nL 155.845035 -145.669573 \nL 154.315569 -139.070403 \nL 152.786104 -132.650268 \nL 151.256638 -126.492994 \nL 149.727173 -120.676619 \nL 148.197707 -115.271389 \nL 146.668242 -110.337868 \nL 145.138776 -105.925214 \nL 143.609311 -102.06969 \nL 142.079845 -98.793479 \nL 140.55038 -96.103856 \nL 139.020914 -93.992745 \nL 137.491449 -92.436717 \nL 135.961983 -91.397422 \nL 134.432518 -90.822482 \nL 132.903052 -90.64683 \nL 131.373587 -90.794498 \nL 129.844121 -91.180832 \nL 128.314656 -91.715102 \nL 126.78519 -92.303464 \nL 125.255725 -92.852193 \nL 123.726259 -93.271096 \nL 122.196794 -93.476963 \nL 120.667328 -93.3969 \nL 119.137863 -92.971358 \nL 117.608397 -92.156665 \nL 116.078932 -90.926875 \nL 114.549466 -89.274779 \nL 113.020001 -87.211965 \nL 111.490535 -84.76789 \nL 109.96107 -81.987979 \nL 108.431604 -78.930883 \nL 106.902139 -75.665054 \nL 105.372673 -72.264894 \nL 103.843208 -68.806745 \nL 102.313742 -65.364995 \nL 100.784276 -62.008577 \nL 99.254811 -58.798066 \nL 97.725345 -55.783541 \nL 96.19588 -53.003284 \nL 94.666414 -50.483321 \nL 93.136949 -48.237753 \nL 91.607483 -46.269731 \nL 90.078018 -44.572943 \nL 88.548552 -43.133407 \nL 87.019087 -41.931416 \nL 85.489621 -40.943462 \nL 83.960156 -40.144011 \nL 82.43069 -39.507038 \nL 80.901225 -39.007268 \nL 79.371759 -38.621098 \nL 77.842294 -38.327208 \nL 76.312828 -38.106906 \nL 74.783363 -37.944238 \nL 73.253897 -37.825915 \nL 71.724432 -37.741127 \nz\n\" id=\"mbfba91f95e\" style=\"stroke:#ffff00;\"/>\n    </defs>\n    <g clip-path=\"url(#p13b2899709)\">\n     <use style=\"fill:#ffff00;fill-opacity:0.25;stroke:#ffff00;\" x=\"0\" xlink:href=\"#mbfba91f95e\" y=\"262.19625\"/>\n    </g>\n   </g>\n   <g id=\"matplotlib.axis_1\">\n    <g id=\"xtick_1\">\n     <g id=\"line2d_1\">\n      <defs>\n       <path d=\"M 0 0 \nL 0 3.5 \n\" id=\"m81fc39466d\" style=\"stroke:#000000;stroke-width:0.8;\"/>\n      </defs>\n      <g>\n       <use style=\"stroke:#000000;stroke-width:0.8;\" x=\"109.607177\" xlink:href=\"#m81fc39466d\" y=\"224.64\"/>\n      </g>\n     </g>\n     <g id=\"text_1\">\n      <!-- 0 -->\n      <g transform=\"translate(106.425927 239.238437)scale(0.1 -0.1)\">\n       <defs>\n        <path d=\"M 31.78125 66.40625 \nQ 24.171875 66.40625 20.328125 58.90625 \nQ 16.5 51.421875 16.5 36.375 \nQ 16.5 21.390625 20.328125 13.890625 \nQ 24.171875 6.390625 31.78125 6.390625 \nQ 39.453125 6.390625 43.28125 13.890625 \nQ 47.125 21.390625 47.125 36.375 \nQ 47.125 51.421875 43.28125 58.90625 \nQ 39.453125 66.40625 31.78125 66.40625 \nz\nM 31.78125 74.21875 \nQ 44.046875 74.21875 50.515625 64.515625 \nQ 56.984375 54.828125 56.984375 36.375 \nQ 56.984375 17.96875 50.515625 8.265625 \nQ 44.046875 -1.421875 31.78125 -1.421875 \nQ 19.53125 -1.421875 13.0625 8.265625 \nQ 6.59375 17.96875 6.59375 36.375 \nQ 6.59375 54.828125 13.0625 64.515625 \nQ 19.53125 74.21875 31.78125 74.21875 \nz\n\" id=\"DejaVuSans-48\"/>\n       </defs>\n       <use xlink:href=\"#DejaVuSans-48\"/>\n      </g>\n     </g>\n    </g>\n    <g id=\"xtick_2\">\n     <g id=\"line2d_2\">\n      <g>\n       <use style=\"stroke:#000000;stroke-width:0.8;\" x=\"166.635528\" xlink:href=\"#m81fc39466d\" y=\"224.64\"/>\n      </g>\n     </g>\n     <g id=\"text_2\">\n      <!-- 20 -->\n      <g transform=\"translate(160.273028 239.238437)scale(0.1 -0.1)\">\n       <defs>\n        <path d=\"M 19.1875 8.296875 \nL 53.609375 8.296875 \nL 53.609375 0 \nL 7.328125 0 \nL 7.328125 8.296875 \nQ 12.9375 14.109375 22.625 23.890625 \nQ 32.328125 33.6875 34.8125 36.53125 \nQ 39.546875 41.84375 41.421875 45.53125 \nQ 43.3125 49.21875 43.3125 52.78125 \nQ 43.3125 58.59375 39.234375 62.25 \nQ 35.15625 65.921875 28.609375 65.921875 \nQ 23.96875 65.921875 18.8125 64.3125 \nQ 13.671875 62.703125 7.8125 59.421875 \nL 7.8125 69.390625 \nQ 13.765625 71.78125 18.9375 73 \nQ 24.125 74.21875 28.421875 74.21875 \nQ 39.75 74.21875 46.484375 68.546875 \nQ 53.21875 62.890625 53.21875 53.421875 \nQ 53.21875 48.921875 51.53125 44.890625 \nQ 49.859375 40.875 45.40625 35.40625 \nQ 44.1875 33.984375 37.640625 27.21875 \nQ 31.109375 20.453125 19.1875 8.296875 \nz\n\" id=\"DejaVuSans-50\"/>\n       </defs>\n       <use xlink:href=\"#DejaVuSans-50\"/>\n       <use x=\"63.623047\" xlink:href=\"#DejaVuSans-48\"/>\n      </g>\n     </g>\n    </g>\n    <g id=\"xtick_3\">\n     <g id=\"line2d_3\">\n      <g>\n       <use style=\"stroke:#000000;stroke-width:0.8;\" x=\"223.66388\" xlink:href=\"#m81fc39466d\" y=\"224.64\"/>\n      </g>\n     </g>\n     <g id=\"text_3\">\n      <!-- 40 -->\n      <g transform=\"translate(217.30138 239.238437)scale(0.1 -0.1)\">\n       <defs>\n        <path d=\"M 37.796875 64.3125 \nL 12.890625 25.390625 \nL 37.796875 25.390625 \nz\nM 35.203125 72.90625 \nL 47.609375 72.90625 \nL 47.609375 25.390625 \nL 58.015625 25.390625 \nL 58.015625 17.1875 \nL 47.609375 17.1875 \nL 47.609375 0 \nL 37.796875 0 \nL 37.796875 17.1875 \nL 4.890625 17.1875 \nL 4.890625 26.703125 \nz\n\" id=\"DejaVuSans-52\"/>\n       </defs>\n       <use xlink:href=\"#DejaVuSans-52\"/>\n       <use x=\"63.623047\" xlink:href=\"#DejaVuSans-48\"/>\n      </g>\n     </g>\n    </g>\n    <g id=\"xtick_4\">\n     <g id=\"line2d_4\">\n      <g>\n       <use style=\"stroke:#000000;stroke-width:0.8;\" x=\"280.692231\" xlink:href=\"#m81fc39466d\" y=\"224.64\"/>\n      </g>\n     </g>\n     <g id=\"text_4\">\n      <!-- 60 -->\n      <g transform=\"translate(274.329731 239.238437)scale(0.1 -0.1)\">\n       <defs>\n        <path d=\"M 33.015625 40.375 \nQ 26.375 40.375 22.484375 35.828125 \nQ 18.609375 31.296875 18.609375 23.390625 \nQ 18.609375 15.53125 22.484375 10.953125 \nQ 26.375 6.390625 33.015625 6.390625 \nQ 39.65625 6.390625 43.53125 10.953125 \nQ 47.40625 15.53125 47.40625 23.390625 \nQ 47.40625 31.296875 43.53125 35.828125 \nQ 39.65625 40.375 33.015625 40.375 \nz\nM 52.59375 71.296875 \nL 52.59375 62.3125 \nQ 48.875 64.0625 45.09375 64.984375 \nQ 41.3125 65.921875 37.59375 65.921875 \nQ 27.828125 65.921875 22.671875 59.328125 \nQ 17.53125 52.734375 16.796875 39.40625 \nQ 19.671875 43.65625 24.015625 45.921875 \nQ 28.375 48.1875 33.59375 48.1875 \nQ 44.578125 48.1875 50.953125 41.515625 \nQ 57.328125 34.859375 57.328125 23.390625 \nQ 57.328125 12.15625 50.6875 5.359375 \nQ 44.046875 -1.421875 33.015625 -1.421875 \nQ 20.359375 -1.421875 13.671875 8.265625 \nQ 6.984375 17.96875 6.984375 36.375 \nQ 6.984375 53.65625 15.1875 63.9375 \nQ 23.390625 74.21875 37.203125 74.21875 \nQ 40.921875 74.21875 44.703125 73.484375 \nQ 48.484375 72.75 52.59375 71.296875 \nz\n\" id=\"DejaVuSans-54\"/>\n       </defs>\n       <use xlink:href=\"#DejaVuSans-54\"/>\n       <use x=\"63.623047\" xlink:href=\"#DejaVuSans-48\"/>\n      </g>\n     </g>\n    </g>\n    <g id=\"xtick_5\">\n     <g id=\"line2d_5\">\n      <g>\n       <use style=\"stroke:#000000;stroke-width:0.8;\" x=\"337.720582\" xlink:href=\"#m81fc39466d\" y=\"224.64\"/>\n      </g>\n     </g>\n     <g id=\"text_5\">\n      <!-- 80 -->\n      <g transform=\"translate(331.358082 239.238437)scale(0.1 -0.1)\">\n       <defs>\n        <path d=\"M 31.78125 34.625 \nQ 24.75 34.625 20.71875 30.859375 \nQ 16.703125 27.09375 16.703125 20.515625 \nQ 16.703125 13.921875 20.71875 10.15625 \nQ 24.75 6.390625 31.78125 6.390625 \nQ 38.8125 6.390625 42.859375 10.171875 \nQ 46.921875 13.96875 46.921875 20.515625 \nQ 46.921875 27.09375 42.890625 30.859375 \nQ 38.875 34.625 31.78125 34.625 \nz\nM 21.921875 38.8125 \nQ 15.578125 40.375 12.03125 44.71875 \nQ 8.5 49.078125 8.5 55.328125 \nQ 8.5 64.0625 14.71875 69.140625 \nQ 20.953125 74.21875 31.78125 74.21875 \nQ 42.671875 74.21875 48.875 69.140625 \nQ 55.078125 64.0625 55.078125 55.328125 \nQ 55.078125 49.078125 51.53125 44.71875 \nQ 48 40.375 41.703125 38.8125 \nQ 48.828125 37.15625 52.796875 32.3125 \nQ 56.78125 27.484375 56.78125 20.515625 \nQ 56.78125 9.90625 50.3125 4.234375 \nQ 43.84375 -1.421875 31.78125 -1.421875 \nQ 19.734375 -1.421875 13.25 4.234375 \nQ 6.78125 9.90625 6.78125 20.515625 \nQ 6.78125 27.484375 10.78125 32.3125 \nQ 14.796875 37.15625 21.921875 38.8125 \nz\nM 18.3125 54.390625 \nQ 18.3125 48.734375 21.84375 45.5625 \nQ 25.390625 42.390625 31.78125 42.390625 \nQ 38.140625 42.390625 41.71875 45.5625 \nQ 45.3125 48.734375 45.3125 54.390625 \nQ 45.3125 60.0625 41.71875 63.234375 \nQ 38.140625 66.40625 31.78125 66.40625 \nQ 25.390625 66.40625 21.84375 63.234375 \nQ 18.3125 60.0625 18.3125 54.390625 \nz\n\" id=\"DejaVuSans-56\"/>\n       </defs>\n       <use xlink:href=\"#DejaVuSans-56\"/>\n       <use x=\"63.623047\" xlink:href=\"#DejaVuSans-48\"/>\n      </g>\n     </g>\n    </g>\n    <g id=\"text_6\">\n     <!-- age -->\n     <g transform=\"translate(214.591406 252.916562)scale(0.1 -0.1)\">\n      <defs>\n       <path d=\"M 34.28125 27.484375 \nQ 23.390625 27.484375 19.1875 25 \nQ 14.984375 22.515625 14.984375 16.5 \nQ 14.984375 11.71875 18.140625 8.90625 \nQ 21.296875 6.109375 26.703125 6.109375 \nQ 34.1875 6.109375 38.703125 11.40625 \nQ 43.21875 16.703125 43.21875 25.484375 \nL 43.21875 27.484375 \nz\nM 52.203125 31.203125 \nL 52.203125 0 \nL 43.21875 0 \nL 43.21875 8.296875 \nQ 40.140625 3.328125 35.546875 0.953125 \nQ 30.953125 -1.421875 24.3125 -1.421875 \nQ 15.921875 -1.421875 10.953125 3.296875 \nQ 6 8.015625 6 15.921875 \nQ 6 25.140625 12.171875 29.828125 \nQ 18.359375 34.515625 30.609375 34.515625 \nL 43.21875 34.515625 \nL 43.21875 35.40625 \nQ 43.21875 41.609375 39.140625 45 \nQ 35.0625 48.390625 27.6875 48.390625 \nQ 23 48.390625 18.546875 47.265625 \nQ 14.109375 46.140625 10.015625 43.890625 \nL 10.015625 52.203125 \nQ 14.9375 54.109375 19.578125 55.046875 \nQ 24.21875 56 28.609375 56 \nQ 40.484375 56 46.34375 49.84375 \nQ 52.203125 43.703125 52.203125 31.203125 \nz\n\" id=\"DejaVuSans-97\"/>\n       <path d=\"M 45.40625 27.984375 \nQ 45.40625 37.75 41.375 43.109375 \nQ 37.359375 48.484375 30.078125 48.484375 \nQ 22.859375 48.484375 18.828125 43.109375 \nQ 14.796875 37.75 14.796875 27.984375 \nQ 14.796875 18.265625 18.828125 12.890625 \nQ 22.859375 7.515625 30.078125 7.515625 \nQ 37.359375 7.515625 41.375 12.890625 \nQ 45.40625 18.265625 45.40625 27.984375 \nz\nM 54.390625 6.78125 \nQ 54.390625 -7.171875 48.1875 -13.984375 \nQ 42 -20.796875 29.203125 -20.796875 \nQ 24.46875 -20.796875 20.265625 -20.09375 \nQ 16.0625 -19.390625 12.109375 -17.921875 \nL 12.109375 -9.1875 \nQ 16.0625 -11.328125 19.921875 -12.34375 \nQ 23.78125 -13.375 27.78125 -13.375 \nQ 36.625 -13.375 41.015625 -8.765625 \nQ 45.40625 -4.15625 45.40625 5.171875 \nL 45.40625 9.625 \nQ 42.625 4.78125 38.28125 2.390625 \nQ 33.9375 0 27.875 0 \nQ 17.828125 0 11.671875 7.65625 \nQ 5.515625 15.328125 5.515625 27.984375 \nQ 5.515625 40.671875 11.671875 48.328125 \nQ 17.828125 56 27.875 56 \nQ 33.9375 56 38.28125 53.609375 \nQ 42.625 51.21875 45.40625 46.390625 \nL 45.40625 54.6875 \nL 54.390625 54.6875 \nz\n\" id=\"DejaVuSans-103\"/>\n       <path d=\"M 56.203125 29.59375 \nL 56.203125 25.203125 \nL 14.890625 25.203125 \nQ 15.484375 15.921875 20.484375 11.0625 \nQ 25.484375 6.203125 34.421875 6.203125 \nQ 39.59375 6.203125 44.453125 7.46875 \nQ 49.3125 8.734375 54.109375 11.28125 \nL 54.109375 2.78125 \nQ 49.265625 0.734375 44.1875 -0.34375 \nQ 39.109375 -1.421875 33.890625 -1.421875 \nQ 20.796875 -1.421875 13.15625 6.1875 \nQ 5.515625 13.8125 5.515625 26.8125 \nQ 5.515625 40.234375 12.765625 48.109375 \nQ 20.015625 56 32.328125 56 \nQ 43.359375 56 49.78125 48.890625 \nQ 56.203125 41.796875 56.203125 29.59375 \nz\nM 47.21875 32.234375 \nQ 47.125 39.59375 43.09375 43.984375 \nQ 39.0625 48.390625 32.421875 48.390625 \nQ 24.90625 48.390625 20.390625 44.140625 \nQ 15.875 39.890625 15.1875 32.171875 \nz\n\" id=\"DejaVuSans-101\"/>\n      </defs>\n      <use xlink:href=\"#DejaVuSans-97\"/>\n      <use x=\"61.279297\" xlink:href=\"#DejaVuSans-103\"/>\n      <use x=\"124.755859\" xlink:href=\"#DejaVuSans-101\"/>\n     </g>\n    </g>\n   </g>\n   <g id=\"matplotlib.axis_2\">\n    <g id=\"ytick_1\">\n     <g id=\"line2d_6\">\n      <defs>\n       <path d=\"M 0 0 \nL -3.5 0 \n\" id=\"mb70b40b085\" style=\"stroke:#000000;stroke-width:0.8;\"/>\n      </defs>\n      <g>\n       <use style=\"stroke:#000000;stroke-width:0.8;\" x=\"56.50625\" xlink:href=\"#mb70b40b085\" y=\"224.64\"/>\n      </g>\n     </g>\n     <g id=\"text_7\">\n      <!-- 0.000 -->\n      <g transform=\"translate(20.878125 228.439219)scale(0.1 -0.1)\">\n       <defs>\n        <path d=\"M 10.6875 12.40625 \nL 21 12.40625 \nL 21 0 \nL 10.6875 0 \nz\n\" id=\"DejaVuSans-46\"/>\n       </defs>\n       <use xlink:href=\"#DejaVuSans-48\"/>\n       <use x=\"63.623047\" xlink:href=\"#DejaVuSans-46\"/>\n       <use x=\"95.410156\" xlink:href=\"#DejaVuSans-48\"/>\n       <use x=\"159.033203\" xlink:href=\"#DejaVuSans-48\"/>\n       <use x=\"222.65625\" xlink:href=\"#DejaVuSans-48\"/>\n      </g>\n     </g>\n    </g>\n    <g id=\"ytick_2\">\n     <g id=\"line2d_7\">\n      <g>\n       <use style=\"stroke:#000000;stroke-width:0.8;\" x=\"56.50625\" xlink:href=\"#mb70b40b085\" y=\"194.276686\"/>\n      </g>\n     </g>\n     <g id=\"text_8\">\n      <!-- 0.005 -->\n      <g transform=\"translate(20.878125 198.075904)scale(0.1 -0.1)\">\n       <defs>\n        <path d=\"M 10.796875 72.90625 \nL 49.515625 72.90625 \nL 49.515625 64.59375 \nL 19.828125 64.59375 \nL 19.828125 46.734375 \nQ 21.96875 47.46875 24.109375 47.828125 \nQ 26.265625 48.1875 28.421875 48.1875 \nQ 40.625 48.1875 47.75 41.5 \nQ 54.890625 34.8125 54.890625 23.390625 \nQ 54.890625 11.625 47.5625 5.09375 \nQ 40.234375 -1.421875 26.90625 -1.421875 \nQ 22.3125 -1.421875 17.546875 -0.640625 \nQ 12.796875 0.140625 7.71875 1.703125 \nL 7.71875 11.625 \nQ 12.109375 9.234375 16.796875 8.0625 \nQ 21.484375 6.890625 26.703125 6.890625 \nQ 35.15625 6.890625 40.078125 11.328125 \nQ 45.015625 15.765625 45.015625 23.390625 \nQ 45.015625 31 40.078125 35.4375 \nQ 35.15625 39.890625 26.703125 39.890625 \nQ 22.75 39.890625 18.8125 39.015625 \nQ 14.890625 38.140625 10.796875 36.28125 \nz\n\" id=\"DejaVuSans-53\"/>\n       </defs>\n       <use xlink:href=\"#DejaVuSans-48\"/>\n       <use x=\"63.623047\" xlink:href=\"#DejaVuSans-46\"/>\n       <use x=\"95.410156\" xlink:href=\"#DejaVuSans-48\"/>\n       <use x=\"159.033203\" xlink:href=\"#DejaVuSans-48\"/>\n       <use x=\"222.65625\" xlink:href=\"#DejaVuSans-53\"/>\n      </g>\n     </g>\n    </g>\n    <g id=\"ytick_3\">\n     <g id=\"line2d_8\">\n      <g>\n       <use style=\"stroke:#000000;stroke-width:0.8;\" x=\"56.50625\" xlink:href=\"#mb70b40b085\" y=\"163.913371\"/>\n      </g>\n     </g>\n     <g id=\"text_9\">\n      <!-- 0.010 -->\n      <g transform=\"translate(20.878125 167.71259)scale(0.1 -0.1)\">\n       <defs>\n        <path d=\"M 12.40625 8.296875 \nL 28.515625 8.296875 \nL 28.515625 63.921875 \nL 10.984375 60.40625 \nL 10.984375 69.390625 \nL 28.421875 72.90625 \nL 38.28125 72.90625 \nL 38.28125 8.296875 \nL 54.390625 8.296875 \nL 54.390625 0 \nL 12.40625 0 \nz\n\" id=\"DejaVuSans-49\"/>\n       </defs>\n       <use xlink:href=\"#DejaVuSans-48\"/>\n       <use x=\"63.623047\" xlink:href=\"#DejaVuSans-46\"/>\n       <use x=\"95.410156\" xlink:href=\"#DejaVuSans-48\"/>\n       <use x=\"159.033203\" xlink:href=\"#DejaVuSans-49\"/>\n       <use x=\"222.65625\" xlink:href=\"#DejaVuSans-48\"/>\n      </g>\n     </g>\n    </g>\n    <g id=\"ytick_4\">\n     <g id=\"line2d_9\">\n      <g>\n       <use style=\"stroke:#000000;stroke-width:0.8;\" x=\"56.50625\" xlink:href=\"#mb70b40b085\" y=\"133.550057\"/>\n      </g>\n     </g>\n     <g id=\"text_10\">\n      <!-- 0.015 -->\n      <g transform=\"translate(20.878125 137.349275)scale(0.1 -0.1)\">\n       <use xlink:href=\"#DejaVuSans-48\"/>\n       <use x=\"63.623047\" xlink:href=\"#DejaVuSans-46\"/>\n       <use x=\"95.410156\" xlink:href=\"#DejaVuSans-48\"/>\n       <use x=\"159.033203\" xlink:href=\"#DejaVuSans-49\"/>\n       <use x=\"222.65625\" xlink:href=\"#DejaVuSans-53\"/>\n      </g>\n     </g>\n    </g>\n    <g id=\"ytick_5\">\n     <g id=\"line2d_10\">\n      <g>\n       <use style=\"stroke:#000000;stroke-width:0.8;\" x=\"56.50625\" xlink:href=\"#mb70b40b085\" y=\"103.186742\"/>\n      </g>\n     </g>\n     <g id=\"text_11\">\n      <!-- 0.020 -->\n      <g transform=\"translate(20.878125 106.985961)scale(0.1 -0.1)\">\n       <use xlink:href=\"#DejaVuSans-48\"/>\n       <use x=\"63.623047\" xlink:href=\"#DejaVuSans-46\"/>\n       <use x=\"95.410156\" xlink:href=\"#DejaVuSans-48\"/>\n       <use x=\"159.033203\" xlink:href=\"#DejaVuSans-50\"/>\n       <use x=\"222.65625\" xlink:href=\"#DejaVuSans-48\"/>\n      </g>\n     </g>\n    </g>\n    <g id=\"ytick_6\">\n     <g id=\"line2d_11\">\n      <g>\n       <use style=\"stroke:#000000;stroke-width:0.8;\" x=\"56.50625\" xlink:href=\"#mb70b40b085\" y=\"72.823428\"/>\n      </g>\n     </g>\n     <g id=\"text_12\">\n      <!-- 0.025 -->\n      <g transform=\"translate(20.878125 76.622647)scale(0.1 -0.1)\">\n       <use xlink:href=\"#DejaVuSans-48\"/>\n       <use x=\"63.623047\" xlink:href=\"#DejaVuSans-46\"/>\n       <use x=\"95.410156\" xlink:href=\"#DejaVuSans-48\"/>\n       <use x=\"159.033203\" xlink:href=\"#DejaVuSans-50\"/>\n       <use x=\"222.65625\" xlink:href=\"#DejaVuSans-53\"/>\n      </g>\n     </g>\n    </g>\n    <g id=\"ytick_7\">\n     <g id=\"line2d_12\">\n      <g>\n       <use style=\"stroke:#000000;stroke-width:0.8;\" x=\"56.50625\" xlink:href=\"#mb70b40b085\" y=\"42.460113\"/>\n      </g>\n     </g>\n     <g id=\"text_13\">\n      <!-- 0.030 -->\n      <g transform=\"translate(20.878125 46.259332)scale(0.1 -0.1)\">\n       <defs>\n        <path d=\"M 40.578125 39.3125 \nQ 47.65625 37.796875 51.625 33 \nQ 55.609375 28.21875 55.609375 21.1875 \nQ 55.609375 10.40625 48.1875 4.484375 \nQ 40.765625 -1.421875 27.09375 -1.421875 \nQ 22.515625 -1.421875 17.65625 -0.515625 \nQ 12.796875 0.390625 7.625 2.203125 \nL 7.625 11.71875 \nQ 11.71875 9.328125 16.59375 8.109375 \nQ 21.484375 6.890625 26.8125 6.890625 \nQ 36.078125 6.890625 40.9375 10.546875 \nQ 45.796875 14.203125 45.796875 21.1875 \nQ 45.796875 27.640625 41.28125 31.265625 \nQ 36.765625 34.90625 28.71875 34.90625 \nL 20.21875 34.90625 \nL 20.21875 43.015625 \nL 29.109375 43.015625 \nQ 36.375 43.015625 40.234375 45.921875 \nQ 44.09375 48.828125 44.09375 54.296875 \nQ 44.09375 59.90625 40.109375 62.90625 \nQ 36.140625 65.921875 28.71875 65.921875 \nQ 24.65625 65.921875 20.015625 65.03125 \nQ 15.375 64.15625 9.8125 62.3125 \nL 9.8125 71.09375 \nQ 15.4375 72.65625 20.34375 73.4375 \nQ 25.25 74.21875 29.59375 74.21875 \nQ 40.828125 74.21875 47.359375 69.109375 \nQ 53.90625 64.015625 53.90625 55.328125 \nQ 53.90625 49.265625 50.4375 45.09375 \nQ 46.96875 40.921875 40.578125 39.3125 \nz\n\" id=\"DejaVuSans-51\"/>\n       </defs>\n       <use xlink:href=\"#DejaVuSans-48\"/>\n       <use x=\"63.623047\" xlink:href=\"#DejaVuSans-46\"/>\n       <use x=\"95.410156\" xlink:href=\"#DejaVuSans-48\"/>\n       <use x=\"159.033203\" xlink:href=\"#DejaVuSans-51\"/>\n       <use x=\"222.65625\" xlink:href=\"#DejaVuSans-48\"/>\n      </g>\n     </g>\n    </g>\n    <g id=\"ytick_8\">\n     <g id=\"line2d_13\">\n      <g>\n       <use style=\"stroke:#000000;stroke-width:0.8;\" x=\"56.50625\" xlink:href=\"#mb70b40b085\" y=\"12.096799\"/>\n      </g>\n     </g>\n     <g id=\"text_14\">\n      <!-- 0.035 -->\n      <g transform=\"translate(20.878125 15.896018)scale(0.1 -0.1)\">\n       <use xlink:href=\"#DejaVuSans-48\"/>\n       <use x=\"63.623047\" xlink:href=\"#DejaVuSans-46\"/>\n       <use x=\"95.410156\" xlink:href=\"#DejaVuSans-48\"/>\n       <use x=\"159.033203\" xlink:href=\"#DejaVuSans-51\"/>\n       <use x=\"222.65625\" xlink:href=\"#DejaVuSans-53\"/>\n      </g>\n     </g>\n    </g>\n    <g id=\"text_15\">\n     <!-- Density -->\n     <g transform=\"translate(14.798437 134.928594)rotate(-90)scale(0.1 -0.1)\">\n      <defs>\n       <path d=\"M 19.671875 64.796875 \nL 19.671875 8.109375 \nL 31.59375 8.109375 \nQ 46.6875 8.109375 53.6875 14.9375 \nQ 60.6875 21.78125 60.6875 36.53125 \nQ 60.6875 51.171875 53.6875 57.984375 \nQ 46.6875 64.796875 31.59375 64.796875 \nz\nM 9.8125 72.90625 \nL 30.078125 72.90625 \nQ 51.265625 72.90625 61.171875 64.09375 \nQ 71.09375 55.28125 71.09375 36.53125 \nQ 71.09375 17.671875 61.125 8.828125 \nQ 51.171875 0 30.078125 0 \nL 9.8125 0 \nz\n\" id=\"DejaVuSans-68\"/>\n       <path d=\"M 54.890625 33.015625 \nL 54.890625 0 \nL 45.90625 0 \nL 45.90625 32.71875 \nQ 45.90625 40.484375 42.875 44.328125 \nQ 39.84375 48.1875 33.796875 48.1875 \nQ 26.515625 48.1875 22.3125 43.546875 \nQ 18.109375 38.921875 18.109375 30.90625 \nL 18.109375 0 \nL 9.078125 0 \nL 9.078125 54.6875 \nL 18.109375 54.6875 \nL 18.109375 46.1875 \nQ 21.34375 51.125 25.703125 53.5625 \nQ 30.078125 56 35.796875 56 \nQ 45.21875 56 50.046875 50.171875 \nQ 54.890625 44.34375 54.890625 33.015625 \nz\n\" id=\"DejaVuSans-110\"/>\n       <path d=\"M 44.28125 53.078125 \nL 44.28125 44.578125 \nQ 40.484375 46.53125 36.375 47.5 \nQ 32.28125 48.484375 27.875 48.484375 \nQ 21.1875 48.484375 17.84375 46.4375 \nQ 14.5 44.390625 14.5 40.28125 \nQ 14.5 37.15625 16.890625 35.375 \nQ 19.28125 33.59375 26.515625 31.984375 \nL 29.59375 31.296875 \nQ 39.15625 29.25 43.1875 25.515625 \nQ 47.21875 21.78125 47.21875 15.09375 \nQ 47.21875 7.46875 41.1875 3.015625 \nQ 35.15625 -1.421875 24.609375 -1.421875 \nQ 20.21875 -1.421875 15.453125 -0.5625 \nQ 10.6875 0.296875 5.421875 2 \nL 5.421875 11.28125 \nQ 10.40625 8.6875 15.234375 7.390625 \nQ 20.0625 6.109375 24.8125 6.109375 \nQ 31.15625 6.109375 34.5625 8.28125 \nQ 37.984375 10.453125 37.984375 14.40625 \nQ 37.984375 18.0625 35.515625 20.015625 \nQ 33.0625 21.96875 24.703125 23.78125 \nL 21.578125 24.515625 \nQ 13.234375 26.265625 9.515625 29.90625 \nQ 5.8125 33.546875 5.8125 39.890625 \nQ 5.8125 47.609375 11.28125 51.796875 \nQ 16.75 56 26.8125 56 \nQ 31.78125 56 36.171875 55.265625 \nQ 40.578125 54.546875 44.28125 53.078125 \nz\n\" id=\"DejaVuSans-115\"/>\n       <path d=\"M 9.421875 54.6875 \nL 18.40625 54.6875 \nL 18.40625 0 \nL 9.421875 0 \nz\nM 9.421875 75.984375 \nL 18.40625 75.984375 \nL 18.40625 64.59375 \nL 9.421875 64.59375 \nz\n\" id=\"DejaVuSans-105\"/>\n       <path d=\"M 18.3125 70.21875 \nL 18.3125 54.6875 \nL 36.8125 54.6875 \nL 36.8125 47.703125 \nL 18.3125 47.703125 \nL 18.3125 18.015625 \nQ 18.3125 11.328125 20.140625 9.421875 \nQ 21.96875 7.515625 27.59375 7.515625 \nL 36.8125 7.515625 \nL 36.8125 0 \nL 27.59375 0 \nQ 17.1875 0 13.234375 3.875 \nQ 9.28125 7.765625 9.28125 18.015625 \nL 9.28125 47.703125 \nL 2.6875 47.703125 \nL 2.6875 54.6875 \nL 9.28125 54.6875 \nL 9.28125 70.21875 \nz\n\" id=\"DejaVuSans-116\"/>\n       <path d=\"M 32.171875 -5.078125 \nQ 28.375 -14.84375 24.75 -17.8125 \nQ 21.140625 -20.796875 15.09375 -20.796875 \nL 7.90625 -20.796875 \nL 7.90625 -13.28125 \nL 13.1875 -13.28125 \nQ 16.890625 -13.28125 18.9375 -11.515625 \nQ 21 -9.765625 23.484375 -3.21875 \nL 25.09375 0.875 \nL 2.984375 54.6875 \nL 12.5 54.6875 \nL 29.59375 11.921875 \nL 46.6875 54.6875 \nL 56.203125 54.6875 \nz\n\" id=\"DejaVuSans-121\"/>\n      </defs>\n      <use xlink:href=\"#DejaVuSans-68\"/>\n      <use x=\"77.001953\" xlink:href=\"#DejaVuSans-101\"/>\n      <use x=\"138.525391\" xlink:href=\"#DejaVuSans-110\"/>\n      <use x=\"201.904297\" xlink:href=\"#DejaVuSans-115\"/>\n      <use x=\"254.003906\" xlink:href=\"#DejaVuSans-105\"/>\n      <use x=\"281.787109\" xlink:href=\"#DejaVuSans-116\"/>\n      <use x=\"320.996094\" xlink:href=\"#DejaVuSans-121\"/>\n     </g>\n    </g>\n   </g>\n   <g id=\"patch_3\">\n    <path d=\"M 56.50625 224.64 \nL 56.50625 7.2 \n\" style=\"fill:none;stroke:#000000;stroke-linecap:square;stroke-linejoin:miter;stroke-width:0.8;\"/>\n   </g>\n   <g id=\"patch_4\">\n    <path d=\"M 391.30625 224.64 \nL 391.30625 7.2 \n\" style=\"fill:none;stroke:#000000;stroke-linecap:square;stroke-linejoin:miter;stroke-width:0.8;\"/>\n   </g>\n   <g id=\"patch_5\">\n    <path d=\"M 56.50625 224.64 \nL 391.30625 224.64 \n\" style=\"fill:none;stroke:#000000;stroke-linecap:square;stroke-linejoin:miter;stroke-width:0.8;\"/>\n   </g>\n   <g id=\"patch_6\">\n    <path d=\"M 56.50625 7.2 \nL 391.30625 7.2 \n\" style=\"fill:none;stroke:#000000;stroke-linecap:square;stroke-linejoin:miter;stroke-width:0.8;\"/>\n   </g>\n  </g>\n </g>\n <defs>\n  <clipPath id=\"p13b2899709\">\n   <rect height=\"217.44\" width=\"334.8\" x=\"56.50625\" y=\"7.2\"/>\n  </clipPath>\n </defs>\n</svg>\n",
      "image/png": "[encoded data removed]"
     },
     "metadata": {
      "needs_background": "light"
     }
    }
   ],
   "source": [
    "#your code \n",
    "sns.kdeplot(titanic['age'][titanic['survived'] == 0], color='red', label = 'Not Survived', shade=True)\n",
    "sns.kdeplot(titanic['age'][titanic['survived'] == 1], color='blue', label = 'Survived', shade=True)"
   ]
  },
  {
   "cell_type": "code",
   "execution_count": null,
   "metadata": {},
   "outputs": [],
   "source": []
  }
 ],
 "metadata": {
  "kernelspec": {
   "display_name": "Python 3",
   "language": "python",
   "name": "python3"
  },
  "language_info": {
   "codemirror_mode": {
    "name": "ipython",
    "version": 3
   },
   "file_extension": ".py",
   "mimetype": "text/x-python",
   "name": "python",
   "nbconvert_exporter": "python",
   "pygments_lexer": "ipython3",
   "version": "3.9.0-final"
  }
 },
 "nbformat": 4,
 "nbformat_minor": 4
}
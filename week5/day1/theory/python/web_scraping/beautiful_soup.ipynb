{
 "cells": [
  {
   "cell_type": "code",
   "execution_count": null,
   "metadata": {},
   "outputs": [],
   "source": [
    "artist_name.contents[0]"
   ]
  },
  {
   "cell_type": "markdown",
   "metadata": {},
   "source": [
    "### Web Scraping\n",
    "\n",
    "- Beautiful soup\n",
    "\n",
    "- Selenium: Se usa más para interactuar con la WEB (también obtiene información)\n",
    "\n",
    "Example Selenium:\n",
    "\n",
    "https://towardsdatascience.com/web-scraping-using-selenium-python-8a60f4cf40ab\n"
   ]
  },
  {
   "cell_type": "markdown",
   "metadata": {},
   "source": [
    "**To install:**\n",
    "\n",
    "        pip3 install beautifulsoup4 requests pandas\n",
    "\n",
    "        pip3 install beautifulsoup4 \n",
    "\n",
    "        pip3 install requests\n",
    "\n",
    "        pip3 install pandas "
   ]
  },
  {
   "source": [
    "### Steps:\n",
    "\n",
    "1. Find the URL that you want to scrape.\n",
    "2. Inspecting the Page.\n",
    "3. Find the data you want to extract.\n",
    "4. Write the code.\n",
    "5. Run the code and extract the data.\n",
    "6. Store the data in the required format"
   ],
   "cell_type": "markdown",
   "metadata": {}
  },
  {
   "cell_type": "markdown",
   "metadata": {},
   "source": [
    "Examples Beautiful Soup:\n",
    "\n",
    "https://j2logo.com/python/web-scraping-con-python-guia-inicio-beautifulsoup/\n",
    "\n",
    "http://omz-software.com/pythonista/docs/ios/beautifulsoup_guide.html\n",
    "\n",
    "https://towardsdatascience.com/top-5-beautiful-soup-functions-7bfe5a693482\n",
    "\n",
    "https://www.crummy.com/software/BeautifulSoup/bs4/doc/"
   ]
  },
  {
   "cell_type": "code",
   "execution_count": 1,
   "metadata": {},
   "outputs": [],
   "source": [
    "import requests\n",
    "from bs4 import BeautifulSoup\n",
    "import pandas as pd"
   ]
  },
  {
   "cell_type": "code",
   "execution_count": 2,
   "metadata": {},
   "outputs": [],
   "source": [
    "# To show beautiful html\n",
    "def show_html(html_str):\n",
    "    print(BeautifulSoup(str(html_str), 'html.parser').prettify())"
   ]
  },
  {
   "source": [
    "** Your Headers ** \n",
    "\n",
    "http://www.xhaus.com/headers"
   ],
   "cell_type": "markdown",
   "metadata": {}
  },
  {
   "cell_type": "code",
   "execution_count": 3,
   "metadata": {
    "tags": [
     "outputPrepend"
    ]
   },
   "outputs": [
    {
     "output_type": "stream",
     "name": "stdout",
     "text": [
      "restore balance to the universe.\n\n    Directors:\nAnthony Russo, \nJoe Russo\n| \n    Stars:\nRobert Downey Jr., \nChris Evans, \nMark Ruffalo, \nChris Hemsworth\n\n\nVotes:\n787,592\n| Gross:\n$858.37M\n\n\n\n\n\n\n\n\n \n \n\n\n61.\nAvengers: Infinity War\n(2018)\n\n\nPG-13\n|\n149 min\n|\n\nAction, Adventure, Sci-Fi            \n\n\n\n\n8.4\n\n\n\n\nRate this\n\n\n\n\n\n\n \n \n\n1\n2\n3\n4\n5\n6\n7\n8\n9\n10\n\n8.4/10\nX\n \n\n\n\n68        \n        Metascore\n            \n\n\n    The Avengers and their allies must be willing to sacrifice all in an attempt to defeat the powerful Thanos before his blitz of devastation and ruin puts an end to the universe.\n\n    Directors:\nAnthony Russo, \nJoe Russo\n| \n    Stars:\nRobert Downey Jr., \nChris Hemsworth, \nMark Ruffalo, \nChris Evans\n\n\nVotes:\n818,998\n| Gross:\n$678.82M\n\n\n\n\n\n\n\n\n \n \n\n\n62.\nCoco\n(I) (2017)\n\n\nPG\n|\n105 min\n|\n\nAnimation, Adventure, Family            \n\n\n\n\n8.4\n\n\n\n\nRate this\n\n\n\n\n\n\n \n \n\n1\n2\n3\n4\n5\n6\n7\n8\n9\n10\n\n8.4/10\nX\n \n\n\n\n81        \n        Metascore\n            \n\n\n    Aspiring musician Miguel, confronted with his family's ancestral ban on music, enters the Land of the Dead to find his great-great-grandfather, a legendary singer.\n\n    Directors:\nLee Unkrich, \nAdrian Molina\n| \n    Stars:\nAnthony Gonzalez, \nGael García Bernal, \nBenjamin Bratt, \nAlanna Ubach\n\n\nVotes:\n369,410\n| Gross:\n$209.73M\n\n\n\n\n\n\n\n\n \n \n\n\n63.\nDjango Unchained\n(2012)\n\n\nR\n|\n165 min\n|\n\nDrama, Western            \n\n\n\n\n8.4\n\n\n\n\nRate this\n\n\n\n\n\n\n \n \n\n1\n2\n3\n4\n5\n6\n7\n8\n9\n10\n\n8.4/10\nX\n \n\n\n\n81        \n        Metascore\n            \n\n\n    With the help of a German bounty hunter, a freed slave sets out to rescue his wife from a brutal Mississippi plantation owner.\n\n    Director:\nQuentin Tarantino\n| \n    Stars:\nJamie Foxx, \nChristoph Waltz, \nLeonardo DiCaprio, \nKerry Washington\n\n\nVotes:\n1,342,007\n| Gross:\n$162.81M\n\n\n\n\n\n\n\n\n \n \n\n\n64.\nThe Dark Knight Rises\n(2012)\n\n\nPG-13\n|\n164 min\n|\n\nAction, Adventure            \n\n\n\n\n8.4\n\n\n\n\nRate this\n\n\n\n\n\n\n \n \n\n1\n2\n3\n4\n5\n6\n7\n8\n9\n10\n\n8.4/10\nX\n \n\n\n\n78        \n        Metascore\n            \n\n\n    Eight years after the Joker's reign of anarchy, Batman, with the help of the enigmatic Catwoman, is forced from his exile to save Gotham City from the brutal guerrilla terrorist Bane.\n\n    Director:\nChristopher Nolan\n| \n    Stars:\nChristian Bale, \nTom Hardy, \nAnne Hathaway, \nGary Oldman\n\n\nVotes:\n1,502,786\n| Gross:\n$448.14M\n\n\n\n\n\n\n\n\n \n \n\n\n65.\n3 Idiots\n(2009)\n\n\nPG-13\n|\n170 min\n|\n\nComedy, Drama            \n\n\n\n\n8.4\n\n\n\n\nRate this\n\n\n\n\n\n\n \n \n\n1\n2\n3\n4\n5\n6\n7\n8\n9\n10\n\n8.4/10\nX\n \n\n\n\n67        \n        Metascore\n            \n\n\n    Two friends are searching for their long lost companion. They revisit their college days and recall the memories of their friend who inspired them to think differently, even as the rest of the world called them \"idiots\".\n\n    Director:\nRajkumar Hirani\n| \n    Stars:\nAamir Khan, \nMadhavan, \nMona Singh, \nSharman Joshi\n\n\nVotes:\n339,870\n| Gross:\n$6.53M\n\n\n\n\n\n\n\n\n \n \n\n\n66.\nLike Stars on Earth\n(2007)\n\n\nPG\n|\n165 min\n|\n\nDrama, Family            \n\n\n\n\n8.4\n\n\n\n\nRate this\n\n\n\n\n\n\n \n \n\n1\n2\n3\n4\n5\n6\n7\n8\n9\n10\n\n8.4/10\nX\n \n\n\n\n\n    An eight-year-old boy is thought to be a lazy trouble-maker, until the new art teacher has the patience and compassion to discover the real problem behind his struggles in school.\n\n    Directors:\nAamir Khan, \nAmole Gupte\n| \n    Stars:\nDarsheel Safary, \nAamir Khan, \nTisca Chopra, \nVipin Sharma\n\n\nVotes:\n166,381\n| Gross:\n$1.22M\n\n\n\n\n\n\n\n\n \n \n\n\n67.\nWALL·E\n(2008)\n\n\nG\n|\n98 min\n|\n\nAnimation, Adventure, Family            \n\n\n\n\n8.4\n\n\n\n\nRate this\n\n\n\n\n\n\n \n \n\n1\n2\n3\n4\n5\n6\n7\n8\n9\n10\n\n8.4/10\nX\n \n\n\n\n95        \n        Metascore\n            \n\n\n    In the distant future, a small waste-collecting robot inadvertently embarks on a space journey that will ultimately decide the fate of mankind.\n\n    Director:\nAndrew Stanton\n| \n    Stars:\nBen Burtt, \nElissa Knight, \nJeff Garlin, \nFred Willard\n\n\nVotes:\n989,624\n| Gross:\n$223.81M\n\n\n\n\n\n\n\n\n \n \n\n\n68.\nThe Lives of Others\n(2006)\n\n\nR\n|\n137 min\n|\n\nDrama, Mystery, Thriller            \n\n\n\n\n8.4\n\n\n\n\nRate this\n\n\n\n\n\n\n \n \n\n1\n2\n3\n4\n5\n6\n7\n8\n9\n10\n\n8.4/10\nX\n \n\n\n\n89        \n        Metascore\n            \n\n\n    In 1984 East Berlin, an agent of the secret police, conducting surveillance on a writer and his lover, finds himself becoming increasingly absorbed by their lives.\n\n    Director:\nFlorian Henckel von Donnersmarck\n| \n    Stars:\nUlrich Mühe, \nMartina Gedeck, \nSebastian Koch, \nUlrich Tukur\n\n\nVotes:\n355,363\n| Gross:\n$11.29M\n\n\n\n\n\n\n\n\n \n \n\n\n69.\nOldboy\n(2003)\n\n\nR\n|\n120 min\n|\n\nAction, Drama, Mystery            \n\n\n\n\n8.4\n\n\n\n\nRate this\n\n\n\n\n\n\n \n \n\n1\n2\n3\n4\n5\n6\n7\n8\n9\n10\n\n8.4/10\nX\n \n\n\n\n77        \n        Metascore\n            \n\n\n    After being kidnapped and imprisoned for fifteen years, Oh Dae-Su is released, only to find that he must find his captor in five days.\n\n    Director:\nChan-wook Park\n| \n    Stars:\nChoi Min-sik, \nYoo Ji-Tae, \nHye-jeong Kang, \nKim Byeong-Ok\n\n\nVotes:\n510,072\n| Gross:\n$0.71M\n\n\n\n\n\n\n\n\n \n \n\n\n70.\nMemento\n(2000)\n\n\nR\n|\n113 min\n|\n\nMystery, Thriller            \n\n\n\n\n8.4\n\n\n\n\nRate this\n\n\n\n\n\n\n \n \n\n1\n2\n3\n4\n5\n6\n7\n8\n9\n10\n\n8.4/10\nX\n \n\n\n\n80        \n        Metascore\n            \n\n\n    A man with short-term memory loss attempts to track down his wife's murderer.\n\n    Director:\nChristopher Nolan\n| \n    Stars:\nGuy Pearce, \nCarrie-Anne Moss, \nJoe Pantoliano, \nMark Boone Junior\n\n\nVotes:\n1,115,932\n| Gross:\n$25.54M\n\n\n\n\n\n\n\n\n \n \n\n\n71.\nPrincess Mononoke\n(1997)\n\n\nPG-13\n|\n134 min\n|\n\nAnimation, Adventure, Fantasy            \n\n\n\n\n8.4\n\n\n\n\nRate this\n\n\n\n\n\n\n \n \n\n1\n2\n3\n4\n5\n6\n7\n8\n9\n10\n\n8.4/10\nX\n \n\n\n\n76        \n        Metascore\n            \n\n\n    On a journey to find the cure for a Tatarigami's curse, Ashitaka finds himself in the middle of a war between the forest gods and Tatara, a mining colony. In this quest he also meets San, the Mononoke Hime.\n\n    Director:\nHayao Miyazaki\n| \n    Stars:\nYôji Matsuda, \nYuriko Ishida, \nYûko Tanaka, \nBilly Crudup\n\n\nVotes:\n338,625\n| Gross:\n$2.38M\n\n\n\n\n\n\n\n\n \n \n\n\n72.\nOnce Upon a Time in America\n(1984)\n\n\nR\n|\n229 min\n|\n\nCrime, Drama            \n\n\n\n\n8.4\n\n\n\n\nRate this\n\n\n\n\n\n\n \n \n\n1\n2\n3\n4\n5\n6\n7\n8\n9\n10\n\n8.4/10\nX\n \n\n\n\n\n    A former Prohibition-era Jewish gangster returns to the Lower East Side of Manhattan over thirty years later, where he once again must confront the ghosts and regrets of his old life.\n\n    Director:\nSergio Leone\n| \n    Stars:\nRobert De Niro, \nJames Woods, \nElizabeth McGovern, \nTreat Williams\n\n\nVotes:\n307,951\n| Gross:\n$5.32M\n\n\n\n\n\n\n\n\n \n \n\n\n73.\nRaiders of the Lost Ark\n(1981)\n\n\nPG\n|\n115 min\n|\n\nAction, Adventure            \n\n\n\n\n8.4\n\n\n\n\nRate this\n\n\n\n\n\n\n \n \n\n1\n2\n3\n4\n5\n6\n7\n8\n9\n10\n\n8.4/10\nX\n \n\n\n\n85        \n        Metascore\n            \n\n\n    In 1936, archaeologist and adventurer Indiana Jones is hired by the U.S. government to find the Ark of the Covenant before Adolf Hitler's Nazis can obtain its awesome powers.\n\n    Director:\nSteven Spielberg\n| \n    Stars:\nHarrison Ford, \nKaren Allen, \nPaul Freeman, \nJohn Rhys-Davies\n\n\nVotes:\n877,005\n| Gross:\n$248.16M\n\n\n\n\n\n\n\n\n \n \n\n\n74.\nThe Shining\n(1980)\n\n\nR\n|\n146 min\n|\n\nDrama, Horror            \n\n\n\n\n8.4\n\n\n\n\nRate this\n\n\n\n\n\n\n \n \n\n1\n2\n3\n4\n5\n6\n7\n8\n9\n10\n\n8.4/10\nX\n \n\n\n\n66        \n        Metascore\n            \n\n\n    A family heads to an isolated hotel for the winter where a sinister presence influences the father into violence, while his psychic son sees horrific forebodings from both past and future.\n\n    Director:\nStanley Kubrick\n| \n    Stars:\nJack Nicholson, \nShelley Duvall, \nDanny Lloyd, \nScatman Crothers\n\n\nVotes:\n889,104\n| Gross:\n$44.02M\n\n\n\n\n\n\n\n\n \n \n\n\n75.\nApocalypse Now\n(1979)\n\n\nR\n|\n147 min\n|\n\nDrama, Mystery, War            \n\n\n\n\n8.4\n\n\n\n\nRate this\n\n\n\n\n\n\n \n \n\n1\n2\n3\n4\n5\n6\n7\n8\n9\n10\n\n8.4/10\nX\n \n\n\n\n94        \n        Metascore\n            \n\n\n    A U.S. Army officer serving in Vietnam is tasked with assassinating a renegade Special Forces Colonel who sees himself as a god.\n\n    Director:\nFrancis Ford Coppola\n| \n    Stars:\nMartin Sheen, \nMarlon Brando, \nRobert Duvall, \nFrederic Forrest\n\n\nVotes:\n600,972\n| Gross:\n$83.47M\n\n\n\n\n\n\n\n\n \n \n\n\n76.\nAlien\n(1979)\n\n\nR\n|\n117 min\n|\n\nHorror, Sci-Fi            \n\n\n\n\n8.4\n\n\n\n\nRate this\n\n\n\n\n\n\n \n \n\n1\n2\n3\n4\n5\n6\n7\n8\n9\n10\n\n8.4/10\nX\n \n\n\n\n89        \n        Metascore\n            \n\n\n    After a space merchant vessel receives an unknown transmission as a distress call, one of the crew is attacked by a mysterious life form and they soon realize that its life cycle has merely begun.\n\n    Director:\nRidley Scott\n| \n    Stars:\nSigourney Weaver, \nTom Skerritt, \nJohn Hurt, \nVeronica Cartwright\n\n\nVotes:\n781,079\n| Gross:\n$78.90M\n\n\n\n\n\n\n\n\n \n \n\n\n77.\nAnand\n(1971)\n\n\nNot Rated\n|\n122 min\n|\n\nDrama, Musical            \n\n\n\n\n8.4\n\n\n\n\nRate this\n\n\n\n\n\n\n \n \n\n1\n2\n3\n4\n5\n6\n7\n8\n9\n10\n\n8.4/10\nX\n \n\n\n\n\n    The story of a terminally ill man who wishes to live life to the fullest before the inevitable occurs, as told by his best friend.\n\n    Director:\nHrishikesh Mukherjee\n| \n    Stars:\nRajesh Khanna, \nAmitabh Bachchan, \nSumita Sanyal, \nRamesh Deo\n\n\nVotes:\n29,568\n\n\n\n\n\n\n\n\n \n \n\n\n78.\nHigh and Low\n(1963)\n\n\nNot Rated\n|\n143 min\n|\n\nCrime, Drama, Mystery            \n\n\n\n\n8.4\n\n\n\n\nRate this\n\n\n\n\n\n\n \n \n\n1\n2\n3\n4\n5\n6\n7\n8\n9\n10\n\n8.4/10\nX\n \n\n\n\n\n    An executive of a shoe company becomes a victim of extortion when his chauffeur's son is kidnapped and held for ransom.\n\n    Director:\nAkira Kurosawa\n| \n    Stars:\nToshirô Mifune, \nYutaka Sada, \nTatsuya Nakadai, \nKyôko Kagawa\n\n\nVotes:\n33,308\n\n\n\n\n\n\n\n\n \n \n\n\n79.\nDr. Strangelove or: How I Learned to Stop Worrying and Love the Bomb\n(1964)\n\n\nPG\n|\n95 min\n|\n\nComedy            \n\n\n\n\n8.4\n\n\n\n\nRate this\n\n\n\n\n\n\n \n \n\n1\n2\n3\n4\n5\n6\n7\n8\n9\n10\n\n8.4/10\nX\n \n\n\n\n97        \n        Metascore\n            \n\n\n    An insane general triggers a path to nuclear holocaust that a War Room full of politicians and generals frantically tries to stop.\n\n    Director:\nStanley Kubrick\n| \n    Stars:\nPeter Sellers, \nGeorge C. Scott, \nSterling Hayden, \nKeenan Wynn\n\n\nVotes:\n446,985\n| Gross:\n$0.28M\n\n\n\n\n\n\n\n\n \n \n\n\n80.\nWitness for the Prosecution\n(1957)\n\n\nApproved\n|\n116 min\n|\n\nCrime, Drama, Mystery            \n\n\n\n\n8.4\n\n\n\n\nRate this\n\n\n\n\n\n\n \n \n\n1\n2\n3\n4\n5\n6\n7\n8\n9\n10\n\n8.4/10\nX\n \n\n\n\n\n    A veteran British barrister must defend his client in a murder trial that has surprise after surprise.\n\n    Director:\nBilly Wilder\n| \n    Stars:\nTyrone Power, \nMarlene Dietrich, \nCharles Laughton, \nElsa Lanchester\n\n\nVotes:\n107,502\n| Gross:\n$8.18M\n\n\n\n\n\n\n\n\n \n \n\n\n81.\nPaths of Glory\n(1957)\n\n\nApproved\n|\n88 min\n|\n\nDrama, War            \n\n\n\n\n8.4\n\n\n\n\nRate this\n\n\n\n\n\n\n \n \n\n1\n2\n3\n4\n5\n6\n7\n8\n9\n10\n\n8.4/10\nX\n \n\n\n\n90        \n        Metascore\n            \n\n\n    After refusing to attack an enemy position, a general accuses the soldiers of cowardice and their commanding officer must defend them.\n\n    Director:\nStanley Kubrick\n| \n    Stars:\nKirk Douglas, \nRalph Meeker, \nAdolphe Menjou, \nGeorge Macready\n\n\nVotes:\n176,253\n\n\n\n\n\n\n\n\n \n \n\n\n82.\nRear Window\n(1954)\n\n\nPG\n|\n112 min\n|\n\nMystery, Thriller            \n\n\n\n\n8.4\n\n\n\n\nRate this\n\n\n\n\n\n\n \n \n\n1\n2\n3\n4\n5\n6\n7\n8\n9\n10\n\n8.4/10\nX\n \n\n\n\n100        \n        Metascore\n            \n\n\n    A wheelchair-bound photographer spies on his neighbors from his apartment window and becomes convinced one of them has committed murder.\n\n    Director:\nAlfred Hitchcock\n| \n    Stars:\nJames Stewart, \nGrace Kelly, \nWendell Corey, \nThelma Ritter\n\n\nVotes:\n440,016\n| Gross:\n$36.76M\n\n\n\n\n\n\n\n\n \n \n\n\n83.\nSunset Blvd.\n(1950)\n\n\nPassed\n|\n110 min\n|\n\nDrama, Film-Noir            \n\n\n\n\n8.4\n\n\n\n\nRate this\n\n\n\n\n\n\n \n \n\n1\n2\n3\n4\n5\n6\n7\n8\n9\n10\n\n8.4/10\nX\n \n\n\n\n\n    A screenwriter develops a dangerous relationship with a faded film star determined to make a triumphant return.\n\n    Director:\nBilly Wilder\n| \n    Stars:\nWilliam Holden, \nGloria Swanson, \nErich von Stroheim, \nNancy Olson\n\n\nVotes:\n199,708\n\n\n\n\n\n\n\n\n \n \n\n\n84.\nThe Great Dictator\n(1940)\n\n\nPassed\n|\n125 min\n|\n\nComedy, Drama, War            \n\n\n\n\n8.4\n\n\n\n\nRate this\n\n\n\n\n\n\n \n \n\n1\n2\n3\n4\n5\n6\n7\n8\n9\n10\n\n8.4/10\nX\n \n\n\n\n\n    Dictator Adenoid Hynkel tries to expand his empire while a poor Jewish barber tries to avoid persecution from Hynkel's regime.\n\n    Director:\nCharles Chaplin\n| \n    Stars:\nCharles Chaplin, \nPaulette Goddard, \nJack Oakie, \nReginald Gardiner\n\n\nVotes:\n201,138\n| Gross:\n$0.29M\n\n\n\n\n\n\n\n\n \n \n\n\n85.\n1917\n(2019)\n\n\nR\n|\n119 min\n|\n\nDrama, War            \n\n\n\n\n8.3\n\n\n\n\nRate this\n\n\n\n\n\n\n \n \n\n1\n2\n3\n4\n5\n6\n7\n8\n9\n10\n\n8.3/10\nX\n \n\n\n\n78        \n        Metascore\n            \n\n\n    April 6th, 1917. As a regiment assembles to wage war deep in enemy territory, two soldiers are assigned to race against time and deliver a message that will stop 1,600 men from walking straight into a deadly trap.\n\n    Director:\nSam Mendes\n| \n    Stars:\nDean-Charles Chapman, \nGeorge MacKay, \nDaniel Mays, \nColin Firth\n\n\nVotes:\n401,094\n| Gross:\n$159.23M\n\n\n\n\n\n\n\n\n \n \n\n\n86.\nTumbbad\n(2018)\n\n\nNot Rated\n|\n104 min\n|\n\nDrama, Fantasy, Horror            \n\n\n\n\n8.3\n\n\n\n\nRate this\n\n\n\n\n\n\n \n \n\n1\n2\n3\n4\n5\n6\n7\n8\n9\n10\n\n8.3/10\nX\n \n\n\n\n\n    A mythological story about a goddess who created the entire universe. The plot revolves around the consequences when humans build a temple for her first-born.\n\n    Directors:\nRahi Anil Barve, \nAnand Gandhi, \nAdesh Prasad\n| \n    Stars:\nSohum Shah, \nJyoti Malshe, \nAnita Date, \nRonjini Chakraborty\n\n\nVotes:\n26,656\n\n\n\n\n\n\n\n\n \n \n\n\n87.\nAndhadhun\n(2018)\n\n\nNot Rated\n|\n139 min\n|\n\nCrime, Drama, Music            \n\n\n\n\n8.3\n\n\n\n\nRate this\n\n\n\n\n\n\n \n \n\n1\n2\n3\n4\n5\n6\n7\n8\n9\n10\n\n8.3/10\nX\n \n\n\n\n\n    A series of mysterious events change the life of a blind pianist, who must now report a crime that he should technically know nothing of.\n\n    Director:\nSriram Raghavan\n| \n    Stars:\nAyushmann Khurrana, \nTabu, \nRadhika Apte, \nAnil Dhawan\n\n\nVotes:\n69,689\n| Gross:\n$1.37M\n\n\n\n\n\n\n\n\n \n \n\n\n88.\nDrishyam\n(2013)\n\n\nNot Rated\n|\n160 min\n|\n\nCrime, Drama, Thriller            \n\n\n\n\n8.3\n\n\n\n\nRate this\n\n\n\n\n\n\n \n \n\n1\n2\n3\n4\n5\n6\n7\n8\n9\n10\n\n8.3/10\nX\n \n\n\n\n\n    A man goes to extreme lengths to save his family from punishment after the family commits an accidental crime.\n\n    Director:\nJeethu Joseph\n| \n    Stars:\nMohanlal, \nMeena, \nAsha Sharath, \nAnsiba\n\n\nVotes:\n30,385\n\n\n\n\n\n\n\n\n \n \n\n\n89.\nThe Hunt\n(2012)\n\n\nR\n|\n115 min\n|\n\nDrama            \n\n\n\n\n8.3\n\n\n\n\nRate this\n\n\n\n\n\n\n \n \n\n1\n2\n3\n4\n5\n6\n7\n8\n9\n10\n\n8.3/10\nX\n \n\n\n\n77        \n        Metascore\n            \n\n\n    A teacher lives a lonely life, all the while struggling over his son's custody. His life slowly gets better as he finds love and receives good news from his son, but his new luck is about to be brutally shattered by an innocent little lie.\n\n    Director:\nThomas Vinterberg\n| \n    Stars:\nMads Mikkelsen, \nThomas Bo Larsen, \nAnnika Wedderkopp, \nLasse Fogelstrøm\n\n\nVotes:\n276,416\n| Gross:\n$0.69M\n\n\n\n\n\n\n\n\n \n \n\n\n90.\nA Separation\n(2011)\n\n\nPG-13\n|\n123 min\n|\n\nDrama            \n\n\n\n\n8.3\n\n\n\n\nRate this\n\n\n\n\n\n\n \n \n\n1\n2\n3\n4\n5\n6\n7\n8\n9\n10\n\n8.3/10\nX\n \n\n\n\n95        \n        Metascore\n            \n\n\n    A married couple are faced with a difficult decision - to improve the life of their child by moving to another country or to stay in Iran and look after a deteriorating parent who has Alzheimer's disease.\n\n    Director:\nAsghar Farhadi\n| \n    Stars:\nPayman Maadi, \nLeila Hatami, \nSareh Bayat, \nShahab Hosseini\n\n\nVotes:\n217,765\n| Gross:\n$7.10M\n\n\n\n\n\n\n\n\n \n \n\n\n91.\nIncendies\n(2010)\n\n\nR\n|\n131 min\n|\n\nDrama, Mystery, War            \n\n\n\n\n8.3\n\n\n\n\nRate this\n\n\n\n\n\n\n \n \n\n1\n2\n3\n4\n5\n6\n7\n8\n9\n10\n\n8.3/10\nX\n \n\n\n\n80        \n        Metascore\n            \n\n\n    Twins journey to the Middle East to discover their family history and fulfill their mother's last wishes.\n\n    Director:\nDenis Villeneuve\n| \n    Stars:\nLubna Azabal, \nMélissa Désormeaux-Poulin, \nMaxim Gaudette, \nMustafa Kamel\n\n\nVotes:\n147,268\n| Gross:\n$6.86M\n\n\n\n\n\n\n\n\n \n \n\n\n92.\n7 Kogustaki Mucize\n(2019)\n\n\nTV-14\n|\n132 min\n|\n\nDrama            \n\n\n\n\n8.3\n\n\n\n\nRate this\n\n\n\n\n\n\n \n \n\n1\n2\n3\n4\n5\n6\n7\n8\n9\n10\n\n8.3/10\nX\n \n\n\n\n\n    A story of love between a mentally-ill father who was wrongly accused of murder and his lovely six years old daughter. The prison would be their home. Based on the 2013 Korean movie Miracle in Cell No. 7 (2013).\n\n    Director:\nMehmet Ada Öztekin\n| \n    Stars:\nAras Bulut Iynemli, \nNisa Sofiya Aksongur, \nDeniz Baysal, \nCelile Toyon Uysal\n\n\nVotes:\n31,908\n\n\n\n\n\n\n\n\n \n \n\n\n93.\nMy Father and My Son\n(2005)\n\n\n112 min\n|\n\nDrama, Family            \n\n\n\n\n8.3\n\n\n\n\nRate this\n\n\n\n\n\n\n \n \n\n1\n2\n3\n4\n5\n6\n7\n8\n9\n10\n\n8.3/10\nX\n \n\n\n\n\n    The family of a left-wing journalist is torn apart after the military coup of Turkey in 1980.\n\n    Director:\nÇagan Irmak\n| \n    Stars:\nÇetin Tekindor, \nFikret Kuskan, \nHümeyra, \nEge Tanman\n\n\nVotes:\n77,870\n\n\n\n\n\n\n\n\n \n \n\n\n94.\nToy Story 3\n(2010)\n\n\nG\n|\n103 min\n|\n\nAnimation, Adventure, Comedy            \n\n\n\n\n8.3\n\n\n\n\nRate this\n\n\n\n\n\n\n \n \n\n1\n2\n3\n4\n5\n6\n7\n8\n9\n10\n\n8.3/10\nX\n \n\n\n\n92        \n        Metascore\n            \n\n\n    The toys are mistakenly delivered to a day-care center instead of the attic right before Andy leaves for college, and it's up to Woody to convince the other toys that they weren't abandoned and to return home.\n\n    Director:\nLee Unkrich\n| \n    Stars:\nTom Hanks, \nTim Allen, \nJoan Cusack, \nNed Beatty\n\n\nVotes:\n750,389\n| Gross:\n$415.00M\n\n\n\n\n\n\n\n\n \n \n\n\n95.\nInglourious Basterds\n(2009)\n\n\nR\n|\n153 min\n|\n\nAdventure, Drama, War            \n\n\n\n\n8.3\n\n\n\n\nRate this\n\n\n\n\n\n\n \n \n\n1\n2\n3\n4\n5\n6\n7\n8\n9\n10\n\n8.3/10\nX\n \n\n\n\n69        \n        Metascore\n            \n\n\n    In Nazi-occupied France during World War II, a plan to assassinate Nazi leaders by a group of Jewish U.S. soldiers coincides with a theatre owner's vengeful plans for the same.\n\n    Director:\nQuentin Tarantino\n| \n    Stars:\nBrad Pitt, \nDiane Kruger, \nEli Roth, \nMélanie Laurent\n\n\nVotes:\n1,252,820\n| Gross:\n$120.54M\n\n\n\n\n\n\n\n\n \n \n\n\n96.\nEternal Sunshine of the Spotless Mind\n(2004)\n\n\nR\n|\n108 min\n|\n\nDrama, Romance, Sci-Fi            \n\n\n\n\n8.3\n\n\n\n\nRate this\n\n\n\n\n\n\n \n \n\n1\n2\n3\n4\n5\n6\n7\n8\n9\n10\n\n8.3/10\nX\n \n\n\n\n89        \n        Metascore\n            \n\n\n    When their relationship turns sour, a couple undergoes a medical procedure to have each other erased from their memories.\n\n    Director:\nMichel Gondry\n| \n    Stars:\nJim Carrey, \nKate Winslet, \nTom Wilkinson, \nGerry Robert Byrne\n\n\nVotes:\n903,978\n| Gross:\n$34.40M\n\n\n\n\n\n\n\n\n \n \n\n\n97.\nAmélie\n(2001)\n\n\nR\n|\n122 min\n|\n\nComedy, Romance            \n\n\n\n\n8.3\n\n\n\n\nRate this\n\n\n\n\n\n\n \n \n\n1\n2\n3\n4\n5\n6\n7\n8\n9\n10\n\n8.3/10\nX\n \n\n\n\n69        \n        Metascore\n            \n\n\n    Amélie is an innocent and naive girl in Paris with her own sense of justice. She decides to help those around her and, along the way, discovers love.\n\n    Director:\nJean-Pierre Jeunet\n| \n    Stars:\nAudrey Tautou, \nMathieu Kassovitz, \nRufus, \nLorella Cravotta\n\n\nVotes:\n698,603\n| Gross:\n$33.23M\n\n\n\n\n\n\n\n\n \n \n\n\n98.\nSnatch\n(2000)\n\n\nR\n|\n102 min\n|\n\nComedy, Crime            \n\n\n\n\n8.3\n\n\n\n\nRate this\n\n\n\n\n\n\n \n \n\n1\n2\n3\n4\n5\n6\n7\n8\n9\n10\n\n8.3/10\nX\n \n\n\n\n55        \n        Metascore\n            \n\n\n    Unscrupulous boxing promoters, violent bookmakers, a Russian gangster, incompetent amateur robbers and supposedly Jewish jewelers fight to track down a priceless stolen diamond.\n\n    Director:\nGuy Ritchie\n| \n    Stars:\nJason Statham, \nBrad Pitt, \nBenicio Del Toro, \nDennis Farina\n\n\nVotes:\n775,878\n| Gross:\n$30.33M\n\n\n\n\n\n\n\n\n \n \n\n\n99.\nRequiem for a Dream\n(2000)\n\n\nR\n|\n102 min\n|\n\nDrama            \n\n\n\n\n8.3\n\n\n\n\nRate this\n\n\n\n\n\n\n \n \n\n1\n2\n3\n4\n5\n6\n7\n8\n9\n10\n\n8.3/10\nX\n \n\n\n\n68        \n        Metascore\n            \n\n\n    The drug-induced utopias of four Coney Island people are shattered when their addictions run deep.\n\n    Director:\nDarren Aronofsky\n| \n    Stars:\nEllen Burstyn, \nJared Leto, \nJennifer Connelly, \nMarlon Wayans\n\n\nVotes:\n760,153\n| Gross:\n$3.64M\n\n\n\n\n\n\n\n\n \n \n\n\n100.\nAmerican Beauty\n(1999)\n\n\nR\n|\n122 min\n|\n\nDrama            \n\n\n\n\n8.3\n\n\n\n\nRate this\n\n\n\n\n\n\n \n \n\n1\n2\n3\n4\n5\n6\n7\n8\n9\n10\n\n8.3/10\nX\n \n\n\n\n84        \n        Metascore\n            \n\n\n    A sexually frustrated suburban father has a mid-life crisis after becoming infatuated with his daughter's best friend.\n\n    Director:\nSam Mendes\n| \n    Stars:\nKevin Spacey, \nAnnette Bening, \nThora Birch, \nWes Bentley\n\n\nVotes:\n1,061,850\n| Gross:\n$130.10M\n\n\n\n\n\n\n\n1-100 of 1,000 titles.\n| Next »\n\n\n\n\n\n\n\n\n\n\n\n\n\nClear your history\n\nRecently Viewed\n\n \n\n\n\n\n\n\n\n\nGet the IMDb AppGet the IMDb AppView Full SiteHelpSite IndexIMDbProBox Office MojoIMDb DeveloperPress RoomAdvertisingJobsConditions of UsePrivacy PolicyInterest-Based Ads© 1990-2020 by IMDb.com, Inc.\n\n"
     ]
    }
   ],
   "source": [
    "url = \"\"\"https://www.imdb.com/search/title/?count=100&groups=top_1000&sort=user_rating\"\"\"\n",
    "\n",
    "def get_page_contents(url):\n",
    "    page = requests.get(url, headers={\"Accept-Language\": \"en-US\"})\n",
    "    return BeautifulSoup(page.text, \"html.parser\")\n",
    "soup = get_page_contents(url)\n",
    "show_html(soup.text)"
   ]
  },
  {
   "cell_type": "code",
   "execution_count": 4,
   "metadata": {},
   "outputs": [
    {
     "output_type": "execute_result",
     "data": {
      "text/plain": [
       "bs4.BeautifulSoup"
      ]
     },
     "metadata": {},
     "execution_count": 4
    }
   ],
   "source": [
    "type(soup)"
   ]
  },
  {
   "cell_type": "code",
   "execution_count": 5,
   "metadata": {},
   "outputs": [],
   "source": [
    "html = \"\"\"\n",
    "<html lang=\"es\">\n",
    "<head>\n",
    "    <meta charset=\"UTF-8\">\n",
    "    <title>Página de prueba</title>\n",
    "</head>\n",
    "<body>\n",
    "<div id=\"main\" class=\"full-width\">\n",
    "    <h1>El título de la página</h1>\n",
    "    <p>Este es el primer párrafo</p>\n",
    "    <p>Este es el segundo párrafo</p>\n",
    "    <div id=\"innerDiv\">\n",
    "        <div class=\"links\">\n",
    "            <a href=\"https://pagina1.xyz/\">Enlace 1</a>\n",
    "            <a href=\"https://pagina2.xyz/\">Enlace 2</a>\n",
    "        </div>\n",
    "        <div class=\"right\">\n",
    "            <div class=\"links\">\n",
    "                <a href=\"https://pagina3.xyz/\">Enlace 3</a>\n",
    "                <a href=\"https://pagina4.xyz/\">Enlace 4</a>\n",
    "            </div>\n",
    "        </div>\n",
    "    </div>\n",
    "    <div id=\"footer\">\n",
    "        <!-- El footer -->\n",
    "        <p>Este párrafo está en el footer</p>\n",
    "        <div class=\"links footer-links\">\n",
    "            <a href=\"https://pagina5.xyz/\">Enlace 5</a>\n",
    "        </div>\n",
    "    </div>\n",
    "</div>\n",
    "</body>\n",
    "</html>\"\"\""
   ]
  },
  {
   "cell_type": "markdown",
   "metadata": {},
   "source": [
    "### Example artists: \n",
    "\n",
    "https://www.digitalocean.com/community/tutorials/how-to-scrape-web-pages-with-beautiful-soup-and-python-3"
   ]
  },
  {
   "cell_type": "code",
   "execution_count": 6,
   "metadata": {
    "tags": []
   },
   "outputs": [
    {
     "output_type": "stream",
     "name": "stdout",
     "text": [
      "NGA - Artist List 'Z' / Page 1 of 4\n\n\n\n\n\n\n\n\n\n\n\n\n\n\n\n\n\n\n\n\n\nWhat's New\nNewsletters\nCalendar\nRecent Acquisitions\nVideos &amp; Podcasts\nAbout the Gallery\nShock of the News\nGeorge Bellows\n\n\nThe Collection\nExhibitions\nPlan a Visit\nPrograms &amp; Events\nOnline Tours\nEducation\nResources\nGallery Shop\nSupport the Gallery\nNGA Images\nNGAkids\n\n\n\n\n\n\n\n\n\n\n\n\n\n\n\nArtist names beginning with Z\nZabaglia, NiccolaItalian, 1664 - 1750\nZaccone, FabianAmerican, 1910 - 1992\nZadkine, OssipFrench, 1890 - 1967\nZaech, BernhardGerman, active c. 1650\nZagar, JacobFlemish, c. 1530 - after 1580\nZagroba, IdaliaPolish, born 1967\nZaidenberg, A.American, active c. 1935\nZaidenberg, ArthurAmerican, 1903 - 1990\nZaisinger, MatthäusGerman, active c. 1500\nZajac, JackAmerican, born 1929\nZak, EugènePolish, 1884 - 1926\nZakharov, Gurii FillipovichRussian, born 1926\nZakowortny, Igor\nZalce, AlfredoMexican, born 1908\nZalopany, MicheleAmerican, born 1955\nZammiello, Craig\nZammitt, NormanAmerican, born 1931\nZampieri, DomenicoItalian, 1581 - 1641\nZampieri, called Domenichino, DomenicoItalian, 1581 - 1641\nZanartú, Enrique AntunezChilean, born 1921\nZanchi, AntonioItalian, 1631 - 1722\nZanetti, Anton MariaItalian, 1679/1680 - 1767\nZanetti Borzino, LeopoldinaItalian, 1826 - 1902\nZanetti I, Antonio Maria, conteItalian, 1680 - 1757\nZanguidi, JacopoItalian, 1544 - 1573/1574\nZanini, GiuseppeItalian, c. 1599 - 1631\nZanini-Viola, GiuseppeItalian, c. 1599 - 1631\nZanotti, GiampietroItalian, 1674 - 1765\nZao Wou-KiFrench, born 1921\n\n\nPage 1 - Artists 1 thru 29 of 115\n\n\n\n· Zab-Zao ·Zas-Zie Zie-Zor \n» nextpage\n\n\n\n \n \n\n\n\n\n\n\n help | search | site map | contact us | privacy | terms of use | press | NGA Images | home |  \nCopyright ©\n      \n\n2008\n      \nNational Gallery of Art, Washington, DC\n\n"
     ]
    }
   ],
   "source": [
    "import requests\n",
    "from bs4 import BeautifulSoup\n",
    "\n",
    "# Collect first page of artists’ list\n",
    "page = requests.get('https://web.archive.org/web/20121007172955/https://www.nga.gov/collection/anZ1.htm')\n",
    "\n",
    "# Create a BeautifulSoup object\n",
    "soup = BeautifulSoup(page.text, 'html.parser')\n",
    "show_html(soup.text)"
   ]
  },
  {
   "cell_type": "markdown",
   "metadata": {},
   "source": [
    "find"
   ]
  },
  {
   "cell_type": "code",
   "execution_count": 7,
   "metadata": {
    "tags": []
   },
   "outputs": [
    {
     "output_type": "stream",
     "name": "stdout",
     "text": [
      "<div class=\"BodyText\">\n <!-- InstanceBeginEditable name=\"BodyText\" -->\n <h3>\n  Artist names beginning with Z\n </h3>\n <table>\n  <tr valign=\"top\">\n   <td>\n    <a href=\"/web/20121007172955/https://www.nga.gov/cgi-bin/tsearch?artistid=11630\">\n     Zabaglia, Niccola\n    </a>\n   </td>\n   <td>\n    Italian, 1664 - 1750\n   </td>\n  </tr>\n  <tr valign=\"top\">\n   <td>\n    <a href=\"/web/20121007172955/https://www.nga.gov/cgi-bin/tsearch?artistid=34202\">\n     Zaccone, Fabian\n    </a>\n   </td>\n   <td>\n    American, 1910 - 1992\n   </td>\n  </tr>\n  <tr valign=\"top\">\n   <td>\n    <a href=\"/web/20121007172955/https://www.nga.gov/cgi-bin/tsearch?artistid=3475\">\n     Zadkine, Ossip\n    </a>\n   </td>\n   <td>\n    French, 1890 - 1967\n   </td>\n  </tr>\n  <tr valign=\"top\">\n   <td>\n    <a href=\"/web/20121007172955/https://www.nga.gov/cgi-bin/tsearch?artistid=25135\">\n     Zaech, Bernhard\n    </a>\n   </td>\n   <td>\n    German, active c. 1650\n   </td>\n  </tr>\n  <tr valign=\"top\">\n   <td>\n    <a href=\"/web/20121007172955/https://www.nga.gov/cgi-bin/tsearch?artistid=2298\">\n     Zagar, Jacob\n    </a>\n   </td>\n   <td>\n    Flemish, c. 1530 - after 1580\n   </td>\n  </tr>\n  <tr valign=\"top\">\n   <td>\n    <a href=\"/web/20121007172955/https://www.nga.gov/cgi-bin/tsearch?artistid=23988\">\n     Zagroba, Idalia\n    </a>\n   </td>\n   <td>\n    Polish, born 1967\n   </td>\n  </tr>\n  <tr valign=\"top\">\n   <td>\n    <a href=\"/web/20121007172955/https://www.nga.gov/cgi-bin/tsearch?artistid=8232\">\n     Zaidenberg, A.\n    </a>\n   </td>\n   <td>\n    American, active c. 1935\n   </td>\n  </tr>\n  <tr valign=\"top\">\n   <td>\n    <a href=\"/web/20121007172955/https://www.nga.gov/cgi-bin/tsearch?artistid=34154\">\n     Zaidenberg, Arthur\n    </a>\n   </td>\n   <td>\n    American, 1903 - 1990\n   </td>\n  </tr>\n  <tr valign=\"top\">\n   <td>\n    <a href=\"/web/20121007172955/https://www.nga.gov/cgi-bin/tsearch?artistid=4910\">\n     Zaisinger, Matthäus\n    </a>\n   </td>\n   <td>\n    German, active c. 1500\n   </td>\n  </tr>\n  <tr valign=\"top\">\n   <td>\n    <a href=\"/web/20121007172955/https://www.nga.gov/cgi-bin/tsearch?artistid=3450\">\n     Zajac, Jack\n    </a>\n   </td>\n   <td>\n    American, born 1929\n   </td>\n  </tr>\n  <tr valign=\"top\">\n   <td>\n    <a href=\"/web/20121007172955/https://www.nga.gov/cgi-bin/tsearch?artistid=1986\">\n     Zak, Eugène\n    </a>\n   </td>\n   <td>\n    Polish, 1884 - 1926\n   </td>\n  </tr>\n  <tr valign=\"top\">\n   <td>\n    <a href=\"/web/20121007172955/https://www.nga.gov/cgi-bin/tsearch?artistid=3451\">\n     Zakharov, Gurii Fillipovich\n    </a>\n   </td>\n   <td>\n    Russian, born 1926\n   </td>\n  </tr>\n  <tr valign=\"top\">\n   <td>\n    <a href=\"/web/20121007172955/https://www.nga.gov/cgi-bin/tsearch?artistid=20099\">\n     Zakowortny, Igor\n    </a>\n   </td>\n   <td>\n   </td>\n  </tr>\n  <tr valign=\"top\">\n   <td>\n    <a href=\"/web/20121007172955/https://www.nga.gov/cgi-bin/tsearch?artistid=3452\">\n     Zalce, Alfredo\n    </a>\n   </td>\n   <td>\n    Mexican, born 1908\n   </td>\n  </tr>\n  <tr valign=\"top\">\n   <td>\n    <a href=\"/web/20121007172955/https://www.nga.gov/cgi-bin/tsearch?artistid=34309\">\n     Zalopany, Michele\n    </a>\n   </td>\n   <td>\n    American, born 1955\n   </td>\n  </tr>\n  <tr valign=\"top\">\n   <td>\n    <a href=\"/web/20121007172955/https://www.nga.gov/cgi-bin/tsearch?artistid=27191\">\n     Zammiello, Craig\n    </a>\n   </td>\n   <td>\n   </td>\n  </tr>\n  <tr valign=\"top\">\n   <td>\n    <a href=\"/web/20121007172955/https://www.nga.gov/cgi-bin/tsearch?artistid=5846\">\n     Zammitt, Norman\n    </a>\n   </td>\n   <td>\n    American, born 1931\n   </td>\n  </tr>\n  <tr valign=\"top\">\n   <td>\n    <a href=\"/web/20121007172955/https://www.nga.gov/cgi-bin/tsearch?artistid=3941\">\n     Zampieri, Domenico\n    </a>\n   </td>\n   <td>\n    Italian, 1581 - 1641\n   </td>\n  </tr>\n  <tr valign=\"top\">\n   <td>\n    <a href=\"/web/20121007172955/https://www.nga.gov/cgi-bin/tsearch?artistid=3941\">\n     Zampieri, called Domenichino, Domenico\n    </a>\n   </td>\n   <td>\n    Italian, 1581 - 1641\n   </td>\n  </tr>\n  <tr valign=\"top\">\n   <td>\n    <a href=\"/web/20121007172955/https://www.nga.gov/cgi-bin/tsearch?artistid=3453\">\n     Zanartú, Enrique Antunez\n    </a>\n   </td>\n   <td>\n    Chilean, born 1921\n   </td>\n  </tr>\n  <tr valign=\"top\">\n   <td>\n    <a href=\"/web/20121007172955/https://www.nga.gov/cgi-bin/tsearch?artistid=35173\">\n     Zanchi, Antonio\n    </a>\n   </td>\n   <td>\n    Italian, 1631 - 1722\n   </td>\n  </tr>\n  <tr valign=\"top\">\n   <td>\n    <a href=\"/web/20121007172955/https://www.nga.gov/cgi-bin/tsearch?artistid=11133\">\n     Zanetti, Anton Maria\n    </a>\n   </td>\n   <td>\n    Italian, 1679/1680 - 1767\n   </td>\n  </tr>\n  <tr valign=\"top\">\n   <td>\n    <a href=\"/web/20121007172955/https://www.nga.gov/cgi-bin/tsearch?artistid=3455\">\n     Zanetti Borzino, Leopoldina\n    </a>\n   </td>\n   <td>\n    Italian, 1826 - 1902\n   </td>\n  </tr>\n  <tr valign=\"top\">\n   <td>\n    <a href=\"/web/20121007172955/https://www.nga.gov/cgi-bin/tsearch?artistid=3454\">\n     Zanetti I, Antonio Maria, conte\n    </a>\n   </td>\n   <td>\n    Italian, 1680 - 1757\n   </td>\n  </tr>\n  <tr valign=\"top\">\n   <td>\n    <a href=\"/web/20121007172955/https://www.nga.gov/cgi-bin/tsearch?artistid=961\">\n     Zanguidi, Jacopo\n    </a>\n   </td>\n   <td>\n    Italian, 1544 - 1573/1574\n   </td>\n  </tr>\n  <tr valign=\"top\">\n   <td>\n    <a href=\"/web/20121007172955/https://www.nga.gov/cgi-bin/tsearch?artistid=11597\">\n     Zanini, Giuseppe\n    </a>\n   </td>\n   <td>\n    Italian, c. 1599 - 1631\n   </td>\n  </tr>\n  <tr valign=\"top\">\n   <td>\n    <a href=\"/web/20121007172955/https://www.nga.gov/cgi-bin/tsearch?artistid=11597\">\n     Zanini-Viola, Giuseppe\n    </a>\n   </td>\n   <td>\n    Italian, c. 1599 - 1631\n   </td>\n  </tr>\n  <tr valign=\"top\">\n   <td>\n    <a href=\"/web/20121007172955/https://www.nga.gov/cgi-bin/tsearch?artistid=11631\">\n     Zanotti, Giampietro\n    </a>\n   </td>\n   <td>\n    Italian, 1674 - 1765\n   </td>\n  </tr>\n  <tr valign=\"top\">\n   <td>\n    <a href=\"/web/20121007172955/https://www.nga.gov/cgi-bin/tsearch?artistid=3427\">\n     Zao Wou-Ki\n    </a>\n   </td>\n   <td>\n    French, born 1921\n   </td>\n  </tr>\n </table>\n <br/>\n <br/>\n <table class=\"AlphaNav\">\n  <tr>\n   <td>\n   </td>\n   <td align=\"center\">\n    Page 1 - Artists 1 thru 29 of 115\n    <br/>\n   </td>\n   <td>\n   </td>\n  </tr>\n  <tr>\n   <td>\n   </td>\n   <td align=\"center\">\n    ·\n    <b>\n     Zab-Zao\n    </b>\n    ·\n    <a href=\"/web/20121007172955/https://www.nga.gov/collection/anZ2.htm\">\n     Zas-Zie\n    </a>\n    <a href=\"/web/20121007172955/https://www.nga.gov/collection/anZ3.htm\">\n     Zie-Zor\n    </a>\n   </td>\n   <td align=\"center\">\n    »\n    <br/>\n    <a href=\"/web/20121007172955/https://www.nga.gov/collection/anZ4.htm\">\n     <strong>\n      next\n      <br>\n       page\n      </br>\n     </strong>\n    </a>\n   </td>\n  </tr>\n </table>\n <!-- InstanceEndEditable -->\n</div>\n"
     ]
    }
   ],
   "source": [
    "# Pull all text from the BodyText div\n",
    "artist_name_list = soup.find(class_='BodyText')\n",
    "show_html(artist_name_list)"
   ]
  },
  {
   "cell_type": "code",
   "execution_count": 8,
   "metadata": {
    "tags": []
   },
   "outputs": [
    {
     "output_type": "stream",
     "name": "stdout",
     "text": [
      "[\n<a href=\"/web/20121007172955/https://www.nga.gov/cgi-bin/tsearch?artistid=11630\">\n Zabaglia, Niccola\n</a>\n,\n<a href=\"/web/20121007172955/https://www.nga.gov/cgi-bin/tsearch?artistid=34202\">\n Zaccone, Fabian\n</a>\n,\n<a href=\"/web/20121007172955/https://www.nga.gov/cgi-bin/tsearch?artistid=3475\">\n Zadkine, Ossip\n</a>\n,\n<a href=\"/web/20121007172955/https://www.nga.gov/cgi-bin/tsearch?artistid=25135\">\n Zaech, Bernhard\n</a>\n,\n<a href=\"/web/20121007172955/https://www.nga.gov/cgi-bin/tsearch?artistid=2298\">\n Zagar, Jacob\n</a>\n,\n<a href=\"/web/20121007172955/https://www.nga.gov/cgi-bin/tsearch?artistid=23988\">\n Zagroba, Idalia\n</a>\n,\n<a href=\"/web/20121007172955/https://www.nga.gov/cgi-bin/tsearch?artistid=8232\">\n Zaidenberg, A.\n</a>\n,\n<a href=\"/web/20121007172955/https://www.nga.gov/cgi-bin/tsearch?artistid=34154\">\n Zaidenberg, Arthur\n</a>\n,\n<a href=\"/web/20121007172955/https://www.nga.gov/cgi-bin/tsearch?artistid=4910\">\n Zaisinger, Matthäus\n</a>\n,\n<a href=\"/web/20121007172955/https://www.nga.gov/cgi-bin/tsearch?artistid=3450\">\n Zajac, Jack\n</a>\n,\n<a href=\"/web/20121007172955/https://www.nga.gov/cgi-bin/tsearch?artistid=1986\">\n Zak, Eugène\n</a>\n,\n<a href=\"/web/20121007172955/https://www.nga.gov/cgi-bin/tsearch?artistid=3451\">\n Zakharov, Gurii Fillipovich\n</a>\n,\n<a href=\"/web/20121007172955/https://www.nga.gov/cgi-bin/tsearch?artistid=20099\">\n Zakowortny, Igor\n</a>\n,\n<a href=\"/web/20121007172955/https://www.nga.gov/cgi-bin/tsearch?artistid=3452\">\n Zalce, Alfredo\n</a>\n,\n<a href=\"/web/20121007172955/https://www.nga.gov/cgi-bin/tsearch?artistid=34309\">\n Zalopany, Michele\n</a>\n,\n<a href=\"/web/20121007172955/https://www.nga.gov/cgi-bin/tsearch?artistid=27191\">\n Zammiello, Craig\n</a>\n,\n<a href=\"/web/20121007172955/https://www.nga.gov/cgi-bin/tsearch?artistid=5846\">\n Zammitt, Norman\n</a>\n,\n<a href=\"/web/20121007172955/https://www.nga.gov/cgi-bin/tsearch?artistid=3941\">\n Zampieri, Domenico\n</a>\n,\n<a href=\"/web/20121007172955/https://www.nga.gov/cgi-bin/tsearch?artistid=3941\">\n Zampieri, called Domenichino, Domenico\n</a>\n,\n<a href=\"/web/20121007172955/https://www.nga.gov/cgi-bin/tsearch?artistid=3453\">\n Zanartú, Enrique Antunez\n</a>\n,\n<a href=\"/web/20121007172955/https://www.nga.gov/cgi-bin/tsearch?artistid=35173\">\n Zanchi, Antonio\n</a>\n,\n<a href=\"/web/20121007172955/https://www.nga.gov/cgi-bin/tsearch?artistid=11133\">\n Zanetti, Anton Maria\n</a>\n,\n<a href=\"/web/20121007172955/https://www.nga.gov/cgi-bin/tsearch?artistid=3455\">\n Zanetti Borzino, Leopoldina\n</a>\n,\n<a href=\"/web/20121007172955/https://www.nga.gov/cgi-bin/tsearch?artistid=3454\">\n Zanetti I, Antonio Maria, conte\n</a>\n,\n<a href=\"/web/20121007172955/https://www.nga.gov/cgi-bin/tsearch?artistid=961\">\n Zanguidi, Jacopo\n</a>\n,\n<a href=\"/web/20121007172955/https://www.nga.gov/cgi-bin/tsearch?artistid=11597\">\n Zanini, Giuseppe\n</a>\n,\n<a href=\"/web/20121007172955/https://www.nga.gov/cgi-bin/tsearch?artistid=11597\">\n Zanini-Viola, Giuseppe\n</a>\n,\n<a href=\"/web/20121007172955/https://www.nga.gov/cgi-bin/tsearch?artistid=11631\">\n Zanotti, Giampietro\n</a>\n,\n<a href=\"/web/20121007172955/https://www.nga.gov/cgi-bin/tsearch?artistid=3427\">\n Zao Wou-Ki\n</a>\n,\n<a href=\"/web/20121007172955/https://www.nga.gov/collection/anZ2.htm\">\n Zas-Zie\n</a>\n,\n<a href=\"/web/20121007172955/https://www.nga.gov/collection/anZ3.htm\">\n Zie-Zor\n</a>\n,\n<a href=\"/web/20121007172955/https://www.nga.gov/collection/anZ4.htm\">\n <strong>\n  next\n  <br/>\n  page\n </strong>\n</a>\n]\n\n"
     ]
    }
   ],
   "source": [
    "# Pull text from all instances of <a> tag within BodyText div\n",
    "artist_name_list_items = artist_name_list.find_all('a')\n",
    "show_html(artist_name_list_items)"
   ]
  },
  {
   "cell_type": "code",
   "execution_count": 9,
   "metadata": {
    "tags": []
   },
   "outputs": [
    {
     "output_type": "stream",
     "name": "stdout",
     "text": [
      "<a href=\"/web/20121007172955/https://www.nga.gov/cgi-bin/tsearch?artistid=11630\">Zabaglia, Niccola</a>\n<a href=\"/web/20121007172955/https://www.nga.gov/cgi-bin/tsearch?artistid=34202\">Zaccone, Fabian</a>\n<a href=\"/web/20121007172955/https://www.nga.gov/cgi-bin/tsearch?artistid=3475\">Zadkine, Ossip</a>\n<a href=\"/web/20121007172955/https://www.nga.gov/cgi-bin/tsearch?artistid=25135\">Zaech, Bernhard</a>\n<a href=\"/web/20121007172955/https://www.nga.gov/cgi-bin/tsearch?artistid=2298\">Zagar, Jacob</a>\n<a href=\"/web/20121007172955/https://www.nga.gov/cgi-bin/tsearch?artistid=23988\">Zagroba, Idalia</a>\n<a href=\"/web/20121007172955/https://www.nga.gov/cgi-bin/tsearch?artistid=8232\">Zaidenberg, A.</a>\n<a href=\"/web/20121007172955/https://www.nga.gov/cgi-bin/tsearch?artistid=34154\">Zaidenberg, Arthur</a>\n<a href=\"/web/20121007172955/https://www.nga.gov/cgi-bin/tsearch?artistid=4910\">Zaisinger, Matthäus</a>\n<a href=\"/web/20121007172955/https://www.nga.gov/cgi-bin/tsearch?artistid=3450\">Zajac, Jack</a>\n<a href=\"/web/20121007172955/https://www.nga.gov/cgi-bin/tsearch?artistid=1986\">Zak, Eugène</a>\n<a href=\"/web/20121007172955/https://www.nga.gov/cgi-bin/tsearch?artistid=3451\">Zakharov, Gurii Fillipovich</a>\n<a href=\"/web/20121007172955/https://www.nga.gov/cgi-bin/tsearch?artistid=20099\">Zakowortny, Igor</a>\n<a href=\"/web/20121007172955/https://www.nga.gov/cgi-bin/tsearch?artistid=3452\">Zalce, Alfredo</a>\n<a href=\"/web/20121007172955/https://www.nga.gov/cgi-bin/tsearch?artistid=34309\">Zalopany, Michele</a>\n<a href=\"/web/20121007172955/https://www.nga.gov/cgi-bin/tsearch?artistid=27191\">Zammiello, Craig</a>\n<a href=\"/web/20121007172955/https://www.nga.gov/cgi-bin/tsearch?artistid=5846\">Zammitt, Norman</a>\n<a href=\"/web/20121007172955/https://www.nga.gov/cgi-bin/tsearch?artistid=3941\">Zampieri, Domenico</a>\n<a href=\"/web/20121007172955/https://www.nga.gov/cgi-bin/tsearch?artistid=3941\">Zampieri, called Domenichino, Domenico</a>\n<a href=\"/web/20121007172955/https://www.nga.gov/cgi-bin/tsearch?artistid=3453\">Zanartú, Enrique Antunez</a>\n<a href=\"/web/20121007172955/https://www.nga.gov/cgi-bin/tsearch?artistid=35173\">Zanchi, Antonio</a>\n<a href=\"/web/20121007172955/https://www.nga.gov/cgi-bin/tsearch?artistid=11133\">Zanetti, Anton Maria</a>\n<a href=\"/web/20121007172955/https://www.nga.gov/cgi-bin/tsearch?artistid=3455\">Zanetti Borzino, Leopoldina</a>\n<a href=\"/web/20121007172955/https://www.nga.gov/cgi-bin/tsearch?artistid=3454\">Zanetti I, Antonio Maria, conte</a>\n<a href=\"/web/20121007172955/https://www.nga.gov/cgi-bin/tsearch?artistid=961\">Zanguidi, Jacopo</a>\n<a href=\"/web/20121007172955/https://www.nga.gov/cgi-bin/tsearch?artistid=11597\">Zanini, Giuseppe</a>\n<a href=\"/web/20121007172955/https://www.nga.gov/cgi-bin/tsearch?artistid=11597\">Zanini-Viola, Giuseppe</a>\n<a href=\"/web/20121007172955/https://www.nga.gov/cgi-bin/tsearch?artistid=11631\">Zanotti, Giampietro</a>\n<a href=\"/web/20121007172955/https://www.nga.gov/cgi-bin/tsearch?artistid=3427\">Zao Wou-Ki</a>\n<a href=\"/web/20121007172955/https://www.nga.gov/collection/anZ2.htm\">Zas-Zie</a>\n<a href=\"/web/20121007172955/https://www.nga.gov/collection/anZ3.htm\">Zie-Zor</a>\n<a href=\"/web/20121007172955/https://www.nga.gov/collection/anZ4.htm\"><strong>next<br/>page</strong></a>\n"
     ]
    }
   ],
   "source": [
    "# Create for loop to print out all artists\n",
    "for artist_name in artist_name_list_items:\n",
    "    print(artist_name)"
   ]
  },
  {
   "cell_type": "code",
   "execution_count": 10,
   "metadata": {
    "tags": []
   },
   "outputs": [
    {
     "output_type": "stream",
     "name": "stdout",
     "text": [
      "Zabaglia, Niccola\nZaccone, Fabian\nZadkine, Ossip\nZaech, Bernhard\nZagar, Jacob\nZagroba, Idalia\nZaidenberg, A.\nZaidenberg, Arthur\nZaisinger, Matthäus\nZajac, Jack\nZak, Eugène\nZakharov, Gurii Fillipovich\nZakowortny, Igor\nZalce, Alfredo\nZalopany, Michele\nZammiello, Craig\nZammitt, Norman\nZampieri, Domenico\nZampieri, called Domenichino, Domenico\nZanartú, Enrique Antunez\nZanchi, Antonio\nZanetti, Anton Maria\nZanetti Borzino, Leopoldina\nZanetti I, Antonio Maria, conte\nZanguidi, Jacopo\nZanini, Giuseppe\nZanini-Viola, Giuseppe\nZanotti, Giampietro\nZao Wou-Ki\nZas-Zie\nZie-Zor\n<strong>next<br/>page</strong>\n"
     ]
    }
   ],
   "source": [
    "artist_names = []\n",
    "\n",
    "# Create for loop to print out all artists' names\n",
    "for artist_name in artist_name_list_items:\n",
    "    names = artist_name.contents[0]\n",
    "    print(names)\n",
    "    artist_names.append(names)"
   ]
  },
  {
   "cell_type": "code",
   "execution_count": 11,
   "metadata": {
    "tags": []
   },
   "outputs": [
    {
     "output_type": "stream",
     "name": "stdout",
     "text": [
      "/web/20121007172955/https://www.nga.gov/cgi-bin/tsearch?artistid=11630\n/web/20121007172955/https://www.nga.gov/cgi-bin/tsearch?artistid=34202\n/web/20121007172955/https://www.nga.gov/cgi-bin/tsearch?artistid=3475\n/web/20121007172955/https://www.nga.gov/cgi-bin/tsearch?artistid=25135\n/web/20121007172955/https://www.nga.gov/cgi-bin/tsearch?artistid=2298\n/web/20121007172955/https://www.nga.gov/cgi-bin/tsearch?artistid=23988\n/web/20121007172955/https://www.nga.gov/cgi-bin/tsearch?artistid=8232\n/web/20121007172955/https://www.nga.gov/cgi-bin/tsearch?artistid=34154\n/web/20121007172955/https://www.nga.gov/cgi-bin/tsearch?artistid=4910\n/web/20121007172955/https://www.nga.gov/cgi-bin/tsearch?artistid=3450\n/web/20121007172955/https://www.nga.gov/cgi-bin/tsearch?artistid=1986\n/web/20121007172955/https://www.nga.gov/cgi-bin/tsearch?artistid=3451\n/web/20121007172955/https://www.nga.gov/cgi-bin/tsearch?artistid=20099\n/web/20121007172955/https://www.nga.gov/cgi-bin/tsearch?artistid=3452\n/web/20121007172955/https://www.nga.gov/cgi-bin/tsearch?artistid=34309\n/web/20121007172955/https://www.nga.gov/cgi-bin/tsearch?artistid=27191\n/web/20121007172955/https://www.nga.gov/cgi-bin/tsearch?artistid=5846\n/web/20121007172955/https://www.nga.gov/cgi-bin/tsearch?artistid=3941\n/web/20121007172955/https://www.nga.gov/cgi-bin/tsearch?artistid=3941\n/web/20121007172955/https://www.nga.gov/cgi-bin/tsearch?artistid=3453\n/web/20121007172955/https://www.nga.gov/cgi-bin/tsearch?artistid=35173\n/web/20121007172955/https://www.nga.gov/cgi-bin/tsearch?artistid=11133\n/web/20121007172955/https://www.nga.gov/cgi-bin/tsearch?artistid=3455\n/web/20121007172955/https://www.nga.gov/cgi-bin/tsearch?artistid=3454\n/web/20121007172955/https://www.nga.gov/cgi-bin/tsearch?artistid=961\n/web/20121007172955/https://www.nga.gov/cgi-bin/tsearch?artistid=11597\n/web/20121007172955/https://www.nga.gov/cgi-bin/tsearch?artistid=11597\n/web/20121007172955/https://www.nga.gov/cgi-bin/tsearch?artistid=11631\n/web/20121007172955/https://www.nga.gov/cgi-bin/tsearch?artistid=3427\n/web/20121007172955/https://www.nga.gov/collection/anZ2.htm\n/web/20121007172955/https://www.nga.gov/collection/anZ3.htm\n/web/20121007172955/https://www.nga.gov/collection/anZ4.htm\n"
     ]
    }
   ],
   "source": [
    "# Create for loop to print out all artists' links\n",
    "for artist_name in artist_name_list_items:\n",
    "    link = artist_name.get('href')\n",
    "    print(link)"
   ]
  },
  {
   "cell_type": "code",
   "execution_count": 12,
   "metadata": {
    "tags": []
   },
   "outputs": [
    {
     "output_type": "stream",
     "name": "stdout",
     "text": [
      "https://web.archive.org/web/20121007172955/https://www.nga.gov/cgi-bin/tsearch?artistid=11630\nhttps://web.archive.org/web/20121007172955/https://www.nga.gov/cgi-bin/tsearch?artistid=34202\nhttps://web.archive.org/web/20121007172955/https://www.nga.gov/cgi-bin/tsearch?artistid=3475\nhttps://web.archive.org/web/20121007172955/https://www.nga.gov/cgi-bin/tsearch?artistid=25135\nhttps://web.archive.org/web/20121007172955/https://www.nga.gov/cgi-bin/tsearch?artistid=2298\nhttps://web.archive.org/web/20121007172955/https://www.nga.gov/cgi-bin/tsearch?artistid=23988\nhttps://web.archive.org/web/20121007172955/https://www.nga.gov/cgi-bin/tsearch?artistid=8232\nhttps://web.archive.org/web/20121007172955/https://www.nga.gov/cgi-bin/tsearch?artistid=34154\nhttps://web.archive.org/web/20121007172955/https://www.nga.gov/cgi-bin/tsearch?artistid=4910\nhttps://web.archive.org/web/20121007172955/https://www.nga.gov/cgi-bin/tsearch?artistid=3450\nhttps://web.archive.org/web/20121007172955/https://www.nga.gov/cgi-bin/tsearch?artistid=1986\nhttps://web.archive.org/web/20121007172955/https://www.nga.gov/cgi-bin/tsearch?artistid=3451\nhttps://web.archive.org/web/20121007172955/https://www.nga.gov/cgi-bin/tsearch?artistid=20099\nhttps://web.archive.org/web/20121007172955/https://www.nga.gov/cgi-bin/tsearch?artistid=3452\nhttps://web.archive.org/web/20121007172955/https://www.nga.gov/cgi-bin/tsearch?artistid=34309\nhttps://web.archive.org/web/20121007172955/https://www.nga.gov/cgi-bin/tsearch?artistid=27191\nhttps://web.archive.org/web/20121007172955/https://www.nga.gov/cgi-bin/tsearch?artistid=5846\nhttps://web.archive.org/web/20121007172955/https://www.nga.gov/cgi-bin/tsearch?artistid=3941\nhttps://web.archive.org/web/20121007172955/https://www.nga.gov/cgi-bin/tsearch?artistid=3941\nhttps://web.archive.org/web/20121007172955/https://www.nga.gov/cgi-bin/tsearch?artistid=3453\nhttps://web.archive.org/web/20121007172955/https://www.nga.gov/cgi-bin/tsearch?artistid=35173\nhttps://web.archive.org/web/20121007172955/https://www.nga.gov/cgi-bin/tsearch?artistid=11133\nhttps://web.archive.org/web/20121007172955/https://www.nga.gov/cgi-bin/tsearch?artistid=3455\nhttps://web.archive.org/web/20121007172955/https://www.nga.gov/cgi-bin/tsearch?artistid=3454\nhttps://web.archive.org/web/20121007172955/https://www.nga.gov/cgi-bin/tsearch?artistid=961\nhttps://web.archive.org/web/20121007172955/https://www.nga.gov/cgi-bin/tsearch?artistid=11597\nhttps://web.archive.org/web/20121007172955/https://www.nga.gov/cgi-bin/tsearch?artistid=11597\nhttps://web.archive.org/web/20121007172955/https://www.nga.gov/cgi-bin/tsearch?artistid=11631\nhttps://web.archive.org/web/20121007172955/https://www.nga.gov/cgi-bin/tsearch?artistid=3427\nhttps://web.archive.org/web/20121007172955/https://www.nga.gov/collection/anZ2.htm\nhttps://web.archive.org/web/20121007172955/https://www.nga.gov/collection/anZ3.htm\nhttps://web.archive.org/web/20121007172955/https://www.nga.gov/collection/anZ4.htm\n"
     ]
    }
   ],
   "source": [
    "links = []\n",
    "\n",
    "# Create for loop to print out all artists' links well\n",
    "for artist_name in artist_name_list_items:\n",
    "    link = 'https://web.archive.org' + artist_name.get('href')\n",
    "    print(link)\n",
    "    links.append(link)\n"
   ]
  },
  {
   "cell_type": "code",
   "execution_count": 13,
   "metadata": {},
   "outputs": [
    {
     "output_type": "execute_result",
     "data": {
      "text/plain": [
       "{'Zabaglia, Niccola': 'https://web.archive.org/web/20121007172955/https://www.nga.gov/cgi-bin/tsearch?artistid=11630',\n",
       " 'Zaccone, Fabian': 'https://web.archive.org/web/20121007172955/https://www.nga.gov/cgi-bin/tsearch?artistid=34202',\n",
       " 'Zadkine, Ossip': 'https://web.archive.org/web/20121007172955/https://www.nga.gov/cgi-bin/tsearch?artistid=3475',\n",
       " 'Zaech, Bernhard': 'https://web.archive.org/web/20121007172955/https://www.nga.gov/cgi-bin/tsearch?artistid=25135',\n",
       " 'Zagar, Jacob': 'https://web.archive.org/web/20121007172955/https://www.nga.gov/cgi-bin/tsearch?artistid=2298',\n",
       " 'Zagroba, Idalia': 'https://web.archive.org/web/20121007172955/https://www.nga.gov/cgi-bin/tsearch?artistid=23988',\n",
       " 'Zaidenberg, A.': 'https://web.archive.org/web/20121007172955/https://www.nga.gov/cgi-bin/tsearch?artistid=8232',\n",
       " 'Zaidenberg, Arthur': 'https://web.archive.org/web/20121007172955/https://www.nga.gov/cgi-bin/tsearch?artistid=34154',\n",
       " 'Zaisinger, Matthäus': 'https://web.archive.org/web/20121007172955/https://www.nga.gov/cgi-bin/tsearch?artistid=4910',\n",
       " 'Zajac, Jack': 'https://web.archive.org/web/20121007172955/https://www.nga.gov/cgi-bin/tsearch?artistid=3450',\n",
       " 'Zak, Eugène': 'https://web.archive.org/web/20121007172955/https://www.nga.gov/cgi-bin/tsearch?artistid=1986',\n",
       " 'Zakharov, Gurii Fillipovich': 'https://web.archive.org/web/20121007172955/https://www.nga.gov/cgi-bin/tsearch?artistid=3451',\n",
       " 'Zakowortny, Igor': 'https://web.archive.org/web/20121007172955/https://www.nga.gov/cgi-bin/tsearch?artistid=20099',\n",
       " 'Zalce, Alfredo': 'https://web.archive.org/web/20121007172955/https://www.nga.gov/cgi-bin/tsearch?artistid=3452',\n",
       " 'Zalopany, Michele': 'https://web.archive.org/web/20121007172955/https://www.nga.gov/cgi-bin/tsearch?artistid=34309',\n",
       " 'Zammiello, Craig': 'https://web.archive.org/web/20121007172955/https://www.nga.gov/cgi-bin/tsearch?artistid=27191',\n",
       " 'Zammitt, Norman': 'https://web.archive.org/web/20121007172955/https://www.nga.gov/cgi-bin/tsearch?artistid=5846',\n",
       " 'Zampieri, Domenico': 'https://web.archive.org/web/20121007172955/https://www.nga.gov/cgi-bin/tsearch?artistid=3941',\n",
       " 'Zampieri, called Domenichino, Domenico': 'https://web.archive.org/web/20121007172955/https://www.nga.gov/cgi-bin/tsearch?artistid=3941',\n",
       " 'Zanartú, Enrique Antunez': 'https://web.archive.org/web/20121007172955/https://www.nga.gov/cgi-bin/tsearch?artistid=3453',\n",
       " 'Zanchi, Antonio': 'https://web.archive.org/web/20121007172955/https://www.nga.gov/cgi-bin/tsearch?artistid=35173',\n",
       " 'Zanetti, Anton Maria': 'https://web.archive.org/web/20121007172955/https://www.nga.gov/cgi-bin/tsearch?artistid=11133',\n",
       " 'Zanetti Borzino, Leopoldina': 'https://web.archive.org/web/20121007172955/https://www.nga.gov/cgi-bin/tsearch?artistid=3455',\n",
       " 'Zanetti I, Antonio Maria, conte': 'https://web.archive.org/web/20121007172955/https://www.nga.gov/cgi-bin/tsearch?artistid=3454',\n",
       " 'Zanguidi, Jacopo': 'https://web.archive.org/web/20121007172955/https://www.nga.gov/cgi-bin/tsearch?artistid=961',\n",
       " 'Zanini, Giuseppe': 'https://web.archive.org/web/20121007172955/https://www.nga.gov/cgi-bin/tsearch?artistid=11597',\n",
       " 'Zanini-Viola, Giuseppe': 'https://web.archive.org/web/20121007172955/https://www.nga.gov/cgi-bin/tsearch?artistid=11597',\n",
       " 'Zanotti, Giampietro': 'https://web.archive.org/web/20121007172955/https://www.nga.gov/cgi-bin/tsearch?artistid=11631',\n",
       " 'Zao Wou-Ki': 'https://web.archive.org/web/20121007172955/https://www.nga.gov/cgi-bin/tsearch?artistid=3427',\n",
       " 'Zas-Zie': 'https://web.archive.org/web/20121007172955/https://www.nga.gov/collection/anZ2.htm',\n",
       " 'Zie-Zor': 'https://web.archive.org/web/20121007172955/https://www.nga.gov/collection/anZ3.htm',\n",
       " <strong>next<br/>page</strong>: 'https://web.archive.org/web/20121007172955/https://www.nga.gov/collection/anZ4.htm'}"
      ]
     },
     "metadata": {},
     "execution_count": 13
    }
   ],
   "source": [
    "# Convertir a dict? \n",
    "\n",
    "artist_names_links = dict(zip(artist_names, links))\n",
    "artist_names_links"
   ]
  },
  {
   "cell_type": "code",
   "execution_count": 14,
   "metadata": {},
   "outputs": [
    {
     "output_type": "execute_result",
     "data": {
      "text/plain": [
       "                                      name  \\\n",
       "0                        Zabaglia, Niccola   \n",
       "1                          Zaccone, Fabian   \n",
       "2                           Zadkine, Ossip   \n",
       "3                          Zaech, Bernhard   \n",
       "4                             Zagar, Jacob   \n",
       "5                          Zagroba, Idalia   \n",
       "6                           Zaidenberg, A.   \n",
       "7                       Zaidenberg, Arthur   \n",
       "8                      Zaisinger, Matthäus   \n",
       "9                              Zajac, Jack   \n",
       "10                             Zak, Eugène   \n",
       "11             Zakharov, Gurii Fillipovich   \n",
       "12                        Zakowortny, Igor   \n",
       "13                          Zalce, Alfredo   \n",
       "14                       Zalopany, Michele   \n",
       "15                        Zammiello, Craig   \n",
       "16                         Zammitt, Norman   \n",
       "17                      Zampieri, Domenico   \n",
       "18  Zampieri, called Domenichino, Domenico   \n",
       "19                Zanartú, Enrique Antunez   \n",
       "20                         Zanchi, Antonio   \n",
       "21                    Zanetti, Anton Maria   \n",
       "22             Zanetti Borzino, Leopoldina   \n",
       "23         Zanetti I, Antonio Maria, conte   \n",
       "24                        Zanguidi, Jacopo   \n",
       "25                        Zanini, Giuseppe   \n",
       "26                  Zanini-Viola, Giuseppe   \n",
       "27                     Zanotti, Giampietro   \n",
       "28                              Zao Wou-Ki   \n",
       "29                                 Zas-Zie   \n",
       "30                                 Zie-Zor   \n",
       "31                        [next, [], page]   \n",
       "\n",
       "                                                 link  \n",
       "0   https://web.archive.org/web/20121007172955/htt...  \n",
       "1   https://web.archive.org/web/20121007172955/htt...  \n",
       "2   https://web.archive.org/web/20121007172955/htt...  \n",
       "3   https://web.archive.org/web/20121007172955/htt...  \n",
       "4   https://web.archive.org/web/20121007172955/htt...  \n",
       "5   https://web.archive.org/web/20121007172955/htt...  \n",
       "6   https://web.archive.org/web/20121007172955/htt...  \n",
       "7   https://web.archive.org/web/20121007172955/htt...  \n",
       "8   https://web.archive.org/web/20121007172955/htt...  \n",
       "9   https://web.archive.org/web/20121007172955/htt...  \n",
       "10  https://web.archive.org/web/20121007172955/htt...  \n",
       "11  https://web.archive.org/web/20121007172955/htt...  \n",
       "12  https://web.archive.org/web/20121007172955/htt...  \n",
       "13  https://web.archive.org/web/20121007172955/htt...  \n",
       "14  https://web.archive.org/web/20121007172955/htt...  \n",
       "15  https://web.archive.org/web/20121007172955/htt...  \n",
       "16  https://web.archive.org/web/20121007172955/htt...  \n",
       "17  https://web.archive.org/web/20121007172955/htt...  \n",
       "18  https://web.archive.org/web/20121007172955/htt...  \n",
       "19  https://web.archive.org/web/20121007172955/htt...  \n",
       "20  https://web.archive.org/web/20121007172955/htt...  \n",
       "21  https://web.archive.org/web/20121007172955/htt...  \n",
       "22  https://web.archive.org/web/20121007172955/htt...  \n",
       "23  https://web.archive.org/web/20121007172955/htt...  \n",
       "24  https://web.archive.org/web/20121007172955/htt...  \n",
       "25  https://web.archive.org/web/20121007172955/htt...  \n",
       "26  https://web.archive.org/web/20121007172955/htt...  \n",
       "27  https://web.archive.org/web/20121007172955/htt...  \n",
       "28  https://web.archive.org/web/20121007172955/htt...  \n",
       "29  https://web.archive.org/web/20121007172955/htt...  \n",
       "30  https://web.archive.org/web/20121007172955/htt...  \n",
       "31  https://web.archive.org/web/20121007172955/htt...  "
      ],
      "text/html": "<div>\n<style scoped>\n    .dataframe tbody tr th:only-of-type {\n        vertical-align: middle;\n    }\n\n    .dataframe tbody tr th {\n        vertical-align: top;\n    }\n\n    .dataframe thead th {\n        text-align: right;\n    }\n</style>\n<table border=\"1\" class=\"dataframe\">\n  <thead>\n    <tr style=\"text-align: right;\">\n      <th></th>\n      <th>name</th>\n      <th>link</th>\n    </tr>\n  </thead>\n  <tbody>\n    <tr>\n      <th>0</th>\n      <td>Zabaglia, Niccola</td>\n      <td>https://web.archive.org/web/20121007172955/htt...</td>\n    </tr>\n    <tr>\n      <th>1</th>\n      <td>Zaccone, Fabian</td>\n      <td>https://web.archive.org/web/20121007172955/htt...</td>\n    </tr>\n    <tr>\n      <th>2</th>\n      <td>Zadkine, Ossip</td>\n      <td>https://web.archive.org/web/20121007172955/htt...</td>\n    </tr>\n    <tr>\n      <th>3</th>\n      <td>Zaech, Bernhard</td>\n      <td>https://web.archive.org/web/20121007172955/htt...</td>\n    </tr>\n    <tr>\n      <th>4</th>\n      <td>Zagar, Jacob</td>\n      <td>https://web.archive.org/web/20121007172955/htt...</td>\n    </tr>\n    <tr>\n      <th>5</th>\n      <td>Zagroba, Idalia</td>\n      <td>https://web.archive.org/web/20121007172955/htt...</td>\n    </tr>\n    <tr>\n      <th>6</th>\n      <td>Zaidenberg, A.</td>\n      <td>https://web.archive.org/web/20121007172955/htt...</td>\n    </tr>\n    <tr>\n      <th>7</th>\n      <td>Zaidenberg, Arthur</td>\n      <td>https://web.archive.org/web/20121007172955/htt...</td>\n    </tr>\n    <tr>\n      <th>8</th>\n      <td>Zaisinger, Matthäus</td>\n      <td>https://web.archive.org/web/20121007172955/htt...</td>\n    </tr>\n    <tr>\n      <th>9</th>\n      <td>Zajac, Jack</td>\n      <td>https://web.archive.org/web/20121007172955/htt...</td>\n    </tr>\n    <tr>\n      <th>10</th>\n      <td>Zak, Eugène</td>\n      <td>https://web.archive.org/web/20121007172955/htt...</td>\n    </tr>\n    <tr>\n      <th>11</th>\n      <td>Zakharov, Gurii Fillipovich</td>\n      <td>https://web.archive.org/web/20121007172955/htt...</td>\n    </tr>\n    <tr>\n      <th>12</th>\n      <td>Zakowortny, Igor</td>\n      <td>https://web.archive.org/web/20121007172955/htt...</td>\n    </tr>\n    <tr>\n      <th>13</th>\n      <td>Zalce, Alfredo</td>\n      <td>https://web.archive.org/web/20121007172955/htt...</td>\n    </tr>\n    <tr>\n      <th>14</th>\n      <td>Zalopany, Michele</td>\n      <td>https://web.archive.org/web/20121007172955/htt...</td>\n    </tr>\n    <tr>\n      <th>15</th>\n      <td>Zammiello, Craig</td>\n      <td>https://web.archive.org/web/20121007172955/htt...</td>\n    </tr>\n    <tr>\n      <th>16</th>\n      <td>Zammitt, Norman</td>\n      <td>https://web.archive.org/web/20121007172955/htt...</td>\n    </tr>\n    <tr>\n      <th>17</th>\n      <td>Zampieri, Domenico</td>\n      <td>https://web.archive.org/web/20121007172955/htt...</td>\n    </tr>\n    <tr>\n      <th>18</th>\n      <td>Zampieri, called Domenichino, Domenico</td>\n      <td>https://web.archive.org/web/20121007172955/htt...</td>\n    </tr>\n    <tr>\n      <th>19</th>\n      <td>Zanartú, Enrique Antunez</td>\n      <td>https://web.archive.org/web/20121007172955/htt...</td>\n    </tr>\n    <tr>\n      <th>20</th>\n      <td>Zanchi, Antonio</td>\n      <td>https://web.archive.org/web/20121007172955/htt...</td>\n    </tr>\n    <tr>\n      <th>21</th>\n      <td>Zanetti, Anton Maria</td>\n      <td>https://web.archive.org/web/20121007172955/htt...</td>\n    </tr>\n    <tr>\n      <th>22</th>\n      <td>Zanetti Borzino, Leopoldina</td>\n      <td>https://web.archive.org/web/20121007172955/htt...</td>\n    </tr>\n    <tr>\n      <th>23</th>\n      <td>Zanetti I, Antonio Maria, conte</td>\n      <td>https://web.archive.org/web/20121007172955/htt...</td>\n    </tr>\n    <tr>\n      <th>24</th>\n      <td>Zanguidi, Jacopo</td>\n      <td>https://web.archive.org/web/20121007172955/htt...</td>\n    </tr>\n    <tr>\n      <th>25</th>\n      <td>Zanini, Giuseppe</td>\n      <td>https://web.archive.org/web/20121007172955/htt...</td>\n    </tr>\n    <tr>\n      <th>26</th>\n      <td>Zanini-Viola, Giuseppe</td>\n      <td>https://web.archive.org/web/20121007172955/htt...</td>\n    </tr>\n    <tr>\n      <th>27</th>\n      <td>Zanotti, Giampietro</td>\n      <td>https://web.archive.org/web/20121007172955/htt...</td>\n    </tr>\n    <tr>\n      <th>28</th>\n      <td>Zao Wou-Ki</td>\n      <td>https://web.archive.org/web/20121007172955/htt...</td>\n    </tr>\n    <tr>\n      <th>29</th>\n      <td>Zas-Zie</td>\n      <td>https://web.archive.org/web/20121007172955/htt...</td>\n    </tr>\n    <tr>\n      <th>30</th>\n      <td>Zie-Zor</td>\n      <td>https://web.archive.org/web/20121007172955/htt...</td>\n    </tr>\n    <tr>\n      <th>31</th>\n      <td>[next, [], page]</td>\n      <td>https://web.archive.org/web/20121007172955/htt...</td>\n    </tr>\n  </tbody>\n</table>\n</div>"
     },
     "metadata": {},
     "execution_count": 14
    }
   ],
   "source": [
    "# Convertir a diccionario para trabajar con DataFrame?\n",
    "\n",
    "dict_df = {\"name\": artist_names, \"link\": links}\n",
    "df = pd.DataFrame(dict_df)\n",
    "df"
   ]
  },
  {
   "cell_type": "markdown",
   "metadata": {},
   "source": [
    "### Funny bonus"
   ]
  },
  {
   "cell_type": "code",
   "execution_count": 19,
   "metadata": {},
   "outputs": [
    {
     "output_type": "execute_result",
     "data": {
      "text/plain": [
       "True"
      ]
     },
     "metadata": {},
     "execution_count": 19
    }
   ],
   "source": [
    "import webbrowser\n",
    "\n",
    "webbrowser.open_new(\"www.google.es\")\n",
    "webbrowser.open_new_tab(\"www.google.es\")"
   ]
  },
  {
   "cell_type": "code",
   "execution_count": 18,
   "metadata": {},
   "outputs": [],
   "source": [
    "def mini_virus(urls):\n",
    "    for _ in urls:\n",
    "        webbrowser.open_new(_)"
   ]
  },
  {
   "cell_type": "code",
   "execution_count": null,
   "metadata": {},
   "outputs": [],
   "source": [
    "# :D \n",
    "mini_virus(urls=links)"
   ]
  },
  {
   "cell_type": "markdown",
   "metadata": {},
   "source": [
    "### Example wikipedia Links:\n",
    "\n",
    "**Create a list of links on that page**\n"
   ]
  },
  {
   "cell_type": "code",
   "execution_count": null,
   "metadata": {
    "tags": []
   },
   "outputs": [],
   "source": [
    "url ='https://en.wikipedia.org/wiki/Python'\n",
    "\n",
    "response = requests.get(url)\n",
    "soup = BeautifulSoup(response.content, \"html.parser\")\n",
    "show_html(soup)"
   ]
  },
  {
   "cell_type": "code",
   "execution_count": null,
   "metadata": {},
   "outputs": [],
   "source": [
    "# We get all \"a\"\n",
    "\n",
    "links = soup.findAll('a')\n",
    "links"
   ]
  },
  {
   "cell_type": "code",
   "execution_count": null,
   "metadata": {
    "tags": []
   },
   "outputs": [],
   "source": [
    "list_of_links = []\n",
    "for link in links:\n",
    "    href = link.get('href')\n",
    "    print(href)"
   ]
  },
  {
   "cell_type": "code",
   "execution_count": null,
   "metadata": {
    "tags": []
   },
   "outputs": [],
   "source": [
    "list_of_links = []\n",
    "for link in links:\n",
    "    href = link.get('href')\n",
    "    if href and href[:4] == \"http\":\n",
    "        print(href)\n",
    "        list_of_links.append(href)"
   ]
  },
  {
   "source": [
    "### Top ten criminals\n",
    "\n",
    "#### Get and save images locally"
   ],
   "cell_type": "markdown",
   "metadata": {}
  },
  {
   "cell_type": "code",
   "execution_count": null,
   "metadata": {},
   "outputs": [],
   "source": [
    "# List of images\n",
    "url = 'https://www.fbi.gov/wanted/topten'\n",
    "\n",
    "imgs = []\n",
    "\n",
    "res= requests.get(url)\n",
    "html=res.text\n",
    "soup = BeautifulSoup(html, \"html.parser\")\n",
    "fbi = soup.select('img')\n",
    "fbi"
   ]
  },
  {
   "cell_type": "code",
   "execution_count": null,
   "metadata": {},
   "outputs": [],
   "source": [
    "for x in fbi:\n",
    "    imgs.append(x.get(\"src\"))\n",
    "imgs"
   ]
  },
  {
   "cell_type": "markdown",
   "metadata": {},
   "source": [
    "### Little bonus\n"
   ]
  },
  {
   "cell_type": "code",
   "execution_count": null,
   "metadata": {
    "tags": []
   },
   "outputs": [],
   "source": [
    "for i, img_url in enumerate(imgs):\n",
    "    if not \"+\" in img_url:  # or http in img_url\n",
    "        response = requests.get(img_url)\n",
    "        if response.status_code == 200:  # Get OK\n",
    "            with open(str(i) + \".png\", 'wb') as f:\n",
    "                f.write(response.content)"
   ]
  }
 ],
 "metadata": {
  "language_info": {
   "codemirror_mode": {
    "name": "ipython",
    "version": 3
   },
   "file_extension": ".py",
   "mimetype": "text/x-python",
   "name": "python",
   "nbconvert_exporter": "python",
   "pygments_lexer": "ipython3",
   "version": "3.9.0-final"
  },
  "orig_nbformat": 2,
  "kernelspec": {
   "name": "python3",
   "display_name": "Python 3",
   "language": "python"
  }
 },
 "nbformat": 4,
 "nbformat_minor": 2
}
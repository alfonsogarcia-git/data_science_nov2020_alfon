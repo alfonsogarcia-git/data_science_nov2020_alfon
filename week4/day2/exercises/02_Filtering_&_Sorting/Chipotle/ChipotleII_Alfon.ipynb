{
 "cells": [
  {
   "cell_type": "markdown",
   "metadata": {},
   "source": [
    "# Ex1 - Filtering and Sorting Data"
   ]
  },
  {
   "cell_type": "markdown",
   "metadata": {},
   "source": [
    "### Step 1. Import the necessary libraries"
   ]
  },
  {
   "cell_type": "code",
   "execution_count": 18,
   "metadata": {
    "collapsed": false
   },
   "outputs": [],
   "source": [
    "import pandas as pd"
   ]
  },
  {
   "cell_type": "markdown",
   "metadata": {},
   "source": [
    "### Step 2. Import the dataset from this [address](https://raw.githubusercontent.com/justmarkham/DAT8/master/data/chipotle.tsv). "
   ]
  },
  {
   "cell_type": "code",
   "execution_count": 19,
   "metadata": {},
   "outputs": [],
   "source": [
    "df = pd.read_csv('https://raw.githubusercontent.com/justmarkham/DAT8/master/data/chipotle.tsv', delimiter = '\\t')"
   ]
  },
  {
   "cell_type": "markdown",
   "metadata": {},
   "source": [
    "### Step 3. Assign it to a variable called chipo."
   ]
  },
  {
   "cell_type": "code",
   "execution_count": 20,
   "metadata": {
    "collapsed": false
   },
   "outputs": [
    {
     "output_type": "execute_result",
     "data": {
      "text/plain": [
       "      order_id  quantity                              item_name  \\\n",
       "0            1         1           Chips and Fresh Tomato Salsa   \n",
       "1            1         1                                   Izze   \n",
       "2            1         1                       Nantucket Nectar   \n",
       "3            1         1  Chips and Tomatillo-Green Chili Salsa   \n",
       "4            2         2                           Chicken Bowl   \n",
       "...        ...       ...                                    ...   \n",
       "4617      1833         1                          Steak Burrito   \n",
       "4618      1833         1                          Steak Burrito   \n",
       "4619      1834         1                     Chicken Salad Bowl   \n",
       "4620      1834         1                     Chicken Salad Bowl   \n",
       "4621      1834         1                     Chicken Salad Bowl   \n",
       "\n",
       "                                     choice_description item_price  \n",
       "0                                                   NaN     $2.39   \n",
       "1                                          [Clementine]     $3.39   \n",
       "2                                               [Apple]     $3.39   \n",
       "3                                                   NaN     $2.39   \n",
       "4     [Tomatillo-Red Chili Salsa (Hot), [Black Beans...    $16.98   \n",
       "...                                                 ...        ...  \n",
       "4617  [Fresh Tomato Salsa, [Rice, Black Beans, Sour ...    $11.75   \n",
       "4618  [Fresh Tomato Salsa, [Rice, Sour Cream, Cheese...    $11.75   \n",
       "4619  [Fresh Tomato Salsa, [Fajita Vegetables, Pinto...    $11.25   \n",
       "4620  [Fresh Tomato Salsa, [Fajita Vegetables, Lettu...     $8.75   \n",
       "4621  [Fresh Tomato Salsa, [Fajita Vegetables, Pinto...     $8.75   \n",
       "\n",
       "[4622 rows x 5 columns]"
      ],
      "text/html": "<div>\n<style scoped>\n    .dataframe tbody tr th:only-of-type {\n        vertical-align: middle;\n    }\n\n    .dataframe tbody tr th {\n        vertical-align: top;\n    }\n\n    .dataframe thead th {\n        text-align: right;\n    }\n</style>\n<table border=\"1\" class=\"dataframe\">\n  <thead>\n    <tr style=\"text-align: right;\">\n      <th></th>\n      <th>order_id</th>\n      <th>quantity</th>\n      <th>item_name</th>\n      <th>choice_description</th>\n      <th>item_price</th>\n    </tr>\n  </thead>\n  <tbody>\n    <tr>\n      <th>0</th>\n      <td>1</td>\n      <td>1</td>\n      <td>Chips and Fresh Tomato Salsa</td>\n      <td>NaN</td>\n      <td>$2.39</td>\n    </tr>\n    <tr>\n      <th>1</th>\n      <td>1</td>\n      <td>1</td>\n      <td>Izze</td>\n      <td>[Clementine]</td>\n      <td>$3.39</td>\n    </tr>\n    <tr>\n      <th>2</th>\n      <td>1</td>\n      <td>1</td>\n      <td>Nantucket Nectar</td>\n      <td>[Apple]</td>\n      <td>$3.39</td>\n    </tr>\n    <tr>\n      <th>3</th>\n      <td>1</td>\n      <td>1</td>\n      <td>Chips and Tomatillo-Green Chili Salsa</td>\n      <td>NaN</td>\n      <td>$2.39</td>\n    </tr>\n    <tr>\n      <th>4</th>\n      <td>2</td>\n      <td>2</td>\n      <td>Chicken Bowl</td>\n      <td>[Tomatillo-Red Chili Salsa (Hot), [Black Beans...</td>\n      <td>$16.98</td>\n    </tr>\n    <tr>\n      <th>...</th>\n      <td>...</td>\n      <td>...</td>\n      <td>...</td>\n      <td>...</td>\n      <td>...</td>\n    </tr>\n    <tr>\n      <th>4617</th>\n      <td>1833</td>\n      <td>1</td>\n      <td>Steak Burrito</td>\n      <td>[Fresh Tomato Salsa, [Rice, Black Beans, Sour ...</td>\n      <td>$11.75</td>\n    </tr>\n    <tr>\n      <th>4618</th>\n      <td>1833</td>\n      <td>1</td>\n      <td>Steak Burrito</td>\n      <td>[Fresh Tomato Salsa, [Rice, Sour Cream, Cheese...</td>\n      <td>$11.75</td>\n    </tr>\n    <tr>\n      <th>4619</th>\n      <td>1834</td>\n      <td>1</td>\n      <td>Chicken Salad Bowl</td>\n      <td>[Fresh Tomato Salsa, [Fajita Vegetables, Pinto...</td>\n      <td>$11.25</td>\n    </tr>\n    <tr>\n      <th>4620</th>\n      <td>1834</td>\n      <td>1</td>\n      <td>Chicken Salad Bowl</td>\n      <td>[Fresh Tomato Salsa, [Fajita Vegetables, Lettu...</td>\n      <td>$8.75</td>\n    </tr>\n    <tr>\n      <th>4621</th>\n      <td>1834</td>\n      <td>1</td>\n      <td>Chicken Salad Bowl</td>\n      <td>[Fresh Tomato Salsa, [Fajita Vegetables, Pinto...</td>\n      <td>$8.75</td>\n    </tr>\n  </tbody>\n</table>\n<p>4622 rows × 5 columns</p>\n</div>"
     },
     "metadata": {},
     "execution_count": 20
    }
   ],
   "source": [
    "chipo = df\n",
    "chipo"
   ]
  },
  {
   "cell_type": "markdown",
   "metadata": {},
   "source": [
    "### Step 4. How many products cost more than $10.00?"
   ]
  },
  {
   "cell_type": "code",
   "execution_count": 21,
   "metadata": {},
   "outputs": [],
   "source": [
    "# clean the item_price column\n",
    "chipo['item_price'] = chipo['item_price'].str.lstrip('$')"
   ]
  },
  {
   "cell_type": "code",
   "execution_count": 34,
   "metadata": {
    "collapsed": false
   },
   "outputs": [
    {
     "output_type": "stream",
     "name": "stdout",
     "text": [
      "Total items that cost more than $10: 10\n"
     ]
    },
    {
     "output_type": "execute_result",
     "data": {
      "text/plain": [
       "      order_id  quantity              item_name  \\\n",
       "7            4         1          Steak Burrito   \n",
       "39          19         1          Barbacoa Bowl   \n",
       "57          26         1         Veggie Burrito   \n",
       "62          28         1            Veggie Bowl   \n",
       "168         75         1  Barbacoa Crispy Tacos   \n",
       "186         83         1      Veggie Salad Bowl   \n",
       "250        109         1          Chicken Salad   \n",
       "738        304         1      Veggie Soft Tacos   \n",
       "1132       468         1    Carnitas Salad Bowl   \n",
       "1229       501         1    Barbacoa Salad Bowl   \n",
       "\n",
       "                                     choice_description  item_price  \n",
       "7     [Tomatillo Red Chili Salsa, [Fajita Vegetables...       11.75  \n",
       "39    [Roasted Chili Corn Salsa, [Fajita Vegetables,...       11.75  \n",
       "57    [Tomatillo Red Chili Salsa, [Fajita Vegetables...       11.25  \n",
       "62    [Fresh Tomato Salsa, [Fajita Vegetables, Rice,...       11.25  \n",
       "168   [Tomatillo Red Chili Salsa, [Rice, Black Beans...       11.75  \n",
       "186   [Fresh Tomato Salsa, [Fajita Vegetables, Rice,...       11.25  \n",
       "250   [Roasted Chili Corn Salsa (Medium), [Black Bea...       10.98  \n",
       "738   [Tomatillo Red Chili Salsa, [Fajita Vegetables...       11.25  \n",
       "1132  [Fresh Tomato Salsa, [Rice, Black Beans, Chees...       11.89  \n",
       "1229  [Fresh Tomato Salsa, [Rice, Fajita Vegetables,...       11.89  "
      ],
      "text/html": "<div>\n<style scoped>\n    .dataframe tbody tr th:only-of-type {\n        vertical-align: middle;\n    }\n\n    .dataframe tbody tr th {\n        vertical-align: top;\n    }\n\n    .dataframe thead th {\n        text-align: right;\n    }\n</style>\n<table border=\"1\" class=\"dataframe\">\n  <thead>\n    <tr style=\"text-align: right;\">\n      <th></th>\n      <th>order_id</th>\n      <th>quantity</th>\n      <th>item_name</th>\n      <th>choice_description</th>\n      <th>item_price</th>\n    </tr>\n  </thead>\n  <tbody>\n    <tr>\n      <th>7</th>\n      <td>4</td>\n      <td>1</td>\n      <td>Steak Burrito</td>\n      <td>[Tomatillo Red Chili Salsa, [Fajita Vegetables...</td>\n      <td>11.75</td>\n    </tr>\n    <tr>\n      <th>39</th>\n      <td>19</td>\n      <td>1</td>\n      <td>Barbacoa Bowl</td>\n      <td>[Roasted Chili Corn Salsa, [Fajita Vegetables,...</td>\n      <td>11.75</td>\n    </tr>\n    <tr>\n      <th>57</th>\n      <td>26</td>\n      <td>1</td>\n      <td>Veggie Burrito</td>\n      <td>[Tomatillo Red Chili Salsa, [Fajita Vegetables...</td>\n      <td>11.25</td>\n    </tr>\n    <tr>\n      <th>62</th>\n      <td>28</td>\n      <td>1</td>\n      <td>Veggie Bowl</td>\n      <td>[Fresh Tomato Salsa, [Fajita Vegetables, Rice,...</td>\n      <td>11.25</td>\n    </tr>\n    <tr>\n      <th>168</th>\n      <td>75</td>\n      <td>1</td>\n      <td>Barbacoa Crispy Tacos</td>\n      <td>[Tomatillo Red Chili Salsa, [Rice, Black Beans...</td>\n      <td>11.75</td>\n    </tr>\n    <tr>\n      <th>186</th>\n      <td>83</td>\n      <td>1</td>\n      <td>Veggie Salad Bowl</td>\n      <td>[Fresh Tomato Salsa, [Fajita Vegetables, Rice,...</td>\n      <td>11.25</td>\n    </tr>\n    <tr>\n      <th>250</th>\n      <td>109</td>\n      <td>1</td>\n      <td>Chicken Salad</td>\n      <td>[Roasted Chili Corn Salsa (Medium), [Black Bea...</td>\n      <td>10.98</td>\n    </tr>\n    <tr>\n      <th>738</th>\n      <td>304</td>\n      <td>1</td>\n      <td>Veggie Soft Tacos</td>\n      <td>[Tomatillo Red Chili Salsa, [Fajita Vegetables...</td>\n      <td>11.25</td>\n    </tr>\n    <tr>\n      <th>1132</th>\n      <td>468</td>\n      <td>1</td>\n      <td>Carnitas Salad Bowl</td>\n      <td>[Fresh Tomato Salsa, [Rice, Black Beans, Chees...</td>\n      <td>11.89</td>\n    </tr>\n    <tr>\n      <th>1229</th>\n      <td>501</td>\n      <td>1</td>\n      <td>Barbacoa Salad Bowl</td>\n      <td>[Fresh Tomato Salsa, [Rice, Fajita Vegetables,...</td>\n      <td>11.89</td>\n    </tr>\n  </tbody>\n</table>\n</div>"
     },
     "metadata": {},
     "execution_count": 34
    }
   ],
   "source": [
    "# transform it in a float and reassign the column with the cleaned prices\n",
    "chipo['item_price'] = chipo['item_price'].astype('float64')\n",
    "\n",
    "# delete the duplicates in item_name and quantity\n",
    "chipo['item_name'] = chipo['item_name'].drop_duplicates()\n",
    "# select only the products with quantity equals to 1\n",
    "print('Total items that cost more than $10:', len(chipo[(chipo.quantity == 1) & (chipo.item_price > 10) & (chipo.item_name)]))\n",
    "chipo[(chipo.quantity == 1) & (chipo.item_price > 10) & (chipo.item_name)]\n"
   ]
  },
  {
   "cell_type": "markdown",
   "metadata": {},
   "source": [
    "### Step 5. What is the price of each item? \n",
    "###### print a data frame with only two columns item_name and item_price"
   ]
  },
  {
   "cell_type": "code",
   "execution_count": 56,
   "metadata": {
    "collapsed": false
   },
   "outputs": [
    {
     "output_type": "execute_result",
     "data": {
      "text/plain": [
       "                                  item_name  item_price\n",
       "1229                    Barbacoa Salad Bowl       11.89\n",
       "1132                    Carnitas Salad Bowl       11.89\n",
       "39                            Barbacoa Bowl       11.75\n",
       "7                             Steak Burrito       11.75\n",
       "168                   Barbacoa Crispy Tacos       11.75\n",
       "186                       Veggie Salad Bowl       11.25\n",
       "738                       Veggie Soft Tacos       11.25\n",
       "57                           Veggie Burrito       11.25\n",
       "62                              Veggie Bowl       11.25\n",
       "250                           Chicken Salad       10.98\n",
       "56                      Barbacoa Soft Tacos        9.25\n",
       "92                       Steak Crispy Tacos        9.25\n",
       "237                     Carnitas Soft Tacos        9.25\n",
       "8                          Steak Soft Tacos        9.25\n",
       "554                   Carnitas Crispy Tacos        9.25\n",
       "54                               Steak Bowl        8.99\n",
       "664                             Steak Salad        8.99\n",
       "3750                         Carnitas Salad        8.99\n",
       "33                            Carnitas Bowl        8.99\n",
       "27                         Carnitas Burrito        8.99\n",
       "21                         Barbacoa Burrito        8.99\n",
       "44                       Chicken Salad Bowl        8.75\n",
       "12                       Chicken Soft Tacos        8.75\n",
       "11                     Chicken Crispy Tacos        8.75\n",
       "1694                           Veggie Salad        8.49\n",
       "1653                    Veggie Crispy Tacos        8.49\n",
       "16                          Chicken Burrito        8.49\n",
       "1414                                  Salad        7.40\n",
       "520                            Crispy Tacos        7.40\n",
       "510                                 Burrito        7.40\n",
       "298                       6 Pack Soft Drink        6.49\n",
       "10                      Chips and Guacamole        4.45\n",
       "2                          Nantucket Nectar        3.39\n",
       "1                                      Izze        3.39\n",
       "674       Chips and Mild Fresh Tomato Salsa        3.00\n",
       "233      Chips and Roasted Chili Corn Salsa        2.95\n",
       "111     Chips and Tomatillo Red Chili Salsa        2.95\n",
       "38    Chips and Tomatillo Green Chili Salsa        2.95\n",
       "300     Chips and Tomatillo-Red Chili Salsa        2.39\n",
       "191      Chips and Roasted Chili-Corn Salsa        2.39\n",
       "3     Chips and Tomatillo-Green Chili Salsa        2.39\n",
       "0              Chips and Fresh Tomato Salsa        2.39\n",
       "40                                    Chips        2.15\n",
       "6                             Side of Chips        1.69\n",
       "263                       Canned Soft Drink        1.25\n",
       "34                            Bottled Water        1.09"
      ],
      "text/html": "<div>\n<style scoped>\n    .dataframe tbody tr th:only-of-type {\n        vertical-align: middle;\n    }\n\n    .dataframe tbody tr th {\n        vertical-align: top;\n    }\n\n    .dataframe thead th {\n        text-align: right;\n    }\n</style>\n<table border=\"1\" class=\"dataframe\">\n  <thead>\n    <tr style=\"text-align: right;\">\n      <th></th>\n      <th>item_name</th>\n      <th>item_price</th>\n    </tr>\n  </thead>\n  <tbody>\n    <tr>\n      <th>1229</th>\n      <td>Barbacoa Salad Bowl</td>\n      <td>11.89</td>\n    </tr>\n    <tr>\n      <th>1132</th>\n      <td>Carnitas Salad Bowl</td>\n      <td>11.89</td>\n    </tr>\n    <tr>\n      <th>39</th>\n      <td>Barbacoa Bowl</td>\n      <td>11.75</td>\n    </tr>\n    <tr>\n      <th>7</th>\n      <td>Steak Burrito</td>\n      <td>11.75</td>\n    </tr>\n    <tr>\n      <th>168</th>\n      <td>Barbacoa Crispy Tacos</td>\n      <td>11.75</td>\n    </tr>\n    <tr>\n      <th>186</th>\n      <td>Veggie Salad Bowl</td>\n      <td>11.25</td>\n    </tr>\n    <tr>\n      <th>738</th>\n      <td>Veggie Soft Tacos</td>\n      <td>11.25</td>\n    </tr>\n    <tr>\n      <th>57</th>\n      <td>Veggie Burrito</td>\n      <td>11.25</td>\n    </tr>\n    <tr>\n      <th>62</th>\n      <td>Veggie Bowl</td>\n      <td>11.25</td>\n    </tr>\n    <tr>\n      <th>250</th>\n      <td>Chicken Salad</td>\n      <td>10.98</td>\n    </tr>\n    <tr>\n      <th>56</th>\n      <td>Barbacoa Soft Tacos</td>\n      <td>9.25</td>\n    </tr>\n    <tr>\n      <th>92</th>\n      <td>Steak Crispy Tacos</td>\n      <td>9.25</td>\n    </tr>\n    <tr>\n      <th>237</th>\n      <td>Carnitas Soft Tacos</td>\n      <td>9.25</td>\n    </tr>\n    <tr>\n      <th>8</th>\n      <td>Steak Soft Tacos</td>\n      <td>9.25</td>\n    </tr>\n    <tr>\n      <th>554</th>\n      <td>Carnitas Crispy Tacos</td>\n      <td>9.25</td>\n    </tr>\n    <tr>\n      <th>54</th>\n      <td>Steak Bowl</td>\n      <td>8.99</td>\n    </tr>\n    <tr>\n      <th>664</th>\n      <td>Steak Salad</td>\n      <td>8.99</td>\n    </tr>\n    <tr>\n      <th>3750</th>\n      <td>Carnitas Salad</td>\n      <td>8.99</td>\n    </tr>\n    <tr>\n      <th>33</th>\n      <td>Carnitas Bowl</td>\n      <td>8.99</td>\n    </tr>\n    <tr>\n      <th>27</th>\n      <td>Carnitas Burrito</td>\n      <td>8.99</td>\n    </tr>\n    <tr>\n      <th>21</th>\n      <td>Barbacoa Burrito</td>\n      <td>8.99</td>\n    </tr>\n    <tr>\n      <th>44</th>\n      <td>Chicken Salad Bowl</td>\n      <td>8.75</td>\n    </tr>\n    <tr>\n      <th>12</th>\n      <td>Chicken Soft Tacos</td>\n      <td>8.75</td>\n    </tr>\n    <tr>\n      <th>11</th>\n      <td>Chicken Crispy Tacos</td>\n      <td>8.75</td>\n    </tr>\n    <tr>\n      <th>1694</th>\n      <td>Veggie Salad</td>\n      <td>8.49</td>\n    </tr>\n    <tr>\n      <th>1653</th>\n      <td>Veggie Crispy Tacos</td>\n      <td>8.49</td>\n    </tr>\n    <tr>\n      <th>16</th>\n      <td>Chicken Burrito</td>\n      <td>8.49</td>\n    </tr>\n    <tr>\n      <th>1414</th>\n      <td>Salad</td>\n      <td>7.40</td>\n    </tr>\n    <tr>\n      <th>520</th>\n      <td>Crispy Tacos</td>\n      <td>7.40</td>\n    </tr>\n    <tr>\n      <th>510</th>\n      <td>Burrito</td>\n      <td>7.40</td>\n    </tr>\n    <tr>\n      <th>298</th>\n      <td>6 Pack Soft Drink</td>\n      <td>6.49</td>\n    </tr>\n    <tr>\n      <th>10</th>\n      <td>Chips and Guacamole</td>\n      <td>4.45</td>\n    </tr>\n    <tr>\n      <th>2</th>\n      <td>Nantucket Nectar</td>\n      <td>3.39</td>\n    </tr>\n    <tr>\n      <th>1</th>\n      <td>Izze</td>\n      <td>3.39</td>\n    </tr>\n    <tr>\n      <th>674</th>\n      <td>Chips and Mild Fresh Tomato Salsa</td>\n      <td>3.00</td>\n    </tr>\n    <tr>\n      <th>233</th>\n      <td>Chips and Roasted Chili Corn Salsa</td>\n      <td>2.95</td>\n    </tr>\n    <tr>\n      <th>111</th>\n      <td>Chips and Tomatillo Red Chili Salsa</td>\n      <td>2.95</td>\n    </tr>\n    <tr>\n      <th>38</th>\n      <td>Chips and Tomatillo Green Chili Salsa</td>\n      <td>2.95</td>\n    </tr>\n    <tr>\n      <th>300</th>\n      <td>Chips and Tomatillo-Red Chili Salsa</td>\n      <td>2.39</td>\n    </tr>\n    <tr>\n      <th>191</th>\n      <td>Chips and Roasted Chili-Corn Salsa</td>\n      <td>2.39</td>\n    </tr>\n    <tr>\n      <th>3</th>\n      <td>Chips and Tomatillo-Green Chili Salsa</td>\n      <td>2.39</td>\n    </tr>\n    <tr>\n      <th>0</th>\n      <td>Chips and Fresh Tomato Salsa</td>\n      <td>2.39</td>\n    </tr>\n    <tr>\n      <th>40</th>\n      <td>Chips</td>\n      <td>2.15</td>\n    </tr>\n    <tr>\n      <th>6</th>\n      <td>Side of Chips</td>\n      <td>1.69</td>\n    </tr>\n    <tr>\n      <th>263</th>\n      <td>Canned Soft Drink</td>\n      <td>1.25</td>\n    </tr>\n    <tr>\n      <th>34</th>\n      <td>Bottled Water</td>\n      <td>1.09</td>\n    </tr>\n  </tbody>\n</table>\n</div>"
     },
     "metadata": {},
     "execution_count": 56
    }
   ],
   "source": [
    "# delete the duplicates in item_name and quantity\n",
    "\n",
    "### Done in step 4\n",
    "\n",
    "# select only the products with quantity equals to 1\n",
    "\n",
    "\n",
    "# select only the item_name and item_price columns\n",
    "\n",
    "\n",
    "# sort the values from the most to less expensive\n",
    "chipo[['item_name', 'item_price']][(chipo.quantity == 1) & (chipo.item_name)].sort_values('item_price', ascending = False)"
   ]
  },
  {
   "cell_type": "markdown",
   "metadata": {},
   "source": [
    "### Step 6. Sort by the name of the item"
   ]
  },
  {
   "cell_type": "code",
   "execution_count": 59,
   "metadata": {
    "collapsed": false
   },
   "outputs": [
    {
     "output_type": "execute_result",
     "data": {
      "text/plain": [
       "      order_id  quantity              item_name  \\\n",
       "298        129         1      6 Pack Soft Drink   \n",
       "39          19         1          Barbacoa Bowl   \n",
       "21          11         1       Barbacoa Burrito   \n",
       "168         75         1  Barbacoa Crispy Tacos   \n",
       "1229       501         1    Barbacoa Salad Bowl   \n",
       "...        ...       ...                    ...   \n",
       "4617      1833         1                    NaN   \n",
       "4618      1833         1                    NaN   \n",
       "4619      1834         1                    NaN   \n",
       "4620      1834         1                    NaN   \n",
       "4621      1834         1                    NaN   \n",
       "\n",
       "                                     choice_description  item_price  \n",
       "298                                            [Sprite]        6.49  \n",
       "39    [Roasted Chili Corn Salsa, [Fajita Vegetables,...       11.75  \n",
       "21    [[Fresh Tomato Salsa (Mild), Tomatillo-Green C...        8.99  \n",
       "168   [Tomatillo Red Chili Salsa, [Rice, Black Beans...       11.75  \n",
       "1229  [Fresh Tomato Salsa, [Rice, Fajita Vegetables,...       11.89  \n",
       "...                                                 ...         ...  \n",
       "4617  [Fresh Tomato Salsa, [Rice, Black Beans, Sour ...       11.75  \n",
       "4618  [Fresh Tomato Salsa, [Rice, Sour Cream, Cheese...       11.75  \n",
       "4619  [Fresh Tomato Salsa, [Fajita Vegetables, Pinto...       11.25  \n",
       "4620  [Fresh Tomato Salsa, [Fajita Vegetables, Lettu...        8.75  \n",
       "4621  [Fresh Tomato Salsa, [Fajita Vegetables, Pinto...        8.75  \n",
       "\n",
       "[4622 rows x 5 columns]"
      ],
      "text/html": "<div>\n<style scoped>\n    .dataframe tbody tr th:only-of-type {\n        vertical-align: middle;\n    }\n\n    .dataframe tbody tr th {\n        vertical-align: top;\n    }\n\n    .dataframe thead th {\n        text-align: right;\n    }\n</style>\n<table border=\"1\" class=\"dataframe\">\n  <thead>\n    <tr style=\"text-align: right;\">\n      <th></th>\n      <th>order_id</th>\n      <th>quantity</th>\n      <th>item_name</th>\n      <th>choice_description</th>\n      <th>item_price</th>\n    </tr>\n  </thead>\n  <tbody>\n    <tr>\n      <th>298</th>\n      <td>129</td>\n      <td>1</td>\n      <td>6 Pack Soft Drink</td>\n      <td>[Sprite]</td>\n      <td>6.49</td>\n    </tr>\n    <tr>\n      <th>39</th>\n      <td>19</td>\n      <td>1</td>\n      <td>Barbacoa Bowl</td>\n      <td>[Roasted Chili Corn Salsa, [Fajita Vegetables,...</td>\n      <td>11.75</td>\n    </tr>\n    <tr>\n      <th>21</th>\n      <td>11</td>\n      <td>1</td>\n      <td>Barbacoa Burrito</td>\n      <td>[[Fresh Tomato Salsa (Mild), Tomatillo-Green C...</td>\n      <td>8.99</td>\n    </tr>\n    <tr>\n      <th>168</th>\n      <td>75</td>\n      <td>1</td>\n      <td>Barbacoa Crispy Tacos</td>\n      <td>[Tomatillo Red Chili Salsa, [Rice, Black Beans...</td>\n      <td>11.75</td>\n    </tr>\n    <tr>\n      <th>1229</th>\n      <td>501</td>\n      <td>1</td>\n      <td>Barbacoa Salad Bowl</td>\n      <td>[Fresh Tomato Salsa, [Rice, Fajita Vegetables,...</td>\n      <td>11.89</td>\n    </tr>\n    <tr>\n      <th>...</th>\n      <td>...</td>\n      <td>...</td>\n      <td>...</td>\n      <td>...</td>\n      <td>...</td>\n    </tr>\n    <tr>\n      <th>4617</th>\n      <td>1833</td>\n      <td>1</td>\n      <td>NaN</td>\n      <td>[Fresh Tomato Salsa, [Rice, Black Beans, Sour ...</td>\n      <td>11.75</td>\n    </tr>\n    <tr>\n      <th>4618</th>\n      <td>1833</td>\n      <td>1</td>\n      <td>NaN</td>\n      <td>[Fresh Tomato Salsa, [Rice, Sour Cream, Cheese...</td>\n      <td>11.75</td>\n    </tr>\n    <tr>\n      <th>4619</th>\n      <td>1834</td>\n      <td>1</td>\n      <td>NaN</td>\n      <td>[Fresh Tomato Salsa, [Fajita Vegetables, Pinto...</td>\n      <td>11.25</td>\n    </tr>\n    <tr>\n      <th>4620</th>\n      <td>1834</td>\n      <td>1</td>\n      <td>NaN</td>\n      <td>[Fresh Tomato Salsa, [Fajita Vegetables, Lettu...</td>\n      <td>8.75</td>\n    </tr>\n    <tr>\n      <th>4621</th>\n      <td>1834</td>\n      <td>1</td>\n      <td>NaN</td>\n      <td>[Fresh Tomato Salsa, [Fajita Vegetables, Pinto...</td>\n      <td>8.75</td>\n    </tr>\n  </tbody>\n</table>\n<p>4622 rows × 5 columns</p>\n</div>"
     },
     "metadata": {},
     "execution_count": 59
    }
   ],
   "source": [
    "chipo.sort_values('item_name')\n",
    "# OR"
   ]
  },
  {
   "cell_type": "markdown",
   "metadata": {},
   "source": [
    "### Step 7. What was the quantity of the most expensive item ordered?"
   ]
  },
  {
   "cell_type": "code",
   "execution_count": 63,
   "metadata": {},
   "outputs": [
    {
     "output_type": "execute_result",
     "data": {
      "text/plain": [
       "      order_id  quantity item_name choice_description  item_price\n",
       "3598      1443        15       NaN                NaN       44.25"
      ],
      "text/html": "<div>\n<style scoped>\n    .dataframe tbody tr th:only-of-type {\n        vertical-align: middle;\n    }\n\n    .dataframe tbody tr th {\n        vertical-align: top;\n    }\n\n    .dataframe thead th {\n        text-align: right;\n    }\n</style>\n<table border=\"1\" class=\"dataframe\">\n  <thead>\n    <tr style=\"text-align: right;\">\n      <th></th>\n      <th>order_id</th>\n      <th>quantity</th>\n      <th>item_name</th>\n      <th>choice_description</th>\n      <th>item_price</th>\n    </tr>\n  </thead>\n  <tbody>\n    <tr>\n      <th>3598</th>\n      <td>1443</td>\n      <td>15</td>\n      <td>NaN</td>\n      <td>NaN</td>\n      <td>44.25</td>\n    </tr>\n  </tbody>\n</table>\n</div>"
     },
     "metadata": {},
     "execution_count": 63
    }
   ],
   "source": [
    "chipo.sort_values('item_price', ascending = False).head(1)\n",
    "# 15 times"
   ]
  },
  {
   "cell_type": "code",
   "execution_count": 26,
   "metadata": {
    "collapsed": false
   },
   "outputs": [
    {
     "data": {
      "text/html": [
       "<div>\n",
       "<table border=\"1\" class=\"dataframe\">\n",
       "  <thead>\n",
       "    <tr style=\"text-align: right;\">\n",
       "      <th></th>\n",
       "      <th>order_id</th>\n",
       "      <th>quantity</th>\n",
       "      <th>item_name</th>\n",
       "      <th>choice_description</th>\n",
       "      <th>item_price</th>\n",
       "    </tr>\n",
       "  </thead>\n",
       "  <tbody>\n",
       "    <tr>\n",
       "      <th>3598</th>\n",
       "      <td>1443</td>\n",
       "      <td>15</td>\n",
       "      <td>Chips and Fresh Tomato Salsa</td>\n",
       "      <td>NaN</td>\n",
       "      <td>44.25</td>\n",
       "    </tr>\n",
       "  </tbody>\n",
       "</table>\n",
       "</div>"
      ],
      "text/plain": [
       "      order_id  quantity                     item_name choice_description  \\\n",
       "3598      1443        15  Chips and Fresh Tomato Salsa                NaN   \n",
       "\n",
       "      item_price  \n",
       "3598       44.25  "
      ]
     },
     "execution_count": 26,
     "metadata": {},
     "output_type": "execute_result"
    }
   ],
   "source": []
  },
  {
   "cell_type": "markdown",
   "metadata": {},
   "source": [
    "### Step 8. How many times was a Veggie Salad Bowl ordered?"
   ]
  },
  {
   "cell_type": "code",
   "execution_count": 66,
   "metadata": {},
   "outputs": [
    {
     "output_type": "execute_result",
     "data": {
      "text/plain": [
       "      order_id  quantity          item_name  \\\n",
       "186         83         1  Veggie Salad Bowl   \n",
       "295        128         1  Veggie Salad Bowl   \n",
       "455        195         1  Veggie Salad Bowl   \n",
       "496        207         1  Veggie Salad Bowl   \n",
       "960        394         1  Veggie Salad Bowl   \n",
       "1316       536         1  Veggie Salad Bowl   \n",
       "1884       760         1  Veggie Salad Bowl   \n",
       "2156       869         1  Veggie Salad Bowl   \n",
       "2223       896         1  Veggie Salad Bowl   \n",
       "2269       913         1  Veggie Salad Bowl   \n",
       "2683      1066         1  Veggie Salad Bowl   \n",
       "3223      1289         1  Veggie Salad Bowl   \n",
       "3293      1321         1  Veggie Salad Bowl   \n",
       "4109      1646         1  Veggie Salad Bowl   \n",
       "4201      1677         1  Veggie Salad Bowl   \n",
       "4261      1700         1  Veggie Salad Bowl   \n",
       "4541      1805         1  Veggie Salad Bowl   \n",
       "4573      1818         1  Veggie Salad Bowl   \n",
       "\n",
       "                                     choice_description item_price  \n",
       "186   [Fresh Tomato Salsa, [Fajita Vegetables, Rice,...    $11.25   \n",
       "295   [Fresh Tomato Salsa, [Fajita Vegetables, Lettu...    $11.25   \n",
       "455   [Fresh Tomato Salsa, [Fajita Vegetables, Rice,...    $11.25   \n",
       "496   [Fresh Tomato Salsa, [Rice, Lettuce, Guacamole...    $11.25   \n",
       "960   [Fresh Tomato Salsa, [Fajita Vegetables, Lettu...     $8.75   \n",
       "1316  [Fresh Tomato Salsa, [Fajita Vegetables, Rice,...     $8.75   \n",
       "1884  [Fresh Tomato Salsa, [Fajita Vegetables, Rice,...    $11.25   \n",
       "2156  [Tomatillo Red Chili Salsa, [Fajita Vegetables...    $11.25   \n",
       "2223      [Roasted Chili Corn Salsa, Fajita Vegetables]     $8.75   \n",
       "2269  [Fresh Tomato Salsa, [Fajita Vegetables, Rice,...     $8.75   \n",
       "2683  [Roasted Chili Corn Salsa, [Fajita Vegetables,...     $8.75   \n",
       "3223  [Tomatillo Red Chili Salsa, [Fajita Vegetables...    $11.25   \n",
       "3293  [Fresh Tomato Salsa, [Rice, Black Beans, Chees...     $8.75   \n",
       "4109  [Tomatillo Red Chili Salsa, [Fajita Vegetables...    $11.25   \n",
       "4201  [Fresh Tomato Salsa, [Fajita Vegetables, Black...    $11.25   \n",
       "4261  [Fresh Tomato Salsa, [Fajita Vegetables, Rice,...    $11.25   \n",
       "4541  [Tomatillo Green Chili Salsa, [Fajita Vegetabl...     $8.75   \n",
       "4573  [Fresh Tomato Salsa, [Fajita Vegetables, Pinto...     $8.75   "
      ],
      "text/html": "<div>\n<style scoped>\n    .dataframe tbody tr th:only-of-type {\n        vertical-align: middle;\n    }\n\n    .dataframe tbody tr th {\n        vertical-align: top;\n    }\n\n    .dataframe thead th {\n        text-align: right;\n    }\n</style>\n<table border=\"1\" class=\"dataframe\">\n  <thead>\n    <tr style=\"text-align: right;\">\n      <th></th>\n      <th>order_id</th>\n      <th>quantity</th>\n      <th>item_name</th>\n      <th>choice_description</th>\n      <th>item_price</th>\n    </tr>\n  </thead>\n  <tbody>\n    <tr>\n      <th>186</th>\n      <td>83</td>\n      <td>1</td>\n      <td>Veggie Salad Bowl</td>\n      <td>[Fresh Tomato Salsa, [Fajita Vegetables, Rice,...</td>\n      <td>$11.25</td>\n    </tr>\n    <tr>\n      <th>295</th>\n      <td>128</td>\n      <td>1</td>\n      <td>Veggie Salad Bowl</td>\n      <td>[Fresh Tomato Salsa, [Fajita Vegetables, Lettu...</td>\n      <td>$11.25</td>\n    </tr>\n    <tr>\n      <th>455</th>\n      <td>195</td>\n      <td>1</td>\n      <td>Veggie Salad Bowl</td>\n      <td>[Fresh Tomato Salsa, [Fajita Vegetables, Rice,...</td>\n      <td>$11.25</td>\n    </tr>\n    <tr>\n      <th>496</th>\n      <td>207</td>\n      <td>1</td>\n      <td>Veggie Salad Bowl</td>\n      <td>[Fresh Tomato Salsa, [Rice, Lettuce, Guacamole...</td>\n      <td>$11.25</td>\n    </tr>\n    <tr>\n      <th>960</th>\n      <td>394</td>\n      <td>1</td>\n      <td>Veggie Salad Bowl</td>\n      <td>[Fresh Tomato Salsa, [Fajita Vegetables, Lettu...</td>\n      <td>$8.75</td>\n    </tr>\n    <tr>\n      <th>1316</th>\n      <td>536</td>\n      <td>1</td>\n      <td>Veggie Salad Bowl</td>\n      <td>[Fresh Tomato Salsa, [Fajita Vegetables, Rice,...</td>\n      <td>$8.75</td>\n    </tr>\n    <tr>\n      <th>1884</th>\n      <td>760</td>\n      <td>1</td>\n      <td>Veggie Salad Bowl</td>\n      <td>[Fresh Tomato Salsa, [Fajita Vegetables, Rice,...</td>\n      <td>$11.25</td>\n    </tr>\n    <tr>\n      <th>2156</th>\n      <td>869</td>\n      <td>1</td>\n      <td>Veggie Salad Bowl</td>\n      <td>[Tomatillo Red Chili Salsa, [Fajita Vegetables...</td>\n      <td>$11.25</td>\n    </tr>\n    <tr>\n      <th>2223</th>\n      <td>896</td>\n      <td>1</td>\n      <td>Veggie Salad Bowl</td>\n      <td>[Roasted Chili Corn Salsa, Fajita Vegetables]</td>\n      <td>$8.75</td>\n    </tr>\n    <tr>\n      <th>2269</th>\n      <td>913</td>\n      <td>1</td>\n      <td>Veggie Salad Bowl</td>\n      <td>[Fresh Tomato Salsa, [Fajita Vegetables, Rice,...</td>\n      <td>$8.75</td>\n    </tr>\n    <tr>\n      <th>2683</th>\n      <td>1066</td>\n      <td>1</td>\n      <td>Veggie Salad Bowl</td>\n      <td>[Roasted Chili Corn Salsa, [Fajita Vegetables,...</td>\n      <td>$8.75</td>\n    </tr>\n    <tr>\n      <th>3223</th>\n      <td>1289</td>\n      <td>1</td>\n      <td>Veggie Salad Bowl</td>\n      <td>[Tomatillo Red Chili Salsa, [Fajita Vegetables...</td>\n      <td>$11.25</td>\n    </tr>\n    <tr>\n      <th>3293</th>\n      <td>1321</td>\n      <td>1</td>\n      <td>Veggie Salad Bowl</td>\n      <td>[Fresh Tomato Salsa, [Rice, Black Beans, Chees...</td>\n      <td>$8.75</td>\n    </tr>\n    <tr>\n      <th>4109</th>\n      <td>1646</td>\n      <td>1</td>\n      <td>Veggie Salad Bowl</td>\n      <td>[Tomatillo Red Chili Salsa, [Fajita Vegetables...</td>\n      <td>$11.25</td>\n    </tr>\n    <tr>\n      <th>4201</th>\n      <td>1677</td>\n      <td>1</td>\n      <td>Veggie Salad Bowl</td>\n      <td>[Fresh Tomato Salsa, [Fajita Vegetables, Black...</td>\n      <td>$11.25</td>\n    </tr>\n    <tr>\n      <th>4261</th>\n      <td>1700</td>\n      <td>1</td>\n      <td>Veggie Salad Bowl</td>\n      <td>[Fresh Tomato Salsa, [Fajita Vegetables, Rice,...</td>\n      <td>$11.25</td>\n    </tr>\n    <tr>\n      <th>4541</th>\n      <td>1805</td>\n      <td>1</td>\n      <td>Veggie Salad Bowl</td>\n      <td>[Tomatillo Green Chili Salsa, [Fajita Vegetabl...</td>\n      <td>$8.75</td>\n    </tr>\n    <tr>\n      <th>4573</th>\n      <td>1818</td>\n      <td>1</td>\n      <td>Veggie Salad Bowl</td>\n      <td>[Fresh Tomato Salsa, [Fajita Vegetables, Pinto...</td>\n      <td>$8.75</td>\n    </tr>\n  </tbody>\n</table>\n</div>"
     },
     "metadata": {},
     "execution_count": 66
    }
   ],
   "source": [
    "# Reestablezco chipo que antes le he quitado los duplicados\n",
    "df = pd.read_csv('https://raw.githubusercontent.com/justmarkham/DAT8/master/data/chipotle.tsv', delimiter = '\\t')\n",
    "chipo = df\n",
    "chipo[chipo.item_name == 'Veggie Salad Bowl']"
   ]
  },
  {
   "cell_type": "code",
   "execution_count": 67,
   "metadata": {},
   "outputs": [
    {
     "output_type": "execute_result",
     "data": {
      "text/plain": [
       "18"
      ]
     },
     "metadata": {},
     "execution_count": 67
    }
   ],
   "source": [
    "len(chipo[chipo.item_name == 'Veggie Salad Bowl'])"
   ]
  },
  {
   "cell_type": "code",
   "execution_count": 27,
   "metadata": {
    "collapsed": false
   },
   "outputs": [
    {
     "data": {
      "text/plain": [
       "18"
      ]
     },
     "execution_count": 27,
     "metadata": {},
     "output_type": "execute_result"
    }
   ],
   "source": []
  },
  {
   "cell_type": "markdown",
   "metadata": {},
   "source": [
    "### Step 9. How many times did someone order more than one Canned Soda?"
   ]
  },
  {
   "cell_type": "code",
   "execution_count": 76,
   "metadata": {},
   "outputs": [
    {
     "output_type": "execute_result",
     "data": {
      "text/plain": [
       "      order_id  quantity          item_name choice_description item_price\n",
       "298        129         1  6 Pack Soft Drink           [Sprite]     $6.49 \n",
       "341        148         1  6 Pack Soft Drink        [Diet Coke]     $6.49 \n",
       "357        154         1  6 Pack Soft Drink             [Coke]     $6.49 \n",
       "388        168         1  6 Pack Soft Drink        [Diet Coke]     $6.49 \n",
       "417        182         1  6 Pack Soft Drink        [Diet Coke]     $6.49 \n",
       "553        230         1  6 Pack Soft Drink        [Diet Coke]     $6.49 \n",
       "639        264         1  6 Pack Soft Drink        [Diet Coke]     $6.49 \n",
       "721        298         1  6 Pack Soft Drink           [Nestea]     $6.49 \n",
       "743        306         1  6 Pack Soft Drink             [Coke]     $6.49 \n",
       "879        363         1  6 Pack Soft Drink             [Coke]     $6.49 \n",
       "1026       422         1  6 Pack Soft Drink           [Sprite]     $6.49 \n",
       "1051       432         1  6 Pack Soft Drink             [Coke]     $6.49 \n",
       "1124       465         1  6 Pack Soft Drink             [Coke]     $6.49 \n",
       "1167       481         1  6 Pack Soft Drink             [Coke]     $6.49 \n",
       "1260       511         1  6 Pack Soft Drink             [Coke]     $6.49 \n",
       "1279       520         1  6 Pack Soft Drink           [Sprite]     $6.49 \n",
       "1392       566         1  6 Pack Soft Drink        [Diet Coke]     $6.49 \n",
       "1755       708         1  6 Pack Soft Drink             [Coke]     $6.49 \n",
       "1758       709         1  6 Pack Soft Drink        [Diet Coke]     $6.49 \n",
       "1849       749         1  6 Pack Soft Drink             [Coke]     $6.49 \n",
       "1860       754         1  6 Pack Soft Drink        [Diet Coke]     $6.49 \n",
       "1916       774         1  6 Pack Soft Drink        [Diet Coke]     $6.49 \n",
       "1922       776         1  6 Pack Soft Drink             [Coke]     $6.49 \n",
       "1937       784         1  6 Pack Soft Drink        [Diet Coke]     $6.49 \n",
       "1976       798         1  6 Pack Soft Drink        [Diet Coke]     $6.49 \n",
       "2108       849         1  6 Pack Soft Drink             [Coke]     $6.49 \n",
       "2232       899         1  6 Pack Soft Drink             [Coke]     $6.49 \n",
       "2374       945         1  6 Pack Soft Drink           [Sprite]     $6.49 \n",
       "2389       949         1  6 Pack Soft Drink             [Coke]     $6.49 \n",
       "2713      1076         1  6 Pack Soft Drink             [Coke]     $6.49 \n",
       "2793      1109         1  6 Pack Soft Drink        [Diet Coke]     $6.49 \n",
       "2860      1136         1  6 Pack Soft Drink        [Diet Coke]     $6.49 \n",
       "3010      1196         1  6 Pack Soft Drink        [Diet Coke]     $6.49 \n",
       "3132      1248         1  6 Pack Soft Drink        [Diet Coke]     $6.49 \n",
       "3141      1253         1  6 Pack Soft Drink         [Lemonade]     $6.49 \n",
       "3389      1360         2  6 Pack Soft Drink        [Diet Coke]    $12.98 \n",
       "3422      1373         1  6 Pack Soft Drink             [Coke]     $6.49 \n",
       "3600      1443         1  6 Pack Soft Drink             [Coke]     $6.49 \n",
       "3614      1448         1  6 Pack Soft Drink           [Nestea]     $6.49 \n",
       "3633      1454         1  6 Pack Soft Drink             [Coke]     $6.49 \n",
       "3693      1480         1  6 Pack Soft Drink        [Diet Coke]     $6.49 \n",
       "3766      1508         1  6 Pack Soft Drink             [Coke]     $6.49 \n",
       "3789      1517         1  6 Pack Soft Drink        [Diet Coke]     $6.49 \n",
       "3806      1525         1  6 Pack Soft Drink           [Sprite]     $6.49 \n",
       "3836      1537         1  6 Pack Soft Drink             [Coke]     $6.49 \n",
       "3875      1554         1  6 Pack Soft Drink        [Diet Coke]     $6.49 \n",
       "3886      1558         1  6 Pack Soft Drink        [Diet Coke]     $6.49 \n",
       "4169      1664         1  6 Pack Soft Drink        [Diet Coke]     $6.49 \n",
       "4174      1666         1  6 Pack Soft Drink             [Coke]     $6.49 \n",
       "4359      1741         1  6 Pack Soft Drink             [Coke]     $6.49 \n",
       "4363      1742         1  6 Pack Soft Drink        [Diet Coke]     $6.49 \n",
       "4522      1798         1  6 Pack Soft Drink        [Diet Coke]     $6.49 \n",
       "4527      1800         1  6 Pack Soft Drink        [Diet Coke]     $6.49 \n",
       "4535      1803         1  6 Pack Soft Drink         [Lemonade]     $6.49 "
      ],
      "text/html": "<div>\n<style scoped>\n    .dataframe tbody tr th:only-of-type {\n        vertical-align: middle;\n    }\n\n    .dataframe tbody tr th {\n        vertical-align: top;\n    }\n\n    .dataframe thead th {\n        text-align: right;\n    }\n</style>\n<table border=\"1\" class=\"dataframe\">\n  <thead>\n    <tr style=\"text-align: right;\">\n      <th></th>\n      <th>order_id</th>\n      <th>quantity</th>\n      <th>item_name</th>\n      <th>choice_description</th>\n      <th>item_price</th>\n    </tr>\n  </thead>\n  <tbody>\n    <tr>\n      <th>298</th>\n      <td>129</td>\n      <td>1</td>\n      <td>6 Pack Soft Drink</td>\n      <td>[Sprite]</td>\n      <td>$6.49</td>\n    </tr>\n    <tr>\n      <th>341</th>\n      <td>148</td>\n      <td>1</td>\n      <td>6 Pack Soft Drink</td>\n      <td>[Diet Coke]</td>\n      <td>$6.49</td>\n    </tr>\n    <tr>\n      <th>357</th>\n      <td>154</td>\n      <td>1</td>\n      <td>6 Pack Soft Drink</td>\n      <td>[Coke]</td>\n      <td>$6.49</td>\n    </tr>\n    <tr>\n      <th>388</th>\n      <td>168</td>\n      <td>1</td>\n      <td>6 Pack Soft Drink</td>\n      <td>[Diet Coke]</td>\n      <td>$6.49</td>\n    </tr>\n    <tr>\n      <th>417</th>\n      <td>182</td>\n      <td>1</td>\n      <td>6 Pack Soft Drink</td>\n      <td>[Diet Coke]</td>\n      <td>$6.49</td>\n    </tr>\n    <tr>\n      <th>553</th>\n      <td>230</td>\n      <td>1</td>\n      <td>6 Pack Soft Drink</td>\n      <td>[Diet Coke]</td>\n      <td>$6.49</td>\n    </tr>\n    <tr>\n      <th>639</th>\n      <td>264</td>\n      <td>1</td>\n      <td>6 Pack Soft Drink</td>\n      <td>[Diet Coke]</td>\n      <td>$6.49</td>\n    </tr>\n    <tr>\n      <th>721</th>\n      <td>298</td>\n      <td>1</td>\n      <td>6 Pack Soft Drink</td>\n      <td>[Nestea]</td>\n      <td>$6.49</td>\n    </tr>\n    <tr>\n      <th>743</th>\n      <td>306</td>\n      <td>1</td>\n      <td>6 Pack Soft Drink</td>\n      <td>[Coke]</td>\n      <td>$6.49</td>\n    </tr>\n    <tr>\n      <th>879</th>\n      <td>363</td>\n      <td>1</td>\n      <td>6 Pack Soft Drink</td>\n      <td>[Coke]</td>\n      <td>$6.49</td>\n    </tr>\n    <tr>\n      <th>1026</th>\n      <td>422</td>\n      <td>1</td>\n      <td>6 Pack Soft Drink</td>\n      <td>[Sprite]</td>\n      <td>$6.49</td>\n    </tr>\n    <tr>\n      <th>1051</th>\n      <td>432</td>\n      <td>1</td>\n      <td>6 Pack Soft Drink</td>\n      <td>[Coke]</td>\n      <td>$6.49</td>\n    </tr>\n    <tr>\n      <th>1124</th>\n      <td>465</td>\n      <td>1</td>\n      <td>6 Pack Soft Drink</td>\n      <td>[Coke]</td>\n      <td>$6.49</td>\n    </tr>\n    <tr>\n      <th>1167</th>\n      <td>481</td>\n      <td>1</td>\n      <td>6 Pack Soft Drink</td>\n      <td>[Coke]</td>\n      <td>$6.49</td>\n    </tr>\n    <tr>\n      <th>1260</th>\n      <td>511</td>\n      <td>1</td>\n      <td>6 Pack Soft Drink</td>\n      <td>[Coke]</td>\n      <td>$6.49</td>\n    </tr>\n    <tr>\n      <th>1279</th>\n      <td>520</td>\n      <td>1</td>\n      <td>6 Pack Soft Drink</td>\n      <td>[Sprite]</td>\n      <td>$6.49</td>\n    </tr>\n    <tr>\n      <th>1392</th>\n      <td>566</td>\n      <td>1</td>\n      <td>6 Pack Soft Drink</td>\n      <td>[Diet Coke]</td>\n      <td>$6.49</td>\n    </tr>\n    <tr>\n      <th>1755</th>\n      <td>708</td>\n      <td>1</td>\n      <td>6 Pack Soft Drink</td>\n      <td>[Coke]</td>\n      <td>$6.49</td>\n    </tr>\n    <tr>\n      <th>1758</th>\n      <td>709</td>\n      <td>1</td>\n      <td>6 Pack Soft Drink</td>\n      <td>[Diet Coke]</td>\n      <td>$6.49</td>\n    </tr>\n    <tr>\n      <th>1849</th>\n      <td>749</td>\n      <td>1</td>\n      <td>6 Pack Soft Drink</td>\n      <td>[Coke]</td>\n      <td>$6.49</td>\n    </tr>\n    <tr>\n      <th>1860</th>\n      <td>754</td>\n      <td>1</td>\n      <td>6 Pack Soft Drink</td>\n      <td>[Diet Coke]</td>\n      <td>$6.49</td>\n    </tr>\n    <tr>\n      <th>1916</th>\n      <td>774</td>\n      <td>1</td>\n      <td>6 Pack Soft Drink</td>\n      <td>[Diet Coke]</td>\n      <td>$6.49</td>\n    </tr>\n    <tr>\n      <th>1922</th>\n      <td>776</td>\n      <td>1</td>\n      <td>6 Pack Soft Drink</td>\n      <td>[Coke]</td>\n      <td>$6.49</td>\n    </tr>\n    <tr>\n      <th>1937</th>\n      <td>784</td>\n      <td>1</td>\n      <td>6 Pack Soft Drink</td>\n      <td>[Diet Coke]</td>\n      <td>$6.49</td>\n    </tr>\n    <tr>\n      <th>1976</th>\n      <td>798</td>\n      <td>1</td>\n      <td>6 Pack Soft Drink</td>\n      <td>[Diet Coke]</td>\n      <td>$6.49</td>\n    </tr>\n    <tr>\n      <th>2108</th>\n      <td>849</td>\n      <td>1</td>\n      <td>6 Pack Soft Drink</td>\n      <td>[Coke]</td>\n      <td>$6.49</td>\n    </tr>\n    <tr>\n      <th>2232</th>\n      <td>899</td>\n      <td>1</td>\n      <td>6 Pack Soft Drink</td>\n      <td>[Coke]</td>\n      <td>$6.49</td>\n    </tr>\n    <tr>\n      <th>2374</th>\n      <td>945</td>\n      <td>1</td>\n      <td>6 Pack Soft Drink</td>\n      <td>[Sprite]</td>\n      <td>$6.49</td>\n    </tr>\n    <tr>\n      <th>2389</th>\n      <td>949</td>\n      <td>1</td>\n      <td>6 Pack Soft Drink</td>\n      <td>[Coke]</td>\n      <td>$6.49</td>\n    </tr>\n    <tr>\n      <th>2713</th>\n      <td>1076</td>\n      <td>1</td>\n      <td>6 Pack Soft Drink</td>\n      <td>[Coke]</td>\n      <td>$6.49</td>\n    </tr>\n    <tr>\n      <th>2793</th>\n      <td>1109</td>\n      <td>1</td>\n      <td>6 Pack Soft Drink</td>\n      <td>[Diet Coke]</td>\n      <td>$6.49</td>\n    </tr>\n    <tr>\n      <th>2860</th>\n      <td>1136</td>\n      <td>1</td>\n      <td>6 Pack Soft Drink</td>\n      <td>[Diet Coke]</td>\n      <td>$6.49</td>\n    </tr>\n    <tr>\n      <th>3010</th>\n      <td>1196</td>\n      <td>1</td>\n      <td>6 Pack Soft Drink</td>\n      <td>[Diet Coke]</td>\n      <td>$6.49</td>\n    </tr>\n    <tr>\n      <th>3132</th>\n      <td>1248</td>\n      <td>1</td>\n      <td>6 Pack Soft Drink</td>\n      <td>[Diet Coke]</td>\n      <td>$6.49</td>\n    </tr>\n    <tr>\n      <th>3141</th>\n      <td>1253</td>\n      <td>1</td>\n      <td>6 Pack Soft Drink</td>\n      <td>[Lemonade]</td>\n      <td>$6.49</td>\n    </tr>\n    <tr>\n      <th>3389</th>\n      <td>1360</td>\n      <td>2</td>\n      <td>6 Pack Soft Drink</td>\n      <td>[Diet Coke]</td>\n      <td>$12.98</td>\n    </tr>\n    <tr>\n      <th>3422</th>\n      <td>1373</td>\n      <td>1</td>\n      <td>6 Pack Soft Drink</td>\n      <td>[Coke]</td>\n      <td>$6.49</td>\n    </tr>\n    <tr>\n      <th>3600</th>\n      <td>1443</td>\n      <td>1</td>\n      <td>6 Pack Soft Drink</td>\n      <td>[Coke]</td>\n      <td>$6.49</td>\n    </tr>\n    <tr>\n      <th>3614</th>\n      <td>1448</td>\n      <td>1</td>\n      <td>6 Pack Soft Drink</td>\n      <td>[Nestea]</td>\n      <td>$6.49</td>\n    </tr>\n    <tr>\n      <th>3633</th>\n      <td>1454</td>\n      <td>1</td>\n      <td>6 Pack Soft Drink</td>\n      <td>[Coke]</td>\n      <td>$6.49</td>\n    </tr>\n    <tr>\n      <th>3693</th>\n      <td>1480</td>\n      <td>1</td>\n      <td>6 Pack Soft Drink</td>\n      <td>[Diet Coke]</td>\n      <td>$6.49</td>\n    </tr>\n    <tr>\n      <th>3766</th>\n      <td>1508</td>\n      <td>1</td>\n      <td>6 Pack Soft Drink</td>\n      <td>[Coke]</td>\n      <td>$6.49</td>\n    </tr>\n    <tr>\n      <th>3789</th>\n      <td>1517</td>\n      <td>1</td>\n      <td>6 Pack Soft Drink</td>\n      <td>[Diet Coke]</td>\n      <td>$6.49</td>\n    </tr>\n    <tr>\n      <th>3806</th>\n      <td>1525</td>\n      <td>1</td>\n      <td>6 Pack Soft Drink</td>\n      <td>[Sprite]</td>\n      <td>$6.49</td>\n    </tr>\n    <tr>\n      <th>3836</th>\n      <td>1537</td>\n      <td>1</td>\n      <td>6 Pack Soft Drink</td>\n      <td>[Coke]</td>\n      <td>$6.49</td>\n    </tr>\n    <tr>\n      <th>3875</th>\n      <td>1554</td>\n      <td>1</td>\n      <td>6 Pack Soft Drink</td>\n      <td>[Diet Coke]</td>\n      <td>$6.49</td>\n    </tr>\n    <tr>\n      <th>3886</th>\n      <td>1558</td>\n      <td>1</td>\n      <td>6 Pack Soft Drink</td>\n      <td>[Diet Coke]</td>\n      <td>$6.49</td>\n    </tr>\n    <tr>\n      <th>4169</th>\n      <td>1664</td>\n      <td>1</td>\n      <td>6 Pack Soft Drink</td>\n      <td>[Diet Coke]</td>\n      <td>$6.49</td>\n    </tr>\n    <tr>\n      <th>4174</th>\n      <td>1666</td>\n      <td>1</td>\n      <td>6 Pack Soft Drink</td>\n      <td>[Coke]</td>\n      <td>$6.49</td>\n    </tr>\n    <tr>\n      <th>4359</th>\n      <td>1741</td>\n      <td>1</td>\n      <td>6 Pack Soft Drink</td>\n      <td>[Coke]</td>\n      <td>$6.49</td>\n    </tr>\n    <tr>\n      <th>4363</th>\n      <td>1742</td>\n      <td>1</td>\n      <td>6 Pack Soft Drink</td>\n      <td>[Diet Coke]</td>\n      <td>$6.49</td>\n    </tr>\n    <tr>\n      <th>4522</th>\n      <td>1798</td>\n      <td>1</td>\n      <td>6 Pack Soft Drink</td>\n      <td>[Diet Coke]</td>\n      <td>$6.49</td>\n    </tr>\n    <tr>\n      <th>4527</th>\n      <td>1800</td>\n      <td>1</td>\n      <td>6 Pack Soft Drink</td>\n      <td>[Diet Coke]</td>\n      <td>$6.49</td>\n    </tr>\n    <tr>\n      <th>4535</th>\n      <td>1803</td>\n      <td>1</td>\n      <td>6 Pack Soft Drink</td>\n      <td>[Lemonade]</td>\n      <td>$6.49</td>\n    </tr>\n  </tbody>\n</table>\n</div>"
     },
     "metadata": {},
     "execution_count": 76
    }
   ],
   "source": [
    "chipo[(chipo['item_name'] == '6 Pack Soft Drink')]"
   ]
  },
  {
   "cell_type": "code",
   "execution_count": 79,
   "metadata": {},
   "outputs": [
    {
     "output_type": "execute_result",
     "data": {
      "text/plain": [
       "54"
      ]
     },
     "metadata": {},
     "execution_count": 79
    }
   ],
   "source": [
    "len(chipo[(chipo['item_name'] == '6 Pack Soft Drink')])\n",
    "# A mi me salen mas de 20, no tengo del todo claro que me estan pidiendo"
   ]
  },
  {
   "cell_type": "code",
   "execution_count": 28,
   "metadata": {
    "collapsed": false
   },
   "outputs": [
    {
     "data": {
      "text/plain": [
       "20"
      ]
     },
     "execution_count": 28,
     "metadata": {},
     "output_type": "execute_result"
    }
   ],
   "source": []
  }
 ],
 "metadata": {
  "anaconda-cloud": {},
  "kernelspec": {
   "name": "python3",
   "display_name": "Python 3",
   "language": "python"
  },
  "language_info": {
   "codemirror_mode": {
    "name": "ipython",
    "version": 2
   },
   "file_extension": ".py",
   "mimetype": "text/x-python",
   "name": "python",
   "nbconvert_exporter": "python",
   "pygments_lexer": "ipython2",
   "version": "3.9.0-final"
  }
 },
 "nbformat": 4,
 "nbformat_minor": 0
}
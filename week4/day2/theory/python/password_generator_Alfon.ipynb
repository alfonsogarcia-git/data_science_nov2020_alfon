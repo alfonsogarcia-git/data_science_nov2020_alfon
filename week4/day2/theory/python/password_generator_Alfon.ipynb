{
 "metadata": {
  "language_info": {
   "codemirror_mode": {
    "name": "ipython",
    "version": 3
   },
   "file_extension": ".py",
   "mimetype": "text/x-python",
   "name": "python",
   "nbconvert_exporter": "python",
   "pygments_lexer": "ipython3",
   "version": "3.9.0-final"
  },
  "orig_nbformat": 2,
  "kernelspec": {
   "name": "python3",
   "display_name": "Python 3",
   "language": "python"
  }
 },
 "nbformat": 4,
 "nbformat_minor": 2,
 "cells": [
  {
   "source": [
    "Crea una función llamada \"generador\" con dos argumentos de entrada 'longitud' (entero) y 'dificultad' (entero). La función retornará una contraseña (string) de tamaño 'longitud' y con las siguientes características dependiendo del valor de 'dificultad':\n",
    "\n",
    "1. Si 'dificultad' tiene valor 1, entonces la contraseña solo contendrá números. \n",
    "2. Si 'dificultad' tiene valor 2, entonces la contraseña contendrá números y letras\n",
    "3. Si 'dificultad' tiene valor 3, entonces la contraseña contendrá números, letras y signos de puntuación (!,?¡:-.\"')\n",
    "4. Si 'dificultad' tiene valor 4, entonces la contraseña será como la del punto 3. pero con el doble de longitud y solo números pares. \n",
    "5. Para cualquier otro caso, la contraseña será \"numpy_y_pandas_son_lo_mejor\""
   ],
   "cell_type": "markdown",
   "metadata": {}
  },
  {
   "cell_type": "code",
   "execution_count": 39,
   "metadata": {},
   "outputs": [
    {
     "output_type": "execute_result",
     "data": {
      "text/plain": [
       "'FIGeVYeu¡8JI\\'ca:diQK8KY\"'"
      ]
     },
     "metadata": {},
     "execution_count": 39
    }
   ],
   "source": [
    "def generador (longitud, dificultad):\n",
    "    import random as rnd\n",
    "    import string\n",
    "    password = ''\n",
    "    signs = '!,?¡:-.\"\\''\n",
    "    even = '02468'\n",
    "    if dificultad == 1:\n",
    "        password = password.join(rnd.choice(string.digits) for i in range(longitud))\n",
    "    elif dificultad == 2:\n",
    "        password = password.join(rnd.choice(string.digits + string.ascii_letters) for i in range(longitud))\n",
    "    elif dificultad == 3:\n",
    "        password = password.join(rnd.choice(string.digits + string.ascii_letters + signs) for i in range(longitud))\n",
    "    elif dificultad == 4:\n",
    "        password = password.join(rnd.choice(even + string.ascii_letters + signs) for i in range(2 * longitud))\n",
    "    else:\n",
    "        password = 'numpy_y_pandas_son_lo_mejor'\n",
    "    return password\n",
    "generador (12, 4)\n"
   ]
  },
  {
   "cell_type": "code",
   "execution_count": null,
   "metadata": {},
   "outputs": [],
   "source": []
  }
 ]
}
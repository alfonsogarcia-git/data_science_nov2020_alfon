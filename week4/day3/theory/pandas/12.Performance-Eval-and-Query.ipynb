version https://git-lfs.github.com/spec/v1
oid sha256:9f3f6c0388db30e38917c64f60eb1decae154f29fb200de9ad0f9b95b2f92947
size 25612

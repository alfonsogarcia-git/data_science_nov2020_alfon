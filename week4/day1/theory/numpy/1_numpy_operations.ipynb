version https://git-lfs.github.com/spec/v1
oid sha256:3f67abe8688be13feff567a6be2c22669f656886441e3ae83c849c392845eee2
size 108526

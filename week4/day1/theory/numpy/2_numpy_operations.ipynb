version https://git-lfs.github.com/spec/v1
oid sha256:d63f52ab595b7cc0c9b0257b4a31ab85ac7c825dcdb656888f8a77868077bff3
size 293192

{
 "metadata": {
  "language_info": {
   "codemirror_mode": {
    "name": "ipython",
    "version": 3
   },
   "file_extension": ".py",
   "mimetype": "text/x-python",
   "name": "python",
   "nbconvert_exporter": "python",
   "pygments_lexer": "ipython3",
   "version": "3.9.0-final"
  },
  "orig_nbformat": 2,
  "kernelspec": {
   "name": "python3",
   "display_name": "Python 3",
   "language": "python"
  }
 },
 "nbformat": 4,
 "nbformat_minor": 2,
 "cells": [
  {
   "source": [
    "### Ejercicio 1\n",
    "\n",
    "A partir de la API de Pokemon, se pide generar un DataFrame como el de la imagen con las columnas: \n",
    "\n",
    "- **\"height\",\"id\",\"order\",\"weight\",\"types\"**\n",
    "\n",
    "### Ejercicio 2\n",
    "\n",
    "¿Has visto que dentro del DataFrame la columna \"types\" hay diccionarios? Se pide agregar, por cada pokemon, las columnas necesarias al DataFrame para albergar toda la información de \"types\".\n",
    "\n",
    "![](df_pk.PNG)"
   ],
   "cell_type": "markdown",
   "metadata": {}
  },
  {
   "cell_type": "code",
   "execution_count": 143,
   "metadata": {},
   "outputs": [],
   "source": [
    "# importar librerias\n",
    "import requests\n",
    "import pandas as pd\n",
    "import numpy as np "
   ]
  },
  {
   "source": [
    "## Ejercicio 1"
   ],
   "cell_type": "markdown",
   "metadata": {}
  },
  {
   "cell_type": "code",
   "execution_count": 144,
   "metadata": {},
   "outputs": [
    {
     "output_type": "execute_result",
     "data": {
      "text/plain": [
       "{'count': 1118,\n",
       " 'next': 'https://pokeapi.co/api/v2/pokemon?offset=20&limit=20',\n",
       " 'previous': None,\n",
       " 'results': [{'name': 'bulbasaur',\n",
       "   'url': 'https://pokeapi.co/api/v2/pokemon/1/'},\n",
       "  {'name': 'ivysaur', 'url': 'https://pokeapi.co/api/v2/pokemon/2/'},\n",
       "  {'name': 'venusaur', 'url': 'https://pokeapi.co/api/v2/pokemon/3/'},\n",
       "  {'name': 'charmander', 'url': 'https://pokeapi.co/api/v2/pokemon/4/'},\n",
       "  {'name': 'charmeleon', 'url': 'https://pokeapi.co/api/v2/pokemon/5/'},\n",
       "  {'name': 'charizard', 'url': 'https://pokeapi.co/api/v2/pokemon/6/'},\n",
       "  {'name': 'squirtle', 'url': 'https://pokeapi.co/api/v2/pokemon/7/'},\n",
       "  {'name': 'wartortle', 'url': 'https://pokeapi.co/api/v2/pokemon/8/'},\n",
       "  {'name': 'blastoise', 'url': 'https://pokeapi.co/api/v2/pokemon/9/'},\n",
       "  {'name': 'caterpie', 'url': 'https://pokeapi.co/api/v2/pokemon/10/'},\n",
       "  {'name': 'metapod', 'url': 'https://pokeapi.co/api/v2/pokemon/11/'},\n",
       "  {'name': 'butterfree', 'url': 'https://pokeapi.co/api/v2/pokemon/12/'},\n",
       "  {'name': 'weedle', 'url': 'https://pokeapi.co/api/v2/pokemon/13/'},\n",
       "  {'name': 'kakuna', 'url': 'https://pokeapi.co/api/v2/pokemon/14/'},\n",
       "  {'name': 'beedrill', 'url': 'https://pokeapi.co/api/v2/pokemon/15/'},\n",
       "  {'name': 'pidgey', 'url': 'https://pokeapi.co/api/v2/pokemon/16/'},\n",
       "  {'name': 'pidgeotto', 'url': 'https://pokeapi.co/api/v2/pokemon/17/'},\n",
       "  {'name': 'pidgeot', 'url': 'https://pokeapi.co/api/v2/pokemon/18/'},\n",
       "  {'name': 'rattata', 'url': 'https://pokeapi.co/api/v2/pokemon/19/'},\n",
       "  {'name': 'raticate', 'url': 'https://pokeapi.co/api/v2/pokemon/20/'}]}"
      ]
     },
     "metadata": {},
     "execution_count": 144
    }
   ],
   "source": [
    "# Obtener los ficheros necesarios\n",
    "url = 'https://pokeapi.co/api/v2/pokemon'\n",
    "poke_json = requests.get(url).json()\n",
    "poke_json"
   ]
  },
  {
   "cell_type": "code",
   "execution_count": 145,
   "metadata": {},
   "outputs": [
    {
     "output_type": "execute_result",
     "data": {
      "text/plain": [
       "    count                                               next previous  \\\n",
       "0    1118  https://pokeapi.co/api/v2/pokemon?offset=20&li...     None   \n",
       "1    1118  https://pokeapi.co/api/v2/pokemon?offset=20&li...     None   \n",
       "2    1118  https://pokeapi.co/api/v2/pokemon?offset=20&li...     None   \n",
       "3    1118  https://pokeapi.co/api/v2/pokemon?offset=20&li...     None   \n",
       "4    1118  https://pokeapi.co/api/v2/pokemon?offset=20&li...     None   \n",
       "5    1118  https://pokeapi.co/api/v2/pokemon?offset=20&li...     None   \n",
       "6    1118  https://pokeapi.co/api/v2/pokemon?offset=20&li...     None   \n",
       "7    1118  https://pokeapi.co/api/v2/pokemon?offset=20&li...     None   \n",
       "8    1118  https://pokeapi.co/api/v2/pokemon?offset=20&li...     None   \n",
       "9    1118  https://pokeapi.co/api/v2/pokemon?offset=20&li...     None   \n",
       "10   1118  https://pokeapi.co/api/v2/pokemon?offset=20&li...     None   \n",
       "11   1118  https://pokeapi.co/api/v2/pokemon?offset=20&li...     None   \n",
       "12   1118  https://pokeapi.co/api/v2/pokemon?offset=20&li...     None   \n",
       "13   1118  https://pokeapi.co/api/v2/pokemon?offset=20&li...     None   \n",
       "14   1118  https://pokeapi.co/api/v2/pokemon?offset=20&li...     None   \n",
       "15   1118  https://pokeapi.co/api/v2/pokemon?offset=20&li...     None   \n",
       "16   1118  https://pokeapi.co/api/v2/pokemon?offset=20&li...     None   \n",
       "17   1118  https://pokeapi.co/api/v2/pokemon?offset=20&li...     None   \n",
       "18   1118  https://pokeapi.co/api/v2/pokemon?offset=20&li...     None   \n",
       "19   1118  https://pokeapi.co/api/v2/pokemon?offset=20&li...     None   \n",
       "\n",
       "                                              results  \n",
       "0   {'name': 'bulbasaur', 'url': 'https://pokeapi....  \n",
       "1   {'name': 'ivysaur', 'url': 'https://pokeapi.co...  \n",
       "2   {'name': 'venusaur', 'url': 'https://pokeapi.c...  \n",
       "3   {'name': 'charmander', 'url': 'https://pokeapi...  \n",
       "4   {'name': 'charmeleon', 'url': 'https://pokeapi...  \n",
       "5   {'name': 'charizard', 'url': 'https://pokeapi....  \n",
       "6   {'name': 'squirtle', 'url': 'https://pokeapi.c...  \n",
       "7   {'name': 'wartortle', 'url': 'https://pokeapi....  \n",
       "8   {'name': 'blastoise', 'url': 'https://pokeapi....  \n",
       "9   {'name': 'caterpie', 'url': 'https://pokeapi.c...  \n",
       "10  {'name': 'metapod', 'url': 'https://pokeapi.co...  \n",
       "11  {'name': 'butterfree', 'url': 'https://pokeapi...  \n",
       "12  {'name': 'weedle', 'url': 'https://pokeapi.co/...  \n",
       "13  {'name': 'kakuna', 'url': 'https://pokeapi.co/...  \n",
       "14  {'name': 'beedrill', 'url': 'https://pokeapi.c...  \n",
       "15  {'name': 'pidgey', 'url': 'https://pokeapi.co/...  \n",
       "16  {'name': 'pidgeotto', 'url': 'https://pokeapi....  \n",
       "17  {'name': 'pidgeot', 'url': 'https://pokeapi.co...  \n",
       "18  {'name': 'rattata', 'url': 'https://pokeapi.co...  \n",
       "19  {'name': 'raticate', 'url': 'https://pokeapi.c...  "
      ],
      "text/html": "<div>\n<style scoped>\n    .dataframe tbody tr th:only-of-type {\n        vertical-align: middle;\n    }\n\n    .dataframe tbody tr th {\n        vertical-align: top;\n    }\n\n    .dataframe thead th {\n        text-align: right;\n    }\n</style>\n<table border=\"1\" class=\"dataframe\">\n  <thead>\n    <tr style=\"text-align: right;\">\n      <th></th>\n      <th>count</th>\n      <th>next</th>\n      <th>previous</th>\n      <th>results</th>\n    </tr>\n  </thead>\n  <tbody>\n    <tr>\n      <th>0</th>\n      <td>1118</td>\n      <td>https://pokeapi.co/api/v2/pokemon?offset=20&amp;li...</td>\n      <td>None</td>\n      <td>{'name': 'bulbasaur', 'url': 'https://pokeapi....</td>\n    </tr>\n    <tr>\n      <th>1</th>\n      <td>1118</td>\n      <td>https://pokeapi.co/api/v2/pokemon?offset=20&amp;li...</td>\n      <td>None</td>\n      <td>{'name': 'ivysaur', 'url': 'https://pokeapi.co...</td>\n    </tr>\n    <tr>\n      <th>2</th>\n      <td>1118</td>\n      <td>https://pokeapi.co/api/v2/pokemon?offset=20&amp;li...</td>\n      <td>None</td>\n      <td>{'name': 'venusaur', 'url': 'https://pokeapi.c...</td>\n    </tr>\n    <tr>\n      <th>3</th>\n      <td>1118</td>\n      <td>https://pokeapi.co/api/v2/pokemon?offset=20&amp;li...</td>\n      <td>None</td>\n      <td>{'name': 'charmander', 'url': 'https://pokeapi...</td>\n    </tr>\n    <tr>\n      <th>4</th>\n      <td>1118</td>\n      <td>https://pokeapi.co/api/v2/pokemon?offset=20&amp;li...</td>\n      <td>None</td>\n      <td>{'name': 'charmeleon', 'url': 'https://pokeapi...</td>\n    </tr>\n    <tr>\n      <th>5</th>\n      <td>1118</td>\n      <td>https://pokeapi.co/api/v2/pokemon?offset=20&amp;li...</td>\n      <td>None</td>\n      <td>{'name': 'charizard', 'url': 'https://pokeapi....</td>\n    </tr>\n    <tr>\n      <th>6</th>\n      <td>1118</td>\n      <td>https://pokeapi.co/api/v2/pokemon?offset=20&amp;li...</td>\n      <td>None</td>\n      <td>{'name': 'squirtle', 'url': 'https://pokeapi.c...</td>\n    </tr>\n    <tr>\n      <th>7</th>\n      <td>1118</td>\n      <td>https://pokeapi.co/api/v2/pokemon?offset=20&amp;li...</td>\n      <td>None</td>\n      <td>{'name': 'wartortle', 'url': 'https://pokeapi....</td>\n    </tr>\n    <tr>\n      <th>8</th>\n      <td>1118</td>\n      <td>https://pokeapi.co/api/v2/pokemon?offset=20&amp;li...</td>\n      <td>None</td>\n      <td>{'name': 'blastoise', 'url': 'https://pokeapi....</td>\n    </tr>\n    <tr>\n      <th>9</th>\n      <td>1118</td>\n      <td>https://pokeapi.co/api/v2/pokemon?offset=20&amp;li...</td>\n      <td>None</td>\n      <td>{'name': 'caterpie', 'url': 'https://pokeapi.c...</td>\n    </tr>\n    <tr>\n      <th>10</th>\n      <td>1118</td>\n      <td>https://pokeapi.co/api/v2/pokemon?offset=20&amp;li...</td>\n      <td>None</td>\n      <td>{'name': 'metapod', 'url': 'https://pokeapi.co...</td>\n    </tr>\n    <tr>\n      <th>11</th>\n      <td>1118</td>\n      <td>https://pokeapi.co/api/v2/pokemon?offset=20&amp;li...</td>\n      <td>None</td>\n      <td>{'name': 'butterfree', 'url': 'https://pokeapi...</td>\n    </tr>\n    <tr>\n      <th>12</th>\n      <td>1118</td>\n      <td>https://pokeapi.co/api/v2/pokemon?offset=20&amp;li...</td>\n      <td>None</td>\n      <td>{'name': 'weedle', 'url': 'https://pokeapi.co/...</td>\n    </tr>\n    <tr>\n      <th>13</th>\n      <td>1118</td>\n      <td>https://pokeapi.co/api/v2/pokemon?offset=20&amp;li...</td>\n      <td>None</td>\n      <td>{'name': 'kakuna', 'url': 'https://pokeapi.co/...</td>\n    </tr>\n    <tr>\n      <th>14</th>\n      <td>1118</td>\n      <td>https://pokeapi.co/api/v2/pokemon?offset=20&amp;li...</td>\n      <td>None</td>\n      <td>{'name': 'beedrill', 'url': 'https://pokeapi.c...</td>\n    </tr>\n    <tr>\n      <th>15</th>\n      <td>1118</td>\n      <td>https://pokeapi.co/api/v2/pokemon?offset=20&amp;li...</td>\n      <td>None</td>\n      <td>{'name': 'pidgey', 'url': 'https://pokeapi.co/...</td>\n    </tr>\n    <tr>\n      <th>16</th>\n      <td>1118</td>\n      <td>https://pokeapi.co/api/v2/pokemon?offset=20&amp;li...</td>\n      <td>None</td>\n      <td>{'name': 'pidgeotto', 'url': 'https://pokeapi....</td>\n    </tr>\n    <tr>\n      <th>17</th>\n      <td>1118</td>\n      <td>https://pokeapi.co/api/v2/pokemon?offset=20&amp;li...</td>\n      <td>None</td>\n      <td>{'name': 'pidgeot', 'url': 'https://pokeapi.co...</td>\n    </tr>\n    <tr>\n      <th>18</th>\n      <td>1118</td>\n      <td>https://pokeapi.co/api/v2/pokemon?offset=20&amp;li...</td>\n      <td>None</td>\n      <td>{'name': 'rattata', 'url': 'https://pokeapi.co...</td>\n    </tr>\n    <tr>\n      <th>19</th>\n      <td>1118</td>\n      <td>https://pokeapi.co/api/v2/pokemon?offset=20&amp;li...</td>\n      <td>None</td>\n      <td>{'name': 'raticate', 'url': 'https://pokeapi.c...</td>\n    </tr>\n  </tbody>\n</table>\n</div>"
     },
     "metadata": {},
     "execution_count": 145
    }
   ],
   "source": [
    "# pasarlo a df\n",
    "poke_df = pd.DataFrame(poke_json)\n",
    "poke_df"
   ]
  },
  {
   "cell_type": "code",
   "execution_count": 146,
   "metadata": {},
   "outputs": [
    {
     "output_type": "stream",
     "name": "stdout",
     "text": [
      "{'name': 'bulbasaur', 'url': 'https://pokeapi.co/api/v2/pokemon/1/'}\n{'name': 'ivysaur', 'url': 'https://pokeapi.co/api/v2/pokemon/2/'}\n{'name': 'venusaur', 'url': 'https://pokeapi.co/api/v2/pokemon/3/'}\n{'name': 'charmander', 'url': 'https://pokeapi.co/api/v2/pokemon/4/'}\n{'name': 'charmeleon', 'url': 'https://pokeapi.co/api/v2/pokemon/5/'}\n{'name': 'charizard', 'url': 'https://pokeapi.co/api/v2/pokemon/6/'}\n{'name': 'squirtle', 'url': 'https://pokeapi.co/api/v2/pokemon/7/'}\n{'name': 'wartortle', 'url': 'https://pokeapi.co/api/v2/pokemon/8/'}\n{'name': 'blastoise', 'url': 'https://pokeapi.co/api/v2/pokemon/9/'}\n{'name': 'caterpie', 'url': 'https://pokeapi.co/api/v2/pokemon/10/'}\n{'name': 'metapod', 'url': 'https://pokeapi.co/api/v2/pokemon/11/'}\n{'name': 'butterfree', 'url': 'https://pokeapi.co/api/v2/pokemon/12/'}\n{'name': 'weedle', 'url': 'https://pokeapi.co/api/v2/pokemon/13/'}\n{'name': 'kakuna', 'url': 'https://pokeapi.co/api/v2/pokemon/14/'}\n{'name': 'beedrill', 'url': 'https://pokeapi.co/api/v2/pokemon/15/'}\n{'name': 'pidgey', 'url': 'https://pokeapi.co/api/v2/pokemon/16/'}\n{'name': 'pidgeotto', 'url': 'https://pokeapi.co/api/v2/pokemon/17/'}\n{'name': 'pidgeot', 'url': 'https://pokeapi.co/api/v2/pokemon/18/'}\n{'name': 'rattata', 'url': 'https://pokeapi.co/api/v2/pokemon/19/'}\n{'name': 'raticate', 'url': 'https://pokeapi.co/api/v2/pokemon/20/'}\n"
     ]
    }
   ],
   "source": [
    "# ver lo que me devuelve results\n",
    "for i in poke_df['results']:\n",
    "    print(i)"
   ]
  },
  {
   "cell_type": "code",
   "execution_count": 147,
   "metadata": {},
   "outputs": [
    {
     "output_type": "execute_result",
     "data": {
      "text/plain": [
       "          name                                    url\n",
       "0    bulbasaur   https://pokeapi.co/api/v2/pokemon/1/\n",
       "1      ivysaur   https://pokeapi.co/api/v2/pokemon/2/\n",
       "2     venusaur   https://pokeapi.co/api/v2/pokemon/3/\n",
       "3   charmander   https://pokeapi.co/api/v2/pokemon/4/\n",
       "4   charmeleon   https://pokeapi.co/api/v2/pokemon/5/\n",
       "5    charizard   https://pokeapi.co/api/v2/pokemon/6/\n",
       "6     squirtle   https://pokeapi.co/api/v2/pokemon/7/\n",
       "7    wartortle   https://pokeapi.co/api/v2/pokemon/8/\n",
       "8    blastoise   https://pokeapi.co/api/v2/pokemon/9/\n",
       "9     caterpie  https://pokeapi.co/api/v2/pokemon/10/\n",
       "10     metapod  https://pokeapi.co/api/v2/pokemon/11/\n",
       "11  butterfree  https://pokeapi.co/api/v2/pokemon/12/\n",
       "12      weedle  https://pokeapi.co/api/v2/pokemon/13/\n",
       "13      kakuna  https://pokeapi.co/api/v2/pokemon/14/\n",
       "14    beedrill  https://pokeapi.co/api/v2/pokemon/15/\n",
       "15      pidgey  https://pokeapi.co/api/v2/pokemon/16/\n",
       "16   pidgeotto  https://pokeapi.co/api/v2/pokemon/17/\n",
       "17     pidgeot  https://pokeapi.co/api/v2/pokemon/18/\n",
       "18     rattata  https://pokeapi.co/api/v2/pokemon/19/\n",
       "19    raticate  https://pokeapi.co/api/v2/pokemon/20/"
      ],
      "text/html": "<div>\n<style scoped>\n    .dataframe tbody tr th:only-of-type {\n        vertical-align: middle;\n    }\n\n    .dataframe tbody tr th {\n        vertical-align: top;\n    }\n\n    .dataframe thead th {\n        text-align: right;\n    }\n</style>\n<table border=\"1\" class=\"dataframe\">\n  <thead>\n    <tr style=\"text-align: right;\">\n      <th></th>\n      <th>name</th>\n      <th>url</th>\n    </tr>\n  </thead>\n  <tbody>\n    <tr>\n      <th>0</th>\n      <td>bulbasaur</td>\n      <td>https://pokeapi.co/api/v2/pokemon/1/</td>\n    </tr>\n    <tr>\n      <th>1</th>\n      <td>ivysaur</td>\n      <td>https://pokeapi.co/api/v2/pokemon/2/</td>\n    </tr>\n    <tr>\n      <th>2</th>\n      <td>venusaur</td>\n      <td>https://pokeapi.co/api/v2/pokemon/3/</td>\n    </tr>\n    <tr>\n      <th>3</th>\n      <td>charmander</td>\n      <td>https://pokeapi.co/api/v2/pokemon/4/</td>\n    </tr>\n    <tr>\n      <th>4</th>\n      <td>charmeleon</td>\n      <td>https://pokeapi.co/api/v2/pokemon/5/</td>\n    </tr>\n    <tr>\n      <th>5</th>\n      <td>charizard</td>\n      <td>https://pokeapi.co/api/v2/pokemon/6/</td>\n    </tr>\n    <tr>\n      <th>6</th>\n      <td>squirtle</td>\n      <td>https://pokeapi.co/api/v2/pokemon/7/</td>\n    </tr>\n    <tr>\n      <th>7</th>\n      <td>wartortle</td>\n      <td>https://pokeapi.co/api/v2/pokemon/8/</td>\n    </tr>\n    <tr>\n      <th>8</th>\n      <td>blastoise</td>\n      <td>https://pokeapi.co/api/v2/pokemon/9/</td>\n    </tr>\n    <tr>\n      <th>9</th>\n      <td>caterpie</td>\n      <td>https://pokeapi.co/api/v2/pokemon/10/</td>\n    </tr>\n    <tr>\n      <th>10</th>\n      <td>metapod</td>\n      <td>https://pokeapi.co/api/v2/pokemon/11/</td>\n    </tr>\n    <tr>\n      <th>11</th>\n      <td>butterfree</td>\n      <td>https://pokeapi.co/api/v2/pokemon/12/</td>\n    </tr>\n    <tr>\n      <th>12</th>\n      <td>weedle</td>\n      <td>https://pokeapi.co/api/v2/pokemon/13/</td>\n    </tr>\n    <tr>\n      <th>13</th>\n      <td>kakuna</td>\n      <td>https://pokeapi.co/api/v2/pokemon/14/</td>\n    </tr>\n    <tr>\n      <th>14</th>\n      <td>beedrill</td>\n      <td>https://pokeapi.co/api/v2/pokemon/15/</td>\n    </tr>\n    <tr>\n      <th>15</th>\n      <td>pidgey</td>\n      <td>https://pokeapi.co/api/v2/pokemon/16/</td>\n    </tr>\n    <tr>\n      <th>16</th>\n      <td>pidgeotto</td>\n      <td>https://pokeapi.co/api/v2/pokemon/17/</td>\n    </tr>\n    <tr>\n      <th>17</th>\n      <td>pidgeot</td>\n      <td>https://pokeapi.co/api/v2/pokemon/18/</td>\n    </tr>\n    <tr>\n      <th>18</th>\n      <td>rattata</td>\n      <td>https://pokeapi.co/api/v2/pokemon/19/</td>\n    </tr>\n    <tr>\n      <th>19</th>\n      <td>raticate</td>\n      <td>https://pokeapi.co/api/v2/pokemon/20/</td>\n    </tr>\n  </tbody>\n</table>\n</div>"
     },
     "metadata": {},
     "execution_count": 147
    }
   ],
   "source": [
    "# Desmantelar name y url primero\n",
    "names = []\n",
    "urls = []\n",
    "for x in range(len(poke_df)):\n",
    "    names.append(poke_df['results'][x]['name']) \n",
    "    urls.append(poke_df['results'][x]['url'])\n",
    "poke_df['name'] = names\n",
    "poke_df['url'] = urls\n",
    "poke_df = poke_df.drop(columns = ['count', 'next', 'previous', 'results'])\n",
    "poke_df"
   ]
  },
  {
   "cell_type": "code",
   "execution_count": 148,
   "metadata": {},
   "outputs": [
    {
     "output_type": "execute_result",
     "data": {
      "text/plain": [
       "[{'slot': 1,\n",
       "  'type': {'name': 'grass', 'url': 'https://pokeapi.co/api/v2/type/12/'}},\n",
       " {'slot': 2,\n",
       "  'type': {'name': 'poison', 'url': 'https://pokeapi.co/api/v2/type/4/'}}]"
      ]
     },
     "metadata": {},
     "execution_count": 148
    }
   ],
   "source": [
    "# Pruebas mias\n",
    "poke1_json = requests.get('https://pokeapi.co/api/v2/pokemon/1/').json()\n",
    "poke1_json['height']\n",
    "poke1_json['weight']\n",
    "poke1_json['id']\n",
    "poke1_json['order']\n",
    "poke1_json['types']"
   ]
  },
  {
   "cell_type": "code",
   "execution_count": 149,
   "metadata": {},
   "outputs": [
    {
     "output_type": "execute_result",
     "data": {
      "text/plain": [
       "          name                                    url  height  id  order  \\\n",
       "0    bulbasaur   https://pokeapi.co/api/v2/pokemon/1/       7   1      1   \n",
       "1      ivysaur   https://pokeapi.co/api/v2/pokemon/2/      10   2      2   \n",
       "2     venusaur   https://pokeapi.co/api/v2/pokemon/3/      20   3      3   \n",
       "3   charmander   https://pokeapi.co/api/v2/pokemon/4/       6   4      5   \n",
       "4   charmeleon   https://pokeapi.co/api/v2/pokemon/5/      11   5      6   \n",
       "5    charizard   https://pokeapi.co/api/v2/pokemon/6/      17   6      7   \n",
       "6     squirtle   https://pokeapi.co/api/v2/pokemon/7/       5   7     10   \n",
       "7    wartortle   https://pokeapi.co/api/v2/pokemon/8/      10   8     11   \n",
       "8    blastoise   https://pokeapi.co/api/v2/pokemon/9/      16   9     12   \n",
       "9     caterpie  https://pokeapi.co/api/v2/pokemon/10/       3  10     14   \n",
       "10     metapod  https://pokeapi.co/api/v2/pokemon/11/       7  11     15   \n",
       "11  butterfree  https://pokeapi.co/api/v2/pokemon/12/      11  12     16   \n",
       "12      weedle  https://pokeapi.co/api/v2/pokemon/13/       3  13     17   \n",
       "13      kakuna  https://pokeapi.co/api/v2/pokemon/14/       6  14     18   \n",
       "14    beedrill  https://pokeapi.co/api/v2/pokemon/15/      10  15     19   \n",
       "15      pidgey  https://pokeapi.co/api/v2/pokemon/16/       3  16     21   \n",
       "16   pidgeotto  https://pokeapi.co/api/v2/pokemon/17/      11  17     22   \n",
       "17     pidgeot  https://pokeapi.co/api/v2/pokemon/18/      15  18     23   \n",
       "18     rattata  https://pokeapi.co/api/v2/pokemon/19/       3  19     25   \n",
       "19    raticate  https://pokeapi.co/api/v2/pokemon/20/       7  20     27   \n",
       "\n",
       "    weight                                              types  \n",
       "0       69  [{'slot': 1, 'type': {'name': 'grass', 'url': ...  \n",
       "1      130  [{'slot': 1, 'type': {'name': 'grass', 'url': ...  \n",
       "2     1000  [{'slot': 1, 'type': {'name': 'grass', 'url': ...  \n",
       "3       85  [{'slot': 1, 'type': {'name': 'fire', 'url': '...  \n",
       "4      190  [{'slot': 1, 'type': {'name': 'fire', 'url': '...  \n",
       "5      905  [{'slot': 1, 'type': {'name': 'fire', 'url': '...  \n",
       "6       90  [{'slot': 1, 'type': {'name': 'water', 'url': ...  \n",
       "7      225  [{'slot': 1, 'type': {'name': 'water', 'url': ...  \n",
       "8      855  [{'slot': 1, 'type': {'name': 'water', 'url': ...  \n",
       "9       29  [{'slot': 1, 'type': {'name': 'bug', 'url': 'h...  \n",
       "10      99  [{'slot': 1, 'type': {'name': 'bug', 'url': 'h...  \n",
       "11     320  [{'slot': 1, 'type': {'name': 'bug', 'url': 'h...  \n",
       "12      32  [{'slot': 1, 'type': {'name': 'bug', 'url': 'h...  \n",
       "13     100  [{'slot': 1, 'type': {'name': 'bug', 'url': 'h...  \n",
       "14     295  [{'slot': 1, 'type': {'name': 'bug', 'url': 'h...  \n",
       "15      18  [{'slot': 1, 'type': {'name': 'normal', 'url':...  \n",
       "16     300  [{'slot': 1, 'type': {'name': 'normal', 'url':...  \n",
       "17     395  [{'slot': 1, 'type': {'name': 'normal', 'url':...  \n",
       "18      35  [{'slot': 1, 'type': {'name': 'normal', 'url':...  \n",
       "19     185  [{'slot': 1, 'type': {'name': 'normal', 'url':...  "
      ],
      "text/html": "<div>\n<style scoped>\n    .dataframe tbody tr th:only-of-type {\n        vertical-align: middle;\n    }\n\n    .dataframe tbody tr th {\n        vertical-align: top;\n    }\n\n    .dataframe thead th {\n        text-align: right;\n    }\n</style>\n<table border=\"1\" class=\"dataframe\">\n  <thead>\n    <tr style=\"text-align: right;\">\n      <th></th>\n      <th>name</th>\n      <th>url</th>\n      <th>height</th>\n      <th>id</th>\n      <th>order</th>\n      <th>weight</th>\n      <th>types</th>\n    </tr>\n  </thead>\n  <tbody>\n    <tr>\n      <th>0</th>\n      <td>bulbasaur</td>\n      <td>https://pokeapi.co/api/v2/pokemon/1/</td>\n      <td>7</td>\n      <td>1</td>\n      <td>1</td>\n      <td>69</td>\n      <td>[{'slot': 1, 'type': {'name': 'grass', 'url': ...</td>\n    </tr>\n    <tr>\n      <th>1</th>\n      <td>ivysaur</td>\n      <td>https://pokeapi.co/api/v2/pokemon/2/</td>\n      <td>10</td>\n      <td>2</td>\n      <td>2</td>\n      <td>130</td>\n      <td>[{'slot': 1, 'type': {'name': 'grass', 'url': ...</td>\n    </tr>\n    <tr>\n      <th>2</th>\n      <td>venusaur</td>\n      <td>https://pokeapi.co/api/v2/pokemon/3/</td>\n      <td>20</td>\n      <td>3</td>\n      <td>3</td>\n      <td>1000</td>\n      <td>[{'slot': 1, 'type': {'name': 'grass', 'url': ...</td>\n    </tr>\n    <tr>\n      <th>3</th>\n      <td>charmander</td>\n      <td>https://pokeapi.co/api/v2/pokemon/4/</td>\n      <td>6</td>\n      <td>4</td>\n      <td>5</td>\n      <td>85</td>\n      <td>[{'slot': 1, 'type': {'name': 'fire', 'url': '...</td>\n    </tr>\n    <tr>\n      <th>4</th>\n      <td>charmeleon</td>\n      <td>https://pokeapi.co/api/v2/pokemon/5/</td>\n      <td>11</td>\n      <td>5</td>\n      <td>6</td>\n      <td>190</td>\n      <td>[{'slot': 1, 'type': {'name': 'fire', 'url': '...</td>\n    </tr>\n    <tr>\n      <th>5</th>\n      <td>charizard</td>\n      <td>https://pokeapi.co/api/v2/pokemon/6/</td>\n      <td>17</td>\n      <td>6</td>\n      <td>7</td>\n      <td>905</td>\n      <td>[{'slot': 1, 'type': {'name': 'fire', 'url': '...</td>\n    </tr>\n    <tr>\n      <th>6</th>\n      <td>squirtle</td>\n      <td>https://pokeapi.co/api/v2/pokemon/7/</td>\n      <td>5</td>\n      <td>7</td>\n      <td>10</td>\n      <td>90</td>\n      <td>[{'slot': 1, 'type': {'name': 'water', 'url': ...</td>\n    </tr>\n    <tr>\n      <th>7</th>\n      <td>wartortle</td>\n      <td>https://pokeapi.co/api/v2/pokemon/8/</td>\n      <td>10</td>\n      <td>8</td>\n      <td>11</td>\n      <td>225</td>\n      <td>[{'slot': 1, 'type': {'name': 'water', 'url': ...</td>\n    </tr>\n    <tr>\n      <th>8</th>\n      <td>blastoise</td>\n      <td>https://pokeapi.co/api/v2/pokemon/9/</td>\n      <td>16</td>\n      <td>9</td>\n      <td>12</td>\n      <td>855</td>\n      <td>[{'slot': 1, 'type': {'name': 'water', 'url': ...</td>\n    </tr>\n    <tr>\n      <th>9</th>\n      <td>caterpie</td>\n      <td>https://pokeapi.co/api/v2/pokemon/10/</td>\n      <td>3</td>\n      <td>10</td>\n      <td>14</td>\n      <td>29</td>\n      <td>[{'slot': 1, 'type': {'name': 'bug', 'url': 'h...</td>\n    </tr>\n    <tr>\n      <th>10</th>\n      <td>metapod</td>\n      <td>https://pokeapi.co/api/v2/pokemon/11/</td>\n      <td>7</td>\n      <td>11</td>\n      <td>15</td>\n      <td>99</td>\n      <td>[{'slot': 1, 'type': {'name': 'bug', 'url': 'h...</td>\n    </tr>\n    <tr>\n      <th>11</th>\n      <td>butterfree</td>\n      <td>https://pokeapi.co/api/v2/pokemon/12/</td>\n      <td>11</td>\n      <td>12</td>\n      <td>16</td>\n      <td>320</td>\n      <td>[{'slot': 1, 'type': {'name': 'bug', 'url': 'h...</td>\n    </tr>\n    <tr>\n      <th>12</th>\n      <td>weedle</td>\n      <td>https://pokeapi.co/api/v2/pokemon/13/</td>\n      <td>3</td>\n      <td>13</td>\n      <td>17</td>\n      <td>32</td>\n      <td>[{'slot': 1, 'type': {'name': 'bug', 'url': 'h...</td>\n    </tr>\n    <tr>\n      <th>13</th>\n      <td>kakuna</td>\n      <td>https://pokeapi.co/api/v2/pokemon/14/</td>\n      <td>6</td>\n      <td>14</td>\n      <td>18</td>\n      <td>100</td>\n      <td>[{'slot': 1, 'type': {'name': 'bug', 'url': 'h...</td>\n    </tr>\n    <tr>\n      <th>14</th>\n      <td>beedrill</td>\n      <td>https://pokeapi.co/api/v2/pokemon/15/</td>\n      <td>10</td>\n      <td>15</td>\n      <td>19</td>\n      <td>295</td>\n      <td>[{'slot': 1, 'type': {'name': 'bug', 'url': 'h...</td>\n    </tr>\n    <tr>\n      <th>15</th>\n      <td>pidgey</td>\n      <td>https://pokeapi.co/api/v2/pokemon/16/</td>\n      <td>3</td>\n      <td>16</td>\n      <td>21</td>\n      <td>18</td>\n      <td>[{'slot': 1, 'type': {'name': 'normal', 'url':...</td>\n    </tr>\n    <tr>\n      <th>16</th>\n      <td>pidgeotto</td>\n      <td>https://pokeapi.co/api/v2/pokemon/17/</td>\n      <td>11</td>\n      <td>17</td>\n      <td>22</td>\n      <td>300</td>\n      <td>[{'slot': 1, 'type': {'name': 'normal', 'url':...</td>\n    </tr>\n    <tr>\n      <th>17</th>\n      <td>pidgeot</td>\n      <td>https://pokeapi.co/api/v2/pokemon/18/</td>\n      <td>15</td>\n      <td>18</td>\n      <td>23</td>\n      <td>395</td>\n      <td>[{'slot': 1, 'type': {'name': 'normal', 'url':...</td>\n    </tr>\n    <tr>\n      <th>18</th>\n      <td>rattata</td>\n      <td>https://pokeapi.co/api/v2/pokemon/19/</td>\n      <td>3</td>\n      <td>19</td>\n      <td>25</td>\n      <td>35</td>\n      <td>[{'slot': 1, 'type': {'name': 'normal', 'url':...</td>\n    </tr>\n    <tr>\n      <th>19</th>\n      <td>raticate</td>\n      <td>https://pokeapi.co/api/v2/pokemon/20/</td>\n      <td>7</td>\n      <td>20</td>\n      <td>27</td>\n      <td>185</td>\n      <td>[{'slot': 1, 'type': {'name': 'normal', 'url':...</td>\n    </tr>\n  </tbody>\n</table>\n</div>"
     },
     "metadata": {},
     "execution_count": 149
    }
   ],
   "source": [
    "# Lo importante empieza aqui\n",
    "heights = []\n",
    "ids = []\n",
    "orders =[]\n",
    "weights = []\n",
    "types = []\n",
    "for i in range(len(poke_df)):\n",
    "    url = poke_df['url'][i]\n",
    "    poke_i_json = requests.get(url).json()\n",
    "    heights.append(poke_i_json['height'])\n",
    "    ids.append(poke_i_json['id'])\n",
    "    orders.append(poke_i_json['order'])\n",
    "    weights.append(poke_i_json['weight'])\n",
    "    types.append(poke_i_json['types'])\n",
    "poke_df['height'] = heights\n",
    "poke_df['id'] = ids\n",
    "poke_df['order'] = orders\n",
    "poke_df['weight'] = weights\n",
    "poke_df['types'] = types\n",
    "poke_df"
   ]
  },
  {
   "source": [
    "## Ejercicio 2"
   ],
   "cell_type": "markdown",
   "metadata": {}
  },
  {
   "cell_type": "code",
   "execution_count": 150,
   "metadata": {},
   "outputs": [
    {
     "output_type": "execute_result",
     "data": {
      "text/plain": [
       "[{'slot': 1,\n",
       "  'type': {'name': 'grass', 'url': 'https://pokeapi.co/api/v2/type/12/'}},\n",
       " {'slot': 2,\n",
       "  'type': {'name': 'poison', 'url': 'https://pokeapi.co/api/v2/type/4/'}}]"
      ]
     },
     "metadata": {},
     "execution_count": 150
    }
   ],
   "source": [
    "# A ver una sola entrada que es lo que hay que desmantelar\n",
    "poke_df['types'][0]"
   ]
  },
  {
   "cell_type": "code",
   "execution_count": 151,
   "metadata": {},
   "outputs": [
    {
     "output_type": "execute_result",
     "data": {
      "text/plain": [
       "list"
      ]
     },
     "metadata": {},
     "execution_count": 151
    }
   ],
   "source": [
    "# Dios mio es una lista\n",
    "type(poke_df['types'][0])"
   ]
  },
  {
   "cell_type": "code",
   "execution_count": 152,
   "metadata": {},
   "outputs": [
    {
     "output_type": "execute_result",
     "data": {
      "text/plain": [
       "2"
      ]
     },
     "metadata": {},
     "execution_count": 152
    }
   ],
   "source": [
    "len(poke_df['types'][0])"
   ]
  },
  {
   "cell_type": "code",
   "execution_count": 153,
   "metadata": {},
   "outputs": [
    {
     "output_type": "stream",
     "name": "stdout",
     "text": [
      "{'slot': 1, 'type': {'name': 'grass', 'url': 'https://pokeapi.co/api/v2/type/12/'}}\n----------------\n{'slot': 2, 'type': {'name': 'poison', 'url': 'https://pokeapi.co/api/v2/type/4/'}}\n----------------\n*********************\n{'slot': 1, 'type': {'name': 'grass', 'url': 'https://pokeapi.co/api/v2/type/12/'}}\n----------------\n{'slot': 2, 'type': {'name': 'poison', 'url': 'https://pokeapi.co/api/v2/type/4/'}}\n----------------\n*********************\n{'slot': 1, 'type': {'name': 'grass', 'url': 'https://pokeapi.co/api/v2/type/12/'}}\n----------------\n{'slot': 2, 'type': {'name': 'poison', 'url': 'https://pokeapi.co/api/v2/type/4/'}}\n----------------\n*********************\n{'slot': 1, 'type': {'name': 'fire', 'url': 'https://pokeapi.co/api/v2/type/10/'}}\n----------------\n*********************\n{'slot': 1, 'type': {'name': 'fire', 'url': 'https://pokeapi.co/api/v2/type/10/'}}\n----------------\n*********************\n{'slot': 1, 'type': {'name': 'fire', 'url': 'https://pokeapi.co/api/v2/type/10/'}}\n----------------\n{'slot': 2, 'type': {'name': 'flying', 'url': 'https://pokeapi.co/api/v2/type/3/'}}\n----------------\n*********************\n{'slot': 1, 'type': {'name': 'water', 'url': 'https://pokeapi.co/api/v2/type/11/'}}\n----------------\n*********************\n{'slot': 1, 'type': {'name': 'water', 'url': 'https://pokeapi.co/api/v2/type/11/'}}\n----------------\n*********************\n{'slot': 1, 'type': {'name': 'water', 'url': 'https://pokeapi.co/api/v2/type/11/'}}\n----------------\n*********************\n{'slot': 1, 'type': {'name': 'bug', 'url': 'https://pokeapi.co/api/v2/type/7/'}}\n----------------\n*********************\n{'slot': 1, 'type': {'name': 'bug', 'url': 'https://pokeapi.co/api/v2/type/7/'}}\n----------------\n*********************\n{'slot': 1, 'type': {'name': 'bug', 'url': 'https://pokeapi.co/api/v2/type/7/'}}\n----------------\n{'slot': 2, 'type': {'name': 'flying', 'url': 'https://pokeapi.co/api/v2/type/3/'}}\n----------------\n*********************\n{'slot': 1, 'type': {'name': 'bug', 'url': 'https://pokeapi.co/api/v2/type/7/'}}\n----------------\n{'slot': 2, 'type': {'name': 'poison', 'url': 'https://pokeapi.co/api/v2/type/4/'}}\n----------------\n*********************\n{'slot': 1, 'type': {'name': 'bug', 'url': 'https://pokeapi.co/api/v2/type/7/'}}\n----------------\n{'slot': 2, 'type': {'name': 'poison', 'url': 'https://pokeapi.co/api/v2/type/4/'}}\n----------------\n*********************\n{'slot': 1, 'type': {'name': 'bug', 'url': 'https://pokeapi.co/api/v2/type/7/'}}\n----------------\n{'slot': 2, 'type': {'name': 'poison', 'url': 'https://pokeapi.co/api/v2/type/4/'}}\n----------------\n*********************\n{'slot': 1, 'type': {'name': 'normal', 'url': 'https://pokeapi.co/api/v2/type/1/'}}\n----------------\n{'slot': 2, 'type': {'name': 'flying', 'url': 'https://pokeapi.co/api/v2/type/3/'}}\n----------------\n*********************\n{'slot': 1, 'type': {'name': 'normal', 'url': 'https://pokeapi.co/api/v2/type/1/'}}\n----------------\n{'slot': 2, 'type': {'name': 'flying', 'url': 'https://pokeapi.co/api/v2/type/3/'}}\n----------------\n*********************\n{'slot': 1, 'type': {'name': 'normal', 'url': 'https://pokeapi.co/api/v2/type/1/'}}\n----------------\n{'slot': 2, 'type': {'name': 'flying', 'url': 'https://pokeapi.co/api/v2/type/3/'}}\n----------------\n*********************\n{'slot': 1, 'type': {'name': 'normal', 'url': 'https://pokeapi.co/api/v2/type/1/'}}\n----------------\n*********************\n{'slot': 1, 'type': {'name': 'normal', 'url': 'https://pokeapi.co/api/v2/type/1/'}}\n----------------\n*********************\n"
     ]
    }
   ],
   "source": [
    "# A ver cada uno de los componentes\n",
    "for j in range(len(poke_df)):\n",
    "    for i in poke_df['types'][j]:\n",
    "        print(i)\n",
    "        print('----------------')\n",
    "    print('*********************')"
   ]
  },
  {
   "cell_type": "code",
   "execution_count": 154,
   "metadata": {},
   "outputs": [
    {
     "output_type": "stream",
     "name": "stdout",
     "text": [
      "[{'slot': 1, 'type': {'name': 'grass', 'url': 'https://pokeapi.co/api/v2/type/12/'}}, {'slot': 2, 'type': {'name': 'poison', 'url': 'https://pokeapi.co/api/v2/type/4/'}}]\ngrass\nhttps://pokeapi.co/api/v2/type/12/\n{'name': 'grass', 'url': 'https://pokeapi.co/api/v2/type/12/'}\npoison\nhttps://pokeapi.co/api/v2/type/4/\n{'name': 'poison', 'url': 'https://pokeapi.co/api/v2/type/4/'}\n"
     ]
    }
   ],
   "source": [
    "# Baiscamente lo que voy a meter en columnas nuevas del df\n",
    "print(poke_df['types'][0])\n",
    "print(poke_df['types'][0][0]['type']['name'])\n",
    "print(poke_df['types'][0][0]['type']['url'])\n",
    "print(poke_df['types'][0][0]['type'])\n",
    "print(poke_df['types'][0][1]['type']['name'])\n",
    "print(poke_df['types'][0][1]['type']['url'])\n",
    "print(poke_df['types'][0][1]['type'])"
   ]
  },
  {
   "cell_type": "code",
   "execution_count": 155,
   "metadata": {},
   "outputs": [],
   "source": [
    "skills1 = []\n",
    "urls_skill1 = []\n",
    "skills2 = []\n",
    "urls_skill2 =[]\n",
    "for i in range(len(poke_df)):\n",
    "    if len(poke_df['types'][i]) == 2:\n",
    "        skills1.append(poke_df['types'][i][0]['type']['name'])\n",
    "        urls_skill1.append(poke_df['types'][i][0]['type']['url'])\n",
    "        skills2.append(poke_df['types'][i][1]['type']['name'])\n",
    "        urls_skill2.append(poke_df['types'][i][1]['type']['url'])\n",
    "    else:\n",
    "        skills1.append(poke_df['types'][i][0]['type']['name'])\n",
    "        urls_skill1.append(poke_df['types'][i][0]['type']['url'])\n",
    "        skills2.append(np.nan)\n",
    "        urls_skill2.append(np.nan)\n"
   ]
  },
  {
   "cell_type": "code",
   "execution_count": 156,
   "metadata": {},
   "outputs": [
    {
     "output_type": "execute_result",
     "data": {
      "text/plain": [
       "          name                                    url  height  id  order  \\\n",
       "0    bulbasaur   https://pokeapi.co/api/v2/pokemon/1/       7   1      1   \n",
       "1      ivysaur   https://pokeapi.co/api/v2/pokemon/2/      10   2      2   \n",
       "2     venusaur   https://pokeapi.co/api/v2/pokemon/3/      20   3      3   \n",
       "3   charmander   https://pokeapi.co/api/v2/pokemon/4/       6   4      5   \n",
       "4   charmeleon   https://pokeapi.co/api/v2/pokemon/5/      11   5      6   \n",
       "5    charizard   https://pokeapi.co/api/v2/pokemon/6/      17   6      7   \n",
       "6     squirtle   https://pokeapi.co/api/v2/pokemon/7/       5   7     10   \n",
       "7    wartortle   https://pokeapi.co/api/v2/pokemon/8/      10   8     11   \n",
       "8    blastoise   https://pokeapi.co/api/v2/pokemon/9/      16   9     12   \n",
       "9     caterpie  https://pokeapi.co/api/v2/pokemon/10/       3  10     14   \n",
       "10     metapod  https://pokeapi.co/api/v2/pokemon/11/       7  11     15   \n",
       "11  butterfree  https://pokeapi.co/api/v2/pokemon/12/      11  12     16   \n",
       "12      weedle  https://pokeapi.co/api/v2/pokemon/13/       3  13     17   \n",
       "13      kakuna  https://pokeapi.co/api/v2/pokemon/14/       6  14     18   \n",
       "14    beedrill  https://pokeapi.co/api/v2/pokemon/15/      10  15     19   \n",
       "15      pidgey  https://pokeapi.co/api/v2/pokemon/16/       3  16     21   \n",
       "16   pidgeotto  https://pokeapi.co/api/v2/pokemon/17/      11  17     22   \n",
       "17     pidgeot  https://pokeapi.co/api/v2/pokemon/18/      15  18     23   \n",
       "18     rattata  https://pokeapi.co/api/v2/pokemon/19/       3  19     25   \n",
       "19    raticate  https://pokeapi.co/api/v2/pokemon/20/       7  20     27   \n",
       "\n",
       "    weight                                              types  slot 1  \\\n",
       "0       69  [{'slot': 1, 'type': {'name': 'grass', 'url': ...   grass   \n",
       "1      130  [{'slot': 1, 'type': {'name': 'grass', 'url': ...   grass   \n",
       "2     1000  [{'slot': 1, 'type': {'name': 'grass', 'url': ...   grass   \n",
       "3       85  [{'slot': 1, 'type': {'name': 'fire', 'url': '...    fire   \n",
       "4      190  [{'slot': 1, 'type': {'name': 'fire', 'url': '...    fire   \n",
       "5      905  [{'slot': 1, 'type': {'name': 'fire', 'url': '...    fire   \n",
       "6       90  [{'slot': 1, 'type': {'name': 'water', 'url': ...   water   \n",
       "7      225  [{'slot': 1, 'type': {'name': 'water', 'url': ...   water   \n",
       "8      855  [{'slot': 1, 'type': {'name': 'water', 'url': ...   water   \n",
       "9       29  [{'slot': 1, 'type': {'name': 'bug', 'url': 'h...     bug   \n",
       "10      99  [{'slot': 1, 'type': {'name': 'bug', 'url': 'h...     bug   \n",
       "11     320  [{'slot': 1, 'type': {'name': 'bug', 'url': 'h...     bug   \n",
       "12      32  [{'slot': 1, 'type': {'name': 'bug', 'url': 'h...     bug   \n",
       "13     100  [{'slot': 1, 'type': {'name': 'bug', 'url': 'h...     bug   \n",
       "14     295  [{'slot': 1, 'type': {'name': 'bug', 'url': 'h...     bug   \n",
       "15      18  [{'slot': 1, 'type': {'name': 'normal', 'url':...  normal   \n",
       "16     300  [{'slot': 1, 'type': {'name': 'normal', 'url':...  normal   \n",
       "17     395  [{'slot': 1, 'type': {'name': 'normal', 'url':...  normal   \n",
       "18      35  [{'slot': 1, 'type': {'name': 'normal', 'url':...  normal   \n",
       "19     185  [{'slot': 1, 'type': {'name': 'normal', 'url':...  normal   \n",
       "\n",
       "                            url_slot_1  slot 2  \\\n",
       "0   https://pokeapi.co/api/v2/type/12/  poison   \n",
       "1   https://pokeapi.co/api/v2/type/12/  poison   \n",
       "2   https://pokeapi.co/api/v2/type/12/  poison   \n",
       "3   https://pokeapi.co/api/v2/type/10/     NaN   \n",
       "4   https://pokeapi.co/api/v2/type/10/     NaN   \n",
       "5   https://pokeapi.co/api/v2/type/10/  flying   \n",
       "6   https://pokeapi.co/api/v2/type/11/     NaN   \n",
       "7   https://pokeapi.co/api/v2/type/11/     NaN   \n",
       "8   https://pokeapi.co/api/v2/type/11/     NaN   \n",
       "9    https://pokeapi.co/api/v2/type/7/     NaN   \n",
       "10   https://pokeapi.co/api/v2/type/7/     NaN   \n",
       "11   https://pokeapi.co/api/v2/type/7/  flying   \n",
       "12   https://pokeapi.co/api/v2/type/7/  poison   \n",
       "13   https://pokeapi.co/api/v2/type/7/  poison   \n",
       "14   https://pokeapi.co/api/v2/type/7/  poison   \n",
       "15   https://pokeapi.co/api/v2/type/1/  flying   \n",
       "16   https://pokeapi.co/api/v2/type/1/  flying   \n",
       "17   https://pokeapi.co/api/v2/type/1/  flying   \n",
       "18   https://pokeapi.co/api/v2/type/1/     NaN   \n",
       "19   https://pokeapi.co/api/v2/type/1/     NaN   \n",
       "\n",
       "                           url_slot_2  \n",
       "0   https://pokeapi.co/api/v2/type/4/  \n",
       "1   https://pokeapi.co/api/v2/type/4/  \n",
       "2   https://pokeapi.co/api/v2/type/4/  \n",
       "3                                 NaN  \n",
       "4                                 NaN  \n",
       "5   https://pokeapi.co/api/v2/type/3/  \n",
       "6                                 NaN  \n",
       "7                                 NaN  \n",
       "8                                 NaN  \n",
       "9                                 NaN  \n",
       "10                                NaN  \n",
       "11  https://pokeapi.co/api/v2/type/3/  \n",
       "12  https://pokeapi.co/api/v2/type/4/  \n",
       "13  https://pokeapi.co/api/v2/type/4/  \n",
       "14  https://pokeapi.co/api/v2/type/4/  \n",
       "15  https://pokeapi.co/api/v2/type/3/  \n",
       "16  https://pokeapi.co/api/v2/type/3/  \n",
       "17  https://pokeapi.co/api/v2/type/3/  \n",
       "18                                NaN  \n",
       "19                                NaN  "
      ],
      "text/html": "<div>\n<style scoped>\n    .dataframe tbody tr th:only-of-type {\n        vertical-align: middle;\n    }\n\n    .dataframe tbody tr th {\n        vertical-align: top;\n    }\n\n    .dataframe thead th {\n        text-align: right;\n    }\n</style>\n<table border=\"1\" class=\"dataframe\">\n  <thead>\n    <tr style=\"text-align: right;\">\n      <th></th>\n      <th>name</th>\n      <th>url</th>\n      <th>height</th>\n      <th>id</th>\n      <th>order</th>\n      <th>weight</th>\n      <th>types</th>\n      <th>slot 1</th>\n      <th>url_slot_1</th>\n      <th>slot 2</th>\n      <th>url_slot_2</th>\n    </tr>\n  </thead>\n  <tbody>\n    <tr>\n      <th>0</th>\n      <td>bulbasaur</td>\n      <td>https://pokeapi.co/api/v2/pokemon/1/</td>\n      <td>7</td>\n      <td>1</td>\n      <td>1</td>\n      <td>69</td>\n      <td>[{'slot': 1, 'type': {'name': 'grass', 'url': ...</td>\n      <td>grass</td>\n      <td>https://pokeapi.co/api/v2/type/12/</td>\n      <td>poison</td>\n      <td>https://pokeapi.co/api/v2/type/4/</td>\n    </tr>\n    <tr>\n      <th>1</th>\n      <td>ivysaur</td>\n      <td>https://pokeapi.co/api/v2/pokemon/2/</td>\n      <td>10</td>\n      <td>2</td>\n      <td>2</td>\n      <td>130</td>\n      <td>[{'slot': 1, 'type': {'name': 'grass', 'url': ...</td>\n      <td>grass</td>\n      <td>https://pokeapi.co/api/v2/type/12/</td>\n      <td>poison</td>\n      <td>https://pokeapi.co/api/v2/type/4/</td>\n    </tr>\n    <tr>\n      <th>2</th>\n      <td>venusaur</td>\n      <td>https://pokeapi.co/api/v2/pokemon/3/</td>\n      <td>20</td>\n      <td>3</td>\n      <td>3</td>\n      <td>1000</td>\n      <td>[{'slot': 1, 'type': {'name': 'grass', 'url': ...</td>\n      <td>grass</td>\n      <td>https://pokeapi.co/api/v2/type/12/</td>\n      <td>poison</td>\n      <td>https://pokeapi.co/api/v2/type/4/</td>\n    </tr>\n    <tr>\n      <th>3</th>\n      <td>charmander</td>\n      <td>https://pokeapi.co/api/v2/pokemon/4/</td>\n      <td>6</td>\n      <td>4</td>\n      <td>5</td>\n      <td>85</td>\n      <td>[{'slot': 1, 'type': {'name': 'fire', 'url': '...</td>\n      <td>fire</td>\n      <td>https://pokeapi.co/api/v2/type/10/</td>\n      <td>NaN</td>\n      <td>NaN</td>\n    </tr>\n    <tr>\n      <th>4</th>\n      <td>charmeleon</td>\n      <td>https://pokeapi.co/api/v2/pokemon/5/</td>\n      <td>11</td>\n      <td>5</td>\n      <td>6</td>\n      <td>190</td>\n      <td>[{'slot': 1, 'type': {'name': 'fire', 'url': '...</td>\n      <td>fire</td>\n      <td>https://pokeapi.co/api/v2/type/10/</td>\n      <td>NaN</td>\n      <td>NaN</td>\n    </tr>\n    <tr>\n      <th>5</th>\n      <td>charizard</td>\n      <td>https://pokeapi.co/api/v2/pokemon/6/</td>\n      <td>17</td>\n      <td>6</td>\n      <td>7</td>\n      <td>905</td>\n      <td>[{'slot': 1, 'type': {'name': 'fire', 'url': '...</td>\n      <td>fire</td>\n      <td>https://pokeapi.co/api/v2/type/10/</td>\n      <td>flying</td>\n      <td>https://pokeapi.co/api/v2/type/3/</td>\n    </tr>\n    <tr>\n      <th>6</th>\n      <td>squirtle</td>\n      <td>https://pokeapi.co/api/v2/pokemon/7/</td>\n      <td>5</td>\n      <td>7</td>\n      <td>10</td>\n      <td>90</td>\n      <td>[{'slot': 1, 'type': {'name': 'water', 'url': ...</td>\n      <td>water</td>\n      <td>https://pokeapi.co/api/v2/type/11/</td>\n      <td>NaN</td>\n      <td>NaN</td>\n    </tr>\n    <tr>\n      <th>7</th>\n      <td>wartortle</td>\n      <td>https://pokeapi.co/api/v2/pokemon/8/</td>\n      <td>10</td>\n      <td>8</td>\n      <td>11</td>\n      <td>225</td>\n      <td>[{'slot': 1, 'type': {'name': 'water', 'url': ...</td>\n      <td>water</td>\n      <td>https://pokeapi.co/api/v2/type/11/</td>\n      <td>NaN</td>\n      <td>NaN</td>\n    </tr>\n    <tr>\n      <th>8</th>\n      <td>blastoise</td>\n      <td>https://pokeapi.co/api/v2/pokemon/9/</td>\n      <td>16</td>\n      <td>9</td>\n      <td>12</td>\n      <td>855</td>\n      <td>[{'slot': 1, 'type': {'name': 'water', 'url': ...</td>\n      <td>water</td>\n      <td>https://pokeapi.co/api/v2/type/11/</td>\n      <td>NaN</td>\n      <td>NaN</td>\n    </tr>\n    <tr>\n      <th>9</th>\n      <td>caterpie</td>\n      <td>https://pokeapi.co/api/v2/pokemon/10/</td>\n      <td>3</td>\n      <td>10</td>\n      <td>14</td>\n      <td>29</td>\n      <td>[{'slot': 1, 'type': {'name': 'bug', 'url': 'h...</td>\n      <td>bug</td>\n      <td>https://pokeapi.co/api/v2/type/7/</td>\n      <td>NaN</td>\n      <td>NaN</td>\n    </tr>\n    <tr>\n      <th>10</th>\n      <td>metapod</td>\n      <td>https://pokeapi.co/api/v2/pokemon/11/</td>\n      <td>7</td>\n      <td>11</td>\n      <td>15</td>\n      <td>99</td>\n      <td>[{'slot': 1, 'type': {'name': 'bug', 'url': 'h...</td>\n      <td>bug</td>\n      <td>https://pokeapi.co/api/v2/type/7/</td>\n      <td>NaN</td>\n      <td>NaN</td>\n    </tr>\n    <tr>\n      <th>11</th>\n      <td>butterfree</td>\n      <td>https://pokeapi.co/api/v2/pokemon/12/</td>\n      <td>11</td>\n      <td>12</td>\n      <td>16</td>\n      <td>320</td>\n      <td>[{'slot': 1, 'type': {'name': 'bug', 'url': 'h...</td>\n      <td>bug</td>\n      <td>https://pokeapi.co/api/v2/type/7/</td>\n      <td>flying</td>\n      <td>https://pokeapi.co/api/v2/type/3/</td>\n    </tr>\n    <tr>\n      <th>12</th>\n      <td>weedle</td>\n      <td>https://pokeapi.co/api/v2/pokemon/13/</td>\n      <td>3</td>\n      <td>13</td>\n      <td>17</td>\n      <td>32</td>\n      <td>[{'slot': 1, 'type': {'name': 'bug', 'url': 'h...</td>\n      <td>bug</td>\n      <td>https://pokeapi.co/api/v2/type/7/</td>\n      <td>poison</td>\n      <td>https://pokeapi.co/api/v2/type/4/</td>\n    </tr>\n    <tr>\n      <th>13</th>\n      <td>kakuna</td>\n      <td>https://pokeapi.co/api/v2/pokemon/14/</td>\n      <td>6</td>\n      <td>14</td>\n      <td>18</td>\n      <td>100</td>\n      <td>[{'slot': 1, 'type': {'name': 'bug', 'url': 'h...</td>\n      <td>bug</td>\n      <td>https://pokeapi.co/api/v2/type/7/</td>\n      <td>poison</td>\n      <td>https://pokeapi.co/api/v2/type/4/</td>\n    </tr>\n    <tr>\n      <th>14</th>\n      <td>beedrill</td>\n      <td>https://pokeapi.co/api/v2/pokemon/15/</td>\n      <td>10</td>\n      <td>15</td>\n      <td>19</td>\n      <td>295</td>\n      <td>[{'slot': 1, 'type': {'name': 'bug', 'url': 'h...</td>\n      <td>bug</td>\n      <td>https://pokeapi.co/api/v2/type/7/</td>\n      <td>poison</td>\n      <td>https://pokeapi.co/api/v2/type/4/</td>\n    </tr>\n    <tr>\n      <th>15</th>\n      <td>pidgey</td>\n      <td>https://pokeapi.co/api/v2/pokemon/16/</td>\n      <td>3</td>\n      <td>16</td>\n      <td>21</td>\n      <td>18</td>\n      <td>[{'slot': 1, 'type': {'name': 'normal', 'url':...</td>\n      <td>normal</td>\n      <td>https://pokeapi.co/api/v2/type/1/</td>\n      <td>flying</td>\n      <td>https://pokeapi.co/api/v2/type/3/</td>\n    </tr>\n    <tr>\n      <th>16</th>\n      <td>pidgeotto</td>\n      <td>https://pokeapi.co/api/v2/pokemon/17/</td>\n      <td>11</td>\n      <td>17</td>\n      <td>22</td>\n      <td>300</td>\n      <td>[{'slot': 1, 'type': {'name': 'normal', 'url':...</td>\n      <td>normal</td>\n      <td>https://pokeapi.co/api/v2/type/1/</td>\n      <td>flying</td>\n      <td>https://pokeapi.co/api/v2/type/3/</td>\n    </tr>\n    <tr>\n      <th>17</th>\n      <td>pidgeot</td>\n      <td>https://pokeapi.co/api/v2/pokemon/18/</td>\n      <td>15</td>\n      <td>18</td>\n      <td>23</td>\n      <td>395</td>\n      <td>[{'slot': 1, 'type': {'name': 'normal', 'url':...</td>\n      <td>normal</td>\n      <td>https://pokeapi.co/api/v2/type/1/</td>\n      <td>flying</td>\n      <td>https://pokeapi.co/api/v2/type/3/</td>\n    </tr>\n    <tr>\n      <th>18</th>\n      <td>rattata</td>\n      <td>https://pokeapi.co/api/v2/pokemon/19/</td>\n      <td>3</td>\n      <td>19</td>\n      <td>25</td>\n      <td>35</td>\n      <td>[{'slot': 1, 'type': {'name': 'normal', 'url':...</td>\n      <td>normal</td>\n      <td>https://pokeapi.co/api/v2/type/1/</td>\n      <td>NaN</td>\n      <td>NaN</td>\n    </tr>\n    <tr>\n      <th>19</th>\n      <td>raticate</td>\n      <td>https://pokeapi.co/api/v2/pokemon/20/</td>\n      <td>7</td>\n      <td>20</td>\n      <td>27</td>\n      <td>185</td>\n      <td>[{'slot': 1, 'type': {'name': 'normal', 'url':...</td>\n      <td>normal</td>\n      <td>https://pokeapi.co/api/v2/type/1/</td>\n      <td>NaN</td>\n      <td>NaN</td>\n    </tr>\n  </tbody>\n</table>\n</div>"
     },
     "metadata": {},
     "execution_count": 156
    }
   ],
   "source": [
    "poke_df['slot 1'] = skills1\n",
    "poke_df['url_slot_1'] = urls_skill1\n",
    "poke_df['slot 2'] = skills2\n",
    "poke_df['url_slot_2'] = urls_skill2\n",
    "poke_df"
   ]
  },
  {
   "cell_type": "code",
   "execution_count": 157,
   "metadata": {},
   "outputs": [
    {
     "output_type": "execute_result",
     "data": {
      "text/plain": [
       "          name                                    url  height  id  order  \\\n",
       "0    bulbasaur   https://pokeapi.co/api/v2/pokemon/1/       7   1      1   \n",
       "1      ivysaur   https://pokeapi.co/api/v2/pokemon/2/      10   2      2   \n",
       "2     venusaur   https://pokeapi.co/api/v2/pokemon/3/      20   3      3   \n",
       "3   charmander   https://pokeapi.co/api/v2/pokemon/4/       6   4      5   \n",
       "4   charmeleon   https://pokeapi.co/api/v2/pokemon/5/      11   5      6   \n",
       "5    charizard   https://pokeapi.co/api/v2/pokemon/6/      17   6      7   \n",
       "6     squirtle   https://pokeapi.co/api/v2/pokemon/7/       5   7     10   \n",
       "7    wartortle   https://pokeapi.co/api/v2/pokemon/8/      10   8     11   \n",
       "8    blastoise   https://pokeapi.co/api/v2/pokemon/9/      16   9     12   \n",
       "9     caterpie  https://pokeapi.co/api/v2/pokemon/10/       3  10     14   \n",
       "10     metapod  https://pokeapi.co/api/v2/pokemon/11/       7  11     15   \n",
       "11  butterfree  https://pokeapi.co/api/v2/pokemon/12/      11  12     16   \n",
       "12      weedle  https://pokeapi.co/api/v2/pokemon/13/       3  13     17   \n",
       "13      kakuna  https://pokeapi.co/api/v2/pokemon/14/       6  14     18   \n",
       "14    beedrill  https://pokeapi.co/api/v2/pokemon/15/      10  15     19   \n",
       "15      pidgey  https://pokeapi.co/api/v2/pokemon/16/       3  16     21   \n",
       "16   pidgeotto  https://pokeapi.co/api/v2/pokemon/17/      11  17     22   \n",
       "17     pidgeot  https://pokeapi.co/api/v2/pokemon/18/      15  18     23   \n",
       "18     rattata  https://pokeapi.co/api/v2/pokemon/19/       3  19     25   \n",
       "19    raticate  https://pokeapi.co/api/v2/pokemon/20/       7  20     27   \n",
       "\n",
       "    weight  slot 1                          url_slot_1  slot 2  \\\n",
       "0       69   grass  https://pokeapi.co/api/v2/type/12/  poison   \n",
       "1      130   grass  https://pokeapi.co/api/v2/type/12/  poison   \n",
       "2     1000   grass  https://pokeapi.co/api/v2/type/12/  poison   \n",
       "3       85    fire  https://pokeapi.co/api/v2/type/10/     NaN   \n",
       "4      190    fire  https://pokeapi.co/api/v2/type/10/     NaN   \n",
       "5      905    fire  https://pokeapi.co/api/v2/type/10/  flying   \n",
       "6       90   water  https://pokeapi.co/api/v2/type/11/     NaN   \n",
       "7      225   water  https://pokeapi.co/api/v2/type/11/     NaN   \n",
       "8      855   water  https://pokeapi.co/api/v2/type/11/     NaN   \n",
       "9       29     bug   https://pokeapi.co/api/v2/type/7/     NaN   \n",
       "10      99     bug   https://pokeapi.co/api/v2/type/7/     NaN   \n",
       "11     320     bug   https://pokeapi.co/api/v2/type/7/  flying   \n",
       "12      32     bug   https://pokeapi.co/api/v2/type/7/  poison   \n",
       "13     100     bug   https://pokeapi.co/api/v2/type/7/  poison   \n",
       "14     295     bug   https://pokeapi.co/api/v2/type/7/  poison   \n",
       "15      18  normal   https://pokeapi.co/api/v2/type/1/  flying   \n",
       "16     300  normal   https://pokeapi.co/api/v2/type/1/  flying   \n",
       "17     395  normal   https://pokeapi.co/api/v2/type/1/  flying   \n",
       "18      35  normal   https://pokeapi.co/api/v2/type/1/     NaN   \n",
       "19     185  normal   https://pokeapi.co/api/v2/type/1/     NaN   \n",
       "\n",
       "                           url_slot_2  \n",
       "0   https://pokeapi.co/api/v2/type/4/  \n",
       "1   https://pokeapi.co/api/v2/type/4/  \n",
       "2   https://pokeapi.co/api/v2/type/4/  \n",
       "3                                 NaN  \n",
       "4                                 NaN  \n",
       "5   https://pokeapi.co/api/v2/type/3/  \n",
       "6                                 NaN  \n",
       "7                                 NaN  \n",
       "8                                 NaN  \n",
       "9                                 NaN  \n",
       "10                                NaN  \n",
       "11  https://pokeapi.co/api/v2/type/3/  \n",
       "12  https://pokeapi.co/api/v2/type/4/  \n",
       "13  https://pokeapi.co/api/v2/type/4/  \n",
       "14  https://pokeapi.co/api/v2/type/4/  \n",
       "15  https://pokeapi.co/api/v2/type/3/  \n",
       "16  https://pokeapi.co/api/v2/type/3/  \n",
       "17  https://pokeapi.co/api/v2/type/3/  \n",
       "18                                NaN  \n",
       "19                                NaN  "
      ],
      "text/html": "<div>\n<style scoped>\n    .dataframe tbody tr th:only-of-type {\n        vertical-align: middle;\n    }\n\n    .dataframe tbody tr th {\n        vertical-align: top;\n    }\n\n    .dataframe thead th {\n        text-align: right;\n    }\n</style>\n<table border=\"1\" class=\"dataframe\">\n  <thead>\n    <tr style=\"text-align: right;\">\n      <th></th>\n      <th>name</th>\n      <th>url</th>\n      <th>height</th>\n      <th>id</th>\n      <th>order</th>\n      <th>weight</th>\n      <th>slot 1</th>\n      <th>url_slot_1</th>\n      <th>slot 2</th>\n      <th>url_slot_2</th>\n    </tr>\n  </thead>\n  <tbody>\n    <tr>\n      <th>0</th>\n      <td>bulbasaur</td>\n      <td>https://pokeapi.co/api/v2/pokemon/1/</td>\n      <td>7</td>\n      <td>1</td>\n      <td>1</td>\n      <td>69</td>\n      <td>grass</td>\n      <td>https://pokeapi.co/api/v2/type/12/</td>\n      <td>poison</td>\n      <td>https://pokeapi.co/api/v2/type/4/</td>\n    </tr>\n    <tr>\n      <th>1</th>\n      <td>ivysaur</td>\n      <td>https://pokeapi.co/api/v2/pokemon/2/</td>\n      <td>10</td>\n      <td>2</td>\n      <td>2</td>\n      <td>130</td>\n      <td>grass</td>\n      <td>https://pokeapi.co/api/v2/type/12/</td>\n      <td>poison</td>\n      <td>https://pokeapi.co/api/v2/type/4/</td>\n    </tr>\n    <tr>\n      <th>2</th>\n      <td>venusaur</td>\n      <td>https://pokeapi.co/api/v2/pokemon/3/</td>\n      <td>20</td>\n      <td>3</td>\n      <td>3</td>\n      <td>1000</td>\n      <td>grass</td>\n      <td>https://pokeapi.co/api/v2/type/12/</td>\n      <td>poison</td>\n      <td>https://pokeapi.co/api/v2/type/4/</td>\n    </tr>\n    <tr>\n      <th>3</th>\n      <td>charmander</td>\n      <td>https://pokeapi.co/api/v2/pokemon/4/</td>\n      <td>6</td>\n      <td>4</td>\n      <td>5</td>\n      <td>85</td>\n      <td>fire</td>\n      <td>https://pokeapi.co/api/v2/type/10/</td>\n      <td>NaN</td>\n      <td>NaN</td>\n    </tr>\n    <tr>\n      <th>4</th>\n      <td>charmeleon</td>\n      <td>https://pokeapi.co/api/v2/pokemon/5/</td>\n      <td>11</td>\n      <td>5</td>\n      <td>6</td>\n      <td>190</td>\n      <td>fire</td>\n      <td>https://pokeapi.co/api/v2/type/10/</td>\n      <td>NaN</td>\n      <td>NaN</td>\n    </tr>\n    <tr>\n      <th>5</th>\n      <td>charizard</td>\n      <td>https://pokeapi.co/api/v2/pokemon/6/</td>\n      <td>17</td>\n      <td>6</td>\n      <td>7</td>\n      <td>905</td>\n      <td>fire</td>\n      <td>https://pokeapi.co/api/v2/type/10/</td>\n      <td>flying</td>\n      <td>https://pokeapi.co/api/v2/type/3/</td>\n    </tr>\n    <tr>\n      <th>6</th>\n      <td>squirtle</td>\n      <td>https://pokeapi.co/api/v2/pokemon/7/</td>\n      <td>5</td>\n      <td>7</td>\n      <td>10</td>\n      <td>90</td>\n      <td>water</td>\n      <td>https://pokeapi.co/api/v2/type/11/</td>\n      <td>NaN</td>\n      <td>NaN</td>\n    </tr>\n    <tr>\n      <th>7</th>\n      <td>wartortle</td>\n      <td>https://pokeapi.co/api/v2/pokemon/8/</td>\n      <td>10</td>\n      <td>8</td>\n      <td>11</td>\n      <td>225</td>\n      <td>water</td>\n      <td>https://pokeapi.co/api/v2/type/11/</td>\n      <td>NaN</td>\n      <td>NaN</td>\n    </tr>\n    <tr>\n      <th>8</th>\n      <td>blastoise</td>\n      <td>https://pokeapi.co/api/v2/pokemon/9/</td>\n      <td>16</td>\n      <td>9</td>\n      <td>12</td>\n      <td>855</td>\n      <td>water</td>\n      <td>https://pokeapi.co/api/v2/type/11/</td>\n      <td>NaN</td>\n      <td>NaN</td>\n    </tr>\n    <tr>\n      <th>9</th>\n      <td>caterpie</td>\n      <td>https://pokeapi.co/api/v2/pokemon/10/</td>\n      <td>3</td>\n      <td>10</td>\n      <td>14</td>\n      <td>29</td>\n      <td>bug</td>\n      <td>https://pokeapi.co/api/v2/type/7/</td>\n      <td>NaN</td>\n      <td>NaN</td>\n    </tr>\n    <tr>\n      <th>10</th>\n      <td>metapod</td>\n      <td>https://pokeapi.co/api/v2/pokemon/11/</td>\n      <td>7</td>\n      <td>11</td>\n      <td>15</td>\n      <td>99</td>\n      <td>bug</td>\n      <td>https://pokeapi.co/api/v2/type/7/</td>\n      <td>NaN</td>\n      <td>NaN</td>\n    </tr>\n    <tr>\n      <th>11</th>\n      <td>butterfree</td>\n      <td>https://pokeapi.co/api/v2/pokemon/12/</td>\n      <td>11</td>\n      <td>12</td>\n      <td>16</td>\n      <td>320</td>\n      <td>bug</td>\n      <td>https://pokeapi.co/api/v2/type/7/</td>\n      <td>flying</td>\n      <td>https://pokeapi.co/api/v2/type/3/</td>\n    </tr>\n    <tr>\n      <th>12</th>\n      <td>weedle</td>\n      <td>https://pokeapi.co/api/v2/pokemon/13/</td>\n      <td>3</td>\n      <td>13</td>\n      <td>17</td>\n      <td>32</td>\n      <td>bug</td>\n      <td>https://pokeapi.co/api/v2/type/7/</td>\n      <td>poison</td>\n      <td>https://pokeapi.co/api/v2/type/4/</td>\n    </tr>\n    <tr>\n      <th>13</th>\n      <td>kakuna</td>\n      <td>https://pokeapi.co/api/v2/pokemon/14/</td>\n      <td>6</td>\n      <td>14</td>\n      <td>18</td>\n      <td>100</td>\n      <td>bug</td>\n      <td>https://pokeapi.co/api/v2/type/7/</td>\n      <td>poison</td>\n      <td>https://pokeapi.co/api/v2/type/4/</td>\n    </tr>\n    <tr>\n      <th>14</th>\n      <td>beedrill</td>\n      <td>https://pokeapi.co/api/v2/pokemon/15/</td>\n      <td>10</td>\n      <td>15</td>\n      <td>19</td>\n      <td>295</td>\n      <td>bug</td>\n      <td>https://pokeapi.co/api/v2/type/7/</td>\n      <td>poison</td>\n      <td>https://pokeapi.co/api/v2/type/4/</td>\n    </tr>\n    <tr>\n      <th>15</th>\n      <td>pidgey</td>\n      <td>https://pokeapi.co/api/v2/pokemon/16/</td>\n      <td>3</td>\n      <td>16</td>\n      <td>21</td>\n      <td>18</td>\n      <td>normal</td>\n      <td>https://pokeapi.co/api/v2/type/1/</td>\n      <td>flying</td>\n      <td>https://pokeapi.co/api/v2/type/3/</td>\n    </tr>\n    <tr>\n      <th>16</th>\n      <td>pidgeotto</td>\n      <td>https://pokeapi.co/api/v2/pokemon/17/</td>\n      <td>11</td>\n      <td>17</td>\n      <td>22</td>\n      <td>300</td>\n      <td>normal</td>\n      <td>https://pokeapi.co/api/v2/type/1/</td>\n      <td>flying</td>\n      <td>https://pokeapi.co/api/v2/type/3/</td>\n    </tr>\n    <tr>\n      <th>17</th>\n      <td>pidgeot</td>\n      <td>https://pokeapi.co/api/v2/pokemon/18/</td>\n      <td>15</td>\n      <td>18</td>\n      <td>23</td>\n      <td>395</td>\n      <td>normal</td>\n      <td>https://pokeapi.co/api/v2/type/1/</td>\n      <td>flying</td>\n      <td>https://pokeapi.co/api/v2/type/3/</td>\n    </tr>\n    <tr>\n      <th>18</th>\n      <td>rattata</td>\n      <td>https://pokeapi.co/api/v2/pokemon/19/</td>\n      <td>3</td>\n      <td>19</td>\n      <td>25</td>\n      <td>35</td>\n      <td>normal</td>\n      <td>https://pokeapi.co/api/v2/type/1/</td>\n      <td>NaN</td>\n      <td>NaN</td>\n    </tr>\n    <tr>\n      <th>19</th>\n      <td>raticate</td>\n      <td>https://pokeapi.co/api/v2/pokemon/20/</td>\n      <td>7</td>\n      <td>20</td>\n      <td>27</td>\n      <td>185</td>\n      <td>normal</td>\n      <td>https://pokeapi.co/api/v2/type/1/</td>\n      <td>NaN</td>\n      <td>NaN</td>\n    </tr>\n  </tbody>\n</table>\n</div>"
     },
     "metadata": {},
     "execution_count": 157
    }
   ],
   "source": [
    "# Ahora solo hay que quitar la columna types\n",
    "poke_df = poke_df.drop(columns = 'types')\n",
    "poke_df"
   ]
  },
  {
   "cell_type": "code",
   "execution_count": null,
   "metadata": {},
   "outputs": [],
   "source": [
    "# no se si tenia que quedar asi o de otra forma pero he llegado hasta aqui :)"
   ]
  }
 ]
}
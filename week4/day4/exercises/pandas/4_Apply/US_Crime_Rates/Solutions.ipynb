version https://git-lfs.github.com/spec/v1
oid sha256:c553c074abd53f44d75ed5bb55ca324870235a2f6b25fafbb501485b9012022a
size 24398

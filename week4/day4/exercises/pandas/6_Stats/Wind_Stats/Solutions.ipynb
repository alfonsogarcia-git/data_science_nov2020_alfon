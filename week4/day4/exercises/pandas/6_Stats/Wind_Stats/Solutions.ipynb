version https://git-lfs.github.com/spec/v1
oid sha256:2649ae4cfdc813948ace0804cbaffc8b7e0072b4709b0a8bf83f797833b50397
size 150329

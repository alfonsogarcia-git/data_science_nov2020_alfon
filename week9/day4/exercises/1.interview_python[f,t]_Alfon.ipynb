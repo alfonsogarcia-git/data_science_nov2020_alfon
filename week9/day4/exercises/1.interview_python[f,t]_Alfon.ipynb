{
 "metadata": {
  "language_info": {
   "codemirror_mode": {
    "name": "ipython",
    "version": 3
   },
   "file_extension": ".py",
   "mimetype": "text/x-python",
   "name": "python",
   "nbconvert_exporter": "python",
   "pygments_lexer": "ipython3",
   "version": "3.9.0-final"
  },
  "orig_nbformat": 2,
  "kernelspec": {
   "name": "python3",
   "display_name": "Python 3.9.0 64-bit",
   "metadata": {
    "interpreter": {
     "hash": "aee8b7b246df8f9039afb4144a1f6fd8d2ca17a180786b69acc140d282b71a49"
    }
   }
  }
 },
 "nbformat": 4,
 "nbformat_minor": 2,
 "cells": [
  {
   "cell_type": "markdown",
   "metadata": {},
   "source": [
    "Here's your coding interview problem for today.\n",
    "\n",
    "This problem was asked by Google.\n",
    "\n",
    "You are given an M by N matrix consisting of booleans that represents a board. Each True boolean represents a wall. Each False boolean represents a tile you can walk on.\n",
    "\n",
    "Given this matrix, a start coordinate, and an end coordinate, return the minimum number of steps required to reach the end coordinate from the start. If there is no possible path, then return null. You can move up, left, down, and right. You cannot move through walls. You cannot wrap around the edges of the board.\n",
    "\n",
    "For example, given the following board:\n",
    "\n",
    ">f, f, f, f,\n",
    "\n",
    ">t, t, f, t,\n",
    "\n",
    ">f, f, f, f,\n",
    "\n",
    ">f, f, f, f\n",
    "\n",
    "and start = (3, 0) (bottom left) and end = (0, 0) (top left), the minimum number of steps required to reach the end is 7, since we would need to go through (1, 2) because there is a wall everywhere else on the second row."
   ]
  },
  {
   "cell_type": "code",
   "execution_count": 4,
   "metadata": {},
   "outputs": [],
   "source": [
    "import numpy as np"
   ]
  },
  {
   "cell_type": "code",
   "execution_count": 5,
   "metadata": {},
   "outputs": [
    {
     "output_type": "stream",
     "name": "stdout",
     "text": [
      "[['f' 'f' 'f' 'f']\n ['t' 't' 'f' 't']\n ['f' 'f' 'f' 'f']\n ['f' 'f' 'f' 'f']]\n(4, 4)\n"
     ]
    },
    {
     "output_type": "execute_result",
     "data": {
      "text/plain": [
       "'f'"
      ]
     },
     "metadata": {},
     "execution_count": 5
    }
   ],
   "source": [
    "matrix = np.array([[\"f\", \"f\", \"f\", \"f\"],\n",
    "\n",
    "[\"t\", \"t\", \"f\", \"t\"],\n",
    "\n",
    "[\"f\", \"f\", \"f\", \"f\"],\n",
    "\n",
    "[\"f\", \"f\", \"f\", \"f\"]])\n",
    "\n",
    "print(matrix)\n",
    "print(matrix.shape)\n",
    "\n",
    "start = (0, 0)\n",
    "matrix[start]"
   ]
  },
  {
   "cell_type": "code",
   "execution_count": 6,
   "metadata": {},
   "outputs": [],
   "source": [
    "def find_path (matrix, start, end):\n",
    "    # Start and end coordinates are tuples, 'f' means it's walkable, 't' means it's a wall\n",
    "\n",
    "    # Starting coordinate must be an f to start\n",
    "    if matrix[start] != 'f':\n",
    "        print('Starting coordinate must be a tile!')\n",
    "        return None\n",
    "    else:\n",
    "        path = True\n",
    "        current_pos = start\n",
    "        total_steps = 0\n",
    "        max_row = matrix.shape[0] - 1\n",
    "        max_col = matrix.shape[1] - 1\n",
    "\n",
    "        while path & (current_pos != end):\n",
    "            row = current_pos[0]\n",
    "            col = current_pos[1]\n",
    "            # First check if there are nearby tiles so path is alive\n",
    "\n",
    "            # First row\n",
    "            if row == 0:\n",
    "                # First column\n",
    "                if col == 0:\n",
    "                    if matrix[row+1, col] == 'f' or matrix[row, col+1] == 'f':\n",
    "                        path = True\n",
    "                    else: \n",
    "                        path = False\n",
    "                # Last column\n",
    "                elif col == max_col:\n",
    "                    if matrix[row+1, col] == 'f' or matrix[row, col-1] == 'f':\n",
    "                        path = True\n",
    "                    else: \n",
    "                        path = False\n",
    "                # Other\n",
    "                else: \n",
    "                    if matrix[row+1, col] == 'f' or matrix[row, col-1] == 'f' or matrix[row, col+1]:\n",
    "                        path = True\n",
    "                    else: \n",
    "                        path = False   \n",
    "            # Maximum row\n",
    "            elif row == max_row:\n",
    "                # First column\n",
    "                if col == 0:\n",
    "                    if matrix[row-1, col] == 'f' or matrix[row, col+1] == 'f':\n",
    "                        path = True\n",
    "                    else: \n",
    "                        path = False\n",
    "                # Last column\n",
    "                elif col == max_col:\n",
    "                    if matrix[row-1, col] == 'f' or matrix[row, col-1] == 'f':\n",
    "                        path = True\n",
    "                    else: \n",
    "                        path = False\n",
    "                # Other\n",
    "                else: \n",
    "                    if matrix[row-1, col] == 'f' or matrix[row, col-1] == 'f' or matrix[row, col+1]:\n",
    "                        path = True\n",
    "                    else: \n",
    "                        path = False \n",
    "\n",
    "            # Not on edging row of board\n",
    "            else:\n",
    "                # First column\n",
    "                if col == 0:\n",
    "                    if matrix[row+1, col] == 'f' or matrix[row-1, col] == 'f' or matrix[row, col+1] == 'f':\n",
    "                        path = True\n",
    "                    else: \n",
    "                        path = False\n",
    "                # Last column\n",
    "                elif col == max_col:\n",
    "                    if matrix[row+1, col] == 'f' or matrix[row-1, col] == 'f' or matrix[row, col-1] == 'f':\n",
    "                        path = True\n",
    "                    else: \n",
    "                        path = False\n",
    "                # Other\n",
    "                else: \n",
    "                    if matrix[row+1, col] == 'f' or matrix[row-1, col] == 'f' or matrix[row, col+1] == 'f' or matrix[row, col-1] == 'f':\n",
    "                        path = True\n",
    "                    else:\n",
    "                        path = False\n",
    "    "
   ]
  },
  {
   "cell_type": "code",
   "execution_count": 7,
   "metadata": {
    "tags": []
   },
   "outputs": [],
   "source": [
    "find_path(matrix, start=(3,2), end=(3,3))"
   ]
  },
  {
   "cell_type": "code",
   "execution_count": null,
   "metadata": {},
   "outputs": [],
   "source": []
  }
 ]
}
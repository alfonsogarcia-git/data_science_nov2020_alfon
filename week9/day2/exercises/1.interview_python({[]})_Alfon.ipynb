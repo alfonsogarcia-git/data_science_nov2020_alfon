{
 "metadata": {
  "language_info": {
   "codemirror_mode": {
    "name": "ipython",
    "version": 3
   },
   "file_extension": ".py",
   "mimetype": "text/x-python",
   "name": "python",
   "nbconvert_exporter": "python",
   "pygments_lexer": "ipython3",
   "version": "3.9.0-final"
  },
  "orig_nbformat": 2,
  "kernelspec": {
   "name": "python3",
   "display_name": "Python 3",
   "language": "python"
  }
 },
 "nbformat": 4,
 "nbformat_minor": 2,
 "cells": [
  {
   "source": [
    "Here's your coding interview problem for today.\n",
    "\n",
    "This problem was asked by Facebook.\n",
    "\n",
    "Given a string of round, curly, and square open and closing brackets, return whether the brackets are balanced (well-formed).\n",
    "\n",
    "For example, given the string `\"([])[]({})\"`, you should return true.\n",
    "\n",
    "Given the string `\"([)]\"` or `\"((()\"`, you should return false."
   ],
   "cell_type": "markdown",
   "metadata": {}
  },
  {
   "cell_type": "code",
   "execution_count": 1,
   "metadata": {},
   "outputs": [],
   "source": [
    "# Your code\n",
    "def check_bracket_balance (brack_string):\n",
    "    symbol_dict = {'[':']',']':'[', '{':'}', '}':'{', '(':')', ')':'('}\n",
    "    open_symbols = '[{('\n",
    "    close_symbols = ']})'\n",
    "    recentopen = ''\n",
    "\n",
    "    # If there's an uneven number of symbols we can guarantee it's unbalanced\n",
    "    if len(brack_string) % 2 != 0:\n",
    "        return False\n",
    "    else:\n",
    "        for i in brack_string:\n",
    "\n",
    "            # If a character is an opening symbol we add it to string of open symbols to keep track\n",
    "            if i in open_symbols:\n",
    "                recentopen += i\n",
    "            # If it is a closing symbol it has to match the most recent opening symbol\n",
    "            elif i in close_symbols:\n",
    "                # Closing symbol matches opening symbol\n",
    "                if recentopen [-1] == symbol_dict[i]:\n",
    "                    recentopen = recentopen [:-1] # Removing opening symbol since it has been closed\n",
    "                # Closing symbol does not match opening symbol    \n",
    "                else:\n",
    "                    return False\n",
    "                    \n",
    "    # if recentopen string is empty it means that every opening symbol was successfully closed\n",
    "    if not recentopen:\n",
    "        return True\n",
    "    else:\n",
    "        return False\n",
    "    "
   ]
  },
  {
   "cell_type": "code",
   "execution_count": 2,
   "metadata": {},
   "outputs": [
    {
     "output_type": "execute_result",
     "data": {
      "text/plain": [
       "True"
      ]
     },
     "metadata": {},
     "execution_count": 2
    }
   ],
   "source": [
    "check_bracket_balance('([]{()})')"
   ]
  },
  {
   "cell_type": "code",
   "execution_count": 3,
   "metadata": {},
   "outputs": [
    {
     "output_type": "execute_result",
     "data": {
      "text/plain": [
       "False"
      ]
     },
     "metadata": {},
     "execution_count": 3
    }
   ],
   "source": [
    "check_bracket_balance('([)]')"
   ]
  }
 ]
}
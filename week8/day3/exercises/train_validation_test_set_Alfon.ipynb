{
 "metadata": {
  "language_info": {
   "codemirror_mode": {
    "name": "ipython",
    "version": 3
   },
   "file_extension": ".py",
   "mimetype": "text/x-python",
   "name": "python",
   "nbconvert_exporter": "python",
   "pygments_lexer": "ipython3",
   "version": "3.9.0-final"
  },
  "orig_nbformat": 2,
  "kernelspec": {
   "name": "python3",
   "display_name": "Python 3",
   "language": "python"
  }
 },
 "nbformat": 4,
 "nbformat_minor": 2,
 "cells": [
  {
   "cell_type": "markdown",
   "metadata": {},
   "source": [
    "### 1. \n",
    "\n",
    "Crear una función que reciba cuatro parámetros: una lista 'L', un número 'T', un número 'V' y un booleano 'S'. La función debe devolver otras dos listas: \"lista_train_val\" y \"lista_test\".\n",
    "\n",
    "- \"lista_train_val\" es una lista con dos elementos. Cada elemento es una lista: \"list_train\", que representa el conjunto de entrenamiento y \"list_val\", que representa el conjunto de validación. \n",
    "- \"list_test\" es el conjunto de test. Como mínimo ha de tener 1 elemento (si 'L' > 1).\n",
    "- \"L\" es cualquier lista de elementos. Al principio, entra con un tamaño completo (100%). Esta es la lista que se partirá y se generarán los conjuntos entrenamiento, de validación y de test.\n",
    "- \"T\" es un número entre 1 y 100 que va a representar el tamaño, en porcentaje, del conjunto de test \"list_test\". \n",
    "- \"V\" es un número entre 0 y 100 que va a representar el tamaño, en porcentaje, del conjunto de validación \"list_val\". Su valor por defecto es 0.\n",
    "- \"S\", que por defecto es False, determinará si los conjuntos \"list_train\", \"list_test\" y \"list_val\" son aleatoriamente ordenados. ¿Encuentras alguna posible incoherencia si se reordenan aleatoriamente?\n",
    "\n",
    "Prueba la función con una lista de 100 elementos números aleatorios del 0 al 100. \n",
    "\n",
    "### 2. \n",
    "\n",
    "Rehacer el ejercicio anterior en otra función para que no devuelva dos listas, sino los tres conjuntos: \n",
    "\n",
    "--> return list_train, list_val, list_test "
   ]
  },
  {
   "cell_type": "code",
   "execution_count": 37,
   "metadata": {},
   "outputs": [],
   "source": [
    "from sklearn.model_selection import train_test_split\n",
    "def split_data_ML (L, T, V=0, S=False):\n",
    "    '''\n",
    "    This function receives a list of values and some parameters splits the initial list into a training set, validation set and test set whose sizes and order vary depending on the parameters given. The function requires train_test_split function from sklearn.model_selection\n",
    "\n",
    "    Input variables:\n",
    "\n",
    "    - L is a list which will be divived into training set, validation set and test set\n",
    "    - T is a number between 1 - 100 which represents, in percentage, the size of the test set\n",
    "    - V is a number between 0 - 100 which represents, in percentage, the size of the validation set. Default value V = 0\n",
    "    - S is a boolean which determines if the returning lists will be randomized or not. Default value S = False\n",
    "\n",
    "    Function returns:\n",
    "\n",
    "    - list_train_val is a list with 2 lists inside: list_train, which contains the training values and list_val which contains the validation values\n",
    "    - list_test is a list which contains the test values\n",
    "    '''\n",
    "    # Initial constraints\n",
    "    cond1 = 1 <= T <= 100\n",
    "    cond2 = 0 <= V <= 100\n",
    "    cond3 = isinstance(S, bool)\n",
    "    if not cond1 or not cond2 or not cond3:\n",
    "        print('Input variables Wrong, please check documentation')\n",
    "        return None\n",
    "\n",
    "     # Actual exeution of the function\n",
    "    init_list_train, list_test = train_test_split(L, test_size=T/100, shuffle=S)\n",
    "\n",
    "     # Now we have a training set and a test set. The test set is the final one, so we do not have to do anythong else to it, but we have to do split the init_list_train into training and validation sets\n",
    "\n",
    "    if V == 0:\n",
    "        list_train = init_list_train\n",
    "        list_val = []\n",
    "    else:\n",
    "        list_train, list_val = train_test_split(init_list_train, test_size=V/100/(1-T/100))\n",
    "        \n",
    "        # Atento, V se divide entre 100 para normalizar el porcentaje y luego entre (1 - T/100) poruqe queremos que V sea porcentaje de la lista L, y le estamos aplicando el train_test_split a una lista que ya esta reducida en un porcentaje de T\n",
    "\n",
    "    list_train_val = [list_train, list_val]\n",
    "    return list_train_val, list_test\n",
    "\n",
    "\n",
    "\n",
    "    "
   ]
  },
  {
   "cell_type": "code",
   "execution_count": 38,
   "metadata": {},
   "outputs": [],
   "source": [
    "import numpy as np\n",
    "the_list = list(np.random.randint(0, 101, size=100))\n"
   ]
  },
  {
   "cell_type": "code",
   "execution_count": 46,
   "metadata": {},
   "outputs": [
    {
     "output_type": "stream",
     "name": "stdout",
     "text": [
      "\ntraining set: [70, 31, 62, 7, 89, 35, 25, 52, 88, 49, 7, 19, 35, 36, 69, 85, 43, 3, 51, 49, 68, 52, 82, 47, 63, 14, 56, 80, 79, 78, 14, 28, 99, 36, 43, 70, 16, 58, 10, 42, 50, 6, 32, 89, 35, 39, 8, 71, 15, 68, 3, 66, 22, 81, 76, 32, 7, 48, 97, 12] , size: 60\n\nvalidation set: [76, 86, 78, 10, 95, 18, 47, 55, 57, 90, 36, 44, 82, 81, 59, 1, 68, 20, 55, 92] , size: 20\n\ntest set: [23, 64, 1, 64, 99, 85, 25, 47, 50, 65, 92, 0, 12, 45, 14, 39, 55, 98, 73, 73] , size: 20\n"
     ]
    }
   ],
   "source": [
    "# Prueba \n",
    "train_val, test = split_data_ML(the_list, T=20, V=20, S=True)\n",
    "print('\\ntraining set:', train_val[0], ', size:', len(train_val[0]))\n",
    "print('\\nvalidation set:', train_val[1], ', size:', len(train_val[1]))\n",
    "print('\\ntest set:', test, ', size:', len(test))"
   ]
  },
  {
   "source": [
    "## Lo mismo pero con el otro requisito"
   ],
   "cell_type": "markdown",
   "metadata": {}
  },
  {
   "cell_type": "code",
   "execution_count": 48,
   "metadata": {},
   "outputs": [],
   "source": [
    "def split_data_ML2 (L, T, V=0, S=False):\n",
    "    '''\n",
    "    This function receives a list of values and some parameters splits the initial list into a training set, validation set and test set whose sizes and order vary depending on the parameters given. The function requires train_test_split function from sklearn.model_selection\n",
    "\n",
    "    Input variables:\n",
    "\n",
    "    - L is a list which will be divived into training set, validation set and test set\n",
    "    - T is a number between 1 - 100 which represents, in percentage, the size of the test set\n",
    "    - V is a number between 0 - 100 which represents, in percentage, the size of the validation set. Default value V = 0\n",
    "    - S is a boolean which determines if the returning lists will be randomized or not. Default value S = False\n",
    "\n",
    "    Function returns:\n",
    "\n",
    "    - list_train is a list that contains the training values\n",
    "    - list_val is a list that contains the validation values\n",
    "    - list_test is a list that contains the test values\n",
    "    '''\n",
    "    # Initial constraints\n",
    "    cond1 = 1 <= T <= 100\n",
    "    cond2 = 0 <= V <= 100\n",
    "    cond3 = isinstance(S, bool)\n",
    "    if not cond1 or not cond2 or not cond3:\n",
    "        print('Input variables Wrong, please check documentation')\n",
    "        return None\n",
    "\n",
    "     # Actual exeution of the function\n",
    "    init_list_train, list_test = train_test_split(L, test_size=T/100, shuffle=S)\n",
    "\n",
    "     # Now we have a training set and a test set. The test set is the final one, so we do not have to do anythong else to it, but we have to do split the init_list_train into training and validation sets\n",
    "\n",
    "    if V == 0:\n",
    "        list_train = init_list_train\n",
    "        list_val = []\n",
    "    else:\n",
    "        list_train, list_val = train_test_split(init_list_train, test_size=V/100/(1-T/100))\n",
    "        \n",
    "        # Atento, V se divide entre 100 para normalizar el porcentaje y luego entre (1 - T/100) poruqe queremos que V sea porcentaje de la lista L, y le estamos aplicando el train_test_split a una lista que ya esta reducida en un porcentaje de T\n",
    "\n",
    "    return list_train, list_val, list_test"
   ]
  },
  {
   "cell_type": "code",
   "execution_count": 49,
   "metadata": {},
   "outputs": [
    {
     "output_type": "stream",
     "name": "stdout",
     "text": [
      "\ntraining set: [52, 28, 20, 54, 67, 52, 76, 86, 46, 15, 69, 69, 92, 61, 73, 96, 36, 35, 99, 88, 27, 78, 22, 29, 72, 59, 41, 47, 63, 53, 11, 44, 55, 4, 0, 15, 20, 76, 19, 81, 1, 58, 22, 44, 42, 85, 51, 4, 22, 46, 31, 13, 60, 56, 33, 98, 28, 17, 37, 19] , size: 60\n\nvalidation set: [100, 99, 81, 98, 56, 67, 1, 73, 93, 51, 64, 87, 11, 45, 91, 100, 36, 25, 59, 91] , size: 20\n\ntest set: [34, 63, 63, 80, 33, 11, 62, 2, 73, 37, 56, 97, 39, 43, 27, 92, 19, 11, 77, 36] , size: 20\n"
     ]
    }
   ],
   "source": [
    "# Prueba requisito 2\n",
    "\n",
    "the_list2 = list(np.random.randint(0, 101, size=100))\n",
    "\n",
    "train, val, test = split_data_ML2(the_list2, T=20, V=20, S=True)\n",
    "\n",
    "print('\\ntraining set:', train, ', size:', len(train))\n",
    "print('\\nvalidation set:', val, ', size:', len(val))\n",
    "print('\\ntest set:', test, ', size:', len(test))"
   ]
  },
  {
   "cell_type": "code",
   "execution_count": null,
   "metadata": {},
   "outputs": [],
   "source": []
  }
 ]
}
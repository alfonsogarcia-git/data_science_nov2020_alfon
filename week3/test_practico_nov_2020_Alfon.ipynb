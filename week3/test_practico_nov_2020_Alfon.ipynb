{
 "metadata": {
  "language_info": {
   "codemirror_mode": {
    "name": "ipython",
    "version": 3
   },
   "file_extension": ".py",
   "mimetype": "text/x-python",
   "name": "python",
   "nbconvert_exporter": "python",
   "pygments_lexer": "ipython3",
   "version": "3.9.0-final"
  },
  "orig_nbformat": 2,
  "kernelspec": {
   "name": "python3",
   "display_name": "Python 3"
  }
 },
 "nbformat": 4,
 "nbformat_minor": 2,
 "cells": [
  {
   "source": [
    "# Test DS-FT Nov 2020\n",
    "\n"
   ],
   "cell_type": "markdown",
   "metadata": {}
  },
  {
   "source": [
    "## Primera parte:\n",
    "\n",
    "https://forms.gle/k1eyHnAXiQFyjk6X7"
   ],
   "cell_type": "markdown",
   "metadata": {}
  },
  {
   "source": [
    "-----------------"
   ],
   "cell_type": "markdown",
   "metadata": {}
  },
  {
   "source": [
    "## Segunda parte, ejercicios prácticos:"
   ],
   "cell_type": "markdown",
   "metadata": {}
  },
  {
   "source": [
    "#### Notas y pruebas de apoyo para contestar las preguntas tipo test\n",
    "Esto no es necesario usarlo, aunque verlo aquí te puede dar la respuesta a alguna de las preguntas tipo test.\n",
    "\n",
    "Cualquier código aunque no esté correcto, nos dirá más de ti, que no escribir nada. "
   ],
   "cell_type": "markdown",
   "metadata": {}
  },
  {
   "cell_type": "code",
   "execution_count": 41,
   "metadata": {},
   "outputs": [
    {
     "output_type": "error",
     "ename": "SyntaxError",
     "evalue": "invalid syntax (<ipython-input-41-2f453c729abd>, line 4)",
     "traceback": [
      "\u001b[0;36m  File \u001b[0;32m\"<ipython-input-41-2f453c729abd>\"\u001b[0;36m, line \u001b[0;32m4\u001b[0m\n\u001b[0;31m    your code\u001b[0m\n\u001b[0m         ^\u001b[0m\n\u001b[0;31mSyntaxError\u001b[0m\u001b[0;31m:\u001b[0m invalid syntax\n"
     ]
    }
   ],
   "source": [
    "# Ejemplo de como queremos ver el código para más de un intento:\n",
    "\n",
    "# intento 1\n",
    "your code\n",
    "# intento 2\n",
    "your code"
   ]
  },
  {
   "cell_type": "code",
   "execution_count": 3,
   "metadata": {},
   "outputs": [
    {
     "output_type": "execute_result",
     "data": {
      "text/plain": [
       "['b', 'c']"
      ]
     },
     "metadata": {},
     "execution_count": 3
    }
   ],
   "source": [
    "# crea todas las celdas que necesites\n",
    "# Pregunta 5\n",
    "lista = ['a', 'b', 'c']\n",
    "lista.remove('a')\n",
    "lista"
   ]
  },
  {
   "cell_type": "code",
   "execution_count": 4,
   "metadata": {},
   "outputs": [
    {
     "output_type": "stream",
     "name": "stdout",
     "text": [
      "t\nh\ne\nb\nr\ni\nd\ng\ne\n"
     ]
    }
   ],
   "source": [
    "# Pregunta 11\n",
    "for i in 'thebridge':\n",
    "    print(i)"
   ]
  },
  {
   "cell_type": "code",
   "execution_count": 5,
   "metadata": {},
   "outputs": [
    {
     "output_type": "execute_result",
     "data": {
      "text/plain": [
       "[1, 2, 3]"
      ]
     },
     "metadata": {},
     "execution_count": 5
    }
   ],
   "source": [
    "# Pregunta 12\n",
    "diccionario = {1: 'a', 2: 'b', 3: 'c'}\n",
    "list(diccionario)"
   ]
  },
  {
   "cell_type": "code",
   "execution_count": 6,
   "metadata": {},
   "outputs": [
    {
     "output_type": "stream",
     "name": "stdout",
     "text": [
      "1\n2\n3\n"
     ]
    }
   ],
   "source": [
    "# Pregunta 14\n",
    "diccionario = {1: 'a', 2: 'b', 3: 'c'}\n",
    "for i in diccionario:\n",
    "    print(i)"
   ]
  },
  {
   "cell_type": "code",
   "execution_count": 8,
   "metadata": {},
   "outputs": [
    {
     "output_type": "execute_result",
     "data": {
      "text/plain": [
       "(1, 2, 3, 'a', 'b', 'c')"
      ]
     },
     "metadata": {},
     "execution_count": 8
    }
   ],
   "source": [
    "# Pregunta 21\n",
    "tup1 = (1, 2, 3)\n",
    "tup2 = ('a', 'b', 'c')\n",
    "tup3 = tup1 + tup2\n",
    "tup3"
   ]
  },
  {
   "cell_type": "code",
   "execution_count": 13,
   "metadata": {},
   "outputs": [
    {
     "output_type": "execute_result",
     "data": {
      "text/plain": [
       "'M1'"
      ]
     },
     "metadata": {},
     "execution_count": 13
    }
   ],
   "source": [
    "# Pregunta 25\n",
    "class Bicho():\n",
    "    def __init__(self, metodo):\n",
    "        self.meth = metodo\n",
    "\n",
    "a = Bicho('M1')\n",
    "a.meth"
   ]
  },
  {
   "cell_type": "code",
   "execution_count": 17,
   "metadata": {},
   "outputs": [
    {
     "output_type": "execute_result",
     "data": {
      "text/plain": [
       "{'a': 6}"
      ]
     },
     "metadata": {},
     "execution_count": 17
    }
   ],
   "source": [
    "# Pregunta 32\n",
    "a = ['a', 'b', 'c', 'd', 'e', 'f']  \n",
    "b = [6, 2, 7, 4, 0, 5]\n",
    "diccionario = {}\n",
    "diccionario['a'] = 6\n",
    "diccionario"
   ]
  },
  {
   "cell_type": "code",
   "execution_count": 18,
   "metadata": {},
   "outputs": [
    {
     "output_type": "execute_result",
     "data": {
      "text/plain": [
       "{(2, 3, (4, 'a', 1)): 6}"
      ]
     },
     "metadata": {},
     "execution_count": 18
    }
   ],
   "source": [
    "# Pregunta 34\n",
    "diccionario = {}\n",
    "diccionario[(2, 3, (4, \"a\", 1))] = 6\n",
    "diccionario"
   ]
  },
  {
   "cell_type": "code",
   "execution_count": 9,
   "metadata": {},
   "outputs": [
    {
     "output_type": "execute_result",
     "data": {
      "text/plain": [
       "[2, 3, 4]"
      ]
     },
     "metadata": {},
     "execution_count": 9
    }
   ],
   "source": [
    "# Pregunta 35\n",
    "import a as h\n",
    "h.lista"
   ]
  },
  {
   "cell_type": "code",
   "execution_count": 10,
   "metadata": {},
   "outputs": [],
   "source": [
    "# Pregunta 35\n",
    "from c import *"
   ]
  },
  {
   "cell_type": "code",
   "execution_count": 14,
   "metadata": {},
   "outputs": [
    {
     "output_type": "execute_result",
     "data": {
      "text/plain": [
       "[1, 2, 3]"
      ]
     },
     "metadata": {},
     "execution_count": 14
    }
   ],
   "source": [
    "# Pregunta 36\n",
    "import c.b as a \n",
    "a.vect\n"
   ]
  },
  {
   "source": [
    "## Ejercicios prácticos"
   ],
   "cell_type": "markdown",
   "metadata": {}
  },
  {
   "source": [
    "#### Ejercicio 1.\n",
    "En este ejercicio se va a crear una lista con los siguientes elementos. Primero, crearemos las variables que luego añadiremos a la lista. Las variables son las siguientes:\n",
    "\n",
    "1. Crea una variable llamada `num_dni` de tipo Integer que represente el primer número de tu DNI. \n",
    "2. Crea una variable llamada `let_dni` de tipo String y que represente la letra de vuestro DNI.\n",
    "3. Crea una variable llamada `tip_ord` de tipo Boolean True si usas Windows y False si usas Mac.\n",
    "4. Crea una variable llamada `nada` de tipo None cuyo valor sea None.\n",
    "5. Crea una variable llamada `lista_deseo` de tipo List que contenga los cuatro objetos que te llevarías a una isla desierta. Cada elemento ha de ser de tipo String y el tamaño de la lista ha de ser 4.\n",
    "6. Crea una variable llamada `tupla_ropa` de tipo Tuple con la marca de la prenda superior, inferior y calzado que llevas puesto.\n",
    "7. Crea una variable llamada `dict_info` con dos keys y dos values. Una key es 'nombre', teniendo como value vuestro nombre. Otra key es 'edad', teniendo como value vuestra edad.\n",
    "8. Crea una variable llamada `flo_hor` con la hora actual separada por punto en vez de dos puntos. Ejemplo: si son las 10:06, el valor de la variable sería 10.06.\n",
    "\n",
    "Añade todos estos elementos en una lista llamada `lista_examen` en el orden de aparición."
   ],
   "cell_type": "markdown",
   "metadata": {}
  },
  {
   "cell_type": "code",
   "execution_count": 1,
   "metadata": {},
   "outputs": [
    {
     "output_type": "execute_result",
     "data": {
      "text/plain": [
       "[5,\n",
       " 'J',\n",
       " False,\n",
       " None,\n",
       " ['pelota', 'comida', 'libro', 'raqueta'],\n",
       " ('Nike', 'H&M', 'Adidas'),\n",
       " {'nombre': 'Alfon', 'edad': 22},\n",
       " 10.36]"
      ]
     },
     "metadata": {},
     "execution_count": 1
    }
   ],
   "source": [
    " # tu respuesta aquí\n",
    " num_dni = 5\n",
    " let_dni = 'J'\n",
    " tip_ord = False\n",
    " nada = None\n",
    " lista_deseo = ['pelota', 'comida', 'libro', 'raqueta']\n",
    " tupla_ropa = ('Nike', 'H&M', 'Adidas')\n",
    " dict_info = {'nombre': 'Alfon', 'edad': 22 }\n",
    " flo_hor = 10.36\n",
    " lista_examen = [num_dni, let_dni, tip_ord, nada, lista_deseo, tupla_ropa, dict_info, flo_hor]\n",
    " lista_examen"
   ]
  },
  {
   "source": [
    "#### Ejercicio 2. \n",
    "\n",
    "Para resolver este ejercicio necesitarás la lista del ejercicio anterior (`lista_examen`). Se recomeinda leer cada punto hasta el final antes de resolver el ejercicio.\n",
    "\n",
    "Se repite para que quede aún más claro: **SOLO USAR LA VARIABLE** `lista_examen`. Usar las demás variables se calificará como error.  \n",
    "\n",
    "1. Mostrar por pantalla, sin uso de funciones ni bucles: \n",
    "    - El segundo elemento de `lista_deseo` desde `lista_examen`.\n",
    "    - El calzado que llevas puesto.\n",
    "    - Vuestro nombre.\n",
    "    - La hora almacenada concatenada con vuestra edad y el número de vuestro de DNI. No debe haber espacios entre la concatenación.\n",
    "    - Si tenéis más de 20 años, el primer número de vuestro DNI es mayor a 7 y usas Mac, mostrar la posición 5 de `lista_examen`.\n",
    "    "
   ],
   "cell_type": "markdown",
   "metadata": {}
  },
  {
   "cell_type": "code",
   "execution_count": 43,
   "metadata": {},
   "outputs": [
    {
     "output_type": "stream",
     "name": "stdout",
     "text": [
      "Segundo elemento de lista deseo: comida\nCalzado: Adidas\nNombre: Alfon\nHora + edad + DNI: 10.36225\n"
     ]
    }
   ],
   "source": [
    "# tu respuesta aquí\n",
    "print('Segundo elemento de lista deseo:', lista_examen[4][1]) # El segundo elemento que no la segunda posicion, no vaya a ser que me lie luego\n",
    "print('Calzado:', lista_examen[5][2])  # Accedemos a la lista dentro de la lista\n",
    "print('Nombre:', lista_examen[6]['nombre'])  # Accedemos al diccionario dentro de la lista\n",
    "print('Hora + edad + DNI:', str(lista_examen[-1]) + str(lista_examen[6]['edad']) + str(lista_examen[0])) \n",
    "# Los pasamos a string para que puedan concatenarse\n",
    "if lista_examen[6]['edad'] > 20 and lista_examen[0] > 7 and not lista_examen[2]:\n",
    "    print('Posicion 5:', lista_examen[5])\n",
    "# No se cumple, por lo tanto no se imprime"
   ]
  },
  {
   "source": [
    "2. Mostrar por pantalla, con uso de un bucle `for`:\n",
    "    - Todos los elementos de `lista_examen`.\n",
    "    - Todos los elementos de `lista_deseo` desde `lista_examen`.\n",
    "    - Todos los elementos que ocupen una posición menor a 4 en `lista_examen`.\n"
   ],
   "cell_type": "markdown",
   "metadata": {}
  },
  {
   "cell_type": "code",
   "execution_count": 47,
   "metadata": {},
   "outputs": [
    {
     "output_type": "stream",
     "name": "stdout",
     "text": [
      "5\nJ\nFalse\nNone\n['pelota', 'comida', 'libro', 'raqueta']\n('Nike', 'H&M', 'Adidas')\n{'nombre': 'Alfon', 'edad': 22}\n10.36\n---------------------------------------------\npelota\ncomida\nlibro\nraqueta\n---------------------------------------------\nPosicion 0 ---> 5\nPosicion 1 ---> J\nPosicion 2 ---> False\nPosicion 3 ---> None\n"
     ]
    }
   ],
   "source": [
    "# tu respuesta aquí\n",
    "for i in lista_examen:\n",
    "    print(i)\n",
    "print('---------------------------------------------')  # Voy a separar por partes para que quede claro\n",
    "for j in lista_examen[4]:\n",
    "    print(j)\n",
    "print('---------------------------------------------')\n",
    "for pos in range(4):\n",
    "    print('Posicion', pos, '--->', lista_examen[pos])"
   ]
  },
  {
   "source": [
    "3. Mostrar por pantalla, con uso de un bucle while: \n",
    "    - Todos los elementos de `tupla_ropa` seguido de la cadena `\"-->\"` y la `posición` (int) que ocupa en la tupla accediendo desde `lista_examen`. Se aconseja utilizar *`enumerate`*.\n",
    "    - Cada key de `dict_info` seguido de la cadena \":\" seguido de su value desde `lista_examen`."
   ],
   "cell_type": "markdown",
   "metadata": {}
  },
  {
   "cell_type": "code",
   "execution_count": 49,
   "metadata": {},
   "outputs": [
    {
     "output_type": "stream",
     "name": "stdout",
     "text": [
      "Nike --> 0\nH&M --> 1\nAdidas --> 2\n--------------------------------\nnombre: Alfon\nedad: 22\n"
     ]
    }
   ],
   "source": [
    "# tu respuesta aquí\n",
    "idx = 0\n",
    "while 0 <= idx < len(lista_examen[5]):\n",
    "    print(lista_examen[5][idx] + ' -->', idx)\n",
    "    idx += 1\n",
    "print('--------------------------------')\n",
    "\n",
    "idx = 0\n",
    "keys = list(lista_examen[6].keys())   \n",
    "# Ya se que estoy usando una variable que no es lista_examen pero guarda un valor de list_examen y es para que se entienda bien la linea del print\n",
    "while 0 <= idx < len(lista_examen[6]):\n",
    "    print(str(keys[idx]) + ':', lista_examen[6][keys[idx]])\n",
    "    idx += 1"
   ]
  },
  {
   "source": [
    "#### Ejercicio 3. \n",
    "\n",
    "Crea una clase \"Humano\" que tenga 3 atributos: \"edad\", \"altura\" y \"nombre\". Además, debe contar con dos funciones: \n",
    "\n",
    "- `cumplir_edad`: al llamar a esta función se debe sumar 1 a la edad actual del humano. \n",
    "- `registro_nombre` que recibe parametro \"nuevo_nombre\": al llamar a esta función con un parámetro de entrada, esta función debe cambiar el nombre del humano por el \"nuevo_nombre\"\n",
    "\n",
    "Crea un humano llamado \"Wolfram\" que tiene 23 años de edad y mide 173 centímetros. A \"Wolfram\" nunca le gustó su nombre. Por eso, usa la función correspondiente para cambiarle su nombre por \"Benacio\". Además, hoy es su cumpleaños por lo que usa la función para aumentar su edad. \n",
    "\n",
    "Muestra por pantalla el nombre del humano antes y después de cambiarse de nombre. Muestra también la edad de Benacio antes y después de cumplir años."
   ],
   "cell_type": "markdown",
   "metadata": {}
  },
  {
   "cell_type": "code",
   "execution_count": 50,
   "metadata": {},
   "outputs": [],
   "source": [
    "# tu respuesta aquí\n",
    "class Humano():\n",
    "    def __init__(self, edad, altura, nombre):\n",
    "        self.edad = edad\n",
    "        self.altura = altura\n",
    "        self.nombre = nombre\n",
    "    \n",
    "    def cumplir_edad(self):\n",
    "        edad_antigua = self.edad\n",
    "        self.edad += 1\n",
    "        return f'Felicidades {self.nombre}!! Antes tenias {edad_antigua} años y ahora tienes {self.edad}.'\n",
    "    \n",
    "    def registro_nombre(self, nuevo_nombre):\n",
    "        nombre_antiguo = self.nombre\n",
    "        self.nombre = nuevo_nombre\n",
    "        return f'Tu nombre era {nombre_antiguo} y ahora es {self.nombre}'\n",
    "        "
   ]
  },
  {
   "cell_type": "code",
   "execution_count": 51,
   "metadata": {},
   "outputs": [
    {
     "output_type": "stream",
     "name": "stdout",
     "text": [
      "Tu nombre era Wolfram y ahora es Benacio\n\n\nFelicidades Benacio!! Antes tenias 23 años y ahora tienes 24.\n"
     ]
    }
   ],
   "source": [
    "tio1 = Humano(23, 173, 'Wolfram')\n",
    "print(tio1.registro_nombre('Benacio'))\n",
    "print('\\n')\n",
    "print(tio1.cumplir_edad())"
   ]
  },
  {
   "source": [
    "#### Ejercicio 4. \n",
    "\n",
    "Escribe una función `reverse_number` que reciba dos parámetros. Los parámetros son `cadena` y `n`. `cadena` será un string y `n` un entero. La función debe retornar un string que sea el string `cadena` al revés y que tenga concatenado el número `n` por cada caracter de `cadena`.  \n",
    "\n",
    "*No se permite usar la función built-in `reverse` ni pasar el string `cadena` a otro tipo de variable (como list)* \n",
    "\n",
    "Ejemplos de llamada a la función y lo que devuelve la función:\n",
    "\n",
    "--------\n",
    "\n",
    ">> print(reverse_number(cadena=\"aloh\", n=3))\n",
    "\n",
    ">>> h3o3l3a3\n",
    "\n",
    "--------\n",
    "\n",
    ">> print(reverse_number(cadena=\"otipep\", n=85))\n",
    "\n",
    ">>> p85e85p85i85t85o85\n",
    "\n",
    "\n",
    "\n"
   ],
   "cell_type": "markdown",
   "metadata": {}
  },
  {
   "cell_type": "code",
   "execution_count": 52,
   "metadata": {},
   "outputs": [
    {
     "output_type": "stream",
     "name": "stdout",
     "text": [
      "a2l2o2h2\no7n7e7u7b7e7u7q7\n"
     ]
    }
   ],
   "source": [
    "def reverse_number (cadena, n):\n",
    "    new = ''\n",
    "    for i in range(1, len(cadena) + 1):\n",
    "        new += cadena[-i] + str(n)\n",
    "    return new\n",
    "print(reverse_number('hola', 2))\n",
    "print(reverse_number(cadena = 'quebueno', n = 7))"
   ]
  },
  {
   "cell_type": "code",
   "execution_count": null,
   "metadata": {},
   "outputs": [],
   "source": []
  }
 ]
}
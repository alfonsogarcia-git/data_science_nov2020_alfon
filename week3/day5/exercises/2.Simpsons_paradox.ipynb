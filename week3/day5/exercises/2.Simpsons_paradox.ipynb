version https://git-lfs.github.com/spec/v1
oid sha256:47af371d3d413b184c3fdcb51180c017e7b51802d32d97ec13f65011b15932f1
size 20545

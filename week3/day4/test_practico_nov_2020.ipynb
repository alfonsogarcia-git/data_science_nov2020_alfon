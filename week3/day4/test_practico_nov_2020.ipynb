version https://git-lfs.github.com/spec/v1
oid sha256:8b3919545c138a08a97641951446a7cb62285f42f6219b332f7ce76cf48a0f45
size 8090

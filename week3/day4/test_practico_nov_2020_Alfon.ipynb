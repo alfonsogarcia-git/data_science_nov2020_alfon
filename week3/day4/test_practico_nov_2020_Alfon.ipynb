version https://git-lfs.github.com/spec/v1
oid sha256:389eaafa9ec529f8252b26ef32f1315e5a031b3d807deccff9e9888b3e3320f7
size 17281

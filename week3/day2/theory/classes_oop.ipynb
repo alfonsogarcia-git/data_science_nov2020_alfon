version https://git-lfs.github.com/spec/v1
oid sha256:39cf26c5e6fd60fb9111f3a9a6c86bbf5ed96b44d5cfb4ddba885c6f583ba249
size 18311

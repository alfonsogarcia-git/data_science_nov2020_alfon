version https://git-lfs.github.com/spec/v1
oid sha256:1ca042eddc092a2df4d19801c50a58baa0842dccc67f985bbbcb014935b40fe5
size 20682

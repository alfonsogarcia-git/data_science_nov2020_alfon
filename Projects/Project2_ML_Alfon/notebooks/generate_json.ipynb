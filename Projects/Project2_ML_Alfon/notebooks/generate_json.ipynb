{
 "metadata": {
  "language_info": {
   "codemirror_mode": {
    "name": "ipython",
    "version": 3
   },
   "file_extension": ".py",
   "mimetype": "text/x-python",
   "name": "python",
   "nbconvert_exporter": "python",
   "pygments_lexer": "ipython3",
   "version": "3.8.0-final"
  },
  "orig_nbformat": 2,
  "kernelspec": {
   "name": "python3",
   "display_name": "Python 3.8.0 64-bit",
   "metadata": {
    "interpreter": {
     "hash": "aee8b7b246df8f9039afb4144a1f6fd8d2ca17a180786b69acc140d282b71a49"
    }
   }
  }
 },
 "nbformat": 4,
 "nbformat_minor": 2,
 "cells": [
  {
   "cell_type": "code",
   "execution_count": 1,
   "metadata": {},
   "outputs": [],
   "source": [
    "import numpy as np\n",
    "import pandas as pd\n",
    "import cv2"
   ]
  },
  {
   "cell_type": "code",
   "execution_count": 2,
   "metadata": {},
   "outputs": [
    {
     "output_type": "execute_result",
     "data": {
      "text/plain": [
       "                                                path         shape  rows  \\\n",
       "0  ../data/chest_pneumonia/train/normal/train_h_a...    (291, 291)   291   \n",
       "1  ../data/chest_pneumonia/train/normal/NORMAL2-I...  (2234, 2359)  2234   \n",
       "2  ../data/chest_pneumonia/train/normal/train_h_a...    (291, 291)   291   \n",
       "3  ../data/chest_pneumonia/train/normal/train_h_a...    (291, 291)   291   \n",
       "4  ../data/chest_pneumonia/train/normal/train_h_a...    (291, 291)   291   \n",
       "\n",
       "   columns    label  \n",
       "0      291  Healthy  \n",
       "1     2359  Healthy  \n",
       "2      291  Healthy  \n",
       "3      291  Healthy  \n",
       "4      291  Healthy  "
      ],
      "text/html": "<div>\n<style scoped>\n    .dataframe tbody tr th:only-of-type {\n        vertical-align: middle;\n    }\n\n    .dataframe tbody tr th {\n        vertical-align: top;\n    }\n\n    .dataframe thead th {\n        text-align: right;\n    }\n</style>\n<table border=\"1\" class=\"dataframe\">\n  <thead>\n    <tr style=\"text-align: right;\">\n      <th></th>\n      <th>path</th>\n      <th>shape</th>\n      <th>rows</th>\n      <th>columns</th>\n      <th>label</th>\n    </tr>\n  </thead>\n  <tbody>\n    <tr>\n      <th>0</th>\n      <td>../data/chest_pneumonia/train/normal/train_h_a...</td>\n      <td>(291, 291)</td>\n      <td>291</td>\n      <td>291</td>\n      <td>Healthy</td>\n    </tr>\n    <tr>\n      <th>1</th>\n      <td>../data/chest_pneumonia/train/normal/NORMAL2-I...</td>\n      <td>(2234, 2359)</td>\n      <td>2234</td>\n      <td>2359</td>\n      <td>Healthy</td>\n    </tr>\n    <tr>\n      <th>2</th>\n      <td>../data/chest_pneumonia/train/normal/train_h_a...</td>\n      <td>(291, 291)</td>\n      <td>291</td>\n      <td>291</td>\n      <td>Healthy</td>\n    </tr>\n    <tr>\n      <th>3</th>\n      <td>../data/chest_pneumonia/train/normal/train_h_a...</td>\n      <td>(291, 291)</td>\n      <td>291</td>\n      <td>291</td>\n      <td>Healthy</td>\n    </tr>\n    <tr>\n      <th>4</th>\n      <td>../data/chest_pneumonia/train/normal/train_h_a...</td>\n      <td>(291, 291)</td>\n      <td>291</td>\n      <td>291</td>\n      <td>Healthy</td>\n    </tr>\n  </tbody>\n</table>\n</div>"
     },
     "metadata": {},
     "execution_count": 2
    }
   ],
   "source": [
    "# Loading data\n",
    "train_df = pd.read_csv('../data/chest_pneumonia/training_data.csv')\n",
    "train_df.head()"
   ]
  },
  {
   "cell_type": "code",
   "execution_count": 3,
   "metadata": {},
   "outputs": [
    {
     "output_type": "execute_result",
     "data": {
      "text/plain": [
       "                                                  path        shape  rows  \\\n",
       "718  ../data/chest_pneumonia/test/pneumonia/person1...  (688, 1024)   688   \n",
       "719  ../data/chest_pneumonia/test/pneumonia/person1...  (672, 1088)   672   \n",
       "720  ../data/chest_pneumonia/test/pneumonia/person1...  (808, 1256)   808   \n",
       "721  ../data/chest_pneumonia/test/pneumonia/person8...   (648, 912)   648   \n",
       "722  ../data/chest_pneumonia/test/pneumonia/person1...   (640, 952)   640   \n",
       "\n",
       "     columns      label  \n",
       "718     1024  Bacterial  \n",
       "719     1088  Bacterial  \n",
       "720     1256  Bacterial  \n",
       "721      912  Bacterial  \n",
       "722      952  Bacterial  "
      ],
      "text/html": "<div>\n<style scoped>\n    .dataframe tbody tr th:only-of-type {\n        vertical-align: middle;\n    }\n\n    .dataframe tbody tr th {\n        vertical-align: top;\n    }\n\n    .dataframe thead th {\n        text-align: right;\n    }\n</style>\n<table border=\"1\" class=\"dataframe\">\n  <thead>\n    <tr style=\"text-align: right;\">\n      <th></th>\n      <th>path</th>\n      <th>shape</th>\n      <th>rows</th>\n      <th>columns</th>\n      <th>label</th>\n    </tr>\n  </thead>\n  <tbody>\n    <tr>\n      <th>718</th>\n      <td>../data/chest_pneumonia/test/pneumonia/person1...</td>\n      <td>(688, 1024)</td>\n      <td>688</td>\n      <td>1024</td>\n      <td>Bacterial</td>\n    </tr>\n    <tr>\n      <th>719</th>\n      <td>../data/chest_pneumonia/test/pneumonia/person1...</td>\n      <td>(672, 1088)</td>\n      <td>672</td>\n      <td>1088</td>\n      <td>Bacterial</td>\n    </tr>\n    <tr>\n      <th>720</th>\n      <td>../data/chest_pneumonia/test/pneumonia/person1...</td>\n      <td>(808, 1256)</td>\n      <td>808</td>\n      <td>1256</td>\n      <td>Bacterial</td>\n    </tr>\n    <tr>\n      <th>721</th>\n      <td>../data/chest_pneumonia/test/pneumonia/person8...</td>\n      <td>(648, 912)</td>\n      <td>648</td>\n      <td>912</td>\n      <td>Bacterial</td>\n    </tr>\n    <tr>\n      <th>722</th>\n      <td>../data/chest_pneumonia/test/pneumonia/person1...</td>\n      <td>(640, 952)</td>\n      <td>640</td>\n      <td>952</td>\n      <td>Bacterial</td>\n    </tr>\n  </tbody>\n</table>\n</div>"
     },
     "metadata": {},
     "execution_count": 3
    }
   ],
   "source": [
    "test_df = pd.read_csv('../data/chest_pneumonia/test_data.csv')\n",
    "test_df.tail()"
   ]
  },
  {
   "cell_type": "code",
   "execution_count": null,
   "metadata": {},
   "outputs": [],
   "source": [
    "max_rows_train = max(train_df['rows'])\n",
    "max_cols_train = max(train_df['columns'])\n",
    "max_rows_test = max(test_df['rows'])\n",
    "max_cols_test = max(test_df['columns'])\n",
    "biggest_dim = max(max_rows_train, max_cols_train, max_rows_test, max_cols_test)"
   ]
  },
  {
   "cell_type": "code",
   "execution_count": null,
   "metadata": {},
   "outputs": [],
   "source": [
    "# Training images\n",
    "\n",
    "train_imgs = np.zeros([len(train_df), biggest_dim // 10, biggest_dim // 10], dtype = 'uint8')\n",
    "for i in range(len(train_df)):\n",
    "    img = cv2.imread(train_df['path'][i], 0)\n",
    "    if img.shape != (biggest_dim // 10, biggest_dim // 10):\n",
    "        train_imgs[i] = cv2.resize(img, dsize=(biggest_dim //10, biggest_dim // 10), interpolation= cv2.INTER_CUBIC)\n",
    "     \n",
    "# Reshaping for keras input\n",
    "train_imgs = train_imgs.reshape(train_imgs.shape[0], train_imgs.shape[1], train_imgs.shape[2], 1)"
   ]
  },
  {
   "cell_type": "code",
   "execution_count": null,
   "metadata": {},
   "outputs": [],
   "source": [
    "train_imgs.shape"
   ]
  },
  {
   "cell_type": "code",
   "execution_count": null,
   "metadata": {},
   "outputs": [],
   "source": [
    "# Test images\n",
    "test_imgs = np.zeros([len(test_df), biggest_dim // 10, biggest_dim // 10], dtype = 'uint8')\n",
    "for i in range(len(test_df)):\n",
    "    img = cv2.imread(test_df['path'][i], 0)\n",
    "    if img.shape != (biggest_dim //10, biggest_dim // 10):\n",
    "        test_imgs[i] = cv2.resize(img, dsize=(biggest_dim //10, biggest_dim // 10), interpolation= cv2.INTER_CUBIC)\n",
    "     \n",
    "# Reshaping for keras input\n",
    "test_imgs = test_imgs.reshape(test_imgs.shape[0], test_imgs.shape[1], test_imgs.shape[2], 1)"
   ]
  },
  {
   "cell_type": "code",
   "execution_count": null,
   "metadata": {},
   "outputs": [],
   "source": [
    "test_imgs.shape"
   ]
  },
  {
   "source": [
    "# Saving json file of clean data"
   ],
   "cell_type": "markdown",
   "metadata": {}
  },
  {
   "cell_type": "code",
   "execution_count": null,
   "metadata": {},
   "outputs": [],
   "source": [
    "shapes = []\n",
    "for i in range(len(train_df)):\n",
    "    shapes.append(train_imgs[i, :, :, 0].shape)"
   ]
  },
  {
   "cell_type": "code",
   "execution_count": null,
   "metadata": {},
   "outputs": [],
   "source": [
    "clean_data_train_df = pd.DataFrame({'path': train_df['path'], 'image shape': shapes, 'label': train_df['label']})"
   ]
  },
  {
   "cell_type": "code",
   "execution_count": null,
   "metadata": {},
   "outputs": [],
   "source": [
    "shapes = []\n",
    "for i in range(len(test_df)):\n",
    "    shapes.append(test_imgs[i, :, :, 0].shape)"
   ]
  },
  {
   "cell_type": "code",
   "execution_count": null,
   "metadata": {},
   "outputs": [],
   "source": [
    "clean_data_test_df = pd.DataFrame({'path': test_df['path'], 'image shape': shapes, 'label': test_df['label']})"
   ]
  },
  {
   "cell_type": "code",
   "execution_count": null,
   "metadata": {},
   "outputs": [],
   "source": [
    "clean_data_df = clean_data_train_df.append(clean_data_test_df, ignore_index=True)"
   ]
  },
  {
   "cell_type": "code",
   "execution_count": null,
   "metadata": {},
   "outputs": [],
   "source": [
    "clean_data_df"
   ]
  },
  {
   "cell_type": "code",
   "execution_count": null,
   "metadata": {},
   "outputs": [],
   "source": [
    "# Exporting clean data to json file for the server\n",
    "clean_data_df.to_json('../reports/clean_data.json')"
   ]
  }
 ]
}
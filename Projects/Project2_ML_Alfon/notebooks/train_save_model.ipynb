{
 "metadata": {
  "language_info": {
   "codemirror_mode": {
    "name": "ipython",
    "version": 3
   },
   "file_extension": ".py",
   "mimetype": "text/x-python",
   "name": "python",
   "nbconvert_exporter": "python",
   "pygments_lexer": "ipython3",
   "version": "3.8.0-final"
  },
  "orig_nbformat": 2,
  "kernelspec": {
   "name": "python3",
   "display_name": "Python 3.8.0 64-bit",
   "metadata": {
    "interpreter": {
     "hash": "aee8b7b246df8f9039afb4144a1f6fd8d2ca17a180786b69acc140d282b71a49"
    }
   }
  }
 },
 "nbformat": 4,
 "nbformat_minor": 2,
 "cells": [
  {
   "source": [
    "Dataset Basic info:\n",
    "\n",
    "- Train images (and after agumentation):\n",
    "\n",
    "        - Normal Images: 1349 (2338)\n",
    "        - Virus images: 1345 (2341)\n",
    "        - Bacteria images: 2538 (same)\n",
    "        - Total: 5232\n",
    "\n",
    "- Test images:\n",
    "\n",
    "        - Normal Images: 234 (same)\n",
    "        - Virus images: 148 (246)\n",
    "        - Bacteria images: 242 (same)\n",
    "        - Total: 624\n"
   ],
   "cell_type": "markdown",
   "metadata": {}
  },
  {
   "cell_type": "code",
   "execution_count": 1,
   "metadata": {},
   "outputs": [
    {
     "output_type": "stream",
     "name": "stderr",
     "text": [
      "WARNING:root:Limited tf.compat.v2.summary API due to missing TensorBoard installation.\n",
      "WARNING:root:Limited tf.compat.v2.summary API due to missing TensorBoard installation.\n",
      "WARNING:root:Limited tf.compat.v2.summary API due to missing TensorBoard installation.\n",
      "WARNING:root:Limited tf.summary API due to missing TensorBoard installation.\n"
     ]
    }
   ],
   "source": [
    "# libraries\n",
    "import numpy as np\n",
    "import pandas as pd\n",
    "import cv2\n",
    "import os\n",
    "import matplotlib.pyplot as plt\n",
    "from sklearn.preprocessing import LabelEncoder\n",
    "import tensorflow as tf\n",
    "from tensorflow.keras import layers"
   ]
  },
  {
   "source": [
    "# Chest X-Ray Pneumonia Prediction"
   ],
   "cell_type": "markdown",
   "metadata": {}
  },
  {
   "cell_type": "code",
   "execution_count": 6,
   "metadata": {},
   "outputs": [
    {
     "output_type": "execute_result",
     "data": {
      "text/plain": [
       "                                                path         shape  rows  \\\n",
       "0  data/chest_pneumonia/train/normal/train_h_aug_...    (291, 291)   291   \n",
       "1  data/chest_pneumonia/train/normal/NORMAL2-IM-0...  (2234, 2359)  2234   \n",
       "2  data/chest_pneumonia/train/normal/train_h_aug_...    (291, 291)   291   \n",
       "3  data/chest_pneumonia/train/normal/train_h_aug_...    (291, 291)   291   \n",
       "4  data/chest_pneumonia/train/normal/train_h_aug_...    (291, 291)   291   \n",
       "\n",
       "   columns    label  \n",
       "0      291  Healthy  \n",
       "1     2359  Healthy  \n",
       "2      291  Healthy  \n",
       "3      291  Healthy  \n",
       "4      291  Healthy  "
      ],
      "text/html": "<div>\n<style scoped>\n    .dataframe tbody tr th:only-of-type {\n        vertical-align: middle;\n    }\n\n    .dataframe tbody tr th {\n        vertical-align: top;\n    }\n\n    .dataframe thead th {\n        text-align: right;\n    }\n</style>\n<table border=\"1\" class=\"dataframe\">\n  <thead>\n    <tr style=\"text-align: right;\">\n      <th></th>\n      <th>path</th>\n      <th>shape</th>\n      <th>rows</th>\n      <th>columns</th>\n      <th>label</th>\n    </tr>\n  </thead>\n  <tbody>\n    <tr>\n      <th>0</th>\n      <td>data/chest_pneumonia/train/normal/train_h_aug_...</td>\n      <td>(291, 291)</td>\n      <td>291</td>\n      <td>291</td>\n      <td>Healthy</td>\n    </tr>\n    <tr>\n      <th>1</th>\n      <td>data/chest_pneumonia/train/normal/NORMAL2-IM-0...</td>\n      <td>(2234, 2359)</td>\n      <td>2234</td>\n      <td>2359</td>\n      <td>Healthy</td>\n    </tr>\n    <tr>\n      <th>2</th>\n      <td>data/chest_pneumonia/train/normal/train_h_aug_...</td>\n      <td>(291, 291)</td>\n      <td>291</td>\n      <td>291</td>\n      <td>Healthy</td>\n    </tr>\n    <tr>\n      <th>3</th>\n      <td>data/chest_pneumonia/train/normal/train_h_aug_...</td>\n      <td>(291, 291)</td>\n      <td>291</td>\n      <td>291</td>\n      <td>Healthy</td>\n    </tr>\n    <tr>\n      <th>4</th>\n      <td>data/chest_pneumonia/train/normal/train_h_aug_...</td>\n      <td>(291, 291)</td>\n      <td>291</td>\n      <td>291</td>\n      <td>Healthy</td>\n    </tr>\n  </tbody>\n</table>\n</div>"
     },
     "metadata": {},
     "execution_count": 6
    }
   ],
   "source": [
    "# Loading data\n",
    "train_df = pd.read_csv('../data/chest_pneumonia/training_data.csv')\n",
    "train_df.head()"
   ]
  },
  {
   "cell_type": "code",
   "execution_count": 7,
   "metadata": {},
   "outputs": [
    {
     "output_type": "execute_result",
     "data": {
      "text/plain": [
       "                                                  path        shape  rows  \\\n",
       "717  data/chest_pneumonia/test/pneumonia/person120_...  (688, 1024)   688   \n",
       "718  data/chest_pneumonia/test/pneumonia/person171_...  (672, 1088)   672   \n",
       "719  data/chest_pneumonia/test/pneumonia/person109_...  (808, 1256)   808   \n",
       "720  data/chest_pneumonia/test/pneumonia/person83_b...   (648, 912)   648   \n",
       "721  data/chest_pneumonia/test/pneumonia/person112_...   (640, 952)   640   \n",
       "\n",
       "     columns      label  \n",
       "717     1024  Bacterial  \n",
       "718     1088  Bacterial  \n",
       "719     1256  Bacterial  \n",
       "720      912  Bacterial  \n",
       "721      952  Bacterial  "
      ],
      "text/html": "<div>\n<style scoped>\n    .dataframe tbody tr th:only-of-type {\n        vertical-align: middle;\n    }\n\n    .dataframe tbody tr th {\n        vertical-align: top;\n    }\n\n    .dataframe thead th {\n        text-align: right;\n    }\n</style>\n<table border=\"1\" class=\"dataframe\">\n  <thead>\n    <tr style=\"text-align: right;\">\n      <th></th>\n      <th>path</th>\n      <th>shape</th>\n      <th>rows</th>\n      <th>columns</th>\n      <th>label</th>\n    </tr>\n  </thead>\n  <tbody>\n    <tr>\n      <th>717</th>\n      <td>data/chest_pneumonia/test/pneumonia/person120_...</td>\n      <td>(688, 1024)</td>\n      <td>688</td>\n      <td>1024</td>\n      <td>Bacterial</td>\n    </tr>\n    <tr>\n      <th>718</th>\n      <td>data/chest_pneumonia/test/pneumonia/person171_...</td>\n      <td>(672, 1088)</td>\n      <td>672</td>\n      <td>1088</td>\n      <td>Bacterial</td>\n    </tr>\n    <tr>\n      <th>719</th>\n      <td>data/chest_pneumonia/test/pneumonia/person109_...</td>\n      <td>(808, 1256)</td>\n      <td>808</td>\n      <td>1256</td>\n      <td>Bacterial</td>\n    </tr>\n    <tr>\n      <th>720</th>\n      <td>data/chest_pneumonia/test/pneumonia/person83_b...</td>\n      <td>(648, 912)</td>\n      <td>648</td>\n      <td>912</td>\n      <td>Bacterial</td>\n    </tr>\n    <tr>\n      <th>721</th>\n      <td>data/chest_pneumonia/test/pneumonia/person112_...</td>\n      <td>(640, 952)</td>\n      <td>640</td>\n      <td>952</td>\n      <td>Bacterial</td>\n    </tr>\n  </tbody>\n</table>\n</div>"
     },
     "metadata": {},
     "execution_count": 7
    }
   ],
   "source": [
    "test_df = pd.read_csv('../data/chest_pneumonia/test_data.csv')\n",
    "test_df.tail()"
   ]
  },
  {
   "source": [
    "## Resizing images"
   ],
   "cell_type": "markdown",
   "metadata": {}
  },
  {
   "source": [
    "max_rows_train = max(train_df['rows'])\n",
    "max_cols_train = max(train_df['columns'])\n",
    "max_rows_test = max(test_df['rows'])\n",
    "max_cols_test = max(test_df['columns'])\n",
    "biggest_dim = max(max_rows_train, max_cols_train, max_rows_test, max_cols_test)"
   ],
   "cell_type": "code",
   "metadata": {},
   "execution_count": 8,
   "outputs": []
  },
  {
   "cell_type": "code",
   "execution_count": 7,
   "metadata": {},
   "outputs": [],
   "source": [
    "# Training images\n",
    "\n",
    "train_imgs = np.zeros([len(train_df), biggest_dim // 10, biggest_dim // 10], dtype = 'uint8')\n",
    "for i in range(len(train_df)):\n",
    "    img = cv2.imread(train_df['path'][i], 0)\n",
    "    if img.shape != (biggest_dim //10, biggest_dim // 10):\n",
    "        train_imgs[i] = cv2.resize(img, dsize=(biggest_dim //10, biggest_dim // 10,), interpolation= cv2.INTER_CUBIC)\n",
    "     \n",
    "# Reshaping for keras input\n",
    "train_imgs = train_imgs.reshape(train_imgs.shape[0], train_imgs.shape[1], train_imgs.shape[2], 1)"
   ]
  },
  {
   "cell_type": "code",
   "execution_count": 8,
   "metadata": {},
   "outputs": [
    {
     "output_type": "execute_result",
     "data": {
      "text/plain": [
       "(7217, 291, 291, 1)"
      ]
     },
     "metadata": {},
     "execution_count": 8
    }
   ],
   "source": [
    "train_imgs.shape"
   ]
  },
  {
   "cell_type": "code",
   "execution_count": 9,
   "metadata": {},
   "outputs": [],
   "source": [
    "# Test images\n",
    "test_imgs = np.zeros([len(test_df), biggest_dim // 10, biggest_dim // 10], dtype = 'uint8')\n",
    "for i in range(len(test_df)):\n",
    "    img = cv2.imread(test_df['path'][i], 0)\n",
    "    if img.shape != (biggest_dim //10, biggest_dim // 10):\n",
    "        test_imgs[i] = cv2.resize(img, dsize=(biggest_dim //10, biggest_dim // 10), interpolation= cv2.INTER_CUBIC)\n",
    "     \n",
    "# Reshaping for keras input\n",
    "test_imgs = test_imgs.reshape(test_imgs.shape[0], test_imgs.shape[1], test_imgs.shape[2], 1)"
   ]
  },
  {
   "cell_type": "code",
   "execution_count": 10,
   "metadata": {},
   "outputs": [
    {
     "output_type": "execute_result",
     "data": {
      "text/plain": [
       "(722, 291, 291, 1)"
      ]
     },
     "metadata": {},
     "execution_count": 10
    }
   ],
   "source": [
    "test_imgs.shape"
   ]
  },
  {
   "cell_type": "code",
   "execution_count": 11,
   "metadata": {},
   "outputs": [],
   "source": [
    "# Labels\n",
    "le = LabelEncoder()\n",
    "train_labels = np.array(train_df['label'])\n",
    "test_labels = np.array(test_df['label'])\n",
    "train_labels = le.fit_transform(train_labels)\n",
    "test_labels = le.fit_transform (test_labels)"
   ]
  },
  {
   "source": [
    "# Creating a Model and training"
   ],
   "cell_type": "markdown",
   "metadata": {}
  },
  {
   "cell_type": "code",
   "execution_count": 18,
   "metadata": {},
   "outputs": [
    {
     "output_type": "stream",
     "name": "stdout",
     "text": [
      "Model: \"sequential\"\n_________________________________________________________________\nLayer (type)                 Output Shape              Param #   \n=================================================================\nconv2d (Conv2D)              (None, 291, 291, 8)       80        \n_________________________________________________________________\nmax_pooling2d (MaxPooling2D) (None, 146, 146, 8)       0         \n_________________________________________________________________\ndropout (Dropout)            (None, 146, 146, 8)       0         \n_________________________________________________________________\nflatten (Flatten)            (None, 170528)            0         \n_________________________________________________________________\ndense (Dense)                (None, 32)                5456928   \n_________________________________________________________________\ndense_1 (Dense)              (None, 10)                330       \n=================================================================\nTotal params: 5,457,338\nTrainable params: 5,457,338\nNon-trainable params: 0\n_________________________________________________________________\n"
     ]
    }
   ],
   "source": [
    "# Building a model\n",
    "model = tf.keras.models.Sequential()\n",
    "model.add(layers.Conv2D(filters=8, \n",
    "                        kernel_size=(3, 3), \n",
    "                        input_shape=(291, 291, 1), \n",
    "                        padding='same'))\n",
    "model.add(layers.MaxPooling2D(pool_size=(2, 2), padding=\"same\"))\n",
    "model.add(layers.Dropout(0.25))\n",
    "model.add(layers.Flatten())\n",
    "model.add(layers.Dense(32, activation='relu'))\n",
    "model.add(layers.Dense(10, activation='softmax'))\n",
    "model.summary()"
   ]
  },
  {
   "source": [
    "# Compiling the model\n",
    "model.compile(optimizer='adam',\n",
    "              loss='sparse_categorical_crossentropy',\n",
    "              metrics=['accuracy'])"
   ],
   "cell_type": "code",
   "metadata": {},
   "execution_count": 19,
   "outputs": []
  },
  {
   "cell_type": "code",
   "execution_count": 20,
   "metadata": {},
   "outputs": [
    {
     "output_type": "stream",
     "name": "stdout",
     "text": [
      "Epoch 1/10\n",
      "226/226 [==============================] - 120s 529ms/step - loss: 646.2290 - accuracy: 0.5345\n",
      "Epoch 2/10\n",
      "226/226 [==============================] - 110s 486ms/step - loss: 22.6829 - accuracy: 0.6899\n",
      "Epoch 3/10\n",
      "226/226 [==============================] - 114s 504ms/step - loss: 4.1808 - accuracy: 0.7674\n",
      "Epoch 4/10\n",
      "226/226 [==============================] - 111s 491ms/step - loss: 2.0611 - accuracy: 0.7976\n",
      "Epoch 5/10\n",
      "226/226 [==============================] - 114s 502ms/step - loss: 1.8080 - accuracy: 0.8048\n",
      "Epoch 6/10\n",
      "226/226 [==============================] - 112s 496ms/step - loss: 1.4835 - accuracy: 0.8211\n",
      "Epoch 7/10\n",
      "226/226 [==============================] - 123s 542ms/step - loss: 1.2350 - accuracy: 0.8213\n",
      "Epoch 8/10\n",
      "226/226 [==============================] - 115s 507ms/step - loss: 1.3492 - accuracy: 0.8195\n",
      "Epoch 9/10\n",
      "226/226 [==============================] - 124s 547ms/step - loss: 5.2464 - accuracy: 0.8235\n",
      "Epoch 10/10\n",
      "226/226 [==============================] - 124s 548ms/step - loss: 3.8812 - accuracy: 0.7858\n"
     ]
    },
    {
     "output_type": "execute_result",
     "data": {
      "text/plain": [
       "<tensorflow.python.keras.callbacks.History at 0x7f7f0c275160>"
      ]
     },
     "metadata": {},
     "execution_count": 20
    }
   ],
   "source": [
    "model.fit(train_imgs, train_labels, epochs=10, verbose=1)"
   ]
  },
  {
   "cell_type": "code",
   "execution_count": 29,
   "metadata": {},
   "outputs": [],
   "source": [
    "# Saving the model\n",
    "model.save('../models/model_pneu.h5')"
   ]
  }
 ]
}
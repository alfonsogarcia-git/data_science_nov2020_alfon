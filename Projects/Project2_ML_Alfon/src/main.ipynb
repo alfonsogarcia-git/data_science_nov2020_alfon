{
 "metadata": {
  "language_info": {
   "codemirror_mode": {
    "name": "ipython",
    "version": 3
   },
   "file_extension": ".py",
   "mimetype": "text/x-python",
   "name": "python",
   "nbconvert_exporter": "python",
   "pygments_lexer": "ipython3",
   "version": "3.8.0-final"
  },
  "orig_nbformat": 2,
  "kernelspec": {
   "name": "python3",
   "display_name": "Python 3.8.0 64-bit",
   "metadata": {
    "interpreter": {
     "hash": "aee8b7b246df8f9039afb4144a1f6fd8d2ca17a180786b69acc140d282b71a49"
    }
   }
  }
 },
 "nbformat": 4,
 "nbformat_minor": 2,
 "cells": [
  {
   "source": [
    "Dataset Basic info:\n",
    "\n",
    "- Train images (and after agumentation):\n",
    "\n",
    "        - Normal Images: 1349 (2338)\n",
    "        - Virus images: 1345 (2341)\n",
    "        - Bacteria images: 2538 (same)\n",
    "        - Total: 5232\n",
    "\n",
    "- Test images:\n",
    "\n",
    "        - Normal Images: 234 (same)\n",
    "        - Virus images: 148 (246)\n",
    "        - Bacteria images: 242 (same)\n",
    "        - Total: 624\n"
   ],
   "cell_type": "markdown",
   "metadata": {}
  },
  {
   "cell_type": "code",
   "execution_count": 1,
   "metadata": {},
   "outputs": [
    {
     "output_type": "stream",
     "name": "stderr",
     "text": [
      "WARNING:root:Limited tf.compat.v2.summary API due to missing TensorBoard installation.\n",
      "WARNING:root:Limited tf.compat.v2.summary API due to missing TensorBoard installation.\n",
      "WARNING:root:Limited tf.compat.v2.summary API due to missing TensorBoard installation.\n",
      "WARNING:root:Limited tf.summary API due to missing TensorBoard installation.\n"
     ]
    }
   ],
   "source": [
    "# libraries\n",
    "import numpy as np\n",
    "import pandas as pd\n",
    "import cv2\n",
    "import os\n",
    "import matplotlib.pyplot as plt\n",
    "from sklearn.preprocessing import LabelEncoder\n",
    "import tensorflow as tf"
   ]
  },
  {
   "source": [
    "# Chest X-Ray Pneumonia Prediction"
   ],
   "cell_type": "markdown",
   "metadata": {}
  },
  {
   "cell_type": "code",
   "execution_count": 2,
   "metadata": {},
   "outputs": [
    {
     "output_type": "execute_result",
     "data": {
      "text/plain": [
       "                                                path         shape  rows  \\\n",
       "0  ../data/chest_pneumonia/train/normal/train_h_a...    (291, 291)   291   \n",
       "1  ../data/chest_pneumonia/train/normal/NORMAL2-I...  (2234, 2359)  2234   \n",
       "2  ../data/chest_pneumonia/train/normal/train_h_a...    (291, 291)   291   \n",
       "3  ../data/chest_pneumonia/train/normal/train_h_a...    (291, 291)   291   \n",
       "4  ../data/chest_pneumonia/train/normal/train_h_a...    (291, 291)   291   \n",
       "\n",
       "   columns    label  \n",
       "0      291  Healthy  \n",
       "1     2359  Healthy  \n",
       "2      291  Healthy  \n",
       "3      291  Healthy  \n",
       "4      291  Healthy  "
      ],
      "text/html": "<div>\n<style scoped>\n    .dataframe tbody tr th:only-of-type {\n        vertical-align: middle;\n    }\n\n    .dataframe tbody tr th {\n        vertical-align: top;\n    }\n\n    .dataframe thead th {\n        text-align: right;\n    }\n</style>\n<table border=\"1\" class=\"dataframe\">\n  <thead>\n    <tr style=\"text-align: right;\">\n      <th></th>\n      <th>path</th>\n      <th>shape</th>\n      <th>rows</th>\n      <th>columns</th>\n      <th>label</th>\n    </tr>\n  </thead>\n  <tbody>\n    <tr>\n      <th>0</th>\n      <td>../data/chest_pneumonia/train/normal/train_h_a...</td>\n      <td>(291, 291)</td>\n      <td>291</td>\n      <td>291</td>\n      <td>Healthy</td>\n    </tr>\n    <tr>\n      <th>1</th>\n      <td>../data/chest_pneumonia/train/normal/NORMAL2-I...</td>\n      <td>(2234, 2359)</td>\n      <td>2234</td>\n      <td>2359</td>\n      <td>Healthy</td>\n    </tr>\n    <tr>\n      <th>2</th>\n      <td>../data/chest_pneumonia/train/normal/train_h_a...</td>\n      <td>(291, 291)</td>\n      <td>291</td>\n      <td>291</td>\n      <td>Healthy</td>\n    </tr>\n    <tr>\n      <th>3</th>\n      <td>../data/chest_pneumonia/train/normal/train_h_a...</td>\n      <td>(291, 291)</td>\n      <td>291</td>\n      <td>291</td>\n      <td>Healthy</td>\n    </tr>\n    <tr>\n      <th>4</th>\n      <td>../data/chest_pneumonia/train/normal/train_h_a...</td>\n      <td>(291, 291)</td>\n      <td>291</td>\n      <td>291</td>\n      <td>Healthy</td>\n    </tr>\n  </tbody>\n</table>\n</div>"
     },
     "metadata": {},
     "execution_count": 2
    }
   ],
   "source": [
    "# Loading data\n",
    "train_df = pd.read_csv('../data/chest_pneumonia/training_data.csv')\n",
    "train_df.head()"
   ]
  },
  {
   "cell_type": "code",
   "execution_count": 3,
   "metadata": {},
   "outputs": [
    {
     "output_type": "execute_result",
     "data": {
      "text/plain": [
       "                                                  path        shape  rows  \\\n",
       "718  ../data/chest_pneumonia/test/pneumonia/person1...  (688, 1024)   688   \n",
       "719  ../data/chest_pneumonia/test/pneumonia/person1...  (672, 1088)   672   \n",
       "720  ../data/chest_pneumonia/test/pneumonia/person1...  (808, 1256)   808   \n",
       "721  ../data/chest_pneumonia/test/pneumonia/person8...   (648, 912)   648   \n",
       "722  ../data/chest_pneumonia/test/pneumonia/person1...   (640, 952)   640   \n",
       "\n",
       "     columns      label  \n",
       "718     1024  Bacterial  \n",
       "719     1088  Bacterial  \n",
       "720     1256  Bacterial  \n",
       "721      912  Bacterial  \n",
       "722      952  Bacterial  "
      ],
      "text/html": "<div>\n<style scoped>\n    .dataframe tbody tr th:only-of-type {\n        vertical-align: middle;\n    }\n\n    .dataframe tbody tr th {\n        vertical-align: top;\n    }\n\n    .dataframe thead th {\n        text-align: right;\n    }\n</style>\n<table border=\"1\" class=\"dataframe\">\n  <thead>\n    <tr style=\"text-align: right;\">\n      <th></th>\n      <th>path</th>\n      <th>shape</th>\n      <th>rows</th>\n      <th>columns</th>\n      <th>label</th>\n    </tr>\n  </thead>\n  <tbody>\n    <tr>\n      <th>718</th>\n      <td>../data/chest_pneumonia/test/pneumonia/person1...</td>\n      <td>(688, 1024)</td>\n      <td>688</td>\n      <td>1024</td>\n      <td>Bacterial</td>\n    </tr>\n    <tr>\n      <th>719</th>\n      <td>../data/chest_pneumonia/test/pneumonia/person1...</td>\n      <td>(672, 1088)</td>\n      <td>672</td>\n      <td>1088</td>\n      <td>Bacterial</td>\n    </tr>\n    <tr>\n      <th>720</th>\n      <td>../data/chest_pneumonia/test/pneumonia/person1...</td>\n      <td>(808, 1256)</td>\n      <td>808</td>\n      <td>1256</td>\n      <td>Bacterial</td>\n    </tr>\n    <tr>\n      <th>721</th>\n      <td>../data/chest_pneumonia/test/pneumonia/person8...</td>\n      <td>(648, 912)</td>\n      <td>648</td>\n      <td>912</td>\n      <td>Bacterial</td>\n    </tr>\n    <tr>\n      <th>722</th>\n      <td>../data/chest_pneumonia/test/pneumonia/person1...</td>\n      <td>(640, 952)</td>\n      <td>640</td>\n      <td>952</td>\n      <td>Bacterial</td>\n    </tr>\n  </tbody>\n</table>\n</div>"
     },
     "metadata": {},
     "execution_count": 3
    }
   ],
   "source": [
    "test_df = pd.read_csv('../data/chest_pneumonia/test_data.csv')\n",
    "test_df.tail()"
   ]
  },
  {
   "source": [
    "## Resizing images"
   ],
   "cell_type": "markdown",
   "metadata": {}
  },
  {
   "source": [
    "max_rows_train = max(train_df['rows'])\n",
    "max_cols_train = max(train_df['columns'])\n",
    "max_rows_test = max(test_df['rows'])\n",
    "max_cols_test = max(test_df['columns'])\n",
    "biggest_dim = max(max_rows_train, max_cols_train, max_rows_test, max_cols_test)"
   ],
   "cell_type": "code",
   "metadata": {},
   "execution_count": 4,
   "outputs": []
  },
  {
   "cell_type": "code",
   "execution_count": 5,
   "metadata": {},
   "outputs": [],
   "source": [
    "# Training images\n",
    "\n",
    "train_imgs = np.zeros([len(train_df), biggest_dim // 10, biggest_dim // 10], dtype = 'uint8')\n",
    "for i in range(len(train_df)):\n",
    "    img = cv2.imread(train_df['path'][i], 0)\n",
    "    if img.shape != (biggest_dim // 10, biggest_dim // 10):\n",
    "        train_imgs[i] = cv2.resize(img, dsize=(biggest_dim //10, biggest_dim // 10), interpolation= cv2.INTER_CUBIC)\n",
    "     \n",
    "# Reshaping for keras input\n",
    "train_imgs = train_imgs.reshape(train_imgs.shape[0], train_imgs.shape[1], train_imgs.shape[2], 1)"
   ]
  },
  {
   "cell_type": "code",
   "execution_count": 6,
   "metadata": {},
   "outputs": [
    {
     "output_type": "execute_result",
     "data": {
      "text/plain": [
       "(7217, 291, 291, 1)"
      ]
     },
     "metadata": {},
     "execution_count": 6
    }
   ],
   "source": [
    "train_imgs.shape"
   ]
  },
  {
   "cell_type": "code",
   "execution_count": 7,
   "metadata": {},
   "outputs": [],
   "source": [
    "# Test images\n",
    "test_imgs = np.zeros([len(test_df), biggest_dim // 10, biggest_dim // 10], dtype = 'uint8')\n",
    "for i in range(len(test_df)):\n",
    "    img = cv2.imread(test_df['path'][i], 0)\n",
    "    if img.shape != (biggest_dim //10, biggest_dim // 10):\n",
    "        test_imgs[i] = cv2.resize(img, dsize=(biggest_dim //10, biggest_dim // 10), interpolation= cv2.INTER_CUBIC)\n",
    "     \n",
    "# Reshaping for keras input\n",
    "test_imgs = test_imgs.reshape(test_imgs.shape[0], test_imgs.shape[1], test_imgs.shape[2], 1)"
   ]
  },
  {
   "cell_type": "code",
   "execution_count": 8,
   "metadata": {},
   "outputs": [
    {
     "output_type": "execute_result",
     "data": {
      "text/plain": [
       "(723, 291, 291, 1)"
      ]
     },
     "metadata": {},
     "execution_count": 8
    }
   ],
   "source": [
    "test_imgs.shape"
   ]
  },
  {
   "cell_type": "code",
   "execution_count": 4,
   "metadata": {},
   "outputs": [],
   "source": [
    "# Labels\n",
    "le = LabelEncoder()\n",
    "train_labels = np.array(train_df['label'])\n",
    "test_labels = np.array(test_df['label'])\n",
    "train_labels = le.fit_transform(train_labels)\n",
    "test_labels = le.fit_transform (test_labels)"
   ]
  },
  {
   "source": [
    "# Loading Trained Model and Predicting"
   ],
   "cell_type": "markdown",
   "metadata": {}
  },
  {
   "cell_type": "code",
   "execution_count": 10,
   "metadata": {},
   "outputs": [
    {
     "output_type": "stream",
     "name": "stdout",
     "text": [
      "Model: \"sequential\"\n_________________________________________________________________\nLayer (type)                 Output Shape              Param #   \n=================================================================\nconv2d (Conv2D)              (None, 291, 291, 8)       80        \n_________________________________________________________________\nmax_pooling2d (MaxPooling2D) (None, 146, 146, 8)       0         \n_________________________________________________________________\ndropout (Dropout)            (None, 146, 146, 8)       0         \n_________________________________________________________________\nflatten (Flatten)            (None, 170528)            0         \n_________________________________________________________________\ndense (Dense)                (None, 32)                5456928   \n_________________________________________________________________\ndense_1 (Dense)              (None, 10)                330       \n=================================================================\nTotal params: 5,457,338\nTrainable params: 5,457,338\nNon-trainable params: 0\n_________________________________________________________________\n"
     ]
    }
   ],
   "source": [
    "model = tf.keras.models.load_model('../models/model_pneu.h5')\n",
    "model.summary()"
   ]
  },
  {
   "cell_type": "code",
   "execution_count": 11,
   "metadata": {},
   "outputs": [],
   "source": [
    "predictions = np.argmax(model.predict(test_imgs), axis=-1)"
   ]
  },
  {
   "cell_type": "code",
   "execution_count": 12,
   "metadata": {},
   "outputs": [],
   "source": [
    "predictions_strings = le.inverse_transform(predictions)"
   ]
  },
  {
   "cell_type": "code",
   "execution_count": 13,
   "metadata": {},
   "outputs": [
    {
     "output_type": "stream",
     "name": "stdout",
     "text": [
      "23/23 [==============================] - 5s 139ms/step - loss: 22.6353 - accuracy: 0.7704\n"
     ]
    },
    {
     "output_type": "execute_result",
     "data": {
      "text/plain": [
       "[22.635337829589844, 0.770401120185852]"
      ]
     },
     "metadata": {},
     "execution_count": 13
    }
   ],
   "source": [
    "model.evaluate(test_imgs, test_labels)"
   ]
  },
  {
   "source": [
    "## Saving predictions"
   ],
   "cell_type": "markdown",
   "metadata": {}
  },
  {
   "cell_type": "code",
   "execution_count": 14,
   "metadata": {},
   "outputs": [],
   "source": [
    "predictions_df = pd.DataFrame({'image': test_df['path'], 'predicted_label': predictions_strings, 'true_label': test_df['label']})"
   ]
  },
  {
   "cell_type": "code",
   "execution_count": 15,
   "metadata": {},
   "outputs": [],
   "source": [
    "# Exporting predictions to html to open in web server\n",
    "predictions_df.to_html('api/static/predictions_df.html')"
   ]
  },
  {
   "cell_type": "code",
   "execution_count": 16,
   "metadata": {},
   "outputs": [],
   "source": [
    "# Exporting predictions to json to open in web server\n",
    "predictions_df.to_json('../reports/predictions.json')"
   ]
  },
  {
   "cell_type": "code",
   "execution_count": 17,
   "metadata": {},
   "outputs": [],
   "source": [
    "shapes = []\n",
    "for i in range(len(train_df)):\n",
    "    shapes.append(train_imgs[i, :, :, 0].shape)"
   ]
  },
  {
   "cell_type": "code",
   "execution_count": 18,
   "metadata": {},
   "outputs": [],
   "source": [
    "clean_data_train_df = pd.DataFrame({'path': train_df['path'], 'image shape': shapes, 'label': train_df['label']})"
   ]
  },
  {
   "cell_type": "code",
   "execution_count": 19,
   "metadata": {},
   "outputs": [],
   "source": [
    "shapes = []\n",
    "for i in range(len(test_df)):\n",
    "    shapes.append(test_imgs[i, :, :, 0].shape)"
   ]
  },
  {
   "cell_type": "code",
   "execution_count": 20,
   "metadata": {},
   "outputs": [],
   "source": [
    "clean_data_test_df = pd.DataFrame({'path': test_df['path'], 'image shape': shapes, 'label': test_df['label']})"
   ]
  },
  {
   "cell_type": "code",
   "execution_count": 21,
   "metadata": {},
   "outputs": [
    {
     "output_type": "execute_result",
     "data": {
      "text/plain": [
       "                                                  path image shape      label\n",
       "0    ../data/chest_pneumonia/test/normal/IM-0031-00...  (291, 291)    Healthy\n",
       "1    ../data/chest_pneumonia/test/normal/IM-0025-00...  (291, 291)    Healthy\n",
       "2    ../data/chest_pneumonia/test/normal/NORMAL2-IM...  (291, 291)    Healthy\n",
       "3    ../data/chest_pneumonia/test/normal/NORMAL2-IM...  (291, 291)    Healthy\n",
       "4    ../data/chest_pneumonia/test/normal/NORMAL2-IM...  (291, 291)    Healthy\n",
       "..                                                 ...         ...        ...\n",
       "718  ../data/chest_pneumonia/test/pneumonia/person1...  (291, 291)  Bacterial\n",
       "719  ../data/chest_pneumonia/test/pneumonia/person1...  (291, 291)  Bacterial\n",
       "720  ../data/chest_pneumonia/test/pneumonia/person1...  (291, 291)  Bacterial\n",
       "721  ../data/chest_pneumonia/test/pneumonia/person8...  (291, 291)  Bacterial\n",
       "722  ../data/chest_pneumonia/test/pneumonia/person1...  (291, 291)  Bacterial\n",
       "\n",
       "[723 rows x 3 columns]"
      ],
      "text/html": "<div>\n<style scoped>\n    .dataframe tbody tr th:only-of-type {\n        vertical-align: middle;\n    }\n\n    .dataframe tbody tr th {\n        vertical-align: top;\n    }\n\n    .dataframe thead th {\n        text-align: right;\n    }\n</style>\n<table border=\"1\" class=\"dataframe\">\n  <thead>\n    <tr style=\"text-align: right;\">\n      <th></th>\n      <th>path</th>\n      <th>image shape</th>\n      <th>label</th>\n    </tr>\n  </thead>\n  <tbody>\n    <tr>\n      <th>0</th>\n      <td>../data/chest_pneumonia/test/normal/IM-0031-00...</td>\n      <td>(291, 291)</td>\n      <td>Healthy</td>\n    </tr>\n    <tr>\n      <th>1</th>\n      <td>../data/chest_pneumonia/test/normal/IM-0025-00...</td>\n      <td>(291, 291)</td>\n      <td>Healthy</td>\n    </tr>\n    <tr>\n      <th>2</th>\n      <td>../data/chest_pneumonia/test/normal/NORMAL2-IM...</td>\n      <td>(291, 291)</td>\n      <td>Healthy</td>\n    </tr>\n    <tr>\n      <th>3</th>\n      <td>../data/chest_pneumonia/test/normal/NORMAL2-IM...</td>\n      <td>(291, 291)</td>\n      <td>Healthy</td>\n    </tr>\n    <tr>\n      <th>4</th>\n      <td>../data/chest_pneumonia/test/normal/NORMAL2-IM...</td>\n      <td>(291, 291)</td>\n      <td>Healthy</td>\n    </tr>\n    <tr>\n      <th>...</th>\n      <td>...</td>\n      <td>...</td>\n      <td>...</td>\n    </tr>\n    <tr>\n      <th>718</th>\n      <td>../data/chest_pneumonia/test/pneumonia/person1...</td>\n      <td>(291, 291)</td>\n      <td>Bacterial</td>\n    </tr>\n    <tr>\n      <th>719</th>\n      <td>../data/chest_pneumonia/test/pneumonia/person1...</td>\n      <td>(291, 291)</td>\n      <td>Bacterial</td>\n    </tr>\n    <tr>\n      <th>720</th>\n      <td>../data/chest_pneumonia/test/pneumonia/person1...</td>\n      <td>(291, 291)</td>\n      <td>Bacterial</td>\n    </tr>\n    <tr>\n      <th>721</th>\n      <td>../data/chest_pneumonia/test/pneumonia/person8...</td>\n      <td>(291, 291)</td>\n      <td>Bacterial</td>\n    </tr>\n    <tr>\n      <th>722</th>\n      <td>../data/chest_pneumonia/test/pneumonia/person1...</td>\n      <td>(291, 291)</td>\n      <td>Bacterial</td>\n    </tr>\n  </tbody>\n</table>\n<p>723 rows × 3 columns</p>\n</div>"
     },
     "metadata": {},
     "execution_count": 21
    }
   ],
   "source": [
    "clean_data_test_df"
   ]
  },
  {
   "cell_type": "code",
   "execution_count": 22,
   "metadata": {},
   "outputs": [],
   "source": [
    "clean_data_df = clean_data_train_df.append(clean_data_test_df, ignore_index=True)"
   ]
  },
  {
   "cell_type": "code",
   "execution_count": 23,
   "metadata": {},
   "outputs": [
    {
     "output_type": "execute_result",
     "data": {
      "text/plain": [
       "                                                   path image shape      label\n",
       "0     ../data/chest_pneumonia/train/normal/train_h_a...  (291, 291)    Healthy\n",
       "1     ../data/chest_pneumonia/train/normal/NORMAL2-I...  (291, 291)    Healthy\n",
       "2     ../data/chest_pneumonia/train/normal/train_h_a...  (291, 291)    Healthy\n",
       "3     ../data/chest_pneumonia/train/normal/train_h_a...  (291, 291)    Healthy\n",
       "4     ../data/chest_pneumonia/train/normal/train_h_a...  (291, 291)    Healthy\n",
       "...                                                 ...         ...        ...\n",
       "7935  ../data/chest_pneumonia/test/pneumonia/person1...  (291, 291)  Bacterial\n",
       "7936  ../data/chest_pneumonia/test/pneumonia/person1...  (291, 291)  Bacterial\n",
       "7937  ../data/chest_pneumonia/test/pneumonia/person1...  (291, 291)  Bacterial\n",
       "7938  ../data/chest_pneumonia/test/pneumonia/person8...  (291, 291)  Bacterial\n",
       "7939  ../data/chest_pneumonia/test/pneumonia/person1...  (291, 291)  Bacterial\n",
       "\n",
       "[7940 rows x 3 columns]"
      ],
      "text/html": "<div>\n<style scoped>\n    .dataframe tbody tr th:only-of-type {\n        vertical-align: middle;\n    }\n\n    .dataframe tbody tr th {\n        vertical-align: top;\n    }\n\n    .dataframe thead th {\n        text-align: right;\n    }\n</style>\n<table border=\"1\" class=\"dataframe\">\n  <thead>\n    <tr style=\"text-align: right;\">\n      <th></th>\n      <th>path</th>\n      <th>image shape</th>\n      <th>label</th>\n    </tr>\n  </thead>\n  <tbody>\n    <tr>\n      <th>0</th>\n      <td>../data/chest_pneumonia/train/normal/train_h_a...</td>\n      <td>(291, 291)</td>\n      <td>Healthy</td>\n    </tr>\n    <tr>\n      <th>1</th>\n      <td>../data/chest_pneumonia/train/normal/NORMAL2-I...</td>\n      <td>(291, 291)</td>\n      <td>Healthy</td>\n    </tr>\n    <tr>\n      <th>2</th>\n      <td>../data/chest_pneumonia/train/normal/train_h_a...</td>\n      <td>(291, 291)</td>\n      <td>Healthy</td>\n    </tr>\n    <tr>\n      <th>3</th>\n      <td>../data/chest_pneumonia/train/normal/train_h_a...</td>\n      <td>(291, 291)</td>\n      <td>Healthy</td>\n    </tr>\n    <tr>\n      <th>4</th>\n      <td>../data/chest_pneumonia/train/normal/train_h_a...</td>\n      <td>(291, 291)</td>\n      <td>Healthy</td>\n    </tr>\n    <tr>\n      <th>...</th>\n      <td>...</td>\n      <td>...</td>\n      <td>...</td>\n    </tr>\n    <tr>\n      <th>7935</th>\n      <td>../data/chest_pneumonia/test/pneumonia/person1...</td>\n      <td>(291, 291)</td>\n      <td>Bacterial</td>\n    </tr>\n    <tr>\n      <th>7936</th>\n      <td>../data/chest_pneumonia/test/pneumonia/person1...</td>\n      <td>(291, 291)</td>\n      <td>Bacterial</td>\n    </tr>\n    <tr>\n      <th>7937</th>\n      <td>../data/chest_pneumonia/test/pneumonia/person1...</td>\n      <td>(291, 291)</td>\n      <td>Bacterial</td>\n    </tr>\n    <tr>\n      <th>7938</th>\n      <td>../data/chest_pneumonia/test/pneumonia/person8...</td>\n      <td>(291, 291)</td>\n      <td>Bacterial</td>\n    </tr>\n    <tr>\n      <th>7939</th>\n      <td>../data/chest_pneumonia/test/pneumonia/person1...</td>\n      <td>(291, 291)</td>\n      <td>Bacterial</td>\n    </tr>\n  </tbody>\n</table>\n<p>7940 rows × 3 columns</p>\n</div>"
     },
     "metadata": {},
     "execution_count": 23
    }
   ],
   "source": [
    "clean_data_df"
   ]
  },
  {
   "cell_type": "code",
   "execution_count": 24,
   "metadata": {},
   "outputs": [],
   "source": [
    "# Exporting clean data to json file for the server\n",
    "clean_data_df.to_json('../reports/clean_data.json')"
   ]
  }
 ]
}